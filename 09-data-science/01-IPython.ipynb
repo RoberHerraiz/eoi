{
 "cells": [
  {
   "cell_type": "markdown",
   "metadata": {},
   "source": [
    "# IPyphon - Beyond Normal Python"
   ]
  },
  {
   "cell_type": "markdown",
   "metadata": {},
   "source": [
    "Pequeño repaso a cómo funciona ipython."
   ]
  },
  {
   "cell_type": "markdown",
   "metadata": {},
   "source": [
    "**Fuente:** https://jakevdp.github.io/PythonDataScienceHandbook/01.00-ipython-beyond-normal-python.html"
   ]
  },
  {
   "cell_type": "code",
   "execution_count": 7,
   "metadata": {},
   "outputs": [],
   "source": [
    "a = 'pepe'"
   ]
  },
  {
   "cell_type": "markdown",
   "metadata": {},
   "source": [
    "Usando `a.lower?` podemos invocar a la ayuda de IPython"
   ]
  },
  {
   "cell_type": "markdown",
   "metadata": {},
   "source": [
    "Con `dir(square())` para buscar todos los métodos de la función"
   ]
  },
  {
   "cell_type": "markdown",
   "metadata": {},
   "source": [
    "Tabulador para completar. Dentro del tab shift tab va hacia detrás"
   ]
  },
  {
   "cell_type": "markdown",
   "metadata": {},
   "source": [
    "Algunos shortcuts con los bindings por defecto:\n",
    "\n",
    "- `Control + a`: Ir al principio de la línea\n",
    "- `Control + e`: Ir al final de la línea\n",
    "- `Control + u`: Borrar desde el cursor hacia detrás\n",
    "- `Control + k`: Borrar desde el cursos hacia delante"
   ]
  },
  {
   "cell_type": "markdown",
   "metadata": {},
   "source": [
    "#### Comandos mágicos"
   ]
  },
  {
   "cell_type": "markdown",
   "metadata": {},
   "source": [
    "- `%` - actuan sobre una línea\n",
    "\n",
    "- `%%` - actuan sobre una celda\n",
    "\n",
    "- `%%paste 'código'` - Para pegar cosas pegadas de internet como:"
   ]
  },
  {
   "cell_type": "raw",
   "metadata": {},
   "source": [
    "def donothing(x):\n",
    "...     return x"
   ]
  },
  {
   "cell_type": "markdown",
   "metadata": {},
   "source": [
    "- `%run \"fichero\"` - Para usar código externo\n",
    "- `%load \"fichero\"` - Te carga en ipython el texto del fichero\n",
    "- `%%timeit \"código\"` - Te permite saber cuánto tarda en ejecutar una celda. Lo hace varias veces.\n",
    "- `%lsmagic ` - Lista todos los comandos magic\n",
    "- `%history -n x-y` - Lista el rango de historia, x e y determinan el rango\n",
    "- `%save fichero rango` - Permite guardar en un fichero el rango del history"
   ]
  },
  {
   "cell_type": "markdown",
   "metadata": {},
   "source": [
    "El Input y el Output son diccionarios, se puede acceder usando `In[x]` o `Out[x]`. Se pueden operar, meter en variables, modificar..."
   ]
  },
  {
   "cell_type": "markdown",
   "metadata": {},
   "source": [
    "Si usamos `_` es como el `ans` de las calculadoras, usa el valor anterior"
   ]
  },
  {
   "cell_type": "markdown",
   "metadata": {},
   "source": [
    "Podemos acceder al output con `_x`"
   ]
  },
  {
   "cell_type": "code",
   "execution_count": 24,
   "metadata": {},
   "outputs": [
    {
     "name": "stdout",
     "output_type": "stream",
     "text": [
      "pepe\n"
     ]
    }
   ],
   "source": [
    "print(a)"
   ]
  },
  {
   "cell_type": "code",
   "execution_count": 26,
   "metadata": {},
   "outputs": [
    {
     "data": {
      "text/plain": [
       "'print(a)'"
      ]
     },
     "execution_count": 26,
     "metadata": {},
     "output_type": "execute_result"
    }
   ],
   "source": [
    "In[24]"
   ]
  },
  {
   "cell_type": "code",
   "execution_count": 27,
   "metadata": {},
   "outputs": [
    {
     "ename": "KeyError",
     "evalue": "24",
     "output_type": "error",
     "traceback": [
      "\u001b[0;31m---------------------------------------------------------------------------\u001b[0m",
      "\u001b[0;31mKeyError\u001b[0m                                  Traceback (most recent call last)",
      "\u001b[0;32m<ipython-input-27-3cb9675df0f3>\u001b[0m in \u001b[0;36m<module>\u001b[0;34m\u001b[0m\n\u001b[0;32m----> 1\u001b[0;31m \u001b[0mOut\u001b[0m\u001b[0;34m[\u001b[0m\u001b[0;36m24\u001b[0m\u001b[0;34m]\u001b[0m\u001b[0;34m\u001b[0m\u001b[0;34m\u001b[0m\u001b[0m\n\u001b[0m",
      "\u001b[0;31mKeyError\u001b[0m: 24"
     ]
    }
   ],
   "source": [
    "Out[24]"
   ]
  },
  {
   "cell_type": "code",
   "execution_count": null,
   "metadata": {},
   "outputs": [],
   "source": []
  }
 ],
 "metadata": {
  "kernelspec": {
   "display_name": "Python 3.8.2 64-bit",
   "language": "python",
   "name": "python38264bit7f65af4527304534bb6b7a0c4f4a1487"
  },
  "language_info": {
   "codemirror_mode": {
    "name": "ipython",
    "version": 3
   },
   "file_extension": ".py",
   "mimetype": "text/x-python",
   "name": "python",
   "nbconvert_exporter": "python",
   "pygments_lexer": "ipython3",
   "version": "3.8.2"
  }
 },
 "nbformat": 4,
 "nbformat_minor": 4
}
