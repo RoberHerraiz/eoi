{
 "cells": [
  {
   "cell_type": "markdown",
   "metadata": {},
   "source": [
    "# Introducción a la Administración de Sistemas"
   ]
  },
  {
   "cell_type": "markdown",
   "metadata": {},
   "source": [
    "Tenemos cuatro patas principales, CPU, Memoria, HDD y red."
   ]
  },
  {
   "cell_type": "markdown",
   "metadata": {},
   "source": [
    "## CPU:\n",
    "\n",
    "- Una \"caja\" que procesa entradas (estímulos) y darnos como resultado una salida.\n",
    "\n",
    "- Las entradas pueden ser de muchos tipos, cómo matemáticas o de \"interacción\".\n",
    "\n",
    "- Hacen millones de operaciones por segundo.\n",
    "\n",
    "- Funcionan por ciclos, que son aprox cada 2 vibraciones (o Herzios). 3.5GHz son 3.500 Hz.\n",
    "\n",
    "- Ahora mismo son multicores, tienen más de una unidad funcional.\n",
    "\n",
    "\n",
    "\n"
   ]
  },
  {
   "cell_type": "markdown",
   "metadata": {},
   "source": [
    "## Memoria:\n",
    "\n",
    "La más conocida es la RAM, Random Access Memory.\n",
    "\n",
    "Hay varios tipos: DDR (tecnología, double data rate), LPDR (de menor consumo), ECC (servidores, Error Correcting Code)"
   ]
  },
  {
   "cell_type": "markdown",
   "metadata": {},
   "source": [
    "## HDD:\n",
    "\n",
    "Tenemos tres tipos, los antiguos HDD, los actuales SSD (mucho más rápidos que los HDD).\n",
    "\n",
    "El tercer tipo es el NvMe (modifican el intercambio de datos, no usan SATA)"
   ]
  },
  {
   "cell_type": "markdown",
   "metadata": {},
   "source": [
    "## Red:"
   ]
  },
  {
   "cell_type": "code",
   "execution_count": null,
   "metadata": {},
   "outputs": [],
   "source": []
  }
 ],
 "metadata": {
  "kernelspec": {
   "display_name": "Python 3.8.2 64-bit",
   "language": "python",
   "name": "python38264bit7f65af4527304534bb6b7a0c4f4a1487"
  },
  "language_info": {
   "codemirror_mode": {
    "name": "ipython",
    "version": 3
   },
   "file_extension": ".py",
   "mimetype": "text/x-python",
   "name": "python",
   "nbconvert_exporter": "python",
   "pygments_lexer": "ipython3",
   "version": "3.8.2"
  }
 },
 "nbformat": 4,
 "nbformat_minor": 4
}
