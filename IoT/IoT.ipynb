{
 "cells": [
  {
   "cell_type": "markdown",
   "metadata": {},
   "source": [
    "# Internet of Things"
   ]
  },
  {
   "cell_type": "markdown",
   "metadata": {},
   "source": [
    "El microcontrolador que estamos usando es NodeMCU v1.0. ESP-12E.\n",
    "\n",
    "Al encender el microcontrolador se carga el boot.py y luego el main.py.\n",
    "\n",
    "Casi todos los main.py van a trabajar con un bucle while."
   ]
  },
  {
   "cell_type": "markdown",
   "metadata": {},
   "source": [
    "## NUNCA CONECTAR POSITIVO Y NEGATIVO CON UN CABLE!!!!!!!!"
   ]
  },
  {
   "cell_type": "markdown",
   "metadata": {},
   "source": [
    "## Hello world:"
   ]
  },
  {
   "cell_type": "code",
   "execution_count": null,
   "metadata": {},
   "outputs": [],
   "source": [
    "import machine\n",
    "import utime\n",
    "\n",
    "led = machine.Pin(2, machine.Pin.OUT)\n",
    "\n",
    "while True:\n",
    "    led.on()\n",
    "    utime.sleep(1)\n",
    "    led.off()\n",
    "    utime.sleep(1)"
   ]
  },
  {
   "cell_type": "markdown",
   "metadata": {},
   "source": [
    "## Estado del botón:"
   ]
  },
  {
   "cell_type": "code",
   "execution_count": null,
   "metadata": {},
   "outputs": [],
   "source": [
    "import machine\n",
    "import utime\n",
    "led = machine.Pin(2, machine.Pin.OUT)\n",
    "boton = machine.Pin(0, machine.Pin.IN)\n",
    "while True:\n",
    "\n",
    "    estado_boton = boton.value()\n",
    "    print(estado_boton)\n",
    "    led.value(estado_boton)\n",
    "    utime.sleep(0.1)"
   ]
  },
  {
   "cell_type": "markdown",
   "metadata": {},
   "source": [
    "## Pull.UP para definir voltaje a 0 y 1"
   ]
  },
  {
   "cell_type": "code",
   "execution_count": null,
   "metadata": {},
   "outputs": [],
   "source": [
    "from machine import Pin\n",
    "import utime\n",
    "\n",
    "boton2 = Pin(16, Pin.PULL_UP)\n",
    "\n",
    "while True:\n",
    "    valor = boton2.value()\n",
    "    print('valor: {}'.format(valor))\n",
    "    utime.sleep(0.1)\n",
    "\n",
    "# Hay que conectar un cable dupont al pin 16 y a tierra hace que el value sea 0"
   ]
  },
  {
   "cell_type": "markdown",
   "metadata": {},
   "source": [
    "## Recreación salida analógica con una salida digital"
   ]
  },
  {
   "cell_type": "markdown",
   "metadata": {},
   "source": [
    "Usamos PWM para dar una salida analógica mediante una digital. Nos permites más estados que 0 y 1."
   ]
  },
  {
   "cell_type": "code",
   "execution_count": null,
   "metadata": {},
   "outputs": [],
   "source": [
    "from machine import Pin, PWM\n",
    "import utime\n",
    "\n",
    "led = Pin(2, Pin.OUT)\n",
    "led_pwm = PWM(led) # la frequencia se puede especificar ahí como segundo elemento de la tupla o por separado\n",
    "\n",
    "led_pwm.freq(500)\n",
    "\n",
    "while True:\n",
    "    for i in range(1023):\n",
    "        led_pwm.duty(i)\n",
    "        utime.sleep_ms(3)\n",
    "    for i in range(1023, 0, -1):\n",
    "        led_pwm.duty(i)\n",
    "        utime.sleep_ms(3)"
   ]
  },
  {
   "cell_type": "markdown",
   "metadata": {},
   "source": [
    "Con PWM podemos usar servos y ccntrolar así el movimiento que hace, siendo `0` y `1` los valores límite y los intermedios, posiciones intermedias."
   ]
  },
  {
   "cell_type": "markdown",
   "metadata": {},
   "source": [
    "Podemos hacer lo mismo pero con un potenciómetro (que no tenemos) y depende del voltaje, da más intensidad o menos."
   ]
  },
  {
   "cell_type": "code",
   "execution_count": null,
   "metadata": {},
   "outputs": [],
   "source": [
    "from machine import Pin, PWM, ADC\n",
    "import utime\n",
    "\n",
    "led = Pin(2, Pin.OUT)\n",
    "led_pwm = PWM(led)\n",
    "led_pwm.freq(1000)\n",
    "\n",
    "pot = ADC(0)\n",
    "\n",
    "while True:\n",
    "    lectura = pot.read()\n",
    "    led_pwm.duty(lectura)\n",
    "    print(lectura)\n",
    "    utime.sleep(0.5)"
   ]
  },
  {
   "cell_type": "markdown",
   "metadata": {},
   "source": [
    "## Los Timers:"
   ]
  },
  {
   "cell_type": "markdown",
   "metadata": {},
   "source": [
    "Se usan con `machine.Timer()` y se usan para tareas recurrentes o para hacer contadores.\n",
    "\n",
    "Con `Timer(-1)` tenemos un timer simulado por software y con otros números los de hardware.\n",
    "\n",
    "Iniciamos con .init() y los parámetros son:\n",
    "- `period`: El periodo, cada cuánto se activa\n",
    "- `mode`: Tenemos el `ONE_SHOT`, que se activa una vez y el `PERIODIC`, que se activa cada los milisegundos indicados.\n",
    "- `callback`: Podemos especificar un callback, usando funciones (incluyendo lambdas)."
   ]
  },
  {
   "cell_type": "code",
   "execution_count": null,
   "metadata": {},
   "outputs": [],
   "source": [
    "from machine import Pin, PWM, ADC\n",
    "import utime\n",
    "\n",
    "tim = Timer(-1)\n",
    "\n",
    "def texto(x): # x es el lugar en memoria de la instancia\n",
    "    print('hola') # nunca poner un sleep aquí, ya que se romperá con el period de abajo\n",
    "\n",
    "tim.init(period=1000, mode=Timer.PERIODIC, callback=texto)"
   ]
  },
  {
   "cell_type": "markdown",
   "metadata": {},
   "source": [
    "Podemos usar `time.deinit()` para parar el timer. Si hacemos un sleep antes, el timer se va a estar ejecutando durante ese tiempo, lo que nos permite controlar las veces que se ejecuta."
   ]
  },
  {
   "cell_type": "code",
   "execution_count": null,
   "metadata": {},
   "outputs": [],
   "source": [
    "from machine import Pin, PWM, ADC, Timer\n",
    "import utime\n",
    "\n",
    "tim = Timer(-1)\n",
    "\n",
    "def texto(x):\n",
    "    print('hola')\n",
    "\n",
    "tim.init(period=1000, mode=Timer.PERIODIC, callback=texto)\n",
    "\n",
    "utime.sleep(3)\n",
    "\n",
    "tim.deinit()"
   ]
  },
  {
   "cell_type": "markdown",
   "metadata": {},
   "source": [
    "La técnica usada anteriormente para leer el botón se llama pulling. Lee el estado periódicamente del botón. No funciona bien con sleeps muy altos.\n",
    "\n",
    "Podemos usar un timer para lanzar un callback cuando se pulse. Para ello se usa el método `.irq()`, que tiene dos parámetros:\n",
    "- `función`: La función que debe ejecutar\n",
    "- `trigger`: Define lo que hará que se lance la señal.\n",
    "    - `IRQ_FALLING`: Pulsación del botón\n",
    "    - `IRQ_RISING`: Soltar el botón"
   ]
  },
  {
   "cell_type": "code",
   "execution_count": null,
   "metadata": {},
   "outputs": [],
   "source": [
    "from machine import Pin, PWM, ADC, Timer\n",
    "import utime\n",
    "\n",
    "def boton_callback(x):\n",
    "    print('botón pulsado')\n",
    "\n",
    "boton = Pin(0, Pin.IN)\n",
    "boton.irq(boton_callback, trigger=Pin.IRQ_FALLING) # tráfico descendente\n",
    "\n",
    "while True:\n",
    "    estado = boton.value()\n",
    "    print('x')\n",
    "    utime.sleep(0.1)"
   ]
  },
  {
   "cell_type": "markdown",
   "metadata": {},
   "source": [
    "Otra implementación:"
   ]
  },
  {
   "cell_type": "code",
   "execution_count": null,
   "metadata": {},
   "outputs": [],
   "source": [
    "from machine import Pin, PWM, ADC, Timer\n",
    "import utime\n",
    "\n",
    "boton_pulsado= False\n",
    "\n",
    "def boton_callback(x):\n",
    "    global boton_pulsado\n",
    "    boton_pulsado = True\n",
    "\n",
    "boton = Pin(0, Pin.IN)\n",
    "boton.irq(boton_callback, trigger=Pin.IRQ_FALLING) # tráfico descendente\n",
    "\n",
    "while True:\n",
    "    print('x')\n",
    "    if boton_pulsado:\n",
    "        print(\"boton_pulsado\")\n",
    "        boton_pulsado = False\n",
    "    utime.sleep(0.1)"
   ]
  },
  {
   "cell_type": "markdown",
   "metadata": {},
   "source": [
    "En el mundo real hay un montón de ruido al pulsar el botón y no es tan fácil capturar el raising y el falling. Se puede lidiar con ese problema de forma manual o usando librerías específicas. Usando el código anterior, nos metemos en el bucle:"
   ]
  },
  {
   "cell_type": "code",
   "execution_count": null,
   "metadata": {},
   "outputs": [],
   "source": [
    "from machine import Pin, PWM, ADC, Timer\n",
    "import utime\n",
    "\n",
    "boton_pulsado = False\n",
    "tiempo_inicio_boton = 0\n",
    "\n",
    "def boton_callback(x):\n",
    "    global boton_pulsado, tiempo_inicio_boton\n",
    "    boton_pulsado = True\n",
    "    tiempo_inicio_boton = utime.ticks_ms()    \n",
    "\n",
    "\n",
    "boton = Pin(0, Pin.IN)\n",
    "boton.irq(boton_callback, trigger=Pin.IRQ_FALLING)\n",
    "\n",
    "while True:\n",
    "    print(\"x\")\n",
    "    if boton_pulsado:\n",
    "        print(\"boton pulsado marca {}\".format(tiempo_inicio_boton))\n",
    "        ahora =  utime.ticks_ms()  \n",
    "        tiempo_boton = utime.ticks_diff(ahora, tiempo_inicio_boton)\n",
    "\n",
    "        print(tiempo_boton)\n",
    "        if tiempo_boton < 50:\n",
    "            utime.sleep_ms(50-tiempo_boton)\n",
    "        estado = boton.value()\n",
    "        if estado:\n",
    "            print(\"esto es ruido, no hacer nada\")\n",
    "        else:\n",
    "            print(\"boton pulsado de verdad\")\n",
    "        utime.sleep(0.5) #antirrebotes\n",
    "        boton_pulsado = False\n",
    "    utime.sleep(0.1)"
   ]
  },
  {
   "cell_type": "markdown",
   "metadata": {},
   "source": [
    "Para más implementaciones: http://docs.micropython.org/en/v1.9.3/pyboard/pyboard/tutorial/debounce.html"
   ]
  },
  {
   "cell_type": "markdown",
   "metadata": {},
   "source": [
    "### Otras librerías interesantes:\n",
    "- `machine`\n",
    "- `utime`\n",
    "- `esp`"
   ]
  },
  {
   "cell_type": "code",
   "execution_count": null,
   "metadata": {},
   "outputs": [],
   "source": [
    "from machine import Pin\n",
    "from utime import sleep\n",
    "\n",
    "class Boton:\n",
    "    def __init__(self, pin_n):\n",
    "        self.boton = Pin(pin_n, Pin.IN) # PULL_UP\n",
    "        self.boton.irq(self.pulsado_cb, Pin.IRQ_FALLING)\n",
    "        self.pulsado = False\n",
    "\n",
    "    def pulsado_cb(self, inst):\n",
    "        self.pulsado = True\n",
    "\n",
    "    def get_pulsado(self):\n",
    "        if not self.pulsado:\n",
    "            return False\n",
    "        self.pulsado = False\n",
    "        return True\n",
    "\n",
    "\n",
    "\n",
    "boton = Boton(0)\n",
    "\n",
    "\n",
    "while True:\n",
    "    if boton.get_pulsado():\n",
    "        print('se ha pulsado el boton')\n",
    "    print('x', end=\"\")\n",
    "    sleep(0.5)"
   ]
  },
  {
   "cell_type": "markdown",
   "metadata": {},
   "source": [
    "Mismo código pero con las ayudas para detectar bien el botón"
   ]
  },
  {
   "cell_type": "code",
   "execution_count": null,
   "metadata": {},
   "outputs": [],
   "source": [
    "from machine import Pin\n",
    "from utime import sleep\n",
    "import micropython\n",
    "\n",
    "class Boton:\n",
    "    def __init__(self, pin_n):\n",
    "        self.boton = Pin(pin_n, Pin.IN) # PULL_UP\n",
    "        self.boton.irq(self.pulsado_cb, Pin.IRQ_FALLING)\n",
    "        self.pulsado = False\n",
    "\n",
    "    def pulsado_cb(self, inst):\n",
    "        micropython.schedule(self.post_pulsado_cb, 0)\n",
    "\n",
    "    def post_pulsado_cb(self, inst):\n",
    "        # aqui puedo hacer operaciones más caras, ya que lo hace el rtOS\n",
    "        # self.pulsado = True\n",
    "        self.boton.irq(self.liberado_cb, Pin.IRQ_RISING)\n",
    "\n",
    "    def liberado_cb(self, inst):\n",
    "        micropython.schedule(self.post_liberado_cb, 0)\n",
    "\n",
    "    def post_liberado_cb(self, inst):\n",
    "        self.pulsado = True\n",
    "        self.boton.irq(self.pulsado_cb, Pin.IRQ_FALLING)\n",
    "\n",
    "    def get_pulsado(self):\n",
    "        if not self.pulsado:\n",
    "            return False\n",
    "        self.pulsado = False\n",
    "        return True\n",
    "\n",
    "\n",
    "\n",
    "boton = Boton(0)\n",
    "\n",
    "\n",
    "while True:\n",
    "    if boton.get_pulsado():\n",
    "        print('\\nse ha pulsado el boton')\n",
    "    print('x', end=\"\")\n",
    "    sleep(0.5)\n"
   ]
  },
  {
   "cell_type": "markdown",
   "metadata": {},
   "source": [
    "# Redes"
   ]
  },
  {
   "cell_type": "code",
   "execution_count": null,
   "metadata": {},
   "outputs": [],
   "source": [
    "import network\n",
    "\n",
    "red = network.WLAN(network.AP_IF)\n",
    "red.active(True)\n",
    "red.config(essid=\"MicroPython\", password=\"12345678\")"
   ]
  },
  {
   "cell_type": "markdown",
   "metadata": {},
   "source": [
    "##  AP con web para controlar el led"
   ]
  },
  {
   "cell_type": "code",
   "execution_count": null,
   "metadata": {},
   "outputs": [],
   "source": [
    "import network\n",
    "import usocket as socket\n",
    "from machine import Pin\n",
    "\n",
    "def web_page(estado):\n",
    "    html = \"\"\"<html><head> <title>Ejemplo 1</title> <meta name=\"viewport\" content=\"width=device-width, initial-scale=1\">\n",
    "    <link rel=\"icon\" href=\"data:;base64,iVBORw0KGgo=\"><style>html{font-family: Helvetica; display:inline-block; margin: 0px auto; text-align: center;}\n",
    "    h1{color: #0F3376; padding: 2vh;}p{font-size: 1.5rem;}.button{display: inline-block; background-color: #e7bd3b; border: none;\n",
    "    border-radius: 4px; color: white; padding: 16px 40px; text-decoration: none; font-size: 30px; margin: 2px; cursor: pointer;}\n",
    "    .button2{background-color: #4286f4;}</style></head><body> <h1>CONTROL DE LED</h1>\n",
    "    <p>Estado LED: <strong> \"\"\" + estado + \"\"\" </strong></p><p><a href=\"/?led=on\"><button class=\"button\">ON</button></a></p>\n",
    "    <p><a href=\"/?led=off\"><button class=\"button button2\">OFF</button></a></p></body></html>\"\"\"\n",
    "    return html\n",
    "\n",
    "led = Pin(2, Pin.OUT)\n",
    "led.value(1)\n",
    "\n",
    "red = network.WLAN(network.AP_IF)\n",
    "red.active(True)\n",
    "red.config(essid=\"MicroPython\", password=\"12345678\")\n",
    "\n",
    "print(red.ifconfig())\n",
    "\n",
    "sock = socket.socket(socket.AF_INET, socket.SOCK_STREAM)\n",
    "sock.bind(('0.0.0.0', 80))\n",
    "sock.listen(5)\n",
    "# sock.settimeout(30)\n",
    "\n",
    "while True:\n",
    "    print('Esperando conexion...')\n",
    "    conn, addr = sock.accept()\n",
    "    print(addr)\n",
    "    request = conn.recv(1024)\n",
    "    request_str = request.decode()\n",
    "    print(request_str)\n",
    "    respuesta = '<h1>Hola, mundo</h1> yo soy Rober'\n",
    "    ledon = request_str.find(\"/?led=on\")\n",
    "    print(ledon)\n",
    "    ledoff = request_str.find(\"/?led=off\")\n",
    "    print(ledoff)\n",
    "\n",
    "    estado_led = led.value()\n",
    "    estado_str = \"ENCENDIDO\" if not estado_led else \"APAGADO\"\n",
    "\n",
    "    if  ledon == 4:\n",
    "        led.value(0)\n",
    "        respuesta = \"Led encendido\"\n",
    "    elif ledoff == 4:\n",
    "        respuesta = \"Led apagado\"\n",
    "        led.value(1)\n",
    "\n",
    "    conn.sendall('HTTP/1.1 200 OK\\n')\n",
    "    conn.sendall('Content-Type: text/html\\n')\n",
    "    conn.sendall('Connection: close\\n\\n')\n",
    "    conn.sendall(web_page(estado_str))\n",
    "    conn.close()\n"
   ]
  },
  {
   "cell_type": "markdown",
   "metadata": {},
   "source": [
    "## Conexión a tu wifi"
   ]
  },
  {
   "cell_type": "code",
   "execution_count": null,
   "metadata": {},
   "outputs": [],
   "source": [
    "from machine import Pin\n",
    "import network\n",
    "import utime as time\n",
    "\n",
    "from credenciales import ssid, password # hay que crear el fichero credenciales\n",
    "\n",
    "\n",
    "# Configurar hardware\n",
    "led = Pin(2, Pin.OUT)\n",
    "\n",
    "\n",
    "# Conexión wifi\n",
    "led.value(0)\n",
    "print('\\nConectandose a wifi...', end='')\n",
    "red = network.WLAN(network.STA_IF)\n",
    "red.active(True)\n",
    "red.connect(ssid, password)\n",
    "while not red.isconnected(): # Espera hasta que conecte\n",
    "    time.sleep(0.1)\n",
    "\n",
    "print('conectado!')\n",
    "print(red.ifconfig())\n",
    "led.value(1)"
   ]
  },
  {
   "cell_type": "code",
   "execution_count": 1,
   "metadata": {},
   "outputs": [],
   "source": [
    "# Fichero credenciales\n",
    "\n",
    "ssid = \"wifi\"\n",
    "password = \"contraseña\""
   ]
  },
  {
   "cell_type": "markdown",
   "metadata": {},
   "source": [
    "## Misma web para encender o apagar led"
   ]
  },
  {
   "cell_type": "code",
   "execution_count": null,
   "metadata": {},
   "outputs": [],
   "source": [
    "from machine import Pin\n",
    "import network\n",
    "import utime as time\n",
    "\n",
    "from credenciales import ssid, password # hay que crear el fichero credenciales\n",
    "from corneto import Corneto\n",
    "\n",
    "# Configurar hardware\n",
    "led = Pin(2, Pin.OUT)\n",
    "\n",
    "\n",
    "# Conexión wifi\n",
    "led.value(0)\n",
    "print('\\nConectandose a wifi...', end='')\n",
    "red = network.WLAN(network.STA_IF)\n",
    "red.active(True)\n",
    "red.connect(ssid, password)\n",
    "while not red.isconnected(): # Espera hasta que conecte\n",
    "    time.sleep(0.1)\n",
    "\n",
    "print('conectado!')\n",
    "print(red.ifconfig())\n",
    "led.value(1)\n",
    "\n",
    "web = Corneto()\n",
    "\n",
    "def home(x):\n",
    "    contexto = {\n",
    "        \"tiempo\": str(time.ticks_ms() // 1000),\n",
    "\n",
    "    }\n",
    "    return(\"index.html\", contexto)\n",
    "\n",
    "def config(x):\n",
    "    contexto = {}\n",
    "    return(\"configuracion.html\", contexto)\n",
    "\n",
    "def led_encender(x):\n",
    "    led.value(0)\n",
    "    contexto = {}\n",
    "    return(\"luz.html\", contexto)\n",
    "\n",
    "def led_apagar(x):\n",
    "    led.value(1)\n",
    "    contexto = {}\n",
    "    return(\"luz.html\", contexto)\n",
    "\n",
    "web.add_view('/', home)\n",
    "web.add_view('/configuracion', config)\n",
    "web.add_view('/encender', led_encender)\n",
    "web.add_view('/apagar', led_apagar)\n",
    "\n",
    "\n",
    "web.run_server()"
   ]
  },
  {
   "cell_type": "markdown",
   "metadata": {},
   "source": [
    "## Programa para enviar mensaje por UDP"
   ]
  },
  {
   "cell_type": "code",
   "execution_count": null,
   "metadata": {},
   "outputs": [],
   "source": [
    "# Desde el microcontrolador\n",
    "\n",
    "from machine import Pin\n",
    "import network\n",
    "import utime as time\n",
    "import usocket as socket\n",
    "\n",
    "from credenciales import ssid, password # hay que crear el fichero credenciales\n",
    "\n",
    "# Configurar hardware\n",
    "led = Pin(2, Pin.OUT)\n",
    "\n",
    "\n",
    "# Conexión wifi\n",
    "led.value(0)\n",
    "print('\\nConectandose 2a wifi...', end='')\n",
    "red = network.WLAN(network.STA_IF)\n",
    "red.active(True)\n",
    "red.connect(ssid, password)\n",
    "while not red.isconnected(): # Espera hasta que conecte\n",
    "    time.sleep(0.1)\n",
    "print('conectado!')\n",
    "print(red.ifconfig())\n",
    "led.value(1)\n",
    "\n",
    "while True:\n",
    "    sock = socket.socket(socket.AF_INET, socket.SOCK_DGRAM)\n",
    "    sock.settimeout(3)\n",
    "    mensaje = b\"Hola, mundo!\"\n",
    "    print(mensaje)\n",
    "    sock.sendto(mensaje, (\"192.168.1.255\", 5005))\n",
    "    # sock.setsockopt(SOL_SOCKET, SO_BROADCAST, 1) # esto en usocket no funciona bien\n",
    "    try:\n",
    "        data, addr = sock.recvfrom(512)\n",
    "        print(addr)\n",
    "        print(data)\n",
    "    except OSError: # TIMEOUT\n",
    "        print(\"no hay respuesta\")\n",
    "    sock.close()\n",
    "    led.value(0)\n",
    "    time.sleep(0.1)\n",
    "    led.value(1)\n",
    "    time.sleep(1)"
   ]
  },
  {
   "cell_type": "code",
   "execution_count": 2,
   "metadata": {
    "collapsed": true,
    "jupyter": {
     "outputs_hidden": true
    }
   },
   "outputs": [
    {
     "name": "stdout",
     "output_type": "stream",
     "text": [
      "Escuchando por el puerto 5005\n",
      "('192.168.1.115', 4097)\n",
      "b'Hola, mundo!'\n",
      "('192.168.1.115', 4097)\n",
      "b'Hola, mundo!'\n",
      "('192.168.1.115', 4097)\n",
      "b'Hola, mundo!'\n",
      "('192.168.1.115', 4097)\n",
      "b'Hola, mundo!'\n",
      "('192.168.1.115', 4097)\n",
      "b'Hola, mundo!'\n",
      "('192.168.1.115', 4097)\n",
      "b'Hola, mundo!'\n"
     ]
    }
   ],
   "source": [
    "# Desde servidor\n",
    "\n",
    "import socket\n",
    "\n",
    "UDP_PORT = 5005\n",
    "\n",
    "sock = socket.socket(socket.AF_INET, socket.SOCK_DGRAM)\n",
    "sock.bind((\"0.0.0.0\", UDP_PORT))\n",
    "print(\"Escuchando por el puerto {}\".format(UDP_PORT))\n",
    "\n",
    "try:\n",
    "    while True:\n",
    "        \n",
    "        try:\n",
    "            data, addr = sock.recvfrom(512)\n",
    "\n",
    "        except socket.timeout:\n",
    "            continue\n",
    "\n",
    "        print(addr)\n",
    "        print(data)\n",
    "        sock.sendto(b'Te he oido', addr)\n",
    "\n",
    "except KeyboardInterrupt:\n",
    "    sock.close()"
   ]
  },
  {
   "cell_type": "markdown",
   "metadata": {},
   "source": [
    "## Usar `ntptime` para obtener el datetime"
   ]
  },
  {
   "cell_type": "code",
   "execution_count": null,
   "metadata": {},
   "outputs": [],
   "source": [
    "# el schedule nos da problemas\n",
    "\n",
    "from machine import Pin, RTC\n",
    "import network\n",
    "import ntptime\n",
    "from micropython import schedule\n",
    "import utime as time\n",
    "import usocket as socket\n",
    "\n",
    "from credenciales import ssid, password # hay que crear el fichero credenciales\n",
    "\n",
    "# Configurar hardware\n",
    "led = Pin(2, Pin.OUT)\n",
    "\n",
    "\n",
    "# Conexión wifi\n",
    "led.value(0)\n",
    "print('\\nConectandose 2a wifi...', end='')\n",
    "red = network.WLAN(network.STA_IF)\n",
    "red.active(True)\n",
    "red.connect(ssid, password)\n",
    "while not red.isconnected(): # Espera hasta que conecte\n",
    "    time.sleep(0.1)\n",
    "print('conectado!')\n",
    "print(red.ifconfig())\n",
    "led.value(1)\n",
    "\n",
    "rtc = RTC()\n",
    "rtc.datetime((2020,6,15,19,2,0,0,0)) # configuración de hora manual\n",
    "\n",
    "ntptime.settime()\n",
    "rtc.datetime()\n",
    "print(rtc.datetime())\n",
    "\n",
    "def texto_cb():\n",
    "    print(rtc.datetime())\n",
    "\n",
    "schedule.every(2).minutes.do(texto_cb)\n",
    "\n",
    "while True:\n",
    "    schedule.run_pending()\n",
    "    time.sleep(1)"
   ]
  },
  {
   "cell_type": "markdown",
   "metadata": {},
   "source": [
    "## Instalar urequests"
   ]
  },
  {
   "cell_type": "code",
   "execution_count": null,
   "metadata": {},
   "outputs": [],
   "source": [
    "from machine import Pin\n",
    "import utime as time\n",
    "import network\n",
    "\n",
    "\n",
    "from credenciales import ssid, password\n",
    "\n",
    "\n",
    "led = Pin(2, Pin.OUT)\n",
    "\n",
    "\n",
    "led.value(0)\n",
    "print('\\nConectandose a la wifi...', end='')\n",
    "red = network.WLAN(network.STA_IF)\n",
    "red.active(True)\n",
    "red.connect(ssid, password)\n",
    "while not red.isconnected():\n",
    "    time.sleep(0.1)\n",
    "print('conectado!')\n",
    "print(red.ifconfig())\n",
    "led.value(1)\n",
    "\n",
    "import upip\n",
    "upip.install('micropython-urequests')"
   ]
  },
  {
   "cell_type": "markdown",
   "metadata": {},
   "source": [
    "## Llamadas `API` usando JSON"
   ]
  },
  {
   "cell_type": "code",
   "execution_count": null,
   "metadata": {},
   "outputs": [],
   "source": []
  }
 ],
 "metadata": {
  "kernelspec": {
   "display_name": "Python 3",
   "language": "python",
   "name": "python3"
  },
  "language_info": {
   "codemirror_mode": {
    "name": "ipython",
    "version": 3
   },
   "file_extension": ".py",
   "mimetype": "text/x-python",
   "name": "python",
   "nbconvert_exporter": "python",
   "pygments_lexer": "ipython3",
   "version": "3.8.3"
  }
 },
 "nbformat": 4,
 "nbformat_minor": 4
}
