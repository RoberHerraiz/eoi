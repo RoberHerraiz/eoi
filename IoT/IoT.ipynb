{
 "cells": [
  {
   "cell_type": "markdown",
   "metadata": {},
   "source": [
    "# Internet of Things"
   ]
  },
  {
   "cell_type": "markdown",
   "metadata": {},
   "source": [
    "El microcontrolador que estamos usando es NodeMCU v1.0. ESP-12E.\n",
    "\n",
    "Al encender el microcontrolador se carga el boot.py y luego el main.py.\n",
    "\n",
    "Casi todos los main.py van a trabajar con un bucle while."
   ]
  },
  {
   "cell_type": "markdown",
   "metadata": {},
   "source": [
    "## NUNCA CONECTAR POSITIVO Y NEGATIVO CON UN CABLE!!!!!!!!"
   ]
  },
  {
   "cell_type": "markdown",
   "metadata": {},
   "source": [
    "## Hello world:"
   ]
  },
  {
   "cell_type": "code",
   "execution_count": null,
   "metadata": {},
   "outputs": [],
   "source": [
    "import machine\n",
    "import utime\n",
    "\n",
    "led = machine.Pin(2, machine.Pin.OUT)\n",
    "\n",
    "while True:\n",
    "    led.on()\n",
    "    utime.sleep(1)\n",
    "    led.off()\n",
    "    utime.sleep(1)"
   ]
  },
  {
   "cell_type": "markdown",
   "metadata": {},
   "source": [
    "## Estado del botón:"
   ]
  },
  {
   "cell_type": "code",
   "execution_count": null,
   "metadata": {},
   "outputs": [],
   "source": [
    "import machine\n",
    "import utime\n",
    "led = machine.Pin(2, machine.Pin.OUT)\n",
    "boton = machine.Pin(0, machine.Pin.IN)\n",
    "while True:\n",
    "\n",
    "    estado_boton = boton.value()\n",
    "    print(estado_boton)\n",
    "    led.value(estado_boton)\n",
    "    utime.sleep(0.1)"
   ]
  },
  {
   "cell_type": "markdown",
   "metadata": {},
   "source": [
    "## Pull.UP para definir voltaje a 0 y 1"
   ]
  },
  {
   "cell_type": "code",
   "execution_count": null,
   "metadata": {},
   "outputs": [],
   "source": [
    "from machine import Pin\n",
    "import utime\n",
    "\n",
    "boton2 = Pin(16, Pin.PULL_UP)\n",
    "\n",
    "while True:\n",
    "    valor = boton2.value()\n",
    "    print('valor: {}'.format(valor))\n",
    "    utime.sleep(0.1)\n",
    "\n",
    "# Hay que conectar un cable dupont al pin 16 y a tierra hace que el value sea 0"
   ]
  },
  {
   "cell_type": "markdown",
   "metadata": {},
   "source": [
    "## Recreación salida analógica con una salida digital"
   ]
  },
  {
   "cell_type": "markdown",
   "metadata": {},
   "source": [
    "Usamos PWM para dar una salida analógica mediante una digital. Nos permites más estados que 0 y 1."
   ]
  },
  {
   "cell_type": "code",
   "execution_count": null,
   "metadata": {},
   "outputs": [],
   "source": [
    "from machine import Pin, PWM\n",
    "import utime\n",
    "\n",
    "led = Pin(2, Pin.OUT)\n",
    "led_pwm = PWM(led) # la frequencia se puede especificar ahí como segundo elemento de la tupla o por separado\n",
    "\n",
    "led_pwm.freq(500)\n",
    "\n",
    "while True:\n",
    "    for i in range(1023):\n",
    "        led_pwm.duty(i)\n",
    "        utime.sleep_ms(3)\n",
    "    for i in range(1023, 0, -1):\n",
    "        led_pwm.duty(i)\n",
    "        utime.sleep_ms(3)"
   ]
  },
  {
   "cell_type": "markdown",
   "metadata": {},
   "source": [
    "Con PWM podemos usar servos y ccntrolar así el movimiento que hace, siendo `0` y `1` los valores límite y los intermedios, posiciones intermedias."
   ]
  },
  {
   "cell_type": "markdown",
   "metadata": {},
   "source": [
    "Podemos hacer lo mismo pero con un potenciómetro (que no tenemos) y depende del voltaje, da más intensidad o menos."
   ]
  },
  {
   "cell_type": "code",
   "execution_count": null,
   "metadata": {},
   "outputs": [],
   "source": [
    "from machine import Pin, PWM, ADC\n",
    "import utime\n",
    "\n",
    "led = Pin(2, Pin.OUT)\n",
    "led_pwm = PWM(led)\n",
    "led_pwm.freq(1000)\n",
    "\n",
    "pot = ADC(0)\n",
    "\n",
    "while True:\n",
    "    lectura = pot.read()\n",
    "    led_pwm.duty(lectura)\n",
    "    print(lectura)\n",
    "    utime.sleep(0.5)"
   ]
  },
  {
   "cell_type": "markdown",
   "metadata": {},
   "source": [
    "## Los Timers:"
   ]
  },
  {
   "cell_type": "markdown",
   "metadata": {},
   "source": [
    "Se usan con `machine.Timer()` y se usan para tareas recurrentes o para hacer contadores.\n",
    "\n",
    "Con `Timer(-1)` tenemos un timer simulado por software y con otros números los de hardware.\n",
    "\n",
    "Iniciamos con .init() y los parámetros son:\n",
    "- `period`: El periodo, cada cuánto se activa\n",
    "- `mode`: Tenemos el `ONE_SHOT`, que se activa una vez y el `PERIODIC`, que se activa cada los milisegundos indicados.\n",
    "- `callback`: Podemos especificar un callback, usando funciones (incluyendo lambdas)."
   ]
  },
  {
   "cell_type": "code",
   "execution_count": null,
   "metadata": {},
   "outputs": [],
   "source": [
    "from machine import Pin, PWM, ADC\n",
    "import utime\n",
    "\n",
    "tim = Timer(-1)\n",
    "\n",
    "def texto(x): # x es el lugar en memoria de la instancia\n",
    "    print('hola') # nunca poner un sleep aquí, ya que se romperá con el period de abajo\n",
    "\n",
    "tim.init(period=1000, mode=Timer.PERIODIC, callback=texto)"
   ]
  },
  {
   "cell_type": "markdown",
   "metadata": {},
   "source": [
    "Podemos usar `time.deinit()` para parar el timer. Si hacemos un sleep antes, el timer se va a estar ejecutando durante ese tiempo, lo que nos permite controlar las veces que se ejecuta."
   ]
  },
  {
   "cell_type": "code",
   "execution_count": null,
   "metadata": {},
   "outputs": [],
   "source": [
    "from machine import Pin, PWM, ADC, Timer\n",
    "import utime\n",
    "\n",
    "tim = Timer(-1)\n",
    "\n",
    "def texto(x):\n",
    "    print('hola')\n",
    "\n",
    "tim.init(period=1000, mode=Timer.PERIODIC, callback=texto)\n",
    "\n",
    "utime.sleep(3)\n",
    "\n",
    "tim.deinit()"
   ]
  },
  {
   "cell_type": "markdown",
   "metadata": {},
   "source": [
    "La técnica usada anteriormente para leer el botón se llama pulling. Lee el estado periódicamente del botón. No funciona bien con sleeps muy altos.\n",
    "\n",
    "Podemos usar un timer para lanzar un callback cuando se pulse. Para ello se usa el método `.irq()`, que tiene dos parámetros:\n",
    "- `función`: La función que debe ejecutar\n",
    "- `trigger`: Define lo que hará que se lance la señal.\n",
    "    - `IRQ_FALLING`: Pulsación del botón\n",
    "    - `IRQ_RISING`: Soltar el botón"
   ]
  },
  {
   "cell_type": "code",
   "execution_count": null,
   "metadata": {},
   "outputs": [],
   "source": [
    "from machine import Pin, PWM, ADC, Timer\n",
    "import utime\n",
    "\n",
    "def boton_callback(x):\n",
    "    print('botón pulsado')\n",
    "\n",
    "boton = Pin(0, Pin.IN)\n",
    "boton.irq(boton_callback, trigger=Pin.IRQ_FALLING) # tráfico descendente\n",
    "\n",
    "while True:\n",
    "    estado = boton.value()\n",
    "    print('x')\n",
    "    utime.sleep(0.1)"
   ]
  },
  {
   "cell_type": "markdown",
   "metadata": {},
   "source": [
    "Otra implementación:"
   ]
  },
  {
   "cell_type": "code",
   "execution_count": null,
   "metadata": {},
   "outputs": [],
   "source": [
    "from machine import Pin, PWM, ADC, Timer\n",
    "import utime\n",
    "\n",
    "boton_pulsado= False\n",
    "\n",
    "def boton_callback(x):\n",
    "    global boton_pulsado\n",
    "    boton_pulsado = True\n",
    "\n",
    "boton = Pin(0, Pin.IN)\n",
    "boton.irq(boton_callback, trigger=Pin.IRQ_FALLING) # tráfico descendente\n",
    "\n",
    "while True:\n",
    "    print('x')\n",
    "    if boton_pulsado:\n",
    "        print(\"boton_pulsado\")\n",
    "        boton_pulsado = False\n",
    "    utime.sleep(0.1)"
   ]
  },
  {
   "cell_type": "markdown",
   "metadata": {},
   "source": [
    "En el mundo real hay un montón de ruido al pulsar el botón y no es tan fácil capturar el raising y el falling. Se puede lidiar con ese problema de forma manual o usando librerías específicas. Usando el código anterior, nos metemos en el bucle:"
   ]
  },
  {
   "cell_type": "code",
   "execution_count": null,
   "metadata": {},
   "outputs": [],
   "source": [
    "from machine import Pin, PWM, ADC, Timer\n",
    "import utime\n",
    "\n",
    "boton_pulsado = False\n",
    "tiempo_inicio_boton = 0\n",
    "\n",
    "def boton_callback(x):\n",
    "    global boton_pulsado, tiempo_inicio_boton\n",
    "    boton_pulsado = True\n",
    "    tiempo_inicio_boton = utime.ticks_ms()    \n",
    "\n",
    "\n",
    "boton = Pin(0, Pin.IN)\n",
    "boton.irq(boton_callback, trigger=Pin.IRQ_FALLING)\n",
    "\n",
    "while True:\n",
    "    print(\"x\")\n",
    "    if boton_pulsado:\n",
    "        print(\"boton pulsado marca {}\".format(tiempo_inicio_boton))\n",
    "        ahora =  utime.ticks_ms()  \n",
    "        tiempo_boton = utime.ticks_diff(ahora, tiempo_inicio_boton)\n",
    "\n",
    "        print(tiempo_boton)\n",
    "        if tiempo_boton < 50:\n",
    "            utime.sleep_ms(50-tiempo_boton)\n",
    "        estado = boton.value()\n",
    "        if estado:\n",
    "            print(\"esto es ruido, no hacer nada\")\n",
    "        else:\n",
    "            print(\"boton pulsado de verdad\")\n",
    "        utime.sleep(0.5) #antirrebotes\n",
    "        boton_pulsado = False\n",
    "    utime.sleep(0.1)"
   ]
  },
  {
   "cell_type": "markdown",
   "metadata": {},
   "source": [
    "Para más implementaciones: http://docs.micropython.org/en/v1.9.3/pyboard/pyboard/tutorial/debounce.html"
   ]
  },
  {
   "cell_type": "markdown",
   "metadata": {},
   "source": [
    "### Otras librerías interesantes:\n",
    "- `machine`\n",
    "- `utime`\n",
    "- `esp`"
   ]
  },
  {
   "cell_type": "code",
   "execution_count": null,
   "metadata": {},
   "outputs": [],
   "source": []
  }
 ],
 "metadata": {
  "kernelspec": {
   "display_name": "Python 3.8.2 64-bit",
   "language": "python",
   "name": "python38264bit7f65af4527304534bb6b7a0c4f4a1487"
  },
  "language_info": {
   "codemirror_mode": {
    "name": "ipython",
    "version": 3
   },
   "file_extension": ".py",
   "mimetype": "text/x-python",
   "name": "python",
   "nbconvert_exporter": "python",
   "pygments_lexer": "ipython3",
   "version": "3.8.2"
  }
 },
 "nbformat": 4,
 "nbformat_minor": 4
}
