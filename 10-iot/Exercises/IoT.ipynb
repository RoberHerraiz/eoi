{
 "cells": [
  {
   "cell_type": "markdown",
   "metadata": {},
   "source": [
    "# Internet of Things"
   ]
  },
  {
   "cell_type": "markdown",
   "metadata": {},
   "source": [
    "El microcontrolador que estamos usando es NodeMCU v1.0. ESP-12E.\n",
    "\n",
    "Al encender el microcontrolador se carga el boot.py y luego el main.py.\n",
    "\n",
    "Casi todos los main.py van a trabajar con un bucle while."
   ]
  },
  {
   "cell_type": "markdown",
   "metadata": {},
   "source": [
    "## NUNCA CONECTAR POSITIVO Y NEGATIVO CON UN CABLE!!!!!!!!"
   ]
  },
  {
   "cell_type": "markdown",
   "metadata": {},
   "source": [
    "## Hello world:"
   ]
  },
  {
   "cell_type": "code",
   "execution_count": null,
   "metadata": {},
   "outputs": [],
   "source": [
    "import machine\n",
    "import utime\n",
    "\n",
    "led = machine.Pin(2, machine.Pin.OUT)\n",
    "\n",
    "while True:\n",
    "    led.on()\n",
    "    utime.sleep(1)\n",
    "    led.off()\n",
    "    utime.sleep(1)"
   ]
  },
  {
   "cell_type": "markdown",
   "metadata": {},
   "source": [
    "## Estado del botón:"
   ]
  },
  {
   "cell_type": "code",
   "execution_count": null,
   "metadata": {},
   "outputs": [],
   "source": [
    "import machine\n",
    "import utime\n",
    "led = machine.Pin(2, machine.Pin.OUT)\n",
    "boton = machine.Pin(0, machine.Pin.IN)\n",
    "while True:\n",
    "\n",
    "    estado_boton = boton.value()\n",
    "    print(estado_boton)\n",
    "    led.value(estado_boton)\n",
    "    utime.sleep(0.1)"
   ]
  },
  {
   "cell_type": "markdown",
   "metadata": {},
   "source": [
    "## Pull.UP para definir voltaje a 0 y 1"
   ]
  },
  {
   "cell_type": "code",
   "execution_count": null,
   "metadata": {},
   "outputs": [],
   "source": [
    "from machine import Pin\n",
    "import utime\n",
    "\n",
    "boton2 = Pin(16, Pin.PULL_UP)\n",
    "\n",
    "while True:\n",
    "    valor = boton2.value()\n",
    "    print('valor: {}'.format(valor))\n",
    "    utime.sleep(0.1)\n",
    "\n",
    "# Hay que conectar un cable dupont al pin 16 y a tierra hace que el value sea 0"
   ]
  },
  {
   "cell_type": "markdown",
   "metadata": {},
   "source": [
    "## Recreación salida analógica con una salida digital"
   ]
  },
  {
   "cell_type": "markdown",
   "metadata": {},
   "source": [
    "Usamos PWM para dar una salida analógica mediante una digital. Nos permites más estados que 0 y 1."
   ]
  },
  {
   "cell_type": "code",
   "execution_count": null,
   "metadata": {},
   "outputs": [],
   "source": [
    "from machine import Pin, PWM\n",
    "import utime\n",
    "\n",
    "led = Pin(2, Pin.OUT)\n",
    "led_pwm = PWM(led) # la frequencia se puede especificar ahí como segundo elemento de la tupla o por separado\n",
    "\n",
    "led_pwm.freq(500)\n",
    "\n",
    "while True:\n",
    "    for i in range(1023):\n",
    "        led_pwm.duty(i)\n",
    "        utime.sleep_ms(3)\n",
    "    for i in range(1023, 0, -1):\n",
    "        led_pwm.duty(i)\n",
    "        utime.sleep_ms(3)"
   ]
  },
  {
   "cell_type": "markdown",
   "metadata": {},
   "source": [
    "Con PWM podemos usar servos y ccntrolar así el movimiento que hace, siendo `0` y `1` los valores límite y los intermedios, posiciones intermedias."
   ]
  },
  {
   "cell_type": "markdown",
   "metadata": {},
   "source": [
    "Podemos hacer lo mismo pero con un potenciómetro (que no tenemos) y depende del voltaje, da más intensidad o menos."
   ]
  },
  {
   "cell_type": "code",
   "execution_count": null,
   "metadata": {},
   "outputs": [],
   "source": [
    "from machine import Pin, PWM, ADC\n",
    "import utime\n",
    "\n",
    "led = Pin(2, Pin.OUT)\n",
    "led_pwm = PWM(led)\n",
    "led_pwm.freq(1000)\n",
    "\n",
    "pot = ADC(0)\n",
    "\n",
    "while True:\n",
    "    lectura = pot.read()\n",
    "    led_pwm.duty(lectura)\n",
    "    print(lectura)\n",
    "    utime.sleep(0.5)"
   ]
  },
  {
   "cell_type": "markdown",
   "metadata": {},
   "source": [
    "## Los Timers:"
   ]
  },
  {
   "cell_type": "markdown",
   "metadata": {},
   "source": [
    "Se usan con `machine.Timer()` y se usan para tareas recurrentes o para hacer contadores.\n",
    "\n",
    "Con `Timer(-1)` tenemos un timer simulado por software y con otros números los de hardware.\n",
    "\n",
    "Iniciamos con .init() y los parámetros son:\n",
    "- `period`: El periodo, cada cuánto se activa\n",
    "- `mode`: Tenemos el `ONE_SHOT`, que se activa una vez y el `PERIODIC`, que se activa cada los milisegundos indicados.\n",
    "- `callback`: Podemos especificar un callback, usando funciones (incluyendo lambdas)."
   ]
  },
  {
   "cell_type": "code",
   "execution_count": null,
   "metadata": {},
   "outputs": [],
   "source": [
    "from machine import Pin, PWM, ADC\n",
    "import utime\n",
    "\n",
    "tim = Timer(-1)\n",
    "\n",
    "def texto(x): # x es el lugar en memoria de la instancia\n",
    "    print('hola') # nunca poner un sleep aquí, ya que se romperá con el period de abajo\n",
    "\n",
    "tim.init(period=1000, mode=Timer.PERIODIC, callback=texto)"
   ]
  },
  {
   "cell_type": "markdown",
   "metadata": {},
   "source": [
    "Podemos usar `time.deinit()` para parar el timer. Si hacemos un sleep antes, el timer se va a estar ejecutando durante ese tiempo, lo que nos permite controlar las veces que se ejecuta."
   ]
  },
  {
   "cell_type": "code",
   "execution_count": null,
   "metadata": {},
   "outputs": [],
   "source": [
    "from machine import Pin, PWM, ADC, Timer\n",
    "import utime\n",
    "\n",
    "tim = Timer(-1)\n",
    "\n",
    "def texto(x):\n",
    "    print('hola')\n",
    "\n",
    "tim.init(period=1000, mode=Timer.PERIODIC, callback=texto)\n",
    "\n",
    "utime.sleep(3)\n",
    "\n",
    "tim.deinit()"
   ]
  },
  {
   "cell_type": "markdown",
   "metadata": {},
   "source": [
    "La técnica usada anteriormente para leer el botón se llama pulling. Lee el estado periódicamente del botón. No funciona bien con sleeps muy altos.\n",
    "\n",
    "Podemos usar un timer para lanzar un callback cuando se pulse. Para ello se usa el método `.irq()`, que tiene dos parámetros:\n",
    "- `función`: La función que debe ejecutar\n",
    "- `trigger`: Define lo que hará que se lance la señal.\n",
    "    - `IRQ_FALLING`: Pulsación del botón\n",
    "    - `IRQ_RISING`: Soltar el botón"
   ]
  },
  {
   "cell_type": "code",
   "execution_count": null,
   "metadata": {},
   "outputs": [],
   "source": [
    "from machine import Pin, PWM, ADC, Timer\n",
    "import utime\n",
    "\n",
    "def boton_callback(x):\n",
    "    print('botón pulsado')\n",
    "\n",
    "boton = Pin(0, Pin.IN)\n",
    "boton.irq(boton_callback, trigger=Pin.IRQ_FALLING) # tráfico descendente\n",
    "\n",
    "while True:\n",
    "    estado = boton.value()\n",
    "    print('x')\n",
    "    utime.sleep(0.1)"
   ]
  },
  {
   "cell_type": "markdown",
   "metadata": {},
   "source": [
    "Otra implementación:"
   ]
  },
  {
   "cell_type": "code",
   "execution_count": null,
   "metadata": {},
   "outputs": [],
   "source": [
    "from machine import Pin, PWM, ADC, Timer\n",
    "import utime\n",
    "\n",
    "boton_pulsado= False\n",
    "\n",
    "def boton_callback(x):\n",
    "    global boton_pulsado\n",
    "    boton_pulsado = True\n",
    "\n",
    "boton = Pin(0, Pin.IN)\n",
    "boton.irq(boton_callback, trigger=Pin.IRQ_FALLING) # tráfico descendente\n",
    "\n",
    "while True:\n",
    "    print('x')\n",
    "    if boton_pulsado:\n",
    "        print(\"boton_pulsado\")\n",
    "        boton_pulsado = False\n",
    "    utime.sleep(0.1)"
   ]
  },
  {
   "cell_type": "markdown",
   "metadata": {},
   "source": [
    "En el mundo real hay un montón de ruido al pulsar el botón y no es tan fácil capturar el raising y el falling. Se puede lidiar con ese problema de forma manual o usando librerías específicas. Usando el código anterior, nos metemos en el bucle:"
   ]
  },
  {
   "cell_type": "code",
   "execution_count": null,
   "metadata": {},
   "outputs": [],
   "source": [
    "from machine import Pin, PWM, ADC, Timer\n",
    "import utime\n",
    "\n",
    "boton_pulsado = False\n",
    "tiempo_inicio_boton = 0\n",
    "\n",
    "def boton_callback(x):\n",
    "    global boton_pulsado, tiempo_inicio_boton\n",
    "    boton_pulsado = True\n",
    "    tiempo_inicio_boton = utime.ticks_ms()    \n",
    "\n",
    "\n",
    "boton = Pin(0, Pin.IN)\n",
    "boton.irq(boton_callback, trigger=Pin.IRQ_FALLING)\n",
    "\n",
    "while True:\n",
    "    print(\"x\")\n",
    "    if boton_pulsado:\n",
    "        print(\"boton pulsado marca {}\".format(tiempo_inicio_boton))\n",
    "        ahora =  utime.ticks_ms()  \n",
    "        tiempo_boton = utime.ticks_diff(ahora, tiempo_inicio_boton)\n",
    "\n",
    "        print(tiempo_boton)\n",
    "        if tiempo_boton < 50:\n",
    "            utime.sleep_ms(50-tiempo_boton)\n",
    "        estado = boton.value()\n",
    "        if estado:\n",
    "            print(\"esto es ruido, no hacer nada\")\n",
    "        else:\n",
    "            print(\"boton pulsado de verdad\")\n",
    "        utime.sleep(0.5) #antirrebotes\n",
    "        boton_pulsado = False\n",
    "    utime.sleep(0.1)"
   ]
  },
  {
   "cell_type": "markdown",
   "metadata": {},
   "source": [
    "Para más implementaciones: http://docs.micropython.org/en/v1.9.3/pyboard/pyboard/tutorial/debounce.html"
   ]
  },
  {
   "cell_type": "markdown",
   "metadata": {},
   "source": [
    "### Otras librerías interesantes:\n",
    "- `machine`\n",
    "- `utime`\n",
    "- `esp`"
   ]
  },
  {
   "cell_type": "code",
   "execution_count": null,
   "metadata": {},
   "outputs": [],
   "source": [
    "from machine import Pin\n",
    "from utime import sleep\n",
    "\n",
    "class Boton:\n",
    "    def __init__(self, pin_n):\n",
    "        self.boton = Pin(pin_n, Pin.IN) # PULL_UP\n",
    "        self.boton.irq(self.pulsado_cb, Pin.IRQ_FALLING)\n",
    "        self.pulsado = False\n",
    "\n",
    "    def pulsado_cb(self, inst):\n",
    "        self.pulsado = True\n",
    "\n",
    "    def get_pulsado(self):\n",
    "        if not self.pulsado:\n",
    "            return False\n",
    "        self.pulsado = False\n",
    "        return True\n",
    "\n",
    "\n",
    "\n",
    "boton = Boton(0)\n",
    "\n",
    "\n",
    "while True:\n",
    "    if boton.get_pulsado():\n",
    "        print('se ha pulsado el boton')\n",
    "    print('x', end=\"\")\n",
    "    sleep(0.5)"
   ]
  },
  {
   "cell_type": "markdown",
   "metadata": {},
   "source": [
    "Mismo código pero con las ayudas para detectar bien el botón"
   ]
  },
  {
   "cell_type": "code",
   "execution_count": null,
   "metadata": {},
   "outputs": [],
   "source": [
    "from machine import Pin\n",
    "from utime import sleep\n",
    "import micropython\n",
    "\n",
    "class Boton:\n",
    "    def __init__(self, pin_n):\n",
    "        self.boton = Pin(pin_n, Pin.IN) # PULL_UP\n",
    "        self.boton.irq(self.pulsado_cb, Pin.IRQ_FALLING)\n",
    "        self.pulsado = False\n",
    "\n",
    "    def pulsado_cb(self, inst):\n",
    "        micropython.schedule(self.post_pulsado_cb, 0)\n",
    "\n",
    "    def post_pulsado_cb(self, inst):\n",
    "        # aqui puedo hacer operaciones más caras, ya que lo hace el rtOS\n",
    "        # self.pulsado = True\n",
    "        self.boton.irq(self.liberado_cb, Pin.IRQ_RISING)\n",
    "\n",
    "    def liberado_cb(self, inst):\n",
    "        micropython.schedule(self.post_liberado_cb, 0)\n",
    "\n",
    "    def post_liberado_cb(self, inst):\n",
    "        self.pulsado = True\n",
    "        self.boton.irq(self.pulsado_cb, Pin.IRQ_FALLING)\n",
    "\n",
    "    def get_pulsado(self):\n",
    "        if not self.pulsado:\n",
    "            return False\n",
    "        self.pulsado = False\n",
    "        return True\n",
    "\n",
    "\n",
    "\n",
    "boton = Boton(0)\n",
    "\n",
    "\n",
    "while True:\n",
    "    if boton.get_pulsado():\n",
    "        print('\\nse ha pulsado el boton')\n",
    "    print('x', end=\"\")\n",
    "    sleep(0.5)\n"
   ]
  },
  {
   "cell_type": "markdown",
   "metadata": {},
   "source": [
    "# Redes"
   ]
  },
  {
   "cell_type": "code",
   "execution_count": null,
   "metadata": {},
   "outputs": [],
   "source": [
    "import network\n",
    "\n",
    "red = network.WLAN(network.AP_IF)\n",
    "red.active(True)\n",
    "red.config(essid=\"MicroPython\", password=\"12345678\")"
   ]
  },
  {
   "cell_type": "markdown",
   "metadata": {},
   "source": [
    "##  AP con web para controlar el led"
   ]
  },
  {
   "cell_type": "code",
   "execution_count": null,
   "metadata": {},
   "outputs": [],
   "source": [
    "import network\n",
    "import usocket as socket\n",
    "from machine import Pin\n",
    "\n",
    "def web_page(estado):\n",
    "    html = \"\"\"<html><head> <title>Ejemplo 1</title> <meta name=\"viewport\" content=\"width=device-width, initial-scale=1\">\n",
    "    <link rel=\"icon\" href=\"data:;base64,iVBORw0KGgo=\"><style>html{font-family: Helvetica; display:inline-block; margin: 0px auto; text-align: center;}\n",
    "    h1{color: #0F3376; padding: 2vh;}p{font-size: 1.5rem;}.button{display: inline-block; background-color: #e7bd3b; border: none;\n",
    "    border-radius: 4px; color: white; padding: 16px 40px; text-decoration: none; font-size: 30px; margin: 2px; cursor: pointer;}\n",
    "    .button2{background-color: #4286f4;}</style></head><body> <h1>CONTROL DE LED</h1>\n",
    "    <p>Estado LED: <strong> \"\"\" + estado + \"\"\" </strong></p><p><a href=\"/?led=on\"><button class=\"button\">ON</button></a></p>\n",
    "    <p><a href=\"/?led=off\"><button class=\"button button2\">OFF</button></a></p></body></html>\"\"\"\n",
    "    return html\n",
    "\n",
    "led = Pin(2, Pin.OUT)\n",
    "led.value(1)\n",
    "\n",
    "red = network.WLAN(network.AP_IF)\n",
    "red.active(True)\n",
    "red.config(essid=\"MicroPython\", password=\"12345678\")\n",
    "\n",
    "print(red.ifconfig())\n",
    "\n",
    "sock = socket.socket(socket.AF_INET, socket.SOCK_STREAM)\n",
    "sock.bind(('0.0.0.0', 80))\n",
    "sock.listen(5)\n",
    "# sock.settimeout(30)\n",
    "\n",
    "while True:\n",
    "    print('Esperando conexion...')\n",
    "    conn, addr = sock.accept()\n",
    "    print(addr)\n",
    "    request = conn.recv(1024)\n",
    "    request_str = request.decode()\n",
    "    print(request_str)\n",
    "    respuesta = '<h1>Hola, mundo</h1> yo soy Rober'\n",
    "    ledon = request_str.find(\"/?led=on\")\n",
    "    print(ledon)\n",
    "    ledoff = request_str.find(\"/?led=off\")\n",
    "    print(ledoff)\n",
    "\n",
    "    estado_led = led.value()\n",
    "    estado_str = \"ENCENDIDO\" if not estado_led else \"APAGADO\"\n",
    "\n",
    "    if  ledon == 4:\n",
    "        led.value(0)\n",
    "        respuesta = \"Led encendido\"\n",
    "    elif ledoff == 4:\n",
    "        respuesta = \"Led apagado\"\n",
    "        led.value(1)\n",
    "\n",
    "    conn.sendall('HTTP/1.1 200 OK\\n')\n",
    "    conn.sendall('Content-Type: text/html\\n')\n",
    "    conn.sendall('Connection: close\\n\\n')\n",
    "    conn.sendall(web_page(estado_str))\n",
    "    conn.close()\n"
   ]
  },
  {
   "cell_type": "markdown",
   "metadata": {},
   "source": [
    "## Conexión a tu wifi"
   ]
  },
  {
   "cell_type": "code",
   "execution_count": null,
   "metadata": {},
   "outputs": [],
   "source": [
    "from machine import Pin\n",
    "import network\n",
    "import utime as time\n",
    "\n",
    "from credenciales import ssid, password # hay que crear el fichero credenciales\n",
    "\n",
    "\n",
    "# Configurar hardware\n",
    "led = Pin(2, Pin.OUT)\n",
    "\n",
    "\n",
    "# Conexión wifi\n",
    "led.value(0)\n",
    "print('\\nConectandose a wifi...', end='')\n",
    "red = network.WLAN(network.STA_IF)\n",
    "red.active(True)\n",
    "red.connect(ssid, password)\n",
    "while not red.isconnected(): # Espera hasta que conecte\n",
    "    time.sleep(0.1)\n",
    "\n",
    "print('conectado!')\n",
    "print(red.ifconfig())\n",
    "led.value(1)"
   ]
  },
  {
   "cell_type": "code",
   "execution_count": 1,
   "metadata": {},
   "outputs": [],
   "source": [
    "# Fichero credenciales\n",
    "\n",
    "ssid = \"wifi\"\n",
    "password = \"contraseña\""
   ]
  },
  {
   "cell_type": "markdown",
   "metadata": {},
   "source": [
    "## Misma web para encender o apagar led"
   ]
  },
  {
   "cell_type": "code",
   "execution_count": null,
   "metadata": {},
   "outputs": [],
   "source": [
    "from machine import Pin\n",
    "import network\n",
    "import utime as time\n",
    "\n",
    "from credenciales import ssid, password # hay que crear el fichero credenciales\n",
    "from corneto import Corneto\n",
    "\n",
    "# Configurar hardware\n",
    "led = Pin(2, Pin.OUT)\n",
    "\n",
    "\n",
    "# Conexión wifi\n",
    "led.value(0)\n",
    "print('\\nConectandose a wifi...', end='')\n",
    "red = network.WLAN(network.STA_IF)\n",
    "red.active(True)\n",
    "red.connect(ssid, password)\n",
    "while not red.isconnected(): # Espera hasta que conecte\n",
    "    time.sleep(0.1)\n",
    "\n",
    "print('conectado!')\n",
    "print(red.ifconfig())\n",
    "led.value(1)\n",
    "\n",
    "web = Corneto()\n",
    "\n",
    "def home(x):\n",
    "    contexto = {\n",
    "        \"tiempo\": str(time.ticks_ms() // 1000),\n",
    "\n",
    "    }\n",
    "    return(\"index.html\", contexto)\n",
    "\n",
    "def config(x):\n",
    "    contexto = {}\n",
    "    return(\"configuracion.html\", contexto)\n",
    "\n",
    "def led_encender(x):\n",
    "    led.value(0)\n",
    "    contexto = {}\n",
    "    return(\"luz.html\", contexto)\n",
    "\n",
    "def led_apagar(x):\n",
    "    led.value(1)\n",
    "    contexto = {}\n",
    "    return(\"luz.html\", contexto)\n",
    "\n",
    "web.add_view('/', home)\n",
    "web.add_view('/configuracion', config)\n",
    "web.add_view('/encender', led_encender)\n",
    "web.add_view('/apagar', led_apagar)\n",
    "\n",
    "\n",
    "web.run_server()"
   ]
  },
  {
   "cell_type": "markdown",
   "metadata": {},
   "source": [
    "## Programa para enviar mensaje por UDP"
   ]
  },
  {
   "cell_type": "code",
   "execution_count": null,
   "metadata": {},
   "outputs": [],
   "source": [
    "# Desde el microcontrolador\n",
    "\n",
    "from machine import Pin\n",
    "import network\n",
    "import utime as time\n",
    "import usocket as socket\n",
    "\n",
    "from credenciales import ssid, password # hay que crear el fichero credenciales\n",
    "\n",
    "# Configurar hardware\n",
    "led = Pin(2, Pin.OUT)\n",
    "\n",
    "\n",
    "# Conexión wifi\n",
    "led.value(0)\n",
    "print('\\nConectandose 2a wifi...', end='')\n",
    "red = network.WLAN(network.STA_IF)\n",
    "red.active(True)\n",
    "red.connect(ssid, password)\n",
    "while not red.isconnected(): # Espera hasta que conecte\n",
    "    time.sleep(0.1)\n",
    "print('conectado!')\n",
    "print(red.ifconfig())\n",
    "led.value(1)\n",
    "\n",
    "while True:\n",
    "    sock = socket.socket(socket.AF_INET, socket.SOCK_DGRAM)\n",
    "    sock.settimeout(3)\n",
    "    mensaje = b\"Hola, mundo!\"\n",
    "    print(mensaje)\n",
    "    sock.sendto(mensaje, (\"192.168.1.255\", 5005))\n",
    "    # sock.setsockopt(SOL_SOCKET, SO_BROADCAST, 1) # esto en usocket no funciona bien\n",
    "    try:\n",
    "        data, addr = sock.recvfrom(512)\n",
    "        print(addr)\n",
    "        print(data)\n",
    "    except OSError: # TIMEOUT\n",
    "        print(\"no hay respuesta\")\n",
    "    sock.close()\n",
    "    led.value(0)\n",
    "    time.sleep(0.1)\n",
    "    led.value(1)\n",
    "    time.sleep(1)"
   ]
  },
  {
   "cell_type": "code",
   "execution_count": 2,
   "metadata": {
    "collapsed": true,
    "jupyter": {
     "outputs_hidden": true
    }
   },
   "outputs": [
    {
     "name": "stdout",
     "output_type": "stream",
     "text": [
      "Escuchando por el puerto 5005\n",
      "('192.168.1.115', 4097)\n",
      "b'Hola, mundo!'\n",
      "('192.168.1.115', 4097)\n",
      "b'Hola, mundo!'\n",
      "('192.168.1.115', 4097)\n",
      "b'Hola, mundo!'\n",
      "('192.168.1.115', 4097)\n",
      "b'Hola, mundo!'\n",
      "('192.168.1.115', 4097)\n",
      "b'Hola, mundo!'\n",
      "('192.168.1.115', 4097)\n",
      "b'Hola, mundo!'\n"
     ]
    }
   ],
   "source": [
    "# Desde servidor\n",
    "\n",
    "import socket\n",
    "\n",
    "UDP_PORT = 5005\n",
    "\n",
    "sock = socket.socket(socket.AF_INET, socket.SOCK_DGRAM)\n",
    "sock.bind((\"0.0.0.0\", UDP_PORT))\n",
    "print(\"Escuchando por el puerto {}\".format(UDP_PORT))\n",
    "\n",
    "try:\n",
    "    while True:\n",
    "        \n",
    "        try:\n",
    "            data, addr = sock.recvfrom(512)\n",
    "\n",
    "        except socket.timeout:\n",
    "            continue\n",
    "\n",
    "        print(addr)\n",
    "        print(data)\n",
    "        sock.sendto(b'Te he oido', addr)\n",
    "\n",
    "except KeyboardInterrupt:\n",
    "    sock.close()"
   ]
  },
  {
   "cell_type": "markdown",
   "metadata": {},
   "source": [
    "## Usar `ntptime` para obtener el datetime"
   ]
  },
  {
   "cell_type": "code",
   "execution_count": null,
   "metadata": {},
   "outputs": [],
   "source": [
    "# el schedule nos da problemas\n",
    "\n",
    "from machine import Pin, RTC\n",
    "import network\n",
    "import ntptime\n",
    "from micropython import schedule\n",
    "import utime as time\n",
    "import usocket as socket\n",
    "\n",
    "from credenciales import ssid, password # hay que crear el fichero credenciales\n",
    "\n",
    "# Configurar hardware\n",
    "led = Pin(2, Pin.OUT)\n",
    "\n",
    "\n",
    "# Conexión wifi\n",
    "led.value(0)\n",
    "print('\\nConectandose 2a wifi...', end='')\n",
    "red = network.WLAN(network.STA_IF)\n",
    "red.active(True)\n",
    "red.connect(ssid, password)\n",
    "while not red.isconnected(): # Espera hasta que conecte\n",
    "    time.sleep(0.1)\n",
    "print('conectado!')\n",
    "print(red.ifconfig())\n",
    "led.value(1)\n",
    "\n",
    "rtc = RTC()\n",
    "rtc.datetime((2020,6,15,19,2,0,0,0)) # configuración de hora manual\n",
    "\n",
    "ntptime.settime()\n",
    "rtc.datetime()\n",
    "print(rtc.datetime())\n",
    "\n",
    "def texto_cb():\n",
    "    print(rtc.datetime())\n",
    "\n",
    "schedule.every(2).minutes.do(texto_cb)\n",
    "\n",
    "while True:\n",
    "    schedule.run_pending()\n",
    "    time.sleep(1)"
   ]
  },
  {
   "cell_type": "markdown",
   "metadata": {},
   "source": [
    "## Instalar urequests"
   ]
  },
  {
   "cell_type": "code",
   "execution_count": null,
   "metadata": {},
   "outputs": [],
   "source": [
    "from machine import Pin\n",
    "import utime as time\n",
    "import network\n",
    "\n",
    "\n",
    "from credenciales import ssid, password\n",
    "\n",
    "\n",
    "led = Pin(2, Pin.OUT)\n",
    "\n",
    "\n",
    "led.value(0)\n",
    "print('\\nConectandose a la wifi...', end='')\n",
    "red = network.WLAN(network.STA_IF)\n",
    "red.active(True)\n",
    "red.connect(ssid, password)\n",
    "while not red.isconnected():\n",
    "    time.sleep(0.1)\n",
    "print('conectado!')\n",
    "print(red.ifconfig())\n",
    "led.value(1)\n",
    "\n",
    "import upip\n",
    "upip.install('micropython-urequests')"
   ]
  },
  {
   "cell_type": "markdown",
   "metadata": {},
   "source": [
    "## Llamadas `API` usando JSON"
   ]
  },
  {
   "cell_type": "code",
   "execution_count": null,
   "metadata": {},
   "outputs": [],
   "source": [
    "import ujson as json\n",
    "from machine import Pin\n",
    "import utime as time\n",
    "import network\n",
    "import urequests as requests\n",
    "\n",
    "from credenciales import ssid, password\n",
    "\n",
    "led = Pin(2, Pin.OUT)\n",
    "\n",
    "led.value(0)\n",
    "print('\\nConectandose a la wifi...', end='')\n",
    "red = network.WLAN(network.STA_IF)\n",
    "red.active(True)\n",
    "red.connect(ssid, password)\n",
    "while not red.isconnected():\n",
    "    time.sleep(0.1)\n",
    "print('conectado!')\n",
    "print(red.ifconfig())\n",
    "led.value(1)\n",
    "\n",
    "\n",
    "codigo_ciudad = \"773692\"\n",
    "url = \"https://www.metaweather.com/api/location/{}/\".format(codigo_ciudad)\n",
    "r = requests.get(url)\n",
    "if r.status_code is not 200:\n",
    "    print(\"Error al acceder a metaweather, reseteando...\")\n",
    "    print('r.status')\n",
    "    print('r.content')\n",
    "    utime.sleep(10)\n",
    "    reset()\n",
    "print('Todo ok')\n",
    "resultado = r.content.decode()\n",
    "\n",
    "data = json.loads(resultado)\n",
    "\n",
    "humedad = data[\"consolidated_weather\"][1]['humidity']\n",
    "\n",
    "print('La humedad mañana en Tenerife sera: {}'.format(humedad))"
   ]
  },
  {
   "cell_type": "markdown",
   "metadata": {},
   "source": [
    "## Api para sacar el precio de las criptomonedas"
   ]
  },
  {
   "cell_type": "code",
   "execution_count": null,
   "metadata": {},
   "outputs": [],
   "source": [
    "import ujson as json\n",
    "from machine import Pin\n",
    "import utime as time\n",
    "import network\n",
    "import urequests as requests\n",
    "\n",
    "from credenciales import ssid, password\n",
    "\n",
    "led = Pin(2, Pin.OUT)\n",
    "\n",
    "led.value(0)\n",
    "print('\\nConectandose a la wifi...', end='')\n",
    "red = network.WLAN(network.STA_IF)\n",
    "red.active(True)\n",
    "red.connect(ssid, password)\n",
    "while not red.isconnected():\n",
    "    time.sleep(0.1)\n",
    "print('conectado!')\n",
    "print(red.ifconfig())\n",
    "led.value(1)\n",
    "\n",
    "\n",
    "def get_rate(currency):\n",
    "    url = \"https://api.coindesk.com/v1/bpi/currentprice/{}.json\".format(currency)\n",
    "    r = requests.get(url)\n",
    "    if r.status_code is not 200:\n",
    "        print(\"Error al acceder a coindesk, reseteando...\")\n",
    "        print('r.status')\n",
    "        print('r.content')\n",
    "        time.sleep(10)\n",
    "        reset()\n",
    "    resultado = r.content.decode()\n",
    "    data = json.loads(resultado)\n",
    "    rate = data[\"bpi\"][\"USD\"][\"rate\"]\n",
    "    return (rate)\n",
    "\n",
    "crypto_code = \"BTC\"\n",
    "\n",
    "while True:\n",
    "    rate = get_rate(crypto_code)\n",
    "    print('El precio del {} es {} USD'.format(crypto_code, rate))\n",
    "    time.sleep(10)"
   ]
  },
  {
   "cell_type": "markdown",
   "metadata": {},
   "source": [
    "## Encender y apagar leds usando el protocolo MQTT"
   ]
  },
  {
   "cell_type": "code",
   "execution_count": null,
   "metadata": {},
   "outputs": [],
   "source": [
    "import ujson as json\n",
    "from machine import Pin\n",
    "import utime as time\n",
    "import network\n",
    "import urequests as requests\n",
    "from umqtt.simple import MQTTClient\n",
    "from credenciales import ssid, password\n",
    "\n",
    "led = Pin(2, Pin.OUT)\n",
    "\n",
    "led.value(0)\n",
    "print('\\nConectandose a la wifi...', end='')\n",
    "red = network.WLAN(network.STA_IF)\n",
    "red.active(True)\n",
    "red.connect(ssid, password)\n",
    "while not red.isconnected():\n",
    "    time.sleep(0.1)\n",
    "print('conectado!')\n",
    "print(red.ifconfig())\n",
    "led.value(1)\n",
    "\n",
    "def sub_cb(topic, msg):\n",
    "    topic = topic.decode()\n",
    "    msg = msg.decode()\n",
    "    print(\"Me llegó por '{}' esto: '{}' \".format(topic, msg))\n",
    "    if topic is \"luz_mc_01\":\n",
    "        if msg == \"on\" :\n",
    "            led.value(0)\n",
    "            print('encendiendo led')\n",
    "        elif msg == \"off\":\n",
    "            led.value(1)\n",
    "            print('apagando led')\n",
    "\n",
    "id_cliente = \"1k2hg3u1o2b3hkj1\"\n",
    "mqtt_server = \"broker.hivemq.com\"\n",
    "\n",
    "topic = b\"luz_mc_01\"\n",
    "\n",
    "client = MQTTClient(id_cliente, mqtt_server)\n",
    "client.connect()\n",
    "client.set_callback(sub_cb)\n",
    "client.subscribe(topic)\n",
    "\n",
    "# proximo_envio = time.ticks_ms() + 5000\n",
    "#\n",
    "# while True: # versión mejor\n",
    "#     client.check_msg()\n",
    "#     if time.ticks_ms() > proximo_envio:\n",
    "#         client.publish(topic, b\"on\")\n",
    "#         time.sleep(5)\n",
    "#         client.publish(topic, b\"off\")\n",
    "#         time.sleep(5)\n",
    "#         proximo_envio = time.ticks_ms() + 5000\n",
    "#     time.sleep_ms(100)\n",
    "\n",
    "\n",
    "while True:\n",
    "    client.check_msg()\n",
    "    client.publish(topic, b\"on\")\n",
    "    time.sleep(5)\n",
    "    client.publish(topic, b\"off\")\n",
    "    time.sleep(5)"
   ]
  },
  {
   "cell_type": "markdown",
   "metadata": {},
   "source": [
    "## Enviar mensajes por MQTT pulsando el botón de la placa"
   ]
  },
  {
   "cell_type": "code",
   "execution_count": null,
   "metadata": {},
   "outputs": [],
   "source": [
    "import ujson as json\n",
    "from machine import Pin\n",
    "import utime as time\n",
    "import network\n",
    "import urequests as requests\n",
    "from umqtt.simple import MQTTClient\n",
    "from credenciales import ssid, password\n",
    "\n",
    "led = Pin(2, Pin.OUT)\n",
    "\n",
    "led.value(0)\n",
    "print('\\nConectandose a la wifi...', end='')\n",
    "red = network.WLAN(network.STA_IF)\n",
    "red.active(True)\n",
    "red.connect(ssid, password)\n",
    "while not red.isconnected():\n",
    "    time.sleep(0.1)\n",
    "print('conectado!')\n",
    "print(red.ifconfig())\n",
    "led.value(1)\n",
    "\n",
    "boton_pulsado= False\n",
    "def boton_callback(x):\n",
    "    global boton_pulsado\n",
    "    boton_pulsado = True\n",
    "\n",
    "boton = Pin(0, Pin.IN)\n",
    "boton.irq(boton_callback, trigger=Pin.IRQ_FALLING)\n",
    "\n",
    "def sub_cb(topic, msg):\n",
    "    topic = topic.decode()\n",
    "    msg = msg.decode()\n",
    "\n",
    "topic_pub = b\"clase_eoi\"\n",
    "\n",
    "id_cliente = \"1k2hg3u1o2b3hkj1\"\n",
    "mqtt_server = \"broker.hivemq.com\"\n",
    "\n",
    "client = MQTTClient(id_cliente, mqtt_server)\n",
    "client.connect()\n",
    "client.set_callback(sub_cb)\n",
    "\n",
    "while True:\n",
    "    if boton_pulsado:\n",
    "        print(\"boton_pulsado\")\n",
    "        client.publish(topic_pub, b\"Soy Roberto pulsando el botón\")\n",
    "        boton_pulsado = False\n",
    "    time.sleep(0.1)"
   ]
  },
  {
   "cell_type": "markdown",
   "metadata": {},
   "source": [
    "## Juego del botón básico"
   ]
  },
  {
   "cell_type": "markdown",
   "metadata": {},
   "source": [
    "### main.py"
   ]
  },
  {
   "cell_type": "code",
   "execution_count": null,
   "metadata": {},
   "outputs": [],
   "source": [
    "from credenciales import ssid, password\n",
    "import network\n",
    "import utime as time\n",
    "\n",
    "from juego import Juego\n",
    "\n",
    "def conectar_wifi():\n",
    "    print('\\nConectandose a la wifi...', end='')\n",
    "    red = network.WLAN(network.STA_IF)\n",
    "    red.active(True)\n",
    "    red.connect(ssid, password)\n",
    "    while not red.isconnected():\n",
    "        time.sleep(0.1)\n",
    "    print('conectado!')\n",
    "    print(red.ifconfig())\n",
    "\n",
    "conectar_wifi()\n",
    "\n",
    "juego = Juego()\n",
    "\n",
    "juego.start()"
   ]
  },
  {
   "cell_type": "markdown",
   "metadata": {},
   "source": [
    "### juego.py"
   ]
  },
  {
   "cell_type": "code",
   "execution_count": null,
   "metadata": {},
   "outputs": [],
   "source": [
    "rom machine import Pin\n",
    "import urandom as random\n",
    "import utime as time\n",
    "\n",
    "class Juego:\n",
    "    def __init__(self):\n",
    "        self.led = Pin(2, Pin.OUT)\n",
    "        self.boton = Pin(0, Pin.IN)\n",
    "        self.led.value(1)\n",
    "        self.inicio = 0\n",
    "        self.final = 0\n",
    "        self.tiempo = 0\n",
    "\n",
    "    def start(self):\n",
    "        while True:\n",
    "            print()\n",
    "            print('Pulsa el boton cuando se encienda el led')\n",
    "            self.encender_led_aleatorio()\n",
    "            self.apagar_led_boton()\n",
    "            self.tiempo = time.ticks_diff(self.final, self.inicio)\n",
    "            print('Has apagado el botón en {} ms'.format(self.tiempo))\n",
    "\n",
    "    def encender_led_aleatorio(self):\n",
    "        aleatorio = random.getrandbits(12)\n",
    "        aleatorio += 3000\n",
    "        time.sleep_ms(aleatorio)\n",
    "        self.led.value(0)\n",
    "        self.inicio = time.ticks_ms()\n",
    "\n",
    "    def apagar_led_boton(self):\n",
    "        while self.boton.value() == 1:\n",
    "            time.sleep_ms(1)\n",
    "        self.led.value(1)\n",
    "        self.final = time.ticks_ms()"
   ]
  },
  {
   "cell_type": "markdown",
   "metadata": {},
   "source": [
    "## Juego del botón enviando por MQTT"
   ]
  },
  {
   "cell_type": "markdown",
   "metadata": {},
   "source": [
    "### main.py"
   ]
  },
  {
   "cell_type": "code",
   "execution_count": null,
   "metadata": {},
   "outputs": [],
   "source": [
    "from credenciales import ssid, password\n",
    "import network\n",
    "import utime as time\n",
    "\n",
    "from juego import Juego\n",
    "\n",
    "def conectar_wifi():\n",
    "    print('\\nConectandose a la wifi...', end='')\n",
    "    red = network.WLAN(network.STA_IF)\n",
    "    red.active(True)\n",
    "    red.connect(ssid, password)\n",
    "    while not red.isconnected():\n",
    "        time.sleep(0.1)\n",
    "    print('conectado!')\n",
    "    print(red.ifconfig())\n",
    "\n",
    "conectar_wifi()\n",
    "\n",
    "juego = Juego(\"Rober .H\")\n",
    "\n",
    "juego.start()"
   ]
  },
  {
   "cell_type": "markdown",
   "metadata": {},
   "source": [
    "### juego.py"
   ]
  },
  {
   "cell_type": "code",
   "execution_count": null,
   "metadata": {},
   "outputs": [],
   "source": [
    "from machine import Pin\n",
    "import urandom as random\n",
    "import utime as time\n",
    "\n",
    "from mimqtt import Mimqtt\n",
    "from credenciales import ssid, password\n",
    "\n",
    "class Juego:\n",
    "    def __init__(self, jugador):\n",
    "        self.led = Pin(2, Pin.OUT)\n",
    "        self.boton = Pin(0, Pin.IN)\n",
    "        self.led.value(1)\n",
    "        self.jugador = jugador\n",
    "        self.mimqtt = Mimqtt()\n",
    "\n",
    "\n",
    "    def start(self):\n",
    "        while True:\n",
    "            print()\n",
    "            print('Pulsa el boton cuando se encienda el led')\n",
    "            self.encender_led_aleatorio()\n",
    "            inicio = time.ticks_ms()\n",
    "            self.apagar_led_boton()\n",
    "            final = time.ticks_ms()\n",
    "            tiempo = time.ticks_diff(final, inicio)\n",
    "            if tiempo > 5000:\n",
    "                print('Has tardado más de 5 segundos')\n",
    "                print(\"\\n\")\n",
    "                print('Reiniciando ...')\n",
    "            if tiempo < 5000:\n",
    "                print('Has apagado el botón en {} ms'.format(tiempo))\n",
    "                self.mimqtt.enviar_mqtt(self.jugador, tiempo)\n",
    "\n",
    "    def encender_led_aleatorio(self):\n",
    "        aleatorio = random.getrandbits(12)\n",
    "        aleatorio += 3000\n",
    "        time.sleep_ms(aleatorio)\n",
    "        self.led.value(0)\n",
    "\n",
    "\n",
    "    def apagar_led_boton(self):\n",
    "        while self.boton.value() == 1:\n",
    "            time.sleep_ms(1)\n",
    "        self.led.value(1)"
   ]
  },
  {
   "cell_type": "markdown",
   "metadata": {},
   "source": [
    "### mimqtt.py"
   ]
  },
  {
   "cell_type": "code",
   "execution_count": null,
   "metadata": {},
   "outputs": [],
   "source": [
    "import ujson as json\n",
    "\n",
    "from umqtt.simple import MQTTClient\n",
    "\n",
    "\n",
    "class Mimqtt():\n",
    "\n",
    "    def enviar_mqtt(self, nombre, tiempo):\n",
    "        id_cliente = \"12hi3b1i2n98dno2jnd921\"\n",
    "        mqtt_server = \"broker.hivemq.com\"\n",
    "        topic = b'curso_eoi'\n",
    "        datos = {\n",
    "            \"Nombre\": nombre,\n",
    "            \"Tiempo\": tiempo\n",
    "        }\n",
    "        datos = json.dumps(datos)\n",
    "        client = MQTTClient(id_cliente, mqtt_server)\n",
    "        client.connect()\n",
    "        client.publish(topic, datos)"
   ]
  },
  {
   "cell_type": "markdown",
   "metadata": {},
   "source": [
    "# Sensor de proximidad"
   ]
  },
  {
   "cell_type": "raw",
   "metadata": {},
   "source": [
    "Sensor\tESP\n",
    "VL\t3,3V\n",
    "GND\tGND\n",
    "VCC\t3,3V\n",
    "SCL\tSCL (GPIO5)\n",
    "SDA\tSDA (GPIO4)\n",
    "INT(no conectado)"
   ]
  },
  {
   "cell_type": "code",
   "execution_count": 3,
   "metadata": {
    "collapsed": true,
    "jupyter": {
     "outputs_hidden": true
    }
   },
   "outputs": [
    {
     "ename": "NameError",
     "evalue": "name 'I2C' is not defined",
     "output_type": "error",
     "traceback": [
      "\u001b[0;31m-----------------------------------------------------------------\u001b[0m",
      "\u001b[0;31mNameError\u001b[0m                       Traceback (most recent call last)",
      "\u001b[0;32m<ipython-input-3-216a428a9894>\u001b[0m in \u001b[0;36m<module>\u001b[0;34m\u001b[0m\n\u001b[0;32m----> 1\u001b[0;31m \u001b[0mi2c\u001b[0m \u001b[0;34m=\u001b[0m \u001b[0mI2C\u001b[0m\u001b[0;34m(\u001b[0m\u001b[0msda\u001b[0m\u001b[0;34m=\u001b[0m\u001b[0mPin\u001b[0m\u001b[0;34m(\u001b[0m\u001b[0;36m4\u001b[0m\u001b[0;34m)\u001b[0m\u001b[0;34m,\u001b[0m \u001b[0mscl\u001b[0m\u001b[0;34m=\u001b[0m\u001b[0mPin\u001b[0m\u001b[0;34m(\u001b[0m\u001b[0;36m5\u001b[0m\u001b[0;34m)\u001b[0m\u001b[0;34m)\u001b[0m\u001b[0;34m\u001b[0m\u001b[0;34m\u001b[0m\u001b[0m\n\u001b[0m\u001b[1;32m      2\u001b[0m \u001b[0mi2c\u001b[0m\u001b[0;34m.\u001b[0m\u001b[0mscan\u001b[0m\u001b[0;34m(\u001b[0m\u001b[0;34m)\u001b[0m \u001b[0;31m# comprobamos que da [57]\u001b[0m\u001b[0;34m\u001b[0m\u001b[0;34m\u001b[0m\u001b[0m\n",
      "\u001b[0;31mNameError\u001b[0m: name 'I2C' is not defined"
     ]
    }
   ],
   "source": [
    "from machine import Pin, I2C\n",
    "i2c = I2C(sda=Pin(5), scl=Pin(4))\n",
    "i2c.scan() #comprobamos que es 57\n",
    "\n",
    "ADDR_SENSOR = 0x39\n",
    "\n",
    "i2c.writeto(ADDR_SENSOR, bytearray([0x12|0xA0])) # LE AVISAMOS QUE VAMOS QUEREMOS LEER\n",
    "resultado = i2c.readfrom(ADDR_SENSOR, 1)[0] # LE INDICAMOS QUE QUEREMOS LEER UN 1\n",
    "print(resultado)"
   ]
  },
  {
   "cell_type": "raw",
   "metadata": {},
   "source": [
    "Operaciones lógicas\n",
    "\n",
    "1 2 & |\n",
    "\n",
    "0 0 0 0\n",
    "\n",
    "0 1 0 1\n",
    "\n",
    "1 0 0 1\n",
    "\n",
    "1 1 1 1\n"
   ]
  },
  {
   "cell_type": "markdown",
   "metadata": {},
   "source": [
    "## Sensor funcionando"
   ]
  },
  {
   "cell_type": "markdown",
   "metadata": {},
   "source": [
    "### main.py"
   ]
  },
  {
   "cell_type": "code",
   "execution_count": null,
   "metadata": {},
   "outputs": [],
   "source": [
    "from machine import Pin, I2C\n",
    "import utime\n",
    "\n",
    "\n",
    "i2c=I2C(sda=Pin(4), scl=Pin(5))  # instanciamos y configuramos bus I2C en los pines sda y scl\n",
    "dispositivos_conectado = i2c.scan()  # manda mensajes por el bus i2c a todas las direcciones para ver que dispositivos contestan\n",
    "# devuelve un listado de dispositivos conectados\n",
    "print(dispositivos_conectado)  # NOTA las direcciones las muestra en decimal, normalmente usaremos hexadecimal para trabajar con el i2c\n",
    "\n",
    "from apds9930 import APDS9930\n",
    "sensor = APDS9930(i2c)  # creamos una instancia del sensor y le pasamos el manejador del i2c\n",
    "# el manejador del i2c lo creamos aqui porque si tenemos varios sensores en el bus, le pasamos el mismo manejador a todos\n",
    "\n",
    "sensor.activar_proximidad()  # este metodo modifica un registro interno del APDS9930 para activar el sensor de proximidad\n",
    "\n",
    "print(\"Acerca la mano al sensor para activarlo\")\n",
    "while True:\n",
    "    proximidad = sensor.get_proximidad()\n",
    "    if proximidad is not 0:\n",
    "        print(\"Activado! lectura {}\".format(proximidad))\n",
    "        utime.sleep_ms(100)  # para que no sature la consola con prints"
   ]
  },
  {
   "cell_type": "markdown",
   "metadata": {},
   "source": [
    "### apds9930.py"
   ]
  },
  {
   "cell_type": "code",
   "execution_count": null,
   "metadata": {},
   "outputs": [],
   "source": [
    "import utime\n",
    "from micropython import const\n",
    "\n",
    "\n",
    "# NOTA esto no es una libreria completa, es un ejemplo parcial para ilustrar lo que es el protocolo I2C\n",
    "# se puede encontrar una libreria mas completa y funcional aqui:\n",
    "# https://github.com/micropython-Chinese-Community/mpy-lib/tree/master/sensor/APDS9930\n",
    "\n",
    "\n",
    "class APDS9930:\n",
    "    I2C_ADDRESS = const(0x39)  # (57 en decimal) es la direccion de este sensor que es fija y no se puede cambiar\n",
    "    # utilizamos const para indicar que es un valor fijo que no va a cambiar nunca. Es mas eficiente en memoria\n",
    "    def __init__(self, i2c):\n",
    "        self.i2c = i2c\n",
    "        # Todo esto es la inicializacion del sensor segun viene descrita en el datasheet pagina 15\n",
    "        ATIME = 0xFF # 2.7 ms – minimum ALS integration time\n",
    "        WTIME = 0xFF # 2.7 ms – minimum Wait time\n",
    "        PTIME = 0xFF # 2.7 ms – minimum Prox integration time\n",
    "        PPULSE = 1 # Minimum prox pulse count\n",
    "        self._write_reg_data(0, 0)  # Disable and Powerdown\n",
    "        self._write_reg_data (0x01, ATIME)\n",
    "        self._write_reg_data (0x02, PTIME)\n",
    "        self._write_reg_data (0x03, WTIME)\n",
    "        self._write_reg_data (0x0E, PPULSE)\n",
    "        PDRIVE = 0  # 100mA of LED Power\n",
    "        PDIODE = 0x20  # CH1 Diode\n",
    "        PGAIN = 0  # 1x Prox gain\n",
    "        AGAIN = 0  # 1x ALS gain\n",
    "        self._write_reg_data (0x0F, PDRIVE | PDIODE | PGAIN | AGAIN)\n",
    "        WEN = 8  # Enable Wait\n",
    "        PEN = 4  # Enable Prox\n",
    "        AEN = 2  # Enable ALS\n",
    "        PON = 1  # Enable Power On\n",
    "        self._write_reg_data(0, WEN | PEN | AEN | PON)  # self._write_reg_data(0, 0x0F)\n",
    "        utime.sleep_ms(12)  # Wait for 12 ms\n",
    "        CH0_data = self._read_word(0x14)\n",
    "        CH1_data = self._read_word(0x16)\n",
    "        Prox_data = self._read_word(0x18)\n",
    "        # print(CH0_data)\n",
    "        # print(CH1_data)\n",
    "        # print(Prox_data)\n",
    "\n",
    "\n",
    "    def _read_word(self, reg):\n",
    "        \"\"\" Lee un word (2 bytes, 16 bits) de un registro del sensor \"\"\"\n",
    "        # es una implementacion del codigo de ejemplo que aparece en el datasheet pag 15\n",
    "        registro_enmascarado = reg|0xA0  # para entender esta mascara mirar Command Register pag 19 datasheet\n",
    "        # al writeto le pasamos la direccion y los bytes que queremos escribir\n",
    "        # puede ser en formato b'\\x11\\x43\\xa8' o con bytearray donde le pasamos una lista o tupla con los bytes\n",
    "        # aunque sea un solo byte se lo tenemos que pasar asi, como lista o tupla (tupla mas eficiente)\n",
    "        self.i2c.writeto(APDS9930.I2C_ADDRESS, bytearray((registro_enmascarado, )))\n",
    "        # despues de decirle que registro queremos leer, lo leemos. En este caso como son dos bytes le pasamos\n",
    "        # un 2 y nos devolvera un bytearray de 2 elementos con la lectura de ese registro y el siguiente\n",
    "        r = self.i2c.readfrom(APDS9930.I2C_ADDRESS, 2)\n",
    "        return r[0] + r[1]*256  # convertimos esos dos bytes en un entero (el primero el menos signigicativo)\n",
    "\n",
    "\n",
    "    def _read_byte(self, reg):\n",
    "        \"\"\" Lee un byte de un registro del sensor \"\"\"\n",
    "        # mirar comentarios de _read_word\n",
    "        self.i2c.writeto(APDS9930.I2C_ADDRESS, bytearray([reg|0xA0]))\n",
    "        t = self.i2c.readfrom(APDS9930.I2C_ADDRESS, 1)\n",
    "        return t[0]\n",
    "\n",
    "\n",
    "    def _write_reg_data(self, reg, data):\n",
    "        \"\"\" Escribe el byte 'data' en un registro del sensor \"\"\"\n",
    "        # mirar comentarios de _read_word\n",
    "        self.i2c.writeto(APDS9930.I2C_ADDRESS, bytearray((reg|0x80, data)))\n",
    "\n",
    "\n",
    "    def activar_proximidad(self):\n",
    "        \"\"\" Activa el sensor de proximidad \"\"\"\n",
    "        # Modificamos los bits necesarios del Enable Register segun indica el datasheet\n",
    "        Enable_Register = 0x00\n",
    "        en_reg_data = self._read_byte(Enable_Register)\n",
    "        # print(\"antes {0:08b}\".format(en_reg_data))  # podemos mostrar como estaba el registro antes de modificarlo\n",
    "        en_reg_data_enmascarado = en_reg_data | 0b00000100  # con esta mascara (0x04), ponemos el bit Proximity Enable a 1 sin modificar los demas\n",
    "        # si quisiesemos poner ese bit a 0 sin modificar los demas, utilizariamos esta mascara:\n",
    "        # en_reg_data = en_reg_data & 0b11111011\n",
    "        self._write_reg_data(Enable_Register, en_reg_data_enmascarado)\n",
    "        # print(\"despues {0:08b}\".format(en_reg_data))  # podemos mostrar como estaba el registro despues de modificarlo\n",
    "\n",
    "\n",
    "    def get_proximidad(self):\n",
    "        \"\"\" Devuelve lectura del sensor de proximidad \"\"\"\n",
    "        # lee el dato de 16 bits del registro PDATA\n",
    "        # NOTA este valor habria que dividirlo por la ganancia, no lo vamos a hacer por simplicidad\n",
    "        return self._read_word(0x18)  # 0x18 PDATAL, 0x19 PDATAH\n"
   ]
  },
  {
   "cell_type": "markdown",
   "metadata": {},
   "source": [
    "## Juego con sensor o sin él"
   ]
  },
  {
   "cell_type": "markdown",
   "metadata": {},
   "source": [
    "### main.py"
   ]
  },
  {
   "cell_type": "code",
   "execution_count": null,
   "metadata": {},
   "outputs": [],
   "source": [
    "import network\n",
    "import utime as time\n",
    "\n",
    "from credenciales import ssid, password\n",
    "from apds9930 import APDS9930\n",
    "from juego import Juego\n",
    "\n",
    "def conectar_wifi():\n",
    "    print('\\nConectandose a la wifi...', end='')\n",
    "    red = network.WLAN(network.STA_IF)\n",
    "    red.active(True)\n",
    "    red.connect(ssid, password)\n",
    "    while not red.isconnected():\n",
    "        time.sleep(0.1)\n",
    "    print('conectado!')\n",
    "    print(red.ifconfig())\n",
    "\n",
    "\n",
    "i2c=I2C(sda=Pin(4), scl=Pin(5))\n",
    "try:\n",
    "    sensor = APDS9930(i2c)\n",
    "    sensor.activar_proximidad()\n",
    "except Exception as e:\n",
    "    sensor = None\n",
    "\n",
    "conectar_wifi()\n",
    "juego = Juego(\"Rober .H\")\n",
    "juego.metodo_entrada(sensor)\n",
    "juego.start()"
   ]
  },
  {
   "cell_type": "markdown",
   "metadata": {},
   "source": [
    "### juego.py"
   ]
  },
  {
   "cell_type": "code",
   "execution_count": null,
   "metadata": {},
   "outputs": [],
   "source": [
    "from machine import Pin, I2C\n",
    "import urandom as random\n",
    "import utime as time\n",
    "\n",
    "from credenciales import ssid, password\n",
    "from mimqtt import Mimqtt\n",
    "\n",
    "\n",
    "class Juego:\n",
    "    def __init__(self, jugador):\n",
    "        self.led = Pin(2, Pin.OUT)\n",
    "        self.boton = Pin(0, Pin.IN)\n",
    "        self.led.value(1)\n",
    "        self.jugador = jugador\n",
    "        self.mimqtt = Mimqtt()\n",
    "        # inicializar el sensor en el constructor de Juego\n",
    "        self.sensor = None\n",
    "\n",
    "    def metodo_entrada(self, mode):\n",
    "        self.sensor = mode\n",
    "\n",
    "    def start(self):\n",
    "        print()\n",
    "        if self.sensor:\n",
    "            print('Activa el sensor cuando se encienda el led')\n",
    "        else:\n",
    "            print(\"Pulsa el botón cuando se encienda el led\")\n",
    "        while True:\n",
    "            self.encender_led_aleatorio()\n",
    "            inicio = time.ticks_ms()\n",
    "            self.apagar_led_boton()\n",
    "            final = time.ticks_ms()\n",
    "            tiempo = time.ticks_diff(final, inicio)\n",
    "            if tiempo > 5000:\n",
    "                print('Has tardado más de 5 segundos')\n",
    "                print(\"\\n\")\n",
    "                print('Reiniciando ...')\n",
    "                self.start()\n",
    "            elif tiempo < 10:\n",
    "                if self.sensor:\n",
    "                    print('El sensor estaba activado antes de encenderse el led')\n",
    "                else:\n",
    "                    print(\"El botón estaba activado antes de encenderse el led\")\n",
    "            else:\n",
    "                print('Has apagado el botón en {} ms'.format(tiempo))\n",
    "                if self.sensor:\n",
    "                    metodo = \"sensor\"\n",
    "                else:\n",
    "                    metodo = \"boton\"\n",
    "                self.mimqtt.enviar_mqtt(self.jugador, metodo, tiempo)\n",
    "\n",
    "    def encender_led_aleatorio(self):\n",
    "        aleatorio = random.getrandbits(12)\n",
    "        aleatorio += 3000\n",
    "        time.sleep_ms(aleatorio)\n",
    "        self.led.value(0)\n",
    "\n",
    "    def apagar_led_boton(self):\n",
    "        if self.sensor:\n",
    "            while not self.led.value():\n",
    "                proximidad = self.sensor.get_proximidad()\n",
    "                if proximidad is not 0:\n",
    "                    print(\"Sensor activado a {}!\".format(proximidad))\n",
    "                    self.led.value(1)\n",
    "        else:\n",
    "            while self.boton.value() == 1:\n",
    "                time.sleep_ms(1)\n",
    "            self.led.value(1)"
   ]
  },
  {
   "cell_type": "markdown",
   "metadata": {},
   "source": [
    "# `btree`: una base de datos para iot"
   ]
  },
  {
   "cell_type": "code",
   "execution_count": null,
   "metadata": {},
   "outputs": [],
   "source": [
    "import btree\n",
    "\n",
    "try:\n",
    "    f = open('mydb', \"r+b\") # lectura con permisos de escritura pero que escriba desde el principio secuencia de bytes\n",
    "except OSError:\n",
    "    f = open('mydb', \"w+b\")\n",
    "\n",
    "db = btree.open(f) # instanciamos la base de datos y la abrimos\n",
    "\n",
    "db[b'3'] = b'tres'\n",
    "db[b'1'] = b'uno'\n",
    "db[b'2'] = b'dos' # estamos guardando en memoria\n",
    "\n",
    "db.flush() # grabamos los datos en la bd\n",
    "\n",
    "for word in db.values(b'2'): # punto de partida el 2\n",
    "    print(word)\n",
    "\n",
    "del db[b'2'] # borramos\n",
    "\n",
    "# si no hacemos flush, no se guardan al cerrar\n",
    "\n",
    "db.close() # cerramos base de datos\n",
    "\n",
    "f.close() # cerramos el fichero que abrimos"
   ]
  },
  {
   "cell_type": "markdown",
   "metadata": {},
   "source": [
    "## "
   ]
  }
 ],
 "metadata": {
  "kernelspec": {
   "display_name": "Python 3",
   "language": "python",
   "name": "python3"
  },
  "language_info": {
   "codemirror_mode": {
    "name": "ipython",
    "version": 3
   },
   "file_extension": ".py",
   "mimetype": "text/x-python",
   "name": "python",
   "nbconvert_exporter": "python",
   "pygments_lexer": "ipython3",
   "version": "3.8.3"
  }
 },
 "nbformat": 4,
 "nbformat_minor": 4
}
