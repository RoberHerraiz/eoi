{
 "cells": [
  {
   "cell_type": "markdown",
   "metadata": {
    "slideshow": {
     "slide_type": "slide"
    }
   },
   "source": [
    "## Desarrollo web"
   ]
  },
  {
   "cell_type": "markdown",
   "metadata": {
    "slideshow": {
     "slide_type": "slide"
    }
   },
   "source": [
    "### Breve historia de la WEB\n",
    "\n",
    "![CERN](./img/CERN.png)\n",
    "\n",
    "Allá por 1980, un joven físico llamada [Tim Barners-Lee](https://es.wikipedia.org/wiki/Tim_Berners-Lee) fue contratado por el\n",
    "[CERN](http://public.web.cern.ch/public/), en calidad de consultor\n",
    "independiente. Entre otras cosas, el joven propuso un proyecto para\n",
    "facilitar el intercambio de información dentro de la comunidad\n",
    "científica, utilizando un concepto denominado\n",
    "[hipertexto](https://es.wikipedia.org/wiki/Hipertexto)."
   ]
  },
  {
   "cell_type": "markdown",
   "metadata": {
    "slideshow": {
     "slide_type": "slide"
    }
   },
   "source": [
    "La idea germinó, pero no prosperó. En 1989, de regreso al CERN después de un tiempo\n",
    "trabajando para otras empresas, y ya con el laboratorio convertido en el\n",
    "nodo más grande de Internet en Europa, la idea se consolidó. En sus\n",
    "propias palabras: \"Simplemente tomé la idea del hipertexto y la conecté\n",
    "con el protocolo TCP y el sistema de nombres de dominio\"."
   ]
  },
  {
   "cell_type": "markdown",
   "metadata": {
    "slideshow": {
     "slide_type": "slide"
    }
   },
   "source": [
    "![Primer servidor Web](./img/first-web-server.jpg)\n",
    "\n",
    "Berners-Lee usó esta NeXTcube en el CERN, y fue el primer servidor web del mundo.\n",
    "\n",
    "De <a href=\"https://en.wikipedia.org/wiki/User:Coolcaesar\" class=\"extiw\" title=\"en:User:Coolcaesar\">Coolcaesar</a> de la <a href=\"https://en.wikipedia.org/wiki/\" class=\"extiw\" title=\"w:\">Wikipedia en inglés</a>, <a href=\"http://creativecommons.org/licenses/by-sa/3.0/\" title=\"Creative Commons Attribution-Share Alike 3.0\">CC BY-SA 3.0</a>, <a href=\"https://commons.wikimedia.org/w/index.php?curid=395096\">Enlace</a>"
   ]
  },
  {
   "cell_type": "markdown",
   "metadata": {
    "slideshow": {
     "slide_type": "slide"
    }
   },
   "source": [
    "El joven\n",
    "físico había inventado lo que se llamó\n",
    "inicialmente WWW (abreviatura de *World Wide Web*) y más tarde\n",
    "simplemente **La Web**."
   ]
  },
  {
   "cell_type": "markdown",
   "metadata": {
    "slideshow": {
     "slide_type": "slide"
    }
   },
   "source": [
    "![Tim Barners-Lee](./img/tim-barners-lee.jpg)"
   ]
  },
  {
   "cell_type": "markdown",
   "metadata": {
    "slideshow": {
     "slide_type": "slide"
    }
   },
   "source": [
    "### Las bases tecnológicas\n",
    "\n",
    "En estos primeros tiempos, alla por los inicios de los 90 del pasado siglo, la\n",
    "web estaba constituida básicamente por unas pocas tecnologías:\n",
    "[HTML](http://es.wikipedia.org/wiki/HTML),\n",
    "[HTTP](http://es.wikipedia.org/wiki/Hypertext_Transfer_Protocol) y\n",
    "[MIME](http://es.wikipedia.org/wiki/MIME)."
   ]
  },
  {
   "cell_type": "markdown",
   "metadata": {
    "slideshow": {
     "slide_type": "slide"
    }
   },
   "source": [
    "**HTML** son las siglas en inglés de **Lenguaje de Marcado de Contexto**\n",
    "(*HyperText Markup Language*). El lenguaje de marcado HTML abriría\n",
    "muchas puertas a la publicación de artículos científicos (Esta\n",
    "era la idea inicial: facilitar la publicación de documentos\n",
    "científicos)."
   ]
  },
  {
   "cell_type": "markdown",
   "metadata": {
    "slideshow": {
     "slide_type": "slide"
    }
   },
   "source": [
    "En un entorno donde empezaban a proliferar las estaciones\n",
    "de trabajo, con monitores gráficos y recursos suficientes, HTML permitía\n",
    "ciertos lujos en lo que respecta a la presentación: efectos como\n",
    "diferentes tipografías, textos en cursiva o en negrita, imágenes\n",
    "empotradas pero, por encima de todo, enlaces hipertextuales. Volveremos\n",
    "sobre estos enlaces más adelante."
   ]
  },
  {
   "cell_type": "markdown",
   "metadata": {
    "slideshow": {
     "slide_type": "slide"
    }
   },
   "source": [
    "**HTTP** por su parte, proviene de **Protocolo de Transferencia de\n",
    "Hipertexto** (*Hypertext Transfer Protocol*). En su forma más simple, la\n",
    "cosa funciona así: Hay un programa cliente, llamada normalmente\n",
    "navegador, que es capaz de entender un documento escrito en HTML y\n",
    "presentarlo correctamente al usuario."
   ]
  },
  {
   "cell_type": "markdown",
   "metadata": {
    "slideshow": {
     "slide_type": "slide"
    }
   },
   "source": [
    "El cliente es capaz de solicitar\n",
    "estos documentos a cualquier servidor; para ello, el cliente y el\n",
    "servidor utilizan un protocolo común, el protocolo HTTP. El cliente\n",
    "puede hacer uso de un conjunto muy reducido de peticiones, de las cuales\n",
    "la más usual es `GET`, que simplemente es una petición de un determinado\n",
    "recurso al servidor. "
   ]
  },
  {
   "cell_type": "markdown",
   "metadata": {
    "slideshow": {
     "slide_type": "slide"
    }
   },
   "source": [
    "Ante esa petición, el servidor o bien sirve el\n",
    "documento solicitado, si es que lo tiene, o devuelve un mensaje de error\n",
    "indicando la causa por la que no le puede servir el documento."
   ]
  },
  {
   "cell_type": "markdown",
   "metadata": {
    "slideshow": {
     "slide_type": "slide"
    }
   },
   "source": [
    "**MIME**, iniciales de Extensiones Multiproposito de Correo Internet,\n",
    "(*Multipurpose Internet Mail Extensions*) era una tecnología \\\"tomada\n",
    "prestada\\\" de una parte de las especificaciones del correo electrónico\n",
    "en Internet, que por esa época estaba bastante desarrollada . Para que\n",
    "el protocolo HTML funcionara correctamente, hacía falta un sistema que\n",
    "permitiera al servidor informar sobre que tipo de contenido estaba\n",
    "sirviendo."
   ]
  },
  {
   "cell_type": "markdown",
   "metadata": {
    "slideshow": {
     "slide_type": "slide"
    }
   },
   "source": [
    "Veamos cada una de estas tecnologías con un poco más de detalle en las\n",
    "siguientes secciones."
   ]
  },
  {
   "cell_type": "markdown",
   "metadata": {
    "slideshow": {
     "slide_type": "slide"
    }
   },
   "source": [
    "### HTML (HyperText Markup Language)"
   ]
  },
  {
   "cell_type": "markdown",
   "metadata": {
    "slideshow": {
     "slide_type": "slide"
    }
   },
   "source": [
    "HTML es, como indica su nombre, un lenguaje de marcado. Un lenguaje de\n",
    "marcado es una forma de añadir a un texto información adicional, a\n",
    "menudo en forma de etiquetas."
   ]
  },
  {
   "cell_type": "markdown",
   "metadata": {
    "slideshow": {
     "slide_type": "slide"
    }
   },
   "source": [
    "Esta información adicional suele servir\n",
    "para indicar la estructura del texto (por ejemplo, para dividir el texto\n",
    "de un libro en capítulos) o para indicar aspectos relativos a la\n",
    "representación del texto (por ejemplo, esta palabra debe representarse\n",
    "con una determinada tipografía, o en itálica)."
   ]
  },
  {
   "cell_type": "markdown",
   "metadata": {
    "slideshow": {
     "slide_type": "slide"
    }
   },
   "source": [
    "HTML es solo otro\n",
    "lenguaje de marcado, de los cuales ya existían varios ejemplos previos,\n",
    "como [RTF](http://es.wikipedia.org/wiki/RTF) o\n",
    "[SGML](http://es.wikipedia.org/wiki/SGML), del cual deriva. "
   ]
  },
  {
   "cell_type": "markdown",
   "metadata": {
    "slideshow": {
     "slide_type": "slide"
    }
   },
   "source": [
    "Pero HTML tenía\n",
    "una virtud que, a la postre, resultó ser determinante para su éxito: era\n",
    "muy sencillo crear textos en él."
   ]
  },
  {
   "cell_type": "markdown",
   "metadata": {
    "slideshow": {
     "slide_type": "slide"
    }
   },
   "source": [
    "Esta sencillez tuvo dos consecuencias importantes: Por un lado,\n",
    "cualquiera que le dedicara un mínimo de tiempo a entender el formato\n",
    "podía producir un texto en HTML usando el más sencillo de los editores\n",
    "de texto."
   ]
  },
  {
   "cell_type": "markdown",
   "metadata": {
    "slideshow": {
     "slide_type": "slide"
    }
   },
   "source": [
    "Por otro lado, para los programadores era muy fácil generar\n",
    "textos marcados automáticamente.\n",
    "\n",
    "El siguiente texto es un ejemplo de un texto muy sencillo en HTML:"
   ]
  },
  {
   "cell_type": "raw",
   "metadata": {
    "slideshow": {
     "slide_type": "slide"
    }
   },
   "source": [
    "    <html>\n",
    "      <head>\n",
    "        <title>Ejemplo de texto HTML</title> \n",
    "      </head>\n",
    "      <body>\n",
    "        <h1>Ejemplo</h1>\n",
    "        <p>Hola, mundo.</p>\n",
    "      </body>\n",
    "    </html>"
   ]
  },
  {
   "cell_type": "markdown",
   "metadata": {
    "slideshow": {
     "slide_type": "slide"
    }
   },
   "source": [
    "En el ejemplo podemos apreciar algunas de las caracterísiticas del HTML.\n",
    "Las marcas, que en la nomenclatura de HTML se llaman __etiquetas__, estan\n",
    "diferenciadas del texto en si por un par de corchetes angulares, también\n",
    "conocidos como símbolos \"menor que\" y \"mayor que\", **`<`** y\n",
    "**`>`**."
   ]
  },
  {
   "cell_type": "markdown",
   "metadata": {
    "slideshow": {
     "slide_type": "slide"
    }
   },
   "source": [
    "Algunas etiquetas tienen sentido por si solas (por ejemplo\n",
    "`img`, que se usa para insertar una imagen externa dentro de la página),\n",
    "pero la mayor parte de ellas solo tienen sentido cuando se refieren a\n",
    "una determinada parte del texto. Para acotar el área sobre la que\n",
    "actúan, se utiliza una etiqueta de inicio y otra de final, siendo la\n",
    "etiqueta del final la misma que la de inicio, pero precedida por el\n",
    "carácter \"barra inclinada\": **`/`**.\n",
    "\n",
    "Por ejemplo, esta es la forma de indicar un párrafo de texto (etiqueta `p`)\n",
    "\n",
    "    <p>Hola, mundo.</p>"
   ]
  },
  {
   "cell_type": "markdown",
   "metadata": {
    "slideshow": {
     "slide_type": "slide"
    }
   },
   "source": [
    "**Ejercicio**: Copia el documento HTML de ejemplo de la celda y crea un nuevo documento\n",
    "con tu editor favorito. Salvalo con el nombre de `ejemplo.html`. Abrelo\n",
    "con cualquier navegador y comprueba que se ve correctamnte.\n",
    "\n",
    "Modifica el documento para poner la pamabra mundo en negrita (etiqueta `b`\n",
    "o `strong`). Guarda de nuevo el documento. Verifica que el navegador\n",
    "sigue mostrando la version anterir. Recarga la pagina en el navegador para\n",
    "ver los cambios."
   ]
  },
  {
   "cell_type": "markdown",
   "metadata": {
    "slideshow": {
     "slide_type": "slide"
    }
   },
   "source": [
    "El documento en si se compone de dos partes, la cabecera, etiquetada con\n",
    "`head`, donde irán normalmente metadatos del documento, como el título,\n",
    "indicado con las etiqueta `title` en nuestro ejemplo. El contenido real\n",
    "de documento, el *cuerpo* si seguimos su terminología, está marcado por\n",
    "la etiqueta `body`. La etiqueta *raiz*, que las engloba a todas es, como\n",
    "no, `html`."
   ]
  },
  {
   "cell_type": "markdown",
   "metadata": {
    "slideshow": {
     "slide_type": "slide"
    }
   },
   "source": [
    "De las etiquetas usadas en nuestro ejemplo, solo nos faltaría explicar\n",
    "la etiqueta `h1` y `p`. La etiqueta `p` vimos antes que  indica un\n",
    "párrafo."
   ]
  },
  {
   "cell_type": "markdown",
   "metadata": {
    "slideshow": {
     "slide_type": "slide"
    }
   },
   "source": [
    "La etiqueta `h1` indica una cabecera de nivel uno (Hay hasta \n",
    "6 niveles definidos en el HTML original, desde `h1` hasta `h6`). Estas\n",
    "etiquetas sirven para definir la estructura del documento: el navegador\n",
    "sabe que las secciones son más importantes cuanto más bajo el número,\n",
    "y lo representa con tipografías más grandes. Un párrafo irá con \n",
    "tipografía normal."
   ]
  },
  {
   "cell_type": "markdown",
   "metadata": {
    "slideshow": {
     "slide_type": "slide"
    }
   },
   "source": [
    "En la especificación inicial del HTML había tanto etiquetas con\n",
    "información estructural como de presentación. Así, había etiquetas como\n",
    "`b` para indicar texto en negrita o `i` para texto en itálicas."
   ]
  },
  {
   "cell_type": "markdown",
   "metadata": {
    "slideshow": {
     "slide_type": "slide"
    }
   },
   "source": [
    "Esta práctica se ha abandonado y ahora se recomienda usar HTML sólo para\n",
    "indicar la estructura del documento. Estas etiquetas en concreto, `b` e\n",
    "`i`, aunque soportadas en HTML5, están en vías de desaparición y se\n",
    "recomienda usar en su lugar las versiones más *semánticas* `strong` y\n",
    "`em`."
   ]
  },
  {
   "cell_type": "markdown",
   "metadata": {
    "slideshow": {
     "slide_type": "slide"
    }
   },
   "source": [
    "Los aspectos de la representación se resuelven con una tecnología\n",
    "que veremos posteriormente, llamada **Hojas de Estilo en Cascada** o\n",
    "[CSS](http://es.wikipedia.org/wiki/CSS) (*Cascading Style Sheets*)."
   ]
  },
  {
   "cell_type": "markdown",
   "metadata": {
    "slideshow": {
     "slide_type": "slide"
    }
   },
   "source": [
    "### HTTP (Hypertext Transfer Protocol)"
   ]
  },
  {
   "cell_type": "markdown",
   "metadata": {
    "slideshow": {
     "slide_type": "slide"
    }
   },
   "source": [
    "La tecnología HTTP es un protocolo, es decir, son unas normas que\n",
    "permiten al cliente y al servidor entenderse. Viendo el resultado, se\n",
    "advierte que se pretendía la máxima sencillez. El protocolo define solo\n",
    "un número limitado de operaciones posibles: 3 en el protocolo HTTP 1.0,\n",
    "8 en el estandar más usado en la actualidad, HTTP 1.1. Las ordenes más\n",
    "usadas son `GET`, `POST` y `HEAD`."
   ]
  },
  {
   "cell_type": "markdown",
   "metadata": {
    "slideshow": {
     "slide_type": "slide"
    }
   },
   "source": [
    "Cada operación se realiza de la misma manera: El cliente solicita una\n",
    "determinada petición, y el servidor, o bien acepta la petición, o bien\n",
    "la rechaza. En cualquier caso, enviará la respuesta correspondiente al\n",
    "cliente."
   ]
  },
  {
   "cell_type": "markdown",
   "metadata": {
    "slideshow": {
     "slide_type": "slide"
    }
   },
   "source": [
    "Tanto la petición como la respuesta contienen una cabecera\n",
    "donde pueden ir varios campos de información adicional. La cabecera está\n",
    "separada de los datos adjuntos, si los hubiera, con un doble salto de\n",
    "línea. Fin de la petición. No hay más, en realidad."
   ]
  },
  {
   "cell_type": "markdown",
   "metadata": {
    "slideshow": {
     "slide_type": "slide"
    }
   },
   "source": [
    "Además, es un protocolo sin estado. Es decir, no se almacenada ninguna\n",
    "información entre peticiones y, por lo tanto, cada petición es un todo\n",
    "completo, totalmente aislada de las peticiones que pudieran venir antes\n",
    "o después. Esto simplifica enormemente el protocolo, pero dificulta\n",
    "realizar algunas operaciones, que se tienen que realizar fuera del\n",
    "mismo."
   ]
  },
  {
   "cell_type": "markdown",
   "metadata": {
    "slideshow": {
     "slide_type": "slide"
    }
   },
   "source": [
    "La sencillez del protocolo era, por tanto, deliberada, igual que en el\n",
    "HTML, y de igual manera fue un factor importante en el éxito del\n",
    "protocolo.\n",
    "\n",
    "De hecho, la mayor parte de los lenguajes modernos, como\n",
    "[Python](http://www.python.org/) o [Ruby](http://www.ruby-lang.org/),\n",
    "incluyen de serie una implementación de un servidor HTTP, y en cualquier\n",
    "caso, hay implementaciones para prácticamente cualquier lenguaje en uso\n",
    "en la actualidad: Java, C\\#, C, C++, [Scala](http://www.scala-lang.org/)\n",
    "e incluso Fortran, por citar algunos."
   ]
  },
  {
   "cell_type": "markdown",
   "metadata": {
    "slideshow": {
     "slide_type": "slide"
    }
   },
   "source": [
    "### MIME (Multipurpose Internet Mail Extensions)"
   ]
  },
  {
   "cell_type": "markdown",
   "metadata": {
    "slideshow": {
     "slide_type": "slide"
    }
   },
   "source": [
    "MIME, como vimos antes, era tecnología reciclada, una parte de las\n",
    "especificaciones del correo electrónico que, en 1995, ya era una\n",
    "tecnología probada y conocida.\n",
    "\n",
    "las primeras direcciones de correo electrónico con la ahora\n",
    "reconocible arroba separando el\n",
    "nombre del usuario del nombre del ordenador empezaron a usarse en 1971,\n",
    "más de veinte años antes."
   ]
  },
  {
   "cell_type": "markdown",
   "metadata": {
    "slideshow": {
     "slide_type": "slide"
    }
   },
   "source": [
    "MIME resolvía un problema importante para la web: como indicar de forma\n",
    "fiable y estándar que tipo de contenidos se están transfiriendo en una\n",
    "petición HTTP. Después de todo, un documento HTML es, como hemos visto,\n",
    "simplemente un fichero de texto normal."
   ]
  },
  {
   "cell_type": "markdown",
   "metadata": {
    "slideshow": {
     "slide_type": "slide"
    }
   },
   "source": [
    "Algo había que hacer para que el\n",
    "cliente pudiera distinguir si lo que el servidor le envía es texto plano\n",
    "normal, texto HTML o cualquier otro tipo de contenido, como una imagen,\n",
    "por ejemplo."
   ]
  },
  {
   "cell_type": "markdown",
   "metadata": {
    "slideshow": {
     "slide_type": "slide"
    }
   },
   "source": [
    "MIME era la solución perfecta para este problema, porque\n",
    "realizaba exactamente la misma función dentro del correo electrónico. El\n",
    "correo electrónico lo había incorporado para poder añadir anexos a los\n",
    "mensajes de texto, anexos que podían ser de cualquier tipo. Fue otro\n",
    "acierto de Tim Barners-Lee adaptar este sistema que era ya un estándar\n",
    "ampliamente utilizado, en vez de reinventar la rueda."
   ]
  },
  {
   "cell_type": "markdown",
   "metadata": {
    "slideshow": {
     "slide_type": "slide"
    }
   },
   "source": [
    "MIME se utiliza en la cabecera `content-type`, que\n",
    "especifica el formato usado en los datos, y que consiste en un tipo\n",
    "seguido de un subtipo; por ejemplo, para indicar que los datos que\n",
    "estamos trasmitiendo son texto html, usaríamos el tipo `text` y el\n",
    "subtipo `html`."
   ]
  },
  {
   "cell_type": "markdown",
   "metadata": {
    "slideshow": {
     "slide_type": "slide"
    }
   },
   "source": [
    "Dentro de la cabecera de la respuesta tendríamos algo\n",
    "como esto:\n",
    "\n",
    "    content-type: text/html"
   ]
  },
  {
   "cell_type": "markdown",
   "metadata": {
    "slideshow": {
     "slide_type": "slide"
    }
   },
   "source": [
    "Si quisiéramos indicar que la respuesta es un texto sin ningún formato,\n",
    "la cabecera sería:\n",
    "\n",
    "    content-type: text/plain"
   ]
  },
  {
   "cell_type": "markdown",
   "metadata": {
    "slideshow": {
     "slide_type": "slide"
    }
   },
   "source": [
    "Es decir, tipo `text` (texto) y subtipo `plain` (plano, es decir, sin\n",
    "marcas). Prácticamente cualquier tipo de archivo está reconocido y\n",
    "estandarizado como tipo/subtipo MIME. Por ejemplo, una imagen en formato\n",
    "PNG tiene un tipo/subtipo `image/png`."
   ]
  },
  {
   "cell_type": "markdown",
   "metadata": {
    "slideshow": {
     "slide_type": "slide"
    }
   },
   "source": [
    "### Una petición web sencilla"
   ]
  },
  {
   "cell_type": "markdown",
   "metadata": {
    "slideshow": {
     "slide_type": "slide"
    }
   },
   "source": [
    "Ahora que hemos visto las tecnologías implicadas, podemos entender como\n",
    "es una operación típica en la web."
   ]
  },
  {
   "cell_type": "markdown",
   "metadata": {
    "slideshow": {
     "slide_type": "slide"
    }
   },
   "source": [
    "Empezamos con el cliente (que, si somos fieles\n",
    "a la reconstrucción histórica, podría ser\n",
    "[Mosaic](http://en.wikipedia.org/wiki/Mosaic_%28web_browser%29), el\n",
    "segundo navegador en la historia y antecesor del actual\n",
    "[Firefox](http://www.mozilla.org/). \n",
    "\n",
    "El primer navegador web se llamaba\n",
    "WorldWideWeb, pero se cambio su nombre a __Nexus__ cuando se empezó a usar\n",
    "esta expresión para referirse a la naciente red de páginas y servidores\n",
    "que estaban surgiendo por doquier)."
   ]
  },
  {
   "cell_type": "markdown",
   "metadata": {
    "slideshow": {
     "slide_type": "slide"
    }
   },
   "source": [
    "El usuario solicita una página, ya sea porque se sabe la dirección y la\n",
    "escribe en la barra de direcciones, o porque pulsa en un enlace dentro\n",
    "del texto que está leyendo. Para el navegador, cualquiera de los dos\n",
    "casos significan lo mismo: tiene que solicitar una nueva página para\n",
    "sustituir la que tiene en la actualidad."
   ]
  },
  {
   "cell_type": "markdown",
   "metadata": {
    "slideshow": {
     "slide_type": "slide"
    }
   },
   "source": [
    "Lo primero que hace es analizar la petición, extrayendo de la misma el\n",
    "nombre del servidor al cual debe solicitar la petición. A continuación,\n",
    "realiza una petición HTTP a dicho servidor (usando el puerto 80 si no se\n",
    "indica lo contrario, porque el puerto 80 es el puerto por defecto para\n",
    "el protocolo HTTP)."
   ]
  },
  {
   "cell_type": "markdown",
   "metadata": {
    "slideshow": {
     "slide_type": "slide"
    }
   },
   "source": [
    "Al estar conectados mediante Internet, no importa\n",
    "donde esté físicamente el servidor, el protocolo TCP y otros protocolos\n",
    "de nivel inferior, como el Servicio de Nombres de Dominios\n",
    "[DNS](http://es.wikipedia.org/wiki/DNS) (siglas de *Domain Name\n",
    "System*), resuelven todos esos enojosos detalles por nosotros."
   ]
  },
  {
   "cell_type": "markdown",
   "metadata": {
    "slideshow": {
     "slide_type": "slide"
    }
   },
   "source": [
    "En la petición irá la ruta del documento, extraída también de la\n",
    "dirección de la página, acompañada de otros datos que pudieran ser de\n",
    "interés para el servidor, como la versión del protocolo HTTP a usar, si\n",
    "se aceptan o no algún tipo de compresión de datos en la respuesta y todo\n",
    "tipo de detalles técnicos que, por el momento, no nos afectan."
   ]
  },
  {
   "cell_type": "markdown",
   "metadata": {
    "slideshow": {
     "slide_type": "slide"
    }
   },
   "source": [
    "El servidor recibe la petición, y como vimos en el apartado sobre el\n",
    "HTTP, solo tiene dos opciones, o enviar como respuesta el documento o\n",
    "indicar un error que especifique la razón por la que no lo pudo servir."
   ]
  },
  {
   "cell_type": "markdown",
   "metadata": {
    "slideshow": {
     "slide_type": "slide"
    }
   },
   "source": [
    "Las causas pueden ser muchas, pero la más frecuente con diferencia es el\n",
    "famoso **Error 404**, código de error que indica que en la dirección\n",
    "indicada no existe ningún documento, ya sea porque el documento se ha\n",
    "borrado o, bastante más habitual, porque se ha escrito mal la dirección."
   ]
  },
  {
   "cell_type": "markdown",
   "metadata": {
    "slideshow": {
     "slide_type": "slide"
    }
   },
   "source": [
    "Si todo ha ido bien, el servidor encontrará el documento solicitado en\n",
    "su sistema de ficheros. Ahora envía al cliente el documento, precedido\n",
    "por una cabecera donde incluye información de diversa índole. Por\n",
    "ejemplo, la cabecera incluirá un campo `content-type` para especificar\n",
    "que tipo de documento se está enviando."
   ]
  },
  {
   "cell_type": "markdown",
   "metadata": {
    "slideshow": {
     "slide_type": "slide"
    }
   },
   "source": [
    "Como vimos en la sección sobre\n",
    "MIME, si el documento es HTML, el tipo MIME correspondiente es\n",
    "`text/html`. Otro tipo de información adicional que el servidor puede\n",
    "decidir incluir en la cabecera es la fecha y hora de la última\n",
    "modificación del documento, el tamaño en bytes del mismo o una \"firma\"\n",
    "que identifique el software usado como servidor, entre otras."
   ]
  },
  {
   "cell_type": "markdown",
   "metadata": {
    "slideshow": {
     "slide_type": "slide"
    }
   },
   "source": [
    "Una vez que el cliente recibe el documento, le presenta al cliente. Esto\n",
    "implica leer y entender la estructura del HTML que se ha recibido, para\n",
    "poder representarlo gráficamente. Esta operación es con mucho la tarea\n",
    "más ardua de las que realiza el navegador."
   ]
  },
  {
   "cell_type": "markdown",
   "metadata": {
    "slideshow": {
     "slide_type": "slide"
    }
   },
   "source": [
    "La parte buena es que, como\n",
    "desarrolladores web, estamos en el extremo del servidor y, por tanto,\n",
    "los problema del cliente no nos deberían afectar."
   ]
  },
  {
   "cell_type": "markdown",
   "metadata": {
    "slideshow": {
     "slide_type": "slide"
    }
   },
   "source": [
    "La parte mala es que,\n",
    "en la realidad, como cualquier desarrollador web puede atestiguar, las\n",
    "diferencias en la forma que diferentes navegadores web interpretan el\n",
    "mismo código HTML representan una importantísima parte del trabajo, y es\n",
    "la causa del 99% de los dolores de cabeza de los desarrolladores. "
   ]
  },
  {
   "cell_type": "markdown",
   "metadata": {
    "slideshow": {
     "slide_type": "slide"
    }
   },
   "source": [
    "Pero en 1995 todavía no existía ese\n",
    "problema, así que el desarrollo web era, por encima de todo, bastante\n",
    "sencillo."
   ]
  },
  {
   "cell_type": "markdown",
   "metadata": {
    "slideshow": {
     "slide_type": "slide"
    }
   },
   "source": [
    "### Si es tan sencillo ¿Para que necesito un *framework*?\n",
    "\n",
    "La respuesta rápida es: porque yo no estamos en 1995. El escenario\n",
    "típico de una petición web es considerablemente más complejo ahora. Hay\n",
    "nuevas tecnologías en casi cada parte del proceso.\n",
    "\n",
    "Las páginas web ya no\n",
    "se usan mayoritariamente para facilitar las publicaciones científicas,\n",
    "sino para miles de usos, la mayoría de ellos impensables en 1995. Estoy\n",
    "razonablemente seguro de que servicios como\n",
    "[HotOrNot](http://hotornot.com/) no estaban en la cabeza de Barners-Lee\n",
    "cuando compiló su primer servidor web en el CERN. \n",
    "\n",
    "En algunos casos, no tiene ni siquiera sentido hablar de \"páginas\n",
    "web\". ¿Quién podría argumentar que Google Mail, por ejemplo, es\n",
    "simplemente una página web? No, la convergencia de tecnologías como CSS,\n",
    "JavaScript, Ajax, HTML5 han permitido un nuevo tipo de producto Web, las\n",
    "aplicaciones Web. Para monstruos de estas dimensiones, tener un\n",
    "*framework* es una gran ayuda.\n",
    "\n",
    "Básicamente, los problemas que resuelve un *framework* de desarrollo web\n",
    "como Django o flask son los siguiente:"
   ]
  },
  {
   "cell_type": "markdown",
   "metadata": {},
   "source": []
  }
 ],
 "metadata": {
  "celltoolbar": "Slideshow",
  "kernelspec": {
   "display_name": "Python 3",
   "language": "python",
   "name": "python3"
  },
  "language_info": {
   "codemirror_mode": {
    "name": "ipython",
    "version": 3
   },
   "file_extension": ".py",
   "mimetype": "text/x-python",
   "name": "python",
   "nbconvert_exporter": "python",
   "pygments_lexer": "ipython3",
   "version": "3.7.6"
  }
 },
 "nbformat": 4,
 "nbformat_minor": 4
}
