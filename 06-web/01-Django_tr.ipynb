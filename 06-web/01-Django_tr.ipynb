{
 "cells": [],
 "metadata": {
  "language_info": {
   "codemirror_mode": {
    "name": "ipython",
    "version": 3
   },
   "file_extension": ".py",
   "mimetype": "text/x-python",
   "name": "python",
   "nbconvert_exporter": "python",
   "pygments_lexer": "ipython3",
   "version": "3.8.2-final"
  },
  "orig_nbformat": 2,
  "kernelspec": {
   "name": "python38264biteoivenv795d6782b4b1441f8d9e654db7403b24",
   "display_name": "Python 3.8.2 64-bit ('eoi': venv)"
  }
 },
 "nbformat": 4,
 "nbformat_minor": 2
}