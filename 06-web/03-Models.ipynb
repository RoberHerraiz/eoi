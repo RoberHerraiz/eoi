{
 "cells": [
  {
   "cell_type": "markdown",
   "metadata": {},
   "source": [
    "## Modelos en Django\n",
    "\n",
    "Cuando queremos almacenar y recuperar imformación sobre\n",
    "nuestras entidades, en Django definimos modelos."
   ]
  },
  {
   "cell_type": "markdown",
   "metadata": {},
   "source": [
    "Si venimos de un diagrama E/R, entonces probablemente\n",
    "cada entidad se representara con un modelo, y para cada\n",
    "modelo definiremos una serie de de campos (*fields*), que\n",
    "equivalen a los atributos del modelo E/R.\n",
    "\n",
    "Las relaciones, si son especialmente importantes\n",
    "o tiene atributos, tambien pueden ser implementadas con\n",
    "modelos.\n",
    "\n",
    "### Nuestro primer modelo\n",
    "\n",
    "Vamos a implementar nuestro primer modelo. Viendo el diagrama\n",
    "de E/R que desarrollamos, hay una entidad que parace bastante\n",
    "sencilla: los poderes. No tienen muchos atributos \n",
    "y son sencillos de entender.\n",
    "\n",
    "Vamos a crear nuestro primer modelo basado en esta entidad.\n",
    "Vamos a llamar al modelo `Power`. La convencion es usar la\n",
    "inicial en mayúsuculas, porque es una clase, y se recomienda\n",
    "usar siempre la forma singular (Es decir, mejor *Power* que\n",
    "*powers*)\n",
    "\n",
    "Basicamente son dos atributos, nombre y descripción. Así\n",
    "que este es nuestro primer modelo:\n",
    "\n",
    "    class Power(models.Model):\n",
    "        name = CharField(max_length=32)\n",
    "        description = CharField(max_length=120)\n",
    "\n",
    "Vamos a crear el fichero `models.py` dentro de la carpeta\n",
    "`metahumans`. Dentro del fichero importamos `django.models` para\n",
    "poder tener acceso a la clase base `models.Model` y pegamos la\n",
    "definición aterior. El fichero debería quedar así:\n",
    "\n",
    "    from django import models\n",
    "    \n",
    "    class Power(models.Model):\n",
    "        name = models.CharField(max_length=32)\n",
    "        description = models.CharField(max_length=120)\n",
    "\n",
    "Ahora podemos ejecutar el comando de manage `check` para ver si todo \n",
    "ha ido bien. \n",
    "\n",
    "El siguiente paso, si no hay errores, es crear una migración para crear tablas en la base\n",
    "de datos que sirvan para el almacenamiento de este\n",
    "modelo.\n",
    "\n",
    "Para ello se usa el comand de manage `migrate`, normalmente indicando\n",
    "la app sobre la que queremos generar las migraciones. Pero primero\n",
    "veamos las migraciones que tenemos actualmente reconocidas por el\n",
    "sistema. Hagamos:\n",
    "\n",
    "    manage.py showmigrations\n",
    "\n",
    "Y deberiamos obtener algo como:\n",
    "\n",
    "    admin\n",
    "    [X] 0001_initial\n",
    "    [X] 0002_logentry_remove_auto_add\n",
    "    [X] 0003_logentry_add_action_flag_choices\n",
    "    auth\n",
    "    [X] 0001_initial\n",
    "    [X] 0002_alter_permission_name_max_length\n",
    "    [X] 0003_alter_user_email_max_length\n",
    "    [X] 0004_alter_user_username_opts\n",
    "    [X] 0005_alter_user_last_login_null\n",
    "    [X] 0006_require_contenttypes_0002\n",
    "    [X] 0007_alter_validators_add_error_messages\n",
    "    [X] 0008_alter_user_username_max_length\n",
    "    [X] 0009_alter_user_last_name_max_length\n",
    "    [X] 0010_alter_group_name_max_length\n",
    "    [X] 0011_update_proxy_permissions\n",
    "    commons\n",
    "    (no migrations)\n",
    "    contenttypes\n",
    "    [X] 0001_initial\n",
    "    [X] 0002_remove_content_type_name\n",
    "    metahumans\n",
    "    (no migrations)\n",
    "    sessions\n",
    "    [X] 0001_initial\n",
    "\n",
    "Vemos ahí que tenemos aplicadas todas las migraciones, y vemos que nos aparece\n",
    "nuestras apps `commons` y `metahumans`, pero sin ninguna migración. (Si no aparece\n",
    "`commons` o `metahumans`, es que nos hemos despistado de incluirlas en la variable\n",
    "`INSTALLED_APPS` del fichero de ajustes `settings.py`).\n",
    "\n",
    "El caso es que hemos creado el modelo, y para que ese cambio se refleje en la\n",
    "base de datos, el método más cómodo es usar migraciones (La otra opcion es\n",
    "reflejar el cambio nosotros a mano en la base de datos).\n",
    "\n",
    "Para que django cree la migracion, lo que hace es comprobar la diferencia entre\n",
    "el ultimo estado de la base de datos y la configuracion actual de los modelos.\n",
    "\n",
    "Si no coinciden -como es el caso, ya que hay una nueva entidad y por tanto se\n",
    "necesita una nueva tabla- se crea una nueva migración, marcada como \"sin\n",
    "aplicar\".\n",
    "\n",
    "Para crear la migración, se usa la orden `makemigrations`, como se\n",
    "dijo anteriormente.\n",
    "\n",
    "    python manage.py makemigrations metas\n",
    "\n",
    "Deberíamos obtener algo como esto\n",
    "\n",
    "    Migrations for 'metahumans':\n",
    "    metahumans/migrations/0001_initial.py\n",
    "        - Create model Power\n",
    "\n",
    "¡Felicidades! Has creado tu primera migración. Una nueva consulta\n",
    "con `showmigrations` deberia mostrarnos esta nueva migración, no aplicada:\n",
    "\n",
    "    admin\n",
    "    [X] 0001_initial\n",
    "    [X] 0002_logentry_remove_auto_add\n",
    "    [X] 0003_logentry_add_action_flag_choices\n",
    "    auth\n",
    "    [X] 0001_initial\n",
    "    [X] 0002_alter_permission_name_max_length\n",
    "    [X] 0003_alter_user_email_max_length\n",
    "    [X] 0004_alter_user_username_opts\n",
    "    [X] 0005_alter_user_last_login_null\n",
    "    [X] 0006_require_contenttypes_0002\n",
    "    [X] 0007_alter_validators_add_error_messages\n",
    "    [X] 0008_alter_user_username_max_length\n",
    "    [X] 0009_alter_user_last_name_max_length\n",
    "    [X] 0010_alter_group_name_max_length\n",
    "    [X] 0011_update_proxy_permissions\n",
    "    commons\n",
    "    (no migrations)\n",
    "    contenttypes\n",
    "    [X] 0001_initial\n",
    "    [X] 0002_remove_content_type_name\n",
    "    metahumans\n",
    "    [ ] 0001_initial\n",
    "    sessions\n",
    "    [X] 0001_initial\n",
    "\n",
    "Ahora podemos aplicarla con `migrate`:\n",
    "\n",
    "    python manage.py migrate metahumans\n",
    "    \n",
    "Despues de aplicada, `showmigrations` nos marca con una 'X' para saber que\n",
    "esa migraci'on ya se ha aplicado. Podemos hacer el `migrate` de nuevo, y  ahora\n",
    "no hará nada, porque el sistema es lo suficientemente listo como para\n",
    "saber que no deba aplicar la misma migraci'on dos veces."
   ]
  },
  {
   "cell_type": "markdown",
   "metadata": {},
   "source": [
    "### Tipos de campos disponibles\n",
    "\n",
    "Django viene con un conjunto de tipos de campos bastante extenso,\n",
    "veremos con más detalle cada uno de ellos. Los agruparemos según el tipo\n",
    "de datos que usará la base de datos subyacente para almacenarlos:"
   ]
  },
  {
   "cell_type": "markdown",
   "metadata": {
    "slideshow": {
     "slide_type": "slide"
    }
   },
   "source": [
    "### Para almacenar números\n",
    "\n",
    "- IntegerField\n",
    "- AutoField\n",
    "- BigIntegerField\n",
    "- DecimalField\n",
    "- FloatField\n",
    "- PositiveIntegerField\n",
    "- PositiveSmallIntegerField\n",
    "- SmallIntegerField"
   ]
  },
  {
   "cell_type": "markdown",
   "metadata": {
    "slideshow": {
     "slide_type": "slide"
    }
   },
   "source": [
    "El campo `IntegerField` es un campo para lamacenar un número entero.\n",
    "Dependiendo de la base de datos que se esté utilizando, el rango\n",
    "de valores posibles puede variar, pero el rango desde $-2147483648$ hasta $2147483647$\n",
    "es soportado por todas las bases de datos que Django soporta."
   ]
  },
  {
   "cell_type": "markdown",
   "metadata": {
    "slideshow": {
     "slide_type": "slide"
    }
   },
   "source": [
    "El tipo `AutoField` es el que se utiliza de forma automática para\n",
    "las claves primarias si no lo hemos hecho al definir el modelo. Es un\n",
    "campo numérico similar a `IntegerField`, pero que aumentará de valor \n",
    "automaticamente cada vez que añadamos un nuevo registro o fila a la tabla."
   ]
  },
  {
   "cell_type": "markdown",
   "metadata": {
    "slideshow": {
     "slide_type": "slide"
    }
   },
   "source": [
    "El campo `BigIntegerField` almacena enteros pero garantiza que el rango será\n",
    "mayor (Internamente fuerza a usar 64 bits), así que el rango de valores\n",
    "que puede almacenar va desde $-9223372036854775808$ to $9223372036854775807$."
   ]
  },
  {
   "cell_type": "markdown",
   "metadata": {
    "slideshow": {
     "slide_type": "slide"
    }
   },
   "source": [
    "Tanto el campo `FloatField` como `DecimalField` permiten almacenar valores\n",
    "numéricos decimales, es decir, los que tienen una parte *decimal*. La diferencia\n",
    "es que `FloatField` almacena esta informacion usando el formato de coma\n",
    "flotante, que es util para almacenar con la maxima precisión que la máquina\n",
    "nos pueda dar. `DecimalField`, por otro lado, limita expresamente la candida\n",
    "de dígitos que podemos representar despues de la coma. "
   ]
  },
  {
   "cell_type": "markdown",
   "metadata": {
    "slideshow": {
     "slide_type": "slide"
    }
   },
   "source": [
    "##### El uso de `DecimalField` es, por tanto, especialmente indicado para almacenar \n",
    "valores de monedas, en las cuales las subdivisiones llegan solo hasta un\n",
    "determinado nivel. Por ejemplo, $3.45$ euros tiene sentido (3 euros y 45 céntimos)\n",
    "pero $3.449$ euros no tiene sentido, no existen subdivisiones del céntimo. Usaremos\n",
    "`FloatField` cuando queremos mantener la precisión más alta posible, para\n",
    "cálculos precisos."
   ]
  },
  {
   "cell_type": "code",
   "execution_count": 2,
   "metadata": {
    "slideshow": {
     "slide_type": "slide"
    }
   },
   "outputs": [
    {
     "data": {
      "text/plain": [
       "-1.1102230246251565e-16"
      ]
     },
     "execution_count": 2,
     "metadata": {},
     "output_type": "execute_result"
    }
   ],
   "source": [
    "(0.1+0.1+0.1+0.1+0.1+0.1+0.1+0.1+0.1+0.1) - 1.0"
   ]
  },
  {
   "cell_type": "markdown",
   "metadata": {
    "slideshow": {
     "slide_type": "slide"
    }
   },
   "source": [
    "`SmallIntegerField` almacena enteros en el rango inferior al de `IntegerField`. Este\n",
    "rango depende de la base de datos usada, pero podemos asumir como seguro\n",
    "el rango desde $-32768$ a $32767$. "
   ]
  },
  {
   "cell_type": "markdown",
   "metadata": {
    "slideshow": {
     "slide_type": "slide"
    }
   },
   "source": [
    "`PositiveIntegerField` y `PositiveSmallIntegerField` son como `IntegerField` y `SmallIntegerField`\n",
    "pero con la limitación de que solo aceptaran valores positivos"
   ]
  },
  {
   "cell_type": "markdown",
   "metadata": {
    "slideshow": {
     "slide_type": "slide"
    }
   },
   "source": [
    "### Para almacenar valores lógicos (booleanos)\n",
    "\n",
    "- `BooleanField`\n",
    "- `NullBooleanField`\n",
    "\n",
    "LA diferencia entre estos dos campos es que el primero solo acepta los\n",
    "valores `True` o `False`, mientras que el segundo también acepta un `None`."
   ]
  },
  {
   "cell_type": "markdown",
   "metadata": {
    "slideshow": {
     "slide_type": "slide"
    }
   },
   "source": [
    "### Para almacenar fechas y tiempos\n",
    "\n",
    "- DateField\n",
    "- DateTimeField\n",
    "- TimeField"
   ]
  },
  {
   "cell_type": "markdown",
   "metadata": {
    "slideshow": {
     "slide_type": "slide"
    }
   },
   "source": [
    "Estos campos se usan para añadir a nuestro modelos fechas, tiempos o marcas temporales (fecha+tiempo).\n",
    "Hay dos parametros que se suelen usar mucho con estos tipos de datos:"
   ]
  },
  {
   "cell_type": "markdown",
   "metadata": {
    "slideshow": {
     "slide_type": "slide"
    }
   },
   "source": [
    "- `auto_now` ajusta automaticamente el valor del campo al momento o dia actual cada vez que\n",
    "el modelo es modificado y almacenado en la base de datos. De esta forma obtenemos un campo\n",
    "que registra siempre el ultimo momento en que un registro ha sido alterado."
   ]
  },
  {
   "cell_type": "markdown",
   "metadata": {
    "slideshow": {
     "slide_type": "slide"
    }
   },
   "source": [
    "- `auto_now_add` ajusta también automáticamente el valor, pero solo la primera vez, es decir,\n",
    "cuando el registro se ha creado. Las siguientes operaciones que cambien valores en el registro\n",
    "no afectan a este valor."
   ]
  },
  {
   "cell_type": "markdown",
   "metadata": {
    "slideshow": {
     "slide_type": "slide"
    }
   },
   "source": [
    "Si usamos estas opciones, no podemos usar `default`, y viceversa, ya que entran en conflicto."
   ]
  },
  {
   "cell_type": "markdown",
   "metadata": {
    "slideshow": {
     "slide_type": "slide"
    }
   },
   "source": [
    "**Ejercicio**: Añadir al modelo `MetaHuman` un campo, de uso interno, que llamaremos `last_update` para que se almacenen los cambios cada vez que se modifica un registro."
   ]
  },
  {
   "cell_type": "markdown",
   "metadata": {
    "slideshow": {
     "slide_type": "slide"
    }
   },
   "source": [
    "Recuerda que debes:\n",
    "\n",
    " - Modificar el modelo\n",
    " - Comprobar que no hay errores (`manage.py check`)\n",
    " - Crear la migración (`manage.py makemigrations`)\n",
    " - Opcionalmente, comprobar que la migración existe pero no esta aplicada (`manage.py showmigrations`)\n",
    " - Aplicar la migración (`manage.py migrate`)\n",
    " - Opcionalmente, comprobar que la aplicacion ha sido aplicada (`manage.py showmigrations`)"
   ]
  },
  {
   "cell_type": "markdown",
   "metadata": {
    "slideshow": {
     "slide_type": "slide"
    }
   },
   "source": [
    "### Para almacenar textos\n",
    "\n",
    "- CharField\n",
    "- TextField\n",
    "- EmailField\n",
    "- GenericIPAddressField\n",
    "- URLField\n",
    "- SlugField"
   ]
  },
  {
   "cell_type": "markdown",
   "metadata": {
    "slideshow": {
     "slide_type": "slide"
    }
   },
   "source": [
    "Los campos `CharField` y `TextField` son ambos utiles para guardar textos. La diferencia\n",
    "estriba en el tamaño.\n",
    "\n",
    "Se espera que CharField sea para campos de texto relativamente\n",
    "prqueños (Por ejemplo, el nombre del puesto en una oferta de trabajo, algo\n",
    "como `Python Developer`)\n",
    "\n",
    "Mientras que en TextField se espera guardar cantidades de texto\n",
    "mayores (De nuevo con el ejemplo de una oerta de empleo, la descripción completa\n",
    "del puesto, incluyendo deberes y responsabilidades). La app `admin` reconoce esta diferencia y usa controles diferentes para cada\n",
    "campo."
   ]
  },
  {
   "cell_type": "markdown",
   "metadata": {
    "slideshow": {
     "slide_type": "slide"
    }
   },
   "source": [
    "Los campos `EmailField`, `GenericIPAddressField` y `URLField` son campos de texto especializados\n",
    "en cada uno de los valores indicados por su nombre. Se realizan automaticamente validaciones\n",
    "para cada uno de estos campos."
   ]
  },
  {
   "cell_type": "markdown",
   "metadata": {
    "slideshow": {
     "slide_type": "slide"
    }
   },
   "source": [
    "Por último, `SlugField` es un termino traido de los periodicos. Es una etiqueta corta, que\n",
    "se usa normalmente para identificar o discriminar, y que contiene solo letras, números\n",
    "y los símbolos `_` y `-`. Se usan generalente para formar parte de un URL. Una entrada de\n",
    "un blog, por ejemplo, podria usar un *slug* basado en el titulo para crear una URL permanente\n",
    "que apunta a dicha entrada."
   ]
  },
  {
   "cell_type": "markdown",
   "metadata": {
    "slideshow": {
     "slide_type": "slide"
    }
   },
   "source": [
    "Igual que un `CharField`, podemos especificar una longitud máxima. Por defecto es $50$. A nivel\n",
    "de base de datos, se creara también un índice, lo que en la práctica impide usar valores\n",
    "duplicados y conviderte al *slug* en una clave candidata o al menos en parte de una clave\n",
    "candidata."
   ]
  },
  {
   "cell_type": "markdown",
   "metadata": {
    "slideshow": {
     "slide_type": "slide"
    }
   },
   "source": [
    "A menudo es útil precalcular o establecer un valor inicial de forma automática al campo\n",
    "*slug* basandonos en otros campos. Se puede definir esto automaticamente en el admin\n",
    "usando la propiedad `prepopulated_fields`."
   ]
  },
  {
   "cell_type": "markdown",
   "metadata": {
    "slideshow": {
     "slide_type": "slide"
    }
   },
   "source": [
    "Si especificamos `allow_unicode` como `True` (Por defecto es `False`) el campo\n",
    "aceptará tambien letras `unicode`, como `á`, en vez de limitarse a letras ASCII."
   ]
  },
  {
   "cell_type": "markdown",
   "metadata": {
    "slideshow": {
     "slide_type": "slide"
    }
   },
   "source": [
    "### Para almacenar ficheros\n",
    "\n",
    "Los ficheros, en realidad, se almacenan en la base de datos en un campo\n",
    "de texto variable, pero tiene unas cuantas particularidades que\n",
    "aconsejan explicarlos aparte"
   ]
  },
  {
   "cell_type": "markdown",
   "metadata": {
    "slideshow": {
     "slide_type": "slide"
    }
   },
   "source": [
    "- FileField\n",
    "- FilePathField\n",
    "- ImageField"
   ]
  },
  {
   "cell_type": "markdown",
   "metadata": {
    "slideshow": {
     "slide_type": "slide"
    }
   },
   "source": [
    "Cuando usamos un campo de tipo `FileField` o `ImageField`, el archivo\n",
    "que subimos es almacenado por el servidor en el sistema de ficheros, y\n",
    "lo que se guarda en la base de datos es una *ruta parcial* al mismo, en un\n",
    "campo de texto variable. "
   ]
  },
  {
   "cell_type": "markdown",
   "metadata": {
    "slideshow": {
     "slide_type": "slide"
    }
   },
   "source": [
    "La ruta absoluta en el sistema de ficheros\n",
    "(accesible mediante el atributo `path` del campo) se compone a partir de\n",
    "varios elementos:"
   ]
  },
  {
   "cell_type": "markdown",
   "metadata": {
    "slideshow": {
     "slide_type": "slide"
    }
   },
   "source": [
    "- En primer lugar, el valor que se haya almacenado en la variable\n",
    "  `MEDIA_ROOT`, definida en el fichero `settings.py`. Si no se ha\n",
    "  modificado, el valor por defecto de esta variable es una cadena de\n",
    "  texto vacía, que viene a significar el directorio de trabajo\n",
    "  actual."
   ]
  },
  {
   "cell_type": "markdown",
   "metadata": {
    "slideshow": {
     "slide_type": "slide"
    }
   },
   "source": [
    "- En segundo lugar, la ruta que se obtiene de evaluar el parámetro\n",
    "  `upload_to` con el que se define el campo. Podemos usar códigos\n",
    "  de formateo como los que usamos en `strftime()`; por ejemplo,\n",
    "  usando `%Y` conseguimos que en la ruta se sustituya ese código por\n",
    "  el año del día es que se ha realizado la carga"
   ]
  },
  {
   "cell_type": "markdown",
   "metadata": {
    "slideshow": {
     "slide_type": "slide"
    }
   },
   "source": [
    "- En tercer lugar, el nombre original del fichero"
   ]
  },
  {
   "cell_type": "markdown",
   "metadata": {
    "slideshow": {
     "slide_type": "slide"
    }
   },
   "source": [
    "Por ejemplo, si la variable `MEDIA_ROOT` se definió como `/var/media`,\n",
    "el campo de tipo `FileField` o `ImageField` se definió con el\n",
    "parámetro `upload_to` igual a `fotos/%Y/%m/%d` y el nombre del fichero\n",
    "original era `mifoto.jpg`, la ruta final (Si se hubiera subido el 27\n",
    "de julio de 2019) sería:\n",
    "\n",
    "    /var/media/fotos/2019/07/27/mifoto.jpg\n",
    "   "
   ]
  },
  {
   "cell_type": "markdown",
   "metadata": {
    "slideshow": {
     "slide_type": "slide"
    }
   },
   "source": [
    "### Para definir las relaciones \n",
    "\n"
   ]
  },
  {
   "cell_type": "markdown",
   "metadata": {
    "slideshow": {
     "slide_type": "slide"
    }
   },
   "source": [
    "Django también define una serie de campos para reflejar las\n",
    "relaciones entre modelos.\n",
    "\n",
    "La mas usade es `ForeignKey`, que se usa para representar\n",
    "una relacion uno a muchos ($1$ a $N$). Requiere obligatoriamente\n",
    "al menos dos parámetros: La clase con la que se quiere relacionar\n",
    "el modelo y un parametro llamado `on_delete` que explicaremos\n",
    "mas adelante."
   ]
  },
  {
   "cell_type": "markdown",
   "metadata": {
    "slideshow": {
     "slide_type": "slide"
    }
   },
   "source": [
    "Vamos a crear la relacion 1 a N que teniamos en nuestro diagrama\n",
    "E/R entre un superheroe (O supervillano) y un equipo. En nuestro\n",
    "analisis no se permitia que un metahumano fuera parte de mas de\n",
    "un equipo, pero si se permitia que fuera por solitario, es decir, que\n",
    "podia no pertener a ningun grupo."
   ]
  },
  {
   "cell_type": "markdown",
   "metadata": {
    "slideshow": {
     "slide_type": "slide"
    }
   },
   "source": [
    "Lo primero que tenemos que hacer es crear el nuevo módelo para el equipo,\n",
    "vamos a llamarlo `Team`, y por ahora solo nos interesan tres campos,\n",
    "el nombre del supergrupo, una descripción y el nombre de su base o \n",
    "cuartel general. Algo\n",
    "como esto:"
   ]
  },
  {
   "cell_type": "markdown",
   "metadata": {
    "slideshow": {
     "slide_type": "slide"
    }
   },
   "source": [
    "class Team(models.Model):\n",
    "\n",
    "    class Meta:\n",
    "        verbose_name = \"Equipo\"\n",
    "        verbose_name_plural = \"Equipos\"\n",
    "\n",
    "    name = models.CharField(max_length=220)\n",
    "    description = models.TextField(max_length=4000)\n",
    "    headquarter = models.CharField(max_length=100)\n",
    "\n",
    "    def __str__(self):\n",
    "        return self.name"
   ]
  },
  {
   "cell_type": "markdown",
   "metadata": {
    "slideshow": {
     "slide_type": "slide"
    }
   },
   "source": [
    "Añadimos esta definición al fichero `metahumans/models.py`. Al añadir esta\n",
    "nueva clase, nuestra base de datos ya no esta en sintonía con nuestro modelos,\n",
    "asi que habra que crear \n",
    "y aplicar una migracion para crear esta tabla."
   ]
  },
  {
   "cell_type": "markdown",
   "metadata": {
    "slideshow": {
     "slide_type": "slide"
    }
   },
   "source": [
    "Vamos a incluir este nuevo modelo en el admin, edita el fichero\n",
    "`metahumans/admin.py` y añade las siguientes líneas:"
   ]
  },
  {
   "cell_type": "markdown",
   "metadata": {
    "slideshow": {
     "slide_type": "slide"
    }
   },
   "source": [
    "class TeamAdmin(admin.ModelAdmin):\n",
    "    list_display = ('name', 'headquarter')\n",
    "\n",
    "admin.site.register(models.Team, TeamAdmin)"
   ]
  },
  {
   "cell_type": "markdown",
   "metadata": {
    "slideshow": {
     "slide_type": "slide"
    }
   },
   "source": [
    "Una cosa nueva que hemos usado en el modelo `Team` es una clase\n",
    "definida dentro del modelo llamado `Meta`. Esta es una convención\n",
    "que usa Django para añadir meta-informacion sobre el modelo. En este\n",
    "caso estamos añadiendo información acerca de cual es el nombre con\n",
    "el que nos referimos coloquialmente a esta entidad, en dos versiones, para\n",
    "singular \"El equipo\" y el plurar \"Los equipos\"."
   ]
  },
  {
   "cell_type": "markdown",
   "metadata": {
    "slideshow": {
     "slide_type": "slide"
    }
   },
   "source": [
    "Una vez creado el nuevo modelo, podemos dar de alta, usando\n",
    "el admin, a los vengadores, por ejemplo. Puedes\n",
    "usar esta informacion para crearlo:"
   ]
  },
  {
   "cell_type": "markdown",
   "metadata": {
    "slideshow": {
     "slide_type": "slide"
    }
   },
   "source": [
    "- Nombre: Los Vengadores\n",
    "- Descripcion: Los heroes más poderosos de la Tierra\n",
    "- Cuartel general: Torre Stark / Torre vengadores"
   ]
  },
  {
   "cell_type": "markdown",
   "metadata": {
    "slideshow": {
     "slide_type": "slide"
    }
   },
   "source": [
    "Ahora, para reflejar la relación 1 a N entre el equipo\n",
    "y los miembros, tenemos que modificar la clase `MetaHuman`, incluyendo\n",
    "una referencia a la clase `Team`. "
   ]
  },
  {
   "cell_type": "markdown",
   "metadata": {
    "slideshow": {
     "slide_type": "slide"
    }
   },
   "source": [
    "Modifiquemos `MetaHuman` para que queda algo asi:"
   ]
  },
  {
   "cell_type": "markdown",
   "metadata": {
    "slideshow": {
     "slide_type": "slide"
    }
   },
   "source": [
    "    class MetaHuman(models.Model):\n",
    "        name = models.CharField(max_length=42)\n",
    "        country = models.CharField(max_length=2, choices=COUNTRIES)\n",
    "        level = models.IntegerField(default=10)\n",
    "        active = models.BooleanField(default=True)\n",
    "        powers = models.ManyToManyField(Power)\n",
    "        last_update = models.DateTimeField(auto_now=True)\n",
    "        team = models.ForeignKey(\n",
    "            Team,\n",
    "            on_delete=models.PROTECT,\n",
    "            blank=True,\n",
    "            null=True,\n",
    "            default=None,\n",
    "        )\n",
    "\n",
    "        def __str__(self):\n",
    "            return self.name"
   ]
  },
  {
   "cell_type": "markdown",
   "metadata": {
    "slideshow": {
     "slide_type": "slide"
    }
   },
   "source": [
    "En el campo `team` hemos creado una referencia al modelo `Team`. Las\n",
    "opciones `blank`, `null` y `default` nos permiten incluir la posibilidad\n",
    "de que el metahumano pertenezca a un grupo o no. La opción `on_delete`, \n",
    "que es obligatoria, esta ajustada en este caso a `PROTECT`. Veremos\n",
    "más posibilidades para este parametro."
   ]
  },
  {
   "cell_type": "markdown",
   "metadata": {
    "slideshow": {
     "slide_type": "slide"
    }
   },
   "source": [
    "Por ahora, lo que nos interesa saber sobre el valor de `on_delete`\n",
    "es que nos permite definir el comportamiento del sistema si\n",
    "se borra una entidad de la clase referenciada; en nuestro caso, que hacemos\n",
    "con los metahumanos que pertenencen a un grupo si dicho grupo se\n",
    "borra."
   ]
  },
  {
   "cell_type": "markdown",
   "metadata": {
    "slideshow": {
     "slide_type": "slide"
    }
   },
   "source": [
    "El valor `PROTECT` significa: Si el grupo que quieres borrar tiene\n",
    "algun metahumano asignado, impide el borrado. Es decir, solo se permite el \n",
    "borrado si ningun metahumano esta asignado a este grupo."
   ]
  },
  {
   "cell_type": "markdown",
   "metadata": {
    "slideshow": {
     "slide_type": "slide"
    }
   },
   "source": [
    "Se crea un índice de forma automática para cada clave foranea o\n",
    "`ForeignKey`. Podemos desabilitar esto usando el parámetro\n",
    "`db_index` a `False`."
   ]
  },
  {
   "cell_type": "markdown",
   "metadata": {
    "slideshow": {
     "slide_type": "slide"
    }
   },
   "source": [
    "Que está pasando a nivel de base de datos? django añade un campo \n",
    "con el nombre del campo que hemos indicado (en nuestro caso, `team`)\n",
    "pero añadiendole `_id`, de forma que a nivel de base de datos, en \n",
    "la table de MetaHuman se habrá creado un nuevo campo `team_id`. En ese\n",
    "campo se guardará el valor de la clave primaría del equipo, cuando\n",
    "se asigne este superheroe al mismo."
   ]
  },
  {
   "cell_type": "markdown",
   "metadata": {
    "slideshow": {
     "slide_type": "slide"
    }
   },
   "source": [
    "Pero Normalmente, no tenemos que preocuparnos de este campo, a no ser\n",
    "que estemos trabajando directamente al nivel de base de datos. Si\n",
    "usamos el ORM, siempre trabajaremos directamente con el atribute `team`."
   ]
  },
  {
   "cell_type": "markdown",
   "metadata": {
    "slideshow": {
     "slide_type": "slide"
    }
   },
   "source": [
    "Vamos a asignar uno de nuestros superheroes a nuestro recien\n",
    "creado grupo de Los Vengadores, pero no lo vamos a hacer con\n",
    "el admin, vamos a hacerlo directamente desde Python"
   ]
  },
  {
   "cell_type": "markdown",
   "metadata": {
    "slideshow": {
     "slide_type": "slide"
    }
   },
   "source": [
    "Vamos a ejecutar un nuevo comando de `manage.py`, `shell`:\n",
    "\n",
    "    python manage.py shell"
   ]
  },
  {
   "cell_type": "markdown",
   "metadata": {
    "slideshow": {
     "slide_type": "slide"
    }
   },
   "source": [
    "Esto nos abrira un shell de Python, como el normal que tenemos\n",
    "instalado, pero con la diferencia de que Django se ha inicializado\n",
    "previamente, de forma que podemos acceder a los modelos. Lo primero\n",
    "que vamos a hacer es importar `Team` y `MetaHuman`.\n",
    "\n",
    "    >>> from metahumans.models import Team, MetaHuman"
   ]
  },
  {
   "cell_type": "markdown",
   "metadata": {
    "slideshow": {
     "slide_type": "slide"
    }
   },
   "source": [
    "Una vez obtenido acceso a los modelos, vamos a pedirle al modelo\n",
    "`Team` que nos devuelve un objeto de este tipo. En principio el\n",
    "primero que encuentre, pero como solo hemos\n",
    "creado uno, debería devolvernos el de Los vengadores.\n",
    "\n",
    "    >>> avengers = Team.objects.first()\n",
    "    >>> print(avengers)\n",
    "    Vengadores"
   ]
  },
  {
   "cell_type": "markdown",
   "metadata": {
    "slideshow": {
     "slide_type": "slide"
    }
   },
   "source": [
    "Dentro de cada modelo hay un gestor, que por defecto tiene el\n",
    "nombre de `objects` que nos permite realizar operaciones con el\n",
    "modelo como hacer búsquedas o filtros por determinados valores (una\n",
    "consulta o *query* en la jerga de base de datos)."
   ]
  },
  {
   "cell_type": "markdown",
   "metadata": {
    "slideshow": {
     "slide_type": "slide"
    }
   },
   "source": [
    "En este caso concreto, le hemos pedido que nos devuelve el \n",
    "primero, asi que el resultado es una instancia concreta de `Team`.\n",
    "Lo mas normel con los metodos de `objects`, sin embargo, es que\n",
    "no devuelvan objetos, sino un tipo especial de datos llamado\n",
    "`queryset`, que representa un conjunto de instancias y que, entre\n",
    "otras cosas, podemos iterar (es decir, usar en en for)"
   ]
  },
  {
   "cell_type": "markdown",
   "metadata": {
    "slideshow": {
     "slide_type": "slide"
    }
   },
   "source": [
    "Vamos ahora a obtener un heroe cualquiera. Si no has creado \n",
    "ninguno todavía, crea uno ahora usando el admin. Vamos a conseguir\n",
    "este heroe de la misma manera que conseguimos el equipo: pidiendole\n",
    "al gestor `objects` que nos de el primero que encuentre:\n",
    "\n",
    "    >>> hero = MetaHuman.objects.first()\n",
    "    >>> print(hero)\n",
    "    Spiderman"
   ]
  },
  {
   "cell_type": "markdown",
   "metadata": {
    "slideshow": {
     "slide_type": "slide"
    }
   },
   "source": [
    "Ya tenemos un heroe (en la variable `hero`) y un equipo en\n",
    "la variable `avengers`). Para asignar a este heroe a este\n",
    "equipo, solo hay que usar el nuevo atributo `team` que\n",
    "definimos en la clase `MetaHuman`:\n",
    "\n",
    "    hero.team = avengers\n",
    "    hero.save()"
   ]
  },
  {
   "cell_type": "markdown",
   "metadata": {
    "slideshow": {
     "slide_type": "slide"
    }
   },
   "source": [
    "Es importante la llamada al metodo `save`. Los cambios que se\n",
    "hagan en los modelos en nuestro programa solo existen en la\n",
    "memoria RAM del ordenador. No se reflejan en\n",
    "la base de datos hasta que no se llame al método `save`."
   ]
  },
  {
   "cell_type": "markdown",
   "metadata": {
    "slideshow": {
     "slide_type": "slide"
    }
   },
   "source": [
    "Podemos usar ahora el admin para buscar al heroe en cuestion y verificar\n",
    "que esta, efectivamente, asignado al equipo de Los Vengadores."
   ]
  },
  {
   "cell_type": "markdown",
   "metadata": {
    "slideshow": {
     "slide_type": "slide"
    }
   },
   "source": [
    "#### El argumento `on_delete`\n",
    "\n",
    "Cuando se borra un objeto que esta referenciado por una `ForeignKey`, django\n",
    "sigue un comportamiento que esta copiado del comportamiento equivalente\n",
    "en las bases de datos relacionales. Estas son las opciones\n",
    "disponibles."
   ]
  },
  {
   "cell_type": "markdown",
   "metadata": {
    "slideshow": {
     "slide_type": "slide"
    }
   },
   "source": [
    "- `CASCADE`: Viene de la expresion *Borrado en cascada*. Significa que, si\n",
    "  el modelo referencia se borra, se deben borrar tambián las entidades\n",
    "  que estan asociadas.\n",
    "\n",
    "  En nuestro caso no tiene mucho sentido, porque\n",
    "  el equipo puede desaparecer y los heroes, obviamente, seguir existiendo."
   ]
  },
  {
   "cell_type": "markdown",
   "metadata": {
    "slideshow": {
     "slide_type": "slide"
    }
   },
   "source": [
    "  Pero, por ejemplo, si tenemos el típico modelo Factura - Linea de factura,\n",
    "  donde una (1)  factura esta compuesta por (N) varias lineas, una por cada\n",
    "  producto, si que podria tener sentido. Al borrar una factura, que se borren\n",
    "  también todas las líneas de la misma, porque no tiene sentido la\n",
    "  existencia de una línea de factura existiendo de forma independiente\n",
    "  a una factura."
   ]
  },
  {
   "cell_type": "markdown",
   "metadata": {
    "slideshow": {
     "slide_type": "slide"
    }
   },
   "source": [
    "- `PROTECT`: El que hemos usado. En nuestro caso, para poder borrar un\n",
    "  equipo, debemos desasignar todos los miembros que tenga. Solo cuando\n",
    "  no haya ninguna referencia al equipo podrá borrarse.\n",
    " "
   ]
  },
  {
   "cell_type": "markdown",
   "metadata": {
    "slideshow": {
     "slide_type": "slide"
    }
   },
   "source": [
    "- `SET_NULL`: Poner el campo de referencia a `NULL`. Tambien podría\n",
    "  tener sentido en nuestro caso, vendria a decir que si el equipo\n",
    "  se borra, entonces todos sus componentes pasana a ser *lobos \n",
    "  solitarios*. Obviamente, para poder usar esta opcion, el campo debe\n",
    "  admitir la posibilidad de ser nulo."
   ]
  },
  {
   "cell_type": "markdown",
   "metadata": {
    "slideshow": {
     "slide_type": "slide"
    }
   },
   "source": [
    "- `SET_DEFAULT`: Similar al anterior, pero en vez de asignar `NULL`, se\n",
    "  asigna a una especie de grupo pr defecto. Para poder usar esto hay\n",
    "  que especificar el parametro `default`."
   ]
  },
  {
   "cell_type": "markdown",
   "metadata": {
    "slideshow": {
     "slide_type": "slide"
    }
   },
   "source": [
    "- `SET()`: Se asigna al valor de `Foreignkey` en el modelo el valor\n",
    "  que se le pase como parámetro a `SET`. Se puede pasar un valor\n",
    "  o bien un *callable*, cuyo valor devuelto se usara como\n",
    "  clave foranea."
   ]
  },
  {
   "cell_type": "markdown",
   "metadata": {
    "slideshow": {
     "slide_type": "slide"
    }
   },
   "source": [
    "  Por ejemplo, se podria buscar que grupo tiene el minimo\n",
    "  numero de componentes y asigar los heroes del equipo borrado\n",
    "  a este. O elegir un equipo al azar, o elegir un equipo dependiendo\n",
    "  del día de la semana,  o cualquier otra posibilidad que se nos\n",
    "  ocurra."
   ]
  },
  {
   "cell_type": "markdown",
   "metadata": {
    "slideshow": {
     "slide_type": "slide"
    }
   },
   "source": [
    "- `DO_NOTHING`: Como su nombre indica, no hace nada. Se usa cuando\n",
    "  queremos dejar que la propia base de datos resuelvas el problema\n",
    "  con sus propios mecanismos."
   ]
  },
  {
   "cell_type": "markdown",
   "metadata": {
    "slideshow": {
     "slide_type": "slide"
    }
   },
   "source": [
    "Un parametro interesante es la opcion `limit_choices_to`. En nuestro\n",
    "caso, por ejemplo, si queremos asignar heroes a un grupo seria\n",
    "deseable que solo me dejara seleccionar heroes que actualmente\n",
    "no están asociados a ninguno. Se puede usar un diccionario, un modelo\n",
    "`Q`(que veremos mas adelante) o directamente un *callable* que devuelva\n",
    "un diccionario o un objeto `Q`."
   ]
  },
  {
   "cell_type": "markdown",
   "metadata": {
    "slideshow": {
     "slide_type": "slide"
    }
   },
   "source": [
    "Una cosa que hay que destacar, especialmente porque tiene\n",
    "asociado una cierta \"magia\", es que al incluir el campo \n",
    "en el modelo `MetaHuman`, haciendo referencia al modelo\n",
    "`Team`, es que hemos modificado, en realidad, ambos modelos."
   ]
  },
  {
   "cell_type": "markdown",
   "metadata": {
    "slideshow": {
     "slide_type": "slide"
    }
   },
   "source": [
    "Por un lado, obviamente, el modelo `MetaHuman` tiene ahora un nuevo\n",
    "atributo `team`, que sera `None` si el personaje no esta\n",
    "asociado a ningun equipo, o una instancia del equipo al que\n",
    "está asignado."
   ]
  },
  {
   "cell_type": "markdown",
   "metadata": {
    "slideshow": {
     "slide_type": "slide"
    }
   },
   "source": [
    "Por otro lado, el modelo `Team` tiene ahora un atributo, que \n",
    "nosotros no hemos declarado explicitamente, que le permite\n",
    "realizar la relacion inversa, es decir, le permite obtener\n",
    "los personajes que estan asociados al equipo."
   ]
  },
  {
   "cell_type": "markdown",
   "metadata": {
    "slideshow": {
     "slide_type": "slide"
    }
   },
   "source": [
    "El nombre de este atributo \"magico\" se forma con el nombre del modelo que\n",
    "realizo el enlace, sequido de `_set` todo en minusculas. En nuestro caso, `Team`\n",
    "tiene un atributo ahora llamado `metahuman_set`. Este atributo es\n",
    "un objeto tipo `query_set`, es decir, una representacion de los\n",
    "modelos que referencian a team."
   ]
  },
  {
   "cell_type": "markdown",
   "metadata": {
    "slideshow": {
     "slide_type": "slide"
    }
   },
   "source": [
    "Vamos a asignar en el admin\n",
    "dos o tres superheroes mas al grupo de los vengadores, y luego vamos\n",
    "a ejecutar el shell para comprobar el contenido de este atributo, haremos:\n",
    "\n",
    "    python manage.py shell"
   ]
  },
  {
   "cell_type": "markdown",
   "metadata": {
    "slideshow": {
     "slide_type": "slide"
    }
   },
   "source": [
    "Y una vez dentro de Python:\n",
    "\n",
    "    >>> from metahumans.models import Team, MetaHuman\n",
    "    >>> avengers = Team.objects.first()\n",
    "    >>> for hero in avengers.metahuman_set.all():\n",
    "    ...     print(hero)\n",
    "    Spiderman\n",
    "    Iron Man\n",
    "\n",
    "Dentro del bucle for, la variable `hero` no es simplemente en nombre\n",
    "del su0erheroe, es un objeto de tipo MetaHuman completo."
   ]
  },
  {
   "cell_type": "markdown",
   "metadata": {
    "slideshow": {
     "slide_type": "slide"
    }
   },
   "source": [
    "### Definir tu propio tipo de campo de datos\n",
    "\n",
    "\n",
    "Si estos tipos de campos no son suficientes, podemos definir nuestros\n",
    "propios tipos. Los detalles son un poco más complicados, pero en esencia\n",
    "lo único realmente importante es decirle a django dos cosas: Como se\n",
    "almacena nuestro tipo de dato en la base de datos (normalmente en un\n",
    "`VARCHAR`), y a la inversa, como recuperar, a partir de lo almacenado,\n",
    "el dato original."
   ]
  },
  {
   "cell_type": "markdown",
   "metadata": {},
   "source": [
    "### Usar los modelos para hacer consultas y trabajar con la base de datos\n",
    "\n",
    "\n",
    "El acceso a los modelos almacenados en la base de datos se realiza\n",
    "mediante un objeto de tipo `Manager` o controlador. Un *manager* es la\n",
    "interfaz a traves de la cual se comunica el modelo con la base de datos.\n",
    "Internamente usa comandos SQL, aunque la mayoría de las veces no nos\n",
    "hace falta llegar a ese nivel, porque los modelos nos proporcionan\n",
    "métodos que son más fáciles de usar. Existe siempre **al menos un\n",
    "manager** para cada modelo que definamos.\n",
    "\n",
    "Por defecto, al crear un modelo se crea un manager asociado a la tabla\n",
    "correspondiente y se le pone como nombre `objects`:\n",
    "\n",
    "    python manage.py shell\n",
    "\n",
    "    >>> from metahumans import models \n",
    "    >>> print(models.Team.objects)\n",
    "    <django.db.models.manager.Manager object at 0x7f8b4710dc50\\> \n",
    "    ..."
   ]
  },
  {
   "cell_type": "markdown",
   "metadata": {},
   "source": [
    "Guardar en la base de datos\n",
    "---------------------------\n",
    "\n",
    "Podemos salvar un objeto instanciado de un modelo en la base de datos,\n",
    "simplemente llamando al método `save`. Django es lo suficientemente\n",
    "listo como para distinguir si debe hacer un `INSERT` (Crear un registro\n",
    "nuevo) o un `UPDATE` (modificar un registro ya existente):\n",
    "\n",
    "    from metahumans import models\n",
    "\n",
    "    4f = models.Team(name='Los Cuatro Fantásticos', slug='4f')\n",
    "    4f.save()\n",
    "\n",
    "Para reflejar un cambio del modelo en la base de datos, también usamos\n",
    "`save`:\n",
    "\n",
    "    4f.description = 'La primera familia de superhéroes'\n",
    "    4f.save()"
   ]
  },
  {
   "cell_type": "markdown",
   "metadata": {
    "slideshow": {
     "slide_type": "slide"
    }
   },
   "source": [
    "Recuperar de la base de datos\n",
    "-----------------------------\n",
    "\n",
    "Para recuperar objetos desde la base de datos, el *manager* puede\n",
    "devolvernos en algunos casos el propio objeto (por ejemplo, véase el\n",
    "método `get`), paro por lo normal nos devuelve un objeto de tipo\n",
    "`QuerySet`, es decir un conjunto de resultados.\n",
    "\n",
    "La consulta más simple que podemos hacer es pedir todos los objetos:\n",
    "\n",
    "    teams = model.Team.objects.all()"
   ]
  },
  {
   "cell_type": "markdown",
   "metadata": {
    "slideshow": {
     "slide_type": "slide"
    }
   },
   "source": [
    "En el código anterior, `temas` es un `QuerySet`, que no será ejecutado\n",
    "hasta que no se le pidan datos. Una forma habitual de pedir datos es\n",
    "usarlo como iterador en un bucle `for`:\n",
    "\n",
    "    teams = model.Team.objects.all()  # No hay consulta todavía a la BD\n",
    "    for t in teams:                   # Aqui se realiza la consulta\n",
    "        print(t.name)"
   ]
  },
  {
   "cell_type": "markdown",
   "metadata": {
    "slideshow": {
     "slide_type": "slide"
    }
   },
   "source": [
    "Podemos modificar el `QuerySet` de forma que, cuando se ejecute la\n",
    "consulta, obtengamos justo los objetos que estamos buscando. Una forma\n",
    "de modificarlo es con su método `filter`, que viene a ser equivalente a\n",
    "la clausula `WHERE` en una consulta SQL: definimos las condiciones que\n",
    "tienen que cumplir los objetos para que se incluyan en el resultado. En\n",
    "el siguiente código, solo ontendremos los metahumanos que estén activos:\n",
    "\n",
    "    activos = MetaHuman.objects.filter(active=True)"
   ]
  },
  {
   "cell_type": "markdown",
   "metadata": {
    "slideshow": {
     "slide_type": "slide"
    }
   },
   "source": [
    "También podemos usar el método `exclude`, que funciona al reves que\n",
    "`filter`; los objetos que cumplan la condicion indicada son excluidos\n",
    "del resultado. El siguiente código obtiene el mismo resultado que el\n",
    "anterior, pero usando `exclude` en vez de `filter`:\n",
    "\n",
    "> MetaHuman.objects.exclude(active=False)"
   ]
  },
  {
   "cell_type": "markdown",
   "metadata": {
    "slideshow": {
     "slide_type": "slide"
    }
   },
   "source": [
    "Normalmente los métodos ejecutados sobre un `QuerySet` devuelven un\n",
    "`QuerySet` transformado, de forma que podemos encadenar métodos. Por\n",
    "ejemplo, la siguiente consulta devuelve metahumanos en activo y con un\n",
    "nivel de 90 más:\n",
    "\n",
    "    activos = MetaHuman.objects.filter(active=True)\n",
    "    peligrosos = activos.filter(level__gte=90)"
   ]
  },
  {
   "cell_type": "markdown",
   "metadata": {
    "slideshow": {
     "slide_type": "slide"
    }
   },
   "source": [
    "Un método de `objects` que no devuelve un `QuerySet` es el método `get`,\n",
    "que siempre devuelve un (y solo uno) objeto."
   ]
  },
  {
   "cell_type": "markdown",
   "metadata": {
    "slideshow": {
     "slide_type": "slide"
    }
   },
   "source": [
    "La expresión que usemos\n",
    "dentro del `get` puede ser cualquiera de las que puedas usar en un\n",
    "`filter`, pero es responsabilidad tuya que la consulta devuelva __una sola\n",
    "fila de la tabla__. "
   ]
  },
  {
   "cell_type": "markdown",
   "metadata": {
    "slideshow": {
     "slide_type": "slide"
    }
   },
   "source": [
    "Si no devuelve ninguna, `get` elevará una excepción de\n",
    "tipo `DoesNotExist`; si devuelve más de una, elevará una excepción del\n",
    "tipo `MultipleObjectsReturned`. Ambas excepciones están definidas en el\n",
    "propio modelo:\n",
    "\n",
    "    >>> try:\n",
    "    ...    sh = MetaHuman.objects.get(active=True)\n",
    "    ... except models.SuperHero.MultipleObjectsReturned as err:\n",
    "    ...     print(err)\n",
    "    ... \n",
    "    get() returned more than one SuperHero -- it returned 17!\n",
    "    >>>"
   ]
  },
  {
   "cell_type": "markdown",
   "metadata": {
    "slideshow": {
     "slide_type": "slide"
    }
   },
   "source": [
    "Normalmente el `get` se usa con la clave primaria para obtener el objeto\n",
    "que queremos, para eso podemos especificar el nombre de la clave\n",
    "primaria o, incluso más fácil, usar el parámetro `pk`, que siempre es un\n",
    "alias de la clave primaria del modelo:\n",
    "\n",
    "    >>> capi = models.SuperHero.objects.get(pk=3)"
   ]
  },
  {
   "cell_type": "markdown",
   "metadata": {},
   "source": [
    "Consultas avanzadas\n",
    "-------------------\n",
    "\n",
    "Podemos hacer consultas más potentes, usando una notación especial para\n",
    "los parametros: separando con un __doble caracter subrayado__ el campo y el\n",
    "operador. Se ve más claro con un ejemplo, el siguiente código devuelve\n",
    "todos los superheroes con nivel mayor que cinco:\n",
    "\n",
    "    amenazas = MetaHuman.objects.filter(level__gt=4)"
   ]
  },
  {
   "cell_type": "markdown",
   "metadata": {
    "slideshow": {
     "slide_type": "slide"
    }
   },
   "source": [
    "El nombre del parámetero es `level__gt`, al incluir el doble subrayado,\n",
    "indicamos que el campo es `level`, y que el operador a usar es `gt` (Más\n",
    "grande que: *Greater Than*). Otras formas de expresar esta misma\n",
    "consulta podrían ser:\n",
    "\n",
    "    amenazas = models.SuperHero.objects.filter(level__gte=5)\n",
    "    amenazas = models.SuperHero.objects.exclude(level__lt=5)\n",
    "    amenazas = models.SuperHero.objects.exclude(level__lte=4)"
   ]
  },
  {
   "cell_type": "markdown",
   "metadata": {
    "slideshow": {
     "slide_type": "slide"
    }
   },
   "source": [
    "Existen muchos operadores, que están ampliamente descritos en la\n",
    "documentación de Django, pero resultan especialmente interesantes\n",
    "`__contains` e `__icontains` para búsquedas en texto (la *i* de `__icontains`\n",
    "sirve para indicar que la búsqueda no debe considerar como letras\n",
    "diferentes las mayúsculas de las minúsculas):"
   ]
  },
  {
   "cell_type": "markdown",
   "metadata": {
    "slideshow": {
     "slide_type": "slide"
    }
   },
   "source": [
    "    spideramenazas =  models.SuperHero.objects.filter(\n",
    "        name__icontains = 'spider'\n",
    "        )"
   ]
  },
  {
   "cell_type": "markdown",
   "metadata": {
    "slideshow": {
     "slide_type": "slide"
    }
   },
   "source": [
    "Podemos usar `__in` para buscar que el valor este dentro de los indicados\n",
    "en una lista:\n",
    "\n",
    "    nenazas = models.SuperHero.objects.filter(\n",
    "        level__in = [1,2,3]\n",
    "        )"
   ]
  },
  {
   "cell_type": "markdown",
   "metadata": {
    "slideshow": {
     "slide_type": "slide"
    }
   },
   "source": [
    "Y podemos usar `__year`, `__month`, `__day`, `__week_day`, `__hour`, `__minute` y\n",
    "`__second` para hacer consultas usando campos de fecha o *timestamp*:\n",
    "\n",
    "    creados_2015 = models.SuperHero.objects.filter(created__year=2015)"
   ]
  },
  {
   "cell_type": "markdown",
   "metadata": {
    "slideshow": {
     "slide_type": "slide"
    }
   },
   "source": [
    "Un error muy comun es olvidarse de usar los dos caracteres subrayados y\n",
    "poner solo uno:\n",
    "\n",
    "    >>> piltrafillas = MetaHuman.objects.filter(\n",
    "    ...     level_in = [1,2,3]\n",
    "    ...     )\n",
    "    Traceback (most recent call last):\n",
    "    ... Blah, blah, blah ...\n",
    "    FieldError: Cannot resolve keyword 'level_in' into field."
   ]
  },
  {
   "cell_type": "markdown",
   "metadata": {
    "slideshow": {
     "slide_type": "slide"
    }
   },
   "source": [
    "También podemos usar el doble caracter subrayado para hacer una consulta\n",
    "a un modelo relacionado con el modelo que estamos usaudo. Para ello\n",
    "usamos la forma:\n",
    "\n",
    "    <nombre de campo relacionado>__<campo en tabla_relacionad>\n",
    "\n",
    "Por ejemplo:\n",
    "\n",
    "    ff = MetaHuman.objects.filter(team__name='Los Vengadores')"
   ]
  },
  {
   "cell_type": "markdown",
   "metadata": {
    "slideshow": {
     "slide_type": "slide"
    }
   },
   "source": [
    "### Consultas con SQL Crudo\n",
    "\n",
    "En algunos casos las consultas que podemos hacer con los modelos pueden\n",
    "ser más complicadas que su equivalente en SQL. Existen unos objetos,\n",
    "`django.db.models.Q`, que nos permiten hacer consultas muy complicadas.\n",
    "Aun asi, si no vemos mejor opción, podemos hacer directamente la\n",
    "consulta en SQL usando el método `raw`, que acepta como parámetro una\n",
    "sentencia SQL y nos devuelve, como es habitual, un `QuerySet`.\n",
    "\n",
    "POr ejemplo, obtengamos usando `raw` los equipos, con un atributo\n",
    "añadido indicando cuantos miembros tiene asignados:\n",
    "\n",
    "    teams = Team.objects.raw('''\n",
    "        SELECT T.id, T.name, count(*) AS num_members \n",
    "          FROM mh_team T\n",
    "          LEFT JOIN mh_superhero SH ON T.id = SH.team_id\n",
    "         GROUP BY T.id, T.Name\n",
    "        ''')\n",
    "    for t in teams:\n",
    "        print t.name, t.num_members\n",
    "\n",
    "Este **no es el método recomendado** para hacer esta consulta. Es mejor\n",
    "limitar las consultas hechas con SQL puro, ya que suelen depender mucho\n",
    "del gestor de base de datos que estemos usando. Esto crea unas\n",
    "dependencias que después pueden ser muy complicadas de deshacer. No\n",
    "obstante, es una posibilidad que existe y en algunos casos -muy pocos,\n",
    "en realidad- no tendremos más remedio que usarla.\n",
    "\n",
    "Si la consulta es tan complicada que ni con el método `raw` podemos\n",
    "obtener lo que queremos, podemos ignorar totalmente los modelos y hacer\n",
    "una consulta SQL directamente a la base de datos, usando la variable\n",
    "`django.db.connection`, que el el handler de la base de datos definida\n",
    "por defecto:\n",
    "\n",
    "    # reactivamos todos los superheroes ¡Es la guerra!\n",
    "    from django.db import connection\n",
    "    cursor = connection.cursor()\n",
    "    cursor.execute(\"UPDATE mh_superhero SET active = 1\")"
   ]
  },
  {
   "cell_type": "markdown",
   "metadata": {
    "slideshow": {
     "slide_type": "slide"
    }
   },
   "source": [
    "### Limitar el tamaño del resultado\n",
    "\n",
    "Podemos modificar un `QuerySet` para que solo devuelva un número máximo\n",
    "de resultados, o los resultados comprendidos entre un rango de valores.\n",
    "Para ello lo usamos como si fuera una lista de Python: usando corchetes,\n",
    "índice inferior (contado el primero como cero) e índice superior:\n",
    "\n",
    "    f = models.SuperHero.objects.all()[0:5]\n",
    "    assert len(list(f)) <= 5\n",
    "\n",
    "No obstante, un QuerySet no es una lista, una de las diferencias es que\n",
    "no podemos usar índices negativos.\n",
    "\n",
    "Limitar el tamaño no ejecuta la consulta; como casi todos los métodos\n",
    "vistos, devuelve un nuevo `QuerySet` modificado a partir del anterior."
   ]
  },
  {
   "cell_type": "code",
   "execution_count": null,
   "metadata": {},
   "outputs": [],
   "source": []
  }
 ],
 "metadata": {
  "celltoolbar": "Slideshow",
  "kernelspec": {
   "display_name": "Python 3",
   "language": "python",
   "name": "python3"
  },
  "language_info": {
   "codemirror_mode": {
    "name": "ipython",
    "version": 3
   },
   "file_extension": ".py",
   "mimetype": "text/x-python",
   "name": "python",
   "nbconvert_exporter": "python",
   "pygments_lexer": "ipython3",
   "version": "3.6.9"
  }
 },
 "nbformat": 4,
 "nbformat_minor": 4
}
