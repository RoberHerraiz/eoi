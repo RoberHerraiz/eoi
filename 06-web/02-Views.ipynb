{
 "cells": [
  {
   "cell_type": "markdown",
   "metadata": {},
   "source": [
    "## Vistas de Django\n",
    "\n",
    "Django define una vista es una función o una clase de python normal, pero que debe\n",
    "cumplir estos dos requisitos:\n",
    "\n",
    "- tiene que admite como primer parámetro una variable de tipo `HttpRequest`. La\n",
    "  función puede aceptar más de un parámetro, pero la variable\n",
    "  de tipo `HttpRequest` ha de ser obligatoriamente la primera.\n",
    "\n",
    "- Devuelve una instancia del tipo `HttpResponse`."
   ]
  },
  {
   "cell_type": "code",
   "execution_count": null,
   "metadata": {},
   "outputs": [],
   "source": []
  }
 ],
 "metadata": {
  "kernelspec": {
   "display_name": "Python 3",
   "language": "python",
   "name": "python3"
  },
  "language_info": {
   "codemirror_mode": {
    "name": "ipython",
    "version": 3
   },
   "file_extension": ".py",
   "mimetype": "text/x-python",
   "name": "python",
   "nbconvert_exporter": "python",
   "pygments_lexer": "ipython3",
   "version": "3.7.6"
  }
 },
 "nbformat": 4,
 "nbformat_minor": 4
}
