{
 "cells": [
  {
   "cell_type": "markdown",
   "metadata": {},
   "source": [
    "# Apuntes Django"
   ]
  },
  {
   "cell_type": "markdown",
   "metadata": {},
   "source": [
    "POdemos ver la versión que tenemos:"
   ]
  },
  {
   "cell_type": "code",
   "execution_count": 1,
   "metadata": {},
   "outputs": [
    {
     "data": {
      "text/plain": [
       "'3.0.5'"
      ]
     },
     "execution_count": 1,
     "metadata": {},
     "output_type": "execute_result"
    }
   ],
   "source": [
    "import django\n",
    "\n",
    "django.get_version()"
   ]
  },
  {
   "cell_type": "markdown",
   "metadata": {},
   "source": [
    "Iniciamos un proyecto de django:"
   ]
  },
  {
   "cell_type": "markdown",
   "metadata": {},
   "source": [
    "`django-admin startproject \"nombre del proyecto\"`"
   ]
  },
  {
   "cell_type": "markdown",
   "metadata": {},
   "source": [
    "Al hacerlo se nos creará una carpeta con el nombre del proyecto, que contiene  un subdirectorio con el mismo nombre del proyecto y un manage.py, que nos servirá a modo de `\"django-admin \"nombre-del-proyecto\" \"instrucción\"`"
   ]
  },
  {
   "cell_type": "markdown",
   "metadata": {},
   "source": [
    "Con `python3 manage.py check` podemos comprobar que se ha creado correctamente"
   ]
  },
  {
   "cell_type": "markdown",
   "metadata": {},
   "source": [
    "Por otro lado, `python3 manage.py runserver` nos mostrará nuestro primer servidor local de django, disponible en: `http://127.0.0.1:8000/`"
   ]
  },
  {
   "cell_type": "markdown",
   "metadata": {},
   "source": [
    "Dentro del subdirectorio tenemos:\n",
    "- `__pycache__`: no nos interesa.\n",
    "- `__init__`: Nos permitirá importar el proyecto.\n",
    "- `settings.py`: Nuestro archivo de configuración.\n",
    "- `urls.py`: Aquí emparejaremos las rutas ''url con el código, para que cuando le llegue al servidor sepa qué hacer.\n",
    "- `wsgi.py` y `asgi.py`: Nos ayudarán a poner nuestro proyecto en producción."
   ]
  },
  {
   "cell_type": "markdown",
   "metadata": {},
   "source": [
    "Ejemplo de código dentro de urls.py"
   ]
  },
  {
   "cell_type": "markdown",
   "metadata": {},
   "source": [
    "`urlpatterns = [\n",
    "    path('admin/', admin.site.urls),\n",
    "]`"
   ]
  },
  {
   "cell_type": "code",
   "execution_count": null,
   "metadata": {},
   "outputs": [],
   "source": []
  }
 ],
 "metadata": {
  "kernelspec": {
   "display_name": "Python 3",
   "language": "python",
   "name": "python3"
  },
  "language_info": {
   "codemirror_mode": {
    "name": "ipython",
    "version": 3
   },
   "file_extension": ".py",
   "mimetype": "text/x-python",
   "name": "python",
   "nbconvert_exporter": "python",
   "pygments_lexer": "ipython3",
   "version": "3.8.2"
  }
 },
 "nbformat": 4,
 "nbformat_minor": 4
}
