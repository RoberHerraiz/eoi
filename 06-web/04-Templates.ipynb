{
 "cells": [
  {
   "cell_type": "markdown",
   "metadata": {
    "slideshow": {
     "slide_type": "slide"
    }
   },
   "source": [
    "## Plantillas en Django\n",
    "\n",
    "Las plantillas son simplemente documentos de texto, normalmente html,\n",
    "aunque nada impide que se use con cualquier otro tipo de textos, como\n",
    "XML o código C. "
   ]
  },
  {
   "cell_type": "markdown",
   "metadata": {
    "slideshow": {
     "slide_type": "slide"
    }
   },
   "source": [
    "En el texto de las plantillas hay ciertos marcas o\n",
    "etiquetas (*template tags*) que indican que en ese sitio falta\n",
    "contenido, el cual será incluido más adelante. La etiqueta más sencilla\n",
    "tiene la forma:\n",
    "\n",
    "    {{ nombre }}"
   ]
  },
  {
   "cell_type": "markdown",
   "metadata": {
    "slideshow": {
     "slide_type": "slide"
    }
   },
   "source": [
    "Esto indica que, en el resultado final, sustituiremos todo el texto\n",
    "comprendido entre las marcas `{{` y `}}` (Incluyendo las marcas) por el\n",
    "contenido de una variable llamada `nombre`. Como siempre, es más fácil\n",
    "verlo con un ejemplo."
   ]
  },
  {
   "cell_type": "markdown",
   "metadata": {
    "slideshow": {
     "slide_type": "slide"
    }
   },
   "source": [
    "Podemos crear una plantilla instanciandola de la clase\n",
    "`django.template.Template`. Al instanciarla, podemos indicarle el texto\n",
    "que queremos usar:\n",
    "\n",
    "    from django.templates import Template\n",
    "\n",
    "    t = Template('Hola, {{ nombre }}. ¿Cómo estás?')"
   ]
  },
  {
   "cell_type": "markdown",
   "metadata": {
    "slideshow": {
     "slide_type": "slide"
    }
   },
   "source": [
    "Podemos ahora fusionar esta plantilla `t` con algo que tenga el dato que\n",
    "queremos incluir, el nombre. Para ello se usa un objeto de la clase\n",
    "`Context`, que podemos crear pasándole un diccionario con las parejas\n",
    "nombre/valor que queremos usar en la plantilla. "
   ]
  },
  {
   "cell_type": "markdown",
   "metadata": {
    "slideshow": {
     "slide_type": "slide"
    }
   },
   "source": [
    "Este objeto será el\n",
    "**contexto** que usa la plantilla para producir un resulltado final.\n",
    "Dicho y hecho:"
   ]
  },
  {
   "cell_type": "markdown",
   "metadata": {
    "slideshow": {
     "slide_type": "slide"
    }
   },
   "source": [
    "    from django.template import Template, Context\n",
    "\n",
    "    t = Template('Hola, {{ nombre }}. ¿Cómo estás?')\n",
    "    ctx = Context({'nombre': 'Stan Lee'})"
   ]
  },
  {
   "cell_type": "markdown",
   "metadata": {
    "slideshow": {
     "slide_type": "slide"
    }
   },
   "source": [
    "La fusión de plantilla se realiza con el método `render` de la\n",
    "plantilla. Le pasamos el contexto deseado y devuelve el texto final, con\n",
    "los datos sustituyendo las marcas. Diferentes contextos producen\n",
    "diferentes resultados para la misma plantilla:"
   ]
  },
  {
   "cell_type": "markdown",
   "metadata": {
    "slideshow": {
     "slide_type": "slide"
    }
   },
   "source": [
    "    from django.template import Template, Context\n",
    "\n",
    "    t = Template('Hola, {{ nombre }}. ¿Cómo estás?')\n",
    "    ctx = Context({'nombre': 'Stan Lee'})\n",
    "    assert t.render(ctx) == 'Hola, Stan Lee. ¿Cómo estás?'\n",
    "    ctx = Context({'nombre': 'Jack Kirby'})\n",
    "    assert t.render(ctx) == 'Hola, Jack Kirby. ¿Cómo estás?'"
   ]
  },
  {
   "cell_type": "markdown",
   "metadata": {
    "slideshow": {
     "slide_type": "slide"
    }
   },
   "source": [
    "Usando plantillas, nuestra primera aproximación podría ser:\n",
    "\n",
    "    from django.http import HttpResponse\n",
    "    from django.template import Template, RequestContext\n",
    "\n",
    "    def homepage(request):\n",
    "        t = Template('''<html>\n",
    "        <head>\n",
    "          <title>Shield.com</title>\n",
    "        </head>\n",
    "        <body>\n",
    "        <h1>Bienvenidos a S.H.I.E.L.D.</h1>\n",
    "        <p>{{ message }}</p>\n",
    "        </body>\n",
    "        </html>''')\n",
    "        ctx = RequestContext(request, {\n",
    "            'message': '¡En obras! Pronto abriremos',\n",
    "            })\n",
    "        return HttpResponse(t.render(ctx))\n",
    "\n",
    "El primer cambio es sustituir el objeto `Context` por una versión más\n",
    "potente (será de utilidad más adelante) llamada `RequestContext`. Esta\n",
    "versión funciona igual que el `Context` pero nos añade información\n",
    "sacándola de la petición `request`, el primer parámetro de todas las\n",
    "vistas. Para instanciar un `RequestContext` le pasamos el objeto\n",
    "`request` y como segundo parámetro un diccionario con nuestros datos."
   ]
  },
  {
   "cell_type": "markdown",
   "metadata": {
    "slideshow": {
     "slide_type": "slide"
    }
   },
   "source": [
    "### El sistema de carga de plantillas\n",
    "\n",
    "Obviamente, cargar el texto de la plantilla desde el propio código no es\n",
    "buena idea. Podríamos escribir una función para leer el contenido de la\n",
    "plantilla desde ficheros externos, pero como pasa a menudo, la gente de\n",
    "Django se nos ha adelantado.\n",
    "\n",
    "Podemos confiar en el cargador de\n",
    "plantillas de Django para que cargue las plantillas desde el sistema de\n",
    "ficheros. Veamos como funciona.\n",
    "\n",
    "Si le decimos a Django que nos busque una plantilla determinada,\n",
    "indicándole el nombre de un fichero, por ejemplo, `hola.html`, el\n",
    "cargador que viene activo por defecto busca dentro de cada una de las\n",
    "aplicaciones instaladas una carpeta que se llame `templates`. \n",
    "\n",
    "POr ejemplo, si tenemos dos apps instaladas, `alfa` y `beta`, buscara en \n",
    "cada uno de estos directorios buscando si existe un subdirectorio\n",
    "llamado `templates`. Si lo encuentra, lo añade a la lista de sitios\n",
    "donde deb buscar las plantillas\n",
    "\n",
    "Ahora, si le pedimos que use `hola.html`, buscará en todos esos directorios\n",
    "hasta que encuentra un archivo que se llame `hola.html`, y creará una plantilla\n",
    "a partir del texto de ese fichero.\n",
    "\n",
    "Si existe más de un fichero `hola.html`, usará el primero que encuentre.\n",
    "Esto puede ser útil en ciertas ocasiones. También puede ser fuente de\n",
    "errores y frustración en otras.\n",
    "\n",
    "Por ahora, creemos un directorio `templantes` dentro de nuestra única\n",
    "aplicación, y dentro escribimos un fichero `homepage.html`. El\n",
    "código de la vista podría ahora escribirse como:\n",
    "\n",
    "    from django.http import HttpResponse\n",
    "    from django.template import Template, RequestContext\n",
    "    from django.templae.loader import get_template\n",
    "\n",
    "    def homepage(request):\n",
    "        t = get_template('homepage.html')\n",
    "        ctx = RequestContext(request, {\n",
    "            'message': '¡En obras! Pronto abriremos',\n",
    "            })\n",
    "        return HttpResponse(t.render(ctx))"
   ]
  },
  {
   "cell_type": "markdown",
   "metadata": {
    "slideshow": {
     "slide_type": "slide"
    }
   },
   "source": [
    "Es tan frecuente esta secuencia de operaciones: Obtener una plantilla,\n",
    "fusionarla con una serie de datos que hemos obtenido o calculado\n",
    "previamente, usando un `RequestContext`, y devolver el resultado en\n",
    "forma de `HttpResponse` que hay una forma abreviada para hacerlo todo en\n",
    "un solo paso: la función `django.shortcuts.render`. Usándola, el código\n",
    "final quedaría asi:\n",
    "\n",
    "    from django.shortcuts import render\n",
    "\n",
    "    def homepage(request):\n",
    "        ctx = { 'message': '¡En obras! Pronto abriremos' }\n",
    "        return render(request, 'homepage.html', ctx)\n",
    "\n",
    "Ya no hace falta importar `get_template`, `RequestContext` ni\n",
    "`HttpResponse`.\n",
    "\n",
    "Vamos a realizar un par de ejercicios de ejemplo\n",
    "\n",
    "> -   Mostrar una lista de superheroes.\n",
    "> -   Mostrar una lista de superheroes, pero que se vean los nombres en\n",
    ">     negrita o de color rojo (o cualquier otra cosa que sirva para\n",
    ">     destacarlos) si su nivel es de 5 o superior y verde si es 4 o\n",
    ">     inferior\n",
    "\n",
    "Para ello vamos a necesitar dos etiquetas nuevas: `for` e `if`."
   ]
  },
  {
   "cell_type": "markdown",
   "metadata": {
    "slideshow": {
     "slide_type": "slide"
    }
   },
   "source": [
    "### Herencia de plantillas\n",
    "\n",
    "Una de las partes más potentes de las plantillas es que mantiene un\n",
    "sistema de herencia, equivalente al que podemos encontrar en\n",
    "sistemas orientado a objetos. Al igual que en estos sistemas, se parte de\n",
    "un concepto general, que se va particularizando mediante herencias."
   ]
  },
  {
   "cell_type": "markdown",
   "metadata": {
    "slideshow": {
     "slide_type": "slide"
    }
   },
   "source": [
    "En los sistemas de plantillas que no tiene herencia, lo normal es que\n",
    "tengan la posibilidad de incluir otros ficheros. La herencia de\n",
    "plantillas es similar, pero con un pequeño giro conceptual que lo hace a\n",
    "la vez más sencillo y más potente, una vez se entiende su funcionamieno."
   ]
  },
  {
   "cell_type": "markdown",
   "metadata": {
    "slideshow": {
     "slide_type": "slide"
    }
   },
   "source": [
    "En un sistema que trabaja con inclusión de ficheros, normalmente tenemos\n",
    "un fichero de cabecera y un fichero de pie, que van respectivamente al\n",
    "principio y al final de cada página. El código se limita a incluir la\n",
    "cabecera, hacer su trabajo y a continuación incluir el pie. Con este\n",
    "sistema, lo que hacemos es definir en los ficheros a incluir **las\n",
    "partes que son iguales para todas lás páginas**."
   ]
  },
  {
   "cell_type": "markdown",
   "metadata": {
    "slideshow": {
     "slide_type": "slide"
    }
   },
   "source": [
    "Imaginemos que en el pie de cada página está nuestro teléfono de\n",
    "asistencia, y que dicho número ha cambiado. Queremos que el cambio se\n",
    "refleje en todas las páginas hechas hasta ahora. Como hemos tenido la\n",
    "precaución de separar el contenido del pie en un único fichero, el\n",
    "cambio es fácil."
   ]
  },
  {
   "cell_type": "markdown",
   "metadata": {
    "slideshow": {
     "slide_type": "slide"
    }
   },
   "source": [
    "Sin embargo, otros cambios no son tan fáciles. Imaginemos que nos piden\n",
    "ahora otro cambio aparentemente trivial: que en el *title* de cada\n",
    "página vaya, añadido al final, la dirección acortada de nuestra web. Es\n",
    "decir, que una página titulada \"Acerca de\", deberá titularse ahora\n",
    "\"Acerca de - shield.com\". Esto implica que la página de cabecera, que\n",
    "antes era *igual* para cada página, ahora es *distinta* para cada\n",
    "página."
   ]
  },
  {
   "cell_type": "markdown",
   "metadata": {
    "slideshow": {
     "slide_type": "slide"
    }
   },
   "source": [
    "Con el sistema de Django, partimos de una página base, una página que\n",
    "dice: \"Todas las paginas de este sitio como yo\", y le indicamos,\n",
    "usando las tag `block` y `endblock`, las distintas zonas que pueden\n",
    "cambiar. \n",
    "\n",
    "Ahora, podemos crear una plantilla *hija* o *derivada* de esta\n",
    "plantilla base, que reescribe esas zonas diferentes."
   ]
  },
  {
   "cell_type": "markdown",
   "metadata": {
    "slideshow": {
     "slide_type": "slide"
    }
   },
   "source": [
    "Veamos un ejemplo. Supongamos que tenemos en este momento 4 páginas web:\n",
    "El siguiente esquema muestra en gris las partes que son iguales en todas\n",
    "las páginas, y en verde las que son diferentes:\n",
    "\n",
    "![Herencia de plantillas (1)](./img/herencia_plantillas_ejemplo_01.png)"
   ]
  },
  {
   "cell_type": "markdown",
   "metadata": {
    "slideshow": {
     "slide_type": "slide"
    }
   },
   "source": [
    "Vemos que hay una cabecera con espacio reservado para el titulo que\n",
    "varía en cada página. Aparte de eso, la cabecera es igual, con el logo y\n",
    "el nombre del sitio. Las páginas A y C son casi iguales. La página B\n",
    "incluye una sección de anuncios, ausente en las demas. La página D, por\n",
    "otro lado, define un recurso diferente en el pie, que las demás no\n",
    "tiene."
   ]
  },
  {
   "cell_type": "markdown",
   "metadata": {
    "slideshow": {
     "slide_type": "slide"
    }
   },
   "source": [
    "Con el sistema de plantillas, definimos primero una página base, que\n",
    "incluya todo lo que necesite cualquiera de las paginas hijas. En esta\n",
    "página base se definiran diferentes zonas o bloques, algunos de ellos\n",
    "posiblemente vacios, para indicar las partes que pueden cambiar. Luego\n",
    "cada una de las paginas hijas redefine solo las partes que le interesen."
   ]
  },
  {
   "cell_type": "markdown",
   "metadata": {
    "slideshow": {
     "slide_type": "slide"
    }
   },
   "source": [
    "Podemos representarlo en el siguiente gráfico, donde las zonas vacias en\n",
    "la plantilla base se indican en azul claro:\n",
    "\n",
    "![Herencia de plantillas (2)](./img/herencia_plantillas_ejemplo_02.png)"
   ]
  },
  {
   "cell_type": "markdown",
   "metadata": {
    "slideshow": {
     "slide_type": "slide"
    }
   },
   "source": [
    "Ahora, realizar un cambio que afecte a todas lás páginas solo implica\n",
    "tocar la plantilla base. Además, no hace falta marcar todas las zonas\n",
    "previamente."
   ]
  },
  {
   "cell_type": "markdown",
   "metadata": {
    "slideshow": {
     "slide_type": "slide"
    }
   },
   "source": [
    "En el ejemplo anterior, todas las páginas tienen el mismo\n",
    "logo; si ahora nos pidieran crear una nueva página, la quinta, pero con\n",
    "un logo diferente, solo tenemos que:\n",
    "\n",
    "1) Editar la plantilla base y definir la zona del logo como un bloque\n",
    "  reemplazable, dejando el logo actual como contenido por defecto\n",
    "  \n",
    "2) Crear una nueva plantilla para la nueva página, derivada de base y \n",
    "  que reescriba la parte del logo."
   ]
  },
  {
   "cell_type": "markdown",
   "metadata": {
    "slideshow": {
     "slide_type": "slide"
    }
   },
   "source": [
    "No hay límite en los níveles de herencia. por ejemplo, si nuestro site\n",
    "se divide en cuatro secciones: A, B,C, D, podemos definir una plantilla:\n",
    "`base.html`, luego una base para cada una de la secciones:\n",
    "`base_a.html`, `base_b.html`, `base_c.html` y `base_d.html` (todas\n",
    "ellas, derivadas de `base.html`)\n",
    "\n",
    "Escribiriemoa luego las plantilla de las páginas\n",
    "finales, que extienden de la plantilla `base_<seccion>.html` que\n",
    "corresponda."
   ]
  },
  {
   "cell_type": "markdown",
   "metadata": {
    "slideshow": {
     "slide_type": "slide"
    }
   },
   "source": [
    "Para marcar una zona como modificable por las plantillas hijas se usan\n",
    "las marcas `block` y `endblock`. Con el tag de inicio se define el\n",
    "nombre que le vamos a dar al bloque, para identificarlo."
   ]
  },
  {
   "cell_type": "markdown",
   "metadata": {
    "slideshow": {
     "slide_type": "slide"
    }
   },
   "source": [
    "En la marca de fin de bloque no es necesario especificar el nombre, pero podemos\n",
    "hacerlo si queremos. Para nuestras páginas iniciales partimos de este\n",
    "esquema, bastante espartano, hay que reconocerlo:"
   ]
  },
  {
   "cell_type": "markdown",
   "metadata": {
    "slideshow": {
     "slide_type": "slide"
    }
   },
   "source": [
    "    <!DOCTYPE html>\n",
    "    <html lang=\"en\">\n",
    "      <head>\n",
    "        <title> {% block title %} ERROR: Falta definir título {% endblock title %}</title>\n",
    "      </head>\n",
    "      <body>\n",
    "\n",
    "        <h1>Bienvenidos a S.H.I.E.L.D.</h1>\n",
    "        <h2>Sistema Homologado de Inteligencia, Espionaje, Logística, y Defensa</h2>\n",
    "        <h3>{{ title }}</h3>\n",
    "\n",
    "        {% block content %}\n",
    "\n",
    "        {% endblock content %}\n",
    "\n",
    "      </body>\n",
    "    </html>"
   ]
  },
  {
   "cell_type": "markdown",
   "metadata": {
    "slideshow": {
     "slide_type": "slide"
    }
   },
   "source": [
    "Solo hay dos bloque, uno llamado `title` y otro que hemos llamado `content`.\n",
    "\n",
    "Queremos que el título de la página lo defina cada vista de la forma\n",
    "que crea conveniente, pero hemos puesto por defecto en mensaje de error\n",
    "para el caso de que la plantilla base se *olvide* de redefinir el título.\n",
    "\n",
    "De esta forma podemos hacer un test automático que busque este mensaje de error en la\n",
    "etiquete `title` y avise o incluse prevenga que esta plantilla pase a produccion."
   ]
  },
  {
   "cell_type": "markdown",
   "metadata": {
    "slideshow": {
     "slide_type": "slide"
    }
   },
   "source": [
    "### Ejemplo: Listado de superheroes\n",
    "\n",
    "La plantilla de la página que nos presenta la lista de superheroes puede\n",
    "ser tan sencilla como:\n",
    "\n",
    "    {% extends \"base.html\" %}\n",
    "\n",
    "    {% block content %}\n",
    "      <ul>\n",
    "        {% for h in heroes %}\n",
    "          <li>{{ h.name }} ({{ h.level }})</li>\n",
    "        {% endfor %}\n",
    "      </ul>\n",
    "    {% endblock content %}"
   ]
  },
  {
   "cell_type": "markdown",
   "metadata": {
    "slideshow": {
     "slide_type": "slide"
    }
   },
   "source": [
    "Hemos usado la etiqueta `extends` para indicar que esta plantilla es\n",
    "hija de `base.html`. La etiqueta `extends`, si se usa, tiene que ser\n",
    "obligatoriamente la primera que aparezca en la página. No se permite\n",
    "herencia múltiple, es decir, una plantilla solo puede tener un padre."
   ]
  },
  {
   "cell_type": "markdown",
   "metadata": {
    "slideshow": {
     "slide_type": "slide"
    }
   },
   "source": [
    "La vista que podriamos escribir para esta plantillas podría ser:\n",
    "\n",
    "    from metahumans import SuperHero\n",
    "\n",
    "    def view_all_heroes(request):\n",
    "        return render(request, 'view_all_heroes.html', {\n",
    "            'heroes': SuperHero.objects.all(),\n",
    "            'title': 'Listado de superhéroes',\n",
    "            })\n",
    "\n",
    "¿Se puede hacer aun más sencillo? Si, con las vistas genéricas, que\n",
    "veremos más adelante, pero por ahora es bastante compacto."
   ]
  },
  {
   "cell_type": "markdown",
   "metadata": {
    "slideshow": {
     "slide_type": "slide"
    }
   },
   "source": [
    "### Ventajas de las plantillas\n",
    "\n",
    "El uso de un buen sistema de plantillas presenta muchas ventajas:\n",
    "\n",
    "- Las plantillas pueden ser editadas y modificadas por especialistas\n",
    "  en diseño o experiencia de usuario sin necesitar conocimientos de\n",
    "  programación. Al fin y al cabo, son como cualquier otra página\n",
    "  web, solo que con algunas marcas especiales más."
   ]
  },
  {
   "cell_type": "markdown",
   "metadata": {
    "slideshow": {
     "slide_type": "slide"
    }
   },
   "source": [
    "- El sistema de herencias y la inclusión de plantillas es realmente\n",
    "  potente, y permite realizar modificaciones globales en la\n",
    "  aplicación tocando un solo fichero.\n",
    "  "
   ]
  },
  {
   "cell_type": "markdown",
   "metadata": {
    "slideshow": {
     "slide_type": "slide"
    }
   },
   "source": [
    "- El sistema deja que algunos problemas se puedan resolver usando\n",
    "  etiquetas y filtros, y permite incluir un poco de lógica en las\n",
    "  vistas, pero el está diseñado expresamente para que\n",
    "  etiquetas y filtros sean, desde el punto de vista de un\n",
    "  programador, pobres."
   ]
  },
  {
   "cell_type": "markdown",
   "metadata": {
    "slideshow": {
     "slide_type": "slide"
    }
   },
   "source": [
    "Aunque puede parecer extraño diseñar una parte del sistema para que sea\n",
    "débil, existe una razón. La idea es forzar a hacer las tareas realmente\n",
    "complejas en la vista, donde disponemos de toda la potencia del lenguaje\n",
    "Python, y que lo hagan los programadores. La lógica de la vista está\n",
    "pensada para ayudar a los los diseñadores, no para crear un segundo\n",
    "lenguaje de programación."
   ]
  },
  {
   "cell_type": "markdown",
   "metadata": {
    "slideshow": {
     "slide_type": "slide"
    }
   },
   "source": [
    "## El Lenguaje de plantillas de Django\n",
    "\n",
    "Django nos incluye en el sistema de plantillas un mini-lenguaje, útil\n",
    "para definir parte de las interfaz de la aplicación. De esta forma\n",
    "se promueve una clara distinción entre la lógica de negocio\n",
    "y la representacion. \n",
    "\n",
    "\n",
    "Las plantillas, como se ha explicado antes, están pensadas\n",
    "para ser usadas por personas con conocimiento de HTML, sin que\n",
    "haga falta conocimientos sobre Python."
   ]
  },
  {
   "cell_type": "markdown",
   "metadata": {
    "slideshow": {
     "slide_type": "slide"
    }
   },
   "source": [
    "### Variables\n",
    "\n",
    "Ya sabemos que podemos usar las variables en las plantillas usando:\n",
    "\n",
    "    {{ variable }}\n",
    "    "
   ]
  },
  {
   "cell_type": "markdown",
   "metadata": {
    "slideshow": {
     "slide_type": "slide"
    }
   },
   "source": [
    "Donde `variable` es el nombre de la variable cuyo valor queremos representar\n",
    "en la plantilla. Los nombres de las variables deben seguir las reglas de\n",
    "Python para nombres de variables: Letras y numeros y el caracter `_`, pero no\n",
    "pueden emepzar por un número y sin espacios en medio."
   ]
  },
  {
   "cell_type": "markdown",
   "metadata": {
    "slideshow": {
     "slide_type": "slide"
    }
   },
   "source": [
    "Podemos usar el caracter punto, para acceder a atributos o indicar una jerarquia de variables.\n",
    "El punto en este caso tiene un significado diferente que en python. Cuando\n",
    "el sistema de plantillas encuentra un punto, por ejemplo `a.b`, internamente prueba diferentes\n",
    "tácticas, hasta que encuentre una que funcione:"
   ]
  },
  {
   "cell_type": "markdown",
   "metadata": {
    "slideshow": {
     "slide_type": "slide"
    }
   },
   "source": [
    "- Intenta hacer una busqueda como si `a` fuera un diccionario, es decir, intena obtener en\n",
    "  python `a['b']`. Si esto produce algun significado, se usa ese valor. Si da un error,\n",
    "  se siguen probando opciones."
   ]
  },
  {
   "cell_type": "markdown",
   "metadata": {
    "slideshow": {
     "slide_type": "slide"
    }
   },
   "source": [
    "- Intenta la posibilidad de que `b` sea un atributo o un método, asi que intenta acceder como `a.b`.\n",
    "\n",
    "  -  Si lo consigue, y `a.b` es invocable (es un *callable*, es decir, un metodo, función o clase)\n",
    "    intenta llamarlo sin parámetros, es decir, ejecuta `a.b()` y devuelve el valor de retorno.\n",
    "    \n",
    "  - Si no es un `callable`, devuelve directamente el  valor de `a.b`.\n",
    "  \n",
    "  Si esta posibilidad falla por lo que sea, sigue intentadlo.\n",
    " "
   ]
  },
  {
   "cell_type": "markdown",
   "metadata": {
    "slideshow": {
     "slide_type": "slide"
    }
   },
   "source": [
    " \n",
    "- Intenta ver si puede usar `b` como un índice y acceder por posicion: `a[b]`. Si funciona, devuelve\n",
    "  el valor encontrado.\n",
    "  "
   ]
  },
  {
   "cell_type": "markdown",
   "metadata": {
    "slideshow": {
     "slide_type": "slide"
    }
   },
   "source": [
    "Este orden, un tanto complicado, está pensado para hacer la vida del escritor de plantillas\n",
    "más fácil, pero puede complicarnos la vida como desarrolladores. Por ejemplo, si usamos\n",
    "un `defaultdict`, el siguiente código fallaria:\n",
    "\n",
    "    {% for k, v in defaultdict.items() %}\n",
    "        Do something with k and v here...\n",
    "    {% endfor %}"
   ]
  },
  {
   "cell_type": "markdown",
   "metadata": {
    "slideshow": {
     "slide_type": "slide"
    }
   },
   "source": [
    "El problema viene porque se prueba primero el acceso como un diccionario, asi que se\n",
    "busca dentro del diccionario por un elemento llamado `items`. Este elemento probablemente\n",
    "no existe, pero da igual porque es un diccionario por defecto, asi que devolvera\n",
    "lo que sea que se haya definido como valor por defecto. No podemos, por tanto, acceder\n",
    "al método `items`.\n",
    "\n",
    "Podemos resolver este problema convirtiendo el diccionario por defecto en un diccionario normal"
   ]
  },
  {
   "cell_type": "markdown",
   "metadata": {
    "slideshow": {
     "slide_type": "slide"
    }
   },
   "source": [
    "### Etiquetas (*tags*)\n",
    "\n",
    "Las etiquetas nos permiten añadir cierta lógica al proceso de representación \n",
    "de la plantilla.\n",
    "\n",
    "Esta definicion nos permite hacer cosas muy diferentes con las etiquetas: Pueden\n",
    "generar contenido, servir como estructuras de control de flujo, como `if` o `for`,\n",
    "obtener contenidos desde una base de datos e incluso habilitar acceso a otras etiquetas."
   ]
  },
  {
   "cell_type": "markdown",
   "metadata": {
    "slideshow": {
     "slide_type": "slide"
    }
   },
   "source": [
    "Las etiquetas en Django siempre viene rodeadas por `{%` y `%}`, como:\n",
    "\n",
    "    {% csrf_token %}\n",
    "    "
   ]
  },
  {
   "cell_type": "markdown",
   "metadata": {
    "slideshow": {
     "slide_type": "slide"
    }
   },
   "source": [
    "Muchas de las etiquetas acepta parámetros:\n",
    "\n",
    "    {% cycle 'odd' 'even' %}\n",
    "    "
   ]
  },
  {
   "cell_type": "markdown",
   "metadata": {
    "slideshow": {
     "slide_type": "slide"
    }
   },
   "source": [
    "Y algunas etiqeutas necesitan tambien marcar un inicio y un final de se área\n",
    "de actuación:\n",
    "\n",
    "    {% if user.is_authenticated %}\n",
    "        Hello, {{ user.username }}.\n",
    "    {% endif %}\n",
    "    "
   ]
  },
  {
   "cell_type": "markdown",
   "metadata": {
    "slideshow": {
     "slide_type": "slide"
    }
   },
   "source": [
    "En la documentacion oficial se pueden consultar todas las [etiquetas definidas\n",
    "en el sistema por defecto](https://docs.djangoproject.com/en/3.0/ref/templates/builtins/#ref-templates-builtins-tags), que son las siguientes:\n",
    "\n",
    "- `autoescape`\n",
    "- `block`\n",
    "- `comment`\n",
    "- `csrf_token`\n",
    "- `cycle`\n",
    "- `debug`\n",
    "- `extends`\n",
    "- `filter`\n",
    "- `firstof`\n",
    "- `for`\n",
    "- `for … empty`\n",
    "- `if`\n",
    "- `ifequal`\n",
    "- `ifnotequal`\n",
    "- `ifchanged`\n",
    "- `include`\n",
    "- `load`\n",
    "- `lorem`\n",
    "- `now`\n",
    "- `regroup`\n",
    "- `resetcycle`\n",
    "- `spaceless`\n",
    "- `templatetag`\n",
    "- `url`\n",
    "- `verbatim`\n",
    "- `widthratio`\n",
    "- `with`\n",
    "\n",
    "Aqui veremos algunas de ellas:"
   ]
  },
  {
   "cell_type": "markdown",
   "metadata": {
    "slideshow": {
     "slide_type": "slide"
    }
   },
   "source": [
    "### La etiqueta if\n",
    "\n",
    "Esta etiqueta evalua una variable o expresion, si es \"verdadera\" (en este sistema, si existe, no esta vacia y no\n",
    "evalue a `False`) se muestra el contenido definida dentro del bloque:\n",
    "\n",
    "    {% if message %}\n",
    "        <p>Atención: {{ message }}</p>\n",
    "    {% endif %}\n",
    "    "
   ]
  },
  {
   "cell_type": "code",
   "execution_count": 2,
   "metadata": {
    "slideshow": {
     "slide_type": "slide"
    }
   },
   "outputs": [
    {
     "name": "stdout",
     "output_type": "stream",
     "text": [
      "ok\n"
     ]
    }
   ],
   "source": [
    "if message:\n",
    "    print(\"ok\")"
   ]
  },
  {
   "cell_type": "markdown",
   "metadata": {
    "slideshow": {
     "slide_type": "slide"
    }
   },
   "source": [
    "Tiene una clausula opcional, definida con `else`, para mostrar contenido en el caso\n",
    "de que la variable no sea \"verdadera\" (Es decir, si no existe, o existe pero esta vacia\n",
    "o evalua a `False`):\n",
    "\n",
    "    {% if warning %}\n",
    "        <p>Atención: {{ warning }}</p>\n",
    "    {% else %}\n",
    "        <p>Todo OK</p>\n",
    "    {% endif %}"
   ]
  },
  {
   "cell_type": "markdown",
   "metadata": {
    "slideshow": {
     "slide_type": "slide"
    }
   },
   "source": [
    "Y también tiene la opcion de usar `elif` para condiciones múltiples:\n",
    "\n",
    "    {% if error %}\n",
    "      <p class=\"error\">Error: {{ error }}</p>\n",
    "    {% elif warning %}\n",
    "      <p class=\"warning\">Aviso: {{ warning }}</p>\n",
    "    {% else %}\n",
    "      <p>Todo OK</p>\n",
    "    {% endif %}"
   ]
  },
  {
   "cell_type": "markdown",
   "metadata": {
    "slideshow": {
     "slide_type": "slide"
    }
   },
   "source": [
    "    \n",
    "Se pueden usar los operadores booleanos `and`, `or` y `not` a la hora\n",
    "de evaluar la variable:\n",
    "\n",
    "    {% if error or warning %}\n",
    "      <img src=\"bomb.png\">\n",
    "    {% endif %}"
   ]
  },
  {
   "cell_type": "markdown",
   "metadata": {
    "slideshow": {
     "slide_type": "slide"
    }
   },
   "source": [
    "Se pueden usar tambien los operadores `==`, `!=`, `<`, `>`, `<=`, `>=`, `in`, `not in`, `is` e `is not`:\n",
    "\n",
    "    {% if num==1 %}\n",
    "        Uno\n",
    "    {% elif num==2 %}\n",
    "        Dos\n",
    "    {% elif num==3 %}\n",
    "        Tres\n",
    "    {% else %}\n",
    "        Varios\n",
    "    {% endif %}"
   ]
  },
  {
   "cell_type": "markdown",
   "metadata": {
    "slideshow": {
     "slide_type": "slide"
    }
   },
   "source": [
    "Se pueden usar los filtros (véase más adelante) dentro de una expresión `if`:\n",
    "\n",
    "    {% if messages|length >= 100 %}\n",
    "       ¡Tienes un montón de mensajes!\n",
    "    {% endif %}"
   ]
  },
  {
   "cell_type": "markdown",
   "metadata": {
    "slideshow": {
     "slide_type": "slide"
    }
   },
   "source": [
    "### La etiqueta for\n",
    "\n",
    "Es simimilar al `for` de python, itera sobre una secuencia, normalmente una\n",
    "lista, permitiendo en cada iteraccion acceder al elemento correspondiente\n",
    "dentro del área o contexto definido entre el `for` y el `endfor`."
   ]
  },
  {
   "cell_type": "markdown",
   "metadata": {
    "slideshow": {
     "slide_type": "slide"
    }
   },
   "source": [
    "El siguiente ejemplo muestra una lista de superheroes, si \n",
    "tenemos una lista (o un `queryset`, o cualquier otra secuencia) de los\n",
    "mismos en la variable `avengers`:\n",
    "\n",
    "    <ul>\n",
    "    {% for hero in avengers %}\n",
    "        <li>{{ hero.name }}</li>\n",
    "    {% endfor %}\n",
    "    </ul>"
   ]
  },
  {
   "cell_type": "markdown",
   "metadata": {
    "slideshow": {
     "slide_type": "slide"
    }
   },
   "source": [
    "Se puede recorrer la lista en orden inverso usando la forma:\n",
    "\n",
    "    {% for obj in list reversed %}."
   ]
  },
  {
   "cell_type": "markdown",
   "metadata": {
    "slideshow": {
     "slide_type": "slide"
    }
   },
   "source": [
    "Si se va a recorrer una lista de listas o una lista de tuplas, se pueden\n",
    "desempaquetar estos valores en variables individuales. Por ejemplom si en\n",
    "`coordinates` tenemos una lista de tuplas con dos elementos, representando\n",
    "un punto en dos dimensiones, podemos hacer:\n",
    "\n",
    "    {% for x, y in coordinates %}\n",
    "        <p>Hay un punto en {{ x }},{{ y }}<\\p>\n",
    "    {% endfor %}\n",
    " "
   ]
  },
  {
   "cell_type": "markdown",
   "metadata": {
    "slideshow": {
     "slide_type": "slide"
    }
   },
   "source": [
    "   \n",
    "Esto es muy útil para acceder a los diccionarios, usando el método `items` para\n",
    "acceder a la vez a la clave y al contenido. Si `data` es un diccionario, podemos\n",
    "hacer:\n",
    "\n",
    "    <dl>\n",
    "    {% for key, value in data.items %}\n",
    "        <dt>{{ key }}<dt>\n",
    "            <dd>{{ value }}<dd>\n",
    "    {% endfor %}\n",
    "    </dl>\n",
    " "
   ]
  },
  {
   "cell_type": "markdown",
   "metadata": {
    "slideshow": {
     "slide_type": "slide"
    }
   },
   "source": [
    "Como se explicó antes, esto fallará si hubiera una entrada en el diccionario\n",
    "con la clave `items`. Evita siempre usar nombres de metodos en el \n",
    "diccionario, porque impide acceder a los metodos desde la plantilla.\n",
    "\n",
    "El bucle `for` añade por su cuenta una serie de variables\n",
    "que estaran disponibles dentro del contexto del bucle:"
   ]
  },
  {
   "cell_type": "markdown",
   "metadata": {
    "slideshow": {
     "slide_type": "slide"
    }
   },
   "source": [
    "| Variable               | Descripción |\n",
    "|-----------------------:|:------------|\n",
    "| `forloop.counter`      | El número de iteración actual (basado en 1) |\n",
    "| `forloop.counter0`     | El número de iteración actual (basado en 0) |    \n",
    "| `forloop.revcounter`\t | El numero de iteraciones desde el final (basado en 1) |\n",
    "| `forloop.revcounter0`\t | El numero de iteraciones desde el final (basado en 0) |\n",
    "| `forloop.first`\t     | `True` si es el primer elemento de la secuencia |\n",
    "| `forloop.last`\t     | `True` si es el último elemento de la secuencia |\n",
    "| `forloop.parentloop`\t | En bucles anidados, permite acceder al bucle externo |"
   ]
  },
  {
   "cell_type": "markdown",
   "metadata": {
    "slideshow": {
     "slide_type": "slide"
    }
   },
   "source": [
    "El bucle `for` tiene una etiqueta opcional, `empty`, con la que podemos\n",
    "definir el contenido a mostrar si la lista o itereador a usar esta vacio:"
   ]
  },
  {
   "cell_type": "markdown",
   "metadata": {
    "slideshow": {
     "slide_type": "slide"
    }
   },
   "source": [
    "Por ejemplo, usando la lista `avengers` del ejemplo anterior, podriamos hacer:\n",
    "\n",
    "    <ul>\n",
    "      {% for hero in avengers %}\n",
    "        <li>{{ hero.name }}</li>\n",
    "      {% empty %}\n",
    "        <li>Lo siento, no hay ningún heroe en este equipo</li>\n",
    "      {% endfor %}\n",
    "    </ul>\n",
    "    "
   ]
  },
  {
   "cell_type": "markdown",
   "metadata": {
    "slideshow": {
     "slide_type": "slide"
    }
   },
   "source": [
    "Que es más corto, legible y posiblemente más rápido que:\n",
    "\n",
    "    <ul>\n",
    "      {% if avengers %}\n",
    "        {% for hero in avengers %}\n",
    "          <li>{{ hero.name }}</li>\n",
    "        {% endfor %}\n",
    "      {% else %}  \n",
    "        <li>Lo siento, no hay ningún heroe en este equipo</li>\n",
    "      {% endif %}\n",
    "    </ul>"
   ]
  },
  {
   "cell_type": "markdown",
   "metadata": {
    "slideshow": {
     "slide_type": "slide"
    }
   },
   "source": [
    "### La etiqueta extends\n",
    "\n",
    "Sirve para indicar que una plantilla deriva o hereda de otra. Si se utiliza, debe ser \n",
    "obligatoriamente la primera etiqueta de la plantilla."
   ]
  },
  {
   "cell_type": "markdown",
   "metadata": {
    "slideshow": {
     "slide_type": "slide"
    }
   },
   "source": [
    "### La etiqueta load\n",
    "\n",
    "Carga un conjunto de etiquetas y/o filtros personalizados. Es la forma de ampliar\n",
    "el sistema de plantillas para adecuarlo a nuestra necesidades."
   ]
  },
  {
   "cell_type": "markdown",
   "metadata": {
    "slideshow": {
     "slide_type": "slide"
    }
   },
   "source": [
    "Por ejemplo, si en la *app* de shield creamos un directorio `templatetags`, y dentro\n",
    "del mismo creamos un fichero con filtros llamado `shield_filters.py`, podemos\n",
    "usar estos filtros dentro de nuestras plantillas, pero primero tenemos que\n",
    "usar `load` -normalmente al principio de la plantilla, porque funcionan como\n",
    "los imports de python-, para que se carguen estas extensiones:\n",
    "\n",
    "    {% load shield_filters %}\n",
    "   "
   ]
  },
  {
   "cell_type": "markdown",
   "metadata": {
    "slideshow": {
     "slide_type": "slide"
    }
   },
   "source": [
    " \n",
    "    \n",
    "Tambien podemos usar de ofmra selectiva o individual alguno de estos filtros, usando la\n",
    "formula:\n",
    "\n",
    "    {% load as_level from shield_filters %}"
   ]
  },
  {
   "cell_type": "markdown",
   "metadata": {
    "slideshow": {
     "slide_type": "slide"
    }
   },
   "source": [
    "### La etiqueta lorem\n",
    "\n",
    "Genera texto al azar, en latin. Esto es util para porporcionar contenido\n",
    "de ejemplo en las plantillas. Se usa de la siguiente manera:\n",
    "\n",
    "    {% lorem [count] [method] [random] %}\n",
    "    \n",
    "Se pueden especificar ninguno, uno, dos o los tres parámatros, que tienen\n",
    "el siguiente significado\n",
    "\n",
    "| Parámtro   | Descripcion     |\n",
    "|-----------:|:----------------|\n",
    "| count      | Número de parrafos a generar (uno por defecto) |\n",
    "| method     | O `w` (para palabras), `p` para parrafos HTML o `b` para parrafos de texto (Por defecto `b`) |\n",
    "| random\t | Si se incluye, se generan parrafos al azar, si no, empieza por *Lorem ipsum dolor sit amet...* |"
   ]
  },
  {
   "cell_type": "markdown",
   "metadata": {},
   "source": [
    "### La etiqueta include\n",
    "\n",
    "Esta etiqueta carga una plantilla y la representa usando el contexto actual. Es una\n",
    "forma de reutilizar o incluir una plantilla dentro de otra. El nombre de la plantilla\n",
    "puede ser un valor (el nombre de la plantilla entre comillas) o una variable cuyo\n",
    "valor sea el nombre de la plantilla:\n",
    "\n",
    "    {% include \"foo/bar.html\" %}\n",
    "    \n",
    "    "
   ]
  },
  {
   "cell_type": "markdown",
   "metadata": {},
   "source": [
    "### La etiqueta block\n",
    "\n",
    "define un bloque que puede ser sobreescrito por una plantilla hija."
   ]
  },
  {
   "cell_type": "markdown",
   "metadata": {},
   "source": [
    "### La etiqueta comment\n",
    "\n",
    "El sistema de plantilla ignorará todo lo  que este incluido dentro de un `comment`. esto\n",
    "puede ser muy útil para desabilitar parte de la plantila, cuando estamos depurando errores."
   ]
  },
  {
   "cell_type": "markdown",
   "metadata": {},
   "source": [
    "### La etiqueta debug\n",
    "\n",
    "Muestra información que es util de cara al desarrollo, incluyendo el contexto actual y los\n",
    "módulos importados.\n",
    "\n",
    "    {% debug %}\n",
    "    "
   ]
  },
  {
   "cell_type": "markdown",
   "metadata": {},
   "source": [
    "### La etiqueta verbatim\n",
    "\n",
    "Evita que el sistema de plantillas interprete el contenido. Esta pasa a traves\n",
    "del sistema de plantillas inalterado. Es muy útil para incluir contenido, \n",
    "como por ejemplo código javascript cuya sintaxis puede entrar en conflicto con\n",
    "el sistema de plantillas de Django.\n",
    "\n",
    "    {% verbatim %}\n",
    "        {{if dying}}Still alive.{{/if}}\n",
    "    {% endverbatim %}"
   ]
  },
  {
   "cell_type": "markdown",
   "metadata": {
    "slideshow": {
     "slide_type": "slide"
    }
   },
   "source": [
    "### Los filtros (*Filters*)\n",
    "\n",
    "Los filtros permite transformar los valores obtenidos mediante \n",
    "variables, asi como de los argumentos de las etiquetas. El nombre\n",
    "de filtos es muy explicito: la idea es que entra un valor como\n",
    "entrada del filtro y se obtiene otro a la salida."
   ]
  },
  {
   "cell_type": "markdown",
   "metadata": {
    "slideshow": {
     "slide_type": "slide"
    }
   },
   "source": [
    "La forma de usar el filtro es usar el caracter tubería o *pipe* `|`, como\n",
    "en el siguiente ejemplo:\n",
    "\n",
    "    {{ titulo|title }}\n",
    "   "
   ]
  },
  {
   "cell_type": "markdown",
   "metadata": {
    "slideshow": {
     "slide_type": "slide"
    }
   },
   "source": [
    " \n",
    "Si la variable titulo contiene el valor `'HOLA'`, el resultado mostrado\n",
    "seria `Hola`.\n",
    "\n",
    "Algunos filtros pueden acceptar un parametro:\n",
    "\n",
    "    {{ hoy|date:\"Y-m-d\" }}\n",
    " "
   ]
  },
  {
   "cell_type": "markdown",
   "metadata": {
    "slideshow": {
     "slide_type": "slide"
    }
   },
   "source": [
    "   \n",
    "La lista de filtros incluidos en Django es:\n",
    "\n",
    "- `add`\n",
    "- `addslashes`\n",
    "- `capfirst`\n",
    "- `center`\n",
    "- `cut`\n",
    "- `date`\n",
    "- `default`\n",
    "- `default_if_none`\n",
    "- `dictsort`\n",
    "- `dictsortreversed`\n",
    "- `divisibleby`\n",
    "- `escape`\n",
    "- `escapejs`\n",
    "- `filesizeformat`\n",
    "- `first`\n",
    "- `floatformat`\n",
    "- `force_escape`\n",
    "- `get_digit`\n",
    "- `iriencode`\n",
    "- `join`\n",
    "- `json_script`\n",
    "- `last`\n",
    "- `length`\n",
    "- `length_is`\n",
    "- `linebreaks`\n",
    "- `linebreaksbr`\n",
    "- `linenumbers`\n",
    "- `ljust`\n",
    "- `lower`\n",
    "- `make_list`\n",
    "- `phone2numeric`\n",
    "- `pluralize`\n",
    "- `pprint`\n",
    "- `random`\n",
    "- `rjust`\n",
    "- `safe`\n",
    "- `safeseq`\n",
    "- `slice`\n",
    "- `slugify`\n",
    "- `stringformat`\n",
    "- `striptags`\n",
    "- `time`\n",
    "- `timesince`\n",
    "- `timeuntil`\n",
    "- `title`\n",
    "- `truncatechars`\n",
    "- `truncatechars_html`\n",
    "- `truncatewords`\n",
    "- `truncatewords_html`\n",
    "- `unordered_list`\n",
    "- `upper`\n",
    "- `urlencode`\n",
    "- `urlize`\n",
    "- `urlizetrunc`\n",
    "- `wordcount`\n",
    "- `wordwrap`\n",
    "- `yesno`"
   ]
  },
  {
   "cell_type": "markdown",
   "metadata": {
    "slideshow": {
     "slide_type": "slide"
    }
   },
   "source": [
    "Veremos alguna de las etiquetas más usadas:\n",
    "    \n",
    "\n",
    "### El filtro add \n",
    "\n",
    "Suma un valor a la entrada:\n",
    "    \n",
    "Por ejemplom si `value` vale $5$, la salida del siguiente fragmento seria $7$:\n",
    "\n",
    "    {{ value|add:\"2\" }}"
   ]
  },
  {
   "cell_type": "markdown",
   "metadata": {
    "slideshow": {
     "slide_type": "slide"
    }
   },
   "source": [
    "### El filtro default\n",
    "\n",
    "Si el valor de entrada evalua a falso o no está definido, se sustituye por el \n",
    "valor indicado como parametro:\n",
    "\n",
    "Por ejemplo:\n",
    "    \n",
    "    {{ option|default:\"nada\" }}\n",
    "\n",
    "    "
   ]
  },
  {
   "cell_type": "markdown",
   "metadata": {
    "slideshow": {
     "slide_type": "slide"
    }
   },
   "source": [
    "### El filtro divisibleby\n",
    "\n",
    "Devuelve `True` si el valor que se le pasa es divisible por el parametro:\n",
    "    \n",
    "    {{ value|divisibleby:\"3\" }}\n",
    "    \n",
    "Si el valor de `value` fuera $21$, la salida seria `True`"
   ]
  },
  {
   "cell_type": "markdown",
   "metadata": {
    "slideshow": {
     "slide_type": "slide"
    }
   },
   "source": [
    "### El filtro first\n",
    "\n",
    "Devuelve el primer elemento de una lista/secuencia.\n",
    "\n",
    "For example:\n",
    "\n",
    "    {{ avengers|first }}"
   ]
  },
  {
   "cell_type": "markdown",
   "metadata": {
    "slideshow": {
     "slide_type": "slide"
    }
   },
   "source": [
    "### El filtro join\n",
    "\n",
    "Une los elementos de una lista de cadenas de texto, usando como separador\n",
    "el parametro. Es equivalente al metodo `join(list)` de las cadenas.\n",
    "\n",
    "    {{ mh.powers.all|join:\", \" }}\n",
    "\n"
   ]
  }
 ],
 "metadata": {
  "celltoolbar": "Slideshow",
  "kernelspec": {
   "display_name": "Python 3",
   "language": "python",
   "name": "python3"
  },
  "language_info": {
   "codemirror_mode": {
    "name": "ipython",
    "version": 3
   },
   "file_extension": ".py",
   "mimetype": "text/x-python",
   "name": "python",
   "nbconvert_exporter": "python",
   "pygments_lexer": "ipython3",
   "version": "3.6.9"
  }
 },
 "nbformat": 4,
 "nbformat_minor": 4
}
