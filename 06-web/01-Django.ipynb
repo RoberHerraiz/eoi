{
 "cells": [
  {
   "cell_type": "markdown",
   "metadata": {
    "slideshow": {
     "slide_type": "slide"
    }
   },
   "source": [
    "## Django\n",
    "\n",
    "![Django](./img/django.png)"
   ]
  },
  {
   "cell_type": "markdown",
   "metadata": {
    "slideshow": {
     "slide_type": "slide"
    }
   },
   "source": [
    "### Qué es Django\n",
    "\n",
    "**Django** es un *framework* para el desarrollo de aplicaciones web, gratuito y de código abierto (open source) escrito en Python."
   ]
  },
  {
   "cell_type": "markdown",
   "metadata": {
    "slideshow": {
     "slide_type": "slide"
    }
   },
   "source": [
    "Un __framework__, desde el punto de vista informático, es un marco o estructura conceptual y tecnológica, definida normalmente mediante módulos concretos de software, y que sirve de base para el desarrollo de un *tipo* de software.\n",
    "\n",
    "Suele incluir programas, librerías y otras herramientas para ayudaa a desarrollar y unir los diferentes componentes de un proyecto."
   ]
  },
  {
   "cell_type": "markdown",
   "metadata": {
    "slideshow": {
     "slide_type": "slide"
    }
   },
   "source": [
    "Django, al ser un framework *para desarrollo web*, nos ayudará a desarrollar ese tipo de aplicaciones, aplicaciones web. Seria absurdo intentar usarlo para el desarrollo de una aplicación de terminal, una app movil, o un sistema\n",
    "operativo."
   ]
  },
  {
   "cell_type": "markdown",
   "metadata": {
    "slideshow": {
     "slide_type": "slide"
    }
   },
   "source": [
    "### Diferencia entre librerías y frameworks\n",
    "\n",
    "A primera vista, pueden parecer muy similares, al fin y al cabo son, como una libreria\n",
    "de software, solo un conjunto de módulos que podemos empezar a usar tan pronto como\n",
    "lo instalemos. De hecho, veremos que instalaremos Django exactamente igual que \n",
    "cualquier otra librerîa."
   ]
  },
  {
   "cell_type": "markdown",
   "metadata": {
    "slideshow": {
     "slide_type": "slide"
    }
   },
   "source": [
    "La principal diferencia radica en *como se usa* y *quien mantiene el control*."
   ]
  },
  {
   "cell_type": "markdown",
   "metadata": {
    "slideshow": {
     "slide_type": "fragment"
    }
   },
   "source": [
    "- En el caso de una\n",
    "librería, tú mantienes el control, y tu realiza llamadas a la librería cuando estimas\n",
    "conveniente."
   ]
  },
  {
   "cell_type": "markdown",
   "metadata": {
    "slideshow": {
     "slide_type": "fragment"
    }
   },
   "source": [
    "- Con un *framework*, la situación se invierte, y es el propio *framework* el que\n",
    "llama a las funciones que tu escribes. El framework es el que mantiene el control."
   ]
  },
  {
   "cell_type": "markdown",
   "metadata": {
    "slideshow": {
     "slide_type": "slide"
    }
   },
   "source": [
    "Esto se puede conseguir por la restriccion que el propio framework ha hecho\n",
    "sobre el __dominio__, es decir, sobre el área de problemas que soluciona. Decidir que\n",
    "solo te vas a encargar de solucionar el hacer una web, o que solo vas a dedicar a \n",
    "hacer juegos (para un framework de desarrollo de juegos) simplifica el framework, por varias\n",
    "razones:"
   ]
  },
  {
   "cell_type": "markdown",
   "metadata": {
    "slideshow": {
     "slide_type": "slide"
    }
   },
   "source": [
    "- El esquema principal o esqueleto de la aplicación ya viene determinado. Todas\n",
    "  las aplicaciones web se estructuran de una forma parecida, de la misma\n",
    "  forma que todos los juegos tienen un bucle interno que es basicamente igual\n",
    "  para todos: Leer controles -> modificar estado del juego -> representar\n",
    "  estado del juego -> repetir."
   ]
  },
  {
   "cell_type": "markdown",
   "metadata": {
    "slideshow": {
     "slide_type": "slide"
    }
   },
   "source": [
    "- En cada dominio hay una serie de problemas comunes, que se pueden resolver\n",
    "  e implementar en el *framework* porque hay una probabilidad muy alta de que\n",
    "  te vayas a encontrar con ese problema, por ejemplo, en desarrollo web, gestionar\n",
    "  todo el proceso de *login* y *logout*, manejo de sesiones, etc.\n",
    " "
   ]
  },
  {
   "cell_type": "markdown",
   "metadata": {
    "slideshow": {
     "slide_type": "slide"
    }
   },
   "source": [
    " \n",
    "- Al restringir las capacidades, puedes presuponer o dar por fijas determinadas\n",
    "  condiciones, asi como el entorno de ejecución.\n",
    "  "
   ]
  },
  {
   "cell_type": "markdown",
   "metadata": {
    "slideshow": {
     "slide_type": "slide"
    }
   },
   "source": [
    "- Elimina muchisimos problemas de los que no te vas a tener que preocupar. Ningun\n",
    "  framework web se tiene que preocupar de los *frames por segundo* que pueda dar."
   ]
  },
  {
   "cell_type": "markdown",
   "metadata": {
    "slideshow": {
     "slide_type": "slide"
    }
   },
   "source": [
    "### Instalar django\n",
    "\n",
    "Como se comentó antes, instalar django es como instalar cualquier otra\n",
    "libreria, usando pip."
   ]
  },
  {
   "cell_type": "markdown",
   "metadata": {},
   "source": [
    "    python -V"
   ]
  },
  {
   "cell_type": "code",
   "execution_count": 5,
   "metadata": {
    "slideshow": {
     "slide_type": "slide"
    }
   },
   "outputs": [
    {
     "name": "stdout",
     "output_type": "stream",
     "text": [
      "/usr/bin/sh: 1: django: not found\n"
     ]
    }
   ],
   "source": [
    "!django --version"
   ]
  },
  {
   "cell_type": "markdown",
   "metadata": {
    "slideshow": {
     "slide_type": "slide"
    }
   },
   "source": [
    "Podemos comprobar que django esta corectamente instalando simplemente intentado importarlo. Si no da error, es que esta instalado:"
   ]
  },
  {
   "cell_type": "code",
   "execution_count": 6,
   "metadata": {
    "slideshow": {
     "slide_type": "slide"
    }
   },
   "outputs": [],
   "source": [
    "!python -c \"import django\""
   ]
  },
  {
   "cell_type": "markdown",
   "metadata": {
    "slideshow": {
     "slide_type": "slide"
    }
   },
   "source": [
    "Podemos comprobar la versión instalada con la función `get_version()`:"
   ]
  },
  {
   "cell_type": "code",
   "execution_count": 7,
   "metadata": {
    "slideshow": {
     "slide_type": "slide"
    }
   },
   "outputs": [
    {
     "name": "stdout",
     "output_type": "stream",
     "text": [
      "3.0.5\n"
     ]
    }
   ],
   "source": [
    "import django\n",
    "print(django.get_version())"
   ]
  },
  {
   "cell_type": "markdown",
   "metadata": {
    "slideshow": {
     "slide_type": "slide"
    }
   },
   "source": [
    "### Nuestra primera aplicación Django: Hola, Mundo\n",
    "\n",
    "Es una tradición<sup>*</sup> en el mundo de la informática, a la hora de aprender un nuevo lenguaje, librería o framework, empezar desarrollando la versión más sencilla que se pueda implementar de un programa que haga algo.\n",
    "\n",
    "* La tradición se remonta al famoso libro sobre el lenguaje C, escrito por Kernighan y Ritchie."
   ]
  },
  {
   "cell_type": "markdown",
   "metadata": {
    "slideshow": {
     "slide_type": "slide"
    }
   },
   "source": [
    "Esto nos permite eliminar toda la complejidad adicional que pueda tener el lenguaje y centrarnos en una única funcionalidad relativamente trivial (tradicionalmente también, escribir o representar de algún modo el mensaje “Hola, mundo” [Hello, World])."
   ]
  },
  {
   "cell_type": "markdown",
   "metadata": {
    "slideshow": {
     "slide_type": "slide"
    }
   },
   "source": [
    "Además, el programa “hola, mundo” nos permite hacernos una idea rápida de la sintaxis, la semántica y las particularidades de lo que quiera que estás aprendiendo."
   ]
  },
  {
   "cell_type": "markdown",
   "metadata": {
    "slideshow": {
     "slide_type": "slide"
    }
   },
   "source": [
    "Para poder trabajar con Django, debemos de hacerlo fuera de Jupyter.\n",
    "Trabajaremos desde la consola y desde un edior de textos. El primer\n",
    "paso es abrir la consola en el directorio de trabajo que queremos\n",
    "y comprobar que tenemos la version de Python correcta instalada\n",
    "y disponible"
   ]
  },
  {
   "cell_type": "markdown",
   "metadata": {
    "slideshow": {
     "slide_type": "slide"
    }
   },
   "source": [
    "Ejecutemos desde la terminal:\n",
    "\n",
    "    python -V\n",
    "\n",
    "o\n",
    "\n",
    "    python3 -V"
   ]
  },
  {
   "cell_type": "markdown",
   "metadata": {
    "slideshow": {
     "slide_type": "slide"
    }
   },
   "source": [
    "Note: En el resto de la documentacion, solo ejecutaré `python` y `pip`, sin el 3 después. Si\n",
    "lo tienes instalado como `python3` o `pip3` haz el reajuste correspondiente.\n",
    "\n",
    "Para verificar que Django está instalado haremos\n",
    "\n",
    "    python -c \"import django\"\n",
    "\n",
    "De nuevo, la ausencia de mensajes de error es buena noticia. Si diera un\n",
    "error, instalar django como pip:\n",
    "\n",
    "    pip install django"
   ]
  },
  {
   "cell_type": "markdown",
   "metadata": {
    "slideshow": {
     "slide_type": "slide"
    }
   },
   "source": [
    "Ahora, el siguiente paso será crear nuestra aplicación. Django, al instalarse, he añadido \n",
    "una utilidad muy cómoda que permite crear una aplicación mínima al toque.\n",
    "Podemos ejecutar esta utilidad haciendo:\n",
    "\n",
    "    django-admin\n",
    "\n",
    "Si todo ha ido bien, deberíamos ver un resultado como este, en el que la\n",
    "utilidad nos señala amablemente que no le hemos indicado ninguna acción a\n",
    "ejecutar, y a continuacón, lista las acciones que podemos ejecutar:\n",
    "\n",
    "    $ django-admin\n",
    "\n",
    "    Type 'django-admin help <subcommand>' for help on a specific subcommand.\n",
    "\n",
    "    Available subcommands:\n",
    "\n",
    "    [django]\n",
    "        check\n",
    "        compilemessages\n",
    "        createcachetable\n",
    "        dbshell\n",
    "        diffsettings\n",
    "        dumpdata\n",
    "        flush\n",
    "        inspectdb\n",
    "        loaddata\n",
    "        makemessages\n",
    "        makemigrations\n",
    "        migrate\n",
    "        runserver\n",
    "        sendtestemail\n",
    "        shell\n",
    "        showmigrations\n",
    "        sqlflush\n",
    "        sqlmigrate\n",
    "        sqlsequencereset\n",
    "        squashmigrations\n",
    "        startapp\n",
    "        startproject\n",
    "        test\n",
    "        testserver\n",
    "\n",
    "\n",
    "\n",
    "\n",
    "\n",
    "De todas esas acciones que podemos hacer, la que nos interesa ahora mismo\n",
    "es `startproject`. Esta acción es la que crea una aplicación básica, o como\n",
    "se dice a veces, el *esqueleto* de una aplicación.\n",
    "\n",
    "Antes de ejecutar la acción, tenemos que pensar el nombre de la misma, ya que \n",
    "va a crear un directorio con ese mismo nombre. En este curso vamos a crear\n",
    "varias aplicaciones diferentes, asi que esta la vamos a crear con el nombre\n",
    "`hola`. \n",
    "\n",
    "Para crear la aplicación, por tanto, ejecutamos:\n",
    "\n",
    "    django-admin startprojec hola\n",
    "\n",
    "Como es habitual, la falta de mensajes de error es indocativo de que todo ha ido\n",
    "bien. El resultado de la ejecución es que se ha creado una carpeta nueva \n",
    "con el nombre de la aplicacion, 'hola' en este caso (habria dado un error si\n",
    "ya existiera una carpeta con ese nombre; esto es así para evitar destruir un\n",
    "proyecto ya existente por descuido.\n",
    "\n",
    "**Ejercicio**: Intentar crear nuevamente la aplicación `hola`. Describir lo que\n",
    "pasa.\n",
    "\n",
    "### Examinado la aplicacion `hola`\n",
    "\n",
    "Vamos a ver los contenidos que hay en la carpeta recien creada."
   ]
  },
  {
   "cell_type": "markdown",
   "metadata": {
    "slideshow": {
     "slide_type": "slide"
    }
   },
   "source": [
    "Como podemos intuir de lo visto en los temas anteriores, Django es bastante potente y ámplio. no puede ser de otra manera, ya que el desarrollo web se ha convertido en una fusión de multiples tecnologías.\n",
    "\n",
    "Para nuestra versión de Hola, mundo, nos contentaremos con una única página web,con el texto “hola, mundo”.\n",
    "\n",
    "\n",
    "Mapeo de urls\n",
    "\n",
    "definicion de vista\n",
    "\n",
    "\n"
   ]
  }
 ],
 "metadata": {
  "celltoolbar": "Slideshow",
  "kernelspec": {
   "display_name": "Python 3",
   "language": "python",
   "name": "python3"
  },
  "language_info": {
   "codemirror_mode": {
    "name": "ipython",
    "version": 3
   },
   "file_extension": ".py",
   "mimetype": "text/x-python",
   "name": "python",
   "nbconvert_exporter": "python",
   "pygments_lexer": "ipython3",
   "version": "3.8.2"
  }
 },
 "nbformat": 4,
 "nbformat_minor": 4
}
