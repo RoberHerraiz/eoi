{
 "cells": [
  {
   "cell_type": "markdown",
   "metadata": {},
   "source": [
    "## Recursos para profundizar en Django\n",
    "\n",
    "### Tutoriales"
   ]
  },
  {
   "cell_type": "markdown",
   "metadata": {},
   "source": [
    "#### ▶ Tutorial oficial de Django\n",
    "\n",
    "La página oficial proporciona un tutorial bastante completo, dovidido en 7 partes:\n",
    "\n",
    "- Part 1: [Requests and responses](https://docs.djangoproject.com/en/3.0/intro/tutorial01/)\n",
    "- Part 2: [Models and the admin site](https://docs.djangoproject.com/en/3.0/intro/tutorial02/)\n",
    "- Part 3: [Views and templates](https://docs.djangoproject.com/en/3.0/intro/tutorial03/)\n",
    "- Part 4: [Forms and generic views](https://docs.djangoproject.com/en/3.0/intro/tutorial04/)\n",
    "- Part 5: [Testing](https://docs.djangoproject.com/en/3.0/intro/tutorial05/)\n",
    "- Part 6: [Static files](https://docs.djangoproject.com/en/3.0/intro/tutorial06/)\n",
    "- Part 7: [Customizing the admin site](https://docs.djangoproject.com/en/3.0/intro/tutorial07/)\n",
    "\n",
    "Tambien tiene estos dos tutoriales avanzados:\n",
    "\n",
    "- [How to write reusable apps](https://docs.djangoproject.com/en/3.0/intro/reusable-apps/)\n",
    "- [Writing your first patch for Django](https://docs.djangoproject.com/en/3.0/intro/contributing/)"
   ]
  },
  {
   "cell_type": "markdown",
   "metadata": {},
   "source": [
    "#### ▶ Tutorial de Django Girls\n",
    "\n",
    "Excelente tutorial, cubre el desarrollo de una aplicación de *blogs* partiendo practicamente desde cero, por lo que es una buena oprtunidad de aprender o refrescar Python. Además, está traducido a español.\n",
    "\n",
    "- [Tutorial de DjangoGirls](https://tutorial.djangogirls.org/es/)"
   ]
  },
  {
   "cell_type": "markdown",
   "metadata": {},
   "source": [
    "#### ▶ Tango con Django (*Tango with Django*)\n",
    "\n",
    "Es una guía de desarrollo web con Django y Python. En una descripción más completa\n",
    "que los tutoriales básicos, en el sentido de que explica las diferentes tecnologías\n",
    "imncluidas en el proceso.\n",
    "\n",
    "- [Tango with Django](https://www.tangowithdjango.com/)\n",
    "- [Repositorio de código](https://github.com/maxwelld90/tango_with_django_2_code)"
   ]
  },
  {
   "cell_type": "markdown",
   "metadata": {},
   "source": [
    "#### ▶ Django tutorial de Real Python\n",
    "\n",
    "Una colección de tutoriales de nivel intermedio a avanzado, por la gente de [RealPython](https://realpython.com/), que también son una referencia muy buena en Pyhon en general.\n",
    "\n",
    "- [Real Python Django tutotials]()"
   ]
  },
  {
   "cell_type": "markdown",
   "metadata": {},
   "source": [
    "### Recursos"
   ]
  },
  {
   "cell_type": "markdown",
   "metadata": {},
   "source": [
    "#### ▶ Django packages\n",
    "\n",
    "Django packages es un directorio de *apps* reutilizables, herramientas, añadidos y librerías utilizables en tus proyectos Django.\n",
    "\n",
    "- [Djangopackages.org](https://djangopackages.org/)"
   ]
  },
  {
   "cell_type": "markdown",
   "metadata": {},
   "source": [
    "#### ▶ Django en producción\n",
    "\n",
    "- [A tour of Django server setups](https://mattsegal.dev/django-prod-architectures.html)"
   ]
  },
  {
   "cell_type": "markdown",
   "metadata": {},
   "source": [
    "#### ▶  Awesome Django\n",
    "\n",
    "Recopilatorio de todo tipo  de recursos para Django\n",
    "\n",
    "- [Awesome Django](https://github.com/shahraizali/awesome-django)"
   ]
  }
 ],
 "metadata": {
  "kernelspec": {
   "display_name": "Python 3",
   "language": "python",
   "name": "python3"
  },
  "language_info": {
   "codemirror_mode": {
    "name": "ipython",
    "version": 3
   },
   "file_extension": ".py",
   "mimetype": "text/x-python",
   "name": "python",
   "nbconvert_exporter": "python",
   "pygments_lexer": "ipython3",
   "version": "3.8.3"
  }
 },
 "nbformat": 4,
 "nbformat_minor": 4
}
