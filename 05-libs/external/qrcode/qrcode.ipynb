{
 "cells": [
  {
   "cell_type": "markdown",
   "metadata": {},
   "source": [
    "# La librería qrcode\n",
    "\n",
    "La librería **qrcode** nos permite generar códigos QR"
   ]
  },
  {
   "cell_type": "markdown",
   "metadata": {},
   "source": [
    "### Instalación\n",
    "\n",
    "Se puede instalar con pip"
   ]
  },
  {
   "cell_type": "code",
   "execution_count": 1,
   "metadata": {},
   "outputs": [
    {
     "name": "stdout",
     "output_type": "stream",
     "text": [
      "Requirement already satisfied: qrcode in /home/herraiz/proyectos/eoi-venv/lib/python3.8/site-packages (6.1)\n",
      "Requirement already satisfied: six in /home/herraiz/proyectos/eoi-venv/lib/python3.8/site-packages (from qrcode) (1.14.0)\n"
     ]
    }
   ],
   "source": [
    "!pip3 install qrcode"
   ]
  },
  {
   "cell_type": "markdown",
   "metadata": {},
   "source": [
    "### Qué es un código QR\n",
    "\n",
    "Es un gráfico en dos dimensiones, que se puede usar para codificar una cantidad relativamante\n",
    "grande de informacion (hasta 4k) en un formato que se puede leer rapidamente. El gráfico\n",
    "consiste en bloques de color negro dispuestos sobre una retícula cuadrada. Usando este\n",
    "formato podemos codificar cualquier tipo de información.\n",
    "\n",
    "Más información en la entrada [Código QR de la wikipedia](https://es.wikipedia.org/wiki/C%C3%B3digo_QR)"
   ]
  },
  {
   "cell_type": "markdown",
   "metadata": {},
   "source": [
    "### Ejemplo de uso\n",
    "\n",
    "Vamos a codificar el mensaje \"Hola, Mundo\" en un código QR:"
   ]
  },
  {
   "cell_type": "code",
   "execution_count": 5,
   "metadata": {},
   "outputs": [
    {
     "data": {
      "image/png": "[encoded data removed]",
      "text/plain": [
       "<qrcode.image.pil.PilImage at 0x7ff4b81db340>"
      ]
     },
     "execution_count": 5,
     "metadata": {},
     "output_type": "execute_result"
    }
   ],
   "source": [
    "import qrcode\n",
    "\n",
    "im = qrcode.make(\"👏\")\n",
    "im"
   ]
  },
  {
   "cell_type": "markdown",
   "metadata": {},
   "source": [
    "**Ejercicio (opcional)**: Si tienes un lector de códigos QR en el móvil, intenta leer\n",
    "    el código de la celda anterior."
   ]
  },
  {
   "cell_type": "markdown",
   "metadata": {},
   "source": [
    "Esta imagen que obtenemos es una imagen de Pillow, así que podemos hacer con ella todas las cosas\n",
    "que haciamos con ella, como por ejemplo, descubrir información como su modo o su tama"
   ]
  },
  {
   "cell_type": "code",
   "execution_count": 19,
   "metadata": {},
   "outputs": [
    {
     "name": "stdout",
     "output_type": "stream",
     "text": [
      "1 (290, 290)\n"
     ]
    }
   ],
   "source": [
    "import qrcode\n",
    "\n",
    "im = qrcode.make(\"Hola, Mundo\")\n",
    "print(im.mode, im.size)"
   ]
  },
  {
   "cell_type": "markdown",
   "metadata": {},
   "source": [
    "Mode `1` significa que solo ocupa un bit por cada pixel, es decir, que es una imagen de\n",
    "negro y blanco en su sentido más absoluto; un pixel solo puede ser blanco o negro, no existen\n",
    "tonos de gris."
   ]
  },
  {
   "cell_type": "markdown",
   "metadata": {},
   "source": [
    "Podemos también hacer un resize, por ejemplo:"
   ]
  },
  {
   "cell_type": "code",
   "execution_count": 20,
   "metadata": {},
   "outputs": [
    {
     "data": {
      "image/png": "[encoded data removed]",
      "text/plain": [
       "<PIL.Image.Image image mode=1 size=128x128 at 0x1197F4E50>"
      ]
     },
     "execution_count": 20,
     "metadata": {},
     "output_type": "execute_result"
    }
   ],
   "source": [
    "import qrcode\n",
    "\n",
    "im = qrcode.make(\"Hola, Mundo\")\n",
    "smaller = img.resize((128, 128))\n",
    "smaller"
   ]
  },
  {
   "cell_type": "markdown",
   "metadata": {},
   "source": [
    "... hacer arte moderno..."
   ]
  },
  {
   "cell_type": "code",
   "execution_count": 7,
   "metadata": {},
   "outputs": [
    {
     "data": {
      "image/png": "[encoded data removed]",
      "text/plain": [
       "<PIL.Image.Image image mode=RGB size=290x290 at 0x7FF4B80AAB20>"
      ]
     },
     "execution_count": 7,
     "metadata": {},
     "output_type": "execute_result"
    }
   ],
   "source": [
    "from PIL import Image\n",
    "import qrcode\n",
    "\n",
    "im = qrcode.make(\"Hola, Mundo\")\n",
    "im = im.convert(mode=\"L\") # 256 tonos de gris\n",
    "im = Image.merge(\"RGB\", (im, im.rotate(90), im.rotate(-90))) # descomponemos\n",
    "im"
   ]
  },
  {
   "cell_type": "markdown",
   "metadata": {},
   "source": [
    "O, por supuesto, salvarla a un fichero:"
   ]
  },
  {
   "cell_type": "code",
   "execution_count": 13,
   "metadata": {},
   "outputs": [],
   "source": [
    "import qrcode\n",
    "\n",
    "im = qrcode.make(\"Hola, Mundo\")\n",
    "img.save(\"hola_mundo.png\")"
   ]
  },
  {
   "cell_type": "markdown",
   "metadata": {},
   "source": [
    "Podemos codificar cualquier tipo de información, no solo texto. Vamos, por ejemplo, a codificar un diccionario:"
   ]
  },
  {
   "cell_type": "code",
   "execution_count": 30,
   "metadata": {},
   "outputs": [
    {
     "data": {
      "image/png": "[encoded data removed]",
      "text/plain": [
       "<qrcode.image.pil.PilImage at 0x119953590>"
      ]
     },
     "execution_count": 30,
     "metadata": {},
     "output_type": "execute_result"
    }
   ],
   "source": [
    "data = {\n",
    "    'numero': 12345,\n",
    "    'descripcion': \"Caja tornillos 10mm\",\n",
    "    'precio': 2.22,\n",
    "    'disponible': True,\n",
    "}\n",
    "im = qrcode.make(data)\n",
    "im"
   ]
  },
  {
   "cell_type": "markdown",
   "metadata": {},
   "source": [
    "Como vemos, el codigo es bastante más grande, porque incluye más información. Como curiosidad, comentar\n",
    "que los cuadores de las esquinas sirven para que, al interpretarlo, se pueda orientar correctamente. "
   ]
  },
  {
   "cell_type": "markdown",
   "metadata": {},
   "source": [
    "**Ejercicio**: Genera un código QR con tu nombre"
   ]
  },
  {
   "cell_type": "code",
   "execution_count": 10,
   "metadata": {},
   "outputs": [
    {
     "data": {
      "image/png": "[encoded data removed]",
      "text/plain": [
       "<qrcode.image.pil.PilImage at 0x7ff4b809bd60>"
      ]
     },
     "execution_count": 10,
     "metadata": {},
     "output_type": "execute_result"
    }
   ],
   "source": [
    "import qrcode\n",
    "\n",
    "im = qrcode.make(\"Roberto\")\n",
    "im.save(\"RobertoAlonso.png\")\n",
    "im"
   ]
  },
  {
   "cell_type": "code",
   "execution_count": null,
   "metadata": {},
   "outputs": [],
   "source": []
  }
 ],
 "metadata": {
  "kernelspec": {
   "display_name": "Python 3",
   "language": "python",
   "name": "python3"
  },
  "language_info": {
   "codemirror_mode": {
    "name": "ipython",
    "version": 3
   },
   "file_extension": ".py",
   "mimetype": "text/x-python",
   "name": "python",
   "nbconvert_exporter": "python",
   "pygments_lexer": "ipython3",
   "version": "3.8.0"
  }
 },
 "nbformat": 4,
 "nbformat_minor": 4
}
