{
 "cells": [
  {
   "cell_type": "markdown",
   "metadata": {
    "slideshow": {
     "slide_type": "slide"
    }
   },
   "source": [
    "# La librería qrcode\n",
    "\n",
    "La librería **qrcode** nos permite generar códigos QR"
   ]
  },
  {
   "cell_type": "markdown",
   "metadata": {
    "slideshow": {
     "slide_type": "slide"
    }
   },
   "source": [
    "### Instalación\n",
    "\n",
    "Se puede instalar con pip"
   ]
  },
  {
   "cell_type": "code",
   "execution_count": 2,
   "metadata": {
    "slideshow": {
     "slide_type": "slide"
    }
   },
   "outputs": [
    {
     "name": "stdout",
     "output_type": "stream",
     "text": [
<<<<<<< HEAD
      "Requirement already satisfied: qrcode in /home/herraiz/proyectos/eoi-venv/lib/python3.8/site-packages (6.1)\n",
      "Requirement already satisfied: six in /home/herraiz/proyectos/eoi-venv/lib/python3.8/site-packages (from qrcode) (1.14.0)\n"
=======
      "Collecting qrcode\n",
      "  Downloading qrcode-6.1-py2.py3-none-any.whl (31 kB)\n",
      "Requirement already satisfied: six in /home/jileon/.virtualenvs/eoi/lib/python3.6/site-packages (from qrcode) (1.14.0)\n",
      "Installing collected packages: qrcode\n",
      "Successfully installed qrcode-6.1\n",
      "Note: you may need to restart the kernel to use updated packages.\n"
>>>>>>> 89f51e2ca038c92116afef0034251909582144f4
     ]
    }
   ],
   "source": [
    "!pip3 install qrcode"
   ]
  },
  {
   "cell_type": "markdown",
   "metadata": {
    "slideshow": {
     "slide_type": "slide"
    }
   },
   "source": [
    "### Qué es un código QR\n",
    "\n",
    "Es un gráfico en dos dimensiones, que se puede usar para codificar una cantidad relativamante\n",
    "grande de informacion (hasta 4k) en un formato que se puede leer rapidamente. El gráfico\n",
    "consiste en bloques de color negro dispuestos sobre una retícula cuadrada. Usando este\n",
    "formato podemos codificar cualquier tipo de información.\n",
    "\n",
    "Más información en la entrada [Código QR de la wikipedia](https://es.wikipedia.org/wiki/C%C3%B3digo_QR)"
   ]
  },
  {
   "cell_type": "markdown",
   "metadata": {
    "slideshow": {
     "slide_type": "slide"
    }
   },
   "source": [
    "### Ejemplo de uso\n",
    "\n",
    "Vamos a codificar el mensaje \"Hola, Mundo\" en un código QR:"
   ]
  },
  {
   "cell_type": "code",
<<<<<<< HEAD
   "execution_count": 5,
   "metadata": {},
=======
   "execution_count": 10,
   "metadata": {
    "slideshow": {
     "slide_type": "slide"
    }
   },
>>>>>>> 89f51e2ca038c92116afef0034251909582144f4
   "outputs": [
    {
     "data": {
      "image/png": "iVBORw0KGgoAAAANSUhEUgAAASIAAAEiAQAAAAB1xeIbAAABiklEQVR4nO2ZTW7EIAyFn0v2RJoD9CjkZlWP1BuQo/QGsKzE6HUBTGYyi3ZDfgaziAT6pDw9OcZ2hPh7zW//gACllFJKKaWOTklZA0TGqwCxnky76uqCciTJAAAwlAmGJMlHantdXVDxFuNxAD0AERn219UTRY+rbPpGpeqSj2Ao04Zv7JeqacUSQAQ4j8hxf990HVX9uani/Zz9NhAXLkmwSjxHVX9uKnu/xDjn9x8pn8GeunqgkEtJx1QPLJkfLqAUn/6o6s9NZe9JJtDbBACGcMEQsEm9b0nVuA/IVT0ZDOlhWPot9b4ZVbzPSaYGf3HcqvdNqeo9TJkplOnCw1a9b0I91DmWEOA6wPkfIWDqBXxU9eembnEPADAl+yxbjfvm1N0cM4rUEietqO11dUEtc0ybAPc9gJ8isqK21/XK1LA+cF8DcuZ3S297VPXnptbecx5NAuIlsdy6++jqibIkPYA8SZhHQKao/06aUk91jgu3OUMw2lu1pJ7mmHcbq3WOUkoppdTLUL8VHO6mQ2sRnAAAAABJRU5ErkJggg==\n",
      "text/plain": [
<<<<<<< HEAD
       "<qrcode.image.pil.PilImage at 0x7ff4b81db340>"
      ]
     },
     "execution_count": 5,
=======
       "<qrcode.image.pil.PilImage at 0x7f43380695c0>"
      ]
     },
     "execution_count": 10,
>>>>>>> 89f51e2ca038c92116afef0034251909582144f4
     "metadata": {},
     "output_type": "execute_result"
    }
   ],
   "source": [
    "import qrcode\n",
    "\n",
<<<<<<< HEAD
    "im = qrcode.make(\"👏\")\n",
=======
    "im = qrcode.make(\"Hola, Mundo\")  # ☀☹☺♠♡♢♣♤♥♦\n",
>>>>>>> 89f51e2ca038c92116afef0034251909582144f4
    "im"
   ]
  },
  {
   "cell_type": "markdown",
   "metadata": {
    "slideshow": {
     "slide_type": "slide"
    }
   },
   "source": [
    "**Ejercicio (opcional)**: Si tienes un lector de códigos QR en el móvil, intenta leer\n",
    "    el código de la celda anterior."
   ]
  },
  {
   "cell_type": "markdown",
   "metadata": {
    "slideshow": {
     "slide_type": "slide"
    }
   },
   "source": [
    "Esta imagen que obtenemos es una imagen de Pillow, así que podemos hacer con ella todas las cosas\n",
    "que haciamos con ella, como por ejemplo, descubrir información como su modo o su tama"
   ]
  },
  {
   "cell_type": "code",
   "execution_count": 11,
   "metadata": {
    "slideshow": {
     "slide_type": "slide"
    }
   },
   "outputs": [
    {
     "name": "stdout",
     "output_type": "stream",
     "text": [
      "1 (290, 290)\n"
     ]
    }
   ],
   "source": [
    "import qrcode\n",
    "\n",
    "im = qrcode.make(\"Hola, Mundo\")\n",
    "print(im.mode, im.size)"
   ]
  },
  {
   "cell_type": "markdown",
   "metadata": {
    "slideshow": {
     "slide_type": "slide"
    }
   },
   "source": [
    "Mode `1` significa que solo ocupa un bit por cada pixel, es decir, que es una imagen de\n",
    "negro y blanco en su sentido más absoluto; un pixel solo puede ser blanco o negro, no existen\n",
    "tonos de gris."
   ]
  },
  {
   "cell_type": "markdown",
   "metadata": {
    "slideshow": {
     "slide_type": "slide"
    }
   },
   "source": [
    "Podemos también hacer un resize, por ejemplo:"
   ]
  },
  {
   "cell_type": "code",
   "execution_count": 13,
   "metadata": {
    "slideshow": {
     "slide_type": "slide"
    }
   },
   "outputs": [
    {
     "data": {
      "image/png": "iVBORw0KGgoAAAANSUhEUgAAAJYAAACWAQAAAAAUekxPAAABGklEQVR4nO2WTU7DMBSEv1dHCrvkBu5J0oshWtSDQThJcgLcnSs5HRb9kWiRQCJPsOhs/DSLGfvZb2QT15gWNxTcub/jkDLAI4UMsFbx8F1JiRh0LHzOJlsQekZkizn0rlGd1mnJsVcOHmcuDCXOqfcdVwEmdkQ7FT6+vVk7LcNAb9Y6eNgpc6YKzqXHzHQ8EVTIq9w5zUzdJ5rNWNG8PFj6vd5X3N7a7VgocR/03Pp43ELKNIdmK6Je6RrN3z+kbGmdwqAhd7WSwx2hI0ossZZ6J49LPkMtOfTqks/Uqvud2cYnX2T2HoY4ZvZ2mGHPP/UFmJahQD21ydO3jLztQ5pN7zNnOhAE9kS323j+BQBT7/HW7P4n/PfcB901k+uHGE2lAAAAAElFTkSuQmCC\n",
      "text/plain": [
       "<PIL.Image.Image image mode=1 size=150x150 at 0x7F4338069550>"
      ]
     },
     "execution_count": 13,
     "metadata": {},
     "output_type": "execute_result"
    }
   ],
   "source": [
    "import qrcode\n",
    "\n",
    "im = qrcode.make(\"Hola, Mundo\")\n",
    "smaller = im.resize((150, 150))\n",
    "smaller"
   ]
  },
  {
   "cell_type": "markdown",
   "metadata": {
    "slideshow": {
     "slide_type": "slide"
    }
   },
   "source": [
    "... hacer arte moderno..."
   ]
  },
  {
   "cell_type": "code",
<<<<<<< HEAD
   "execution_count": 7,
   "metadata": {},
=======
   "execution_count": 15,
   "metadata": {
    "slideshow": {
     "slide_type": "slide"
    }
   },
>>>>>>> 89f51e2ca038c92116afef0034251909582144f4
   "outputs": [
    {
     "data": {
      "image/png": "iVBORw0KGgoAAAANSUhEUgAAASIAAAEiCAIAAADS3EjhAAAFhklEQVR4nO3dwW7bMBQAwbjofxv5cufaEwnodUM5mbkGkiy7Cx76QD5ez9cHUPpz+gPAzyczyMkMcjKDnMwgJzPIyQxyMoOczCAnM8jJDHIyg5zMICczyMkMcjKDnMwgJzPIyQxyMoOczCAnM8jJDHIyg5zMICczyMkMcjKDnMwgJzPIyQxyMoOczCAnM8jJDHIyg5zMICczyMkMcn9PPfjx+Tj16Mjr+Vr8dfK+r+fqr4/P1XM/PlbP7T7zPa3ft2M1g5zMICczyMkMcjKDnMwgJzPIyQxyMoPcsSmQtVP/W7/WTUWs5zxm11bf5G/7jSasZpCTGeRkBjmZQU5mkJMZ5GQGOZlBTmaQu+kUyFo5jXFmZmL9RpMZkd2dq/d9x9+oYzWDnMwgJzPIyQxyMoOczCAnM8jJDHIyg9xbToG8o91UxORkljvufsG/rGaQkxnkZAY5mUFOZpCTGeRkBjmZQU5mkDMF8k12e4Gsr1399fG5uvNkHxH+F6sZ5GQGOZlBTmaQkxnkZAY5mUFOZpCTGeTecgrkHc8EWXs9V/t5rOc81nuB7OZLzpyA89tYzSAnM8jJDHIyg5zMICczyMkMcjKDnMwgd9MpkN0ZKO9n/Ua7mYnr13bf5M/7jTpWM8jJDHIyg5zMICczyMkMcjKDnMwgJzPIPezZ8D1mMxPXZ0Q29/XrfwurGeRkBjmZQU5mkJMZ5GQGOZlBTmaQkxnkju0FMtkbYzJRcWrnjG7eYndezObq5Z1XV07e6J6/fsdqBjmZQU5mkJMZ5GQGOZlBTmaQkxnkZAa5Y1Mgr2d17Xp2YbZzxvq513fsmFy7s56oWF6ZzXlsr1787dQcz4TVDHIyg5zMICczyMkMcjKDnMwgJzPIyQxyB/cCmVxdzVu8npNrlx9q8Jkncw+TiZly143JTMzmyYNrK1YzyMkMcjKDnMwgJzPIyQxyMoOczCAnM8g9Tp2RsZswuP6pJruM7PbG6M5PuX7ntcm3sdtH5MzpOZPf6NSMiNUMcjKDnMwgJzPIyQxyMoOczCAnM8jJDHLH9gLZmexvcX23j8n8QblDyfq5k9mU5X1Hu4xc/xVmO6Os7jubibnOagY5mUFOZpCTGeRkBjmZQU5mkJMZ5GQGuWN7gaz/p3+n+8zV/hbn5jzeb2ZiNrly/dqO1QxyMoOczCAnM8jJDHIyg5zMICczyMkMcrc9EWbtjpMru3mL6yeV7E6iub4HyWT/kolT0xhOhIEfS2aQkxnkZAY5mUFOZpCTGeRkBjmZQe6mJ8LsZlMmkw1r13fd2JmcF7O872aiotoLZLK7yeybXLt+ik3HagY5mUFOZpCTGeRkBjmZQU5mkJMZ5GQGuYNTINdnNXa7X1w3mz5Z37k61WU3QTI5iWZlcorNxLkzjK6zmkFOZpCTGeRkBjmZQU5mkJMZ5GQGOZlB7qZ7gcxmCLpTTrrJlWovkPX0yakTUibTJ7OdUc6wmkFOZpCTGeRkBjmZQU5mkJMZ5GQGOZlB7uAUyGQ6odpnYmbyRusdO67fuZuZmJ0mc/2595zzWLOaQU5mkJMZ5GQGOZlBTmaQkxnkZAY5mUHuLU+EmZ3bcmankFPnp0zOi1nbvVF355V77hRiNYOczCAnM8jJDHIyg5zMICczyMkMcjKD3GM3UZE9eLMbxKlzTK4/d71jx+59T+19Uj33rpMcZ/61W80gJzPIyQxyMoOczCAnM8jJDHIyg5zMIHdsCgR+D6sZ5GQGOZlBTmaQkxnkZAY5mUFOZpCTGeRkBjmZQU5mkJMZ5GQGOZlBTmaQkxnkZAY5mUFOZpCTGeRkBjmZQU5mkJMZ5GQGOZlBTmaQkxnkZAY5mUFOZpCTGeRkBjmZQU5mkJMZ5GQGOZlB7guVdR3CIE/j/QAAAABJRU5ErkJggg==\n",
      "text/plain": [
<<<<<<< HEAD
       "<PIL.Image.Image image mode=RGB size=290x290 at 0x7FF4B80AAB20>"
      ]
     },
     "execution_count": 7,
=======
       "<PIL.Image.Image image mode=RGB size=290x290 at 0x7F433806D2B0>"
      ]
     },
     "execution_count": 15,
>>>>>>> 89f51e2ca038c92116afef0034251909582144f4
     "metadata": {},
     "output_type": "execute_result"
    }
   ],
   "source": [
    "from PIL import Image\n",
    "import qrcode\n",
    "\n",
    "im = qrcode.make(\"Hola, Mundo\")\n",
<<<<<<< HEAD
    "im = im.convert(mode=\"L\") # 256 tonos de gris\n",
    "im = Image.merge(\"RGB\", (im, im.rotate(90), im.rotate(-90))) # descomponemos\n",
=======
    "im = im.convert(mode=\"L\")\n",
    "im = Image.merge(\"RGB\", (im, im.point(lambda x:x*0.5), im.rotate(-90)))\n",
>>>>>>> 89f51e2ca038c92116afef0034251909582144f4
    "im"
   ]
  },
  {
<<<<<<< HEAD
   "cell_type": "markdown",
   "metadata": {},
=======
   "cell_type": "code",
   "execution_count": null,
   "metadata": {
    "slideshow": {
     "slide_type": "slide"
    }
   },
   "outputs": [],
>>>>>>> 89f51e2ca038c92116afef0034251909582144f4
   "source": [
    "O, por supuesto, salvarla a un fichero:"
   ]
  },
  {
   "cell_type": "code",
   "execution_count": 18,
   "metadata": {
    "slideshow": {
     "slide_type": "slide"
    }
   },
   "outputs": [],
   "source": [
    "import qrcode\n",
    "\n",
    "im = qrcode.make(\"Hola, Mundo\")\n",
    "im.save(\"hola_mundo.png\")"
   ]
  },
  {
   "cell_type": "markdown",
   "metadata": {
    "slideshow": {
     "slide_type": "slide"
    }
   },
   "source": [
    "Podemos codificar cualquier tipo de información, no solo texto. Vamos, por ejemplo, a codificar un diccionario:"
   ]
  },
  {
   "cell_type": "code",
   "execution_count": 19,
   "metadata": {
    "slideshow": {
     "slide_type": "slide"
    }
   },
   "outputs": [
    {
     "data": {
      "image/png": "iVBORw0KGgoAAAANSUhEUgAAAeoAAAHqAQAAAADjFjCXAAAEbklEQVR4nO2dXYrrOBBGT40MeVSgF5ClKDvoJTV3Sb0DeylZQIP9GJD55kGS49zAwCSGdEjVQ6DjHGRDUaqfz2oTD9jwzyM0OO6444477rjjjju+LW7VOsz2wGBmDNYBzGbHyQymDpjaT4/bre74m+JJkjSCNIJ9KQPxbHYkCKIE8WxAkCTpGn9wdcffFJ9a+Br2ANNO9jUG6c9+Nv3Zg5ntiq+ZlSC44eqOvxfe/fW3gaHhcDYGC9mgg3QySN97u2mzvPSzO/578CiRTh2kkfpR4h/htrf3227e8ZfAW6yLAiYA5k7Dp2DYYxr2IVsaPzLD4Vxi3dr3XvrZHX8Wzro2IIg0/vdH+2mSpP6ln93xZ+El1q3C13A4m0qYO+Sa4cFcv7uOdM++ecdfGrcjUNpy6bSTfY0AzK1LR1D5SbF9JX7HzTv+cniNdcP+p9NwEEBGw0FYOu0E8aeDWFM623h1x98TL3mdeoLUAzV9K11iCWKmXFj/GeR5neMP2MXr6oBCufZLFoeTxqVpEjOScsNe+tkdfxZe3acWsqF8FNe7jmsQq0+qjw1xr3P8LqvuEzPqY67f9cvltDhlT1CNelG+wzq+AT511InEEvXSsq8OZnbZdSnF7ZarO/5e+NIlDktIg8vmqr7EtRYENdbvfId1/FG86JuOU4cdY4baNDkbFGndIjc5eKxzfNuJ2FK09jEvca3VFRpDkeCVTdjzOsfvtjYRm/aQvneypLmzdNrJiBlL44xgxiBgRSWw2eqOvye+1LBLWwRoRUPdei8z/1VK53md4/fb2oeuWnWksXldaeTFDMn7dY4/jl9NxGKbg10mYtXN1slduep5neN326Jgn63062DuxPQhhs8iC8BKI69HBgEgyDZZ3fH3xGsNm8arfl0aw0oRsNp1iZck0GOd43faonTCgJAh/nRVwRl/SkSz9P0hq0q7uSuap9RvsLrj74mzjnDKpXy4ZHirlK7OYVnEUB7rHL/Xapd4KRWKjI6wqJ9yaxq3qgNcX+f4Brh6guwYzyaNszX1SXsB+2sEs32dg120Kb/j5h1/OXz1FraG4lVBMHUlwzPoEIRS0kIct1zd8ffEi9cZEay61NyRBDB1iOkjG4RcX6MA7PJ64ms/u+PPwttsYnnZNS3y9Ou6ojZXxsZ5Xuf4/XbxsJVz9bFWGKuf9BelZ3TNieOP42b7IOlkxlCKhtlalzionl/HvLq65eqOvyfepg9LhJt2suPUQdLZ2lgiN317E3n+jpt3/OXwVk0UC7m4VNJsYvooFzQYlDPFmD4yZSyxxeqOvzWelvJB41wOh7VjrKqm1jkGf1vH8S3wZfoPrVRoLeAkLa/CZlblKz79d3xT/DIW0x+rx1+rb0fsVP87mcc6xx+xv2JdkTGtuyRrRUCNcN45cfwhuzmrM526DHFETLNp+Ayy9A1GbFrONM4Ne+lnd/xZ+M1ZnddC9dU5TwA3EpSXfnbHn4XfHqv+f8z/e53jjjvuuOOOO+74b8H/BTd/qB+uEu+BAAAAAElFTkSuQmCC\n",
      "text/plain": [
       "<qrcode.image.pil.PilImage at 0x7f43381474a8>"
      ]
     },
     "execution_count": 19,
     "metadata": {},
     "output_type": "execute_result"
    }
   ],
   "source": [
    "data = {\n",
    "    'numero': 12345,\n",
    "    'descripcion': \"Caja tornillos 10mm\",\n",
    "    'precio': 2.22,\n",
    "    'disponible': True,\n",
    "}\n",
    "im = qrcode.make(data)\n",
    "im"
   ]
  },
  {
   "cell_type": "markdown",
   "metadata": {
    "slideshow": {
     "slide_type": "slide"
    }
   },
   "source": [
    "Como vemos, el codigo es bastante más grande, porque incluye más información. Como curiosidad, comentar\n",
    "que los cuadores de las esquinas sirven para que, al interpretarlo, se pueda orientar correctamente. "
   ]
  },
  {
   "cell_type": "markdown",
   "metadata": {
    "slideshow": {
     "slide_type": "slide"
    }
   },
   "source": [
    "**Ejercicio**: Genera un código QR con tu nombre"
   ]
  },
  {
   "cell_type": "code",
   "execution_count": 10,
   "metadata": {},
   "outputs": [
    {
     "data": {
      "image/png": "iVBORw0KGgoAAAANSUhEUgAAASIAAAEiAQAAAAB1xeIbAAABf0lEQVR4nO2aQW6DQAxFnztIXcINehS4Wm7GHKUHiDQsKxH9LmZoAl20mykp2ItIjJ7El2U+tomJnyO+/AICp5xyyimnnp2yEg02ADZMy8mwq65TUL0kKQFwMyBIkrSm/l7XKaip1LguXcgZN7Nmf11HpprNtfXvhpjq3dGpJba5V+wq39GpLdVKGgH6BDYAkub9dZ2AimZm1oENBAG33ObsrevQVPacx8VC+2HQrlcNz6r+CJQNkxnRzHSxBpgaiN3N+/uaVKn7+CboBdBeG2KHCYJsL11noMgjVK8Z+lRa+zxXKVGGrvFZ1f9vimV8DYJ2zt2NlEBjO3vua1KrGk9BUgqiz8/CEp77KhRaRzlL5THwuq9Icc842XiAu/173Vekvt61WuwmZ3ymjLme++rUwx5zvcLcWdeRqe97zNSZmDqgvTbaS9cpqdgFWV7qTK/+7aQmtfV7ja3yz0Oj6X5fhSqeE/PyIGD9ezMvZ2F2z6lImf83yimnnHLqFNQn5DP0N7HaEJoAAAAASUVORK5CYII=\n",
      "text/plain": [
       "<qrcode.image.pil.PilImage at 0x7ff4b809bd60>"
      ]
     },
     "execution_count": 10,
     "metadata": {},
     "output_type": "execute_result"
    }
   ],
   "source": [
    "import qrcode\n",
    "\n",
    "im = qrcode.make(\"Roberto\")\n",
    "im.save(\"RobertoAlonso.png\")\n",
    "im"
   ]
  },
  {
   "cell_type": "code",
   "execution_count": null,
   "metadata": {
    "slideshow": {
     "slide_type": "slide"
    }
   },
   "outputs": [],
   "source": []
  }
 ],
 "metadata": {
  "celltoolbar": "Slideshow",
  "kernelspec": {
   "display_name": "Python 3",
   "language": "python",
   "name": "python3"
  },
  "language_info": {
   "codemirror_mode": {
    "name": "ipython",
    "version": 3
   },
   "file_extension": ".py",
   "mimetype": "text/x-python",
   "name": "python",
   "nbconvert_exporter": "python",
   "pygments_lexer": "ipython3",
<<<<<<< HEAD
   "version": "3.8.0"
=======
   "version": "3.6.9"
>>>>>>> 89f51e2ca038c92116afef0034251909582144f4
  }
 },
 "nbformat": 4,
 "nbformat_minor": 4
}
