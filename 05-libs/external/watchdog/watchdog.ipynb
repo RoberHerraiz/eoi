{
 "cells": [
  {
   "cell_type": "markdown",
   "metadata": {},
   "source": [
    "## La librería watchdog\n",
    "\n",
    "**Watchdo** es una libreria y un conjunto de utilidades\n",
    "para monitorizar enventos del sistema de ficheros"
   ]
  },
  {
   "cell_type": "markdown",
   "metadata": {},
   "source": [
    "### Instalar watchdig"
   ]
  },
  {
   "cell_type": "markdown",
   "metadata": {},
   "source": [
    "Se puede instalar con pip"
   ]
  },
  {
   "cell_type": "code",
   "execution_count": 2,
   "metadata": {},
   "outputs": [
    {
     "name": "stdout",
     "output_type": "stream",
     "text": [
      "Requirement already satisfied: watchdog in /Users/juan.rodriguezdeleonlocal/.virtualenvs/eoi/lib/python3.7/site-packages (0.10.2)\n",
      "Requirement already satisfied: pathtools>=0.1.1 in /Users/juan.rodriguezdeleonlocal/.virtualenvs/eoi/lib/python3.7/site-packages (from watchdog) (0.1.2)\n",
      "Note: you may need to restart the kernel to use updated packages.\n"
     ]
    }
   ],
   "source": [
    "pip install watchdog"
   ]
  },
  {
   "cell_type": "markdown",
   "metadata": {},
   "source": [
    "### Monitorizar el sistema de ficherosmabs\n"
   ]
  },
  {
   "cell_type": "markdown",
   "metadata": {},
   "source": [
    "Con esta libreria podemos establecer un programa que monitorize o vigile (de\n",
    "hay lo de watchdog) una parte del sistema de arhcivos. Cuando pase algun evento\n",
    "en este sistema, como que se cree un archivo o un directoriom, se abre un fichero, etc\n",
    "se nos notifica para que actuemos en consecuencia\n",
    "\n",
    "Por ejemplo, podriamos poner la configurqacion de un router en un directorio,\n",
    "y monitorizar con watchdog el mismo. Si se salva una nueva version de la configuracion,\n",
    "podriamos leer la nueva configuracion, chequear que no hay errores, enviarsela al\n",
    "router y reiniciarlo. "
   ]
  },
  {
   "cell_type": "code",
   "execution_count": null,
   "metadata": {},
   "outputs": [],
   "source": [
    "Vamos a ver un ejemplo\n"
   ]
  },
  {
   "cell_type": "code",
   "execution_count": 4,
   "metadata": {},
   "outputs": [],
   "source": [
    "import time\n",
    "from watchdog.observers import Observer\n",
    "from watchdog.events import PatternMatchingEventHandler"
   ]
  },
  {
   "cell_type": "code",
   "execution_count": null,
   "metadata": {},
   "outputs": [],
   "source": [
    "Creamos un manejador de eventos, que es el objeto que va a recibir las notificaciones\n",
    "del sistema de ficheros y actuara en consecuewncia, con la clase \n",
    "`PatternMatchingEventHandler`. Al crear el objeto podemos decirle en que clase de eventos ewstamos\n",
    "interrsados. En este caso vamos a estar intereasados en todos"
   ]
  },
  {
   "cell_type": "code",
   "execution_count": 6,
   "metadata": {},
   "outputs": [],
   "source": [
    "\n",
    "patterns = \"*\"\n",
    "ignore_patterns = \"\"\n",
    "ignore_directories = False\n",
    "case_sensitive = True\n",
    "\n",
    "my_event_handler = PatternMatchingEventHandler(\n",
    "    patterns,\n",
    "    ignore_patterns,\n",
    "    ignore_directories,\n",
    "    case_sensitive\n",
    ")"
   ]
  },
  {
   "cell_type": "markdown",
   "metadata": {},
   "source": [
    "Ahora que hemos creado el handler, podemos escribir el codigo\n",
    "a ajecutar cuando se produzcan los eventos.\n",
    "\n",
    "vamos a definir uno para cuando se crea un fichero"
   ]
  },
  {
   "cell_type": "code",
   "execution_count": 8,
   "metadata": {},
   "outputs": [],
   "source": [
    "def on_created(event):\n",
    "    print(f\"hay un nuevo {event.src_path} fichero!\")"
   ]
  },
  {
   "cell_type": "markdown",
   "metadata": {},
   "source": [
    "Ahora podemos asignar el evento a esta funcion:"
   ]
  },
  {
   "cell_type": "code",
   "execution_count": 9,
   "metadata": {},
   "outputs": [],
   "source": [
    "my_event_handler.on_created = on_created"
   ]
  },
  {
   "cell_type": "markdown",
   "metadata": {},
   "source": [
    "Ahora necesitamos otro objeto, conocido como el observador (*Observer*), que\n",
    "sera el que monitorize el sistema de ficheros. \n",
    "\n",
    "Vamos a crearlo"
   ]
  },
  {
   "cell_type": "code",
   "execution_count": 10,
   "metadata": {},
   "outputs": [
    {
     "data": {
      "text/plain": [
       "<ObservedWatch: path=., is_recursive=True>"
      ]
     },
     "execution_count": 10,
     "metadata": {},
     "output_type": "execute_result"
    }
   ],
   "source": [
    "path = \".\"\n",
    "go_recursively = True\n",
    "my_observer = Observer()\n",
    "my_observer.schedule(my_event_handler, path, recursive=go_recursively)"
   ]
  },
  {
   "cell_type": "markdown",
   "metadata": {},
   "source": [
    "Ya hemos creado el observador, y le hemos pasado\n",
    "nuestro manejador de eventos. Lo hemos puesto vigilando\n",
    "el direcotiri actual (`.`). Indicamos que estamos interesados\n",
    "tambien en los subdirectorios\n",
    "\n",
    "Ahora ya podemos iniciar el observador. Veras que el kernel de jupyter se\n",
    "pone como un circulo negro, eso es porque esta dentro dell while true y no ]\n",
    "ha podido retornar"
   ]
  },
  {
   "cell_type": "code",
   "execution_count": 11,
   "metadata": {},
   "outputs": [
    {
     "name": "stdout",
     "output_type": "stream",
     "text": [
      "hay un nuevo ./hola.py fichero!\n",
      "hay un nuevo ./.~watchdog.ipynb fichero!\n"
     ]
    }
   ],
   "source": [
    "my_observer.start()\n",
    "try:\n",
    "    while True:\n",
    "        time.sleep(1)\n",
    "except KeyboardInterrupt:\n",
    "    my_observer.stop()\n",
    "    my_observer.join()"
   ]
  },
  {
   "cell_type": "code",
   "execution_count": 12,
   "metadata": {},
   "outputs": [],
   "source": [
    "!touch hola.txt"
   ]
  },
  {
   "cell_type": "code",
   "execution_count": 13,
   "metadata": {},
   "outputs": [
    {
     "name": "stdout",
     "output_type": "stream",
     "text": [
      "hola.py        hola.txt       watchdog.ipynb\r\n"
     ]
    }
   ],
   "source": [
    "!ls"
   ]
  },
  {
   "cell_type": "code",
   "execution_count": null,
   "metadata": {},
   "outputs": [],
   "source": []
  }
 ],
 "metadata": {
  "kernelspec": {
   "display_name": "Python 3",
   "language": "python",
   "name": "python3"
  },
  "language_info": {
   "codemirror_mode": {
    "name": "ipython",
    "version": 3
   },
   "file_extension": ".py",
   "mimetype": "text/x-python",
   "name": "python",
   "nbconvert_exporter": "python",
   "pygments_lexer": "ipython3",
   "version": "3.7.6"
  }
 },
 "nbformat": 4,
 "nbformat_minor": 4
}
