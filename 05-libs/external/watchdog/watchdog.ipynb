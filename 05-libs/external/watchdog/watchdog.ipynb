{
 "cells": [
  {
   "cell_type": "markdown",
   "metadata": {
    "slideshow": {
     "slide_type": "slide"
    }
   },
   "source": [
    "## La librería watchdog\n",
    "\n",
    "**Watchdo** es una libreria y un conjunto de utilidades\n",
    "para monitorizar enventos del sistema de ficheros"
   ]
  },
  {
   "cell_type": "markdown",
   "metadata": {
    "slideshow": {
     "slide_type": "slide"
    }
   },
   "source": [
    "### Instalar watchdog"
   ]
  },
  {
   "cell_type": "markdown",
   "metadata": {
    "slideshow": {
     "slide_type": "slide"
    }
   },
   "source": [
    "Se puede instalar con pip"
   ]
  },
  {
   "cell_type": "code",
<<<<<<< HEAD
   "execution_count": 1,
   "metadata": {},
=======
   "execution_count": 2,
   "metadata": {
    "slideshow": {
     "slide_type": "slide"
    }
   },
>>>>>>> 89f51e2ca038c92116afef0034251909582144f4
   "outputs": [
    {
     "name": "stdout",
     "output_type": "stream",
     "text": [
<<<<<<< HEAD
      "Collecting watchdog\n",
      "  Downloading watchdog-0.10.2.tar.gz (95 kB)\n",
      "\u001b[K     |████████████████████████████████| 95 kB 970 kB/s eta 0:00:011\n",
      "\u001b[?25hCollecting pathtools>=0.1.1\n",
      "  Downloading pathtools-0.1.2.tar.gz (11 kB)\n",
      "Building wheels for collected packages: watchdog, pathtools\n",
      "  Building wheel for watchdog (setup.py) ... \u001b[?25ldone\n",
      "\u001b[?25h  Created wheel for watchdog: filename=watchdog-0.10.2-py3-none-any.whl size=73602 sha256=004eff7ef1e557eecf412c41337ff88a3ff8b953ebcb5cbd917702399abb5e46\n",
      "  Stored in directory: /home/herraiz/.cache/pip/wheels/4e/14/01/1676612f5b23c641868de61d36ac2d5be12f4eec6c087fbd62\n",
      "  Building wheel for pathtools (setup.py) ... \u001b[?25ldone\n",
      "\u001b[?25h  Created wheel for pathtools: filename=pathtools-0.1.2-py3-none-any.whl size=8784 sha256=423caf9013328e3392256efc7a6c0092c830973f6de1ba2981ed9d255a70bd5a\n",
      "  Stored in directory: /home/herraiz/.cache/pip/wheels/4c/8e/7e/72fbc243e1aeecae64a96875432e70d4e92f3d2d18123be004\n",
      "Successfully built watchdog pathtools\n",
      "Installing collected packages: pathtools, watchdog\n",
      "Successfully installed pathtools-0.1.2 watchdog-0.10.2\n"
=======
      "Requirement already satisfied: watchdog in /home/jileon/.virtualenvs/eoi/lib/python3.6/site-packages (0.10.2)\n",
      "Requirement already satisfied: pathtools>=0.1.1 in /home/jileon/.virtualenvs/eoi/lib/python3.6/site-packages (from watchdog) (0.1.2)\n",
      "Note: you may need to restart the kernel to use updated packages.\n"
>>>>>>> 89f51e2ca038c92116afef0034251909582144f4
     ]
    }
   ],
   "source": [
    "!pip3 install watchdog"
   ]
  },
  {
   "cell_type": "markdown",
   "metadata": {
    "slideshow": {
     "slide_type": "slide"
    }
   },
   "source": [
<<<<<<< HEAD
    "## Monitorizar el sistema de ficheros\n"
=======
    "### Monitorizar el sistema de ficheros\n"
>>>>>>> 89f51e2ca038c92116afef0034251909582144f4
   ]
  },
  {
   "cell_type": "markdown",
   "metadata": {
    "slideshow": {
     "slide_type": "slide"
    }
   },
   "source": [
    "Con esta libreria podemos establecer un programa que monitorize o vigile (de\n",
    "hay lo de watchdog) una parte del sistema de archivos. Cuando pase algun evento\n",
    "en este sistema, como que se cree un archivo o un directoriom, se abre un fichero, etc\n",
    "se nos notifica para que actuemos en consecuencia"
   ]
  },
  {
   "cell_type": "markdown",
   "metadata": {
    "slideshow": {
     "slide_type": "slide"
    }
   },
   "source": [
    "Por ejemplo, podriamos poner la configuración de un router en un directorio,\n",
    "y monitorizar con watchdog el mismo. Si se salva una nueva version de la configuracion,\n",
    "podriamos leer la nueva configuracion, chequear que no hay errores, enviarsela al\n",
    "router y reiniciarlo. "
   ]
  },
  {
   "cell_type": "markdown",
<<<<<<< HEAD
   "metadata": {},
=======
   "metadata": {
    "slideshow": {
     "slide_type": "slide"
    }
   },
>>>>>>> 89f51e2ca038c92116afef0034251909582144f4
   "source": [
    "Vamos a ver un ejemplo"
   ]
  },
  {
   "cell_type": "code",
   "execution_count": 9,
   "metadata": {
    "slideshow": {
     "slide_type": "slide"
    }
   },
   "outputs": [],
   "source": [
    "import time\n",
    "from watchdog.observers import Observer\n",
    "from watchdog.events import PatternMatchingEventHandler as dogworker"
   ]
  },
  {
   "cell_type": "markdown",
<<<<<<< HEAD
   "metadata": {},
   "source": [
    "Creamos un manejador de eventos, que es el objeto que va a recibir las notificaciones\n",
    "del sistema de ficheros y actuara en consecuencia, con la clase \n",
    "`PatternMatchingEventHandler`. Al crear el objeto podemos decirle en que clase de eventos estamos\n",
    "interesados. En este caso vamos a estar interesados en todos"
=======
   "metadata": {
    "slideshow": {
     "slide_type": "slide"
    }
   },
   "source": [
    "Creamos un manejador de eventos, que es el objeto que va a recibir las notificaciones\n",
    "del sistema de ficheros y actuara en consecuewncia, con la clase \n",
    "`PatternMatchingEventHandler`. Al crear el objeto podemos decirle en que clase de eventos estamos\n",
    "interrsados. En este caso vamos a estar intereasados en todos"
>>>>>>> 89f51e2ca038c92116afef0034251909582144f4
   ]
  },
  {
   "cell_type": "code",
<<<<<<< HEAD
   "execution_count": 5,
   "metadata": {},
=======
   "execution_count": 10,
   "metadata": {
    "slideshow": {
     "slide_type": "slide"
    }
   },
>>>>>>> 89f51e2ca038c92116afef0034251909582144f4
   "outputs": [],
   "source": [
    "patterns = \"*\"\n",
    "ignore_patterns = \"\"\n",
    "ignore_directories = False\n",
    "case_sensitive = True\n",
    "\n",
    "my_event_handler = dogworker(\n",
    "    patterns,\n",
    "    ignore_patterns,\n",
    "    ignore_directories,\n",
    "    case_sensitive\n",
    ")"
   ]
  },
  {
   "cell_type": "markdown",
   "metadata": {
    "slideshow": {
     "slide_type": "slide"
    }
   },
   "source": [
    "Ahora que hemos creado el handler, podemos escribir el codigo\n",
    "a ajecutar cuando se produzcan los eventos.\n",
    "\n",
    "vamos a definir uno para cuando se crea un fichero"
   ]
  },
  {
   "cell_type": "code",
<<<<<<< HEAD
   "execution_count": 6,
   "metadata": {},
=======
   "execution_count": 11,
   "metadata": {
    "slideshow": {
     "slide_type": "slide"
    }
   },
>>>>>>> 89f51e2ca038c92116afef0034251909582144f4
   "outputs": [],
   "source": [
    "def on_created(event):\n",
    "    print(f\"hay un nuevo {event.src_path} fichero!\")"
   ]
  },
  {
   "cell_type": "markdown",
   "metadata": {
    "slideshow": {
     "slide_type": "slide"
    }
   },
   "source": [
    "Ahora podemos asignar el evento a esta funcion:"
   ]
  },
  {
   "cell_type": "code",
<<<<<<< HEAD
   "execution_count": 7,
   "metadata": {},
=======
   "execution_count": 12,
   "metadata": {
    "slideshow": {
     "slide_type": "slide"
    }
   },
>>>>>>> 89f51e2ca038c92116afef0034251909582144f4
   "outputs": [],
   "source": [
    "my_event_handler.on_created = on_created"
   ]
  },
  {
   "cell_type": "markdown",
   "metadata": {
    "slideshow": {
     "slide_type": "slide"
    }
   },
   "source": [
    "Ahora necesitamos otro objeto, conocido como el observador (*Observer*), que\n",
    "sera el que monitorize el sistema de ficheros. \n",
    "\n",
    "Vamos a crearlo"
   ]
  },
  {
   "cell_type": "code",
<<<<<<< HEAD
   "execution_count": 8,
   "metadata": {},
=======
   "execution_count": 13,
   "metadata": {
    "slideshow": {
     "slide_type": "slide"
    }
   },
>>>>>>> 89f51e2ca038c92116afef0034251909582144f4
   "outputs": [
    {
     "data": {
      "text/plain": [
       "<ObservedWatch: path=., is_recursive=True>"
      ]
     },
<<<<<<< HEAD
     "execution_count": 8,
=======
     "execution_count": 13,
>>>>>>> 89f51e2ca038c92116afef0034251909582144f4
     "metadata": {},
     "output_type": "execute_result"
    }
   ],
   "source": [
    "path = \".\"\n",
    "go_recursively = True\n",
    "\n",
    "my_observer = Observer()\n",
    "\n",
    "my_observer.schedule(my_event_handler, path, recursive=go_recursively)"
   ]
  },
  {
   "cell_type": "markdown",
   "metadata": {
    "slideshow": {
     "slide_type": "slide"
    }
   },
   "source": [
    "Ya hemos creado el observador, y le hemos pasado\n",
    "nuestro manejador de eventos. Lo hemos puesto vigilando\n",
    "el directorio actual (`.`). Indicamos que estamos interesados\n",
    "tambien en los subdirectorios\n",
    "\n",
    "Ahora ya podemos iniciar el observador. Veras que el kernel de jupyter se\n",
    "pone como un circulo negro, eso es porque esta dentro dell while true y no ]\n",
    "ha podido retornar"
   ]
  },
  {
   "cell_type": "code",
<<<<<<< HEAD
   "execution_count": 9,
   "metadata": {},
=======
   "execution_count": null,
   "metadata": {
    "slideshow": {
     "slide_type": "slide"
    }
   },
>>>>>>> 89f51e2ca038c92116afef0034251909582144f4
   "outputs": [
    {
     "name": "stdout",
     "output_type": "stream",
     "text": [
<<<<<<< HEAD
=======
      "hay un nuevo ./.~watchdog.ipynb fichero!\n",
      "hay un nuevo ./leon.txt fichero!\n",
      "hay un nuevo ./.~watchdog.ipynb fichero!\n",
      "hay un nuevo ./leopardo.txt fichero!\n",
      "hay un nuevo ./.~watchdog.ipynb fichero!\n",
      "hay un nuevo ./.leon.txt.swp fichero!\n",
      "hay un nuevo ./.leon.txt.swx fichero!\n",
      "hay un nuevo ./.leon.txt.swp fichero!\n",
      "hay un nuevo ./4913 fichero!\n",
      "hay un nuevo ./leon.txt fichero!\n",
      "hay un nuevo ./.hola.txt.swp fichero!\n",
      "hay un nuevo ./.hola.txt.swx fichero!\n",
      "hay un nuevo ./.hola.txt.swp fichero!\n",
>>>>>>> 89f51e2ca038c92116afef0034251909582144f4
      "hay un nuevo ./hola.txt fichero!\n",
      "hay un nuevo ./.~watchdog.ipynb fichero!\n",
      "hay un nuevo ./.~watchdog.ipynb fichero!\n",
      "hay un nuevo ./.~watchdog.ipynb fichero!\n",
<<<<<<< HEAD
=======
      "hay un nuevo ./.~watchdog.ipynb fichero!\n",
      "hay un nuevo ./.~watchdog.ipynb fichero!\n",
      "hay un nuevo ./.~watchdog.ipynb fichero!\n",
      "hay un nuevo ./.~watchdog.ipynb fichero!\n",
      "hay un nuevo ./.~watchdog.ipynb fichero!\n",
      "hay un nuevo ./.~watchdog.ipynb fichero!\n",
      "hay un nuevo ./.~watchdog.ipynb fichero!\n",
      "hay un nuevo ./.~watchdog.ipynb fichero!\n",
      "hay un nuevo ./.~watchdog.ipynb fichero!\n",
      "hay un nuevo ./.~watchdog.ipynb fichero!\n",
      "hay un nuevo ./.~watchdog.ipynb fichero!\n",
      "hay un nuevo ./.~watchdog.ipynb fichero!\n",
      "hay un nuevo ./.~watchdog.ipynb fichero!\n",
      "hay un nuevo ./.~watchdog.ipynb fichero!\n",
      "hay un nuevo ./.~watchdog.ipynb fichero!\n",
      "hay un nuevo ./.~watchdog.ipynb fichero!\n",
      "hay un nuevo ./.~watchdog.ipynb fichero!\n",
      "hay un nuevo ./.~watchdog.ipynb fichero!\n",
      "hay un nuevo ./.~watchdog.ipynb fichero!\n",
      "hay un nuevo ./.~watchdog.ipynb fichero!\n",
      "hay un nuevo ./.~watchdog.ipynb fichero!\n",
      "hay un nuevo ./.~watchdog.ipynb fichero!\n",
      "hay un nuevo ./.~watchdog.ipynb fichero!\n",
      "hay un nuevo ./.~watchdog.ipynb fichero!\n",
      "hay un nuevo ./.~watchdog.ipynb fichero!\n",
      "hay un nuevo ./.~watchdog.ipynb fichero!\n",
      "hay un nuevo ./.~watchdog.ipynb fichero!\n",
      "hay un nuevo ./.~watchdog.ipynb fichero!\n",
      "hay un nuevo ./.~watchdog.ipynb fichero!\n",
      "hay un nuevo ./.~watchdog.ipynb fichero!\n",
      "hay un nuevo ./.~watchdog.ipynb fichero!\n",
      "hay un nuevo ./.~watchdog.ipynb fichero!\n",
      "hay un nuevo ./.~watchdog.ipynb fichero!\n",
      "hay un nuevo ./.~watchdog.ipynb fichero!\n",
      "hay un nuevo ./.~watchdog.ipynb fichero!\n",
      "hay un nuevo ./.~watchdog.ipynb fichero!\n",
      "hay un nuevo ./.~watchdog.ipynb fichero!\n",
      "hay un nuevo ./.~watchdog.ipynb fichero!\n",
      "hay un nuevo ./.~watchdog.ipynb fichero!\n",
      "hay un nuevo ./.~watchdog.ipynb fichero!\n",
      "hay un nuevo ./.~watchdog.ipynb fichero!\n",
      "hay un nuevo ./.~watchdog.ipynb fichero!\n",
      "hay un nuevo ./.~watchdog.ipynb fichero!\n",
      "hay un nuevo ./.~watchdog.ipynb fichero!\n",
      "hay un nuevo ./.~watchdog.ipynb fichero!\n",
      "hay un nuevo ./.~watchdog.ipynb fichero!\n",
      "hay un nuevo ./.~watchdog.ipynb fichero!\n",
      "hay un nuevo ./.~watchdog.ipynb fichero!\n",
      "hay un nuevo ./.~watchdog.ipynb fichero!\n",
      "hay un nuevo ./.~watchdog.ipynb fichero!\n",
      "hay un nuevo ./.~watchdog.ipynb fichero!\n",
      "hay un nuevo ./.~watchdog.ipynb fichero!\n",
      "hay un nuevo ./.~watchdog.ipynb fichero!\n",
      "hay un nuevo ./.~watchdog.ipynb fichero!\n",
      "hay un nuevo ./.~watchdog.ipynb fichero!\n",
      "hay un nuevo ./.~watchdog.ipynb fichero!\n",
      "hay un nuevo ./.~watchdog.ipynb fichero!\n",
      "hay un nuevo ./.~watchdog.ipynb fichero!\n",
      "hay un nuevo ./.~watchdog.ipynb fichero!\n",
      "hay un nuevo ./.~watchdog.ipynb fichero!\n",
      "hay un nuevo ./.~watchdog.ipynb fichero!\n",
      "hay un nuevo ./.~watchdog.ipynb fichero!\n",
      "hay un nuevo ./.~watchdog.ipynb fichero!\n",
      "hay un nuevo ./.~watchdog.ipynb fichero!\n",
      "hay un nuevo ./.~watchdog.ipynb fichero!\n",
      "hay un nuevo ./.~watchdog.ipynb fichero!\n",
      "hay un nuevo ./.~watchdog.ipynb fichero!\n",
      "hay un nuevo ./.~watchdog.ipynb fichero!\n",
      "hay un nuevo ./.~watchdog.ipynb fichero!\n",
      "hay un nuevo ./.~watchdog.ipynb fichero!\n",
      "hay un nuevo ./.~watchdog.ipynb fichero!\n",
      "hay un nuevo ./.~watchdog.ipynb fichero!\n",
      "hay un nuevo ./.~watchdog.ipynb fichero!\n",
      "hay un nuevo ./.~watchdog.ipynb fichero!\n",
      "hay un nuevo ./.~watchdog.ipynb fichero!\n",
      "hay un nuevo ./.~watchdog.ipynb fichero!\n",
      "hay un nuevo ./.~watchdog.ipynb fichero!\n",
      "hay un nuevo ./.~watchdog.ipynb fichero!\n",
      "hay un nuevo ./.~watchdog.ipynb fichero!\n",
      "hay un nuevo ./.~watchdog.ipynb fichero!\n",
      "hay un nuevo ./.~watchdog.ipynb fichero!\n",
      "hay un nuevo ./.~watchdog.ipynb fichero!\n",
      "hay un nuevo ./.~watchdog.ipynb fichero!\n",
      "hay un nuevo ./.~watchdog.ipynb fichero!\n",
      "hay un nuevo ./.~watchdog.ipynb fichero!\n",
      "hay un nuevo ./.~watchdog.ipynb fichero!\n",
      "hay un nuevo ./.~watchdog.ipynb fichero!\n",
      "hay un nuevo ./.~watchdog.ipynb fichero!\n",
      "hay un nuevo ./.~watchdog.ipynb fichero!\n",
      "hay un nuevo ./.~watchdog.ipynb fichero!\n",
      "hay un nuevo ./.~watchdog.ipynb fichero!\n",
      "hay un nuevo ./.~watchdog.ipynb fichero!\n",
      "hay un nuevo ./.~watchdog.ipynb fichero!\n",
      "hay un nuevo ./.~watchdog.ipynb fichero!\n",
      "hay un nuevo ./.~watchdog.ipynb fichero!\n",
      "hay un nuevo ./.~watchdog.ipynb fichero!\n",
      "hay un nuevo ./.~watchdog.ipynb fichero!\n",
      "hay un nuevo ./.~watchdog.ipynb fichero!\n",
      "hay un nuevo ./.~watchdog.ipynb fichero!\n",
      "hay un nuevo ./.~watchdog.ipynb fichero!\n",
      "hay un nuevo ./.~watchdog.ipynb fichero!\n",
      "hay un nuevo ./.~watchdog.ipynb fichero!\n",
      "hay un nuevo ./.~watchdog.ipynb fichero!\n",
      "hay un nuevo ./.~watchdog.ipynb fichero!\n",
      "hay un nuevo ./.~watchdog.ipynb fichero!\n",
      "hay un nuevo ./.~watchdog.ipynb fichero!\n",
      "hay un nuevo ./.~watchdog.ipynb fichero!\n",
      "hay un nuevo ./.~watchdog.ipynb fichero!\n",
      "hay un nuevo ./.~watchdog.ipynb fichero!\n",
      "hay un nuevo ./.~watchdog.ipynb fichero!\n",
      "hay un nuevo ./.~watchdog.ipynb fichero!\n",
      "hay un nuevo ./.~watchdog.ipynb fichero!\n",
      "hay un nuevo ./.~watchdog.ipynb fichero!\n",
      "hay un nuevo ./.~watchdog.ipynb fichero!\n",
      "hay un nuevo ./.~watchdog.ipynb fichero!\n",
      "hay un nuevo ./.~watchdog.ipynb fichero!\n",
      "hay un nuevo ./.~watchdog.ipynb fichero!\n",
      "hay un nuevo ./.~watchdog.ipynb fichero!\n",
      "hay un nuevo ./.~watchdog.ipynb fichero!\n",
      "hay un nuevo ./.~watchdog.ipynb fichero!\n",
      "hay un nuevo ./.~watchdog.ipynb fichero!\n",
      "hay un nuevo ./.~watchdog.ipynb fichero!\n",
      "hay un nuevo ./.~watchdog.ipynb fichero!\n",
      "hay un nuevo ./.~watchdog.ipynb fichero!\n",
      "hay un nuevo ./.~watchdog.ipynb fichero!\n",
      "hay un nuevo ./.~watchdog.ipynb fichero!\n",
      "hay un nuevo ./.~watchdog.ipynb fichero!\n",
      "hay un nuevo ./.~watchdog.ipynb fichero!\n",
      "hay un nuevo ./.~watchdog.ipynb fichero!\n",
      "hay un nuevo ./.~watchdog.ipynb fichero!\n",
      "hay un nuevo ./.~watchdog.ipynb fichero!\n",
      "hay un nuevo ./.~watchdog.ipynb fichero!\n",
      "hay un nuevo ./.~watchdog.ipynb fichero!\n",
      "hay un nuevo ./.~watchdog.ipynb fichero!\n",
      "hay un nuevo ./.~watchdog.ipynb fichero!\n",
      "hay un nuevo ./.~watchdog.ipynb fichero!\n",
      "hay un nuevo ./.~watchdog.ipynb fichero!\n",
      "hay un nuevo ./.~watchdog.ipynb fichero!\n",
      "hay un nuevo ./.~watchdog.ipynb fichero!\n",
      "hay un nuevo ./.~watchdog.ipynb fichero!\n",
      "hay un nuevo ./.~watchdog.ipynb fichero!\n",
      "hay un nuevo ./.~watchdog.ipynb fichero!\n",
      "hay un nuevo ./.~watchdog.ipynb fichero!\n",
      "hay un nuevo ./.~watchdog.ipynb fichero!\n",
      "hay un nuevo ./.~watchdog.ipynb fichero!\n",
      "hay un nuevo ./.~watchdog.ipynb fichero!\n",
      "hay un nuevo ./.~watchdog.ipynb fichero!\n",
      "hay un nuevo ./.~watchdog.ipynb fichero!\n",
      "hay un nuevo ./.~watchdog.ipynb fichero!\n",
      "hay un nuevo ./.~watchdog.ipynb fichero!\n",
      "hay un nuevo ./.~watchdog.ipynb fichero!\n",
      "hay un nuevo ./.~watchdog.ipynb fichero!\n",
      "hay un nuevo ./.~watchdog.ipynb fichero!\n",
      "hay un nuevo ./.~watchdog.ipynb fichero!\n",
      "hay un nuevo ./.~watchdog.ipynb fichero!\n",
      "hay un nuevo ./.~watchdog.ipynb fichero!\n",
      "hay un nuevo ./.~watchdog.ipynb fichero!\n",
      "hay un nuevo ./.~watchdog.ipynb fichero!\n",
      "hay un nuevo ./.~watchdog.ipynb fichero!\n",
      "hay un nuevo ./.~watchdog.ipynb fichero!\n",
      "hay un nuevo ./.~watchdog.ipynb fichero!\n",
      "hay un nuevo ./.~watchdog.ipynb fichero!\n",
      "hay un nuevo ./.~watchdog.ipynb fichero!\n",
      "hay un nuevo ./.~watchdog.ipynb fichero!\n",
      "hay un nuevo ./.~watchdog.ipynb fichero!\n",
      "hay un nuevo ./.~watchdog.ipynb fichero!\n",
      "hay un nuevo ./.~watchdog.ipynb fichero!\n",
      "hay un nuevo ./.~watchdog.ipynb fichero!\n",
      "hay un nuevo ./.~watchdog.ipynb fichero!\n",
      "hay un nuevo ./.~watchdog.ipynb fichero!\n",
      "hay un nuevo ./.~watchdog.ipynb fichero!\n",
      "hay un nuevo ./.~watchdog.ipynb fichero!\n",
      "hay un nuevo ./.~watchdog.ipynb fichero!\n",
      "hay un nuevo ./.~watchdog.ipynb fichero!\n",
      "hay un nuevo ./.~watchdog.ipynb fichero!\n",
      "hay un nuevo ./.~watchdog.ipynb fichero!\n",
      "hay un nuevo ./.~watchdog.ipynb fichero!\n",
      "hay un nuevo ./.~watchdog.ipynb fichero!\n",
      "hay un nuevo ./.~watchdog.ipynb fichero!\n",
      "hay un nuevo ./.~watchdog.ipynb fichero!\n",
      "hay un nuevo ./.~watchdog.ipynb fichero!\n",
      "hay un nuevo ./.~watchdog.ipynb fichero!\n",
      "hay un nuevo ./.~watchdog.ipynb fichero!\n",
      "hay un nuevo ./.~watchdog.ipynb fichero!\n",
      "hay un nuevo ./.~watchdog.ipynb fichero!\n"
     ]
    },
    {
     "name": "stdout",
     "output_type": "stream",
     "text": [
      "hay un nuevo ./.~watchdog.ipynb fichero!\n",
      "hay un nuevo ./.~watchdog.ipynb fichero!\n",
      "hay un nuevo ./.~watchdog.ipynb fichero!\n",
      "hay un nuevo ./.~watchdog.ipynb fichero!\n",
      "hay un nuevo ./.~watchdog.ipynb fichero!\n",
      "hay un nuevo ./.~watchdog.ipynb fichero!\n",
      "hay un nuevo ./.~watchdog.ipynb fichero!\n",
      "hay un nuevo ./.~watchdog.ipynb fichero!\n",
      "hay un nuevo ./.~watchdog.ipynb fichero!\n",
      "hay un nuevo ./.~watchdog.ipynb fichero!\n",
      "hay un nuevo ./.~watchdog.ipynb fichero!\n",
      "hay un nuevo ./.~watchdog.ipynb fichero!\n",
      "hay un nuevo ./.~watchdog.ipynb fichero!\n",
      "hay un nuevo ./.~watchdog.ipynb fichero!\n",
      "hay un nuevo ./.~watchdog.ipynb fichero!\n",
      "hay un nuevo ./.~watchdog.ipynb fichero!\n",
      "hay un nuevo ./.~watchdog.ipynb fichero!\n",
      "hay un nuevo ./.~watchdog.ipynb fichero!\n",
      "hay un nuevo ./.~watchdog.ipynb fichero!\n",
      "hay un nuevo ./.~watchdog.ipynb fichero!\n",
      "hay un nuevo ./.~watchdog.ipynb fichero!\n",
      "hay un nuevo ./.~watchdog.ipynb fichero!\n",
      "hay un nuevo ./.~watchdog.ipynb fichero!\n",
      "hay un nuevo ./.~watchdog.ipynb fichero!\n",
      "hay un nuevo ./.~watchdog.ipynb fichero!\n",
      "hay un nuevo ./.~watchdog.ipynb fichero!\n",
      "hay un nuevo ./.~watchdog.ipynb fichero!\n",
      "hay un nuevo ./.~watchdog.ipynb fichero!\n",
      "hay un nuevo ./.~watchdog.ipynb fichero!\n",
      "hay un nuevo ./.~watchdog.ipynb fichero!\n",
      "hay un nuevo ./.~watchdog.ipynb fichero!\n",
      "hay un nuevo ./.~watchdog.ipynb fichero!\n",
      "hay un nuevo ./.~watchdog.ipynb fichero!\n",
      "hay un nuevo ./.~watchdog.ipynb fichero!\n",
      "hay un nuevo ./.~watchdog.ipynb fichero!\n",
      "hay un nuevo ./.~watchdog.ipynb fichero!\n",
      "hay un nuevo ./.~watchdog.ipynb fichero!\n",
      "hay un nuevo ./.~watchdog.ipynb fichero!\n",
      "hay un nuevo ./.~watchdog.ipynb fichero!\n",
      "hay un nuevo ./.~watchdog.ipynb fichero!\n",
      "hay un nuevo ./.~watchdog.ipynb fichero!\n",
      "hay un nuevo ./.~watchdog.ipynb fichero!\n",
      "hay un nuevo ./.~watchdog.ipynb fichero!\n",
      "hay un nuevo ./.~watchdog.ipynb fichero!\n",
      "hay un nuevo ./.~watchdog.ipynb fichero!\n",
      "hay un nuevo ./.~watchdog.ipynb fichero!\n",
      "hay un nuevo ./.~watchdog.ipynb fichero!\n",
      "hay un nuevo ./.~watchdog.ipynb fichero!\n",
      "hay un nuevo ./.~watchdog.ipynb fichero!\n",
      "hay un nuevo ./.~watchdog.ipynb fichero!\n",
      "hay un nuevo ./.~watchdog.ipynb fichero!\n",
      "hay un nuevo ./.~watchdog.ipynb fichero!\n",
      "hay un nuevo ./.~watchdog.ipynb fichero!\n",
      "hay un nuevo ./.~watchdog.ipynb fichero!\n",
      "hay un nuevo ./.~watchdog.ipynb fichero!\n",
      "hay un nuevo ./.~watchdog.ipynb fichero!\n",
      "hay un nuevo ./.~watchdog.ipynb fichero!\n",
      "hay un nuevo ./.~watchdog.ipynb fichero!\n",
      "hay un nuevo ./.~watchdog.ipynb fichero!\n",
      "hay un nuevo ./.~watchdog.ipynb fichero!\n",
      "hay un nuevo ./.~watchdog.ipynb fichero!\n",
      "hay un nuevo ./.~watchdog.ipynb fichero!\n",
      "hay un nuevo ./.~watchdog.ipynb fichero!\n",
      "hay un nuevo ./.~watchdog.ipynb fichero!\n",
      "hay un nuevo ./.~watchdog.ipynb fichero!\n",
      "hay un nuevo ./.~watchdog.ipynb fichero!\n",
      "hay un nuevo ./.~watchdog.ipynb fichero!\n",
      "hay un nuevo ./.~watchdog.ipynb fichero!\n",
      "hay un nuevo ./.~watchdog.ipynb fichero!\n",
      "hay un nuevo ./.~watchdog.ipynb fichero!\n",
      "hay un nuevo ./.~watchdog.ipynb fichero!\n",
      "hay un nuevo ./.~watchdog.ipynb fichero!\n",
      "hay un nuevo ./.~watchdog.ipynb fichero!\n",
      "hay un nuevo ./.~watchdog.ipynb fichero!\n",
      "hay un nuevo ./.~watchdog.ipynb fichero!\n",
      "hay un nuevo ./.~watchdog.ipynb fichero!\n",
      "hay un nuevo ./.~watchdog.ipynb fichero!\n",
      "hay un nuevo ./.~watchdog.ipynb fichero!\n",
      "hay un nuevo ./.~watchdog.ipynb fichero!\n",
      "hay un nuevo ./.~watchdog.ipynb fichero!\n",
      "hay un nuevo ./.~watchdog.ipynb fichero!\n",
      "hay un nuevo ./.~watchdog.ipynb fichero!\n",
      "hay un nuevo ./.~watchdog.ipynb fichero!\n",
      "hay un nuevo ./.~watchdog.ipynb fichero!\n",
      "hay un nuevo ./.~watchdog.ipynb fichero!\n",
      "hay un nuevo ./.~watchdog.ipynb fichero!\n",
      "hay un nuevo ./.~watchdog.ipynb fichero!\n",
      "hay un nuevo ./.~watchdog.ipynb fichero!\n",
      "hay un nuevo ./.~watchdog.ipynb fichero!\n",
      "hay un nuevo ./.~watchdog.ipynb fichero!\n",
      "hay un nuevo ./.~watchdog.ipynb fichero!\n",
      "hay un nuevo ./.~watchdog.ipynb fichero!\n",
      "hay un nuevo ./.~watchdog.ipynb fichero!\n",
      "hay un nuevo ./.~watchdog.ipynb fichero!\n",
      "hay un nuevo ./.~watchdog.ipynb fichero!\n",
      "hay un nuevo ./.~watchdog.ipynb fichero!\n",
      "hay un nuevo ./.~watchdog.ipynb fichero!\n",
      "hay un nuevo ./.~watchdog.ipynb fichero!\n",
      "hay un nuevo ./.~watchdog.ipynb fichero!\n",
      "hay un nuevo ./.~watchdog.ipynb fichero!\n",
      "hay un nuevo ./.~watchdog.ipynb fichero!\n",
      "hay un nuevo ./.~watchdog.ipynb fichero!\n",
      "hay un nuevo ./.~watchdog.ipynb fichero!\n",
      "hay un nuevo ./.~watchdog.ipynb fichero!\n",
      "hay un nuevo ./.~watchdog.ipynb fichero!\n",
      "hay un nuevo ./.~watchdog.ipynb fichero!\n",
      "hay un nuevo ./.~watchdog.ipynb fichero!\n",
      "hay un nuevo ./.~watchdog.ipynb fichero!\n",
      "hay un nuevo ./.~watchdog.ipynb fichero!\n",
      "hay un nuevo ./.~watchdog.ipynb fichero!\n",
      "hay un nuevo ./.~watchdog.ipynb fichero!\n",
      "hay un nuevo ./.~watchdog.ipynb fichero!\n",
      "hay un nuevo ./.~watchdog.ipynb fichero!\n",
      "hay un nuevo ./.~watchdog.ipynb fichero!\n",
      "hay un nuevo ./.~watchdog.ipynb fichero!\n",
      "hay un nuevo ./.~watchdog.ipynb fichero!\n",
      "hay un nuevo ./.~watchdog.ipynb fichero!\n",
      "hay un nuevo ./.~watchdog.ipynb fichero!\n",
      "hay un nuevo ./.~watchdog.ipynb fichero!\n",
      "hay un nuevo ./.~watchdog.ipynb fichero!\n",
      "hay un nuevo ./.~watchdog.ipynb fichero!\n",
      "hay un nuevo ./.~watchdog.ipynb fichero!\n",
      "hay un nuevo ./.~watchdog.ipynb fichero!\n",
      "hay un nuevo ./.~watchdog.ipynb fichero!\n",
      "hay un nuevo ./.~watchdog.ipynb fichero!\n",
      "hay un nuevo ./.~watchdog.ipynb fichero!\n",
      "hay un nuevo ./.~watchdog.ipynb fichero!\n",
      "hay un nuevo ./.~watchdog.ipynb fichero!\n",
      "hay un nuevo ./.~watchdog.ipynb fichero!\n",
      "hay un nuevo ./.~watchdog.ipynb fichero!\n",
      "hay un nuevo ./.~watchdog.ipynb fichero!\n",
      "hay un nuevo ./.~watchdog.ipynb fichero!\n",
      "hay un nuevo ./.~watchdog.ipynb fichero!\n",
      "hay un nuevo ./.~watchdog.ipynb fichero!\n",
      "hay un nuevo ./.~watchdog.ipynb fichero!\n",
      "hay un nuevo ./.~watchdog.ipynb fichero!\n",
      "hay un nuevo ./.~watchdog.ipynb fichero!\n",
      "hay un nuevo ./.~watchdog.ipynb fichero!\n",
      "hay un nuevo ./.~watchdog.ipynb fichero!\n",
      "hay un nuevo ./.~watchdog.ipynb fichero!\n",
      "hay un nuevo ./.~watchdog.ipynb fichero!\n",
      "hay un nuevo ./.~watchdog.ipynb fichero!\n",
      "hay un nuevo ./.~watchdog.ipynb fichero!\n",
      "hay un nuevo ./.~watchdog.ipynb fichero!\n",
      "hay un nuevo ./.~watchdog.ipynb fichero!\n",
      "hay un nuevo ./.~watchdog.ipynb fichero!\n",
      "hay un nuevo ./.~watchdog.ipynb fichero!\n",
      "hay un nuevo ./.~watchdog.ipynb fichero!\n",
      "hay un nuevo ./.~watchdog.ipynb fichero!\n",
      "hay un nuevo ./.~watchdog.ipynb fichero!\n",
      "hay un nuevo ./.~watchdog.ipynb fichero!\n",
      "hay un nuevo ./.~watchdog.ipynb fichero!\n",
      "hay un nuevo ./.~watchdog.ipynb fichero!\n",
      "hay un nuevo ./.~watchdog.ipynb fichero!\n",
      "hay un nuevo ./.~watchdog.ipynb fichero!\n",
      "hay un nuevo ./.~watchdog.ipynb fichero!\n",
      "hay un nuevo ./.~watchdog.ipynb fichero!\n",
      "hay un nuevo ./.~watchdog.ipynb fichero!\n",
      "hay un nuevo ./.~watchdog.ipynb fichero!\n",
      "hay un nuevo ./.~watchdog.ipynb fichero!\n",
      "hay un nuevo ./.~watchdog.ipynb fichero!\n",
      "hay un nuevo ./.~watchdog.ipynb fichero!\n",
      "hay un nuevo ./.~watchdog.ipynb fichero!\n",
      "hay un nuevo ./.~watchdog.ipynb fichero!\n",
      "hay un nuevo ./.~watchdog.ipynb fichero!\n",
      "hay un nuevo ./.~watchdog.ipynb fichero!\n",
      "hay un nuevo ./.~watchdog.ipynb fichero!\n",
      "hay un nuevo ./.~watchdog.ipynb fichero!\n",
      "hay un nuevo ./.~watchdog.ipynb fichero!\n",
      "hay un nuevo ./.~watchdog.ipynb fichero!\n",
      "hay un nuevo ./.~watchdog.ipynb fichero!\n",
      "hay un nuevo ./.~watchdog.ipynb fichero!\n",
      "hay un nuevo ./.~watchdog.ipynb fichero!\n",
      "hay un nuevo ./.~watchdog.ipynb fichero!\n",
      "hay un nuevo ./.~watchdog.ipynb fichero!\n",
      "hay un nuevo ./.~watchdog.ipynb fichero!\n",
      "hay un nuevo ./.~watchdog.ipynb fichero!\n",
      "hay un nuevo ./.~watchdog.ipynb fichero!\n",
      "hay un nuevo ./.~watchdog.ipynb fichero!\n",
      "hay un nuevo ./.~watchdog.ipynb fichero!\n",
      "hay un nuevo ./.~watchdog.ipynb fichero!\n",
      "hay un nuevo ./.~watchdog.ipynb fichero!\n",
      "hay un nuevo ./.~watchdog.ipynb fichero!\n",
      "hay un nuevo ./.~watchdog.ipynb fichero!\n",
      "hay un nuevo ./.~watchdog.ipynb fichero!\n",
      "hay un nuevo ./.~watchdog.ipynb fichero!\n",
      "hay un nuevo ./.~watchdog.ipynb fichero!\n",
      "hay un nuevo ./.~watchdog.ipynb fichero!\n",
      "hay un nuevo ./.~watchdog.ipynb fichero!\n",
      "hay un nuevo ./.~watchdog.ipynb fichero!\n",
      "hay un nuevo ./.~watchdog.ipynb fichero!\n",
      "hay un nuevo ./.~watchdog.ipynb fichero!\n",
      "hay un nuevo ./.~watchdog.ipynb fichero!\n",
      "hay un nuevo ./.~watchdog.ipynb fichero!\n",
      "hay un nuevo ./.~watchdog.ipynb fichero!\n",
      "hay un nuevo ./.~watchdog.ipynb fichero!\n",
      "hay un nuevo ./.~watchdog.ipynb fichero!\n",
      "hay un nuevo ./.~watchdog.ipynb fichero!\n",
      "hay un nuevo ./.~watchdog.ipynb fichero!\n",
      "hay un nuevo ./.~watchdog.ipynb fichero!\n"
     ]
    },
    {
     "name": "stdout",
     "output_type": "stream",
     "text": [
      "hay un nuevo ./.~watchdog.ipynb fichero!\n",
      "hay un nuevo ./.~watchdog.ipynb fichero!\n",
      "hay un nuevo ./.~watchdog.ipynb fichero!\n",
      "hay un nuevo ./.~watchdog.ipynb fichero!\n",
      "hay un nuevo ./.~watchdog.ipynb fichero!\n",
      "hay un nuevo ./.~watchdog.ipynb fichero!\n",
      "hay un nuevo ./.~watchdog.ipynb fichero!\n",
      "hay un nuevo ./.~watchdog.ipynb fichero!\n",
      "hay un nuevo ./.~watchdog.ipynb fichero!\n",
      "hay un nuevo ./.~watchdog.ipynb fichero!\n",
      "hay un nuevo ./.~watchdog.ipynb fichero!\n",
      "hay un nuevo ./.~watchdog.ipynb fichero!\n",
      "hay un nuevo ./.~watchdog.ipynb fichero!\n",
      "hay un nuevo ./.~watchdog.ipynb fichero!\n",
      "hay un nuevo ./.~watchdog.ipynb fichero!\n",
      "hay un nuevo ./.~watchdog.ipynb fichero!\n",
      "hay un nuevo ./.~watchdog.ipynb fichero!\n",
      "hay un nuevo ./.~watchdog.ipynb fichero!\n",
      "hay un nuevo ./.~watchdog.ipynb fichero!\n",
      "hay un nuevo ./.~watchdog.ipynb fichero!\n",
      "hay un nuevo ./.~watchdog.ipynb fichero!\n",
      "hay un nuevo ./.~watchdog.ipynb fichero!\n",
      "hay un nuevo ./.~watchdog.ipynb fichero!\n",
      "hay un nuevo ./.~watchdog.ipynb fichero!\n",
      "hay un nuevo ./.~watchdog.ipynb fichero!\n",
      "hay un nuevo ./.~watchdog.ipynb fichero!\n",
      "hay un nuevo ./.~watchdog.ipynb fichero!\n",
      "hay un nuevo ./.~watchdog.ipynb fichero!\n",
      "hay un nuevo ./.~watchdog.ipynb fichero!\n",
      "hay un nuevo ./.~watchdog.ipynb fichero!\n",
      "hay un nuevo ./.~watchdog.ipynb fichero!\n",
      "hay un nuevo ./.~watchdog.ipynb fichero!\n",
      "hay un nuevo ./.~watchdog.ipynb fichero!\n",
      "hay un nuevo ./.~watchdog.ipynb fichero!\n",
      "hay un nuevo ./.~watchdog.ipynb fichero!\n",
      "hay un nuevo ./.~watchdog.ipynb fichero!\n",
      "hay un nuevo ./.~watchdog.ipynb fichero!\n",
      "hay un nuevo ./.~watchdog.ipynb fichero!\n",
      "hay un nuevo ./.~watchdog.ipynb fichero!\n",
      "hay un nuevo ./.~watchdog.ipynb fichero!\n",
      "hay un nuevo ./.~watchdog.ipynb fichero!\n",
      "hay un nuevo ./.~watchdog.ipynb fichero!\n",
      "hay un nuevo ./.~watchdog.ipynb fichero!\n",
      "hay un nuevo ./.~watchdog.ipynb fichero!\n",
      "hay un nuevo ./.~watchdog.ipynb fichero!\n",
      "hay un nuevo ./.~watchdog.ipynb fichero!\n",
      "hay un nuevo ./.~watchdog.ipynb fichero!\n",
      "hay un nuevo ./.~watchdog.ipynb fichero!\n",
      "hay un nuevo ./.~watchdog.ipynb fichero!\n",
      "hay un nuevo ./.~watchdog.ipynb fichero!\n",
      "hay un nuevo ./.~watchdog.ipynb fichero!\n",
      "hay un nuevo ./.~watchdog.ipynb fichero!\n",
      "hay un nuevo ./.~watchdog.ipynb fichero!\n",
      "hay un nuevo ./.~watchdog.ipynb fichero!\n",
      "hay un nuevo ./.~watchdog.ipynb fichero!\n",
      "hay un nuevo ./.~watchdog.ipynb fichero!\n",
      "hay un nuevo ./.~watchdog.ipynb fichero!\n",
      "hay un nuevo ./.~watchdog.ipynb fichero!\n",
      "hay un nuevo ./.~watchdog.ipynb fichero!\n",
      "hay un nuevo ./.~watchdog.ipynb fichero!\n",
      "hay un nuevo ./.~watchdog.ipynb fichero!\n",
      "hay un nuevo ./.~watchdog.ipynb fichero!\n",
      "hay un nuevo ./.~watchdog.ipynb fichero!\n",
      "hay un nuevo ./.~watchdog.ipynb fichero!\n",
      "hay un nuevo ./.~watchdog.ipynb fichero!\n",
      "hay un nuevo ./.~watchdog.ipynb fichero!\n",
      "hay un nuevo ./.~watchdog.ipynb fichero!\n",
      "hay un nuevo ./.~watchdog.ipynb fichero!\n",
      "hay un nuevo ./.~watchdog.ipynb fichero!\n",
      "hay un nuevo ./.~watchdog.ipynb fichero!\n",
      "hay un nuevo ./.~watchdog.ipynb fichero!\n",
      "hay un nuevo ./.~watchdog.ipynb fichero!\n",
      "hay un nuevo ./.~watchdog.ipynb fichero!\n",
      "hay un nuevo ./.~watchdog.ipynb fichero!\n",
      "hay un nuevo ./.~watchdog.ipynb fichero!\n",
      "hay un nuevo ./.~watchdog.ipynb fichero!\n",
      "hay un nuevo ./.~watchdog.ipynb fichero!\n",
      "hay un nuevo ./.~watchdog.ipynb fichero!\n",
      "hay un nuevo ./.~watchdog.ipynb fichero!\n",
      "hay un nuevo ./.~watchdog.ipynb fichero!\n",
      "hay un nuevo ./.~watchdog.ipynb fichero!\n",
      "hay un nuevo ./.~watchdog.ipynb fichero!\n",
      "hay un nuevo ./.~watchdog.ipynb fichero!\n",
      "hay un nuevo ./.~watchdog.ipynb fichero!\n",
      "hay un nuevo ./.~watchdog.ipynb fichero!\n",
      "hay un nuevo ./.~watchdog.ipynb fichero!\n",
      "hay un nuevo ./.~watchdog.ipynb fichero!\n",
      "hay un nuevo ./.~watchdog.ipynb fichero!\n",
      "hay un nuevo ./.~watchdog.ipynb fichero!\n",
      "hay un nuevo ./.~watchdog.ipynb fichero!\n",
      "hay un nuevo ./.~watchdog.ipynb fichero!\n",
      "hay un nuevo ./.~watchdog.ipynb fichero!\n",
      "hay un nuevo ./.~watchdog.ipynb fichero!\n",
      "hay un nuevo ./.~watchdog.ipynb fichero!\n",
      "hay un nuevo ./.~watchdog.ipynb fichero!\n",
      "hay un nuevo ./.~watchdog.ipynb fichero!\n",
      "hay un nuevo ./.~watchdog.ipynb fichero!\n",
      "hay un nuevo ./.~watchdog.ipynb fichero!\n",
      "hay un nuevo ./.~watchdog.ipynb fichero!\n",
      "hay un nuevo ./.~watchdog.ipynb fichero!\n",
      "hay un nuevo ./.~watchdog.ipynb fichero!\n",
      "hay un nuevo ./.~watchdog.ipynb fichero!\n",
      "hay un nuevo ./.~watchdog.ipynb fichero!\n",
      "hay un nuevo ./.~watchdog.ipynb fichero!\n",
      "hay un nuevo ./.~watchdog.ipynb fichero!\n",
      "hay un nuevo ./.~watchdog.ipynb fichero!\n",
      "hay un nuevo ./.~watchdog.ipynb fichero!\n",
      "hay un nuevo ./.~watchdog.ipynb fichero!\n",
      "hay un nuevo ./.~watchdog.ipynb fichero!\n",
      "hay un nuevo ./.~watchdog.ipynb fichero!\n",
      "hay un nuevo ./.~watchdog.ipynb fichero!\n",
      "hay un nuevo ./.~watchdog.ipynb fichero!\n",
      "hay un nuevo ./.~watchdog.ipynb fichero!\n",
      "hay un nuevo ./.~watchdog.ipynb fichero!\n",
      "hay un nuevo ./.~watchdog.ipynb fichero!\n",
      "hay un nuevo ./.~watchdog.ipynb fichero!\n",
      "hay un nuevo ./.~watchdog.ipynb fichero!\n",
      "hay un nuevo ./.~watchdog.ipynb fichero!\n",
      "hay un nuevo ./.~watchdog.ipynb fichero!\n",
      "hay un nuevo ./.~watchdog.ipynb fichero!\n",
      "hay un nuevo ./.~watchdog.ipynb fichero!\n",
      "hay un nuevo ./.~watchdog.ipynb fichero!\n",
      "hay un nuevo ./.~watchdog.ipynb fichero!\n",
      "hay un nuevo ./.~watchdog.ipynb fichero!\n",
      "hay un nuevo ./.~watchdog.ipynb fichero!\n",
      "hay un nuevo ./.~watchdog.ipynb fichero!\n",
      "hay un nuevo ./.~watchdog.ipynb fichero!\n",
      "hay un nuevo ./.~watchdog.ipynb fichero!\n",
      "hay un nuevo ./.~watchdog.ipynb fichero!\n",
      "hay un nuevo ./.~watchdog.ipynb fichero!\n",
      "hay un nuevo ./.~watchdog.ipynb fichero!\n",
      "hay un nuevo ./.~watchdog.ipynb fichero!\n",
      "hay un nuevo ./.~watchdog.ipynb fichero!\n",
      "hay un nuevo ./.~watchdog.ipynb fichero!\n",
      "hay un nuevo ./.~watchdog.ipynb fichero!\n",
      "hay un nuevo ./.~watchdog.ipynb fichero!\n",
      "hay un nuevo ./.~watchdog.ipynb fichero!\n",
      "hay un nuevo ./.~watchdog.ipynb fichero!\n",
      "hay un nuevo ./.~watchdog.ipynb fichero!\n",
      "hay un nuevo ./.~watchdog.ipynb fichero!\n",
      "hay un nuevo ./.~watchdog.ipynb fichero!\n",
      "hay un nuevo ./.~watchdog.ipynb fichero!\n",
      "hay un nuevo ./.~watchdog.ipynb fichero!\n",
      "hay un nuevo ./.~watchdog.ipynb fichero!\n",
      "hay un nuevo ./.~watchdog.ipynb fichero!\n",
      "hay un nuevo ./.~watchdog.ipynb fichero!\n",
      "hay un nuevo ./.~watchdog.ipynb fichero!\n",
      "hay un nuevo ./.~watchdog.ipynb fichero!\n",
      "hay un nuevo ./.~watchdog.ipynb fichero!\n",
      "hay un nuevo ./.~watchdog.ipynb fichero!\n",
      "hay un nuevo ./.~watchdog.ipynb fichero!\n",
      "hay un nuevo ./.~watchdog.ipynb fichero!\n",
      "hay un nuevo ./.~watchdog.ipynb fichero!\n",
      "hay un nuevo ./.~watchdog.ipynb fichero!\n",
      "hay un nuevo ./.~watchdog.ipynb fichero!\n",
      "hay un nuevo ./.~watchdog.ipynb fichero!\n",
      "hay un nuevo ./.~watchdog.ipynb fichero!\n",
      "hay un nuevo ./.~watchdog.ipynb fichero!\n",
      "hay un nuevo ./.~watchdog.ipynb fichero!\n",
      "hay un nuevo ./.~watchdog.ipynb fichero!\n",
      "hay un nuevo ./.~watchdog.ipynb fichero!\n",
      "hay un nuevo ./.~watchdog.ipynb fichero!\n",
      "hay un nuevo ./.~watchdog.ipynb fichero!\n",
      "hay un nuevo ./.~watchdog.ipynb fichero!\n",
      "hay un nuevo ./.~watchdog.ipynb fichero!\n",
      "hay un nuevo ./.~watchdog.ipynb fichero!\n",
      "hay un nuevo ./.~watchdog.ipynb fichero!\n",
      "hay un nuevo ./.~watchdog.ipynb fichero!\n",
      "hay un nuevo ./.~watchdog.ipynb fichero!\n",
      "hay un nuevo ./.~watchdog.ipynb fichero!\n",
      "hay un nuevo ./.~watchdog.ipynb fichero!\n",
      "hay un nuevo ./.~watchdog.ipynb fichero!\n",
      "hay un nuevo ./.~watchdog.ipynb fichero!\n",
      "hay un nuevo ./.~watchdog.ipynb fichero!\n",
      "hay un nuevo ./.~watchdog.ipynb fichero!\n",
      "hay un nuevo ./.~watchdog.ipynb fichero!\n",
      "hay un nuevo ./.~watchdog.ipynb fichero!\n",
      "hay un nuevo ./.~watchdog.ipynb fichero!\n",
      "hay un nuevo ./.~watchdog.ipynb fichero!\n",
      "hay un nuevo ./.~watchdog.ipynb fichero!\n",
      "hay un nuevo ./.~watchdog.ipynb fichero!\n",
      "hay un nuevo ./.~watchdog.ipynb fichero!\n",
      "hay un nuevo ./.~watchdog.ipynb fichero!\n",
      "hay un nuevo ./.~watchdog.ipynb fichero!\n",
      "hay un nuevo ./.~watchdog.ipynb fichero!\n",
      "hay un nuevo ./.~watchdog.ipynb fichero!\n",
      "hay un nuevo ./.~watchdog.ipynb fichero!\n",
      "hay un nuevo ./.~watchdog.ipynb fichero!\n",
      "hay un nuevo ./.~watchdog.ipynb fichero!\n",
      "hay un nuevo ./.~watchdog.ipynb fichero!\n",
      "hay un nuevo ./.~watchdog.ipynb fichero!\n",
      "hay un nuevo ./.~watchdog.ipynb fichero!\n",
      "hay un nuevo ./.~watchdog.ipynb fichero!\n",
      "hay un nuevo ./.~watchdog.ipynb fichero!\n",
      "hay un nuevo ./.~watchdog.ipynb fichero!\n",
      "hay un nuevo ./.~watchdog.ipynb fichero!\n",
      "hay un nuevo ./.~watchdog.ipynb fichero!\n",
      "hay un nuevo ./.~watchdog.ipynb fichero!\n",
      "hay un nuevo ./.~watchdog.ipynb fichero!\n",
      "hay un nuevo ./.~watchdog.ipynb fichero!\n"
     ]
    },
    {
     "name": "stdout",
     "output_type": "stream",
     "text": [
      "hay un nuevo ./.~watchdog.ipynb fichero!\n",
      "hay un nuevo ./.~watchdog.ipynb fichero!\n",
      "hay un nuevo ./.~watchdog.ipynb fichero!\n",
      "hay un nuevo ./.~watchdog.ipynb fichero!\n",
      "hay un nuevo ./.~watchdog.ipynb fichero!\n",
      "hay un nuevo ./.~watchdog.ipynb fichero!\n",
      "hay un nuevo ./.~watchdog.ipynb fichero!\n",
      "hay un nuevo ./.~watchdog.ipynb fichero!\n",
      "hay un nuevo ./.~watchdog.ipynb fichero!\n",
      "hay un nuevo ./.~watchdog.ipynb fichero!\n",
      "hay un nuevo ./.~watchdog.ipynb fichero!\n",
      "hay un nuevo ./.~watchdog.ipynb fichero!\n",
      "hay un nuevo ./.~watchdog.ipynb fichero!\n",
      "hay un nuevo ./.~watchdog.ipynb fichero!\n",
      "hay un nuevo ./.~watchdog.ipynb fichero!\n",
      "hay un nuevo ./.~watchdog.ipynb fichero!\n",
      "hay un nuevo ./.~watchdog.ipynb fichero!\n",
      "hay un nuevo ./.~watchdog.ipynb fichero!\n",
      "hay un nuevo ./.~watchdog.ipynb fichero!\n",
      "hay un nuevo ./.~watchdog.ipynb fichero!\n",
      "hay un nuevo ./.~watchdog.ipynb fichero!\n",
      "hay un nuevo ./.~watchdog.ipynb fichero!\n",
      "hay un nuevo ./.~watchdog.ipynb fichero!\n",
      "hay un nuevo ./.~watchdog.ipynb fichero!\n",
      "hay un nuevo ./.~watchdog.ipynb fichero!\n",
      "hay un nuevo ./.~watchdog.ipynb fichero!\n",
      "hay un nuevo ./.~watchdog.ipynb fichero!\n",
      "hay un nuevo ./.~watchdog.ipynb fichero!\n",
      "hay un nuevo ./.~watchdog.ipynb fichero!\n",
      "hay un nuevo ./.~watchdog.ipynb fichero!\n",
      "hay un nuevo ./.~watchdog.ipynb fichero!\n",
      "hay un nuevo ./.~watchdog.ipynb fichero!\n",
      "hay un nuevo ./.~watchdog.ipynb fichero!\n",
      "hay un nuevo ./.~watchdog.ipynb fichero!\n",
      "hay un nuevo ./.~watchdog.ipynb fichero!\n",
      "hay un nuevo ./.~watchdog.ipynb fichero!\n",
      "hay un nuevo ./.~watchdog.ipynb fichero!\n",
      "hay un nuevo ./.~watchdog.ipynb fichero!\n",
      "hay un nuevo ./.~watchdog.ipynb fichero!\n",
      "hay un nuevo ./.~watchdog.ipynb fichero!\n",
      "hay un nuevo ./.~watchdog.ipynb fichero!\n",
      "hay un nuevo ./.~watchdog.ipynb fichero!\n",
      "hay un nuevo ./.~watchdog.ipynb fichero!\n",
      "hay un nuevo ./.~watchdog.ipynb fichero!\n",
      "hay un nuevo ./.~watchdog.ipynb fichero!\n",
      "hay un nuevo ./.~watchdog.ipynb fichero!\n",
      "hay un nuevo ./.~watchdog.ipynb fichero!\n",
      "hay un nuevo ./.~watchdog.ipynb fichero!\n",
      "hay un nuevo ./.~watchdog.ipynb fichero!\n",
      "hay un nuevo ./.~watchdog.ipynb fichero!\n",
      "hay un nuevo ./.~watchdog.ipynb fichero!\n",
      "hay un nuevo ./.~watchdog.ipynb fichero!\n",
      "hay un nuevo ./.~watchdog.ipynb fichero!\n",
      "hay un nuevo ./.~watchdog.ipynb fichero!\n",
      "hay un nuevo ./.~watchdog.ipynb fichero!\n",
      "hay un nuevo ./.~watchdog.ipynb fichero!\n",
      "hay un nuevo ./.~watchdog.ipynb fichero!\n",
      "hay un nuevo ./.~watchdog.ipynb fichero!\n",
      "hay un nuevo ./.~watchdog.ipynb fichero!\n",
      "hay un nuevo ./.~watchdog.ipynb fichero!\n",
      "hay un nuevo ./.~watchdog.ipynb fichero!\n",
      "hay un nuevo ./.~watchdog.ipynb fichero!\n",
      "hay un nuevo ./.~watchdog.ipynb fichero!\n",
      "hay un nuevo ./.~watchdog.ipynb fichero!\n",
      "hay un nuevo ./.~watchdog.ipynb fichero!\n",
      "hay un nuevo ./.~watchdog.ipynb fichero!\n",
      "hay un nuevo ./.~watchdog.ipynb fichero!\n",
      "hay un nuevo ./.~watchdog.ipynb fichero!\n",
      "hay un nuevo ./.~watchdog.ipynb fichero!\n",
      "hay un nuevo ./.~watchdog.ipynb fichero!\n",
      "hay un nuevo ./.~watchdog.ipynb fichero!\n",
      "hay un nuevo ./.~watchdog.ipynb fichero!\n",
      "hay un nuevo ./.~watchdog.ipynb fichero!\n",
      "hay un nuevo ./.~watchdog.ipynb fichero!\n",
      "hay un nuevo ./.~watchdog.ipynb fichero!\n",
      "hay un nuevo ./.~watchdog.ipynb fichero!\n",
      "hay un nuevo ./.~watchdog.ipynb fichero!\n",
      "hay un nuevo ./.~watchdog.ipynb fichero!\n",
      "hay un nuevo ./.~watchdog.ipynb fichero!\n",
      "hay un nuevo ./.~watchdog.ipynb fichero!\n",
      "hay un nuevo ./.~watchdog.ipynb fichero!\n",
      "hay un nuevo ./.~watchdog.ipynb fichero!\n",
      "hay un nuevo ./.~watchdog.ipynb fichero!\n",
      "hay un nuevo ./.~watchdog.ipynb fichero!\n",
      "hay un nuevo ./.~watchdog.ipynb fichero!\n",
      "hay un nuevo ./.~watchdog.ipynb fichero!\n",
      "hay un nuevo ./.~watchdog.ipynb fichero!\n",
      "hay un nuevo ./.~watchdog.ipynb fichero!\n",
      "hay un nuevo ./.~watchdog.ipynb fichero!\n",
      "hay un nuevo ./.~watchdog.ipynb fichero!\n",
      "hay un nuevo ./.~watchdog.ipynb fichero!\n",
      "hay un nuevo ./.~watchdog.ipynb fichero!\n",
      "hay un nuevo ./.~watchdog.ipynb fichero!\n",
      "hay un nuevo ./.~watchdog.ipynb fichero!\n",
      "hay un nuevo ./.~watchdog.ipynb fichero!\n",
      "hay un nuevo ./.~watchdog.ipynb fichero!\n",
      "hay un nuevo ./.~watchdog.ipynb fichero!\n",
      "hay un nuevo ./.~watchdog.ipynb fichero!\n",
      "hay un nuevo ./.~watchdog.ipynb fichero!\n",
      "hay un nuevo ./.~watchdog.ipynb fichero!\n",
      "hay un nuevo ./.~watchdog.ipynb fichero!\n",
      "hay un nuevo ./.~watchdog.ipynb fichero!\n",
      "hay un nuevo ./.~watchdog.ipynb fichero!\n",
      "hay un nuevo ./.~watchdog.ipynb fichero!\n",
      "hay un nuevo ./.~watchdog.ipynb fichero!\n",
      "hay un nuevo ./.~watchdog.ipynb fichero!\n",
      "hay un nuevo ./.~watchdog.ipynb fichero!\n",
      "hay un nuevo ./.~watchdog.ipynb fichero!\n",
      "hay un nuevo ./.~watchdog.ipynb fichero!\n",
      "hay un nuevo ./.~watchdog.ipynb fichero!\n",
      "hay un nuevo ./.~watchdog.ipynb fichero!\n",
      "hay un nuevo ./.~watchdog.ipynb fichero!\n",
      "hay un nuevo ./.~watchdog.ipynb fichero!\n",
      "hay un nuevo ./.~watchdog.ipynb fichero!\n",
      "hay un nuevo ./.~watchdog.ipynb fichero!\n",
      "hay un nuevo ./.~watchdog.ipynb fichero!\n",
      "hay un nuevo ./.~watchdog.ipynb fichero!\n",
      "hay un nuevo ./.~watchdog.ipynb fichero!\n",
      "hay un nuevo ./.~watchdog.ipynb fichero!\n",
      "hay un nuevo ./.~watchdog.ipynb fichero!\n",
      "hay un nuevo ./.~watchdog.ipynb fichero!\n",
      "hay un nuevo ./.~watchdog.ipynb fichero!\n",
      "hay un nuevo ./.~watchdog.ipynb fichero!\n",
      "hay un nuevo ./.~watchdog.ipynb fichero!\n",
      "hay un nuevo ./.~watchdog.ipynb fichero!\n",
      "hay un nuevo ./.~watchdog.ipynb fichero!\n",
      "hay un nuevo ./.~watchdog.ipynb fichero!\n",
      "hay un nuevo ./.~watchdog.ipynb fichero!\n",
      "hay un nuevo ./.~watchdog.ipynb fichero!\n",
      "hay un nuevo ./.~watchdog.ipynb fichero!\n",
      "hay un nuevo ./.~watchdog.ipynb fichero!\n",
      "hay un nuevo ./.~watchdog.ipynb fichero!\n",
      "hay un nuevo ./.~watchdog.ipynb fichero!\n",
      "hay un nuevo ./.~watchdog.ipynb fichero!\n",
      "hay un nuevo ./.~watchdog.ipynb fichero!\n",
      "hay un nuevo ./.~watchdog.ipynb fichero!\n",
      "hay un nuevo ./.~watchdog.ipynb fichero!\n",
      "hay un nuevo ./.~watchdog.ipynb fichero!\n",
      "hay un nuevo ./.~watchdog.ipynb fichero!\n",
      "hay un nuevo ./.~watchdog.ipynb fichero!\n",
      "hay un nuevo ./.~watchdog.ipynb fichero!\n",
      "hay un nuevo ./.~watchdog.ipynb fichero!\n",
      "hay un nuevo ./.~watchdog.ipynb fichero!\n",
      "hay un nuevo ./.~watchdog.ipynb fichero!\n",
      "hay un nuevo ./.~watchdog.ipynb fichero!\n",
      "hay un nuevo ./.~watchdog.ipynb fichero!\n",
      "hay un nuevo ./.~watchdog.ipynb fichero!\n",
      "hay un nuevo ./.~watchdog.ipynb fichero!\n",
      "hay un nuevo ./.~watchdog.ipynb fichero!\n",
      "hay un nuevo ./.~watchdog.ipynb fichero!\n",
      "hay un nuevo ./.~watchdog.ipynb fichero!\n",
      "hay un nuevo ./.~watchdog.ipynb fichero!\n",
      "hay un nuevo ./.~watchdog.ipynb fichero!\n",
      "hay un nuevo ./.~watchdog.ipynb fichero!\n",
      "hay un nuevo ./.~watchdog.ipynb fichero!\n",
      "hay un nuevo ./.~watchdog.ipynb fichero!\n",
      "hay un nuevo ./.~watchdog.ipynb fichero!\n",
      "hay un nuevo ./.~watchdog.ipynb fichero!\n",
      "hay un nuevo ./.~watchdog.ipynb fichero!\n",
      "hay un nuevo ./.~watchdog.ipynb fichero!\n",
>>>>>>> 89f51e2ca038c92116afef0034251909582144f4
      "hay un nuevo ./.~watchdog.ipynb fichero!\n"
     ]
    }
   ],
   "source": [
    "my_observer.start()\n",
    "try:\n",
    "    while True:\n",
    "        time.sleep(1)\n",
    "except KeyboardInterrupt:\n",
    "    my_observer.stop()\n",
    "    my_observer.join()"
   ]
  },
  {
   "cell_type": "code",
<<<<<<< HEAD
   "execution_count": 14,
   "metadata": {},
=======
   "execution_count": 12,
   "metadata": {
    "slideshow": {
     "slide_type": "slide"
    }
   },
>>>>>>> 89f51e2ca038c92116afef0034251909582144f4
   "outputs": [],
   "source": [
    "!touch hola.txt"
   ]
  },
  {
   "cell_type": "code",
<<<<<<< HEAD
   "execution_count": 2,
   "metadata": {},
=======
   "execution_count": 13,
   "metadata": {
    "slideshow": {
     "slide_type": "slide"
    }
   },
>>>>>>> 89f51e2ca038c92116afef0034251909582144f4
   "outputs": [
    {
     "name": "stdout",
     "output_type": "stream",
     "text": [
      "watchdog.ipynb\n"
     ]
    }
   ],
   "source": [
    "!ls"
   ]
  },
  {
   "cell_type": "code",
   "execution_count": 1,
   "metadata": {},
   "outputs": [],
   "source": [
    "!rm hola.txt"
   ]
  },
  {
   "cell_type": "code",
   "execution_count": null,
   "metadata": {
    "slideshow": {
     "slide_type": "slide"
    }
   },
   "outputs": [],
   "source": []
  }
 ],
 "metadata": {
  "celltoolbar": "Slideshow",
  "kernelspec": {
   "display_name": "Python 3",
   "language": "python",
   "name": "python3"
  },
  "language_info": {
   "codemirror_mode": {
    "name": "ipython",
    "version": 3
   },
   "file_extension": ".py",
   "mimetype": "text/x-python",
   "name": "python",
   "nbconvert_exporter": "python",
   "pygments_lexer": "ipython3",
<<<<<<< HEAD
   "version": "3.8.0"
=======
   "version": "3.6.9"
>>>>>>> 89f51e2ca038c92116afef0034251909582144f4
  }
 },
 "nbformat": 4,
 "nbformat_minor": 4
}
