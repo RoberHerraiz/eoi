{
 "cells": [
  {
   "cell_type": "markdown",
   "metadata": {
    "slideshow": {
     "slide_type": "slide"
    }
   },
   "source": [
    "## La librería matplotlib\n",
    "\n",
    "**Matplotlib** es una de la librerias de visualizacion de datos\n",
    "mas potentes de Python. Su objetivo declarado es hacer sencillas\n",
    "las cosas faciles y posibles las dificiles. Con ella se pueden\n",
    "generar gradicas, histogrames, graficos de barra, de dispersion, etc. con unas pocas lineas de codigo."
   ]
  },
  {
   "cell_type": "markdown",
   "metadata": {
    "slideshow": {
     "slide_type": "slide"
    }
   },
   "source": [
    "### Instalar matplotlib\n",
    "\n",
    "Si no esta instalada, se puede instalar con pip"
   ]
  },
  {
   "cell_type": "code",
   "execution_count": 1,
   "metadata": {
    "slideshow": {
     "slide_type": "slide"
    }
   },
   "outputs": [
    {
     "name": "stdout",
     "output_type": "stream",
     "text": [
      "Collecting matplotlib\n",
      "  Downloading matplotlib-3.2.1-cp36-cp36m-manylinux1_x86_64.whl (12.4 MB)\n",
      "\u001b[K     |████████████████████████████████| 12.4 MB 4.1 MB/s eta 0:00:01\n",
      "\u001b[?25hCollecting cycler>=0.10\n",
      "  Using cached cycler-0.10.0-py2.py3-none-any.whl (6.5 kB)\n",
      "Collecting numpy>=1.11\n",
      "  Downloading numpy-1.18.2-cp36-cp36m-manylinux1_x86_64.whl (20.2 MB)\n",
      "\u001b[K     |████████████████████████████████| 20.2 MB 4.8 MB/s eta 0:00:01\n",
      "\u001b[?25hRequirement already satisfied: python-dateutil>=2.1 in /home/jileon/.virtualenvs/eoi/lib/python3.6/site-packages (from matplotlib) (2.8.1)\n",
      "Collecting kiwisolver>=1.0.1\n",
      "  Downloading kiwisolver-1.2.0-cp36-cp36m-manylinux1_x86_64.whl (88 kB)\n",
      "\u001b[K     |████████████████████████████████| 88 kB 4.1 MB/s eta 0:00:01\n",
      "\u001b[?25hRequirement already satisfied: pyparsing!=2.0.4,!=2.1.2,!=2.1.6,>=2.0.1 in /home/jileon/.virtualenvs/eoi/lib/python3.6/site-packages (from matplotlib) (2.4.6)\n",
      "Requirement already satisfied: six in /home/jileon/.virtualenvs/eoi/lib/python3.6/site-packages (from cycler>=0.10->matplotlib) (1.14.0)\n",
      "Installing collected packages: cycler, numpy, kiwisolver, matplotlib\n",
      "Successfully installed cycler-0.10.0 kiwisolver-1.2.0 matplotlib-3.2.1 numpy-1.18.2\n",
      "Note: you may need to restart the kernel to use updated packages.\n"
     ]
    }
   ],
   "source": [
    "pip3 install matplotlib"
   ]
  },
  {
   "cell_type": "markdown",
   "metadata": {
    "slideshow": {
     "slide_type": "slide"
    }
   },
   "source": [
    "### Importar la librería\n",
    "\n",
    "Para poder usar matplotlib hay que importarla, como todas las librerías, pero en este caso normalmente la importación se suele hacer así:"
   ]
  },
  {
   "cell_type": "code",
   "execution_count": 2,
   "metadata": {
    "slideshow": {
     "slide_type": "slide"
    }
   },
   "outputs": [],
   "source": [
    "import matplotlib.pyplot as plt"
   ]
  },
  {
   "cell_type": "markdown",
   "metadata": {
    "slideshow": {
     "slide_type": "slide"
    }
   },
   "source": [
    "Esta es una práctica común que permite usar la librería con el nombre \n",
    "abreviado `plt`; de esta forma nos ahorramos pulsar varias teclas\n",
    "cada vez que la usamos."
   ]
  },
  {
   "cell_type": "markdown",
   "metadata": {
    "slideshow": {
     "slide_type": "slide"
    }
   },
   "source": [
    "### Gráficas de líneas"
   ]
  },
  {
   "cell_type": "markdown",
   "metadata": {
    "slideshow": {
     "slide_type": "slide"
    }
   },
   "source": [
    "Podemos crear nuestra primera gráfica con solo cuatro líneas:\n",
    "\n",
    "1) Definir los datos del eje X\n",
    "\n",
    "2) definir los datos del eje Y\n",
    "\n",
    "3) Decidir que tipo de gráfico queremos: de barras, de líneas, etc.\n",
    "\n",
    "4) Mostrar el gráfico"
   ]
  },
  {
   "cell_type": "code",
   "execution_count": 3,
   "metadata": {
    "scrolled": true,
    "slideshow": {
     "slide_type": "slide"
    }
   },
   "outputs": [
    {
     "data": {
      "image/png": "[encoded data removed]",
      "text/plain": [
       "<Figure size 432x288 with 1 Axes>"
      ]
     },
     "metadata": {
      "needs_background": "light"
     },
     "output_type": "display_data"
    }
   ],
   "source": [
    "x_values = [0,1,2,3,4,5]  # Datos eje X\n",
    "\n",
    "squares = [0,1,4,9,16,25]  # Datos eje Y\n",
    "\n",
    "plt.plot(x_values, squares)  # plot usa un grafico de lineas \n",
    "\n",
    "plt.show()  # Mostrar la imagen"
   ]
  },
  {
   "cell_type": "code",
   "execution_count": null,
   "metadata": {},
   "outputs": [],
   "source": [
    "### Gráficas de barras"
   ]
  },
  {
   "cell_type": "markdown",
   "metadata": {
    "slideshow": {
     "slide_type": "slide"
    }
   },
   "source": [
    "Podemos crear un gráfico de barras simplemente llamando a la función `bar` \n",
    "en vez de `plot`:"
   ]
  },
  {
   "cell_type": "code",
   "execution_count": 5,
   "metadata": {
    "slideshow": {
     "slide_type": "slide"
    }
   },
   "outputs": [
    {
     "data": {
      "image/png": "[encoded data removed]",
      "text/plain": [
       "<Figure size 432x288 with 1 Axes>"
      ]
     },
     "metadata": {
      "needs_background": "light"
     },
     "output_type": "display_data"
    }
   ],
   "source": [
    "x_values = [0,1,2,3,4,5]\n",
    "squares = [0,1,4,9,16,25]\n",
    "\n",
    "plt.bar(x_values, squares, color=\"navy\")\n",
    "\n",
    "plt.show()"
   ]
  },
  {
   "cell_type": "markdown",
   "metadata": {
    "slideshow": {
     "slide_type": "slide"
    }
   },
   "source": [
    "**Ejercicio**: En el código anterior hemos usado un parámetro adicional,\n",
    "`color`, para indicar el color de las barras. Cambia el color a otro diferente;\n",
    "algunos valores que puedes usar son `green`, `red`, `cyan`, `coral`, `black`,\n",
    "`#336699`."
   ]
  },
  {
   "cell_type": "code",
   "execution_count": 8,
   "metadata": {},
   "outputs": [
    {
     "data": {
      "image/png": "[encoded data removed]",
      "text/plain": [
       "<Figure size 432x288 with 1 Axes>"
      ]
     },
     "metadata": {
      "needs_background": "light"
     },
     "output_type": "display_data"
    }
   ],
   "source": [
    "x_values = [0,1,2,3,4,5]\n",
    "squares = [0,1,4,9,16,25]\n",
    "\n",
    "plt.bar(x_values, squares, color=\"#336699\")\n",
    "\n",
    "plt.show()"
   ]
  },
  {
   "cell_type": "markdown",
   "metadata": {
    "slideshow": {
     "slide_type": "slide"
    }
   },
   "source": [
    "Podemos tambien crear un gráfico de barras horizontal usando la función\n",
    "`barh` en vez de `bar`:"
   ]
  },
  {
   "cell_type": "code",
   "execution_count": 24,
   "metadata": {},
   "outputs": [
    {
     "data": {
      "image/png": "[encoded data removed]",
      "text/plain": [
       "<Figure size 432x288 with 1 Axes>"
      ]
     },
     "metadata": {
      "needs_background": "light"
     },
     "output_type": "display_data"
    }
   ],
   "source": [
    "x_values = [5,6,11,7,2]\n",
    "y_val = [\"A\", \"B\", \"C\", \"D\", \"E\"]\n",
    "plt.barh(y_val,x_values, color =\"coral\") # Adding an \"h\" after bar will flip the graph\n",
    "plt.show()"
   ]
  },
  {
   "cell_type": "markdown",
   "metadata": {
    "slideshow": {
     "slide_type": "slide"
    }
   },
   "source": [
    "### Gráficas de dispersión\n",
    "\n",
    "Para gráficas de dispersion, (donde los datos $X$ e $Y$ se usaran como si\n",
    "fueran coordenadas de puntos) se usa la función `scatter`. En este caso\n",
    "vamos a añadir el parámetro `s` (de *size*) para indicar el tamaño\n",
    "de los puntos:"
   ]
  },
  {
   "cell_type": "code",
   "execution_count": 26,
   "metadata": {
    "slideshow": {
     "slide_type": "slide"
    }
   },
   "outputs": [
    {
     "data": {
      "image/png": "[encoded data removed]",
      "text/plain": [
       "<Figure size 432x288 with 1 Axes>"
      ]
     },
     "metadata": {
      "needs_background": "light"
     },
     "output_type": "display_data"
    }
   ],
   "source": [
    "x_values = [0,1,2,3,4,5]\n",
    "squares = [0,1,4,9,16,25]\n",
    "plt.scatter(x_values,squares, s=10, color = \"red\")\n",
    "plt.show()"
   ]
  },
  {
   "cell_type": "markdown",
   "metadata": {
    "slideshow": {
     "slide_type": "slide"
    }
   },
   "source": [
    "**Ejercicio**: Añadir dos puntos más a la gráfica. Cambia el tamaño de los\n",
    "puntos a 20 y el color a `pink`."
   ]
  },
  {
   "cell_type": "code",
   "execution_count": 15,
   "metadata": {
    "slideshow": {
     "slide_type": "slide"
    }
   },
   "outputs": [
    {
     "data": {
      "image/png": "[encoded data removed]",
      "text/plain": [
       "<Figure size 432x288 with 1 Axes>"
      ]
     },
     "metadata": {
      "needs_background": "light"
     },
     "output_type": "display_data"
    }
   ],
   "source": [
    "x_values = [0,1,2,3,4,5, 6, 7]\n",
    "squares = [0,1,4,9,16,25, 36, 49]\n",
    "plt.scatter(x_values,squares, s=20, color = \"pink\")\n",
    "plt.show()"
   ]
  },
  {
   "cell_type": "markdown",
   "metadata": {
    "slideshow": {
     "slide_type": "slide"
    }
   },
   "source": [
    "### Histogramas"
   ]
  },
  {
   "cell_type": "markdown",
   "metadata": {},
   "source": [
    "Para los histogramas, usamos la funcion `hist`."
   ]
  },
  {
   "cell_type": "code",
   "execution_count": 21,
   "metadata": {
    "slideshow": {
     "slide_type": "slide"
    }
   },
   "outputs": [
    {
     "data": {
      "image/png": "[encoded data removed]",
      "text/plain": [
       "<Figure size 432x288 with 1 Axes>"
      ]
     },
     "metadata": {
      "needs_background": "light"
     },
     "output_type": "display_data"
    }
   ],
   "source": [
    "#generate fake data\n",
    "x = [2,1,6,4,2,4,8,9,4,2,4,10,6,4,5,7,7,3,2,7,5,3,5,9,2,1]\n",
    "plt.hist(x, bins =20, color='navy', alpha=0.25)\n",
    "plt.show()"
   ]
  },
  {
   "cell_type": "markdown",
   "metadata": {
    "slideshow": {
     "slide_type": "slide"
    }
   },
   "source": [
    "Hemos usado dos parámetros nuevos en este ejemplo:\n",
    "\n",
    "- `bins` - Este argumento es específido de los histogramas y permite\n",
    "al usuario especificar cuantas columnas -y, por tanto, la agrupación\n",
    "a realizar- quiere usar.\n",
    "\n",
    "- `alpha` - Indica el nivel de transparencia de los puntos de datos (en\n",
    "esta caso,columnas)"
   ]
  },
  {
   "cell_type": "markdown",
   "metadata": {
    "slideshow": {
     "slide_type": "slide"
    }
   },
   "source": [
    "**Ejercicio**: Modificar el nivel de transparencia y el número de columnas\n",
    "en el código anterior."
   ]
  },
  {
   "cell_type": "markdown",
   "metadata": {},
   "source": [
    "**Miniproyecto**: realizar una simulación de 10000 tiradas de dos dados, y guardar en\n",
    "una lista la suma de los dos dados, para obtener al final 100 datos.\n",
    "Representar esos datos con un histograma."
   ]
  },
  {
   "cell_type": "code",
   "execution_count": 69,
   "metadata": {},
   "outputs": [
    {
     "data": {
      "image/png": "[encoded data removed]",
      "text/plain": [
       "<Figure size 432x288 with 1 Axes>"
      ]
     },
     "metadata": {
      "needs_background": "light"
     },
     "output_type": "display_data"
    }
   ],
   "source": [
    "import random\n",
    "\n",
    "def dice(faces=6):\n",
    "    return random.randrange(1, faces + 1)\n",
    " \n",
    "data = [dice()+dice() for _ in range(10000)]\n",
    "\n",
    "plt.hist(data, bins = 11, color='brown', alpha=0.8)\n",
    "plt.show()"
   ]
  }
 ],
 "metadata": {
  "celltoolbar": "Slideshow",
  "kernelspec": {
   "display_name": "Python 3",
   "language": "python",
   "name": "python3"
  },
  "language_info": {
   "codemirror_mode": {
    "name": "ipython",
    "version": 3
   },
   "file_extension": ".py",
   "mimetype": "text/x-python",
   "name": "python",
   "nbconvert_exporter": "python",
   "pygments_lexer": "ipython3",
   "version": "3.6.9"
  }
 },
 "nbformat": 4,
 "nbformat_minor": 4
}
