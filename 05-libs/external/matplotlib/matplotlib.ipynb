{
 "cells": [
  {
   "cell_type": "markdown",
   "metadata": {
    "slideshow": {
     "slide_type": "slide"
    }
   },
   "source": [
    "## La librería matplotlib\n",
    "\n",
    "**Matplotlib** es una de la librerias de visualizacion de datos\n",
    "mas potentes de Python. Su objetivo declarado es hacer sencillas\n",
    "las cosas faciles y posibles las dificiles. Con ella se pueden\n",
    "generar gradicas, histogrames, gráficos de barra, de dispersion, etc. con unas pocas lineas de codigo."
   ]
  },
  {
   "cell_type": "markdown",
   "metadata": {
    "slideshow": {
     "slide_type": "slide"
    }
   },
   "source": [
    "### Instalar matplotlib\n",
    "\n",
    "Si no esta instalada, se puede instalar con pip"
   ]
  },
  {
   "cell_type": "code",
   "execution_count": 6,
   "metadata": {
    "slideshow": {
     "slide_type": "slide"
    }
   },
   "outputs": [
    {
     "name": "stdout",
     "output_type": "stream",
     "text": [
      "Requirement already satisfied: matplotlib in /Users/juan.rodriguezdeleonlocal/.virtualenvs/eoi/lib/python3.7/site-packages (3.2.1)\n",
      "Requirement already satisfied: numpy>=1.11 in /Users/juan.rodriguezdeleonlocal/.virtualenvs/eoi/lib/python3.7/site-packages (from matplotlib) (1.18.3)\n",
      "Requirement already satisfied: kiwisolver>=1.0.1 in /Users/juan.rodriguezdeleonlocal/.virtualenvs/eoi/lib/python3.7/site-packages (from matplotlib) (1.2.0)\n",
      "Requirement already satisfied: python-dateutil>=2.1 in /Users/juan.rodriguezdeleonlocal/.virtualenvs/eoi/lib/python3.7/site-packages (from matplotlib) (2.8.1)\n",
      "Requirement already satisfied: pyparsing!=2.0.4,!=2.1.2,!=2.1.6,>=2.0.1 in /Users/juan.rodriguezdeleonlocal/.virtualenvs/eoi/lib/python3.7/site-packages (from matplotlib) (2.4.6)\n",
      "Requirement already satisfied: cycler>=0.10 in /Users/juan.rodriguezdeleonlocal/.virtualenvs/eoi/lib/python3.7/site-packages (from matplotlib) (0.10.0)\n",
      "Requirement already satisfied: six>=1.5 in /Users/juan.rodriguezdeleonlocal/.virtualenvs/eoi/lib/python3.7/site-packages (from python-dateutil>=2.1->matplotlib) (1.14.0)\n",
      "Note: you may need to restart the kernel to use updated packages.\n"
     ]
    }
   ],
   "source": [
    "pip install matplotlib"
   ]
  },
  {
   "cell_type": "markdown",
   "metadata": {
    "slideshow": {
     "slide_type": "slide"
    }
   },
   "source": [
    "### Importar la librería\n",
    "\n",
    "Para poder usar matplotlib hay que importarla, como todas las librerías, pero en este caso normalmente la importación se suele hacer así:"
   ]
  },
  {
   "cell_type": "code",
   "execution_count": 1,
   "metadata": {
    "slideshow": {
     "slide_type": "slide"
    }
   },
   "outputs": [],
   "source": [
    "import matplotlib.pyplot as plt"
   ]
  },
  {
   "cell_type": "markdown",
   "metadata": {
    "slideshow": {
     "slide_type": "slide"
    }
   },
   "source": [
    "Esta es una práctica común que permite usar la librería con el nombre \n",
    "abreviado `plt`; de esta forma nos ahorramos pulsar varias teclas\n",
    "cada vez que la usamos."
   ]
  },
  {
   "cell_type": "markdown",
   "metadata": {
    "slideshow": {
     "slide_type": "slide"
    }
   },
   "source": [
    "### Gráficas de líneas"
   ]
  },
  {
   "cell_type": "markdown",
   "metadata": {
    "slideshow": {
     "slide_type": "slide"
    }
   },
   "source": [
    "Podemos crear nuestra primera gráfica con solo cuatro líneas:\n",
    "\n",
    "1) Definir los datos del eje X\n",
    "\n",
    "2) definir los datos del eje Y\n",
    "\n",
    "3) Decidir que tipo de gráfico queremos: de barras, de líneas, etc.\n",
    "\n",
    "4) Mostrar el gráfico"
   ]
  },
  {
   "cell_type": "code",
   "execution_count": 86,
   "metadata": {
    "scrolled": true,
    "slideshow": {
     "slide_type": "slide"
    }
   },
   "outputs": [
    {
     "data": {
      "image/png": "iVBORw0KGgoAAAANSUhEUgAAAYMAAAD4CAYAAAAO9oqkAAAABHNCSVQICAgIfAhkiAAAAAlwSFlzAAALEgAACxIB0t1+/AAAADh0RVh0U29mdHdhcmUAbWF0cGxvdGxpYiB2ZXJzaW9uMy4yLjEsIGh0dHA6Ly9tYXRwbG90bGliLm9yZy+j8jraAAAgAElEQVR4nO3dd5iU1dnH8e8tKwgSwUKIgggoFnytbJBXA1FBBCwQRYNRQUVBxIIYEXtXVOwFRVGxIkGjvIoaRGxYwmJBBQ0ISAlIs4MgcN4/7mfjSHYpuztzpvw+1zXXzpx5Zue3s7N7z/Oc85xjIQRERKSwbRI7gIiIxKdiICIiKgYiIqJiICIiqBiIiAhQFDtARW2zzTahcePGsWOIiOSMSZMmLQ4h1CvrvpwtBo0bN6akpCR2DBGRnGFmX5Z3nw4TiYiIioGIiKgYiIgIKgYiIoKKgYiIsAHFwMweNLOFZvZJSttWZjbWzKYlX7dM2s3M7jCz6WY22cz2TXlMj2T7aWbWI6W9hZl9nDzmDjOzqv4hRURk3TZkz+BhoMNabQOBcSGEZsC45DZAR6BZcukFDAEvHsDlwH5AS+Dy0gKSbHNayuPWfi4REUmz9RaDEMIbwNK1mjsDw5Prw4EuKe2PBPcuUNfMtgUOBcaGEJaGEL4GxgIdkvu2CCG8G3wu7UdSvlfVW74cBg+G8ePT9hQiIrmoon0G9UMI85PrC4D6yfUGwJyU7eYmbetqn1tGe5nMrJeZlZhZyaJFizY+9aabwi23+EVERP6j0h3IySf6jKyQE0IYGkIoDiEU16tX5hnV61ZUBCefDGPGwNy5699eRKRAVLQYfJUc4iH5ujBpnwdsn7Jdw6RtXe0Ny2hPn549Yc0aeOihtD6NiEguqWgxGA2UjgjqATyX0t49GVXUCvg2OZz0MtDezLZMOo7bAy8n931nZq2SUUTdU75XejRtCu3awbBhXhRERHLFqFFwxRWwcmWVf+sNGVr6JPAOsIuZzTWznsAg4BAzmwa0S24DjAFmANOB+4EzAEIIS4GrgYnJ5aqkjWSbB5LHfAG8WDU/2jqcdhp8+SWMHZv2pxIRqTI33wwjR3r/ZxUzP+Sfe4qLi0OFZy1dsQIaNoQ2beDpp6s2mIhIOnzyCeyxhw+AOffcCn0LM5sUQigu677CPAO5Rg3o0QNGj4avvoqdRkRk/e6/H6pXhxNPTMu3L8xiAHDqqbBqFTz8cOwkIiLr9tNP8Oij8Kc/wTbbpOUpCrcY7LortG4NDzwAOXqoTEQKxKhR8PXX3t+ZJoVbDMBf2OnT4bXXYicRESnffffBTjvBQQel7SkKuxh07Qp16/qxOBGRbPTpp/DWW9CrF2ySvn/ZhV0MataEE07wEUVLlsROIyLy34YO9Y7jk05K69MUdjEAP1S0cqV3zoiIZJPly+GRR+Coo6AiU/BsBBWDPfeEli39UJE6kkUkm4wcCd98A6efnvanUjEA3zuYMgXeeSd2EhGRX9x7r498bNMm7U+lYgDQrRvUru3H5kREssHkyfDuu95xnIEFIFUMwAvB8cfDU0/B0rXX8RERieC++36ZLSEDVAxK9enjZ/npjGQRie3HH+Gxx+CYY2CrrTLylCoGpfbaC/bf34/RaWprEYlpxAj47jvo3TtjT6likKpPH5g2DV59NXYSESlk990HzZvDAQdk7ClVDFJ17eqTQN1zT+wkIlKoPvgAJk704aQZ6DgupWKQarPN4JRTfGrreeldfVNEpEz33eezI6RpquryqBisrXdv7zPQfEUikmnffw+PPw5//rPPm5ZBKgZra9oUOnTwcw5+/jl2GhEpJI89Bj/8kNGO41IqBmXp0wfmz/fDRSIimRAC3HUXtGgB++2X8adXMShLp07QqBEMGRI7iYgUitdf92lx+vbNaMdxKRWDslSr5rtp48bB55/HTiMiheCuu/wEs27dojy9ikF5evaETTf1k9BERNJp7lx49llfm71mzSgRVAzKU78+HH20T0+xbFnsNCKSz+67z0cxZmCq6vKoGKxLnz4+l/iIEbGTiEi+WrHCRy8efjg0aRIthorBurRuDbvvDnffrYVvRCQ9Ro2ChQvhzDOjxlAxWBcz/wW9/74WvhGR9Lj7bmjWDNq1ixpDxWB9TjwR6tSBO+6InURE8s2kSf5Bs29f2CTuv2MVg/XZfHPv4R81ynv8RUSqyt13Q61aGVvAZl1UDDZE377e069hpiJSVZYsgSef9KMPGZ6HqCwqBhuiSRM48kgf/vXTT7HTiEg+ePBB/3/St2/sJICKwYY7+2xYvFjDTEWk8lav9nVT2rSBPfaInQaoZDEws3PN7FMz+8TMnjSzzcysiZm9Z2bTzewpM6uebFsjuT09ub9xyve5MGn/3MwOrdyPlCYHHeTDTO+4Q8NMRaRyxoyBWbOiDydNVeFiYGYNgLOB4hDC/wDVgG7ADcCtIYSdgK+BnslDegJfJ+23JtthZs2Tx+0OdADuMbNqFc2VNma+d/DBBzBhQuw0IpLLbrsNGjaELl1iJ/mPyh4mKgJqmlkRUAuYDxwMjEruHw6U/rSdk9sk97c1M0vaR4QQVoQQZgLTgZaVzJUeJ5wAW26pYaYiUnGTJ/s662ee6fOfZYkKF4MQwjxgMDAbLwLfApOAb0IIq5LN5gINkusNgDnJY1cl22+d2l7GY37FzHqZWYmZlSxatKii0SuuVi047TR45hmYM2f924uIrO222375X5JFKnOYaEv8U30TYDtgc/wwT9qEEIaGEIpDCMX16tVL51OV74wzvM9Aax2IyMZauNCXtezRw6erziKVOUzUDpgZQlgUQvgZeAY4AKibHDYCaAiUriw/D9geILm/DrAktb2Mx2SfHXbw43xDh8Ly5bHTiEguGTIEVq6Ec86JneS/VKYYzAZamVmt5Nh/W2AKMB7ommzTA3guuT46uU1y/6shhJC0d0tGGzUBmgH/rESu9Dv7bD9h5IknYicRkVzx008+nLRTJ9hll9hp/ktl+gzewzuC3wc+Tr7XUOACoL+ZTcf7BIYlDxkGbJ209wcGJt/nU2AkXkheAvqGEFZXNFdGtGkDe+4Jt9+uYaYismFGjPDDROeeGztJmSzk6D+z4uLiUFJSEi/Agw/6amhjx0afbVBEslwIsPfePq3N5MlR1jgGMLNJIYTisu7TGcgVdfzxvhrazTfHTiIi2e6117wI9OsXrRCsj4pBRdWoAWedBS+9BJ98EjuNiGSzW2+FbbbxD5FZSsWgMk4/3RevvuWW2ElEJFtNmwbPP+/L6G62Wew05VIxqIytt4aTT/ZxwwsWxE4jItnojjugqMjPUcpiKgaVde658PPPcNddsZOISLb55ht46CE47jj43e9ip1knFYPK2mkn6NzZTyb58cfYaUQkm9x/v/9f6NcvdpL1UjGoCuedB0uXwvDh699WRArDypU+D9FBB8E++8ROs14qBlXhgAOgZUsfMbA6u8+XE5EMeeIJ+Pe/4YILYifZICoGVcHM9w6mT4f/+7/YaUQktjVr4KabfKaC9u1jp9kgKgZV5aijoHFjGDw4dhIRiW3MGJgyBQYMyNqTzNamYlBVioq8k2jCBHjvvdhpRCSmG2+ERo3g2GNjJ9lgKgZV6ZRToE4dTVEhUsjeeQfefBP698+qlczWR8WgKv3mN9C7Nzz9NHzxRew0IhLDTTf58rg9e65/2yyiYlDVzjnHDxnddFPsJCKSaZ9/Ds8+62cb164dO81GUTGoatttByed5Gcdzp8fO42IZNLNN0P16j6JZY5RMUiHAQNg1So/70BECsOCBX7i6Ukn+fT2OUbFIB123NFHEQwZAl9/HTuNiGTCnXf6PGXnnRc7SYWoGKTLBRfADz/4mqcikt++/97/1o86Cpo1i52mQlQM0mXvvaFjR5+bZNmy2GlEJJ3uv99nKD3//NhJKkzFIJ0uvBAWL4Zhw2InEZF0+ekn7zj+4x9hv/1ip6kwFYN0at3aJ7EbPNiPJYpI/nn4YZ+Q7pJLYiepFBWDdLvwQpg922cwFJH88vPPMGiQ7xG0bRs7TaWoGKRbp06wxx5www0+k6GI5I8nnoAvv/S9ghyZkK48KgbpZgYDB8LUqTB6dOw0IlJVVq+G666DvfaCww6LnabSVAwy4dhjoWlTuP56CCF2GhGpCqNGwb/+lRd7BaBikBlFRT7k7J//hFdeiZ1GRCprzRq49lrYbTc/tyAPqBhkysknQ4MGcOWV2jsQyXXPPw8ff+wDRDbJj3+j+fFT5IIaNbzvYMIEGD8+dhoRqagQ4JproEkTOO642GmqjIpBJp16qs9qeuWVsZOISEWNHQsTJ/peQVFR7DRVRsUgkzbbzOcseuMNeO212GlEpCKuvRYaNoTu3WMnqVKVKgZmVtfMRpnZZ2Y21cz+18y2MrOxZjYt+bplsq2Z2R1mNt3MJpvZvinfp0ey/TQz61HZHyqrnXYa/O532jsQyUVvvOGXAQP80G8eqeyewe3ASyGEXYG9gKnAQGBcCKEZMC65DdARaJZcegFDAMxsK+ByYD+gJXB5aQHJSzVr+t7Ba6/5m0pEcsc118Bvf+uHfPNMhYuBmdUB2gDDAEIIK0MI3wCdgeHJZsOBLsn1zsAjwb0L1DWzbYFDgbEhhKUhhK+BsUCHiubKCb17++IX2jsQyR1vvun9BRdc4B/q8kxl9gyaAIuAh8zsAzN7wMw2B+qHEErXe1wAlC750wCYk/L4uUlbee3/xcx6mVmJmZUsWrSoEtEjq1nTdzNffRXeeit2GhHZEJdd5od4Tz89dpK0qEwxKAL2BYaEEPYBfuSXQ0IAhBACUGWD6kMIQ0MIxSGE4nr16lXVt43j9NN9d1N7ByLZb/x4P7R74YVQq1bsNGlRmWIwF5gbQngvuT0KLw5fJYd/SL4uTO6fB2yf8viGSVt57fmtVi0/K/mVV+Dtt2OnEZHyhACXXuonjfbqFTtN2lS4GIQQFgBzzGyXpKktMAUYDZSOCOoBPJdcHw10T0YVtQK+TQ4nvQy0N7Mtk47j9klb/uvTB+rV096BSDYbO9ZPFr34Yh8enqcqe8bEWcDjZlYdmAGcjBeYkWbWE/gSODbZdgzQCZgOLEu2JYSw1MyuBiYm210VQlhayVy5YfPN4a9/9Q6pt9+G/fePnUhEUoXgfQWNGsEpp8ROk1YWcnSenOLi4lBSUhI7RuX9+KPPaNq8uXco58HshyJ544UX4PDDYehQP0cox5nZpBBCcVn36Qzk2Dbf3Hc/X3sNxo2LnUZESpXuFTRpAiedFDtN2qkYZIPevWH77eGiizSjqUi2GD0a3n/fC8Kmm8ZOk3YqBtmgRg244gqf/Oq559a7uYik2Zo1XgSaNYMTToidJiNUDLJF9+6w884+hG316thpRArbM8/A5Mlw+eV5NTPpuqgYZIuiIrj6avjkExgxInYakcK1erUXgV13hW7dYqfJGBWDbNK1qy+ufdll8PPPsdOIFKZHH4UpU/zDWbVqsdNkjIpBNtlkE58rfcYMePDB2GlECs9PP/mHseJiOPro2GkySsUg23Tq5CefXXUVLF8eO41IYbnnHpgzBwYNKrhzflQMso0ZXHcd/Pvf/sYUkcz49lv/2zvkEGjbNnaajFMxyEZ//CO0bw/XXw/ffRc7jUhhGDwYlizxv7sCpGKQra691t+YgwfHTiKS/xYsgFtugWOPhRYtYqeJQsUgWxUX+xvz5pv9kJGIpM8118CKFf61QKkYZLPrrvMhpldcETuJSP764gu47z5f17hZs9hpolExyGY77ghnnAHDhvm4ZxGpehdd5HMPXXZZ7CRRqRhku0sugdq1fc0DEala77wDI0f6uiLbbRc7TVQqBtlum238k8vzz/s01yJSNUKA887zRe4HDIidJjoVg1xw9tk+xfX55/tsiiJSeU8/7XsGV1/te98FTsUgF9Ss6aMcSkp8l1ZEKmfFCj/0+j//AyefHDtNVlAxyBXHH++T2F14oc+fIiIVd889PgfY4MEFNRnduqgY5Ipq1fyNO2sW3HZb7DQiuWvpUj801L49HHpo7DRZQ8Ugl7RrB0ce6Wcnz58fO41IbrrmGp+HSGf3/4qKQa4ZPNiPd15ySewkIrnnX/+Cu+7yfoI99oidJquoGOSaZs3gnHPgoYd8sW4R2XD9+8NmmxX0tBPlUTHIRZdc4ucfnHOOj5UWkfV78UV44QU/0/h3v4udJuuoGOSiOnX8k81bb8Hf/hY7jUj2W7kS+vXzPeuzz46dJiupGOSqnj19qOmAAVoRTWR97rzT+wtuvRWqV4+dJiupGOSqatX8jf3llxoVIbIuX33ly8h27AiHHRY7TdZSMchlBx0EXbv6ykyzZsVOI5KdLr4Yli3zD09SLhWDXHfLLb5u8rnnxk4ikn0mTYIHH/TBFrvsEjtNVlMxyHXbbw+XXgrPPuujJUTErVkDfftCvXr+NyLrpGKQD/r39089Z52leYtESg0bBu+9531qderETpP1Kl0MzKyamX1gZs8nt5uY2XtmNt3MnjKz6kl7jeT29OT+xinf48Kk/XMz02QhG6t6dR8t8cUX6kwWAVi0yGclbdMGTjghdpqcUBV7BucAU1Nu3wDcGkLYCfga6Jm09wS+TtpvTbbDzJoD3YDdgQ7APWamaQQ31iGHeGfyddepM1lk4ED4/nufndQsdpqcUKliYGYNgcOAB5LbBhwMjEo2GQ50Sa53Tm6T3N822b4zMCKEsCKEMBOYDrSsTK6Cpc5kEZgwwTuN+/eH3XePnSZnVHbP4DZgAFC6/NbWwDchhFXJ7blAg+R6A2AOQHL/t8n2/2kv4zG/Yma9zKzEzEoWLVpUyeh5KLUz+fnnY6cRybxVq6BPn1/+FmSDVbgYmNnhwMIQwqQqzLNOIYShIYTiEEJxvXr1MvW0uaX001DfvvDDD7HTiGTWnXfCxx/D7bdrKcuNVJk9gwOAI81sFjACPzx0O1DXzIqSbRoC85Lr84DtAZL76wBLUtvLeIxsrOrV4b77YPZsn5BLpFDMnevv+U6doEuX9W8vv1LhYhBCuDCE0DCE0BjvAH41hHA8MB7ommzWA3guuT46uU1y/6shhJC0d0tGGzUBmgH/rGguAQ44AHr39k9HkzK24yYSTwi+N7x6te8dqNN4o6XjPIMLgP5mNh3vExiWtA8Dtk7a+wMDAUIInwIjgSnAS0DfEMLqNOQqLIMGwW9/C716+XFUkXz29NMwerTPQdS0aew0OclCjs6HX1xcHEpKSmLHyG4jR8Kf/+yjjDTCSPLV11/DbrtBgwZ+kllR0fofU6DMbFIIobis+3QGcj475hg/fnrppd6HIJKPzj8fFi+GBx5QIagEFYN8ZgZ33+3HU/v00apokn/Gj/dpJ847D/bZJ3aanKZikO8aN4Zrr4UxY+Cxx2KnEak6y5d7n9iOO8Lll8dOk/NUDArBWWfB/vv7NL7z58dOI1I1rroKpk/3odS1asVOk/NUDApBtWp+ev7y5TpcJPlh4kS48UY4+WRo2zZ2mrygYlAodtkFrr4annsORoyInUak4n76CXr0gO220+plVUjFoJCcey7st58fNvrqq9hpRCrmsstg6lTvONY6BVVGxaCQVKsGDz3kcxb17Rs7jcjGe/ttX7OjVy9o3z52mryiYlBodtsNrrjCz9jU4SLJJcuWwUknQaNGWsQpDVQMCtFf/wqtWnln8jzNCSg54pJLYNo0Hwzxm9/ETpN3VAwKUVERPPoorFzpn7TWrFnvQ0SieuMNuO02P7x58MGx0+QlFYNCtdNOPhLjlVfgrrtipxEp3zffwIkn+sllgwbFTpO3VAwK2WmnweGH+8LhU6bETiPy30qnUpk3Dx5/XAvWpJGKQSEz88m9ateGE07ww0Yi2eTxx32gw5VXQkstjZ5OKgaFrn59LwgffOCjjESyxcyZcMYZ8Ic/wMCBsdPkPRUDgc6doWdPPx776qux04j4gkwnnuh7r4895ufISFqpGIi7/XafsuL442HhwthppNBdfz1MmABDhsAOO8ROUxBUDMRtvjk89ZSvGtWjh4abSjxvvul9BH/5i18kI1QM5Bd77unDTV96CW6+OXYaKUSLFkG3br6O8ZAhsdMUFBUD+bXTT4ejj4aLLoJ3342dRgrJmjXeT7Bkia/fvcUWsRMVFBUD+bXS4aYNGsBxx/kJPyKZcMMN8PLL3n+1996x0xQcFQP5b3Xr+tjuuXM1XYVkxhtv+NxDxx3nM5JKxqkYSNlatYKbbvLFcG68MXYayWcLF3oR2HFHX8LSLHaigqRiIOU75xz485/h4ot9DiORqrZqlReCJUvgb3/TbKQRqRhI+Ur7D3bd1f9gZ8+OnUjyzcCBfqLjvffCXnvFTlPQVAxk3WrXhmeegRUroGtX/ypSFZ580ocwn3mm901JVCoGsn677ALDh8PEiXD22bHTSD746COfAqV1a7jllthpBBUD2VB/+pPv0g8d6rv0IhW1ZAl06QJbbeX9BJtuGjuRAEWxA0gOueYa+Phj363feWetOCUbr7TD+N//9mkn6tePnUgS2jOQDVetGjzxhHcod+3q69GKbIxzz4WxY32qCa1PkFUqXAzMbHszG29mU8zsUzM7J2nfyszGmtm05OuWSbuZ2R1mNt3MJpvZvinfq0ey/TQz61H5H0vSZostYPRo2GQTOOIInaEsG+7OO32J1b/+FU45JXYaWUtl9gxWAeeFEJoDrYC+ZtYcGAiMCyE0A8YltwE6As2SSy9gCHjxAC4H9gNaApeXFhDJUk2b+gijGTP8PIRVq2Inkmw3Zgz06+d9BVrHOCtVuBiEEOaHEN5Prn8PTAUaAJ2B4clmw4EuyfXOwCPBvQvUNbNtgUOBsSGEpSGEr4GxQIeK5pIMadPGd/X/8Q8/OS2E2IkkW02e7B8a9t5bC9VksSrpQDazxsA+wHtA/RDC/OSuBUBpD1EDYE7Kw+YmbeW1l/U8vfC9Cho1alQV0aUyevaEzz6DwYN9AZIBA2Inkmwzfz4cfjjUqeOHFzffPHYiKUeli4GZ1QaeBvqFEL6zlHlFQgjBzKrsI2MIYSgwFKC4uFgfRbPBDTf4hHYXXADbbQcnnBA7kWSL77/3fqWlS33kUIMyP+NJlqjUaCIz2xQvBI+HEJ5Jmr9KDv+QfC1dQ3EesH3KwxsmbeW1Sy7YZBN4+GE48EA4+WTNYSRuxQo/N+XDD31tgn32iZ1I1qMyo4kMGAZMDSGknkI4GigdEdQDeC6lvXsyqqgV8G1yOOlloL2ZbZl0HLdP2iRX1KgBf/877LYbHHWU/wOQwrV6NXTvDuPGwUMPQadOsRPJBqjMnsEBwInAwWb2YXLpBAwCDjGzaUC75DbAGGAGMB24HzgDIISwFLgamJhcrkraJJfUresjRurUgY4dYebM2IkkhhB8QMHIkd6XdOKJsRPJBrKQo6NAiouLQ0lJSewYsrZPP/X5ZurW9QVLGjaMnUgy6eqr4bLL/FyCm26KnUbWYmaTQgjFZd2nM5Clau2+uy9duHgxtGvnC5dIYbjzTi8E3bv7wALJKSoGUvV+/3t44QVf/+CQQ3w0ieS3e+/1GW27dPE1MDbRv5Zco9+YpEfr1r5k5mefeR/Cd9/FTiTp8sAD0KePn0/w1FOahTRHqRhI+hxyiE9R/P77cNhhPu5c8svw4b6AfYcOMGoUVK8eO5FUkIqBpNeRR/pMp++8A+3ba2K7fPL4435uSdu2PldVjRqxE0klqBhI+h1zjH9qnDTJ/3EsWRI7kVTWsGE+bPSPf/TDgTVrxk4klaRiIJnRpQs8+6wPPT34YI0yymW33Qannup7ei+8ALVqxU4kVUDFQDKnUyd4/nlfFOfAA321K8kdIcBVV/kCNUcf7XsEKgR5Q8VAMqtdO3jpJZgzB/bf30cbSfYLAc4/Hy6/HE46CUaMUB9BnlExkMxr0wZeew2WL4cDDoC3346dSNZl5UrvKL75ZjjrLO8vKNLy6flGxUDiaNHCRxhtvbV3Kj/7bOxEUpZvvvHzRIYPhyuvhNtv1wlleUq/VYmnaVOYMAH22suPQQ8ZEjuRpJo1y/fc3nwTHnnEp5pIWa9E8ouKgcRVrx68+qp3Lp9xhh+G+Pnn2Klk4kRo1co7+f/xD80+WgBUDCS+WrV8PYTzzoO77vIhi4sXx05VuB5/3M8fqFnT+3MOPDB2IskAFQPJDkVFPv/98OHel/D73/tC6pI5P/8M/fr50qXFxfDuu75gkRQEFQPJLt27+zoIK1fC//6vT3wm6bdggXfk3367F4Rx46B+/dipJINUDCT7tGwJJSXesdytG/TuDcuWxU6VvyZM8NFdJSV+iOjWWzXzaAFSMZDstO228PrrcMEFMHSoF4gpU2Knyi+rVsEVV/h5H5tt5oeF/vKX2KkkEhUDyV6bbgqDBvkZywsX+nHsYcP8bFipnBkzvAhceSUcf7xPM77nnrFTSUQqBpL9Dj0UPvrIp6849VSfFnvevNipclMIfs7A3nv7ntYTT/jtOnViJ5PIVAwkN2y7ra+tfMst3rm5++7w0EPaS9gYs2fDEUdAjx5eDD76CI47LnYqyRIqBpI7qlXzGTMnT/bO5VNO8akSZs+OnSy7rV7to4SaN4fx432OofHjYYcdYieTLKJiILlnp538n9mdd8Jbb/lY+Guu8Ynv5Nc++MDPJO7Xz/sIPv0U+vf3wiqSQsVActMmm8CZZ/o/t44d4dJL/ZPv00/r0BH4NBKnnOJDRmfPhief9IVoGjeOnUyylIqB5LYddvAlNV99FWrXhq5d/eSpkpLYyeL44Qdfc6BZMz9noH9/XzOiWzdNMifrpGIg+eGgg/yQyF13ecfo73/vo47efz92ssxYtswPmzVr5quRHXEETJ3qU3xsuWXsdJIDVAwkfxQVQd++MHMmXH21T73cooWvv5yvReHbb+H66/3wz9lnw847+9xOI0b4FOEiG0jFQPLPFlvAJZf4fPxXXeVnMrdo4R2oo0b5mbe57ssv4aKL/DDZRRf5z/fGG/6ztmoVO53kIBUDyV916njH8syZfrhk7lw45hho0gSuu84nZ8slq1b5inCdOgCd1TAAAAeLSURBVPnPMGiQryk9aRK8+CK0bh07oeQwCzk68qK4uDiUFGonoVTM6tU+oubOO+GVV3xE0kEH+YlXRx2VncfWQ/BDXCNHwmOP+Sih7baDnj39onMFZCOY2aQQQnGZ96kYSEH6/HMfbfPkkzB9OlSvDh06wOGH+1DVhg3jZVuxws+fePFFX/RnxgzvD2nfHnr1gsMO04L0UiE5UQzMrANwO1ANeCCEMGhd26sYSJUIwYehPvmk9yfMmePtu+/ufQwHHOCXHXZI39DMZcs8w4QJXgRefx1+/NEL1IEHwrHHeif41lun5/mlYGR9MTCzasC/gEOAucBE4LgQQrlzFqsYSJULwYdjvvgijB3rSz5+/73ft+WWPqvnHnv4GdBNmvilfn3Yaqt1f1IPwf+5L1rkxWbmTL9MmeJTa0ybBmvW+LbNm/uSkx07+iGs2rXT/3NLwVhXMciWfc2WwPQQwgwAMxsBdAY0gb1kjpn/M27e3NdjXr0aPv7Yh2p+9JH/4374YT+xa2116/pazjVq+Cf61at9tbYVK+Cbb/zr2s/VpMkvC/i0aOF7IFttlZEfVWRt2VIMGgBzUm7PBfZbeyMz6wX0AmjUqFFmkknhqlbNZ/fce+9f2kKAxYv9k/2sWb7OwpIl3rZ8+S8FoFo1Lww1aviopm228cM8DRt6EWjUyO8TyRLZUgw2SAhhKDAU/DBR5DhSiMygXj2/tGwZO41IlcmW8wzmAdun3G6YtImISAZkSzGYCDQzsyZmVh3oBoyOnElEpGBkxWGiEMIqMzsTeBkfWvpgCOHTyLFERApGVhQDgBDCGGBM7BwiIoUoWw4TiYhIRCoGIiKiYiAiIioGIiJClsxNVBFmtgj4soIP3wZYXIVxqopybbxszaZcG0e5Nl5Fsu0QQqhX1h05Wwwqw8xKypusKSbl2njZmk25No5ybbyqzqbDRCIiomIgIiKFWwyGxg5QDuXaeNmaTbk2jnJtvCrNVpB9BiIi8muFumcgIiIpVAxERCS/i4GZHWNmn5rZGjMrXuu+C81supl9bmaHprR3SNqmm9nADOV8ysw+TC6zzOzDpL2xmS1Pue/eTORJyXWFmc1Lef5OKfeV+fplKNdNZvaZmU02s7+bWd2kPerrlWTI+PunnBzbm9l4M5uS/A2ck7SX+zvNcL5ZZvZxkqEkadvKzMaa2bTk65YZzrRLyuvyoZl9Z2b9YrxmZvagmS00s09S2sp8fczdkbznJpvZvhV60hBC3l6A3YBdgNeA4pT25sBHQA2gCfAFPnV2teR6U6B6sk3zDGe+Gbgsud4Y+CTi63cF8Ncy2st8/TKYqz1QlFy/AbghS16v6O+flCzbAvsm138D/Cv5vZX5O42QbxawzVptNwIDk+sDS3+vEX+XC4AdYrxmQBtg39T3c3mvD9AJeBEwoBXwXkWeM6/3DEIIU0MIn5dxV2dgRAhhRQhhJjAdaJlcpocQZoQQVgIjkm0zwswMOBZ4MlPPWUHlvX4ZEUL4RwhhVXLzXXxlvGwQ9f2TKoQwP4TwfnL9e2AqvtZ4NusMDE+uDwe6RMzSFvgihFDRWQ4qJYTwBrB0rebyXp/OwCPBvQvUNbNtN/Y587oYrEMDYE7K7blJW3ntmdIa+CqEMC2lrYmZfWBmr5tZ6wxmKXVmsuv5YMpue+zXKdUp+KeiUjFfr2x6Xf7DzBoD+wDvJU1l/U4zLQD/MLNJZtYraasfQpifXF8A1I8TDfDVFlM/lGXDa1be61Ml77ucLwZm9oqZfVLGJconsvJsYM7j+PUbcD7QKISwD9AfeMLMtshgriHAjsDeSZabq/K5K5GrdJuLgVXA40lT2l+vXGNmtYGngX4hhO+I+Dtdyx9CCPsCHYG+ZtYm9c7gxz+ijHs3X3r3SOBvSVO2vGb/kY7XJ2tWOquoEEK7CjxsHrB9yu2GSRvraK+U9eU0syLgKKBFymNWACuS65PM7AtgZ6CkKjJtSK6UfPcDzyc31/X6ZSSXmZ0EHA60Tf4wMvJ6rUfaX5eNYWab4oXg8RDCMwAhhK9S7k/9nWZUCGFe8nWhmf0dP8T2lZltG0KYnxzmWBgjG16g3i99rbLlNaP816dK3nc5v2dQQaOBbmZWw8yaAM2AfwITgWZm1iT5dNAt2TYT2gGfhRDmljaYWT0zq5Zcb5rknJGhPKx13PFPQOnIhvJev0zl6gAMAI4MISxLaY/6ehH3/fMrSf/TMGBqCOGWlPbyfqeZzLa5mf2m9Do+IOAT/LXqkWzWA3gu09kSv9pDz4bXLFHe6zMa6J6MKmoFfJtyOGnDxeipz2CP/J/w42crgK+Al1Puuxgf+fE50DGlvRM+8uIL4OIMZn0YOH2ttqOBT4EPgfeBIzL8+j0KfAxMTt5w267v9ctQrun4MdIPk8u92fB6xXz/lJHjD/hhhMkpr1Ondf1OM5itKT7S6qPk93Vx0r41MA6YBrwCbBUh2+bAEqBOSlvGXzO8GM0Hfk7+h/Us7/XBRxHdnbznPiZl5OTGXDQdhYiIFOxhIhERSaFiICIiKgYiIqJiICIiqBiIiAgqBiIigoqBiIgA/w9QB1Cm28JaOgAAAABJRU5ErkJggg==\n",
      "text/plain": [
       "<Figure size 432x288 with 1 Axes>"
      ]
     },
     "metadata": {
      "needs_background": "light"
     },
     "output_type": "display_data"
    }
   ],
   "source": [
    "import matplotlib.pyplot as plt\n",
    "\n",
    "x_values = [0,1,2,3,4,5]  # Datos eje X\n",
    "squares = [0,1,4,9,16,25]  # Datos eje Y\n",
    "plt.plot(x_values, squares)  # plot usa un grafico de lineas \n",
    "plt.show()  # Mostrar la imagen"
   ]
  },
  {
   "cell_type": "markdown",
   "metadata": {},
   "source": [
    "Estrictamente hablando, ni siquiera necesitamos los valores en X. Si se le pasa una unica serie de valores a plot/bar, la librería asume que se trata de una secuencia de valores $y$, y genera automáticamente los valores de $x$. Eso si, como es Python, la secuencia se numera empezando por el cero."
   ]
  },
  {
   "cell_type": "code",
   "execution_count": 88,
   "metadata": {
    "scrolled": true,
    "slideshow": {
     "slide_type": "slide"
    }
   },
   "outputs": [
    {
     "data": {
      "image/png": "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\n",
      "text/plain": [
       "<Figure size 432x288 with 1 Axes>"
      ]
     },
     "metadata": {
      "needs_background": "light"
     },
     "output_type": "display_data"
    }
   ],
   "source": [
    "import matplotlib.pyplot as plt\n",
    "\n",
    "squares = [0,1,4,9,16,25, 36, 49]\n",
    "plt.plot(squares)\n",
    "plt.title(\"Ventas\")\n",
    "plt.show()"
   ]
  },
  {
   "cell_type": "markdown",
   "metadata": {},
   "source": [
    "Hemos llamado a la función `title` para añadir un título a la gráfica. Esta es la forma de trabajar con matplotlib, se van creando las gráficas mediante varios pasos, y cuando llamamos a `show()` se aplican todos estos pasos y quedamos preparados para la siguiente gráfica."
   ]
  },
  {
   "cell_type": "markdown",
   "metadata": {
    "slideshow": {
     "slide_type": "slide"
    }
   },
   "source": [
    "### Gráficas de barras\n",
    "\n",
    "Podemos crear un gráfico de barras simplemente llamando a la función `bar` \n",
    "en vez de `plot`:"
   ]
  },
  {
   "cell_type": "code",
   "execution_count": 89,
   "metadata": {
    "scrolled": true,
    "slideshow": {
     "slide_type": "slide"
    }
   },
   "outputs": [
    {
     "data": {
      "image/png": "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\n",
      "text/plain": [
       "<Figure size 432x288 with 1 Axes>"
      ]
     },
     "metadata": {
      "needs_background": "light"
     },
     "output_type": "display_data"
    }
   ],
   "source": [
    "import matplotlib.pyplot as plt\n",
    "\n",
    "x_values = [0,1,2,3,4,5]\n",
    "squares = [0,1,4,9,16,25]\n",
    "plt.bar(x_values, squares, color=\"navy\")\n",
    "plt.show()"
   ]
  },
  {
   "cell_type": "markdown",
   "metadata": {
    "slideshow": {
     "slide_type": "slide"
    }
   },
   "source": [
    "**Ejercicio**: En el código anterior hemos usado un parámetro adicional,\n",
    "`color`, para indicar el color de las barras. Cambia el color a otro diferente;\n",
    "algunos valores que puedes usar son `green`, `red`, `cyan`, `coral`, `black`,\n",
    "`#336699`."
   ]
  },
  {
   "cell_type": "markdown",
   "metadata": {
    "slideshow": {
     "slide_type": "slide"
    }
   },
   "source": [
    "Podemos tambien crear un gráfico de barras horizontal usando la función\n",
    "`barh` en vez de `bar`:"
   ]
  },
  {
   "cell_type": "code",
   "execution_count": 91,
   "metadata": {},
   "outputs": [
    {
     "data": {
      "image/png": "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\n",
      "text/plain": [
       "<Figure size 432x288 with 1 Axes>"
      ]
     },
     "metadata": {
      "needs_background": "light"
     },
     "output_type": "display_data"
    }
   ],
   "source": [
    "import matplotlib.pyplot as plt\n",
    "\n",
    "x_values = [5,6,11,7,2]\n",
    "y_val = [\"A\", \"B\", \"C\", \"D\", \"E\"]\n",
    "plt.barh(y_val,x_values, color =\"coral\")\n",
    "plt.show()"
   ]
  },
  {
   "cell_type": "markdown",
   "metadata": {
    "slideshow": {
     "slide_type": "slide"
    }
   },
   "source": [
    "### Gráficas de dispersión\n",
    "\n",
    "Para gráficas de dispersion, (donde los datos $X$ e $Y$ se usaran como si\n",
    "fueran coordenadas de puntos) se usa la función `scatter`. En este caso\n",
    "vamos a añadir el parámetro `s` (de *size*) para indicar el tamaño\n",
    "de los puntos:"
   ]
  },
  {
   "cell_type": "code",
   "execution_count": 92,
   "metadata": {
    "slideshow": {
     "slide_type": "slide"
    }
   },
   "outputs": [
    {
     "data": {
      "image/png": "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\n",
      "text/plain": [
       "<Figure size 432x288 with 1 Axes>"
      ]
     },
     "metadata": {
      "needs_background": "light"
     },
     "output_type": "display_data"
    }
   ],
   "source": [
    "import matplotlib.pyplot as plt\n",
    "\n",
    "x_values = [0,1,2,3,4,5]\n",
    "squares = [0,1,4,9,16,25]\n",
    "plt.scatter(x_values,squares, s=10, color = \"red\")\n",
    "plt.show()"
   ]
  },
  {
   "cell_type": "markdown",
   "metadata": {
    "slideshow": {
     "slide_type": "slide"
    }
   },
   "source": [
    "**Ejercicio**: Añadir dos puntos más a la gráfica. Cambia el tamaño de los\n",
    "puntos a 20 y el color a `pink`."
   ]
  },
  {
   "cell_type": "code",
   "execution_count": 3,
   "metadata": {
    "slideshow": {
     "slide_type": "slide"
    }
   },
   "outputs": [
    {
     "data": {
      "image/png": "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\n",
      "text/plain": [
       "<Figure size 432x288 with 1 Axes>"
      ]
     },
     "metadata": {
      "needs_background": "light"
     },
     "output_type": "display_data"
    }
   ],
   "source": [
    "import matplotlib.pyplot as plt\n",
    "\n",
    "x_values = [0,1,2,3,4,5, 6, 7]\n",
    "squares = [0,1,4,9,16,25, 35, 45]\n",
    "plt.scatter(x_values,squares, s=200, color = \"pink\")\n",
    "plt.show()"
   ]
  },
  {
   "cell_type": "markdown",
   "metadata": {
    "slideshow": {
     "slide_type": "slide"
    }
   },
   "source": [
    "### Histogramas"
   ]
  },
  {
   "cell_type": "markdown",
   "metadata": {},
   "source": [
    "Para los histogramas, usamos la funcion `hist`."
   ]
  },
  {
   "cell_type": "code",
   "execution_count": 94,
   "metadata": {
    "slideshow": {
     "slide_type": "slide"
    }
   },
   "outputs": [
    {
     "data": {
      "image/png": "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\n",
      "text/plain": [
       "<Figure size 432x288 with 1 Axes>"
      ]
     },
     "metadata": {
      "needs_background": "light"
     },
     "output_type": "display_data"
    }
   ],
   "source": [
    "import matplotlib.pyplot as plt\n",
    "\n",
    "x = [2,1,6,4,2,4,8,9,4,2,4,10,6,4,5,7,7,3,2,7,5,3,5,9,2,1]\n",
    "plt.hist(x, bins = 2, color='navy', alpha=0.5)\n",
    "plt.show()"
   ]
  },
  {
   "cell_type": "markdown",
   "metadata": {
    "slideshow": {
     "slide_type": "slide"
    }
   },
   "source": [
    "Hemos usado dos parámetros nuevos en este ejemplo:\n",
    "\n",
    "- `bins` - Este argumento es específido de los histogramas y permite\n",
    "al usuario especificar cuantas columnas -y, por tanto, la agrupación\n",
    "a realizar- quiere usar.\n",
    "\n",
    "- `alpha` - Indica el nivel de transparencia de los puntos de datos (en\n",
    "esta caso,columnas)"
   ]
  },
  {
   "cell_type": "markdown",
   "metadata": {
    "slideshow": {
     "slide_type": "slide"
    }
   },
   "source": [
    "**Ejercicio**: Modificar el nivel de transparencia y el número de columnas\n",
    "en el código anterior."
   ]
  },
  {
   "cell_type": "markdown",
   "metadata": {},
   "source": [
    "**Miniproyecto**: realizar una simulación de 10000 tiradas de dos dados, y guardar en\n",
    "una lista la suma de los dos dados, para obtener al final 100 datos.\n",
    "Representar esos datos con un histograma."
   ]
  },
  {
   "cell_type": "code",
   "execution_count": 25,
   "metadata": {},
   "outputs": [
    {
     "data": {
      "image/png": "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\n",
      "text/plain": [
       "<Figure size 432x288 with 1 Axes>"
      ]
     },
     "metadata": {
      "needs_background": "light"
     },
     "output_type": "display_data"
    }
   ],
   "source": [
    "import random\n",
    "import matplotlib.pyplot as plt\n",
    "\n",
    "def dado():\n",
    "    return random.randint(1,6)\n",
    "\n",
    "def doble_dado():\n",
    "    return dado() + dado()\n",
    "\n",
    "simulacion = []\n",
    "for _ in range(10000):\n",
    "    simulacion.append(doble_dado())\n",
    "    \n",
    "plt.hist(simulacion, bins = 25, color='navy', alpha=0.33)\n",
    "plt.show()"
   ]
  },
  {
   "cell_type": "code",
   "execution_count": 19,
   "metadata": {},
   "outputs": [],
   "source": [
    "# %load simula-dados.py"
   ]
  },
  {
   "cell_type": "markdown",
   "metadata": {},
   "source": [
    "### Definir los rangos de los ejes de la gráfica\n",
    "\n",
    "PAra definir el rango de los ejes, usamos la funcion `axis`, pasandole un array con los siguiente cuatro valores:\n",
    "    \n",
    "- valor minimo de x\n",
    "- valor maximo de x\n",
    "- valor minimo de y\n",
    "- valor maximo de y\n",
    "\n",
    "Normalmente la librería calcula estos valores por nosotros, pero a veces nos puede interesar este tipo de control."
   ]
  },
  {
   "cell_type": "code",
   "execution_count": 36,
   "metadata": {},
   "outputs": [
    {
     "data": {
      "image/png": "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\n",
      "text/plain": [
       "<Figure size 432x288 with 1 Axes>"
      ]
     },
     "metadata": {
      "needs_background": "light"
     },
     "output_type": "display_data"
    }
   ],
   "source": [
    "plt.plot([x**2 for x in range(7)])\n",
    "plt.axis([-1, 6, -1, 32])\n",
    "plt.show()"
   ]
  },
  {
   "cell_type": "markdown",
   "metadata": {},
   "source": [
    "### Usar cadenas de formato para definir marcadores, colores y estilos de línea\n",
    "\n",
    "La función plot tiene tercer parametro opcional que se puede usar para indicar \n",
    "el formato a usar, incluyendo el color, el tipo de linea y el marcador. los\n",
    "posibles valores se respecifican usando una codificación que viene explicada en las \n",
    "siguientes tablas.\n",
    "\n",
    "El formato por defecto es `'b-'`, que significa una línea (-) azul sólida (b de *blue*).\n",
    "En general el formato sigue el modelo:\n",
    "\n",
    "$$ color + [marcador] + linea $$"
   ]
  },
  {
   "cell_type": "markdown",
   "metadata": {},
   "source": [
    "Para los marcadores se usa esta tabla:\n",
    "\n",
    "| caracter  | marcador                |\n",
    "|----------:|-------------------------|\n",
    "| `.`       |   point marker          |\n",
    "| `,`       |   pixel marker          |\n",
    "| `o`       |   circle marker         |\n",
    "| `v`       |   triangle_down marker  |\n",
    "| `^`       |   triangle_up marker    |\n",
    "| `<`       |   triangle_left marker  |\n",
    "| `>`       |   triangle_right marker |\n",
    "| `1`       |   tri_down marker       |\n",
    "| `2`       |   tri_up marker         |\n",
    "| `3`       |   tri_left marker       |\n",
    "| `4`       |   tri_right marker      |\n",
    "| `s`       |   square marker         |\n",
    "| `p`       |   pentagon marker       |\n",
    "| `*`       |   star marker           |\n",
    "| `h`       |   hexagon1 marker       |\n",
    "| `H`       |   hexagon2 marker       |\n",
    "| `+`       |   plus marker           |\n",
    "| `x`       |   x marker              |\n",
    "| `D`       |   diamond marker        |\n",
    "| `d`       |   thin_diamond marker   |\n",
    "| `|`       |   vline marker          |\n",
    "| `_`       |   hline marker          |"
   ]
  },
  {
   "cell_type": "markdown",
   "metadata": {},
   "source": [
    "Para los formatos de línea:\n",
    "   \n",
    "| caracter  |   descripción       |\n",
    "|----------:|:--------------------|\n",
    "| `-`       | solid line style    |\n",
    "| `--`      | dashed line style   |\n",
    "| `-.`      | dash-dot line style |\n",
    "| `:`       | dotted line style   |\n",
    "  "
   ]
  },
  {
   "cell_type": "markdown",
   "metadata": {},
   "source": [
    "  \n",
    "Y para colores:\n",
    "\n",
    "| caracter  |   color |\n",
    "|----------:|:--------|\n",
    "| `b`       | blue    |\n",
    "| `g`       | green   |\n",
    "| `r`       | red     |\n",
    "| `c`       | cyan    |\n",
    "| `m`       | magenta |\n",
    "| `y`       | yellow  |\n",
    "| `k`       | black   |\n",
    "| `w`       | white   |\n",
    "\n",
    "\n",
    "    "
   ]
  },
  {
   "cell_type": "markdown",
   "metadata": {},
   "source": [
    "Algunos ejemplos:\n",
    "\n",
    "| Ejemplo | Explicación               |\n",
    "|--------:|:--------------------------|\n",
    "| `or`  | Circulos rojos              |\n",
    "| `-g`  | Línea verde continua        |\n",
    "| `--`  | Linea discontinua con el color por defecto |\n",
    "| `^k:` | Triángulo negros conectados por una línea de puntos |\n"
   ]
  },
  {
   "cell_type": "markdown",
   "metadata": {
    "slideshow": {
     "slide_type": "slide"
    }
   },
   "source": [
    "**Ejercicio**: Usa el modulo `random` para seleccionar al azar un formato de linea. Elige al azar un marcador, un color y un estilo de linea y genera un formato usando el patron color + marcador + linea. Pinta una grafica tipo plot con el formato."
   ]
  },
  {
   "cell_type": "code",
   "execution_count": 32,
   "metadata": {
    "slideshow": {
     "slide_type": "slide"
    }
   },
   "outputs": [
    {
     "name": "stdout",
     "output_type": "stream",
     "text": [
      "k<:\n",
      "\n"
     ]
    },
    {
     "data": {
      "image/png": "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\n",
      "text/plain": [
       "<Figure size 432x288 with 1 Axes>"
      ]
     },
     "metadata": {
      "needs_background": "light"
     },
     "output_type": "display_data"
    }
   ],
   "source": [
    "import random\n",
    "import matplotlib.pyplot as plt\n",
    "\n",
    "markers = [\n",
    "    \".\", \",\", \"o\", \"v\", \"^\", \"<\", \n",
    "    \">\", \"1\", \"2\", \"3\", \"4\", \"s\",\n",
    "    \"p\", \"*\", \"h\", \"H\", \"+\", \"x\", \n",
    "    \"D\", \"d\", \"|\", \"_\",\n",
    "    ]\n",
    "lines = [\"-\", \"--\", \"-.\", \":\"]\n",
    "colors = [ \"b\", \"g\", \"r\", \"c\", \"m\", \"y\", \"k\", \"w\" ]\n",
    "\n",
    "line_format = random.choice(colors) + random.choice(markers) + random.choice(lines)\n",
    "print(line_format)\n",
    "print('')\n",
    "\n",
    "plt.plot([0, 1, 4, 9, 16, 25, 36], line_format)\n",
    "plt.show()"
   ]
  },
  {
   "cell_type": "markdown",
   "metadata": {},
   "source": [
    "### Trabajar con texto\n",
    "\n",
    "Se puede usar la función `text` para añadir texto en cualquier posición que queramos del gráfico. Ademas, tenemos las funciones `xlabel`, `ylabel` y `title` para describir nuestras gráficas.\n"
   ]
  },
  {
   "cell_type": "code",
   "execution_count": 147,
   "metadata": {},
   "outputs": [
    {
     "data": {
      "image/png": "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\n",
      "text/plain": [
       "<Figure size 432x288 with 1 Axes>"
      ]
     },
     "metadata": {
      "needs_background": "light"
     },
     "output_type": "display_data"
    }
   ],
   "source": [
    "import math\n",
    "import matplotlib.pyplot as plt\n",
    "\n",
    "def y(x):\n",
    "    return math.sin(x**2) * x\n",
    "\n",
    "X = list(x/10. for x in range(-48, 49))\n",
    "y = [y(_x) for _x in X]\n",
    "\n",
    "plt.plot(X, y)\n",
    "plt.title(r\"$y=sin(x^2)\\cdot x$\")\n",
    "plt.xlabel(\"x\")\n",
    "plt.xlabel(\"y\")\n",
    "plt.text(-0.5, 0.5, \"(0,0)\")\n",
    "plt.show()"
   ]
  },
  {
   "cell_type": "markdown",
   "metadata": {},
   "source": [
    "**Miniproyecto**: Analizar el arbol de ficheros de un directorio (esto es, todos los ficheros dento de una carpeta o directorio, sin importar su nivel de profundidad. Llevar una cuenta de cada tipo de fichero que termine en una de las siguientes extensiones: `.pdf`, `.txt`, `.doc`, `.mp4`, `.xls`, `.py` y `.ipynb`. Generar un grafico de barras horizontal que represente el numero de archivos encontrados de cada tipo.\n"
   ]
  },
  {
   "cell_type": "code",
   "execution_count": 48,
   "metadata": {},
   "outputs": [
    {
     "data": {
      "image/png": "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\n",
      "text/plain": [
       "<Figure size 432x288 with 1 Axes>"
      ]
     },
     "metadata": {
      "needs_background": "light"
     },
     "output_type": "display_data"
    }
   ],
   "source": [
    "import os\n",
    "import matplotlib.pyplot as plt\n",
    "\n",
    "y = [\".pdf\", \".txt\", \".doc\", \".mp4\", \".xls\", \".py\", \".ipynb\"]\n",
    "\n",
    "count_pdf = 0\n",
    "count_txt = 0\n",
    "count_doc = 0\n",
    "count_mp4 = 0\n",
    "count_xls = 0\n",
    "count_py = 0\n",
    "count_ipynb = 0\n",
    "\n",
    "for (current_dir, list_dir, list_filenames) in os.walk('../..'):\n",
    "    for filename in list_filenames:\n",
    "        path, ext = os.path.splitext(filename)\n",
    "        if ext == \".pdf\":\n",
    "            count_pdf += 1\n",
    "        elif ext == \".txt\":\n",
    "            count_txt += 1\n",
    "        elif ext == \".doc\":\n",
    "            count_doc += 1\n",
    "        elif ext == \".mp4\":\n",
    "            count_mp4 += 1\n",
    "        elif ext == \".xls\":\n",
    "            count_xls += 1\n",
    "        elif ext == \".py\":\n",
    "            count_py += 1\n",
    "        elif ext == \".ipynb\":\n",
    "            count_ipynb += 1\n",
    "\n",
    "x = [count_pdf,  count_txt, count_doc, count_mp4, count_xls, count_py, count_ipynb]            \n",
    "\n",
    "\n",
    "plt.barh(y, x)\n",
    "plt.show()  "
   ]
  },
  {
   "cell_type": "markdown",
   "metadata": {},
   "source": [
    "# Forma del profe (y mejor)"
   ]
  },
  {
   "cell_type": "code",
   "execution_count": 51,
   "metadata": {},
   "outputs": [
    {
     "data": {
      "image/png": "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\n",
      "text/plain": [
       "<Figure size 432x288 with 1 Axes>"
      ]
     },
     "metadata": {
      "needs_background": "light"
     },
     "output_type": "display_data"
    }
   ],
   "source": [
    "import os\n",
    "import collections\n",
    "\n",
    "import matplotlib.pyplot as plt\n",
    "\n",
    "EXTENSIONES = ['.pdf', '.txt', '.doc', '.mp4', '.xls', '.py', '.ipynb',\n",
    "    '.csv',\n",
    "    '.rst',\n",
    "    '.svg',\n",
    "    ]\n",
    "\n",
    "def obtener_extension(filename):\n",
    "    _, ext = os.path.splitext(filename)\n",
    "    if ext in EXTENSIONES:\n",
    "        return ext\n",
    "    else:\n",
    "        return ''\n",
    "    \n",
    "assert obtener_extension(\"arrow.ipynb\") == \".ipynb\"\n",
    "assert obtener_extension(\"arrow.avi\") == \"\"\n",
    "\n",
    "counter = collections.Counter()\n",
    "for (current_dir, list_dirs, list_filenames) in os.walk('..'):\n",
    "    for filename in list_filenames:\n",
    "        ext = obtener_extension(filename)\n",
    "        if ext:\n",
    "            counter[ext] += 1\n",
    "        else:\n",
    "            counter['otros'] += 1\n",
    "\n",
    "plt.barh(list(counter.keys()), counter.values())\n",
    "plt.show()"
   ]
  },
  {
   "cell_type": "code",
   "execution_count": 50,
   "metadata": {},
   "outputs": [
    {
     "data": {
      "image/png": "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\n",
      "text/plain": [
       "<Figure size 432x288 with 1 Axes>"
      ]
     },
     "metadata": {
      "needs_background": "light"
     },
     "output_type": "display_data"
    }
   ],
   "source": [
    "# %load tree-size.py\n",
    "import os\n",
    "import collections\n",
    "\n",
    "import matplotlib.pyplot as plt\n",
    "\n",
    "FILETYPES = [\n",
    "    \".pdf\",\n",
    "    \".txt\",\n",
    "    \".doc\",\n",
    "    \".mp4\",\n",
    "    \".xls\",\n",
    "    \".py\",\n",
    "    \"ipynb\",\n",
    "]\n",
    "\n",
    "counter = collections.Counter()\n",
    "sizes = collections.Counter()\n",
    "home = os.path.expanduser(\"~\") + \"/Dropbox\"\n",
    "for (basedir, dirnames, filenames) in os.walk(home):\n",
    "    for filename in filenames:\n",
    "        _, ext = os.path.splitext(filename)\n",
    "        ext = ext.lower()\n",
    "        if ext in FILETYPES:\n",
    "            counter[ext] += 1\n",
    "\n",
    "labels = list(counter.keys())\n",
    "plt.barh(labels, counter.values(), color =\"coral\", alpha=0.3)\n",
    "plt.show()"
   ]
  },
  {
   "cell_type": "code",
   "execution_count": null,
   "metadata": {},
   "outputs": [],
   "source": []
  }
 ],
 "metadata": {
  "celltoolbar": "Slideshow",
  "kernelspec": {
   "display_name": "Python 3",
   "language": "python",
   "name": "python3"
  },
  "language_info": {
   "codemirror_mode": {
    "name": "ipython",
    "version": 3
   },
   "file_extension": ".py",
   "mimetype": "text/x-python",
   "name": "python",
   "nbconvert_exporter": "python",
   "pygments_lexer": "ipython3",
<<<<<<< HEAD
   "version": "3.8.0"
=======
   "version": "3.6.9"
>>>>>>> 5f6a951a07f3000fa6b289b6e781b99f0e4979bf
  }
 },
 "nbformat": 4,
 "nbformat_minor": 4
}
