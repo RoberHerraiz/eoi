{
 "cells": [
  {
   "cell_type": "markdown",
   "metadata": {
    "slideshow": {
     "slide_type": "slide"
    }
   },
   "source": [
    "## La librería fire \n",
    "\n",
    "La librería **fire** nos permite generar automáticamente una interfaz de línea\n",
    "de comando a partir de cualquier objeto python."
   ]
  },
  {
   "cell_type": "markdown",
   "metadata": {
    "slideshow": {
     "slide_type": "slide"
    }
   },
   "source": [
    "### Instalación\n",
    "\n",
    "Podemos instalar la librería con Pip: "
   ]
  },
  {
   "cell_type": "code",
   "execution_count": 4,
   "metadata": {
    "scrolled": true,
    "slideshow": {
     "slide_type": "slide"
    }
   },
   "outputs": [
    {
     "name": "stdout",
     "output_type": "stream",
     "text": [
      "Collecting fire\n",
      "  Downloading fire-0.3.1.tar.gz (81 kB)\n",
      "\u001b[K     |████████████████████████████████| 81 kB 203 kB/s eta 0:00:01\n",
      "\u001b[?25hRequirement already satisfied: six in /Users/juan.rodriguezdeleonlocal/.virtualenvs/eoi/lib/python3.7/site-packages (from fire) (1.14.0)\n",
      "Processing /Users/juan.rodriguezdeleonlocal/Library/Caches/pip/wheels/3f/e3/ec/8a8336ff196023622fbcb36de0c5a5c218cbb24111d1d4c7f2/termcolor-1.1.0-py3-none-any.whl\n",
      "Building wheels for collected packages: fire\n",
      "  Building wheel for fire (setup.py) ... \u001b[?25ldone\n",
      "\u001b[?25h  Created wheel for fire: filename=fire-0.3.1-py2.py3-none-any.whl size=111005 sha256=92b03e75b41aeee145f81abe2cd28b9e72704ee99079c9d6967f004841e9960b\n",
      "  Stored in directory: /Users/juan.rodriguezdeleonlocal/Library/Caches/pip/wheels/95/38/e1/8b62337a8ecf5728bdc1017e828f253f7a9cf25db999861bec\n",
      "Successfully built fire\n",
      "Installing collected packages: termcolor, fire\n",
      "Successfully installed fire-0.3.1 termcolor-1.1.0\n",
      "Note: you may need to restart the kernel to use updated packages.\n"
     ]
    }
   ],
   "source": [
    "pip install fire"
   ]
  },
  {
   "cell_type": "markdown",
   "metadata": {
    "slideshow": {
     "slide_type": "slide"
    }
   },
   "source": [
    "### Ejemplo de uso.\n",
    "\n",
    "Para usar fire necesitamos instanciar un objeto de la clase `Fire`. Para crear\n",
    "este objeto le podemos pasar como parámetro cualquier objeto de Python, como\n",
    "por ejemplo una función:"
   ]
  },
  {
   "cell_type": "code",
   "execution_count": null,
   "metadata": {
    "slideshow": {
     "slide_type": "slide"
    }
   },
   "outputs": [],
   "source": [
    "# %load 01-hello-world.py\n",
    "import fire\n",
    "\n",
    "def hello(name):\n",
    "    \"\"\"Saluda al nombre pasado como parámetro.\n",
    "    \"\"\"\n",
    "    return f\"Hello {name}!\"\n",
    "\n",
    "if __name__ == '__main__':\n",
    "    fire.Fire(hello)\n"
   ]
  },
  {
   "cell_type": "markdown",
   "metadata": {
    "slideshow": {
     "slide_type": "slide"
    }
   },
   "source": [
    "Ahora, __desde la línea de comandos__, podemos ejecutar:\n",
    "\n",
    "    python hello.py\n",
    "    python hello.py hello john"
   ]
  },
  {
   "cell_type": "markdown",
   "metadata": {
    "slideshow": {
     "slide_type": "slide"
    }
   },
   "source": [
    "### Exponer multiples comandos\n",
    "\n",
    "En el ejemplo anterior solo podíamos acceder a una funcion desde la línea\n",
    "de comandos. Para poder hacer accesible más funciones tenemos varias opciones:"
   ]
  },
  {
   "cell_type": "markdown",
   "metadata": {
    "slideshow": {
     "slide_type": "slide"
    }
   },
   "source": [
    "#### Primera opción \n",
    "\n",
    "La forma mas simple de exponer múltiples comandos es escribir multiples\n",
    "funciones y luego instanciar Fire sin ningun parametro,"
   ]
  },
  {
   "cell_type": "code",
   "execution_count": 5,
   "metadata": {
    "slideshow": {
     "slide_type": "slide"
    }
   },
   "outputs": [],
   "source": [
    "# %load 02-simple-calc.py"
   ]
  },
  {
   "cell_type": "markdown",
   "metadata": {
    "slideshow": {
     "slide_type": "slide"
    }
   },
   "source": [
    "Observa que Fire ha interpretado correctamente los valores 10 y 20 como números\n",
    "y no como cadenas de textos. Explicaremos porque pasa esto más adelante."
   ]
  },
  {
   "cell_type": "markdown",
   "metadata": {
    "slideshow": {
     "slide_type": "slide"
    }
   },
   "source": [
    "#### Version 2\n",
    "\n",
    "Podemos seleccionar las funciones que queremos exponer a la línea de comando,\n",
    "instanciando de la clase fire pasando como parámetro un diccionario con las\n",
    "funcines deseadas."
   ]
  },
  {
   "cell_type": "code",
   "execution_count": 11,
   "metadata": {},
   "outputs": [
    {
     "name": "stdout",
     "output_type": "stream",
     "text": [
      "import fire\r\n",
      "\r\n",
      "def add(x, y):\r\n",
      "    return x + y\r\n",
      "\r\n",
      "def multiply(x, y):\r\n",
      "    return x * y\r\n",
      "\r\n",
      "if __name__ == '__main__':\r\n",
      "    fire.Fire()\r\n"
     ]
    }
   ],
   "source": [
    "!cat 03-simple-calc.py"
   ]
  },
  {
   "cell_type": "markdown",
   "metadata": {
    "slideshow": {
     "slide_type": "slide"
    }
   },
   "source": [
    "Version 3\n",
    "\n",
    "La clase Fire también puede ser instanciada con un objeto o una clase. En\n",
    "ambos casos, todos los métodos definidos en la clase serán accesibles desde la\n",
    "línea de comandos."
   ]
  },
  {
   "cell_type": "code",
   "execution_count": 13,
   "metadata": {},
   "outputs": [],
   "source": [
    "# %load 04-simple-calc.py"
   ]
  },
  {
   "cell_type": "markdown",
   "metadata": {
    "slideshow": {
     "slide_type": "slide"
    }
   },
   "source": [
    "En general es preferible pasar como parámetro a la clase Fire otra clase, en\n",
    "vez de un objeto, porque esto nos permite usar argumentos de la línea de \n",
    "comandos para el constructor de la clase."
   ]
  },
  {
   "cell_type": "markdown",
   "metadata": {
    "slideshow": {
     "slide_type": "slide"
    }
   },
   "source": [
    "**Ejercicio**:\n",
    "\n",
    "Hacer un pequeño programa para imprimir una tabla de multiplicación. El programa debe aceptar un argumento que seria el numero de la tabla que queremos imprimir."
   ]
  },
  {
   "cell_type": "markdown",
   "metadata": {
    "slideshow": {
     "slide_type": "slide"
    }
   },
   "source": [
    "### Acceder a propiedades.\n",
    "\n",
    "Hasta ahora solo hemos accedido a funciones pero también podemos acceder a las\n",
    "propiedades de las clases.\n",
    "\n",
    "En el siguiente ejemplo  veremos un pequeño programa con el que podemos mostrar\n",
    "información de aeropuertos internacionales usando el código del aeropuerto.\n",
    "\n",
    "https://github.com/trendct-data/airports.py"
   ]
  },
  {
   "cell_type": "code",
   "execution_count": null,
   "metadata": {},
   "outputs": [],
   "source": [
    "# %load find-airport.py\n",
    "import csv\n",
    "\n",
    "import fire\n",
    "\n",
    "\n",
    "def get_codemap():\n",
    "    codemap = {}\n",
    "    with open('iata.csv') as f:\n",
    "        rd = csv.reader(f, delimiter='\\t')\n",
    "        header = next(rd)\n",
    "        for items in rd:\n",
    "            aeropuerto, pais, codigo_iata, resto = items\n",
    "            codemap[codigo_iata] = (pais, aeropuerto)\n",
    "    return codemap\n",
    "\n",
    "\n",
    "class Airport(object):\n",
    "\n",
    "    def __init__(self, code):\n",
    "        self.codemap = get_codemap()\n",
    "        self.code = code.upper()\n",
    "        self.country = self.codemap[self.code][0]\n",
    "        self.name = self.codemap[self.code][1]\n",
    "\n",
    "if __name__ == '__main__':\n",
    "  fire.Fire(Airport)\n"
   ]
  },
  {
   "cell_type": "markdown",
   "metadata": {
    "slideshow": {
     "slide_type": "slide"
    }
   },
   "source": [
    "### Encadenando llamadas de funciones \n",
    "\n",
    "Podemos encadenar llamadas de una forma sencilla, todo lo que tenemos que hacer es escribir una clase cuyo métodos siempre devuelvan `self`, como en el siguiente ejemplo:"
   ]
  },
  {
   "cell_type": "code",
   "execution_count": null,
   "metadata": {},
   "outputs": [],
   "source": [
    "# %load canvas.py\n",
    "import fire\n",
    "\n",
    "class BinaryCanvas(object):\n",
    "    \"\"\"A canvas with which to make binary art, one bit at a time.\"\"\"\n",
    "\n",
    "    def __init__(self, size=10):\n",
    "        self.pixels = [[0] * size for _ in range(size)]\n",
    "        self._size = size\n",
    "        self._row = 0  # The row of the cursor.\n",
    "        self._col = 0  # The column of the cursor.\n",
    "\n",
    "    def __str__(self):\n",
    "        return '\\n'.join(' '.join(str(pixel) for pixel in row) for row in self.pixels)\n",
    "\n",
    "    def show(self):\n",
    "        print(self)\n",
    "        return self\n",
    "\n",
    "    def move(self, row, col):\n",
    "        self._row = row % self._size\n",
    "        self._col = col % self._size\n",
    "        return self\n",
    "\n",
    "    def on(self):\n",
    "        return self.set(1)\n",
    "\n",
    "    def off(self):\n",
    "        return self.set(0)\n",
    "\n",
    "    def set(self, value):\n",
    "        self.pixels[self._row][self._col] = value\n",
    "        return self\n",
    "\n",
    "if __name__ == '__main__':\n",
    "    fire.Fire(BinaryCanvas)\n"
   ]
  },
  {
   "cell_type": "markdown",
   "metadata": {
    "slideshow": {
     "slide_type": "slide"
    }
   },
   "source": [
    "### Salidas personalizada\n",
    "\n",
    "En el ejemplo anterior hemos pintado en pantalla el resultado de nuestra\n",
    "órdenes encadenadas con el formato que definimos en el método `__str__`. \n",
    "\n",
    "Si se define un método `__str__` propios serán este método el que se usará para\n",
    "mostrar como salida. Si no se define, se usará la pantalla de ayuda."
   ]
  },
  {
   "cell_type": "markdown",
   "metadata": {
    "slideshow": {
     "slide_type": "slide"
    }
   },
   "source": [
    "### Llamando a funciones y métodos\n",
    "\n",
    "Los argumentos para los constructores siempre deben pasarse por nombre y usar\n",
    "la sintaxis `--name=value`.\n",
    "\n",
    "Los argumentos para otros métodos o funciones se pueden pasar por posición o por nombre."
   ]
  },
  {
   "cell_type": "markdown",
   "metadata": {
    "slideshow": {
     "slide_type": "slide"
    }
   },
   "source": [
    "Una cosa muy útil es que los guiones (`-`) y los subrayados (`_`)  son\n",
    "intercambiables tanto en los nombres de las funciones como en los argumentos de\n",
    "la línea de comandos. De igual manera el signo de `=` entre el nombre de la\n",
    "opción y el valor es opcional."
   ]
  },
  {
   "cell_type": "markdown",
   "metadata": {
    "slideshow": {
     "slide_type": "slide"
    }
   },
   "source": [
    "### Interpretación de los argumentos.\n",
    "\n",
    "Los tipos de los argumentos vienen determinados por su valor y no por la\n",
    "asignatura de la funcion o metodo que se vaya a usar. Se puede pasar como\n",
    "argumento desde la línea de comandos cualquier valor literal que Python puede\n",
    "interpretar: números, cadenas de textos, tuplas, listas y diccionarios (\n",
    "dependiendo de la versión de Python que estes usando también conjuntos)."
   ]
  },
  {
   "cell_type": "markdown",
   "metadata": {
    "slideshow": {
     "slide_type": "slide"
    }
   },
   "source": [
    "También puedes usar colecciones anidadas siempre y cuando estas solo contengan\n",
    "literales.\n",
    "\n",
    "A modo de demostración, el siguiente programa nos dice de qué tipo Python es el\n",
    "argumento que le pasamos."
   ]
  },
  {
   "cell_type": "code",
   "execution_count": null,
   "metadata": {},
   "outputs": [],
   "source": [
    "# %load arguments.py\n",
    "import fire\n",
    "\n",
    "fire.Fire(lambda obj: type(obj).__name__)\n"
   ]
  },
  {
   "cell_type": "raw",
   "metadata": {},
   "source": [
    "$ python arguments.py 23\n",
    "int\n",
    "$ python arguments.py hola\n",
    "str\n",
    "$ python arguments.py 3.4\n",
    "float\n",
    "$ python arguments.py {\"uno\":1}\n",
    "dict"
   ]
  },
  {
   "cell_type": "markdown",
   "metadata": {
    "slideshow": {
     "slide_type": "slide"
    }
   },
   "source": [
    "Nota para usuarios de Bash. Ten cuidado con las comillas. Si queremos pasar la\n",
    "cadena de textos `\"10\"` en vez del número entero `10` necesitamos escapar las\n",
    "comillas dos veces porque Bash hara su propia interpretación de la\n",
    "cadena con lo cual elimina las comillas exteriores."
   ]
  },
  {
   "cell_type": "markdown",
   "metadata": {
    "slideshow": {
     "slide_type": "slide"
    }
   },
   "source": [
    "Las expresiones `True` y `False` se interpretan como valores booleanos. Otra\n",
    "forma de pasar valores booleanos a nuestro programa sería usar la sintaxis de\n",
    "doble guión en la forma `-- name` para ajustar el valor a `True` y `--noname`\n",
    "para ajustar el valor a `False`."
   ]
  },
  {
   "cell_type": "markdown",
   "metadata": {
    "slideshow": {
     "slide_type": "slide"
    }
   },
   "source": [
    "Un *flag* que siempre puedes usar es `--help`, para mostrar explicaciones y\n",
    "formas de usos. `Fire` incorpora tus *docstrings* dentro de la ayuda que él\n",
    "genera automáticamente.\n",
    "\n",
    "Fire tiene varias opciones interesantes más, consúltalas en la página web\n",
    "https://github.com/google/python-fire si estás interesado."
   ]
  }
 ],
 "metadata": {
  "celltoolbar": "Slideshow",
  "kernelspec": {
   "display_name": "Python 3",
   "language": "python",
   "name": "python3"
  },
  "language_info": {
   "codemirror_mode": {
    "name": "ipython",
    "version": 3
   },
   "file_extension": ".py",
   "mimetype": "text/x-python",
   "name": "python",
   "nbconvert_exporter": "python",
   "pygments_lexer": "ipython3",
   "version": "3.7.6"
  }
 },
 "nbformat": 4,
 "nbformat_minor": 4
}
