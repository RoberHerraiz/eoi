{
 "cells": [
  {
   "cell_type": "markdown",
   "metadata": {
    "slideshow": {
     "slide_type": "slide"
    }
   },
   "source": [
    "## La librería arrow\n",
    "\n",
    "La librería **arrow** nos facilita trabajar con fechas."
   ]
  },
  {
   "cell_type": "markdown",
   "metadata": {
    "slideshow": {
     "slide_type": "slide"
    }
   },
   "source": [
    "**Arrow** intenta que trabajar, modificar, formatear y convertir fechas sea más\n",
    "sencillo y amigable que con el paquete de la librería estándar `datetime`. \n",
    "\n",
    "Lo hace reimplementando y actualizando la clase datetime, cubriendo ciertos huecos en la\n",
    "funcionalidad y proporcionando una API más directa para muchas formas\n",
    "diferentes de crear fechas. A modo de resumen, intenta que se pueda\n",
    "trabajar con fechas con menos imports y menos código.\n",
    "\n",
    "El nombre, *arrow* (Flecha) viene de la expresión *fecha del tiempo*."
   ]
  },
  {
   "cell_type": "markdown",
   "metadata": {},
   "source": [
    "### Instalar arrow\n",
    "\n",
    "Se instala simplemente con pip:"
   ]
  },
  {
   "cell_type": "code",
   "execution_count": 2,
   "metadata": {},
   "outputs": [
    {
     "name": "stdout",
     "output_type": "stream",
     "text": [
      "Collecting arrow\n",
      "  Downloading https://files.pythonhosted.org/packages/92/fa/f84896dede5decf284e6922134bf03fd26c90870bbf8015f4e8ee2a07bcc/arrow-0.15.5-py2.py3-none-any.whl (46kB)\n",
      "\u001b[K    100% |████████████████████████████████| 51kB 770kB/s ta 0:00:011\n",
      "\u001b[?25hCollecting python-dateutil (from arrow)\n",
      "  Using cached https://files.pythonhosted.org/packages/d4/70/d60450c3dd48ef87586924207ae8907090de0b306af2bce5d134d78615cb/python_dateutil-2.8.1-py2.py3-none-any.whl\n",
      "Collecting six>=1.5 (from python-dateutil->arrow)\n",
      "  Using cached https://files.pythonhosted.org/packages/65/eb/1f97cb97bfc2390a276969c6fae16075da282f5058082d4cb10c6c5c1dba/six-1.14.0-py2.py3-none-any.whl\n",
      "Installing collected packages: six, python-dateutil, arrow\n",
      "Successfully installed arrow-0.15.5 python-dateutil-2.8.1 six-1.14.0\n"
     ]
    }
   ],
   "source": [
    "!pip3 install arrow"
   ]
  },
  {
   "cell_type": "markdown",
   "metadata": {
    "slideshow": {
     "slide_type": "slide"
    }
   },
   "source": [
    "### Ventajas de usar arrow\n",
    "\n",
    "Se puede trabajar perfectamente con fechas usando la librería estándar,\n",
    "pero lo que arrow intenta mejorarla en los siguientes aspectos:\n",
    "\n",
    "-   Demasiados módulos: datetime, time, calendar, dateutil, pytz, etc."
   ]
  },
  {
   "cell_type": "markdown",
   "metadata": {
    "slideshow": {
     "slide_type": "slide"
    }
   },
   "source": [
    "-   Demasiados tipos: date, time, datetime, tzinfo, timedelta,\n",
    "    relativedelta, etc."
   ]
  },
  {
   "cell_type": "markdown",
   "metadata": {
    "slideshow": {
     "slide_type": "slide"
    }
   },
   "source": [
    "-   Trabajar con [husos\n",
    "    horarios](https://es.wikipedia.org/wiki/Huso_horario) (*timezone*) y\n",
    "    convertir de una zona horaria a otra resulta farragoso y pesado.\n",
    "    "
   ]
  },
  {
   "cell_type": "markdown",
   "metadata": {
    "slideshow": {
     "slide_type": "slide"
    }
   },
   "source": [
    "-   Las marcas de tiempo (*timestamp*) son abiertas o ingenuas (*naive*)\n",
    "    por defecto.\n",
    "    "
   ]
  },
  {
   "cell_type": "markdown",
   "metadata": {
    "slideshow": {
     "slide_type": "slide"
    }
   },
   "source": [
    "-   Existen ciertos huecos en la funcionalidad: Interpretar texto en\n",
    "    formato ISO 8601, convertir a valores más fáciles de interpretar por\n",
    "    humanos...\n",
    "\n",
    "Veremos ejemplos de cada una de estas funcionalidad tal y como las\n",
    "resuelve `arrow`."
   ]
  },
  {
   "cell_type": "markdown",
   "metadata": {
    "slideshow": {
     "slide_type": "slide"
    }
   },
   "source": [
    "### Crear fechas\n",
    "\n",
    "Usando datetime no tenemos muchas opciones para crear fechas, podemos\n",
    "crearlas pasando los datos que necesitamos, o obtener la fecha de hoy con\n",
    "`datetime.data.today` o el *timestamp* de este momento, con `datetime.datetime.now`\n",
    "o `datetime.datetime.utcnow`. "
   ]
  },
  {
   "cell_type": "code",
   "execution_count": 3,
   "metadata": {},
   "outputs": [],
   "source": [
    "import arrow"
   ]
  },
  {
   "cell_type": "code",
   "execution_count": 4,
   "metadata": {
    "slideshow": {
     "slide_type": "slide"
    }
   },
   "outputs": [
    {
     "name": "stdout",
     "output_type": "stream",
     "text": [
      "2020-06-23,2020-06-23 12:00:00,2020-04-20,2020-04-20 16:46:28.907372\n"
     ]
    }
   ],
   "source": [
    "import datetime\n",
    "\n",
    "fecha = datetime.date(2020, 6, 23)  # 23/jun/2020\n",
    "timestamp = datetime.datetime(2020, 6, 23, 12, 0, 0)  # 23/jun/2020, a las 12:00:00\n",
    "\n",
    "hoy = datetime.date.today()\n",
    "ahora = datetime.datetime.now()\n",
    "print(fecha, timestamp, hoy, ahora, sep=\",\")"
   ]
  },
  {
   "cell_type": "markdown",
   "metadata": {
    "slideshow": {
     "slide_type": "slide"
    }
   },
   "source": [
    "Con `arrow` tenemos las mismas opciones, pero ademas podemos crear una\n",
    "fecha timestamp a partir del texto en formato ISO 8601. Arrow crea casi\n",
    "todos las variables con la funcion `get`. Si se llama a `get` sin\n",
    "parametros nos devolvera la fecha y hora actual, usando la zona horaria UTC:"
   ]
  },
  {
   "cell_type": "code",
   "execution_count": 11,
   "metadata": {
    "slideshow": {
     "slide_type": "slide"
    }
   },
   "outputs": [
    {
     "name": "stdout",
     "output_type": "stream",
     "text": [
      "2020-04-20T15:48:05.908019+00:00\n"
     ]
    }
   ],
   "source": [
    "import arrow\n",
    "ts = arrow.get('2020-06-11T21:23:58.970460+07:00')\n",
    "d1 = arrow.get(2020, 3, 3)\n",
    "d2 = arrow.get('2020-03-03')\n",
    "assert d1 == d2\n",
    "print(arrow.get())"
   ]
  },
  {
   "cell_type": "markdown",
   "metadata": {
    "slideshow": {
     "slide_type": "slide"
    }
   },
   "source": [
    "Si queremos ser más explícitos, tenemos las funciones `now` y `utcnow`. Con `now` podemos\n",
    "indicar la zona horaria como una string, una forma muchos más sencilla que con la librería\n",
    "estándar:"
   ]
  },
  {
   "cell_type": "code",
   "execution_count": 12,
   "metadata": {},
   "outputs": [
    {
     "name": "stdout",
     "output_type": "stream",
     "text": [
      "2020-04-20T15:54:45.779607+00:00\n",
      "2020-04-20T16:54:45.779911+01:00\n",
      "2020-04-20T16:54:45.781148+01:00\n"
     ]
    }
   ],
   "source": [
    "print(arrow.utcnow())\n",
    "print(arrow.now())\n",
    "print(arrow.now('Atlantic/Canary'))"
   ]
  },
  {
   "cell_type": "markdown",
   "metadata": {
    "slideshow": {
     "slide_type": "slide"
    }
   },
   "source": [
    "Además, al contrario que `datetime`, las fechas y marcas temporales no\n",
    "son abiertas o *naive* por defecto, sino que tienen definido el huso\n",
    "horario al que corresponden. Si no se indica nada, por defecto se asigna UTC. Por eso \n",
    "en la celda anterior los valores deberían ser practicamente iguales (La diferencia debe estar en la escala de milisegundos)."
   ]
  },
  {
   "cell_type": "markdown",
   "metadata": {
    "slideshow": {
     "slide_type": "slide"
    }
   },
   "source": [
    "**Ejercicio**: Sabiendo que la zona horaria de Turquía es `Asia/Istanbul`, averiguar cual es\n",
    "la diferencia horaria con respecto a UTC. Este dato esta disponible usando el método `utcoffset`. Puedes\n",
    "ver los [nombres de las zonas horarias en Wikipedia](https://en.wikipedia.org/wiki/List_of_tz_database_time_zones).\n",
    "\n",
    "**Plus**: Averiguar la diferencia horaria entre la España peninsular (zona horaria `Europe/Madrid`), Alemania (zona horaria `Europe/Berlin` e Italia  (zona horaria `Europe/Rome`)."
   ]
  },
  {
   "cell_type": "code",
   "execution_count": 25,
   "metadata": {
    "slideshow": {
     "slide_type": "slide"
    }
   },
   "outputs": [
    {
     "name": "stdout",
     "output_type": "stream",
     "text": [
      "3:00:00\n",
      "2020-04-20T17:04:22.349056+01:00\n"
     ]
    }
   ],
   "source": [
    "# %load diferencia-horaria-turquia.py\n",
    "import arrow\n",
    "\n",
    "now = arrow.now('Asia/Istanbul')\n",
    "print(now.utcoffset()) #utcoffset se usa como método\n",
    "\n",
    "print(now2)\n",
    "\n"
   ]
  },
  {
   "cell_type": "code",
   "execution_count": 26,
   "metadata": {
    "slideshow": {
     "slide_type": "slide"
    }
   },
   "outputs": [
    {
     "name": "stdout",
     "output_type": "stream",
     "text": [
      "Diferencias horarias respecto a España peninsular:\n",
      " - Portugal: 1:00:00\n",
      " - Alemania: 0:00:00\n",
      " - Italia: 0:00:00\n"
     ]
    }
   ],
   "source": [
    "# %load diferencia-madrid-berlin-roma.py\n",
    "import arrow\n",
    "\n",
    "now_in_madrid = arrow.now(\"Europe/Madrid\")\n",
    "now_in_lisbon = arrow.now(\"Europe/Lisbon\")\n",
    "now_in_berlin = arrow.now(\"Europe/Berlin\")\n",
    "now_in_rome = arrow.now(\"Europe/Rome\")\n",
    "\n",
    "# Para hacerlo hay que hacer la resta entre el offset de madrid y lo que queremos comparar\n",
    "\n",
    "print(\"Diferencias horarias respecto a España peninsular:\")\n",
    "print(\" - Portugal:\", now_in_madrid.utcoffset() - now_in_lisbon.utcoffset())\n",
    "print(\" - Alemania:\", now_in_madrid.utcoffset() - now_in_berlin.utcoffset())\n",
    "print(\" - Italia:\",  now_in_madrid.utcoffset() - now_in_rome.utcoffset())\n"
   ]
  },
  {
   "cell_type": "markdown",
   "metadata": {
    "slideshow": {
     "slide_type": "slide"
    }
   },
   "source": [
    "### Otras formas de crear fechas o marcas temporales\n",
    "\n",
    "#### A partir de tiempos UNIX\n",
    "\n",
    "Otra posibilidad es crear fechas o marcas temporales a parir de \n",
    "los [tiempos UNIX o Enotch](https://es.wikipedia.org/wiki/Tiempo_Unix):"
   ]
  },
  {
   "cell_type": "code",
   "execution_count": 27,
   "metadata": {
    "slideshow": {
     "slide_type": "slide"
    }
   },
   "outputs": [
    {
     "name": "stdout",
     "output_type": "stream",
     "text": [
      "2017-02-24T01:44:24+00:00\n",
      "2013-05-07T04:24:24.152325+00:00\n",
      "2020-04-20T16:13:56.097394+00:00\n"
     ]
    }
   ],
   "source": [
    "import arrow, time\n",
    "\n",
    "print(arrow.get(1487900664))\n",
    "print(arrow.get(1367900664.152325))\n",
    "print(arrow.get(time.time()))"
   ]
  },
  {
   "cell_type": "markdown",
   "metadata": {
    "slideshow": {
     "slide_type": "slide"
    }
   },
   "source": [
    "#### A partir de otros objetos `date` o `timestamp`\n",
    "\n",
    "Observa que con el siguiente ejemplo se consiguen fechas *arrow* y son, por tanto, completas, con zona\n",
    "horaria UTC por defecto, menos en el último ejemplo, que forzamos la zona horaria de Francia."
   ]
  },
  {
   "cell_type": "code",
   "execution_count": 28,
   "metadata": {
    "slideshow": {
     "slide_type": "slide"
    }
   },
   "outputs": [
    {
     "name": "stdout",
     "output_type": "stream",
     "text": [
      "2020-04-20T00:00:00+00:00\n",
      "2020-04-20T17:14:57.201612+00:00\n",
      "2020-04-20T17:14:57.201707+02:00\n"
     ]
    }
   ],
   "source": [
    "import arrow, datetime\n",
    "\n",
    "print(arrow.get(datetime.date.today()))\n",
    "print(arrow.get(datetime.datetime.now()))\n",
    "print(arrow.get(datetime.datetime.now(), \"Europe/Paris\"))"
   ]
  },
  {
   "cell_type": "markdown",
   "metadata": {
    "slideshow": {
     "slide_type": "slide"
    }
   },
   "source": [
    "#### A partir de una cadena de texto\n",
    "\n",
    "Podemos extraer de una texto una fecha o marca temporal, si le indicamos\n",
    "a la libreria como debe interpretar ese texto:"
   ]
  },
  {
   "cell_type": "code",
   "execution_count": 29,
   "metadata": {
    "slideshow": {
     "slide_type": "slide"
    }
   },
   "outputs": [
    {
     "data": {
      "text/plain": [
       "<Arrow [2022-04-19T12:30:45+00:00]>"
      ]
     },
     "execution_count": 29,
     "metadata": {},
     "output_type": "execute_result"
    }
   ],
   "source": [
    "import arrow\n",
    "\n",
    "arrow.get('2022-04-19 12:30:45', 'YYYY-MM-DD HH:mm:ss')"
   ]
  },
  {
   "cell_type": "markdown",
   "metadata": {
    "slideshow": {
     "slide_type": "slide"
    }
   },
   "source": [
    "No hay problema si el dato está incluido dentro de un texto mayor. En el siguiente ejemplo, además, \n",
    "se especifica el parámetro `locale` a español (Usando la constante `ES_es`) para estar seguros\n",
    "de que se interpreta *julio* como el nombre del mes, y no *July*:"
   ]
  },
  {
   "cell_type": "code",
   "execution_count": 30,
   "metadata": {
    "slideshow": {
     "slide_type": "slide"
    }
   },
   "outputs": [
    {
     "name": "stdout",
     "output_type": "stream",
     "text": [
      "1961-07-01T00:00:00+00:00\n"
     ]
    }
   ],
   "source": [
    "import arrow\n",
    "\n",
    "d = arrow.get(\n",
    "    'Diana, princesa de Gales, nacida el 1 de julio de 1961 en Norfolk, Inglaterra',\n",
    "    'D [de ]MMMM [de ]YYYY',\n",
    "    locale=\"ES_es\",\n",
    ")\n",
    "print(d)"
   ]
  },
  {
   "cell_type": "markdown",
   "metadata": {},
   "source": [
    "Podemos usar los siguientes códigos para formatear o para interpretar una fecha en un texto. No son\n",
    "los mismos valores que usa datetime.\n",
    "\n",
    "|     | Token   | Salida |\n",
    "|----:|---------|--------|\n",
    "| Año | YYYY    | 2000, 2001, 2002 … 2012, 2013 |\n",
    "|     | YY      | 00, 01, 02 … 12, 13 |\n",
    "| Mes | MMMM    | Nombre completo del mes |\n",
    "|     | MMM     | Nombre abreviado del mes (tres letras) |\n",
    "|     | MM      | Numero del mes, con dos digitos |\n",
    "|     | M       | Numoer del mes, con uno o dos digitos |\n",
    "| Day of Year   | DDDD | 001, 002, 003 … 364, 365 |\n",
    "|     | DDD     | 1, 2, 3 … 364, 365 |\n",
    "| Day of Month  | DD | 01, 02, 03 … 30, 31 |\n",
    "|     | D       | 1, 2, 3 … 30, 31 |\n",
    "|     | Do      | 1st, 2nd, 3rd … 30th, 31st |\n",
    "| Day of Week   | dddd | Lunes, Martes, Miércoles... |\n",
    "|               | ddd | Mon, Tue, Wed |\n",
    "|               | d   | 1, 2, 3 … 6, 7 |\n",
    "| ISO week date | W | 2011-W05-4, 2019-W17 |\n",
    "| Hour | HH | 00, 01, 02 … 23, 24 |\n",
    "|      | H  | 0, 1, 2 … 23, 24 |\n",
    "|      | hh | 01, 02, 03 … 11, 12 |\n",
    "|      | h  | 1, 2, 3 … 11, 12 |\n",
    "| AM / PM | A | AM, PM, am, pm |\n",
    "|         | a | am, pm         |\n",
    "| Minute  | mm | 00, 01, 02 … 58, 59 |\n",
    "|         | m  | 0, 1, 2 … 58, 59  |\n",
    "| Second  | ss | 00, 01, 02 … 58, 59  |\n",
    "|         | s  | 0, 1, 2 … 58, 59 |\n",
    "| Sub-second | S… | 0, 02, 003, 000006, 123123123123… |\n",
    "| Timezone   | ZZZ | Asia/Baku, Europe/Warsaw, GMT |\n",
    "|            | ZZ  | -07:00, -06:00 … +06:00, +07:00, +08, Z |\n",
    "|            | Z   | -0700, -0600 … +0600, +0700, +08, Z  |\n",
    "|  Seconds Timestamp | X | 1381685817, 1381685817.915482 … |\n",
    "| ms or µs Timestamp | x | 1569980330813, 1569980330813221 |"
   ]
  },
  {
   "cell_type": "markdown",
   "metadata": {
    "slideshow": {
     "slide_type": "slide"
    }
   },
   "source": [
    "#### A partir de una cadena de texto en formato ISO 8601\n",
    "\n",
    "Si tenemos la suerte de que el texto ya viene en formato ISO 8601, se puede\n",
    "interpretar directamente, sin necesidad de indicar el formato:"
   ]
  },
  {
   "cell_type": "code",
   "execution_count": 31,
   "metadata": {
    "slideshow": {
     "slide_type": "fragment"
    }
   },
   "outputs": [
    {
     "data": {
      "text/plain": [
       "<Arrow [2013-09-30T15:34:00-07:00]>"
      ]
     },
     "execution_count": 31,
     "metadata": {},
     "output_type": "execute_result"
    }
   ],
   "source": [
    "import arrow\n",
    "\n",
    "arrow.get('2013-09-30T15:34:00.000-07:00')"
   ]
  },
  {
   "cell_type": "markdown",
   "metadata": {
    "slideshow": {
     "slide_type": "slide"
    }
   },
   "source": [
    "### Obtener una fecha/timestamp a partir de otra\n",
    "\n",
    "Los objetos `Arrow` tienen un método llamado `replace` para cambiar los\n",
    "valores de una fecha, y otro llamado `shift` que nos permite *desplazar*\n",
    "una fecha a lo largo del tiempo. Como los objetos tipo `Arrow` son\n",
    "inmutables, tanto `replace` como `shitf` nos devuelven un nuevo objeto\n",
    "en la posicion temporal deseada. \n",
    "\n",
    "El método acepta diferentes unidades de\n",
    "desplazamiento, y lo hace mediante parametro con nombre, como `days`,\n",
    "`months`, `minutes`,..."
   ]
  },
  {
   "cell_type": "markdown",
   "metadata": {
    "slideshow": {
     "slide_type": "slide"
    }
   },
   "source": [
    "**Ejercicio**: Calcular el número de días que faltan para la navidad "
   ]
  },
  {
   "cell_type": "markdown",
   "metadata": {
    "slideshow": {
     "slide_type": "fragment"
    }
   },
   "source": [
    "**Pista**: primero obten la fecha actual, luego crea una nueva fecha reemplazando el mes por 12 y el dia por 25. La diferencia entre las dos fechas te da el numero de dias hasta navidad"
   ]
  },
  {
   "cell_type": "code",
   "execution_count": 44,
   "metadata": {},
   "outputs": [
    {
     "name": "stdout",
     "output_type": "stream",
     "text": [
      "Hoy es 2020-04-20T16:28:49.738924+00:00\n",
      "Navidad es 2020-12-25T16:28:49.738924+00:00\n",
      "Quedan 249 days, 0:00:00 para navidad\n"
     ]
    }
   ],
   "source": [
    "import arrow\n",
    "\n",
    "hoy = arrow.get()\n",
    "\n",
    "print(f'Hoy es {hoy}')\n",
    "\n",
    "navidad = hoy.replace(month=12, day=25)\n",
    "\n",
    "print(f'Navidad es {navidad}')\n",
    "\n",
    "print(f'Quedan {navidad - hoy} para navidad')"
   ]
  },
  {
   "cell_type": "code",
   "execution_count": null,
   "metadata": {
    "slideshow": {
     "slide_type": "fragment"
    }
   },
   "outputs": [],
   "source": [
    "# %load dias-hasta-navidad.py"
   ]
  },
  {
   "cell_type": "markdown",
   "metadata": {
    "slideshow": {
     "slide_type": "slide"
    }
   },
   "source": [
    "#### El método shift (desplazar)\n",
    "\n",
    "Con el método `shift` también abtenemos una nueva fecha, pero en vez de indicar los valores\n",
    "a cambiar, indicamos el desplazamiento, positivo o negativo, a partir de la fecha original. Por ejemplo, para\n",
    "obtenter la fecha de mañana, se puede hacer:"
   ]
  },
  {
   "cell_type": "code",
   "execution_count": 33,
   "metadata": {
    "slideshow": {
     "slide_type": "slide"
    }
   },
   "outputs": [
    {
     "name": "stdout",
     "output_type": "stream",
     "text": [
      "2020-04-20T16:23:11.567109+00:00, 2020-04-21T16:23:11.567109+00:00\n"
     ]
    }
   ],
   "source": [
    "import arrow\n",
    "\n",
    "hoy = arrow.get()\n",
    "mannana = hoy.shift(days=1)\n",
    "print(hoy, mannana, sep=\", \")"
   ]
  },
  {
   "cell_type": "markdown",
   "metadata": {
    "slideshow": {
     "slide_type": "slide"
    }
   },
   "source": [
    "**Ejercicio**: Usando `arrow`, calcular el dia de la semana de la fecha\n",
    "correspondiente al día actual, pero dentro de 8 años, 3 meses y 9 días."
   ]
  },
  {
   "cell_type": "code",
   "execution_count": 46,
   "metadata": {},
   "outputs": [
    {
     "name": "stdout",
     "output_type": "stream",
     "text": [
      "2028-07-29T17:31:11.291319+01:00\n"
     ]
    }
   ],
   "source": [
    "import arrow\n",
    "\n",
    "hoy = arrow.now()\n",
    "\n",
    "nuevodia = hoy.shift(years=8, months=3, days=9)\n",
    "\n",
    "print(nuevodia)"
   ]
  },
  {
   "cell_type": "code",
   "execution_count": 49,
   "metadata": {
    "slideshow": {
     "slide_type": "slide"
    }
   },
   "outputs": [
    {
     "name": "stdout",
     "output_type": "stream",
     "text": [
      "5\n",
      "El día 29/Jul/2028 cae en sábado\n"
     ]
    }
   ],
   "source": [
    "# %load fecha-futura.py\n",
    "import arrow\n",
    "\n",
    "WEEKDAYS = [\"lunes\", \"martes\", \"miércoles\", \"jueves\", \"viernes\", \"sábado\", \"domingo\"]\n",
    "\n",
    "dia = arrow.utcnow()\n",
    "futuro = dia.shift(years=8, months=3, days=9)\n",
    "wd = futuro.weekday() #NUEVO\n",
    "print(wd)\n",
    "print(f\"El día {futuro.format('D/MMM/YYYY')} cae en {WEEKDAYS[wd]}\") #slicing, weekday da el número de la semana y si lo metemos dentro de una lista con slicing, da el día\n"
   ]
  },
  {
   "cell_type": "markdown",
   "metadata": {
    "slideshow": {
     "slide_type": "slide"
    }
   },
   "source": [
    "### El método `for_json`\n",
    "\n",
    "El método `for_json` devuelve una string en formato ISO, lo que resulta muy cómodo para\n",
    "incluir fechas y marcas temporales en formato JSON, que no tiene un tipo de dato especifico\n",
    "para estos datos."
   ]
  },
  {
   "cell_type": "code",
   "execution_count": 50,
   "metadata": {
    "slideshow": {
     "slide_type": "fragment"
    }
   },
   "outputs": [
    {
     "name": "stdout",
     "output_type": "stream",
     "text": [
      "2019-12-06T00:00:00+00:00\n"
     ]
    }
   ],
   "source": [
    "import arrow\n",
    "\n",
    "print(arrow.get(2019, 12, 6).for_json())"
   ]
  },
  {
   "cell_type": "markdown",
   "metadata": {},
   "source": [
    "### Rangos\n",
    "\n",
    "A partir de un objeto `Arrow`, podemos obtener el rango que lo contiene. El\n",
    "ancho del rango depende de la unidad que se le pase como parametro al metodo\n",
    "`span`:\n",
    "  "
   ]
  },
  {
   "cell_type": "code",
   "execution_count": 2,
   "metadata": {},
   "outputs": [
    {
     "data": {
      "text/plain": [
       "(<Arrow [2020-04-20T15:00:00+00:00]>,\n",
       " <Arrow [2020-04-20T15:59:59.999999+00:00]>)"
      ]
     },
     "execution_count": 2,
     "metadata": {},
     "output_type": "execute_result"
    }
   ],
   "source": [
    "import arrow\n",
    "\n",
    "arrow.utcnow().span('hour')"
   ]
  },
  {
   "cell_type": "markdown",
   "metadata": {},
   "source": [
    "O podemos obtener los limites inferior y superior del rango por separado, conlos metodos `floor` y `ceil`:"
   ]
  },
  {
   "cell_type": "code",
   "execution_count": 3,
   "metadata": {},
   "outputs": [
    {
     "name": "stdout",
     "output_type": "stream",
     "text": [
      "2020-04-20T15:00:00+00:00\n",
      "2020-04-20T15:59:59.999999+00:00\n"
     ]
    }
   ],
   "source": [
    "import arrow\n",
    "\n",
    "print(arrow.utcnow().floor('hour'))\n",
    "print(arrow.utcnow().ceil('hour'))"
   ]
  },
  {
   "cell_type": "markdown",
   "metadata": {
    "slideshow": {
     "slide_type": "slide"
    }
   },
   "source": [
    "### El metodo humanize\n",
    "\n",
    "**humanize** nos permite obtener una descripción textual, más ambigua pero muy comoda y apta\n",
    "para un ser humano. Con un ejemplo lo entenderemos enseguida:"
   ]
  },
  {
   "cell_type": "code",
   "execution_count": 60,
   "metadata": {
    "slideshow": {
     "slide_type": "slide"
    }
   },
   "outputs": [
    {
     "name": "stdout",
     "output_type": "stream",
     "text": [
      "an hour ago\n",
      "hace un minuto\n"
     ]
    }
   ],
   "source": [
    "import arrow\n",
    "\n",
    "d = arrow.now().shift(hours=-1)\n",
    "print(d.humanize())\n",
    "\n",
    "d = arrow.now().shift(minutes=-1)\n",
    "print(d.humanize(locale=\"ES_es\"))"
   ]
  },
  {
   "cell_type": "markdown",
   "metadata": {
    "slideshow": {
     "slide_type": "slide"
    }
   },
   "source": [
    "En estos ejemplos hemos forzado el valor de `locale`. Un __locale__ se refiere\n",
    "a un conjunto de variables de entorno que definen el lenguaje, país y codificación\n",
    "de caracteres preferida, entre otras cosas (como, por ejemplo, si las fechas se expresan\n",
    "en el orden día, mes año o mes, año, día). \n",
    "\n",
    "En los ejemplos se ha ajustado a mano para estar seguros de que los ejemplos funcionan \n",
    "en cualquier entorno, pero lo recomendado, obviamente, es que el sistema tenga correctamente\n",
    "definido el `locale` para que arrow lo lea del sistema."
   ]
  },
  {
   "cell_type": "markdown",
   "metadata": {
    "slideshow": {
     "slide_type": "slide"
    }
   },
   "source": [
    "**Miniproyecto**: Calcular el número total de viernes y 13 en el año 2020"
   ]
  },
  {
   "cell_type": "markdown",
   "metadata": {
    "slideshow": {
     "slide_type": "slide"
    }
   },
   "source": [
    "**Pistas**: \n",
    "\n",
    "1. Obten una fecha para el primer dia del año, es decir, a 1 de enero de 2020. Puedes\n",
    "usar cualquier nombre para esta variable, en estas pistas upondré que la has llamdo `dia`."
   ]
  },
  {
   "cell_type": "markdown",
   "metadata": {
    "slideshow": {
     "slide_type": "fragment"
    }
   },
   "source": [
    "2. Haz un bucle `while` para recorrer todos los días del año. La condición\n",
    "de salida es que el año sea distinto del año actual, por lo tanto la\n",
    "condición del `while` es la contraria: (`while d.year == 2020`).\n",
    "\n",
    "  Acuérdate de que para este tipo de bucles es importante asegurarse de que la \n",
    "variable que provoca la salida del bucle es modificada dentro del mismo. En este ejemplo,\n",
    "hay que avanzar la variable `dia` en cada iteración (Ver el punto 4)."
   ]
  },
  {
   "cell_type": "markdown",
   "metadata": {
    "slideshow": {
     "slide_type": "fragment"
    }
   },
   "source": [
    "3. Para cada uno de los días, comprobar si es el 13 (`dia.day == 13`) __y__ que es viernes (`dia.weekday() == 4`). Si es asi, imprímelo."
   ]
  },
  {
   "cell_type": "markdown",
   "metadata": {
    "slideshow": {
     "slide_type": "fragment"
    }
   },
   "source": [
    "4. desplaza el dia al dia siguiente: `dia = dia.shift(days=1)`."
   ]
  },
  {
   "cell_type": "code",
   "execution_count": 18,
   "metadata": {},
   "outputs": [
    {
     "name": "stdout",
     "output_type": "stream",
     "text": [
      "3000-06-13T17:59:58.160499+00:00\n",
      "Hay un total de 1 días que sean viernes y número 13 en el año 3000\n"
     ]
    }
   ],
   "source": [
    "import arrow\n",
    "\n",
    "count = 0\n",
    "year = 3000 # IMPORTANTE EL ORDEN DE LA VARIABLE!!!!!\n",
    "dia = arrow.now().replace(year=year, month=1, day=1)\n",
    "\n",
    "while dia.year == year:\n",
    "    if dia.day == 13 and dia.weekday() == 4:\n",
    "        count += 1\n",
    "        print(dia)\n",
    "    dia = dia.shift(days=1)\n",
    "    \n",
    "print(f'Hay un total de {count} días que sean viernes y número 13 en el año {year}')"
   ]
  },
  {
   "cell_type": "code",
   "execution_count": null,
   "metadata": {
    "slideshow": {
     "slide_type": "slide"
    }
   },
   "outputs": [],
   "source": [
    "# %load viernes-trece.py\n",
    "#!/usr/bin/env python\n",
    "\n",
    "import arrow\n",
    "\n",
    "dia = arrow.get(2020, 1, 1)\n",
    "while dia.year == 2020:\n",
    "    if dia.day == 13 and dia.weekday() == 4:  # Es viernes y trece\n",
    "        print(dia)\n",
    "    dia = dia.shift(days=1)\n",
    "\n"
   ]
  },
  {
   "cell_type": "markdown",
   "metadata": {
    "slideshow": {
     "slide_type": "slide"
    }
   },
   "source": [
    "**Extra**: ¿Cuántos días viernes y trece hubo en 2015? ¿Y en 1915?"
   ]
  }
 ],
 "metadata": {
  "celltoolbar": "Slideshow",
  "kernelspec": {
   "display_name": "Python 3",
   "language": "python",
   "name": "python3"
  },
  "language_info": {
   "codemirror_mode": {
    "name": "ipython",
    "version": 3
   },
   "file_extension": ".py",
   "mimetype": "text/x-python",
   "name": "python",
   "nbconvert_exporter": "python",
   "pygments_lexer": "ipython3",
   "version": "3.6.9"
  }
 },
 "nbformat": 4,
 "nbformat_minor": 4
}
