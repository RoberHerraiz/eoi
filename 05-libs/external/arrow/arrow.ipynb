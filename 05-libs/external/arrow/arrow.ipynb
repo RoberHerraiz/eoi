{
 "cells": [
  {
   "cell_type": "markdown",
   "metadata": {
    "slideshow": {
     "slide_type": "slide"
    }
   },
   "source": [
    "## La librería arrow\n",
    "\n",
    "La librería **arrow** nos facilita trabajar con fechas."
   ]
  },
  {
   "cell_type": "markdown",
   "metadata": {
    "slideshow": {
     "slide_type": "slide"
    }
   },
   "source": [
    "**Arrow** intenta que trabajar, modificar, formatear y convertir fechas sea más\n",
    "sencillo y amigable que con el paquete de la librería estándar `datetime`. \n",
    "\n",
    "Lo hace reimplementando y actualizando la clase datetime, cubriendo ciertos huecos en la\n",
    "funcionalidad y proporcionando una API más directa para muchas formas\n",
    "diferentes de crear fechas. A modo de resumen, intenta que se pueda\n",
    "trabajar con fechas con menos imports y menos código.\n",
    "\n",
    "El nombre, *arrow* (Flecha) viene de la expresión *fecha del tiempo*."
   ]
  },
  {
   "cell_type": "markdown",
   "metadata": {},
   "source": [
    "### Instalar arrow\n",
    "\n",
    "Se instala simplemente con pip:"
   ]
  },
  {
   "cell_type": "code",
   "execution_count": null,
   "metadata": {},
   "outputs": [],
   "source": [
    "!pip install arrow"
   ]
  },
  {
   "cell_type": "markdown",
   "metadata": {
    "slideshow": {
     "slide_type": "slide"
    }
   },
   "source": [
    "### Ventajas de usar arrow\n",
    "\n",
    "Se puede trabajar perfectamente con fechas usando la librería estándar,\n",
    "pero lo que arrow intenta mejorarla en los siguientes aspectos:\n",
    "\n",
    "-   Demasiados módulos: datetime, time, calendar, dateutil, pytz, etc."
   ]
  },
  {
   "cell_type": "markdown",
   "metadata": {
    "slideshow": {
     "slide_type": "slide"
    }
   },
   "source": [
    "-   Demasiados tipos: date, time, datetime, tzinfo, timedelta,\n",
    "    relativedelta, etc."
   ]
  },
  {
   "cell_type": "markdown",
   "metadata": {
    "slideshow": {
     "slide_type": "slide"
    }
   },
   "source": [
    "-   Trabajar con [husos\n",
    "    horarios](https://es.wikipedia.org/wiki/Huso_horario) (*timezone*) y\n",
    "    convertir de una zona horaria a otra resulta farragoso y pesado.\n",
    "    "
   ]
  },
  {
   "cell_type": "markdown",
   "metadata": {
    "slideshow": {
     "slide_type": "slide"
    }
   },
   "source": [
    "-   Las marcas de tiempo (*timestamp*) son abiertas o ingenuas (*naive*)\n",
    "    por defecto.\n",
    "    "
   ]
  },
  {
   "cell_type": "markdown",
   "metadata": {
    "slideshow": {
     "slide_type": "slide"
    }
   },
   "source": [
    "-   Existen ciertos huecos en la funcionalidad: Interpretar texto en\n",
    "    formato ISO 8601, convertir a valores más fáciles de interpretar por\n",
    "    humanos...\n",
    "\n",
    "Veremos ejemplos de cada una de estas funcionalidad tal y como las\n",
    "resuelve `arrow`."
   ]
  },
  {
   "cell_type": "markdown",
   "metadata": {
    "slideshow": {
     "slide_type": "slide"
    }
   },
   "source": [
    "### Crear fechas\n",
    "\n",
    "Usando datetime no tenemos muchas opciones para crear fechas, podemos\n",
    "crearlas pasando los datos que necesitamos, o obtener la fecha de hoy con\n",
    "`datetime.date.today` o el *timestamp* de este momento, con `datetime.datetime.now`\n",
    "o `datetime.datetime.utcnow`. "
   ]
  },
  {
   "cell_type": "code",
   "execution_count": null,
   "metadata": {
    "slideshow": {
     "slide_type": "slide"
    }
   },
   "outputs": [],
   "source": [
    "import datetime\n",
    "\n",
    "fecha = datetime.date(2020, 6, 23)  # 23/jun/2020\n",
    "timestamp = datetime.datetime(2020, 6, 23, 12, 0, 0)  # 23/jun/2020, a las 12:00:00\n",
    "\n",
    "hoy = datetime.date.today()\n",
    "ahora = datetime.datetime.now()\n",
    "print(fecha, timestamp, hoy, ahora, sep=\",\")"
   ]
  },
  {
   "cell_type": "markdown",
   "metadata": {
    "slideshow": {
     "slide_type": "slide"
    }
   },
   "source": [
    "Con `arrow` tenemos las mismas opciones, pero ademas podemos crear una\n",
    "fecha timestamp a partir del texto en formato ISO 8601. Arrow crea casi\n",
    "todos las variables con la funcion `get`. Si se llama a `get` sin\n",
    "parametros nos devolvera la fecha y hora actual, usando la zona horaria UTC:"
   ]
  },
  {
   "cell_type": "code",
   "execution_count": 15,
   "metadata": {
    "slideshow": {
     "slide_type": "slide"
    }
   },
   "outputs": [
    {
     "name": "stdout",
     "output_type": "stream",
     "text": [
      "Requirement already satisfied: arrow in /home/jileon/.virtualenvs/eoi/lib/python3.6/site-packages (0.15.5)\r\n",
      "Requirement already satisfied: python-dateutil in /home/jileon/.virtualenvs/eoi/lib/python3.6/site-packages (from arrow) (2.8.1)\r\n",
      "Requirement already satisfied: six>=1.5 in /home/jileon/.virtualenvs/eoi/lib/python3.6/site-packages (from python-dateutil->arrow) (1.14.0)\r\n"
     ]
    }
   ],
   "source": [
    "### Instalar arrow\n",
    "\n",
    "!pip install arrow"
   ]
  },
  {
   "cell_type": "code",
   "execution_count": 21,
   "metadata": {
    "slideshow": {
     "slide_type": "slide"
    }
   },
   "outputs": [],
   "source": [
    "import arrow"
   ]
  },
  {
   "cell_type": "code",
   "execution_count": 22,
   "metadata": {
    "slideshow": {
     "slide_type": "slide"
    }
   },
   "outputs": [],
   "source": [
    "import arrow\n",
    "now = arrow.get()\n",
    "ts = arrow.get('2020-06-11T21:23:58.970460+07:00')\n",
    "d1 = arrow.get(2020, 3, 3)\n",
    "d2 = arrow.get('2020-03-03')\n",
    "assert d1 == d2"
   ]
  },
  {
   "cell_type": "markdown",
   "metadata": {
    "slideshow": {
     "slide_type": "slide"
    }
   },
   "source": [
    "Si queremos ser más explícitos, tenemos las funciones `now` y `utcnow`. Con `now` podemos\n",
    "indicar la zona horaria como una string, una forma muchos más sencilla que con la librería\n",
    "estándar:"
   ]
  },
  {
   "cell_type": "code",
   "execution_count": 28,
   "metadata": {},
   "outputs": [
    {
     "name": "stdout",
     "output_type": "stream",
     "text": [
      "2020-04-20T15:55:15.494170+00:00\n",
      "2020-04-20T16:55:15.498987+01:00\n",
      "2020-04-20T16:55:15.500376+01:00\n"
     ]
    }
   ],
   "source": [
    "print(arrow.utcnow())\n",
    "print(arrow.now())\n",
    "print(arrow.now('Atlantic/Canary'))"
   ]
  },
  {
   "cell_type": "markdown",
   "metadata": {
    "slideshow": {
     "slide_type": "slide"
    }
   },
   "source": [
    "Además, al contrario que `datetime`, las fechas y marcas temporales no\n",
    "son abiertas o *naive* por defecto, sino que tienen definido el huso\n",
    "horario al que corresponden. Si no se indica nada, por defecto se asigna UTC. Por eso \n",
    "en la celda anterior los valores deberían ser practicamente iguales (La diferencia debe estar en la escala de milisegundos)."
   ]
  },
  {
   "cell_type": "code",
   "execution_count": 34,
   "metadata": {},
   "outputs": [],
   "source": [
    "arrow.Arrow.utcoffset?"
   ]
  },
  {
   "cell_type": "code",
   "execution_count": null,
   "metadata": {},
   "outputs": [],
   "source": [
    "arrow.now('America/Chicago').utcoffset"
   ]
  },
  {
   "cell_type": "markdown",
   "metadata": {
    "slideshow": {
     "slide_type": "slide"
    }
   },
   "source": [
    "**Ejercicio**: Sabiendo que la zona horaria de Turquía es `Asia/Istanbul`, averiguar cual es\n",
    "la diferencia horaria con respecto a UTC. Este dato esta disponible usando el método `utcoffset()`. Puedes\n",
    "ver los [nombres de las zonas horarias en Wikipedia](https://en.wikipedia.org/wiki/List_of_tz_database_time_zones).\n",
    "\n",
    "**Plus**: Averiguar la diferencia horaria entre la España peninsular (zona horaria `Europe/Madrid`), Alemania (zona horaria `Europe/Berlin` e Italia  (zona horaria `Europe/Rome`)."
   ]
  },
  {
   "cell_type": "code",
   "execution_count": 39,
   "metadata": {
    "slideshow": {
     "slide_type": "slide"
    }
   },
   "outputs": [
    {
     "name": "stdout",
     "output_type": "stream",
     "text": [
      "2020-04-20T19:04:54.205854+03:00\n"
     ]
    }
   ],
   "source": [
    "# %load diferencia-horaria-turquia.py\n",
    "import arrow\n",
    "\n",
    "now = arrow.now('Asia/Istanbul')\n",
    "print(now)\n",
    "\n"
   ]
  },
  {
   "cell_type": "code",
   "execution_count": 41,
   "metadata": {
    "slideshow": {
     "slide_type": "slide"
    }
   },
   "outputs": [
    {
     "name": "stdout",
     "output_type": "stream",
     "text": [
      "Diferencias horarias respecto a España peninsular:\n",
      " - Turquia: -1 day, 23:00:00\n",
      " - Alemania: 0:00:00\n",
      " - Italia: 0:00:00\n"
     ]
    }
   ],
   "source": [
    "# %load diferencia-madrid-berlin-roma.py\n",
    "import arrow\n",
    "\n",
    "now_in_madrid = arrow.now(\"Europe/Madrid\")\n",
    "now_in_turkey = arrow.now(\"Asia/Istanbul\")\n",
    "now_in_berlin = arrow.now(\"Europe/Berlin\")\n",
    "now_in_rome = arrow.now(\"Europe/Rome\")\n",
    "\n",
    "print(\"Diferencias horarias respecto a España peninsular:\")\n",
    "print(\" - Turquia:\", now_in_madrid.utcoffset() - now_in_turkey.utcoffset())\n",
    "print(\" - Alemania:\", now_in_madrid.utcoffset() - now_in_berlin.utcoffset())\n",
    "print(\" - Italia:\",  now_in_madrid.utcoffset() - now_in_rome.utcoffset())"
   ]
  },
  {
   "cell_type": "markdown",
   "metadata": {
    "slideshow": {
     "slide_type": "slide"
    }
   },
   "source": [
    "### Otras formas de crear fechas o marcas temporales\n",
    "\n",
    "#### A partir de tiempos UNIX\n",
    "\n",
    "Otra posibilidad es crear fechas o marcas temporales a parir de \n",
    "los [tiempos UNIX o Enotch](https://es.wikipedia.org/wiki/Tiempo_Unix):"
   ]
  },
  {
   "cell_type": "code",
   "execution_count": 42,
   "metadata": {
    "slideshow": {
     "slide_type": "slide"
    }
   },
   "outputs": [
    {
     "name": "stdout",
     "output_type": "stream",
     "text": [
      "2017-02-24T01:44:24+00:00\n",
      "2013-05-07T04:24:24.152325+00:00\n",
      "2020-04-20T16:12:24.618538+00:00\n"
     ]
    }
   ],
   "source": [
    "import arrow, time\n",
    "\n",
    "print(arrow.get(1487900664))\n",
    "print(arrow.get(1367900664.152325))\n",
    "print(arrow.get(time.time()))"
   ]
  },
  {
   "cell_type": "markdown",
   "metadata": {
    "slideshow": {
     "slide_type": "slide"
    }
   },
   "source": [
    "#### A partir de otros objetos `date` o `timestamp`\n",
    "\n",
    "Observa que con el siguiente ejemplo se consiguen fechas *arrow* y son, por tanto, completas, con zona\n",
    "horaria UTC por defecto, menos en el último ejemplo, que forzamos la zona horaria de Francia."
   ]
  },
  {
   "cell_type": "code",
   "execution_count": 43,
   "metadata": {
    "slideshow": {
     "slide_type": "slide"
    }
   },
   "outputs": [
    {
     "name": "stdout",
     "output_type": "stream",
     "text": [
      "2020-04-20T00:00:00+00:00\n",
      "2020-04-20T17:14:01.549702+00:00\n",
      "2020-04-20T17:14:01.550245+02:00\n"
     ]
    }
   ],
   "source": [
    "import arrow, datetime\n",
    "\n",
    "print(arrow.get(datetime.date.today()))\n",
    "print(arrow.get(datetime.datetime.now()))\n",
    "print(arrow.get(datetime.datetime.now(), \"Europe/Paris\"))"
   ]
  },
  {
   "cell_type": "markdown",
   "metadata": {
    "slideshow": {
     "slide_type": "slide"
    }
   },
   "source": [
    "#### A partir de una cadena de texto\n",
    "\n",
    "Podemos extraer de una texto una fecha o marca temporal, si le indicamos\n",
    "a la libreria como debe interpretar ese texto:"
   ]
  },
  {
   "cell_type": "code",
   "execution_count": 45,
   "metadata": {
    "slideshow": {
     "slide_type": "slide"
    }
   },
   "outputs": [
    {
     "data": {
      "text/plain": [
       "<Arrow [2022-04-19T12:30:45+00:00]>"
      ]
     },
     "execution_count": 45,
     "metadata": {},
     "output_type": "execute_result"
    }
   ],
   "source": [
    "import arrow\n",
    "\n",
    "arrow.get('2022-04-19 12:30:45', 'YYYY-MM-DD HH:mm:ss')"
   ]
  },
  {
   "cell_type": "markdown",
   "metadata": {
    "slideshow": {
     "slide_type": "slide"
    }
   },
   "source": [
    "No hay problema si el dato está incluido dentro de un texto mayor. En el siguiente ejemplo, además, \n",
    "se especifica el parámetro `locale` a español (Usando la constante `ES_es`) para estar seguros\n",
    "de que se interpreta *julio* como el nombre del mes, y no *July*:"
   ]
  },
  {
   "cell_type": "code",
   "execution_count": 50,
   "metadata": {
    "slideshow": {
     "slide_type": "slide"
    }
   },
   "outputs": [
    {
     "name": "stdout",
     "output_type": "stream",
     "text": [
      "1961-07-01T00:00:00+00:00\n"
     ]
    }
   ],
   "source": [
    "import arrow\n",
    "\n",
    "d = arrow.get(\n",
    "    'Diana, princesa de Gales, nacida el 1 de julio de 1961 en Norfolk, Inglaterra',\n",
    "    'D [de ]MMMM [de ]YYYY',\n",
    "    locale=\"ES_es\",\n",
    ")\n",
    "print(d)"
   ]
  },
  {
   "cell_type": "markdown",
   "metadata": {
    "slideshow": {
     "slide_type": "slide"
    }
   },
   "source": [
    "Podemos usar los siguientes códigos para formatear o para interpretar una fecha en un texto. No son\n",
    "los mismos valores que usa datetime.\n",
    "\n",
    "|     | Token   | Salida |\n",
    "|----:|---------|--------|\n",
    "| Año | YYYY    | 2000, 2001, 2002 … 2012, 2013 |\n",
    "|     | YY      | 00, 01, 02 … 12, 13 |\n",
    "| Mes | MMMM    | Nombre completo del mes |\n",
    "|     | MMM     | Nombre abreviado del mes (tres letras) |\n",
    "|     | MM      | Numero del mes, con dos digitos |\n",
    "|     | M       | Numoer del mes, con uno o dos digitos |\n",
    "| Day of Year   | DDDD | 001, 002, 003 … 364, 365 |\n",
    "|     | DDD     | 1, 2, 3 … 364, 365 |\n",
    "| Day of Month  | DD | 01, 02, 03 … 30, 31 |\n",
    "|     | D       | 1, 2, 3 … 30, 31 |\n",
    "|     | Do      | 1st, 2nd, 3rd … 30th, 31st |\n",
    "| Day of Week   | dddd | Lunes, Martes, Miércoles... |\n",
    "|               | ddd | Mon, Tue, Wed |\n",
    "|               | d   | 1, 2, 3 … 6, 7 |\n",
    "| ISO week date | W | 2011-W05-4, 2019-W17 |\n",
    "| Hour | HH | 00, 01, 02 … 23, 24 |\n",
    "|      | H  | 0, 1, 2 … 23, 24 |\n",
    "|      | hh | 01, 02, 03 … 11, 12 |\n",
    "|      | h  | 1, 2, 3 … 11, 12 |\n",
    "| AM / PM | A | AM, PM, am, pm |\n",
    "|         | a | am, pm         |\n",
    "| Minute  | mm | 00, 01, 02 … 58, 59 |\n",
    "|         | m  | 0, 1, 2 … 58, 59  |\n",
    "| Second  | ss | 00, 01, 02 … 58, 59  |\n",
    "|         | s  | 0, 1, 2 … 58, 59 |\n",
    "| Sub-second | S… | 0, 02, 003, 000006, 123123123123… |\n",
    "| Timezone   | ZZZ | Asia/Baku, Europe/Warsaw, GMT |\n",
    "|            | ZZ  | -07:00, -06:00 … +06:00, +07:00, +08, Z |\n",
    "|            | Z   | -0700, -0600 … +0600, +0700, +08, Z  |\n",
    "|  Seconds Timestamp | X | 1381685817, 1381685817.915482 … |\n",
    "| ms or µs Timestamp | x | 1569980330813, 1569980330813221 |"
   ]
  },
  {
   "cell_type": "markdown",
   "metadata": {
    "slideshow": {
     "slide_type": "slide"
    }
   },
   "source": [
    "#### A partir de una cadena de texto en formato ISO 8601\n",
    "\n",
    "Si tenemos la suerte de que el texto ya viene en formato ISO 8601, se puede\n",
    "interpretar directamente, sin necesidad de indicar el formato:"
   ]
  },
  {
   "cell_type": "code",
   "execution_count": 51,
   "metadata": {
    "slideshow": {
     "slide_type": "fragment"
    }
   },
   "outputs": [
    {
     "data": {
      "text/plain": [
       "<Arrow [2013-09-30T15:34:00-07:00]>"
      ]
     },
     "execution_count": 51,
     "metadata": {},
     "output_type": "execute_result"
    }
   ],
   "source": [
    "import arrow\n",
    "\n",
    "arrow.get('2013-09-30T15:34:00.000-07:00')"
   ]
  },
  {
   "cell_type": "markdown",
   "metadata": {
    "slideshow": {
     "slide_type": "slide"
    }
   },
   "source": [
    "### Obtener una fecha/timestamp a partir de otra\n",
    "\n",
    "Los objetos `Arrow` tienen un método llamado `replace` para cambiar los\n",
    "valores de una fecha, y otro llamado `shift` que nos permite *desplazar*\n",
    "una fecha a lo largo del tiempo. Como los objetos tipo `Arrow` son\n",
    "inmutables, tanto `replace` como `shitf` nos devuelven un nuevo objeto\n",
    "en la posicion temporal deseada. "
   ]
  },
  {
   "cell_type": "markdown",
   "metadata": {
    "slideshow": {
     "slide_type": "slide"
    }
   },
   "source": [
    "El método acepta diferentes unidades de\n",
    "desplazamiento, y lo hace mediante parametro con nombre, como `days`,\n",
    "`months`, `minutes`,..."
   ]
  },
  {
   "cell_type": "markdown",
   "metadata": {
    "slideshow": {
     "slide_type": "slide"
    }
   },
   "source": [
    "**Ejercicio**: Calcular el número de días que faltan para la navidad "
   ]
  },
  {
   "cell_type": "markdown",
   "metadata": {
    "slideshow": {
     "slide_type": "fragment"
    }
   },
   "source": [
    "**Pista**: primero obtén la fecha actual. Luego crea una nueva fecha reemplazando el mes por 12 y el día por 25 (`replace`). La diferencia entre las dos fechas te da el número de días hasta Navidad."
   ]
  },
  {
   "cell_type": "code",
   "execution_count": 56,
   "metadata": {
    "slideshow": {
     "slide_type": "slide"
    }
   },
   "outputs": [
    {
     "name": "stdout",
     "output_type": "stream",
     "text": [
      "249 days, 0:00:00\n"
     ]
    }
   ],
   "source": [
    "# %load dias-hasta-navidad.py\n",
    "import arrow\n",
    "\n",
    "today = arrow.get()\n",
    "navidad = today.replace(month=12, day=25)\n",
    "print(navidad - today)\n"
   ]
  },
  {
   "cell_type": "markdown",
   "metadata": {
    "slideshow": {
     "slide_type": "slide"
    }
   },
   "source": [
    "#### El método shift (desplazar)\n",
    "\n",
    "Con el método `shift` también abtenemos una nueva fecha, pero en vez de indicar los valores\n",
    "a cambiar, indicamos el desplazamiento, positivo o negativo, a partir de la fecha original. Por ejemplo, para\n",
    "obtenter la fecha de mañana, se puede hacer:"
   ]
  },
  {
   "cell_type": "code",
   "execution_count": 57,
   "metadata": {
    "slideshow": {
     "slide_type": "slide"
    }
   },
   "outputs": [
    {
     "name": "stdout",
     "output_type": "stream",
     "text": [
      "2020-04-20T16:29:20.481298+00:00, 2020-04-21T16:29:20.481298+00:00\n"
     ]
    }
   ],
   "source": [
    "import arrow\n",
    "\n",
    "hoy = arrow.get()\n",
    "mannana = hoy.shift(days=1)\n",
    "print(hoy, mannana, sep=\", \")"
   ]
  },
  {
   "cell_type": "markdown",
   "metadata": {
    "slideshow": {
     "slide_type": "slide"
    }
   },
   "source": [
    "**Ejercicio**: Usando `arrow`, calcular la fecha\n",
    "correspondiente al día actual, pero dentro de 8 años, 3 meses y 9 días."
   ]
  },
  {
   "cell_type": "code",
   "execution_count": 60,
   "metadata": {
    "slideshow": {
     "slide_type": "slide"
    }
   },
   "outputs": [
    {
     "name": "stdout",
     "output_type": "stream",
     "text": [
      "El día 29/Jul/2028 cae en sábado\n"
     ]
    }
   ],
   "source": [
    "# %load fecha-futura.py\n",
    "import arrow\n",
    "\n",
    "WEEKDAYS = [\"lunes\", \"martes\", \"miércoles\", \"jueves\", \"viernes\", \"sábado\", \"domingo\"]\n",
    "\n",
    "dia = arrow.utcnow()\n",
    "futuro = dia.shift(years=8, months=3, days=9)\n",
    "wd = futuro.weekday()\n",
    "print(f\"El día {futuro.format('D/MMM/YYYY')} cae en {WEEKDAYS[wd]}\")\n"
   ]
  },
  {
   "cell_type": "markdown",
   "metadata": {
    "slideshow": {
     "slide_type": "slide"
    }
   },
   "source": [
    "### El método `for_json`\n",
    "\n",
    "El método `for_json` devuelve una string en formato ISO, lo que resulta muy cómodo para\n",
    "incluir fechas y marcas temporales en formato JSON, que no tiene un tipo de dato especifico\n",
    "para estos datos."
   ]
  },
  {
   "cell_type": "code",
   "execution_count": null,
   "metadata": {
    "slideshow": {
     "slide_type": "fragment"
    }
   },
   "outputs": [],
   "source": [
    "import arrow\n",
    "\n",
    "print(arrow.get(2019, 12, 6).for_json())"
   ]
  },
  {
   "cell_type": "markdown",
   "metadata": {
    "slideshow": {
     "slide_type": "slide"
    }
   },
   "source": [
    "### Rangos\n",
    "\n",
    "A partir de un objeto `Arrow`, podemos obtener el rango que lo contiene. El\n",
    "ancho del rango depende de la unidad que se le pase como parametro al metodo\n",
    "`span`:\n",
    "  "
   ]
  },
  {
   "cell_type": "code",
   "execution_count": 65,
   "metadata": {
    "slideshow": {
     "slide_type": "slide"
    }
   },
   "outputs": [
    {
     "name": "stdout",
     "output_type": "stream",
     "text": [
      "2020-04-20T16:00:00+00:00\n",
      "2020-04-20T16:59:59.999999+00:00\n"
     ]
    }
   ],
   "source": [
    "import arrow\n",
    "\n",
    "desde, hasta = arrow.utcnow().span('hours')\n",
    "print(desde)\n",
    "print(hasta)"
   ]
  },
  {
   "cell_type": "markdown",
   "metadata": {
    "slideshow": {
     "slide_type": "slide"
    }
   },
   "source": [
    "O podemos obtener los limites inferior y superior del rango por sseparado, conlos metodos `floor` y `ceil`:"
   ]
  },
  {
   "cell_type": "code",
   "execution_count": 3,
   "metadata": {
    "slideshow": {
     "slide_type": "slide"
    }
   },
   "outputs": [
    {
     "name": "stdout",
     "output_type": "stream",
     "text": [
      "2020-04-20T15:00:00+00:00\n",
      "2020-04-20T15:59:59.999999+00:00\n"
     ]
    }
   ],
   "source": [
    "import arrow\n",
    "\n",
    "print(arrow.utcnow().floor('hour'))\n",
    "print(arrow.utcnow().ceil('hour'))"
   ]
  },
  {
   "cell_type": "markdown",
   "metadata": {
    "slideshow": {
     "slide_type": "slide"
    }
   },
   "source": [
    "### El metodo humanize\n",
    "\n",
    "**humanize** nos permite obtener una descripción textual, más ambigua pero muy comoda y apta\n",
    "para un ser humano. Con un ejemplo lo entenderemos enseguida:"
   ]
  },
  {
   "cell_type": "code",
   "execution_count": 73,
   "metadata": {
    "slideshow": {
     "slide_type": "slide"
    }
   },
   "outputs": [
    {
     "name": "stdout",
     "output_type": "stream",
     "text": [
      "an hour ago\n",
      "in 5 years\n"
     ]
    }
   ],
   "source": [
    "import arrow\n",
    "\n",
    "d = arrow.now().shift(hours=-1)\n",
    "print(d.humanize())\n",
    "\n",
    "d = arrow.now().shift(years=5, months=11, days=1)\n",
    "print(d.humanize())"
   ]
  },
  {
   "cell_type": "markdown",
   "metadata": {
    "slideshow": {
     "slide_type": "slide"
    }
   },
   "source": [
    "En estos ejemplos hemos forzado el valor de `locale`. Un __locale__ se refiere\n",
    "a un conjunto de variables de entorno que definen el lenguaje, país y codificación\n",
    "de caracteres preferida, entre otras cosas (como, por ejemplo, si las fechas se expresan\n",
    "en el orden día, mes, año o mes, dia, año). \n",
    "\n",
    "En los ejemplos se ha ajustado a mano para estar seguros de que los ejemplos funcionan \n",
    "en cualquier entorno, pero lo recomendado, obviamente, es que el sistema tenga correctamente\n",
    "definido el `locale` para que arrow lo lea del sistema."
   ]
  },
  {
   "cell_type": "markdown",
   "metadata": {
    "slideshow": {
     "slide_type": "slide"
    }
   },
   "source": [
    "**Miniproyecto**: Calcular el número total de viernes y 13 en el año 2020"
   ]
  },
  {
   "cell_type": "markdown",
   "metadata": {
    "slideshow": {
     "slide_type": "slide"
    }
   },
   "source": [
    "## **Pistas**: \n",
    "\n",
    "1. Obtén una fecha para el primer día del año, es decir, a 1 de enero de 2020. Puedes\n",
    "usar cualquier nombre para esta variable, en estas pistas supondré que la has llamado `dia`."
   ]
  },
  {
   "cell_type": "markdown",
   "metadata": {
    "slideshow": {
     "slide_type": "slide"
    }
   },
   "source": [
    "2. Haz un bucle `while` para recorrer todos los días del año. La condición\n",
    "de salida es que el año sea distinto del año actual, por lo tanto la\n",
    "condición del `while` es la contraria: (`while d.year == 2020`).\n",
    "\n",
    "  Acuérdate de que para este tipo de bucles es importante asegurarse de que la \n",
    "variable que provoca la salida del bucle es modificada dentro del mismo. En este ejemplo,\n",
    "hay que avanzar la variable `dia` en cada iteración (Ver el punto 4)."
   ]
  },
  {
   "cell_type": "markdown",
   "metadata": {
    "slideshow": {
     "slide_type": "slide"
    }
   },
   "source": [
    "3. Para cada uno de los días, comprobar si es el 13 (`dia.day == 13`) __y__ que es viernes (`dia.weekday() == 4`). Si es así, imprímelo."
   ]
  },
  {
   "cell_type": "markdown",
   "metadata": {
    "slideshow": {
     "slide_type": "slide"
    }
   },
   "source": [
    "4. desplaza dia al dia siguiente: `dia = dia.shift(days=1)`."
   ]
  },
  {
   "cell_type": "code",
   "execution_count": 76,
   "metadata": {
    "slideshow": {
     "slide_type": "slide"
    }
   },
   "outputs": [
    {
     "name": "stdout",
     "output_type": "stream",
     "text": [
      "[<Arrow [1915-05-13T18:08:34.108930+00:00]>]\n"
     ]
    }
   ],
   "source": [
    "def Viernes13(year):\n",
    "    viernes13 = []\n",
    "    day = arrow.now().replace(day=13,month=1,year=year)\n",
    "    for i in range(1,13):\n",
    "        day = day.replace(month=i)\n",
    "        if day.isoweekday() == 4:\n",
    "            viernes13.append(day)\n",
    "    return viernes13\n",
    "\n",
    "print(Viernes13(1915))"
   ]
  },
  {
   "cell_type": "code",
   "execution_count": 77,
   "metadata": {
    "slideshow": {
     "slide_type": "slide"
    }
   },
   "outputs": [
    {
     "name": "stdout",
     "output_type": "stream",
     "text": [
      "2020-03-13T00:00:00+00:00\n",
      "2020-11-13T00:00:00+00:00\n"
     ]
    }
   ],
   "source": [
    "# %load viernes-trece.py\n",
    "#!/usr/bin/env python\n",
    "\n",
    "import arrow\n",
    "\n",
    "dia = arrow.get(2020, 1, 1)\n",
    "while dia.year == 2020:\n",
    "    if dia.day == 13 and dia.weekday() == 4:  # Es viernes y trece\n",
    "        print(dia)\n",
    "    dia = dia.shift(days=1)\n",
    "\n"
   ]
  },
  {
   "cell_type": "markdown",
   "metadata": {
    "slideshow": {
     "slide_type": "slide"
    }
   },
   "source": [
    "**Extra**: ¿Cuántos días viernes y trece hubo en 2015? ¿Y en 1915?"
   ]
  },
  {
   "cell_type": "markdown",
   "metadata": {},
   "source": [
    "### Libreria alternativas\n",
    "\n",
    "- [Delorean](https://github.com/myusuf3/delorean)\n",
    "\n",
    "- [Pendulum](https://pendulum.eustace.io/)"
   ]
  },
  {
   "cell_type": "code",
   "execution_count": null,
   "metadata": {},
   "outputs": [],
   "source": []
  }
 ],
 "metadata": {
  "celltoolbar": "Slideshow",
  "kernelspec": {
   "display_name": "Python 3",
   "language": "python",
   "name": "python3"
  },
  "language_info": {
   "codemirror_mode": {
    "name": "ipython",
    "version": 3
   },
   "file_extension": ".py",
   "mimetype": "text/x-python",
   "name": "python",
   "nbconvert_exporter": "python",
   "pygments_lexer": "ipython3",
   "version": "3.6.9"
  }
 },
 "nbformat": 4,
 "nbformat_minor": 4
}
