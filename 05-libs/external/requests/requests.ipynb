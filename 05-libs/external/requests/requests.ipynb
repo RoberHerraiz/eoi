{
 "cells": [
  {
   "cell_type": "markdown",
   "metadata": {
    "slideshow": {
     "slide_type": "slide"
    }
   },
   "source": [
    "## La libreria requests\n",
    "\n",
    "Requests es una librería para HTTP escrita en Python, para seres humanos."
   ]
  },
  {
   "cell_type": "markdown",
   "metadata": {
    "slideshow": {
     "slide_type": "slide"
    }
   },
   "source": [
    "### Filosofía\n",
    "\n",
    "Requests fue desarrollado al estilo PEP 20.\n",
    "\n",
    "Hermoso es mejor que feo.\n",
    "Explícito es mejor que implícito.\n",
    "Simple es mejor que complejo.\n",
    "Complejo es mejor que complicado.\n",
    "La legibilidad cuenta."
   ]
  },
  {
   "cell_type": "code",
   "execution_count": 3,
   "metadata": {},
   "outputs": [
    {
     "name": "stdout",
     "output_type": "stream",
     "text": [
      "Requirement already satisfied: requests in /home/jileon/.virtualenvs/eoi/lib/python3.6/site-packages (2.23.0)\n",
      "Requirement already satisfied: urllib3!=1.25.0,!=1.25.1,<1.26,>=1.21.1 in /home/jileon/.virtualenvs/eoi/lib/python3.6/site-packages (from requests) (1.25.8)\n",
      "Requirement already satisfied: certifi>=2017.4.17 in /home/jileon/.virtualenvs/eoi/lib/python3.6/site-packages (from requests) (2019.11.28)\n",
      "Requirement already satisfied: chardet<4,>=3.0.2 in /home/jileon/.virtualenvs/eoi/lib/python3.6/site-packages (from requests) (3.0.4)\n",
      "Requirement already satisfied: idna<3,>=2.5 in /home/jileon/.virtualenvs/eoi/lib/python3.6/site-packages (from requests) (2.9)\n",
      "Note: you may need to restart the kernel to use updated packages.\n"
     ]
    }
   ],
   "source": [
    "pip install requests"
   ]
  },
  {
   "cell_type": "code",
   "execution_count": 4,
   "metadata": {},
   "outputs": [],
   "source": [
    "import requests"
   ]
  },
  {
   "cell_type": "markdown",
   "metadata": {
    "slideshow": {
     "slide_type": "slide"
    }
   },
   "source": [
    "Ejemplo con requests"
   ]
  },
  {
   "cell_type": "code",
   "execution_count": 19,
   "metadata": {
    "slideshow": {
     "slide_type": "slide"
    }
   },
   "outputs": [
    {
     "name": "stdout",
     "output_type": "stream",
     "text": [
      "200\n",
      "Server : SimpleHTTP/0.6 Python/3.6.9\n",
      "Date : Tue, 21 Apr 2020 18:21:22 GMT\n",
      "Content-type : text/html; charset=utf-8\n",
      "Content-Length : 672\n",
      "utf-8\n"
     ]
    }
   ],
   "source": [
    "r = requests.get('http://localhost:8000')\n",
    "print(r.status_code)\n",
    "for nm in r.headers:\n",
    "    print(nm, ':', r.headers[nm])\n",
    "print(r.encoding)\n",
    "#print(r.text)"
   ]
  },
  {
   "cell_type": "markdown",
   "metadata": {
    "slideshow": {
     "slide_type": "slide"
    }
   },
   "source": [
    "En python 2, un codigo equivalente a esto era bastante mas largo e incomodo\n",
    "de leer. Es verdad que ahora, con el cambio llevado a las librerias en\n",
    "Python3, la diferencia ya no es tanta. Aun asi, `requests` llega más lejos\n",
    "en terminis de comodidad y facilidad de uso."
   ]
  },
  {
   "cell_type": "markdown",
   "metadata": {
    "slideshow": {
     "slide_type": "slide"
    }
   },
   "source": [
    "Si tu programa hace uso extensivo de llamadas a servidores http, seguramente\n",
    "`requests` te aprotara un codigo mas sencillo y te conviene usarlo, si solo\n",
    "estas haciendo una unica llamada, igual requests seria demasiado, ya que solo\n",
    "te ahorrarias un par de lineas, que igual no compensa añadir otra dependencia\n",
    "a tu codigo."
   ]
  },
  {
   "cell_type": "markdown",
   "metadata": {
    "slideshow": {
     "slide_type": "slide"
    }
   },
   "source": [
    "### Instalar request\n",
    "\n",
    "pip install request\n",
    "\n",
    "### Realizar un petición GET\n",
    "\n",
    "Realizar una petición en Requests muy sencillo.\n",
    "\n",
    "Comienza importando el módulo de Requests:\n",
    "\n",
    ">>> import requests\n",
    "\n",
    "Ahora,\n",
    "\n",
    "\n",
    "intentemos obtener un página web. Para este ejemplo, vamos a obtener el\n",
    "timeline público de GitHub.:"
   ]
  },
  {
   "cell_type": "code",
   "execution_count": 22,
   "metadata": {
    "slideshow": {
     "slide_type": "slide"
    }
   },
   "outputs": [],
   "source": [
    "r = requests.get('https://api.github.com/events')"
   ]
  },
  {
   "cell_type": "code",
   "execution_count": 31,
   "metadata": {
    "slideshow": {
     "slide_type": "fragment"
    }
   },
   "outputs": [],
   "source": [
    "data = r.json()"
   ]
  },
  {
   "cell_type": "markdown",
   "metadata": {
    "slideshow": {
     "slide_type": "slide"
    }
   },
   "source": [
    "Ahora, tenemos un objeto Response llamado `r`. Podemos obtener toda la\n",
    "información que necesitamos a partir de este objeto."
   ]
  },
  {
   "cell_type": "markdown",
   "metadata": {
    "slideshow": {
     "slide_type": "slide"
    }
   },
   "source": [
    "**Ejercicio**: En la propiedad `status_code` podemos acceder al codigo\n",
    "de respuesta del servidor. Este es el famoso 404 que obtenemos a veces\n",
    "en el navegador, si intentamos acceder a una pagina que no existe, por ejemplo.\n",
    "\n",
    "El codigo para \"todo ha ido bien\" en 200."
   ]
  },
  {
   "cell_type": "markdown",
   "metadata": {
    "slideshow": {
     "slide_type": "slide"
    }
   },
   "source": [
    "Haz un pequeño script para comprobar una serie de paginas web. Has una peticion\n",
    "de tipo GET para cada direccion y conprueba que el `status_code` de la respuesta\n",
    "en 200. Imprime un codigo de error en caso contrario."
   ]
  },
  {
   "cell_type": "markdown",
   "metadata": {
    "slideshow": {
     "slide_type": "slide"
    }
   },
   "source": [
    "Puedes usar estas direcciones, o modificarlas a tu gusto\n",
    "\n",
    "https://www.google.com/\n",
    "https://github.com/\n",
    "https://www.parcan.es/\n",
    "\n",
    "    urls = [\n",
    "        'https://www.google.com/',\n",
    "        'https://github.com/',\n",
    "        'https://www.parcan.es/',\n",
    "    ]"
   ]
  },
  {
   "cell_type": "markdown",
   "metadata": {
    "slideshow": {
     "slide_type": "slide"
    }
   },
   "source": [
    "GET es el tipo de peticion mas frecuente, pero puedes acceder a todos los\n",
    "verbos HTTP:\n",
    "\n",
    "- requests.post(\"http://httpbin.org/post\")\n",
    "\n",
    "- requests.put(\"http://httpbin.org/put\")\n",
    "\n",
    "- requests.delete(\"http://httpbin.org/delete\")\n",
    "\n",
    "- requests.head(\"http://httpbin.org/get\")\n",
    "\n",
    "- requests.options(\"http://httpbin.org/get\")"
   ]
  },
  {
   "cell_type": "markdown",
   "metadata": {
    "slideshow": {
     "slide_type": "slide"
    }
   },
   "source": [
    "**Ejercicio**: Cambia el código anterior para que use\n",
    "`head` en vez de `get`. Va más rapida? Por qué? Devuelven todas los servidores el código `200`?"
   ]
  },
  {
   "cell_type": "markdown",
   "metadata": {
    "slideshow": {
     "slide_type": "slide"
    }
   },
   "source": [
    "### Pasar parámetros en URLs\n",
    "\n",
    "Con frecuencia, debes enviar algún tipo de información en el query string de la\n",
    "URL. Si estuvieses creando la URL a mano, esta información estaría en forma de\n",
    "pares llave/valor luego del signo de interrogación en la URL, por ejemplo\n",
    "`httpbin.org/get?key=val`. "
   ]
  },
  {
   "cell_type": "markdown",
   "metadata": {
    "slideshow": {
     "slide_type": "slide"
    }
   },
   "source": [
    "Requests te permite proveer estos argumentos en forma\n",
    "de diccionario, usando el parámetro en llave (keyword argument) params. Como\n",
    "ejemplo, si quisieras pasar key1=value1 y key2=value2 a httpbin.org/get, usarías\n",
    "algo como esto:\n",
    "\n"
   ]
  },
  {
   "cell_type": "code",
   "execution_count": 40,
   "metadata": {
    "slideshow": {
     "slide_type": "slide"
    }
   },
   "outputs": [],
   "source": [
    "payload = {'key1': 'value1', 'key2': 'value2'}\n",
    "r = requests.get(\"http://httpbin.org/get\", params=payload)"
   ]
  },
  {
   "cell_type": "markdown",
   "metadata": {
    "slideshow": {
     "slide_type": "slide"
    }
   },
   "source": [
    "Puedes ver que la URL ha sido codificada correctamente imprimiéndola:"
   ]
  },
  {
   "cell_type": "code",
   "execution_count": 41,
   "metadata": {
    "slideshow": {
     "slide_type": "slide"
    }
   },
   "outputs": [
    {
     "name": "stdout",
     "output_type": "stream",
     "text": [
      "http://httpbin.org/get?key1=value1&key2=value2\n"
     ]
    }
   ],
   "source": [
    "print(r.url)"
   ]
  },
  {
   "cell_type": "markdown",
   "metadata": {
    "slideshow": {
     "slide_type": "slide"
    }
   },
   "source": [
    "Nota: cualquier llave del diccionario cuyo valor es `None` no será agregada \n",
    "al *query string* del URL."
   ]
  },
  {
   "cell_type": "markdown",
   "metadata": {
    "slideshow": {
     "slide_type": "slide"
    }
   },
   "source": [
    "### Contenido de respuesta\n",
    "\n",
    "Podemos leer el contenido de la respuesta del servidor. Usemos el listado de\n",
    "eventos de\n",
    "GitHub nuevamente:"
   ]
  },
  {
   "cell_type": "code",
   "execution_count": 44,
   "metadata": {
    "slideshow": {
     "slide_type": "slide"
    }
   },
   "outputs": [
    {
     "data": {
      "text/plain": [
       "'12115403054'"
      ]
     },
     "execution_count": 44,
     "metadata": {},
     "output_type": "execute_result"
    }
   ],
   "source": [
    "import requests\n",
    "r = requests.get('https://api.github.com/events')\n",
    "r.json()[2]['id']"
   ]
  },
  {
   "cell_type": "markdown",
   "metadata": {
    "slideshow": {
     "slide_type": "slide"
    }
   },
   "source": [
    "Requests automáticamente decodificará el contenido que viene del servidor. La\n",
    "mayoría de caracteres unicode serán decodificados correctamente.\n",
    "\n",
    "Cuando ejecutas una petición, Requests tratará de obtener la codificación de la\n",
    "respuesta basándose en las cabeceras HTTP. La codificación del texto que\n",
    "Requests encontró (o supuso), será utilizada cuando se acceda a `r.text`. Puedes\n",
    "conocer la codificación que `Requests` está utilizando, y cambiarla, usando la\n",
    "propiedad r.encoding:"
   ]
  },
  {
   "cell_type": "code",
   "execution_count": 4,
   "metadata": {
    "slideshow": {
     "slide_type": "slide"
    }
   },
   "outputs": [
    {
     "data": {
      "text/plain": [
       "'ISO-8859-1'"
      ]
     },
     "execution_count": 4,
     "metadata": {},
     "output_type": "execute_result"
    }
   ],
   "source": [
    "import requests\n",
    "\n",
    "r = requests.get('https://google.com/')\n",
    "r.encoding"
   ]
  },
  {
   "cell_type": "markdown",
   "metadata": {
    "slideshow": {
     "slide_type": "slide"
    }
   },
   "source": [
    "### Contenido de respuesta JSON\n",
    "\n",
    "Hay un decodificador de JSON incorporado en Requests:"
   ]
  },
  {
   "cell_type": "code",
   "execution_count": 6,
   "metadata": {
    "slideshow": {
     "slide_type": "slide"
    }
   },
   "outputs": [
    {
     "name": "stdout",
     "output_type": "stream",
     "text": [
      "[{'id': '12122934410', 'type': 'DeleteEvent', 'actor': {'id': 4778111, 'login': 'isoos', 'display_login': 'isoos', 'gravatar_id': '', 'url': 'https://api.github.com/users/isoos', 'avatar_url': 'https://avatars.githubusercontent.com/u/4778111?'}, 'repo': {'id': 86555243, 'name': 'isoos/pub-dartlang-dart', 'url': 'https://api.github.com/repos/isoos/pub-dartlang-dart'}, 'payload': {'ref': 'margins', 'ref_type': 'branch', 'pusher_type': 'user'}, 'public': True, 'created_at': '2020-04-22T11:52:30Z'}, {'id': '12122934414', 'type': 'ForkEvent', 'actor': {'id': 56203660, 'login': 'tushargoyal-hack1', 'display_login': 'tushargoyal-hack1', 'gravatar_id': '', 'url': 'https://api.github.com/users/tushargoyal-hack1', 'avatar_url': 'https://avatars.githubusercontent.com/u/56203660?'}, 'repo': {'id': 257882287, 'name': 'tushargoyal02/Girslcript-webinar', 'url': 'https://api.github.com/repos/tushargoyal02/Girslcript-webinar'}, 'payload': {'forkee': {'id': 257886488, 'node_id': 'MDEwOlJlcG9zaXRvcnkyNTc4ODY0ODg=', 'name': 'Girslcript-webinar', 'full_name': 'tushargoyal-hack1/Girslcript-webinar', 'private': False, 'owner': {'login': 'tushargoyal-hack1', 'id': 56203660, 'node_id': 'MDQ6VXNlcjU2MjAzNjYw', 'avatar_url': 'https://avatars2.githubusercontent.com/u/56203660?v=4', 'gravatar_id': '', 'url': 'https://api.github.com/users/tushargoyal-hack1', 'html_url': 'https://github.com/tushargoyal-hack1', 'followers_url': 'https://api.github.com/users/tushargoyal-hack1/followers', 'following_url': 'https://api.github.com/users/tushargoyal-hack1/following{/other_user}', 'gists_url': 'https://api.github.com/users/tushargoyal-hack1/gists{/gist_id}', 'starred_url': 'https://api.github.com/users/tushargoyal-hack1/starred{/owner}{/repo}', 'subscriptions_url': 'https://api.github.com/users/tushargoyal-hack1/subscriptions', 'organizations_url': 'https://api.github.com/users/tushargoyal-hack1/orgs', 'repos_url': 'https://api.github.com/users/tushargoyal-hack1/repos', 'events_url': 'https://api.github.com/users/tushargoyal-hack1/events{/privacy}', 'received_events_url': 'https://api.github.com/users/tushargoyal-hack1/received_events', 'type': 'User', 'site_admin': False}, 'html_url': 'https://github.com/tushargoyal-hack1/Girslcript-webinar', 'description': 'Learning gihub commads', 'fork': True, 'url': 'https://api.github.com/repos/tushargoyal-hack1/Girslcript-webinar', 'forks_url': 'https://api.github.com/repos/tushargoyal-hack1/Girslcript-webinar/forks', 'keys_url': 'https://api.github.com/repos/tushargoyal-hack1/Girslcript-webinar/keys{/key_id}', 'collaborators_url': 'https://api.github.com/repos/tushargoyal-hack1/Girslcript-webinar/collaborators{/collaborator}', 'teams_url': 'https://api.github.com/repos/tushargoyal-hack1/Girslcript-webinar/teams', 'hooks_url': 'https://api.github.com/repos/tushargoyal-hack1/Girslcript-webinar/hooks', 'issue_events_url': 'https://api.github.com/repos/tushargoyal-hack1/Girslcript-webinar/issues/events{/number}', 'events_url': 'https://api.github.com/repos/tushargoyal-hack1/Girslcript-webinar/events', 'assignees_url': 'https://api.github.com/repos/tushargoyal-hack1/Girslcript-webinar/assignees{/user}', 'branches_url': 'https://api.github.com/repos/tushargoyal-hack1/Girslcript-webinar/branches{/branch}', 'tags_url': 'https://api.github.com/repos/tushargoyal-hack1/Girslcript-webinar/tags', 'blobs_url': 'https://api.github.com/repos/tushargoyal-hack1/Girslcript-webinar/git/blobs{/sha}', 'git_tags_url': 'https://api.github.com/repos/tushargoyal-hack1/Girslcript-webinar/git/tags{/sha}', 'git_refs_url': 'https://api.github.com/repos/tushargoyal-hack1/Girslcript-webinar/git/refs{/sha}', 'trees_url': 'https://api.github.com/repos/tushargoyal-hack1/Girslcript-webinar/git/trees{/sha}', 'statuses_url': 'https://api.github.com/repos/tushargoyal-hack1/Girslcript-webinar/statuses/{sha}', 'languages_url': 'https://api.github.com/repos/tushargoyal-hack1/Girslcript-webinar/languages', 'stargazers_url': 'https://api.github.com/repos/tushargoyal-hack1/Girslcript-webinar/stargazers', 'contributors_url': 'https://api.github.com/repos/tushargoyal-hack1/Girslcript-webinar/contributors', 'subscribers_url': 'https://api.github.com/repos/tushargoyal-hack1/Girslcript-webinar/subscribers', 'subscription_url': 'https://api.github.com/repos/tushargoyal-hack1/Girslcript-webinar/subscription', 'commits_url': 'https://api.github.com/repos/tushargoyal-hack1/Girslcript-webinar/commits{/sha}', 'git_commits_url': 'https://api.github.com/repos/tushargoyal-hack1/Girslcript-webinar/git/commits{/sha}', 'comments_url': 'https://api.github.com/repos/tushargoyal-hack1/Girslcript-webinar/comments{/number}', 'issue_comment_url': 'https://api.github.com/repos/tushargoyal-hack1/Girslcript-webinar/issues/comments{/number}', 'contents_url': 'https://api.github.com/repos/tushargoyal-hack1/Girslcript-webinar/contents/{+path}', 'compare_url': 'https://api.github.com/repos/tushargoyal-hack1/Girslcript-webinar/compare/{base}...{head}', 'merges_url': 'https://api.github.com/repos/tushargoyal-hack1/Girslcript-webinar/merges', 'archive_url': 'https://api.github.com/repos/tushargoyal-hack1/Girslcript-webinar/{archive_format}{/ref}', 'downloads_url': 'https://api.github.com/repos/tushargoyal-hack1/Girslcript-webinar/downloads', 'issues_url': 'https://api.github.com/repos/tushargoyal-hack1/Girslcript-webinar/issues{/number}', 'pulls_url': 'https://api.github.com/repos/tushargoyal-hack1/Girslcript-webinar/pulls{/number}', 'milestones_url': 'https://api.github.com/repos/tushargoyal-hack1/Girslcript-webinar/milestones{/number}', 'notifications_url': 'https://api.github.com/repos/tushargoyal-hack1/Girslcript-webinar/notifications{?since,all,participating}', 'labels_url': 'https://api.github.com/repos/tushargoyal-hack1/Girslcript-webinar/labels{/name}', 'releases_url': 'https://api.github.com/repos/tushargoyal-hack1/Girslcript-webinar/releases{/id}', 'deployments_url': 'https://api.github.com/repos/tushargoyal-hack1/Girslcript-webinar/deployments', 'created_at': '2020-04-22T11:52:30Z', 'updated_at': '2020-04-22T11:44:56Z', 'pushed_at': '2020-04-22T11:49:38Z', 'git_url': 'git://github.com/tushargoyal-hack1/Girslcript-webinar.git', 'ssh_url': 'git@github.com:tushargoyal-hack1/Girslcript-webinar.git', 'clone_url': 'https://github.com/tushargoyal-hack1/Girslcript-webinar.git', 'svn_url': 'https://github.com/tushargoyal-hack1/Girslcript-webinar', 'homepage': None, 'size': 0, 'stargazers_count': 0, 'watchers_count': 0, 'language': None, 'has_issues': False, 'has_projects': True, 'has_downloads': True, 'has_wiki': True, 'has_pages': False, 'forks_count': 0, 'mirror_url': None, 'archived': False, 'disabled': False, 'open_issues_count': 0, 'license': None, 'forks': 0, 'open_issues': 0, 'watchers': 0, 'default_branch': 'master', 'public': True}}, 'public': True, 'created_at': '2020-04-22T11:52:30Z'}, {'id': '12122934400', 'type': 'PushEvent', 'actor': {'id': 47312316, 'login': 'golovenok', 'display_login': 'golovenok', 'gravatar_id': '', 'url': 'https://api.github.com/users/golovenok', 'avatar_url': 'https://avatars.githubusercontent.com/u/47312316?'}, 'repo': {'id': 255369932, 'name': 'golovenok/analitic_unit', 'url': 'https://api.github.com/repos/golovenok/analitic_unit'}, 'payload': {'push_id': 4957199057, 'size': 2, 'distinct_size': 2, 'ref': 'refs/heads/master', 'head': 'b7a84af739dcd612d259eb6475fb40c6a5ec344a', 'before': 'df277ac8c179866ed6e2ebe6d3d45a93570408bb', 'commits': [{'sha': '54d333afd03364f89dc22920ad14f735718b2e1f', 'author': {'email': 'golovonokia@mail.ru', 'name': 'golovenok'}, 'message': 'ver 1.1', 'distinct': True, 'url': 'https://api.github.com/repos/golovenok/analitic_unit/commits/54d333afd03364f89dc22920ad14f735718b2e1f'}, {'sha': 'b7a84af739dcd612d259eb6475fb40c6a5ec344a', 'author': {'email': 'golovonokia@mail.ru', 'name': 'golovenok'}, 'message': 'ver 1.1', 'distinct': True, 'url': 'https://api.github.com/repos/golovenok/analitic_unit/commits/b7a84af739dcd612d259eb6475fb40c6a5ec344a'}]}, 'public': True, 'created_at': '2020-04-22T11:52:30Z'}, {'id': '12122934405', 'type': 'CreateEvent', 'actor': {'id': 58072875, 'login': 'QueenieCplusplus', 'display_login': 'QueenieCplusplus', 'gravatar_id': '', 'url': 'https://api.github.com/users/QueenieCplusplus', 'avatar_url': 'https://avatars.githubusercontent.com/u/58072875?'}, 'repo': {'id': 257886487, 'name': 'QueenieCplusplus/VM', 'url': 'https://api.github.com/repos/QueenieCplusplus/VM'}, 'payload': {'ref': None, 'ref_type': 'repository', 'master_branch': 'master', 'description': None, 'pusher_type': 'user'}, 'public': True, 'created_at': '2020-04-22T11:52:30Z'}, {'id': '12122934402', 'type': 'IssuesEvent', 'actor': {'id': 37936606, 'login': 'github-learning-lab[bot]', 'display_login': 'github-learning-lab', 'gravatar_id': '', 'url': 'https://api.github.com/users/github-learning-lab[bot]', 'avatar_url': 'https://avatars.githubusercontent.com/u/37936606?'}, 'repo': {'id': 257886196, 'name': 'yn95ny/design-thinking-intro', 'url': 'https://api.github.com/repos/yn95ny/design-thinking-intro'}, 'payload': {'action': 'closed', 'issue': {'url': 'https://api.github.com/repos/yn95ny/design-thinking-intro/issues/1', 'repository_url': 'https://api.github.com/repos/yn95ny/design-thinking-intro', 'labels_url': 'https://api.github.com/repos/yn95ny/design-thinking-intro/issues/1/labels{/name}', 'comments_url': 'https://api.github.com/repos/yn95ny/design-thinking-intro/issues/1/comments', 'events_url': 'https://api.github.com/repos/yn95ny/design-thinking-intro/issues/1/events', 'html_url': 'https://github.com/yn95ny/design-thinking-intro/issues/1', 'id': 604694867, 'node_id': 'MDU6SXNzdWU2MDQ2OTQ4Njc=', 'number': 1, 'title': 'Welcome', 'user': {'login': 'github-learning-lab[bot]', 'id': 37936606, 'node_id': 'MDM6Qm90Mzc5MzY2MDY=', 'avatar_url': 'https://avatars0.githubusercontent.com/in/10572?v=4', 'gravatar_id': '', 'url': 'https://api.github.com/users/github-learning-lab%5Bbot%5D', 'html_url': 'https://github.com/apps/github-learning-lab', 'followers_url': 'https://api.github.com/users/github-learning-lab%5Bbot%5D/followers', 'following_url': 'https://api.github.com/users/github-learning-lab%5Bbot%5D/following{/other_user}', 'gists_url': 'https://api.github.com/users/github-learning-lab%5Bbot%5D/gists{/gist_id}', 'starred_url': 'https://api.github.com/users/github-learning-lab%5Bbot%5D/starred{/owner}{/repo}', 'subscriptions_url': 'https://api.github.com/users/github-learning-lab%5Bbot%5D/subscriptions', 'organizations_url': 'https://api.github.com/users/github-learning-lab%5Bbot%5D/orgs', 'repos_url': 'https://api.github.com/users/github-learning-lab%5Bbot%5D/repos', 'events_url': 'https://api.github.com/users/github-learning-lab%5Bbot%5D/events{/privacy}', 'received_events_url': 'https://api.github.com/users/github-learning-lab%5Bbot%5D/received_events', 'type': 'Bot', 'site_admin': False}, 'labels': [], 'state': 'closed', 'locked': False, 'assignee': {'login': 'yn95ny', 'id': 63506138, 'node_id': 'MDQ6VXNlcjYzNTA2MTM4', 'avatar_url': 'https://avatars1.githubusercontent.com/u/63506138?v=4', 'gravatar_id': '', 'url': 'https://api.github.com/users/yn95ny', 'html_url': 'https://github.com/yn95ny', 'followers_url': 'https://api.github.com/users/yn95ny/followers', 'following_url': 'https://api.github.com/users/yn95ny/following{/other_user}', 'gists_url': 'https://api.github.com/users/yn95ny/gists{/gist_id}', 'starred_url': 'https://api.github.com/users/yn95ny/starred{/owner}{/repo}', 'subscriptions_url': 'https://api.github.com/users/yn95ny/subscriptions', 'organizations_url': 'https://api.github.com/users/yn95ny/orgs', 'repos_url': 'https://api.github.com/users/yn95ny/repos', 'events_url': 'https://api.github.com/users/yn95ny/events{/privacy}', 'received_events_url': 'https://api.github.com/users/yn95ny/received_events', 'type': 'User', 'site_admin': False}, 'assignees': [{'login': 'yn95ny', 'id': 63506138, 'node_id': 'MDQ6VXNlcjYzNTA2MTM4', 'avatar_url': 'https://avatars1.githubusercontent.com/u/63506138?v=4', 'gravatar_id': '', 'url': 'https://api.github.com/users/yn95ny', 'html_url': 'https://github.com/yn95ny', 'followers_url': 'https://api.github.com/users/yn95ny/followers', 'following_url': 'https://api.github.com/users/yn95ny/following{/other_user}', 'gists_url': 'https://api.github.com/users/yn95ny/gists{/gist_id}', 'starred_url': 'https://api.github.com/users/yn95ny/starred{/owner}{/repo}', 'subscriptions_url': 'https://api.github.com/users/yn95ny/subscriptions', 'organizations_url': 'https://api.github.com/users/yn95ny/orgs', 'repos_url': 'https://api.github.com/users/yn95ny/repos', 'events_url': 'https://api.github.com/users/yn95ny/events{/privacy}', 'received_events_url': 'https://api.github.com/users/yn95ny/received_events', 'type': 'User', 'site_admin': False}], 'milestone': None, 'comments': 1, 'created_at': '2020-04-22T11:51:17Z', 'updated_at': '2020-04-22T11:52:30Z', 'closed_at': '2020-04-22T11:52:30Z', 'author_association': 'NONE', 'body': '# Welcome!\\n\\nHello @yn95ny, I\\'m so excited to teach you about Design Thinking! 😄\\n\\nThis repository will be a working website that you can publish as your own Design Thinking landing page.\\n\\n![toolkit](https://user-images.githubusercontent.com/6351798/76346666-ff0a4380-62ca-11ea-8609-408ca9126622.png)\\n\\nAs we work, we\\'ll create a resource that others can use within your organization. This repository will be useful even after you finish this course.\\n\\nThis is how this course will move along:\\n\\n- Every new issue or pull request will start with a challenge question\\n- You\\'ll answer the challenge question _(don\\'t worry, there are no right or wrong answers!)_\\n- The question will highlight the importance of each topic in Design Thinking\\n- The related Pull Request will add the resources for that topic to the toolkit\\n- When we\\'re finished, we\\'ll publish the toolkit using GitHub Pages\\n\\n\\n### Challenge question\\nNow let\\'s try your first challenge question!\\n\\nDesign Thinking focuses on using the newest technologies to solve problems.\\n\\n- [ ] True\\n- [x] False\\n\\n<hr>\\n<h3 align=\"center\">I\\'ll respond when you check one of the boxes above.</h3>\\n'}}, 'public': True, 'created_at': '2020-04-22T11:52:30Z'}, {'id': '12122934393', 'type': 'PushEvent', 'actor': {'id': 63129828, 'login': 'ReginaF2012', 'display_login': 'ReginaF2012', 'gravatar_id': '', 'url': 'https://api.github.com/users/ReginaF2012', 'avatar_url': 'https://avatars.githubusercontent.com/u/63129828?'}, 'repo': {'id': 257726007, 'name': 'ReginaF2012/oo-tic-tac-toe-onl01-seng-ft-041320', 'url': 'https://api.github.com/repos/ReginaF2012/oo-tic-tac-toe-onl01-seng-ft-041320'}, 'payload': {'push_id': 4957199052, 'size': 1, 'distinct_size': 1, 'ref': 'refs/heads/wip', 'head': '31c896f275a99f7e2f75eed5345d0c3d2babe859', 'before': '83e00035fd4bd19215e5d4aba07f176445f34a83', 'commits': [{'sha': '31c896f275a99f7e2f75eed5345d0c3d2babe859', 'author': {'email': 'skritschy@gmail.com', 'name': 'Regina Furness'}, 'message': 'Automatically backed up by Learn', 'distinct': True, 'url': 'https://api.github.com/repos/ReginaF2012/oo-tic-tac-toe-onl01-seng-ft-041320/commits/31c896f275a99f7e2f75eed5345d0c3d2babe859'}]}, 'public': True, 'created_at': '2020-04-22T11:52:30Z'}, {'id': '12122934390', 'type': 'PushEvent', 'actor': {'id': 20775950, 'login': 'Arif9878', 'display_login': 'Arif9878', 'gravatar_id': '', 'url': 'https://api.github.com/users/Arif9878', 'avatar_url': 'https://avatars.githubusercontent.com/u/20775950?'}, 'repo': {'id': 247679601, 'name': 'jabardigitalservice/pikobar-pelaporan-frontend', 'url': 'https://api.github.com/repos/jabardigitalservice/pikobar-pelaporan-frontend'}, 'payload': {'push_id': 4957199046, 'size': 11, 'distinct_size': 1, 'ref': 'refs/heads/list_user', 'head': '79db9837143c3100e9f98d7e18d5d73205fdc5f8', 'before': '4aff6b056f744df23ff2024bcad9ae1829e44a53', 'commits': [{'sha': '9d1192ba9bdbec62dce88724709325eb1be227e0', 'author': {'email': 'rendirizkir@gmail.com', 'name': 'Rendi'}, 'message': 'feat: add map leaflet and borderline', 'distinct': False, 'url': 'https://api.github.com/repos/jabardigitalservice/pikobar-pelaporan-frontend/commits/9d1192ba9bdbec62dce88724709325eb1be227e0'}, {'sha': '4c355ed841dfbd0dba005671021045432aa12527', 'author': {'email': 'rendirizkir@gmail.com', 'name': 'Rendi'}, 'message': \"Merge branch 'dashboard-map-2' into dashboard\", 'distinct': False, 'url': 'https://api.github.com/repos/jabardigitalservice/pikobar-pelaporan-frontend/commits/4c355ed841dfbd0dba005671021045432aa12527'}, {'sha': '4bda6f63a5ac2b17fc17e1d36a865f3b248de864', 'author': {'email': 'arifboyz16@gmail.com', 'name': 'Arif Wicaksono'}, 'message': 'Merge pull request #200 from jabardigitalservice/dashboard\\n\\n[Dashboard] Add Map and Borderline/Polygon', 'distinct': False, 'url': 'https://api.github.com/repos/jabardigitalservice/pikobar-pelaporan-frontend/commits/4bda6f63a5ac2b17fc17e1d36a865f3b248de864'}, {'sha': '90830bde7227d25ea2de382d0f63b3c029bd4c3a', 'author': {'email': 'arifboyz16@gmail.com', 'name': 'Arif Wicaksono'}, 'message': 'Merge pull request #199 from jabardigitalservice/list_user\\n\\nList and form user', 'distinct': False, 'url': 'https://api.github.com/repos/jabardigitalservice/pikobar-pelaporan-frontend/commits/90830bde7227d25ea2de382d0f63b3c029bd4c3a'}, {'sha': '50762e8e8059ac425cc4d2073c30353ddb88033a', 'author': {'email': 'arifboyz16@gmail.com', 'name': 'Arif Wicaksono'}, 'message': 'Merge pull request #201 from jabardigitalservice/list_user\\n\\nvalidate', 'distinct': False, 'url': 'https://api.github.com/repos/jabardigitalservice/pikobar-pelaporan-frontend/commits/50762e8e8059ac425cc4d2073c30353ddb88033a'}, {'sha': 'e2b62cc10e31ac7d876f62ac94be846a62084f4f', 'author': {'email': 'arifboyz16@gmail.com', 'name': 'Arif Wicaksono'}, 'message': 'Merge pull request #203 from jabardigitalservice/list_user\\n\\nedit user form', 'distinct': False, 'url': 'https://api.github.com/repos/jabardigitalservice/pikobar-pelaporan-frontend/commits/e2b62cc10e31ac7d876f62ac94be846a62084f4f'}, {'sha': '8653368660ff5ee1790f39c34ab473724c243b55', 'author': {'email': 'naufalihsank@gmail.com', 'name': 'naufalihsank'}, 'message': 'Revisi pelaporan kasus\\n\\nMenjadikan field nik menjadi required dan validasi duplikasi, perbaikan import excel', 'distinct': False, 'url': 'https://api.github.com/repos/jabardigitalservice/pikobar-pelaporan-frontend/commits/8653368660ff5ee1790f39c34ab473724c243b55'}, {'sha': 'ec8e4469cca7830c6342244c7cebb43673ba5612', 'author': {'email': 'naufalihsank@gmail.com', 'name': 'naufalihsank'}, 'message': \"Merge branch 'development' of https://github.com/jabardigitalservice/pikobar-pelaporan-frontend into update-list-kasus\", 'distinct': False, 'url': 'https://api.github.com/repos/jabardigitalservice/pikobar-pelaporan-frontend/commits/ec8e4469cca7830c6342244c7cebb43673ba5612'}, {'sha': '92c8ce010cd5556bc7bef53fde429763844196aa', 'author': {'email': 'naufalihsank@gmail.com', 'name': 'naufalihsank'}, 'message': 'merubah warna pesan dan hapus console', 'distinct': False, 'url': 'https://api.github.com/repos/jabardigitalservice/pikobar-pelaporan-frontend/commits/92c8ce010cd5556bc7bef53fde429763844196aa'}, {'sha': 'e3c840dec40beadf4b79a0014c10995a9bfb9b02', 'author': {'email': 'arifboyz16@gmail.com', 'name': 'Arif Wicaksono'}, 'message': 'Merge pull request #204 from jabardigitalservice/update-list-kasus\\n\\nRevisi pelaporan kasus', 'distinct': False, 'url': 'https://api.github.com/repos/jabardigitalservice/pikobar-pelaporan-frontend/commits/e3c840dec40beadf4b79a0014c10995a9bfb9b02'}, {'sha': '79db9837143c3100e9f98d7e18d5d73205fdc5f8', 'author': {'email': 'arifboyz16@gmail.com', 'name': 'Arif Wicaksono'}, 'message': \"Merge branch 'development' into list_user\", 'distinct': True, 'url': 'https://api.github.com/repos/jabardigitalservice/pikobar-pelaporan-frontend/commits/79db9837143c3100e9f98d7e18d5d73205fdc5f8'}]}, 'public': True, 'created_at': '2020-04-22T11:52:30Z', 'org': {'id': 48218333, 'login': 'jabardigitalservice', 'gravatar_id': '', 'url': 'https://api.github.com/orgs/jabardigitalservice', 'avatar_url': 'https://avatars.githubusercontent.com/u/48218333?'}}, {'id': '12122934385', 'type': 'PushEvent', 'actor': {'id': 63016038, 'login': 'burgundicorn', 'display_login': 'burgundicorn', 'gravatar_id': '', 'url': 'https://api.github.com/users/burgundicorn', 'avatar_url': 'https://avatars.githubusercontent.com/u/63016038?'}, 'repo': {'id': 257885659, 'name': 'burgundicorn/Snake-C-sharp', 'url': 'https://api.github.com/repos/burgundicorn/Snake-C-sharp'}, 'payload': {'push_id': 4957199044, 'size': 1, 'distinct_size': 1, 'ref': 'refs/heads/master', 'head': '3a8070a1713140bd82353e05491aa4895021b1d8', 'before': '54f95c509fc9c3b5ba0d9098c7693e69637a8ab0', 'commits': [{'sha': '3a8070a1713140bd82353e05491aa4895021b1d8', 'author': {'email': '63016038+burgundicorn@users.noreply.github.com', 'name': 'burgundicorn'}, 'message': 'Add files via upload', 'distinct': True, 'url': 'https://api.github.com/repos/burgundicorn/Snake-C-sharp/commits/3a8070a1713140bd82353e05491aa4895021b1d8'}]}, 'public': True, 'created_at': '2020-04-22T11:52:30Z'}, {'id': '12122934388', 'type': 'WatchEvent', 'actor': {'id': 12440677, 'login': 'supadrupa', 'display_login': 'supadrupa', 'gravatar_id': '', 'url': 'https://api.github.com/users/supadrupa', 'avatar_url': 'https://avatars.githubusercontent.com/u/12440677?'}, 'repo': {'id': 70951500, 'name': 'h2non/paco', 'url': 'https://api.github.com/repos/h2non/paco'}, 'payload': {'action': 'started'}, 'public': True, 'created_at': '2020-04-22T11:52:30Z'}, {'id': '12122934373', 'type': 'PushEvent', 'actor': {'id': 63519344, 'login': 'morgancfarrow90', 'display_login': 'morgancfarrow90', 'gravatar_id': '', 'url': 'https://api.github.com/users/morgancfarrow90', 'avatar_url': 'https://avatars.githubusercontent.com/u/63519344?'}, 'repo': {'id': 257728751, 'name': 'morgancfarrow90/ruby-puppy-onl01-seng-ft-041320', 'url': 'https://api.github.com/repos/morgancfarrow90/ruby-puppy-onl01-seng-ft-041320'}, 'payload': {'push_id': 4957199041, 'size': 1, 'distinct_size': 1, 'ref': 'refs/heads/wip', 'head': '5b688e551f569b539e26cda9b3b7d06ca8ca1b2d', 'before': '7b9ea6812856f2dcc1218d171d6e6a1c85dfc48f', 'commits': [{'sha': '5b688e551f569b539e26cda9b3b7d06ca8ca1b2d', 'author': {'email': 'morgancfarrow@gmail.com', 'name': 'Morgan Farrow'}, 'message': 'Automatically backed up by Learn', 'distinct': True, 'url': 'https://api.github.com/repos/morgancfarrow90/ruby-puppy-onl01-seng-ft-041320/commits/5b688e551f569b539e26cda9b3b7d06ca8ca1b2d'}]}, 'public': True, 'created_at': '2020-04-22T11:52:30Z'}, {'id': '12122934380', 'type': 'PushEvent', 'actor': {'id': 51521112, 'login': 'abankalarm', 'display_login': 'abankalarm', 'gravatar_id': '', 'url': 'https://api.github.com/users/abankalarm', 'avatar_url': 'https://avatars.githubusercontent.com/u/51521112?'}, 'repo': {'id': 257885438, 'name': 'abankalarm/rust-tar', 'url': 'https://api.github.com/repos/abankalarm/rust-tar'}, 'payload': {'push_id': 4957199047, 'size': 1, 'distinct_size': 1, 'ref': 'refs/heads/master', 'head': '7e86712ec4ebbed181ef35a60f90df0df387fb71', 'before': '39b0b9abd41a848c8d2b0b32610ea1b02c23e2cc', 'commits': [{'sha': '7e86712ec4ebbed181ef35a60f90df0df387fb71', 'author': {'email': '51521112+abankalarm@users.noreply.github.com', 'name': 'b4nk3r'}, 'message': 'Update README.md', 'distinct': True, 'url': 'https://api.github.com/repos/abankalarm/rust-tar/commits/7e86712ec4ebbed181ef35a60f90df0df387fb71'}]}, 'public': True, 'created_at': '2020-04-22T11:52:30Z'}, {'id': '12122934383', 'type': 'PullRequestReviewCommentEvent', 'actor': {'id': 25043924, 'login': 'Obsiye', 'display_login': 'Obsiye', 'gravatar_id': '', 'url': 'https://api.github.com/users/Obsiye', 'avatar_url': 'https://avatars.githubusercontent.com/u/25043924?'}, 'repo': {'id': 143924174, 'name': 'ministryofjustice/laa-apply-for-legal-aid', 'url': 'https://api.github.com/repos/ministryofjustice/laa-apply-for-legal-aid'}, 'payload': {'action': 'created', 'comment': {'url': 'https://api.github.com/repos/ministryofjustice/laa-apply-for-legal-aid/pulls/comments/412914033', 'pull_request_review_id': 398111673, 'id': 412914033, 'node_id': 'MDI0OlB1bGxSZXF1ZXN0UmV2aWV3Q29tbWVudDQxMjkxNDAzMw==', 'diff_hunk': \"@@ -58,7 +58,7 @@ module CFE\\n         before { stub_request(:post, service.cfe_url).with(body: expected_payload_hash.to_json).to_return(body: dummy_response) }\\n \\n         it 'updates the submission record from dependants_created to state_benefits_created' do\", 'path': 'spec/services/cfe/create_state_benefits_service_spec.rb', 'position': 12, 'original_position': 12, 'commit_id': '82cfe957e5e3855384c4407c5c3f9bf2b48a2d05', 'original_commit_id': '82cfe957e5e3855384c4407c5c3f9bf2b48a2d05', 'user': {'login': 'Obsiye', 'id': 25043924, 'node_id': 'MDQ6VXNlcjI1MDQzOTI0', 'avatar_url': 'https://avatars2.githubusercontent.com/u/25043924?v=4', 'gravatar_id': '', 'url': 'https://api.github.com/users/Obsiye', 'html_url': 'https://github.com/Obsiye', 'followers_url': 'https://api.github.com/users/Obsiye/followers', 'following_url': 'https://api.github.com/users/Obsiye/following{/other_user}', 'gists_url': 'https://api.github.com/users/Obsiye/gists{/gist_id}', 'starred_url': 'https://api.github.com/users/Obsiye/starred{/owner}{/repo}', 'subscriptions_url': 'https://api.github.com/users/Obsiye/subscriptions', 'organizations_url': 'https://api.github.com/users/Obsiye/orgs', 'repos_url': 'https://api.github.com/users/Obsiye/repos', 'events_url': 'https://api.github.com/users/Obsiye/events{/privacy}', 'received_events_url': 'https://api.github.com/users/Obsiye/received_events', 'type': 'User', 'site_admin': False}, 'body': \"Should be '... outgoings_created to state_benefits_created'\", 'created_at': '2020-04-22T11:52:30Z', 'updated_at': '2020-04-22T11:52:30Z', 'html_url': 'https://github.com/ministryofjustice/laa-apply-for-legal-aid/pull/1407#discussion_r412914033', 'pull_request_url': 'https://api.github.com/repos/ministryofjustice/laa-apply-for-legal-aid/pulls/1407', 'author_association': 'CONTRIBUTOR', '_links': {'self': {'href': 'https://api.github.com/repos/ministryofjustice/laa-apply-for-legal-aid/pulls/comments/412914033'}, 'html': {'href': 'https://github.com/ministryofjustice/laa-apply-for-legal-aid/pull/1407#discussion_r412914033'}, 'pull_request': {'href': 'https://api.github.com/repos/ministryofjustice/laa-apply-for-legal-aid/pulls/1407'}}, 'start_line': None, 'original_start_line': None, 'start_side': None, 'line': 60, 'original_line': 60, 'side': 'RIGHT'}, 'pull_request': {'url': 'https://api.github.com/repos/ministryofjustice/laa-apply-for-legal-aid/pulls/1407', 'id': 407229518, 'node_id': 'MDExOlB1bGxSZXF1ZXN0NDA3MjI5NTE4', 'html_url': 'https://github.com/ministryofjustice/laa-apply-for-legal-aid/pull/1407', 'diff_url': 'https://github.com/ministryofjustice/laa-apply-for-legal-aid/pull/1407.diff', 'patch_url': 'https://github.com/ministryofjustice/laa-apply-for-legal-aid/pull/1407.patch', 'issue_url': 'https://api.github.com/repos/ministryofjustice/laa-apply-for-legal-aid/issues/1407', 'number': 1407, 'state': 'open', 'locked': False, 'title': 'AP-1386 Send outgoings data to CFE', 'user': {'login': 'stephenrichards', 'id': 115617, 'node_id': 'MDQ6VXNlcjExNTYxNw==', 'avatar_url': 'https://avatars1.githubusercontent.com/u/115617?v=4', 'gravatar_id': '', 'url': 'https://api.github.com/users/stephenrichards', 'html_url': 'https://github.com/stephenrichards', 'followers_url': 'https://api.github.com/users/stephenrichards/followers', 'following_url': 'https://api.github.com/users/stephenrichards/following{/other_user}', 'gists_url': 'https://api.github.com/users/stephenrichards/gists{/gist_id}', 'starred_url': 'https://api.github.com/users/stephenrichards/starred{/owner}{/repo}', 'subscriptions_url': 'https://api.github.com/users/stephenrichards/subscriptions', 'organizations_url': 'https://api.github.com/users/stephenrichards/orgs', 'repos_url': 'https://api.github.com/users/stephenrichards/repos', 'events_url': 'https://api.github.com/users/stephenrichards/events{/privacy}', 'received_events_url': 'https://api.github.com/users/stephenrichards/received_events', 'type': 'User', 'site_admin': False}, 'body': '## Send outgoing data to CFE\\r\\n\\r\\n[Link to story](https://dsdmoj.atlassian.net/browse/AP-1386)\\r\\n\\r\\nIn the CFE workflow, the call to CFE to send outgoings data was omitted.  This PR rectifies that.\\r\\n\\r\\n## Checklist\\r\\n\\r\\nBefore you ask people to review this PR:\\r\\n\\r\\n- [ ] Tests and rubocop should be passing: `bundle exec rake`\\r\\n- [ ] Github should not be reporting conflicts; you should have recently run `git rebase master`.\\r\\n- [ ] There should be no unnecessary whitespace changes. These make diffs harder to read and conflicts more likely.\\r\\n- [ ] The PR description should say what you changed and why, with a link to the JIRA story.\\r\\n- [ ] You should have looked at the diff against master and ensured that nothing unexpected is included in your changes.\\r\\n- [ ] You should have checked that the commit messages say why the change was made.\\r\\n', 'created_at': '2020-04-22T11:31:23Z', 'updated_at': '2020-04-22T11:52:30Z', 'closed_at': None, 'merged_at': None, 'merge_commit_sha': 'fbed63b8ac1857e3b916450575f7e80a1233f8bd', 'assignee': None, 'assignees': [], 'requested_reviewers': [], 'requested_teams': [], 'labels': [{'id': 1055569074, 'node_id': 'MDU6TGFiZWwxMDU1NTY5MDc0', 'url': 'https://api.github.com/repos/ministryofjustice/laa-apply-for-legal-aid/labels/ready%20for%20review', 'name': 'ready for review', 'color': '33FF66', 'default': False, 'description': ''}], 'milestone': None, 'draft': False, 'commits_url': 'https://api.github.com/repos/ministryofjustice/laa-apply-for-legal-aid/pulls/1407/commits', 'review_comments_url': 'https://api.github.com/repos/ministryofjustice/laa-apply-for-legal-aid/pulls/1407/comments', 'review_comment_url': 'https://api.github.com/repos/ministryofjustice/laa-apply-for-legal-aid/pulls/comments{/number}', 'comments_url': 'https://api.github.com/repos/ministryofjustice/laa-apply-for-legal-aid/issues/1407/comments', 'statuses_url': 'https://api.github.com/repos/ministryofjustice/laa-apply-for-legal-aid/statuses/82cfe957e5e3855384c4407c5c3f9bf2b48a2d05', 'head': {'label': 'ministryofjustice:ap-1386-send-outgoings-to-cfe', 'ref': 'ap-1386-send-outgoings-to-cfe', 'sha': '82cfe957e5e3855384c4407c5c3f9bf2b48a2d05', 'user': {'login': 'ministryofjustice', 'id': 2203574, 'node_id': 'MDEyOk9yZ2FuaXphdGlvbjIyMDM1NzQ=', 'avatar_url': 'https://avatars3.githubusercontent.com/u/2203574?v=4', 'gravatar_id': '', 'url': 'https://api.github.com/users/ministryofjustice', 'html_url': 'https://github.com/ministryofjustice', 'followers_url': 'https://api.github.com/users/ministryofjustice/followers', 'following_url': 'https://api.github.com/users/ministryofjustice/following{/other_user}', 'gists_url': 'https://api.github.com/users/ministryofjustice/gists{/gist_id}', 'starred_url': 'https://api.github.com/users/ministryofjustice/starred{/owner}{/repo}', 'subscriptions_url': 'https://api.github.com/users/ministryofjustice/subscriptions', 'organizations_url': 'https://api.github.com/users/ministryofjustice/orgs', 'repos_url': 'https://api.github.com/users/ministryofjustice/repos', 'events_url': 'https://api.github.com/users/ministryofjustice/events{/privacy}', 'received_events_url': 'https://api.github.com/users/ministryofjustice/received_events', 'type': 'Organization', 'site_admin': False}, 'repo': {'id': 143924174, 'node_id': 'MDEwOlJlcG9zaXRvcnkxNDM5MjQxNzQ=', 'name': 'laa-apply-for-legal-aid', 'full_name': 'ministryofjustice/laa-apply-for-legal-aid', 'private': False, 'owner': {'login': 'ministryofjustice', 'id': 2203574, 'node_id': 'MDEyOk9yZ2FuaXphdGlvbjIyMDM1NzQ=', 'avatar_url': 'https://avatars3.githubusercontent.com/u/2203574?v=4', 'gravatar_id': '', 'url': 'https://api.github.com/users/ministryofjustice', 'html_url': 'https://github.com/ministryofjustice', 'followers_url': 'https://api.github.com/users/ministryofjustice/followers', 'following_url': 'https://api.github.com/users/ministryofjustice/following{/other_user}', 'gists_url': 'https://api.github.com/users/ministryofjustice/gists{/gist_id}', 'starred_url': 'https://api.github.com/users/ministryofjustice/starred{/owner}{/repo}', 'subscriptions_url': 'https://api.github.com/users/ministryofjustice/subscriptions', 'organizations_url': 'https://api.github.com/users/ministryofjustice/orgs', 'repos_url': 'https://api.github.com/users/ministryofjustice/repos', 'events_url': 'https://api.github.com/users/ministryofjustice/events{/privacy}', 'received_events_url': 'https://api.github.com/users/ministryofjustice/received_events', 'type': 'Organization', 'site_admin': False}, 'html_url': 'https://github.com/ministryofjustice/laa-apply-for-legal-aid', 'description': 'Provides the web service to create civil legal aid applications', 'fork': False, 'url': 'https://api.github.com/repos/ministryofjustice/laa-apply-for-legal-aid', 'forks_url': 'https://api.github.com/repos/ministryofjustice/laa-apply-for-legal-aid/forks', 'keys_url': 'https://api.github.com/repos/ministryofjustice/laa-apply-for-legal-aid/keys{/key_id}', 'collaborators_url': 'https://api.github.com/repos/ministryofjustice/laa-apply-for-legal-aid/collaborators{/collaborator}', 'teams_url': 'https://api.github.com/repos/ministryofjustice/laa-apply-for-legal-aid/teams', 'hooks_url': 'https://api.github.com/repos/ministryofjustice/laa-apply-for-legal-aid/hooks', 'issue_events_url': 'https://api.github.com/repos/ministryofjustice/laa-apply-for-legal-aid/issues/events{/number}', 'events_url': 'https://api.github.com/repos/ministryofjustice/laa-apply-for-legal-aid/events', 'assignees_url': 'https://api.github.com/repos/ministryofjustice/laa-apply-for-legal-aid/assignees{/user}', 'branches_url': 'https://api.github.com/repos/ministryofjustice/laa-apply-for-legal-aid/branches{/branch}', 'tags_url': 'https://api.github.com/repos/ministryofjustice/laa-apply-for-legal-aid/tags', 'blobs_url': 'https://api.github.com/repos/ministryofjustice/laa-apply-for-legal-aid/git/blobs{/sha}', 'git_tags_url': 'https://api.github.com/repos/ministryofjustice/laa-apply-for-legal-aid/git/tags{/sha}', 'git_refs_url': 'https://api.github.com/repos/ministryofjustice/laa-apply-for-legal-aid/git/refs{/sha}', 'trees_url': 'https://api.github.com/repos/ministryofjustice/laa-apply-for-legal-aid/git/trees{/sha}', 'statuses_url': 'https://api.github.com/repos/ministryofjustice/laa-apply-for-legal-aid/statuses/{sha}', 'languages_url': 'https://api.github.com/repos/ministryofjustice/laa-apply-for-legal-aid/languages', 'stargazers_url': 'https://api.github.com/repos/ministryofjustice/laa-apply-for-legal-aid/stargazers', 'contributors_url': 'https://api.github.com/repos/ministryofjustice/laa-apply-for-legal-aid/contributors', 'subscribers_url': 'https://api.github.com/repos/ministryofjustice/laa-apply-for-legal-aid/subscribers', 'subscription_url': 'https://api.github.com/repos/ministryofjustice/laa-apply-for-legal-aid/subscription', 'commits_url': 'https://api.github.com/repos/ministryofjustice/laa-apply-for-legal-aid/commits{/sha}', 'git_commits_url': 'https://api.github.com/repos/ministryofjustice/laa-apply-for-legal-aid/git/commits{/sha}', 'comments_url': 'https://api.github.com/repos/ministryofjustice/laa-apply-for-legal-aid/comments{/number}', 'issue_comment_url': 'https://api.github.com/repos/ministryofjustice/laa-apply-for-legal-aid/issues/comments{/number}', 'contents_url': 'https://api.github.com/repos/ministryofjustice/laa-apply-for-legal-aid/contents/{+path}', 'compare_url': 'https://api.github.com/repos/ministryofjustice/laa-apply-for-legal-aid/compare/{base}...{head}', 'merges_url': 'https://api.github.com/repos/ministryofjustice/laa-apply-for-legal-aid/merges', 'archive_url': 'https://api.github.com/repos/ministryofjustice/laa-apply-for-legal-aid/{archive_format}{/ref}', 'downloads_url': 'https://api.github.com/repos/ministryofjustice/laa-apply-for-legal-aid/downloads', 'issues_url': 'https://api.github.com/repos/ministryofjustice/laa-apply-for-legal-aid/issues{/number}', 'pulls_url': 'https://api.github.com/repos/ministryofjustice/laa-apply-for-legal-aid/pulls{/number}', 'milestones_url': 'https://api.github.com/repos/ministryofjustice/laa-apply-for-legal-aid/milestones{/number}', 'notifications_url': 'https://api.github.com/repos/ministryofjustice/laa-apply-for-legal-aid/notifications{?since,all,participating}', 'labels_url': 'https://api.github.com/repos/ministryofjustice/laa-apply-for-legal-aid/labels{/name}', 'releases_url': 'https://api.github.com/repos/ministryofjustice/laa-apply-for-legal-aid/releases{/id}', 'deployments_url': 'https://api.github.com/repos/ministryofjustice/laa-apply-for-legal-aid/deployments', 'created_at': '2018-08-07T20:34:48Z', 'updated_at': '2020-04-22T11:09:01Z', 'pushed_at': '2020-04-22T11:51:43Z', 'git_url': 'git://github.com/ministryofjustice/laa-apply-for-legal-aid.git', 'ssh_url': 'git@github.com:ministryofjustice/laa-apply-for-legal-aid.git', 'clone_url': 'https://github.com/ministryofjustice/laa-apply-for-legal-aid.git', 'svn_url': 'https://github.com/ministryofjustice/laa-apply-for-legal-aid', 'homepage': 'https://apply-for-legal-aid.service.justice.gov.uk/', 'size': 9944, 'stargazers_count': 8, 'watchers_count': 8, 'language': 'Ruby', 'has_issues': True, 'has_projects': True, 'has_downloads': True, 'has_wiki': True, 'has_pages': False, 'forks_count': 1, 'mirror_url': None, 'archived': False, 'disabled': False, 'open_issues_count': 8, 'license': {'key': 'mit', 'name': 'MIT License', 'spdx_id': 'MIT', 'url': 'https://api.github.com/licenses/mit', 'node_id': 'MDc6TGljZW5zZTEz'}, 'forks': 1, 'open_issues': 8, 'watchers': 8, 'default_branch': 'master'}}, 'base': {'label': 'ministryofjustice:master', 'ref': 'master', 'sha': 'cbdbe82428803097f88fddd6e11cab2bb4cc5dfa', 'user': {'login': 'ministryofjustice', 'id': 2203574, 'node_id': 'MDEyOk9yZ2FuaXphdGlvbjIyMDM1NzQ=', 'avatar_url': 'https://avatars3.githubusercontent.com/u/2203574?v=4', 'gravatar_id': '', 'url': 'https://api.github.com/users/ministryofjustice', 'html_url': 'https://github.com/ministryofjustice', 'followers_url': 'https://api.github.com/users/ministryofjustice/followers', 'following_url': 'https://api.github.com/users/ministryofjustice/following{/other_user}', 'gists_url': 'https://api.github.com/users/ministryofjustice/gists{/gist_id}', 'starred_url': 'https://api.github.com/users/ministryofjustice/starred{/owner}{/repo}', 'subscriptions_url': 'https://api.github.com/users/ministryofjustice/subscriptions', 'organizations_url': 'https://api.github.com/users/ministryofjustice/orgs', 'repos_url': 'https://api.github.com/users/ministryofjustice/repos', 'events_url': 'https://api.github.com/users/ministryofjustice/events{/privacy}', 'received_events_url': 'https://api.github.com/users/ministryofjustice/received_events', 'type': 'Organization', 'site_admin': False}, 'repo': {'id': 143924174, 'node_id': 'MDEwOlJlcG9zaXRvcnkxNDM5MjQxNzQ=', 'name': 'laa-apply-for-legal-aid', 'full_name': 'ministryofjustice/laa-apply-for-legal-aid', 'private': False, 'owner': {'login': 'ministryofjustice', 'id': 2203574, 'node_id': 'MDEyOk9yZ2FuaXphdGlvbjIyMDM1NzQ=', 'avatar_url': 'https://avatars3.githubusercontent.com/u/2203574?v=4', 'gravatar_id': '', 'url': 'https://api.github.com/users/ministryofjustice', 'html_url': 'https://github.com/ministryofjustice', 'followers_url': 'https://api.github.com/users/ministryofjustice/followers', 'following_url': 'https://api.github.com/users/ministryofjustice/following{/other_user}', 'gists_url': 'https://api.github.com/users/ministryofjustice/gists{/gist_id}', 'starred_url': 'https://api.github.com/users/ministryofjustice/starred{/owner}{/repo}', 'subscriptions_url': 'https://api.github.com/users/ministryofjustice/subscriptions', 'organizations_url': 'https://api.github.com/users/ministryofjustice/orgs', 'repos_url': 'https://api.github.com/users/ministryofjustice/repos', 'events_url': 'https://api.github.com/users/ministryofjustice/events{/privacy}', 'received_events_url': 'https://api.github.com/users/ministryofjustice/received_events', 'type': 'Organization', 'site_admin': False}, 'html_url': 'https://github.com/ministryofjustice/laa-apply-for-legal-aid', 'description': 'Provides the web service to create civil legal aid applications', 'fork': False, 'url': 'https://api.github.com/repos/ministryofjustice/laa-apply-for-legal-aid', 'forks_url': 'https://api.github.com/repos/ministryofjustice/laa-apply-for-legal-aid/forks', 'keys_url': 'https://api.github.com/repos/ministryofjustice/laa-apply-for-legal-aid/keys{/key_id}', 'collaborators_url': 'https://api.github.com/repos/ministryofjustice/laa-apply-for-legal-aid/collaborators{/collaborator}', 'teams_url': 'https://api.github.com/repos/ministryofjustice/laa-apply-for-legal-aid/teams', 'hooks_url': 'https://api.github.com/repos/ministryofjustice/laa-apply-for-legal-aid/hooks', 'issue_events_url': 'https://api.github.com/repos/ministryofjustice/laa-apply-for-legal-aid/issues/events{/number}', 'events_url': 'https://api.github.com/repos/ministryofjustice/laa-apply-for-legal-aid/events', 'assignees_url': 'https://api.github.com/repos/ministryofjustice/laa-apply-for-legal-aid/assignees{/user}', 'branches_url': 'https://api.github.com/repos/ministryofjustice/laa-apply-for-legal-aid/branches{/branch}', 'tags_url': 'https://api.github.com/repos/ministryofjustice/laa-apply-for-legal-aid/tags', 'blobs_url': 'https://api.github.com/repos/ministryofjustice/laa-apply-for-legal-aid/git/blobs{/sha}', 'git_tags_url': 'https://api.github.com/repos/ministryofjustice/laa-apply-for-legal-aid/git/tags{/sha}', 'git_refs_url': 'https://api.github.com/repos/ministryofjustice/laa-apply-for-legal-aid/git/refs{/sha}', 'trees_url': 'https://api.github.com/repos/ministryofjustice/laa-apply-for-legal-aid/git/trees{/sha}', 'statuses_url': 'https://api.github.com/repos/ministryofjustice/laa-apply-for-legal-aid/statuses/{sha}', 'languages_url': 'https://api.github.com/repos/ministryofjustice/laa-apply-for-legal-aid/languages', 'stargazers_url': 'https://api.github.com/repos/ministryofjustice/laa-apply-for-legal-aid/stargazers', 'contributors_url': 'https://api.github.com/repos/ministryofjustice/laa-apply-for-legal-aid/contributors', 'subscribers_url': 'https://api.github.com/repos/ministryofjustice/laa-apply-for-legal-aid/subscribers', 'subscription_url': 'https://api.github.com/repos/ministryofjustice/laa-apply-for-legal-aid/subscription', 'commits_url': 'https://api.github.com/repos/ministryofjustice/laa-apply-for-legal-aid/commits{/sha}', 'git_commits_url': 'https://api.github.com/repos/ministryofjustice/laa-apply-for-legal-aid/git/commits{/sha}', 'comments_url': 'https://api.github.com/repos/ministryofjustice/laa-apply-for-legal-aid/comments{/number}', 'issue_comment_url': 'https://api.github.com/repos/ministryofjustice/laa-apply-for-legal-aid/issues/comments{/number}', 'contents_url': 'https://api.github.com/repos/ministryofjustice/laa-apply-for-legal-aid/contents/{+path}', 'compare_url': 'https://api.github.com/repos/ministryofjustice/laa-apply-for-legal-aid/compare/{base}...{head}', 'merges_url': 'https://api.github.com/repos/ministryofjustice/laa-apply-for-legal-aid/merges', 'archive_url': 'https://api.github.com/repos/ministryofjustice/laa-apply-for-legal-aid/{archive_format}{/ref}', 'downloads_url': 'https://api.github.com/repos/ministryofjustice/laa-apply-for-legal-aid/downloads', 'issues_url': 'https://api.github.com/repos/ministryofjustice/laa-apply-for-legal-aid/issues{/number}', 'pulls_url': 'https://api.github.com/repos/ministryofjustice/laa-apply-for-legal-aid/pulls{/number}', 'milestones_url': 'https://api.github.com/repos/ministryofjustice/laa-apply-for-legal-aid/milestones{/number}', 'notifications_url': 'https://api.github.com/repos/ministryofjustice/laa-apply-for-legal-aid/notifications{?since,all,participating}', 'labels_url': 'https://api.github.com/repos/ministryofjustice/laa-apply-for-legal-aid/labels{/name}', 'releases_url': 'https://api.github.com/repos/ministryofjustice/laa-apply-for-legal-aid/releases{/id}', 'deployments_url': 'https://api.github.com/repos/ministryofjustice/laa-apply-for-legal-aid/deployments', 'created_at': '2018-08-07T20:34:48Z', 'updated_at': '2020-04-22T11:09:01Z', 'pushed_at': '2020-04-22T11:51:43Z', 'git_url': 'git://github.com/ministryofjustice/laa-apply-for-legal-aid.git', 'ssh_url': 'git@github.com:ministryofjustice/laa-apply-for-legal-aid.git', 'clone_url': 'https://github.com/ministryofjustice/laa-apply-for-legal-aid.git', 'svn_url': 'https://github.com/ministryofjustice/laa-apply-for-legal-aid', 'homepage': 'https://apply-for-legal-aid.service.justice.gov.uk/', 'size': 9944, 'stargazers_count': 8, 'watchers_count': 8, 'language': 'Ruby', 'has_issues': True, 'has_projects': True, 'has_downloads': True, 'has_wiki': True, 'has_pages': False, 'forks_count': 1, 'mirror_url': None, 'archived': False, 'disabled': False, 'open_issues_count': 8, 'license': {'key': 'mit', 'name': 'MIT License', 'spdx_id': 'MIT', 'url': 'https://api.github.com/licenses/mit', 'node_id': 'MDc6TGljZW5zZTEz'}, 'forks': 1, 'open_issues': 8, 'watchers': 8, 'default_branch': 'master'}}, '_links': {'self': {'href': 'https://api.github.com/repos/ministryofjustice/laa-apply-for-legal-aid/pulls/1407'}, 'html': {'href': 'https://github.com/ministryofjustice/laa-apply-for-legal-aid/pull/1407'}, 'issue': {'href': 'https://api.github.com/repos/ministryofjustice/laa-apply-for-legal-aid/issues/1407'}, 'comments': {'href': 'https://api.github.com/repos/ministryofjustice/laa-apply-for-legal-aid/issues/1407/comments'}, 'review_comments': {'href': 'https://api.github.com/repos/ministryofjustice/laa-apply-for-legal-aid/pulls/1407/comments'}, 'review_comment': {'href': 'https://api.github.com/repos/ministryofjustice/laa-apply-for-legal-aid/pulls/comments{/number}'}, 'commits': {'href': 'https://api.github.com/repos/ministryofjustice/laa-apply-for-legal-aid/pulls/1407/commits'}, 'statuses': {'href': 'https://api.github.com/repos/ministryofjustice/laa-apply-for-legal-aid/statuses/82cfe957e5e3855384c4407c5c3f9bf2b48a2d05'}}, 'author_association': 'COLLABORATOR'}}, 'public': True, 'created_at': '2020-04-22T11:52:30Z', 'org': {'id': 2203574, 'login': 'ministryofjustice', 'gravatar_id': '', 'url': 'https://api.github.com/orgs/ministryofjustice', 'avatar_url': 'https://avatars.githubusercontent.com/u/2203574?'}}, {'id': '12122934362', 'type': 'PushEvent', 'actor': {'id': 51445834, 'login': 'OrangeMGE', 'display_login': 'OrangeMGE', 'gravatar_id': '', 'url': 'https://api.github.com/users/OrangeMGE', 'avatar_url': 'https://avatars.githubusercontent.com/u/51445834?'}, 'repo': {'id': 243040757, 'name': 'OrangeMGE/Coursework_ToDo', 'url': 'https://api.github.com/repos/OrangeMGE/Coursework_ToDo'}, 'payload': {'push_id': 4957199039, 'size': 1, 'distinct_size': 1, 'ref': 'refs/heads/master', 'head': '304b013454e1f908a24ad808f767d8d8b71003d4', 'before': '6153e8eff67698f3cacc89f4d8394bbec4a1489c', 'commits': [{'sha': '304b013454e1f908a24ad808f767d8d8b71003d4', 'author': {'email': 'OrangeMGE@users.noreply.github.com', 'name': 'OrangeGE'}, 'message': 'Route-Todo', 'distinct': True, 'url': 'https://api.github.com/repos/OrangeMGE/Coursework_ToDo/commits/304b013454e1f908a24ad808f767d8d8b71003d4'}]}, 'public': True, 'created_at': '2020-04-22T11:52:30Z'}, {'id': '12122934374', 'type': 'IssuesEvent', 'actor': {'id': 33056833, 'login': 'HenrysHub', 'display_login': 'HenrysHub', 'gravatar_id': '', 'url': 'https://api.github.com/users/HenrysHub', 'avatar_url': 'https://avatars.githubusercontent.com/u/33056833?'}, 'repo': {'id': 257818281, 'name': 'HenrysHub/projekt-5', 'url': 'https://api.github.com/repos/HenrysHub/projekt-5'}, 'payload': {'action': 'opened', 'issue': {'url': 'https://api.github.com/repos/HenrysHub/projekt-5/issues/12', 'repository_url': 'https://api.github.com/repos/HenrysHub/projekt-5', 'labels_url': 'https://api.github.com/repos/HenrysHub/projekt-5/issues/12/labels{/name}', 'comments_url': 'https://api.github.com/repos/HenrysHub/projekt-5/issues/12/comments', 'events_url': 'https://api.github.com/repos/HenrysHub/projekt-5/issues/12/events', 'html_url': 'https://github.com/HenrysHub/projekt-5/issues/12', 'id': 604695616, 'node_id': 'MDU6SXNzdWU2MDQ2OTU2MTY=', 'number': 12, 'title': 'Veebilehe lisamine localhosti (zone)', 'user': {'login': 'HenrysHub', 'id': 33056833, 'node_id': 'MDQ6VXNlcjMzMDU2ODMz', 'avatar_url': 'https://avatars0.githubusercontent.com/u/33056833?v=4', 'gravatar_id': '', 'url': 'https://api.github.com/users/HenrysHub', 'html_url': 'https://github.com/HenrysHub', 'followers_url': 'https://api.github.com/users/HenrysHub/followers', 'following_url': 'https://api.github.com/users/HenrysHub/following{/other_user}', 'gists_url': 'https://api.github.com/users/HenrysHub/gists{/gist_id}', 'starred_url': 'https://api.github.com/users/HenrysHub/starred{/owner}{/repo}', 'subscriptions_url': 'https://api.github.com/users/HenrysHub/subscriptions', 'organizations_url': 'https://api.github.com/users/HenrysHub/orgs', 'repos_url': 'https://api.github.com/users/HenrysHub/repos', 'events_url': 'https://api.github.com/users/HenrysHub/events{/privacy}', 'received_events_url': 'https://api.github.com/users/HenrysHub/received_events', 'type': 'User', 'site_admin': False}, 'labels': [], 'state': 'open', 'locked': False, 'assignee': {'login': 'taaviprei', 'id': 17851862, 'node_id': 'MDQ6VXNlcjE3ODUxODYy', 'avatar_url': 'https://avatars3.githubusercontent.com/u/17851862?v=4', 'gravatar_id': '', 'url': 'https://api.github.com/users/taaviprei', 'html_url': 'https://github.com/taaviprei', 'followers_url': 'https://api.github.com/users/taaviprei/followers', 'following_url': 'https://api.github.com/users/taaviprei/following{/other_user}', 'gists_url': 'https://api.github.com/users/taaviprei/gists{/gist_id}', 'starred_url': 'https://api.github.com/users/taaviprei/starred{/owner}{/repo}', 'subscriptions_url': 'https://api.github.com/users/taaviprei/subscriptions', 'organizations_url': 'https://api.github.com/users/taaviprei/orgs', 'repos_url': 'https://api.github.com/users/taaviprei/repos', 'events_url': 'https://api.github.com/users/taaviprei/events{/privacy}', 'received_events_url': 'https://api.github.com/users/taaviprei/received_events', 'type': 'User', 'site_admin': False}, 'assignees': [{'login': 'taaviprei', 'id': 17851862, 'node_id': 'MDQ6VXNlcjE3ODUxODYy', 'avatar_url': 'https://avatars3.githubusercontent.com/u/17851862?v=4', 'gravatar_id': '', 'url': 'https://api.github.com/users/taaviprei', 'html_url': 'https://github.com/taaviprei', 'followers_url': 'https://api.github.com/users/taaviprei/followers', 'following_url': 'https://api.github.com/users/taaviprei/following{/other_user}', 'gists_url': 'https://api.github.com/users/taaviprei/gists{/gist_id}', 'starred_url': 'https://api.github.com/users/taaviprei/starred{/owner}{/repo}', 'subscriptions_url': 'https://api.github.com/users/taaviprei/subscriptions', 'organizations_url': 'https://api.github.com/users/taaviprei/orgs', 'repos_url': 'https://api.github.com/users/taaviprei/repos', 'events_url': 'https://api.github.com/users/taaviprei/events{/privacy}', 'received_events_url': 'https://api.github.com/users/taaviprei/received_events', 'type': 'User', 'site_admin': False}], 'milestone': None, 'comments': 0, 'created_at': '2020-04-22T11:52:30Z', 'updated_at': '2020-04-22T11:52:30Z', 'closed_at': None, 'author_association': 'OWNER', 'body': ''}}, 'public': True, 'created_at': '2020-04-22T11:52:30Z'}, {'id': '12122934361', 'type': 'PushEvent', 'actor': {'id': 46114572, 'login': 'RuErJieFei', 'display_login': 'RuErJieFei', 'gravatar_id': '', 'url': 'https://api.github.com/users/RuErJieFei', 'avatar_url': 'https://avatars.githubusercontent.com/u/46114572?'}, 'repo': {'id': 257315668, 'name': 'RuErJieFei/cloud-music-vue', 'url': 'https://api.github.com/repos/RuErJieFei/cloud-music-vue'}, 'payload': {'push_id': 4957199030, 'size': 1, 'distinct_size': 1, 'ref': 'refs/heads/master', 'head': '80210880e7f1d317b8be964545e6fa1d7d47299e', 'before': '30da0ec85740455ef843cc245dd1c80c02d56625', 'commits': [{'sha': '80210880e7f1d317b8be964545e6fa1d7d47299e', 'author': {'email': '1294898797@qq.com', 'name': 'xiaobinggan'}, 'message': '登录接口完成', 'distinct': True, 'url': 'https://api.github.com/repos/RuErJieFei/cloud-music-vue/commits/80210880e7f1d317b8be964545e6fa1d7d47299e'}]}, 'public': True, 'created_at': '2020-04-22T11:52:30Z'}, {'id': '12122934348', 'type': 'PushEvent', 'actor': {'id': 316517, 'login': 'astrojuanlu', 'display_login': 'astrojuanlu', 'gravatar_id': '', 'url': 'https://api.github.com/users/astrojuanlu', 'avatar_url': 'https://avatars.githubusercontent.com/u/316517?'}, 'repo': {'id': 33181650, 'name': 'astrojuanlu/poliastro', 'url': 'https://api.github.com/repos/astrojuanlu/poliastro'}, 'payload': {'push_id': 4957199031, 'size': 3, 'distinct_size': 3, 'ref': 'refs/heads/fix-near-parabolic', 'head': '03fe74497a4d25a8986dfb54393ff676a0d2ee02', 'before': '800017905387551e4c29918b17211158f7a8846e', 'commits': [{'sha': '34ee367bac77c93bf646411284451fc405aee827', 'author': {'email': 'hello@juanlu.space', 'name': 'Juan Luis Cano Rodríguez'}, 'message': 'WIP: FIX EVERYTHING?', 'distinct': True, 'url': 'https://api.github.com/repos/astrojuanlu/poliastro/commits/34ee367bac77c93bf646411284451fc405aee827'}, {'sha': 'a71dd087e40918d603a9a752305f882a5246974d', 'author': {'email': 'hello@juanlu.space', 'name': 'Juan Luis Cano Rodríguez'}, 'message': 'WIP: Add wrap_angle function\\n\\nAdd tests', 'distinct': True, 'url': 'https://api.github.com/repos/astrojuanlu/poliastro/commits/a71dd087e40918d603a9a752305f882a5246974d'}, {'sha': '03fe74497a4d25a8986dfb54393ff676a0d2ee02', 'author': {'email': 'hello@juanlu.space', 'name': 'Juan Luis Cano Rodríguez'}, 'message': 'Normalize true anomaly in Orbit.from_classical\\n\\nSee #636.', 'distinct': True, 'url': 'https://api.github.com/repos/astrojuanlu/poliastro/commits/03fe74497a4d25a8986dfb54393ff676a0d2ee02'}]}, 'public': True, 'created_at': '2020-04-22T11:52:30Z'}, {'id': '12122934340', 'type': 'PushEvent', 'actor': {'id': 9075223, 'login': 'DanielsWrath', 'display_login': 'DanielsWrath', 'gravatar_id': '', 'url': 'https://api.github.com/users/DanielsWrath', 'avatar_url': 'https://avatars.githubusercontent.com/u/9075223?'}, 'repo': {'id': 254301208, 'name': 'PehrGit/YNABGoingDutch', 'url': 'https://api.github.com/repos/PehrGit/YNABGoingDutch'}, 'payload': {'push_id': 4957199020, 'size': 1, 'distinct_size': 1, 'ref': 'refs/heads/master', 'head': 'f473c41808114fadc8cfdbca24643618a41169f5', 'before': '6ae48a509943883363b70387c93129fa8e43be06', 'commits': [{'sha': 'f473c41808114fadc8cfdbca24643618a41169f5', 'author': {'email': 'danielhaitink@protonmail.com', 'name': 'Daniël Haitink'}, 'message': 'Update js/convert.js', 'distinct': True, 'url': 'https://api.github.com/repos/PehrGit/YNABGoingDutch/commits/f473c41808114fadc8cfdbca24643618a41169f5'}]}, 'public': True, 'created_at': '2020-04-22T11:52:30Z'}, {'id': '12122934343', 'type': 'PushEvent', 'actor': {'id': 9033831, 'login': 'simonmitchell', 'display_login': 'simonmitchell', 'gravatar_id': '', 'url': 'https://api.github.com/users/simonmitchell', 'avatar_url': 'https://avatars.githubusercontent.com/u/9033831?'}, 'repo': {'id': 24840055, 'name': '3sidedcube/ThunderBasics', 'url': 'https://api.github.com/repos/3sidedcube/ThunderBasics'}, 'payload': {'push_id': 4957199029, 'size': 2, 'distinct_size': 1, 'ref': 'refs/heads/develop', 'head': 'a5de3c9ccabe8d732a62e06e8f2fd8365e510174', 'before': '24836c49178f37b6e75adfc082d4fd21b49a7dc1', 'commits': [{'sha': 'd9a40bf1bd6fae00d0fbfa892be52437b03a4713', 'author': {'email': 'simon@3sidedcube.com', 'name': 'Simon Mitchell'}, 'message': 'Bumps version', 'distinct': False, 'url': 'https://api.github.com/repos/3sidedcube/ThunderBasics/commits/d9a40bf1bd6fae00d0fbfa892be52437b03a4713'}, {'sha': 'a5de3c9ccabe8d732a62e06e8f2fd8365e510174', 'author': {'email': 'simon@3sidedcube.com', 'name': 'Simon Mitchell'}, 'message': 'Merge release/v1.5.2 into develop', 'distinct': True, 'url': 'https://api.github.com/repos/3sidedcube/ThunderBasics/commits/a5de3c9ccabe8d732a62e06e8f2fd8365e510174'}]}, 'public': True, 'created_at': '2020-04-22T11:52:30Z', 'org': {'id': 5849497, 'login': '3sidedcube', 'gravatar_id': '', 'url': 'https://api.github.com/orgs/3sidedcube', 'avatar_url': 'https://avatars.githubusercontent.com/u/5849497?'}}, {'id': '12122934345', 'type': 'CreateEvent', 'actor': {'id': 28015084, 'login': 'j-blackmore', 'display_login': 'j-blackmore', 'gravatar_id': '', 'url': 'https://api.github.com/users/j-blackmore', 'avatar_url': 'https://avatars.githubusercontent.com/u/28015084?'}, 'repo': {'id': 210572775, 'name': 'j-blackmore/our-recipes', 'url': 'https://api.github.com/repos/j-blackmore/our-recipes'}, 'payload': {'ref': 'fix-tests-badge', 'ref_type': 'branch', 'master_branch': 'master', 'description': 'Site for creating, editing and viewing recipes', 'pusher_type': 'user'}, 'public': True, 'created_at': '2020-04-22T11:52:30Z'}, {'id': '12122934333', 'type': 'PushEvent', 'actor': {'id': 10172485, 'login': 'AlucardNosferatu', 'display_login': 'AlucardNosferatu', 'gravatar_id': '', 'url': 'https://api.github.com/users/AlucardNosferatu', 'avatar_url': 'https://avatars.githubusercontent.com/u/10172485?'}, 'repo': {'id': 252138296, 'name': 'AlucardNosferatu/CQ_Bartender', 'url': 'https://api.github.com/repos/AlucardNosferatu/CQ_Bartender'}, 'payload': {'push_id': 4957199018, 'size': 4, 'distinct_size': 1, 'ref': 'refs/heads/RPG', 'head': '6e504f84ba466e126037850ce3ae356f7f7616a1', 'before': '280f53d1be79908af0429542a777ae7a5c8ae6aa', 'commits': [{'sha': 'da53face8e8a9be9472d3e5409175daceb201df1', 'author': {'email': '1641367382@qq.com', 'name': 'Ebenezer Scrooge'}, 'message': 'Update Status', 'distinct': False, 'url': 'https://api.github.com/repos/AlucardNosferatu/CQ_Bartender/commits/da53face8e8a9be9472d3e5409175daceb201df1'}, {'sha': 'bdd3345e9aab5648279c61fbedf2e2555d8669b9', 'author': {'email': '1641367382@qq.com', 'name': 'Ebenezer Scrooge'}, 'message': \"Merge branch 'RPG_System' of https://github.com/AlucardNosferatu/CQ_Bartender into RPG_System\", 'distinct': False, 'url': 'https://api.github.com/repos/AlucardNosferatu/CQ_Bartender/commits/bdd3345e9aab5648279c61fbedf2e2555d8669b9'}, {'sha': '003a82fd3c2a2f6f33eeb21e2c2927020d0936c9', 'author': {'email': '1641367382@qq.com', 'name': 'Ebenezer Scrooge'}, 'message': 'What changed?', 'distinct': False, 'url': 'https://api.github.com/repos/AlucardNosferatu/CQ_Bartender/commits/003a82fd3c2a2f6f33eeb21e2c2927020d0936c9'}, {'sha': '6e504f84ba466e126037850ce3ae356f7f7616a1', 'author': {'email': '1641367382@qq.com', 'name': 'Ebenezer Scrooge'}, 'message': 'Merge pull request #2 from AlucardNosferatu/RPG_System\\n\\nRpg system', 'distinct': True, 'url': 'https://api.github.com/repos/AlucardNosferatu/CQ_Bartender/commits/6e504f84ba466e126037850ce3ae356f7f7616a1'}]}, 'public': True, 'created_at': '2020-04-22T11:52:30Z'}, {'id': '12122934325', 'type': 'PushEvent', 'actor': {'id': 33256529, 'login': 'PierreTurnbull', 'display_login': 'PierreTurnbull', 'gravatar_id': '', 'url': 'https://api.github.com/users/PierreTurnbull', 'avatar_url': 'https://avatars.githubusercontent.com/u/33256529?'}, 'repo': {'id': 246537765, 'name': 'PierreTurnbull/liquivote-client', 'url': 'https://api.github.com/repos/PierreTurnbull/liquivote-client'}, 'payload': {'push_id': 4957199010, 'size': 1, 'distinct_size': 1, 'ref': 'refs/heads/master', 'head': '6b1ac12419cbe3a0d66dc7016715ea7cb2655f9e', 'before': '3ca951811c96bbe65fa848e64d045a98da070603', 'commits': [{'sha': '6b1ac12419cbe3a0d66dc7016715ea7cb2655f9e', 'author': {'email': 'pierre.turnbull42@gmail.com', 'name': 'PierreTurnbull'}, 'message': 'Removed user card background color.', 'distinct': True, 'url': 'https://api.github.com/repos/PierreTurnbull/liquivote-client/commits/6b1ac12419cbe3a0d66dc7016715ea7cb2655f9e'}]}, 'public': True, 'created_at': '2020-04-22T11:52:30Z'}, {'id': '12122934328', 'type': 'PushEvent', 'actor': {'id': 1804568, 'login': 'thaJeztah', 'display_login': 'thaJeztah', 'gravatar_id': '', 'url': 'https://api.github.com/users/thaJeztah', 'avatar_url': 'https://avatars.githubusercontent.com/u/1804568?'}, 'repo': {'id': 22146654, 'name': 'thaJeztah/docker', 'url': 'https://api.github.com/repos/thaJeztah/docker'}, 'payload': {'push_id': 4957199007, 'size': 4, 'distinct_size': 4, 'ref': 'refs/heads/master', 'head': 'f6a5ccf492e8eab969ffad8404117806b4a15a35', 'before': 'ba8129b28a23f8360005bb57054cd8815542eb67', 'commits': [{'sha': '701b39f5f064e54080a74d37d8444cf9ee183f5c', 'author': {'email': 'github@gone.nl', 'name': 'Sebastiaan van Stijn'}, 'message': 'pkg/term: deprecate package in favor of moby/term\\n\\nSigned-off-by: Sebastiaan van Stijn <github@gone.nl>', 'distinct': True, 'url': 'https://api.github.com/repos/thaJeztah/docker/commits/701b39f5f064e54080a74d37d8444cf9ee183f5c'}, {'sha': '41d4112e89473095947b4fb4ebf10e8258e4273c', 'author': {'email': 'github@gone.nl', 'name': 'Sebastiaan van Stijn'}, 'message': 'pkg/term: vendor moby/term and make pkg/term an alias\\n\\nSigned-off-by: Sebastiaan van Stijn <github@gone.nl>', 'distinct': True, 'url': 'https://api.github.com/repos/thaJeztah/docker/commits/41d4112e89473095947b4fb4ebf10e8258e4273c'}, {'sha': '8312004f41e9500824fa16ae991eeee0083f4771', 'author': {'email': 'github@gone.nl', 'name': 'Sebastiaan van Stijn'}, 'message': 'remove uses of deprecated pkg/term\\n\\nSigned-off-by: Sebastiaan van Stijn <github@gone.nl>', 'distinct': True, 'url': 'https://api.github.com/repos/thaJeztah/docker/commits/8312004f41e9500824fa16ae991eeee0083f4771'}, {'sha': 'f6a5ccf492e8eab969ffad8404117806b4a15a35', 'author': {'email': 'cpuguy83@gmail.com', 'name': 'Brian Goff'}, 'message': 'Merge pull request #40825 from thaJeztah/replace_term\\n\\nDeprecate pkg/term and make it an alias for github.com/moby/term', 'distinct': True, 'url': 'https://api.github.com/repos/thaJeztah/docker/commits/f6a5ccf492e8eab969ffad8404117806b4a15a35'}]}, 'public': True, 'created_at': '2020-04-22T11:52:30Z'}, {'id': '12122934315', 'type': 'PushEvent', 'actor': {'id': 1706353, 'login': 'opentaps', 'display_login': 'opentaps', 'gravatar_id': '', 'url': 'https://api.github.com/users/opentaps', 'avatar_url': 'https://avatars.githubusercontent.com/u/1706353?'}, 'repo': {'id': 189958809, 'name': 'opentaps/opentaps_seas', 'url': 'https://api.github.com/repos/opentaps/opentaps_seas'}, 'payload': {'push_id': 4957199000, 'size': 3, 'distinct_size': 3, 'ref': 'refs/heads/master', 'head': 'd5c15cf0980a947b03b54ac47194f10f9ecb0714', 'before': 'af58b5aa97de4ea1776c9293061d900207756c00', 'commits': [{'sha': 'e40f4ff3b0c34318f761422e030dccb6ab5579be', 'author': {'email': 'jwickers@gmail.com', 'name': 'Jeremy Wickersheimer'}, 'message': 'Add MeterFinancialValueItem as child of MeterFinancialValue, store bill items details there', 'distinct': True, 'url': 'https://api.github.com/repos/opentaps/opentaps_seas/commits/e40f4ff3b0c34318f761422e030dccb6ab5579be'}, {'sha': 'b5fa2b3599be99b41cdf266da889b64473b9e3a3', 'author': {'email': 'jwickers@gmail.com', 'name': 'Jeremy Wickersheimer'}, 'message': 'Add Meter financial value and items views', 'distinct': True, 'url': 'https://api.github.com/repos/opentaps/opentaps_seas/commits/b5fa2b3599be99b41cdf266da889b64473b9e3a3'}, {'sha': 'd5c15cf0980a947b03b54ac47194f10f9ecb0714', 'author': {'email': 'jwickers@gmail.com', 'name': 'Jeremy Wickersheimer'}, 'message': \"Merge remote-tracking branch 'origin/master'\", 'distinct': True, 'url': 'https://api.github.com/repos/opentaps/opentaps_seas/commits/d5c15cf0980a947b03b54ac47194f10f9ecb0714'}]}, 'public': True, 'created_at': '2020-04-22T11:52:30Z'}, {'id': '12122934298', 'type': 'IssueCommentEvent', 'actor': {'id': 37936606, 'login': 'github-learning-lab[bot]', 'display_login': 'github-learning-lab', 'gravatar_id': '', 'url': 'https://api.github.com/users/github-learning-lab[bot]', 'avatar_url': 'https://avatars.githubusercontent.com/u/37936606?'}, 'repo': {'id': 257886196, 'name': 'yn95ny/design-thinking-intro', 'url': 'https://api.github.com/repos/yn95ny/design-thinking-intro'}, 'payload': {'action': 'created', 'issue': {'url': 'https://api.github.com/repos/yn95ny/design-thinking-intro/issues/1', 'repository_url': 'https://api.github.com/repos/yn95ny/design-thinking-intro', 'labels_url': 'https://api.github.com/repos/yn95ny/design-thinking-intro/issues/1/labels{/name}', 'comments_url': 'https://api.github.com/repos/yn95ny/design-thinking-intro/issues/1/comments', 'events_url': 'https://api.github.com/repos/yn95ny/design-thinking-intro/issues/1/events', 'html_url': 'https://github.com/yn95ny/design-thinking-intro/issues/1', 'id': 604694867, 'node_id': 'MDU6SXNzdWU2MDQ2OTQ4Njc=', 'number': 1, 'title': 'Welcome', 'user': {'login': 'github-learning-lab[bot]', 'id': 37936606, 'node_id': 'MDM6Qm90Mzc5MzY2MDY=', 'avatar_url': 'https://avatars0.githubusercontent.com/in/10572?v=4', 'gravatar_id': '', 'url': 'https://api.github.com/users/github-learning-lab%5Bbot%5D', 'html_url': 'https://github.com/apps/github-learning-lab', 'followers_url': 'https://api.github.com/users/github-learning-lab%5Bbot%5D/followers', 'following_url': 'https://api.github.com/users/github-learning-lab%5Bbot%5D/following{/other_user}', 'gists_url': 'https://api.github.com/users/github-learning-lab%5Bbot%5D/gists{/gist_id}', 'starred_url': 'https://api.github.com/users/github-learning-lab%5Bbot%5D/starred{/owner}{/repo}', 'subscriptions_url': 'https://api.github.com/users/github-learning-lab%5Bbot%5D/subscriptions', 'organizations_url': 'https://api.github.com/users/github-learning-lab%5Bbot%5D/orgs', 'repos_url': 'https://api.github.com/users/github-learning-lab%5Bbot%5D/repos', 'events_url': 'https://api.github.com/users/github-learning-lab%5Bbot%5D/events{/privacy}', 'received_events_url': 'https://api.github.com/users/github-learning-lab%5Bbot%5D/received_events', 'type': 'Bot', 'site_admin': False}, 'labels': [], 'state': 'open', 'locked': False, 'assignee': {'login': 'yn95ny', 'id': 63506138, 'node_id': 'MDQ6VXNlcjYzNTA2MTM4', 'avatar_url': 'https://avatars1.githubusercontent.com/u/63506138?v=4', 'gravatar_id': '', 'url': 'https://api.github.com/users/yn95ny', 'html_url': 'https://github.com/yn95ny', 'followers_url': 'https://api.github.com/users/yn95ny/followers', 'following_url': 'https://api.github.com/users/yn95ny/following{/other_user}', 'gists_url': 'https://api.github.com/users/yn95ny/gists{/gist_id}', 'starred_url': 'https://api.github.com/users/yn95ny/starred{/owner}{/repo}', 'subscriptions_url': 'https://api.github.com/users/yn95ny/subscriptions', 'organizations_url': 'https://api.github.com/users/yn95ny/orgs', 'repos_url': 'https://api.github.com/users/yn95ny/repos', 'events_url': 'https://api.github.com/users/yn95ny/events{/privacy}', 'received_events_url': 'https://api.github.com/users/yn95ny/received_events', 'type': 'User', 'site_admin': False}, 'assignees': [{'login': 'yn95ny', 'id': 63506138, 'node_id': 'MDQ6VXNlcjYzNTA2MTM4', 'avatar_url': 'https://avatars1.githubusercontent.com/u/63506138?v=4', 'gravatar_id': '', 'url': 'https://api.github.com/users/yn95ny', 'html_url': 'https://github.com/yn95ny', 'followers_url': 'https://api.github.com/users/yn95ny/followers', 'following_url': 'https://api.github.com/users/yn95ny/following{/other_user}', 'gists_url': 'https://api.github.com/users/yn95ny/gists{/gist_id}', 'starred_url': 'https://api.github.com/users/yn95ny/starred{/owner}{/repo}', 'subscriptions_url': 'https://api.github.com/users/yn95ny/subscriptions', 'organizations_url': 'https://api.github.com/users/yn95ny/orgs', 'repos_url': 'https://api.github.com/users/yn95ny/repos', 'events_url': 'https://api.github.com/users/yn95ny/events{/privacy}', 'received_events_url': 'https://api.github.com/users/yn95ny/received_events', 'type': 'User', 'site_admin': False}], 'milestone': None, 'comments': 0, 'created_at': '2020-04-22T11:51:17Z', 'updated_at': '2020-04-22T11:52:29Z', 'closed_at': None, 'author_association': 'NONE', 'body': '# Welcome!\\n\\nHello @yn95ny, I\\'m so excited to teach you about Design Thinking! 😄\\n\\nThis repository will be a working website that you can publish as your own Design Thinking landing page.\\n\\n![toolkit](https://user-images.githubusercontent.com/6351798/76346666-ff0a4380-62ca-11ea-8609-408ca9126622.png)\\n\\nAs we work, we\\'ll create a resource that others can use within your organization. This repository will be useful even after you finish this course.\\n\\nThis is how this course will move along:\\n\\n- Every new issue or pull request will start with a challenge question\\n- You\\'ll answer the challenge question _(don\\'t worry, there are no right or wrong answers!)_\\n- The question will highlight the importance of each topic in Design Thinking\\n- The related Pull Request will add the resources for that topic to the toolkit\\n- When we\\'re finished, we\\'ll publish the toolkit using GitHub Pages\\n\\n\\n### Challenge question\\nNow let\\'s try your first challenge question!\\n\\nDesign Thinking focuses on using the newest technologies to solve problems.\\n\\n- [ ] True\\n- [x] False\\n\\n<hr>\\n<h3 align=\"center\">I\\'ll respond when you check one of the boxes above.</h3>\\n'}, 'comment': {'url': 'https://api.github.com/repos/yn95ny/design-thinking-intro/issues/comments/617730654', 'html_url': 'https://github.com/yn95ny/design-thinking-intro/issues/1#issuecomment-617730654', 'issue_url': 'https://api.github.com/repos/yn95ny/design-thinking-intro/issues/1', 'id': 617730654, 'node_id': 'MDEyOklzc3VlQ29tbWVudDYxNzczMDY1NA==', 'user': {'login': 'github-learning-lab[bot]', 'id': 37936606, 'node_id': 'MDM6Qm90Mzc5MzY2MDY=', 'avatar_url': 'https://avatars0.githubusercontent.com/in/10572?v=4', 'gravatar_id': '', 'url': 'https://api.github.com/users/github-learning-lab%5Bbot%5D', 'html_url': 'https://github.com/apps/github-learning-lab', 'followers_url': 'https://api.github.com/users/github-learning-lab%5Bbot%5D/followers', 'following_url': 'https://api.github.com/users/github-learning-lab%5Bbot%5D/following{/other_user}', 'gists_url': 'https://api.github.com/users/github-learning-lab%5Bbot%5D/gists{/gist_id}', 'starred_url': 'https://api.github.com/users/github-learning-lab%5Bbot%5D/starred{/owner}{/repo}', 'subscriptions_url': 'https://api.github.com/users/github-learning-lab%5Bbot%5D/subscriptions', 'organizations_url': 'https://api.github.com/users/github-learning-lab%5Bbot%5D/orgs', 'repos_url': 'https://api.github.com/users/github-learning-lab%5Bbot%5D/repos', 'events_url': 'https://api.github.com/users/github-learning-lab%5Bbot%5D/events{/privacy}', 'received_events_url': 'https://api.github.com/users/github-learning-lab%5Bbot%5D/received_events', 'type': 'Bot', 'site_admin': False}, 'created_at': '2020-04-22T11:52:29Z', 'updated_at': '2020-04-22T11:52:29Z', 'author_association': 'NONE', 'body': '### Answer :crystal_ball:\\n\\n**Design Thinking** does not focus on technology.  It is _human_-centric. It puts people first, before thinking about technology, to enable them to achieve more.  \\n\\nThis approach leads to more meaningful and innovative solutions, regardless of industry.\\n\\n<hr>\\n<h3 align=\"center\">You can find your next steps in the <a href=\"https://github.com/yn95ny/design-thinking-intro/pull/2\">first pull request</a>.</h3>\\n\\n'}}, 'public': True, 'created_at': '2020-04-22T11:52:29Z'}, {'id': '12122934292', 'type': 'PushEvent', 'actor': {'id': 56911907, 'login': 'yuichiyasui', 'display_login': 'yuichiyasui', 'gravatar_id': '', 'url': 'https://api.github.com/users/yuichiyasui', 'avatar_url': 'https://avatars.githubusercontent.com/u/56911907?'}, 'repo': {'id': 252362621, 'name': 'yuichiyasui/covid19', 'url': 'https://api.github.com/repos/yuichiyasui/covid19'}, 'payload': {'push_id': 4957198979, 'size': 1, 'distinct_size': 0, 'ref': 'refs/heads/develop', 'head': '47ff9fc167845a81e5f4e4ebb7a80fbffdf4c47e', 'before': '12b2e60b36275767abee983bd6ed66571cf9a27b', 'commits': [{'sha': '47ff9fc167845a81e5f4e4ebb7a80fbffdf4c47e', 'author': {'email': 'yassan.b.a.w@gmail.com', 'name': 'yuichiyasui'}, 'message': 'UIの調整及び更新情報の追加', 'distinct': False, 'url': 'https://api.github.com/repos/yuichiyasui/covid19/commits/47ff9fc167845a81e5f4e4ebb7a80fbffdf4c47e'}]}, 'public': True, 'created_at': '2020-04-22T11:52:29Z'}, {'id': '12122934282', 'type': 'PushEvent', 'actor': {'id': 35445094, 'login': 'l1997i', 'display_login': 'l1997i', 'gravatar_id': '', 'url': 'https://api.github.com/users/l1997i', 'avatar_url': 'https://avatars.githubusercontent.com/u/35445094?'}, 'repo': {'id': 250008000, 'name': 'l1997i/algs4-assignment-2', 'url': 'https://api.github.com/repos/l1997i/algs4-assignment-2'}, 'payload': {'push_id': 4957198981, 'size': 2, 'distinct_size': 2, 'ref': 'refs/heads/master', 'head': '54d9ca29213c5b94dd9ec6614d6d1ba88ea71029', 'before': '132dbbe269f388c95f3a9329dfff727cf87d7d2f', 'commits': [{'sha': '124f2d0352b8ee63e061424a4c2e793c3eb92450', 'author': {'email': 'l1997i@yeah.net', 'name': 'l1997i@yeah.net'}, 'message': 'write getAllValidWords() func', 'distinct': True, 'url': 'https://api.github.com/repos/l1997i/algs4-assignment-2/commits/124f2d0352b8ee63e061424a4c2e793c3eb92450'}, {'sha': '54d9ca29213c5b94dd9ec6614d6d1ba88ea71029', 'author': {'email': 'l1997i@yeah.net', 'name': 'l1997i@yeah.net'}, 'message': 'modify test file', 'distinct': True, 'url': 'https://api.github.com/repos/l1997i/algs4-assignment-2/commits/54d9ca29213c5b94dd9ec6614d6d1ba88ea71029'}]}, 'public': True, 'created_at': '2020-04-22T11:52:29Z'}, {'id': '12122934278', 'type': 'PushEvent', 'actor': {'id': 54768523, 'login': 'ks-kushagra', 'display_login': 'ks-kushagra', 'gravatar_id': '', 'url': 'https://api.github.com/users/ks-kushagra', 'avatar_url': 'https://avatars.githubusercontent.com/u/54768523?'}, 'repo': {'id': 252371902, 'name': 'ks-kushagra/Algorithms', 'url': 'https://api.github.com/repos/ks-kushagra/Algorithms'}, 'payload': {'push_id': 4957198976, 'size': 1, 'distinct_size': 1, 'ref': 'refs/heads/master', 'head': 'cef733ef26ea9dbab351a76d813e42c14960e01d', 'before': '7bc165ec71307f65746b19bdb272023d17bdf4dd', 'commits': [{'sha': 'cef733ef26ea9dbab351a76d813e42c14960e01d', 'author': {'email': 'kushagra.cse.11498@gmail.com', 'name': 'Kushagra Singh'}, 'message': 'Create DP-Largest Common Subsequence.cpp', 'distinct': True, 'url': 'https://api.github.com/repos/ks-kushagra/Algorithms/commits/cef733ef26ea9dbab351a76d813e42c14960e01d'}]}, 'public': True, 'created_at': '2020-04-22T11:52:29Z'}, {'id': '12122934280', 'type': 'PushEvent', 'actor': {'id': 111819, 'login': 'grenade', 'display_login': 'grenade', 'gravatar_id': '', 'url': 'https://api.github.com/users/grenade', 'avatar_url': 'https://avatars.githubusercontent.com/u/111819?'}, 'repo': {'id': 252908908, 'name': 'minionsmanaged/observations', 'url': 'https://api.github.com/repos/minionsmanaged/observations'}, 'payload': {'push_id': 4957198980, 'size': 1, 'distinct_size': 1, 'ref': 'refs/heads/master', 'head': 'ea4a5ba96e4bbea01ded9473489d2a9b3f933779', 'before': '1953bcfa4236b753645db915164fbfefba598023', 'commits': [{'sha': 'ea4a5ba96e4bbea01ded9473489d2a9b3f933779', 'author': {'email': 'travis.ci.build@gmail.com', 'name': 'Travis-CI'}, 'message': 'tc queue observations for gecko-3/b-win2012', 'distinct': True, 'url': 'https://api.github.com/repos/minionsmanaged/observations/commits/ea4a5ba96e4bbea01ded9473489d2a9b3f933779'}]}, 'public': True, 'created_at': '2020-04-22T11:52:29Z', 'org': {'id': 61181127, 'login': 'minionsmanaged', 'gravatar_id': '', 'url': 'https://api.github.com/orgs/minionsmanaged', 'avatar_url': 'https://avatars.githubusercontent.com/u/61181127?'}}, {'id': '12122934264', 'type': 'PushEvent', 'actor': {'id': 30420337, 'login': 'pandeyvaibhav', 'display_login': 'pandeyvaibhav', 'gravatar_id': '', 'url': 'https://api.github.com/users/pandeyvaibhav', 'avatar_url': 'https://avatars.githubusercontent.com/u/30420337?'}, 'repo': {'id': 257886299, 'name': 'pandeyvaibhav/AzureIAC', 'url': 'https://api.github.com/repos/pandeyvaibhav/AzureIAC'}, 'payload': {'push_id': 4957198968, 'size': 1, 'distinct_size': 1, 'ref': 'refs/heads/master', 'head': '01071b108e64354b3a148d28781427c368fad0de', 'before': '29a2df04748bba98f9880c203cc87922945fe2ee', 'commits': [{'sha': '01071b108e64354b3a148d28781427c368fad0de', 'author': {'email': '30420337+pandeyvaibhav@users.noreply.github.com', 'name': 'pandeyvaibhav'}, 'message': 'Update README.md\\n\\nupdated typo.', 'distinct': True, 'url': 'https://api.github.com/repos/pandeyvaibhav/AzureIAC/commits/01071b108e64354b3a148d28781427c368fad0de'}]}, 'public': True, 'created_at': '2020-04-22T11:52:29Z'}, {'id': '12122934271', 'type': 'CreateEvent', 'actor': {'id': 47148648, 'login': 'svc-software-factory', 'display_login': 'svc-software-factory', 'gravatar_id': '', 'url': 'https://api.github.com/users/svc-software-factory', 'avatar_url': 'https://avatars.githubusercontent.com/u/47148648?'}, 'repo': {'id': 197735908, 'name': 'adeo-gitlab/sync-github-gitlab-39', 'url': 'https://api.github.com/repos/adeo-gitlab/sync-github-gitlab-39'}, 'payload': {'ref': '2020-04-22_11-52-16_205_scenario1', 'ref_type': 'branch', 'master_branch': 'master', 'description': None, 'pusher_type': 'user'}, 'public': True, 'created_at': '2020-04-22T11:52:29Z', 'org': {'id': 52697831, 'login': 'adeo-gitlab', 'gravatar_id': '', 'url': 'https://api.github.com/orgs/adeo-gitlab', 'avatar_url': 'https://avatars.githubusercontent.com/u/52697831?'}}]\n"
     ]
    }
   ],
   "source": [
    "import requests\n",
    "\n",
    "r = requests.get('https://api.github.com/events')\n",
    "print(r.json())"
   ]
  },
  {
   "cell_type": "markdown",
   "metadata": {
    "slideshow": {
     "slide_type": "slide"
    }
   },
   "source": [
    "### Cabeceras personalizadas\n",
    "\n",
    "Si quieres agregar cabeceras HTTP a una petición, simplemente pasa un dict al\n",
    "parámetro headers.\n",
    "\n",
    "Por ejemplo, en el ejemplo anterior no especificamos la cabecera content-type:\n",
    "\n",
    "    import json\n",
    "    url = '...'\n",
    "    payload = {'some': 'data'}\n",
    "    headers = {'content-type': 'application/json'}\n",
    "    r = requests.post(url, data=json.dumps(payload), headers=headers)"
   ]
  },
  {
   "cell_type": "markdown",
   "metadata": {
    "slideshow": {
     "slide_type": "slide"
    }
   },
   "source": [
    "### Peticiones POST más complicadas\n",
    "\n",
    "Típicamente, quieres enviar información en forma de formulario, como un\n",
    "formulario HTML. Para hacerlo, pasa un diccionario al parámetro `data`. Este\n",
    "diccionario será codificado automáticamente como formulario al momento de\n",
    "realizar la petición:\n",
    "\n",
    "(Para este ejemplo, asegurate de tener un serivor local corriendo\n",
    "en otra terminal, con `python -m http.server`)."
   ]
  },
  {
   "cell_type": "code",
   "execution_count": 8,
   "metadata": {
    "slideshow": {
     "slide_type": "slide"
    }
   },
   "outputs": [],
   "source": [
    "payload = {'key1': 'value1', 'key2': 'value2'}\n",
    "r = requests.post(\"http://localhost:8000/post\", data=payload)"
   ]
  },
  {
   "cell_type": "markdown",
   "metadata": {
    "slideshow": {
     "slide_type": "slide"
    }
   },
   "source": [
    "### Cabeceras de respuesta\n",
    "\n",
    "Podemos ver las cabeceras de respuesta del servidor utilizando un diccionario:\n",
    "\n",
    "r.headers\n",
    "{\n",
    "    'status': '200 OK',\n",
    "    'content-encoding': 'gzip',\n",
    "    'transfer-encoding': 'chunked',\n",
    "    'connection': 'close',\n",
    "    'server': 'nginx/1.0.4',\n",
    "    'x-runtime': '148ms',\n",
    "    'etag': '\"e1ca502697e5c9317743dc078f67693f\"',\n",
    "    'content-type': 'application/json; charset=utf-8'\n",
    "}\n",
    "\n",
    "Este diccionario es especial: está hecho únicamente para las cabeceras HTTP. De\n",
    "acuerdo con el RFC 7230 , los nombres de las cabeceras HTTP no hacen distinción\n",
    "entre mayúsculas y minúsculas.\n",
    "\n",
    "Así que podemos acceder a las cabeceras utilizando letras mayúsculas o minúsculas:"
   ]
  },
  {
   "cell_type": "code",
   "execution_count": 10,
   "metadata": {
    "slideshow": {
     "slide_type": "slide"
    }
   },
   "outputs": [
    {
     "data": {
      "text/plain": [
       "'text/html;charset=utf-8'"
      ]
     },
     "execution_count": 10,
     "metadata": {},
     "output_type": "execute_result"
    }
   ],
   "source": [
    "r.headers['Content-Type']\n",
    "'application/json; charset=utf-8'\n",
    "r.headers.get('content-type')"
   ]
  },
  {
   "cell_type": "markdown",
   "metadata": {
    "slideshow": {
     "slide_type": "slide"
    }
   },
   "source": [
    "### Cookies\n",
    "\n",
    "Si una respuesta contiene Cookies, puedes acceder a ellas rápidamente:\n",
    "\n",
    "    url = 'http://example.com/some/cookie/setting/url'\n",
    "    r = requests.get(url)\n",
    "    r.cookies['example_cookie_name']"
   ]
  },
  {
   "cell_type": "markdown",
   "metadata": {
    "slideshow": {
     "slide_type": "slide"
    }
   },
   "source": [
    "Para enviar tus propias cookies al servidor, puedes utilizar el parámetro cookies:\n",
    "\n",
    "    url = 'http://httpbin.org/cookies'\n",
    "    cookies = dict(cookies_are='working')\n",
    "    r = requests.get(url, cookies=cookies)\n",
    "    r.text\n",
    " \n",
    "Devería debolver:\n",
    "\n",
    "    '{\"cookies\": {\"cookies_are\": \"working\"}}'"
   ]
  },
  {
   "cell_type": "markdown",
   "metadata": {
    "slideshow": {
     "slide_type": "slide"
    }
   },
   "source": [
    "### Historial y Redireccionamiento\n",
    "\n",
    "Requests realizará redireccionamiento para peticiones para todos los verbos,\n",
    "excepto `HEAD`."
   ]
  },
  {
   "cell_type": "markdown",
   "metadata": {
    "slideshow": {
     "slide_type": "slide"
    }
   },
   "source": [
    "GitHub redirecciona todas las peticiones `HTTP` hacia `HTTPS`. Podemos usar el\n",
    "método `history` de  la respuesta para rastrear las redirecciones. "
   ]
  },
  {
   "cell_type": "markdown",
   "metadata": {
    "slideshow": {
     "slide_type": "slide"
    }
   },
   "source": [
    "La lista `Response.history` contiene una lista de objetos tipo `Request` que fueron\n",
    "creados con el fín de completar la petición. La lista está ordenada desde la\n",
    "petición más antigua, hasta las más reciente."
   ]
  },
  {
   "cell_type": "markdown",
   "metadata": {
    "slideshow": {
     "slide_type": "slide"
    }
   },
   "source": [
    "Si estás utilizando GET u OPTIONS, puedes deshabilitar el redireccionamiento usando el parámetro allow_redirects:"
   ]
  },
  {
   "cell_type": "code",
   "execution_count": 36,
   "metadata": {
    "slideshow": {
     "slide_type": "slide"
    }
   },
   "outputs": [
    {
     "name": "stdout",
     "output_type": "stream",
     "text": [
      "200\n",
      "[<Response [301]>]\n"
     ]
    }
   ],
   "source": [
    "r = requests.get('http://github.com')\n",
    "print(r.status_code)\n",
    "print(r.history)"
   ]
  },
  {
   "cell_type": "markdown",
   "metadata": {
    "slideshow": {
     "slide_type": "slide"
    }
   },
   "source": [
    "Si estás utilizando HEAD, puedes habilitar el redireccionamento de la misma manera:"
   ]
  },
  {
   "cell_type": "code",
   "execution_count": 39,
   "metadata": {
    "slideshow": {
     "slide_type": "slide"
    }
   },
   "outputs": [
    {
     "name": "stdout",
     "output_type": "stream",
     "text": [
      "200 https://github.com/ [<Response [301]>]\n"
     ]
    }
   ],
   "source": [
    "r = requests.head('http://github.com', allow_redirects=True)\n",
    "print(r.status_code, r.url, r.history)"
   ]
  },
  {
   "cell_type": "markdown",
   "metadata": {
    "slideshow": {
     "slide_type": "slide"
    }
   },
   "source": [
    "**Ejercicio**: Arreglar el script para que realize la peticion HEAD pero con\n",
    "redireccionamiento"
   ]
  },
  {
   "cell_type": "markdown",
   "metadata": {
    "slideshow": {
     "slide_type": "slide"
    }
   },
   "source": [
    "### Timeouts\n",
    "\n",
    "Con el parámetro timeout puedes indicarle a Requests que deje de esperar por una\n",
    "respuesta luego de un número determinado de segundos."
   ]
  },
  {
   "cell_type": "markdown",
   "metadata": {
    "slideshow": {
     "slide_type": "slide"
    }
   },
   "source": [
    "`timeout` indica el tiempo máximo que se espera por la respuesta. Si no se produce \n",
    "la respuesta dentro de ese periodo se elevará una excepcion."
   ]
  },
  {
   "cell_type": "markdown",
   "metadata": {},
   "source": [
    "### La clase Session\n",
    "\n",
    "Los objetos de tipo Session permiten reusar y compartir determinados valores\n",
    " y *cookies* entre peticiones que se realizan con esa sesión. Tambien \n",
    "usae internamente las conexiones reutilizables definidas en la libreria urllib3.\n",
    "Este objeto esta pensado para ser usado cunaod se realizan muchas conexiones\n",
    "al mismo host, ya que en este caso, el hecho de reutilizar la conexión puede\n",
    "suponer un incfremento sigbnificativo de lrendimiento.\n",
    "\n",
    "Un objeto de tipo `Session` tiene todos los metodos definidos como funciones\n",
    "en requests.\n",
    "\n",
    "Veamos un ejemplo en el que vemos como las conexiones realizadas al mismo\n",
    "host comparten las cookies:"
   ]
  },
  {
   "cell_type": "code",
   "execution_count": 1,
   "metadata": {},
   "outputs": [
    {
     "name": "stdout",
     "output_type": "stream",
     "text": [
      "<RequestsCookieJar[]>\n"
     ]
    }
   ],
   "source": [
    "import requests\n",
    "\n",
    "s = requests.Session()\n",
    "primera = s.get('https://httpbin.org/cookies/set/sessioncookie/123456789')\n",
    "segunda = s.get('https://httpbin.org/cookies')\n",
    "\n",
    "print(segunda.cookies)"
   ]
  },
  {
   "cell_type": "markdown",
   "metadata": {},
   "source": [
    "### Soluciones\n",
    "\n",
    "Versión final del programa de chequeo de web, usando head y con el\n",
    "parametro `allow_redirecs`:"
   ]
  },
  {
   "cell_type": "code",
   "execution_count": 11,
   "metadata": {},
   "outputs": [],
   "source": [
    "import requests\n",
    "\n",
    "urls = [\n",
    "    'https://www.google.com/',\n",
    "    'http://github.com/',\n",
    "    'https://www.parcan.es/',\n",
    "]\n",
    "\n",
    "for url in urls:\n",
    "    r = requests.head(url, allow_redirects=True)\n",
    "    if r.status_code != 200:\n",
    "        print(f\"Error {r.status_code} al acceder a {url}\")"
   ]
  },
  {
   "cell_type": "code",
   "execution_count": null,
   "metadata": {},
   "outputs": [],
   "source": []
  }
 ],
 "metadata": {
  "celltoolbar": "Slideshow",
  "kernelspec": {
   "display_name": "Python 3",
   "language": "python",
   "name": "python3"
  },
  "language_info": {
   "codemirror_mode": {
    "name": "ipython",
    "version": 3
   },
   "file_extension": ".py",
   "mimetype": "text/x-python",
   "name": "python",
   "nbconvert_exporter": "python",
   "pygments_lexer": "ipython3",
   "version": "3.7.6"
  }
 },
 "nbformat": 4,
 "nbformat_minor": 4
}
