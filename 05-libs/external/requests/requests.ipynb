{
 "cells": [
  {
   "cell_type": "markdown",
   "metadata": {
    "slideshow": {
     "slide_type": "slide"
    }
   },
   "source": [
    "## La libreria requests\n",
    "\n",
    "Requests es una librería para HTTP escrita en Python, para seres humanos."
   ]
  },
  {
   "cell_type": "markdown",
   "metadata": {
    "slideshow": {
     "slide_type": "slide"
    }
   },
   "source": [
    "### Filosofía\n",
    "\n",
    "Requests fue desarrollado al estilo PEP 20.\n",
    "\n",
    "Hermoso es mejor que feo.\n",
    "Explícito es mejor que implícito.\n",
    "Simple es mejor que complejo.\n",
    "Complejo es mejor que complicado.\n",
    "La legibilidad cuenta."
   ]
  },
  {
   "cell_type": "code",
   "execution_count": 3,
   "metadata": {},
   "outputs": [
    {
     "name": "stdout",
     "output_type": "stream",
     "text": [
      "Requirement already satisfied: requests in /home/jileon/.virtualenvs/eoi/lib/python3.6/site-packages (2.23.0)\n",
      "Requirement already satisfied: urllib3!=1.25.0,!=1.25.1,<1.26,>=1.21.1 in /home/jileon/.virtualenvs/eoi/lib/python3.6/site-packages (from requests) (1.25.8)\n",
      "Requirement already satisfied: certifi>=2017.4.17 in /home/jileon/.virtualenvs/eoi/lib/python3.6/site-packages (from requests) (2019.11.28)\n",
      "Requirement already satisfied: chardet<4,>=3.0.2 in /home/jileon/.virtualenvs/eoi/lib/python3.6/site-packages (from requests) (3.0.4)\n",
      "Requirement already satisfied: idna<3,>=2.5 in /home/jileon/.virtualenvs/eoi/lib/python3.6/site-packages (from requests) (2.9)\n",
      "Note: you may need to restart the kernel to use updated packages.\n"
     ]
    }
   ],
   "source": [
    "pip install requests"
   ]
  },
  {
   "cell_type": "code",
   "execution_count": 4,
   "metadata": {},
   "outputs": [],
   "source": [
    "import requests"
   ]
  },
  {
   "cell_type": "markdown",
   "metadata": {
    "slideshow": {
     "slide_type": "slide"
    }
   },
   "source": [
    "Ejemplo con requests"
   ]
  },
  {
   "cell_type": "code",
   "execution_count": 19,
   "metadata": {
    "slideshow": {
     "slide_type": "slide"
    }
   },
   "outputs": [
    {
     "name": "stdout",
     "output_type": "stream",
     "text": [
      "200\n",
      "Server : SimpleHTTP/0.6 Python/3.6.9\n",
      "Date : Tue, 21 Apr 2020 18:21:22 GMT\n",
      "Content-type : text/html; charset=utf-8\n",
      "Content-Length : 672\n",
      "utf-8\n"
     ]
    }
   ],
   "source": [
    "r = requests.get('http://localhost:8000')\n",
    "print(r.status_code)\n",
    "for nm in r.headers:\n",
    "    print(nm, ':', r.headers[nm])\n",
    "print(r.encoding)\n",
    "#print(r.text)"
   ]
  },
  {
   "cell_type": "markdown",
   "metadata": {
    "slideshow": {
     "slide_type": "slide"
    }
   },
   "source": [
    "En python 2, un codigo equivalente a esto era bastante mas largo e incomodo\n",
    "de leer. Es verdad que ahora, con el cambio llevado a las librerias en\n",
    "Python3, la diferencia ya no es tanta. Aun asi, `requests` llega más lejos\n",
    "en terminis de comodidad y facilidad de uso."
   ]
  },
  {
   "cell_type": "markdown",
   "metadata": {
    "slideshow": {
     "slide_type": "slide"
    }
   },
   "source": [
    "Si tu programa hace uso extensivo de llamadas a servidores http, seguramente\n",
    "`requests` te aprotara un codigo mas sencillo y te conviene usarlo, si solo\n",
    "estas haciendo una unica llamada, igual requests seria demasiado, ya que solo\n",
    "te ahorrarias un par de lineas, que igual no compensa añadir otra dependencia\n",
    "a tu codigo."
   ]
  },
  {
   "cell_type": "markdown",
   "metadata": {
    "slideshow": {
     "slide_type": "slide"
    }
   },
   "source": [
    "### Instalar request\n",
    "\n",
    "pip install request\n",
    "\n",
    "### Realizar un petición GET\n",
    "\n",
    "Realizar una petición en Requests muy sencillo.\n",
    "\n",
    "Comienza importando el módulo de Requests:\n",
    "\n",
    ">>> import requests\n",
    "\n",
    "Ahora,\n",
    "\n",
    "\n",
    "intentemos obtener un página web. Para este ejemplo, vamos a obtener el\n",
    "timeline público de GitHub.:"
   ]
  },
  {
   "cell_type": "code",
   "execution_count": 22,
   "metadata": {
    "slideshow": {
     "slide_type": "slide"
    }
   },
   "outputs": [],
   "source": [
    "r = requests.get('https://api.github.com/events')"
   ]
  },
  {
   "cell_type": "code",
   "execution_count": 31,
   "metadata": {
    "slideshow": {
     "slide_type": "fragment"
    }
   },
   "outputs": [],
   "source": [
    "data = r.json()"
   ]
  },
  {
   "cell_type": "markdown",
   "metadata": {
    "slideshow": {
     "slide_type": "slide"
    }
   },
   "source": [
    "Ahora, tenemos un objeto Response llamado `r`. Podemos obtener toda la\n",
    "información que necesitamos a partir de este objeto."
   ]
  },
  {
   "cell_type": "markdown",
   "metadata": {
    "slideshow": {
     "slide_type": "slide"
    }
   },
   "source": [
    "**Ejercicio**: En la propiedad `status_code` podemos acceder al codigo\n",
    "de respuesta del servidor. Este es el famoso 404 que obtenemos a veces\n",
    "en el navegador, si intentamos acceder a una pagina que no existe, por ejemplo.\n",
    "\n",
    "El codigo para \"todo ha ido bien\" en 200."
   ]
  },
  {
   "cell_type": "markdown",
   "metadata": {
    "slideshow": {
     "slide_type": "slide"
    }
   },
   "source": [
    "Haz un pequeño script para comprobar una serie de paginas web. Has una peticion\n",
    "de tipo GET para cada direccion y conprueba que el `status_code` de la respuesta\n",
    "en 200. Imprime un codigo de error en caso contrario."
   ]
  },
  {
   "cell_type": "markdown",
   "metadata": {
    "slideshow": {
     "slide_type": "slide"
    }
   },
   "source": [
    "Puedes usar estas direcciones, o modificarlas a tu gusto\n",
    "\n",
    "https://www.google.com/\n",
    "https://github.com/\n",
    "https://www.parcan.es/\n",
    "\n",
    "    urls = [\n",
    "        'https://www.google.com/',\n",
    "        'https://github.com/',\n",
    "        'https://www.parcan.es/',\n",
    "    ]"
   ]
  },
  {
   "cell_type": "markdown",
   "metadata": {
    "slideshow": {
     "slide_type": "slide"
    }
   },
   "source": [
    "GET es el tipo de peticion mas frecuente, pero puedes acceder a todos los\n",
    "verbos HTTP:\n",
    "\n",
    "r = requests.post(\"http://httpbin.org/post\")\n",
    "r = requests.put(\"http://httpbin.org/put\")\n",
    "r = requests.delete(\"http://httpbin.org/delete\")\n",
    "r = requests.head(\"http://httpbin.org/get\")\n",
    "r = requests.options(\"http://httpbin.org/get\")"
   ]
  },
  {
   "cell_type": "markdown",
   "metadata": {
    "slideshow": {
     "slide_type": "slide"
    }
   },
   "source": [
    "**Ejercicio**: Cambia el código anterior para que use\n",
    "`head` en vez de `get`. Va más rapida? Por qué? Devuelven todas los servidores el código `200`?"
   ]
  },
  {
   "cell_type": "markdown",
   "metadata": {
    "slideshow": {
     "slide_type": "slide"
    }
   },
   "source": [
    "### Pasar parámetros en URLs\n",
    "\n",
    "Con frecuencia, debes enviar algún tipo de información en el query string de la\n",
    "URL. Si estuvieses creando la URL a mano, esta información estaría en forma de\n",
    "pares llave/valor luego del signo de interrogación en la URL, por ejemplo\n",
    "`httpbin.org/get?key=val`. "
   ]
  },
  {
   "cell_type": "markdown",
   "metadata": {
    "slideshow": {
     "slide_type": "slide"
    }
   },
   "source": [
    "Requests te permite proveer estos argumentos en forma\n",
    "de diccionario, usando el parámetro en llave (keyword argument) params. Como\n",
    "ejemplo, si quisieras pasar key1=value1 y key2=value2 a httpbin.org/get, usarías\n",
    "algo como esto:\n",
    "\n"
   ]
  },
  {
   "cell_type": "code",
   "execution_count": 40,
   "metadata": {
    "slideshow": {
     "slide_type": "slide"
    }
   },
   "outputs": [],
   "source": [
    "payload = {'key1': 'value1', 'key2': 'value2'}\n",
    "r = requests.get(\"http://httpbin.org/get\", params=payload)"
   ]
  },
  {
   "cell_type": "markdown",
   "metadata": {
    "slideshow": {
     "slide_type": "slide"
    }
   },
   "source": [
    "Puedes ver que la URL ha sido codificada correctamente imprimiéndola:"
   ]
  },
  {
   "cell_type": "code",
   "execution_count": 41,
   "metadata": {
    "slideshow": {
     "slide_type": "slide"
    }
   },
   "outputs": [
    {
     "name": "stdout",
     "output_type": "stream",
     "text": [
      "http://httpbin.org/get?key1=value1&key2=value2\n"
     ]
    }
   ],
   "source": [
    "print(r.url)"
   ]
  },
  {
   "cell_type": "markdown",
   "metadata": {
    "slideshow": {
     "slide_type": "slide"
    }
   },
   "source": [
    "Nota: cualquier llave del diccionario cuyo valor es `None` no será agregada \n",
    "al *query string* del URL."
   ]
  },
  {
   "cell_type": "markdown",
   "metadata": {
    "slideshow": {
     "slide_type": "slide"
    }
   },
   "source": [
    "### Contenido de respuesta\n",
    "\n",
    "Podemos leer el contenido de la respuesta del servidor. Usemos el listado de\n",
    "eventos de\n",
    "GitHub nuevamente:"
   ]
  },
  {
   "cell_type": "code",
   "execution_count": 44,
   "metadata": {
    "slideshow": {
     "slide_type": "slide"
    }
   },
   "outputs": [
    {
     "data": {
      "text/plain": [
       "'12115403054'"
      ]
     },
     "execution_count": 44,
     "metadata": {},
     "output_type": "execute_result"
    }
   ],
   "source": [
    "import requests\n",
    "r = requests.get('https://api.github.com/events')\n",
    "r.json()[2]['id']"
   ]
  },
  {
   "cell_type": "markdown",
   "metadata": {
    "slideshow": {
     "slide_type": "slide"
    }
   },
   "source": [
    "Requests automáticamente decodificará el contenido que viene del servidor. La\n",
    "mayoría de caracteres unicode serán decodificados correctamente.\n",
    "\n",
    "Cuando ejecutas una petición, Requests tratará de obtener la codificación de la\n",
    "respuesta basándose en las cabeceras HTTP. La codificación del texto que\n",
    "Requests encontró (o supuso), será utilizada cuando se acceda a `r.text`. Puedes\n",
    "conocer la codificación que `Requests` está utilizando, y cambiarla, usando la\n",
    "propiedad r.encoding:\n",
    "\n",
    ">>> r.encoding\n",
    "'utf-8'\n",
    ">>> r.encoding = 'ISO-8859-1'"
   ]
  },
  {
   "cell_type": "markdown",
   "metadata": {
    "slideshow": {
     "slide_type": "slide"
    }
   },
   "source": [
    "### Contenido de respuesta JSON\n",
    "\n",
    "Hay un decodificador de JSON incorporado en Requests:\n",
    "\n",
    ">>> import requests\n",
    ">>> r = requests.get('https://api.github.com/events')\n",
    ">>> r.json()\n",
    "\n",
    "\n",
    "Si la decodificación falla, r.json elevará una excepción. Por ejemplo, si la respuesta obtiene un código 401 (No Autorizado/ Unauthorized), intentar `r.json` producirá un error `ValueError: No JSON object could be decoded`."
   ]
  },
  {
   "cell_type": "markdown",
   "metadata": {
    "slideshow": {
     "slide_type": "slide"
    }
   },
   "source": [
    "### Cabeceras personalizadas\n",
    "\n",
    "Si quieres agregar cabeceras HTTP a una petición, simplemente pasa un dict al\n",
    "parámetro headers.\n",
    "\n",
    "Por ejemplo, en el ejemplo anterior no especificamos la cabecera content-type:\n",
    "\n",
    "    import json\n",
    "    url = '...'\n",
    "    payload = {'some': 'data'}\n",
    "    headers = {'content-type': 'application/json'}\n",
    "    r = requests.post(url, data=json.dumps(payload), headers=headers)"
   ]
  },
  {
   "cell_type": "markdown",
   "metadata": {
    "slideshow": {
     "slide_type": "slide"
    }
   },
   "source": [
    "### Peticiones POST más complicadas\n",
    "\n",
    "Típicamente, quieres enviar información en forma de formulario, como un\n",
    "formulario HTML. Para hacerlo, pasa un diccionario al parámetro `data`. Este\n",
    "diccionario será codificado automáticamente como formulario al momento de\n",
    "realizar la petición:\n",
    "\n",
    ">>> payload = {'key1': 'value1', 'key2': 'value2'}\n",
    ">>> r = requests.post(\"http://httpbin.org/post\", data=payload)\n",
    ">>> print r.text\n",
    "{\n",
    "  ...\n",
    "  \"form\": {\n",
    "    \"key2\": \"value2\",\n",
    "    \"key1\": \"value1\"\n",
    "  },\n",
    "  ...\n",
    "}"
   ]
  },
  {
   "cell_type": "markdown",
   "metadata": {
    "slideshow": {
     "slide_type": "slide"
    }
   },
   "source": [
    "### Cabeceras de respuesta\n",
    "\n",
    "Podemos ver las cabeceras de respuesta del servidor utilizando un diccionario:\n",
    "\n",
    ">>> r.headers\n",
    "{\n",
    "    'status': '200 OK',\n",
    "    'content-encoding': 'gzip',\n",
    "    'transfer-encoding': 'chunked',\n",
    "    'connection': 'close',\n",
    "    'server': 'nginx/1.0.4',\n",
    "    'x-runtime': '148ms',\n",
    "    'etag': '\"e1ca502697e5c9317743dc078f67693f\"',\n",
    "    'content-type': 'application/json; charset=utf-8'\n",
    "}\n",
    "\n",
    "Este diccionario es especial: está hecho únicamente para las cabeceras HTTP. De\n",
    "acuerdo con el RFC 7230 , los nombres de las cabeceras HTTP no hacen distinción\n",
    "entre mayúsculas y minúsculas.\n",
    "\n",
    "Así que podemos acceder a las cabeceras utilizando letras mayúsculas o minúsculas:\n",
    "\n",
    ">>> r.headers['Content-Type']\n",
    "'application/json; charset=utf-8'\n",
    "\n",
    ">>> r.headers.get('content-type')"
   ]
  },
  {
   "cell_type": "markdown",
   "metadata": {
    "slideshow": {
     "slide_type": "slide"
    }
   },
   "source": [
    "### Cookies\n",
    "\n",
    "Si una respuesta contiene Cookies, puedes acceder a ellas rápidamente:\n",
    "\n",
    ">>> url = 'http://example.com/some/cookie/setting/url'\n",
    ">>> r = requests.get(url)\n",
    "\n",
    ">>> r.cookies['example_cookie_name']\n",
    "'example_cookie_value'\n",
    "\n",
    "Para enviar tus propias cookies al servidor, puedes utilizar el parámetro cookies:\n",
    "\n",
    ">>> url = 'http://httpbin.org/cookies'\n",
    ">>> cookies = dict(cookies_are='working')\n",
    "\n",
    ">>> r = requests.get(url, cookies=cookies)\n",
    ">>> r.text\n",
    "'{\"cookies\": {\"cookies_are\": \"working\"}}'"
   ]
  },
  {
   "cell_type": "markdown",
   "metadata": {
    "slideshow": {
     "slide_type": "slide"
    }
   },
   "source": [
    "### Historial y Redireccionamiento\n",
    "\n",
    "Requests realizará redireccionamiento para peticiones para todos los verbos,\n",
    "excepto `HEAD`."
   ]
  },
  {
   "cell_type": "markdown",
   "metadata": {
    "slideshow": {
     "slide_type": "slide"
    }
   },
   "source": [
    "GitHub redirecciona todas las peticiones `HTTP` hacia `HTTPS`. Podemos usar el\n",
    "método `history` de  la respuesta para rastrear las redirecciones. "
   ]
  },
  {
   "cell_type": "markdown",
   "metadata": {
    "slideshow": {
     "slide_type": "slide"
    }
   },
   "source": [
    "La lista `Response.history` contiene una lista de objetos tipo `Request` que fueron\n",
    "creados con el fín de completar la petición. La lista está ordenada desde la\n",
    "petición más antigua, hasta las más reciente."
   ]
  },
  {
   "cell_type": "markdown",
   "metadata": {
    "slideshow": {
     "slide_type": "slide"
    }
   },
   "source": [
    "Si estás utilizando GET u OPTIONS, puedes deshabilitar el redireccionamiento usando el parámetro allow_redirects:"
   ]
  },
  {
   "cell_type": "code",
   "execution_count": 36,
   "metadata": {
    "slideshow": {
     "slide_type": "slide"
    }
   },
   "outputs": [
    {
     "name": "stdout",
     "output_type": "stream",
     "text": [
      "200\n",
      "[<Response [301]>]\n"
     ]
    }
   ],
   "source": [
    "r = requests.get('http://github.com')\n",
    "print(r.status_code)\n",
    "print(r.history)"
   ]
  },
  {
   "cell_type": "markdown",
   "metadata": {
    "slideshow": {
     "slide_type": "slide"
    }
   },
   "source": [
    "Si estás utilizando HEAD, puedes habilitar el redireccionamento de la misma manera:"
   ]
  },
  {
   "cell_type": "code",
   "execution_count": 39,
   "metadata": {
    "slideshow": {
     "slide_type": "slide"
    }
   },
   "outputs": [
    {
     "name": "stdout",
     "output_type": "stream",
     "text": [
      "200 https://github.com/ [<Response [301]>]\n"
     ]
    }
   ],
   "source": [
    "r = requests.head('http://github.com', allow_redirects=True)\n",
    "print(r.status_code, r.url, r.history)"
   ]
  },
  {
   "cell_type": "markdown",
   "metadata": {
    "slideshow": {
     "slide_type": "slide"
    }
   },
   "source": [
    "**Ejercicio**: Arreglar el script para que realize la peticion HEAD pero con\n",
    "redireccionamiento"
   ]
  },
  {
   "cell_type": "markdown",
   "metadata": {
    "slideshow": {
     "slide_type": "slide"
    }
   },
   "source": [
    "Timeouts\n",
    "\n",
    "Con el parámetro timeout puedes indicarle a Requests que deje de esperar por una\n",
    "respuesta luego de un número determinado de segundos:\n",
    "\n",
    ">>> requests.get('http://github.com', timeout=0.001)\n",
    "Traceback (most recent call last):\n",
    "  File \"<stdin>\", line 1, in <module>\n",
    "requests.exceptions.Timeout: HTTPConnectionPool(host='github.com', port=80): Request timed out. (timeout=0.001)\n",
    "\n",
    "`timeout` indica el tiempo máximo que se espera por la respuesta. Si no se produce \n",
    "la respuesta dentro de ese periodo se elevará una excepcion."
   ]
  },
  {
   "cell_type": "code",
   "execution_count": 48,
   "metadata": {},
   "outputs": [
    {
     "name": "stdout",
     "output_type": "stream",
     "text": [
      "Error 301 al acceder a http://github.com/\n"
     ]
    }
   ],
   "source": [
    "import requests\n",
    "\n",
    "urls = [\n",
    "    'https://www.google.com/',\n",
    "    'http://github.com/',\n",
    "    'https://www.parcan.es/',\n",
    "]\n",
    "\n",
    "for url in urls:\n",
    "    r = requests.head(url)\n",
    "    if r.status_code != 200:\n",
    "        print(f\"Error {r.status_code} al acceder a {url}\")"
   ]
  },
  {
   "cell_type": "code",
   "execution_count": 51,
   "metadata": {},
   "outputs": [
    {
     "data": {
      "text/plain": [
       "200"
      ]
     },
     "execution_count": 51,
     "metadata": {},
     "output_type": "execute_result"
    }
   ],
   "source": [
    "ses = requests.Session()\n",
    "\n",
    "r = ses.get(\"http://google.co.uk\")\n",
    "r.status_code"
   ]
  },
  {
   "cell_type": "code",
   "execution_count": null,
   "metadata": {},
   "outputs": [],
   "source": []
  }
 ],
 "metadata": {
  "celltoolbar": "Slideshow",
  "kernelspec": {
   "display_name": "Python 3",
   "language": "python",
   "name": "python3"
  },
  "language_info": {
   "codemirror_mode": {
    "name": "ipython",
    "version": 3
   },
   "file_extension": ".py",
   "mimetype": "text/x-python",
   "name": "python",
   "nbconvert_exporter": "python",
   "pygments_lexer": "ipython3",
   "version": "3.6.9"
  }
 },
 "nbformat": 4,
 "nbformat_minor": 4
}
