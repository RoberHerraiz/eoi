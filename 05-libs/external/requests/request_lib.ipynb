{
 "cells": [
  {
   "cell_type": "markdown",
   "metadata": {},
   "source": [
    "# Librería request"
   ]
  },
  {
   "cell_type": "markdown",
   "metadata": {},
   "source": [
    "#### Request es una librería para HTTP escrita en Python, para seres humanos"
   ]
  },
  {
   "cell_type": "markdown",
   "metadata": {},
   "source": [
    "Se puede abrir un servidor http \"Build-in\" en Python usando:"
   ]
  },
  {
   "cell_type": "code",
   "execution_count": 1,
   "metadata": {},
   "outputs": [],
   "source": [
    "# python3 -m http.server"
   ]
  },
  {
   "cell_type": "code",
   "execution_count": null,
   "metadata": {},
   "outputs": [],
   "source": [
    "!pip3 install requests"
   ]
  },
  {
   "cell_type": "code",
   "execution_count": 3,
   "metadata": {},
   "outputs": [],
   "source": [
    "import requests"
   ]
  },
  {
   "cell_type": "markdown",
   "metadata": {},
   "source": [
    "r = requests.get('http://localhost:8000')\n",
    "print(r.status_code)\n",
    "for nm in r.headers:\n",
    "    print(nm, ':', r.headers[nm])\n",
    "\n",
    "print(r.encoding)\n",
    "print(r.text)\n",
    "#print(r.json())"
   ]
  },
  {
   "cell_type": "code",
   "execution_count": 9,
   "metadata": {},
   "outputs": [
    {
     "data": {
      "text/plain": [
       "200"
      ]
     },
     "execution_count": 9,
     "metadata": {},
     "output_type": "execute_result"
    }
   ],
   "source": [
    "r = requests.get('http://api.github.com/events')\n"
   ]
  },
  {
   "cell_type": "code",
   "execution_count": 13,
   "metadata": {},
   "outputs": [
    {
     "data": {
      "text/plain": [
       "{'id': '12115032817',\n",
       " 'type': 'PublicEvent',\n",
       " 'actor': {'id': 2602605,\n",
       "  'login': 'foxxyz',\n",
       "  'display_login': 'foxxyz',\n",
       "  'gravatar_id': '',\n",
       "  'url': 'https://api.github.com/users/foxxyz',\n",
       "  'avatar_url': 'https://avatars.githubusercontent.com/u/2602605?'},\n",
       " 'repo': {'id': 257160566,\n",
       "  'name': 'foxxyz/soundkit',\n",
       "  'url': 'https://api.github.com/repos/foxxyz/soundkit'},\n",
       " 'payload': {},\n",
       " 'public': True,\n",
       " 'created_at': '2020-04-21T18:22:07Z'}"
      ]
     },
     "execution_count": 13,
     "metadata": {},
     "output_type": "execute_result"
    }
   ],
   "source": [
    "data = r.json()\n",
    "data[0]"
   ]
  },
  {
   "cell_type": "code",
   "execution_count": 45,
   "metadata": {},
   "outputs": [
    {
     "name": "stdout",
     "output_type": "stream",
     "text": [
      " La web https://www.google.com/ funciona correctamente\n",
      " La web https://github.com/ funciona correctamente\n",
      " La web https://www.parcan.es/ funciona correctamente\n",
      " La web http://github.com/ funciona correctamente\n"
     ]
    }
   ],
   "source": [
    "import requests\n",
    "\n",
    "urls = [\n",
    "    'https://www.google.com/',\n",
    "    'https://github.com/',\n",
    "    'https://www.parcan.es/',\n",
    "    'http://github.com/'\n",
    "]\n",
    "\n",
    "for url in urls:\n",
    "    r = requests.get(url) #get sigue por defecto y #head no sigue la redirección\n",
    "    if r.status_code == 200:\n",
    "        print(f' La web {url} funciona correctamente')\n",
    "    else:\n",
    "        print(f' La web {url} ha dado un error: {r.status_code}. History: {r.history}')        "
   ]
  },
  {
   "cell_type": "code",
   "execution_count": 44,
   "metadata": {},
   "outputs": [],
   "source": [
    "import requests\n",
    "\n",
    "urls = [\n",
    "    'https://www.google.com',\n",
    "    'http://www.github.com',\n",
    "    'https://www.parcan.es',\n",
    "]\n",
    "\n",
    "for url in urls:\n",
    "    r = requests.head(url, allow_redirects = True)\n",
    "    if r.status_code != 200:\n",
    "        print(f\"Error {r.status_code} al acceder a {url}\")"
   ]
  },
  {
   "cell_type": "code",
   "execution_count": 47,
   "metadata": {},
   "outputs": [
    {
     "data": {
      "text/plain": [
       "200"
      ]
     },
     "execution_count": 47,
     "metadata": {},
     "output_type": "execute_result"
    }
   ],
   "source": [
    "ses = requests.Session()\n",
    "\n",
    "r = ses.get('http://google.co.uk')\n",
    "r.status_code"
   ]
  },
  {
   "cell_type": "code",
   "execution_count": null,
   "metadata": {},
   "outputs": [],
   "source": []
  }
 ],
 "metadata": {
  "kernelspec": {
   "display_name": "Python 3",
   "language": "python",
   "name": "python3"
  },
  "language_info": {
   "codemirror_mode": {
    "name": "ipython",
    "version": 3
   },
   "file_extension": ".py",
   "mimetype": "text/x-python",
   "name": "python",
   "nbconvert_exporter": "python",
   "pygments_lexer": "ipython3",
   "version": "3.8.0"
  }
 },
 "nbformat": 4,
 "nbformat_minor": 4
}
