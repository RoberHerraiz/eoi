{
 "cells": [
  {
   "cell_type": "markdown",
   "metadata": {},
   "source": [
    "# JSON"
   ]
  },
  {
   "cell_type": "markdown",
   "metadata": {},
   "source": [
    "Es interna, no externa."
   ]
  },
  {
   "cell_type": "code",
   "execution_count": 7,
   "metadata": {},
   "outputs": [
    {
     "name": "stdout",
     "output_type": "stream",
     "text": [
      "{'username': 'fmiller', 'dob': '1988-02-26', 'active': True}\n",
      "fmiller\n",
      "1988-02-26\n",
      "True\n",
      "<class 'bool'>\n"
     ]
    }
   ],
   "source": [
    "import json\n",
    "\n",
    "user_json = '''{\"username\": \"fmiller\", \"dob\": \"1988-02-26\", \"active\": true}'''\n",
    "user = json.loads(user_json) # coge una cadena de texto y nos devuelve un diccionario, estamos DESERIALIZANDO\n",
    "\n",
    "print(user)\n",
    "print(user[\"username\"])\n",
    "print(user[\"dob\"])\n",
    "print(user[\"active\"])\n",
    "\n",
    "print(type(user[\"active\"])) # el true no es una string, es un booleano"
   ]
  },
  {
   "cell_type": "code",
   "execution_count": 12,
   "metadata": {},
   "outputs": [
    {
     "name": "stdout",
     "output_type": "stream",
     "text": [
      "{\"name\": \"Bob\", \"age\": 44, \"isEmployed\": true} <class 'str'>\n"
     ]
    }
   ],
   "source": [
    "import json \n",
    "\n",
    "d = {'name':'Bob', 'age':44, 'isEmployed':True}\n",
    "s = json.dumps(d) # de un diccionario devuelve un json, estamos SERIALIZANDO\n",
    "\n",
    "print(s, type(s))\n",
    "\n",
    "# con esto podemos acceder a un JSON, modificarlo en formato diccionario y luego serializar a JSON"
   ]
  },
  {
   "cell_type": "markdown",
   "metadata": {},
   "source": [
    "Una limitación de JSON es que no tiene representación oficial para las fechas. Se suele codificar usando ISO 8601"
   ]
  },
  {
   "cell_type": "markdown",
   "metadata": {},
   "source": [
    "Ejercicio: Intentar serializar un objeto datetime.datetime"
   ]
  },
  {
   "cell_type": "code",
   "execution_count": 2,
   "metadata": {},
   "outputs": [
    {
     "data": {
      "text/plain": [
       "'\"2020-04-22T16:00:36.976046+00:00\"'"
      ]
     },
     "execution_count": 2,
     "metadata": {},
     "output_type": "execute_result"
    }
   ],
   "source": [
    "import json\n",
    "import arrow\n",
    "\n",
    "hoy = arrow.utcnow()\n",
    "\n",
    "json.dumps(hoy.for_json())"
   ]
  },
  {
   "cell_type": "code",
   "execution_count": 3,
   "metadata": {},
   "outputs": [],
   "source": [
    "import json, arrow\n",
    "\n",
    "class SuperJSONEncoder(json.JSONEncoder):\n",
    "\n",
    "    def default(self, obj):\n",
    "        if isinstance(obj, arrow.Arrow):\n",
    "            return obj.for_json()\n",
    "        return super().default(obj)\n",
    "\n",
    "def as_json(obj):\n",
    "    return json.dumps(obj, cls=SuperJSONEncoder, indent=4)"
   ]
  },
  {
   "cell_type": "code",
   "execution_count": 5,
   "metadata": {},
   "outputs": [
    {
     "data": {
      "text/plain": [
       "'{\\n    \"name\": \"John\",\\n    \"birthday\": \"1988-05-15T00:00:00+00:00\"\\n}'"
      ]
     },
     "execution_count": 5,
     "metadata": {},
     "output_type": "execute_result"
    }
   ],
   "source": [
    "data = {'name': 'John', 'birthday': arrow.get(1988, 5, 15)}\n",
    "as_json(data)"
   ]
  },
  {
   "cell_type": "code",
   "execution_count": 8,
   "metadata": {},
   "outputs": [],
   "source": [
    "class Card:\n",
    "\n",
    "    SUITS = {'T': 'trébol', 'D': 'diamantes', 'C': 'corazones', 'P': 'picas'}\n",
    "\n",
    "    VALUES = {\n",
    "        'A': 'as',\n",
    "        '2': 'dos',\n",
    "        '3': 'tres',\n",
    "        '4': 'cuatro',\n",
    "        '5': 'cinco',\n",
    "        '6': 'seis',\n",
    "        '7': 'siete',\n",
    "        '8': 'ocho',\n",
    "        '9': 'nueve',\n",
    "        '10': 'diez',\n",
    "        'J': 'jota',\n",
    "        'Q': 'reina',\n",
    "        'K': 'rey',\n",
    "    }\n",
    "\n",
    "    def __init__(self, code):\n",
    "        self.suit = code[0]\n",
    "        self.value = code[1:]\n",
    "\n",
    "    def suit_name(self):\n",
    "        return self.SUITS[self.suit]\n",
    "\n",
    "    def value_name(self):\n",
    "        return self.VALUES[self.value]\n",
    "\n",
    "    def __str__(self):\n",
    "        return f\"{self.value_name()} de {self.suit_name()}\""
   ]
  },
  {
   "cell_type": "code",
   "execution_count": 9,
   "metadata": {},
   "outputs": [
    {
     "name": "stdout",
     "output_type": "stream",
     "text": [
      "dos de diamantes\n"
     ]
    }
   ],
   "source": [
    "carta = Card(\"D2\")\n",
    "print(carta)"
   ]
  },
  {
   "cell_type": "code",
   "execution_count": 15,
   "metadata": {},
   "outputs": [],
   "source": [
    "import requests\n",
    "\n",
    "username = \"Roberto\"\n",
    "\n",
    "url = f\"https://avatars.dicebear.com/v2/bottts/{username}.svg\"\n",
    "r = requests.get(url)\n",
    "r.request.for_son\n",
    "\n",
    "with open('roberto.svg', 'w') as f:\n",
    "    f.write(r.text)"
   ]
  },
  {
   "cell_type": "code",
   "execution_count": 61,
   "metadata": {},
   "outputs": [
    {
     "name": "stdout",
     "output_type": "stream",
     "text": [
      "Bakerloo - tube - 0\n",
      "Central - tube - 0\n",
      "DLR - dlr - 0\n",
      "Jubilee - tube - 0\n",
      "Victoria - tube - 0\n"
     ]
    }
   ],
   "source": [
    "import requests\n",
    "import json\n",
    "r = requests.get('https://api.tfl.gov.uk/Line/bakerloo%2Cvictoria%2Ccentral%2Cjubilee%2Cdlr')\n",
    "data = r.json()\n",
    "for line in data:\n",
    "    n = len(line['disruptions'])\n",
    "    print(line['name'], line['modeName'], n, sep=\" - \")"
   ]
  },
  {
   "cell_type": "markdown",
   "metadata": {},
   "source": [
    "##### Api's públicas: https://github.com/public-apis/public-apis#books"
   ]
  },
  {
   "cell_type": "code",
   "execution_count": null,
   "metadata": {},
   "outputs": [],
   "source": []
  }
 ],
 "metadata": {
  "kernelspec": {
   "display_name": "Python 3",
   "language": "python",
   "name": "python3"
  },
  "language_info": {
   "codemirror_mode": {
    "name": "ipython",
    "version": 3
   },
   "file_extension": ".py",
   "mimetype": "text/x-python",
   "name": "python",
   "nbconvert_exporter": "python",
   "pygments_lexer": "ipython3",
   "version": "3.8.0"
  }
 },
 "nbformat": 4,
 "nbformat_minor": 4
}
