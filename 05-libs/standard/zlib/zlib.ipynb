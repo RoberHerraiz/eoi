{
 "cells": [
  {
   "cell_type": "markdown",
   "metadata": {
    "slideshow": {
     "slide_type": "slide"
    }
   },
   "source": [
    "# La librería zlib"
   ]
  },
  {
   "cell_type": "markdown",
   "metadata": {
    "slideshow": {
     "slide_type": "slide"
    }
   },
   "source": [
    "Aunque la capadidad de almacenamiento en los ordenadores sigue incrementándose, también\n",
    "lo hace la cantidad de detos que queremos almacenar. Para solucionar esto se inventaron\n",
    "hace tiempo varios __algoritmos de compresión__, que nos permiten almacenar\n",
    "la misma cantidad de información en menos espacio, teniendo que usar, eso si,un poco\n",
    "más de tiempo para acceder o modificar la informacion."
   ]
  },
  {
   "cell_type": "markdown",
   "metadata": {
    "slideshow": {
     "slide_type": "slide"
    }
   },
   "source": [
    "En python, Los módulos `zlib` y `gzip` nos permiten acceder a estos dos algoritmos de compresión\n",
    "clásicos, mientras que el modulo `bzip2` usa un formato y algoritmo algo mås reciente.\n",
    "\n",
    "Siempre trabajamos con un flujo de *bytes*, es decir, que podemos comprimir información en cualquier formato que nos interese, porque los algoritmos no se preocupan por el formato, solo \"ven\" secuencias de bytes."
   ]
  },
  {
   "cell_type": "markdown",
   "metadata": {
    "slideshow": {
     "slide_type": "slide"
    }
   },
   "source": [
    "Los tres módulos incluyen también funciones para trabajar, de forma transpareente, con ficheros\n",
    "comprimidos.\n",
    "\n",
    "Ademas de las funciones de compresión, habitualmente se usa también el\n",
    "concepto de __archivado__, esto es, incluir varios archivos dentro de otro, normalmente\n",
    "para copias de seguridad o  trasmision. "
   ]
  },
  {
   "cell_type": "markdown",
   "metadata": {
    "slideshow": {
     "slide_type": "slide"
    }
   },
   "source": [
    "Estos dos conceptos, compresión y archivado no son lo mismo."
   ]
  },
  {
   "cell_type": "markdown",
   "metadata": {
    "slideshow": {
     "slide_type": "fragment"
    }
   },
   "source": [
    "- puedes tener un fichero comprimido, sin archivado (es decir, que solo\n",
    "esta comprimido un unico fichero)"
   ]
  },
  {
   "cell_type": "markdown",
   "metadata": {
    "slideshow": {
     "slide_type": "fragment"
    }
   },
   "source": [
    "- O se puede tener un archivador sin usar compresión."
   ]
  },
  {
   "cell_type": "markdown",
   "metadata": {
    "slideshow": {
     "slide_type": "fragment"
    }
   },
   "source": [
    "- Pero normalmente estas dos funcionalidades suelen ir juntas."
   ]
  },
  {
   "cell_type": "markdown",
   "metadata": {
    "slideshow": {
     "slide_type": "slide"
    }
   },
   "source": [
    "Nota: En la librería estándar hay módulos para trabajar con otros formatos\n",
    "de compresión/archivado, como `tarfile` para trabajar con ficheros *.tar*, usados\n",
    "frecuentemente en sistemas tipo Unix, o `zipfile`\n",
    "para manipular archivos *.zip*, un formato muy popular en los entornos Windows\n",
    "desde los tiempos del MS/DOS (Ambos sistemas pueden encontrarse ya en cualquier entorno,\n",
    "no obstante). En este curso no veremos estos módulos, pero\n",
    "es importante que sepan que están ahí, en caso de que los necesiten.\n"
   ]
  },
  {
   "cell_type": "markdown",
   "metadata": {
    "slideshow": {
     "slide_type": "slide"
    }
   },
   "source": [
    "## El módulo zlib"
   ]
  },
  {
   "cell_type": "markdown",
   "metadata": {
    "slideshow": {
     "slide_type": "slide"
    }
   },
   "source": [
    "Como siempre, para poder usarlo tenemos que importarlo:"
   ]
  },
  {
   "cell_type": "code",
   "execution_count": 1,
   "metadata": {
    "slideshow": {
     "slide_type": "fragment"
    }
   },
   "outputs": [],
   "source": [
    "import zlib"
   ]
  },
  {
   "cell_type": "markdown",
   "metadata": {
    "slideshow": {
     "slide_type": "slide"
    }
   },
   "source": [
    "Podemos comprimir y descomprimir directamente contenidos en memoria. En el caso\n",
    "de `zlib`, usamos los métodos __`compress`__ y __`decompress`__. Vamos a verlo ejecutando\n",
    "el siguiente ejemplo."
   ]
  },
  {
   "cell_type": "code",
   "execution_count": 3,
   "metadata": {
    "slideshow": {
     "slide_type": "slide"
    }
   },
   "outputs": [
    {
     "name": "stdout",
     "output_type": "stream",
     "text": [
      "El mensaje original ocupa 178 bytes\n",
      "El mensaje comprimido ocupa 90 bytes\n"
     ]
    }
   ],
   "source": [
    "import zlib\n",
    "\n",
    "message = \"\"\"\n",
    "Hola, me llamo Íñigo Montoya. Tu mataste a mi padre. Preparate a morir aaaaaaaaaaaaaaaaaaaaaaaaaaaaaaaaaaaa\n",
    "aaaaaaaaaaaaaaaaaaaaaaaabbbbbbbbbbbbbbbbbbbbbbbbbbbbb ccccccccccccc\"\"\".encode(\"utf-8\")\n",
    "print(f\"El mensaje original ocupa {len(message)} bytes\")\n",
    "compressed = zlib.compress(message)\n",
    "print(f\"El mensaje comprimido ocupa {len(compressed)} bytes\")"
   ]
  },
  {
   "cell_type": "markdown",
   "metadata": {
    "slideshow": {
     "slide_type": "slide"
    }
   },
   "source": [
    "Ejercicio: ¿Notan algo raro en el ejemplo anterior?"
   ]
  },
  {
   "cell_type": "markdown",
   "metadata": {},
   "source": [
    "![El mensaje comprimido ocupa más que el mensaje sin descomprimir](./img/emosido.jpg)"
   ]
  },
  {
   "cell_type": "markdown",
   "metadata": {},
   "source": [
    "Efectivamene ¡El mensaje comprimido ocupa más que el mensaje sin descomprimir! Justo\n",
    "lo contrario de lo que deberia pasar! Esto es por varias razones:\n",
    "\n",
    "- Los algoritmos de compresión trabajan mejor cuanto mas repeticiones de símbolos haya (trabajan\n",
    "    reduciendo la redundancia)\n",
    "\n",
    "- Cuanto más contenido, mejor compresión (Más probabilidad de encontrar redundacia)"
   ]
  },
  {
   "cell_type": "markdown",
   "metadata": {},
   "source": [
    "Vamos a ver que tal funciona con una supuesta secuencia de genes (Solo cuatro\n",
    "símbolos, `G`, `A`, `T` y `C`):"
   ]
  },
  {
   "cell_type": "code",
   "execution_count": 3,
   "metadata": {},
   "outputs": [
    {
     "name": "stdout",
     "output_type": "stream",
     "text": [
      "El mensaje original ocupa 72 bytes\n",
      "El mensaje comprimido ocupa 49 bytes\n"
     ]
    }
   ],
   "source": [
    "import zlib\n",
    "\n",
    "message = b\"GGAAATGGTAGGGCTAGATGCCCCTTAGCTCATGCGCTGCGCTCATCAAACCTAGGTTATTAGCACTAACAT\"\n",
    "print(f\"El mensaje original ocupa {len(message)} bytes\")\n",
    "compressed = zlib.compress(message)\n",
    "print(f\"El mensaje comprimido ocupa {len(compressed)} bytes\")"
   ]
  },
  {
   "cell_type": "markdown",
   "metadata": {
    "slideshow": {
     "slide_type": "slide"
    }
   },
   "source": [
    "### Ejercicio: Descomprimir un mensaje\n",
    "\n",
    "Hemos recibido el siguiente mensaje, comprimido con `zlib`:"
   ]
  },
  {
   "cell_type": "code",
   "execution_count": 4,
   "metadata": {
    "slideshow": {
     "slide_type": "fragment"
    }
   },
   "outputs": [],
   "source": [
    "message = b'x\\x9c\\xf3\\xc9WH\\xce\\xcf+NM/\\xcd,.IU\\x04\\x00,\\xcc\\x05\\xa6'"
   ]
  },
  {
   "cell_type": "markdown",
   "metadata": {
    "slideshow": {
     "slide_type": "fragment"
    }
   },
   "source": [
    "Usa la función `decompress` del modulo `zlib`."
   ]
  },
  {
   "cell_type": "code",
   "execution_count": 4,
   "metadata": {
    "slideshow": {
     "slide_type": "subslide"
    }
   },
   "outputs": [
    {
     "name": "stdout",
     "output_type": "stream",
     "text": [
      "b'Lo conseguiste!'\n"
     ]
    }
   ],
   "source": [
    "import zlib\n",
    "\n",
    "message = b'x\\x9c\\xf3\\xc9WH\\xce\\xcf+NM/\\xcd,.IU\\x04\\x00,\\xcc\\x05\\xa6'\n",
    "print(zlib.decompress(message))\n",
    "\n"
   ]
  },
  {
   "cell_type": "markdown",
   "metadata": {
    "slideshow": {
     "slide_type": "slide"
    }
   },
   "source": [
    "### Compresion/Decompresión incremental\n",
    "\n",
    "El problema de comprimir en memoria es que nos limita, porque\n",
    "necesitamos mantener a la vez los datos comprimidos\n",
    "y sin descomprimir."
   ]
  },
  {
   "cell_type": "markdown",
   "metadata": {
    "slideshow": {
     "slide_type": "slide"
    }
   },
   "source": [
    "Para solucionar esto tenemos las clases `Compress`\n",
    "y `Decompress`, que nos permiten trabajar con los datos de forma\n",
    "incremental y con datos demasiado grandes para caber en memoria. Podemos\n",
    "objener un objeto de la clase `Compress` llamando a la función\n",
    "`compressobj`."
   ]
  },
  {
   "cell_type": "markdown",
   "metadata": {
    "slideshow": {
     "slide_type": "slide"
    }
   },
   "source": [
    "Este ejemplo lee el contenido de un archivo de texto en pequeños\n",
    "trozos (de 64 bytes como máximo) y se los pasa al compresor. Como el\n",
    "algoritmo depende de cálculos realizados en bloques de tamaño fijo, puede\n",
    "que el compresor no esté listo para devolver la secuencia de salida\n",
    "comprimida, en ese caso devuelve una cadena vacia (de ahí el `if` después\n",
    "de la llamada a `compress`)"
   ]
  },
  {
   "cell_type": "markdown",
   "metadata": {
    "slideshow": {
     "slide_type": "slide"
    }
   },
   "source": [
    "Cuando ya se han enviado todos los datos, se llama al método `flush` para \n",
    "forzar al compresor a terminar con el ultimo bloque y deveolver el resto\n",
    "de los datos comprimidos."
   ]
  },
  {
   "cell_type": "code",
   "execution_count": 7,
   "metadata": {
    "slideshow": {
     "slide_type": "slide"
    }
   },
   "outputs": [
    {
     "name": "stdout",
     "output_type": "stream",
     "text": [
      "Comprimiento fichero lorem.txt: █░░░░░░░░░░░░░░░░░░░░░░░█░░░░░░░░░░░░░░░░░░░░░░░░█░░░░[OK]\n",
      "Fichero lorem.txt comprimido con tasa de compresion 52.55\n",
      "[Tam. original: 57060\n",
      "Tam. comprimido: 29987\n"
     ]
    }
   ],
   "source": [
    "import zlib\n",
    "\n",
    "compressor = zlib.compressobj(wbits=9)\n",
    "\n",
    "original_size = 0\n",
    "compressed_size = 0\n",
    "buffer = bytearray()\n",
    "filename = \"lorem.txt\"\n",
    "print(f\"Comprimiento fichero {filename}\", end=\": \")\n",
    "with open('lorem.txt', 'r') as input:\n",
    "    while True:\n",
    "        block = input.read(1024).encode('utf-8')\n",
    "        if not block:\n",
    "            break\n",
    "        original_size += len(block)\n",
    "        compressed = compressor.compress(block)\n",
    "        if compressed:\n",
    "            compressed_size += len(compressed)\n",
    "            buffer += compressed\n",
    "            print(\"█\", end=\"\")\n",
    "        else:\n",
    "            print(\"░\", end='')\n",
    "    remaining = compressor.flush()\n",
    "    compressed_size += len(remaining)\n",
    "    buffer += remaining\n",
    "print(\"[OK]\")\n",
    "\n",
    "p = round(compressed_size * 100.0 / original_size,2)\n",
    "print(f\"Fichero {filename} comprimido con tasa de compresion {p:.02f}\")\n",
    "print(\"[Tam. original:\", original_size)\n",
    "print(\"Tam. comprimido:\", compressed_size)"
   ]
  },
  {
   "cell_type": "markdown",
   "metadata": {
    "slideshow": {
     "slide_type": "slide"
    }
   },
   "source": [
    "Ejercicio 2: Descomprimir de memoria\n",
    "\n",
    "El contenido del fichero \"lorem.txt\" está ahora en memoria, si se ha ejecutado la calda\n",
    "anterior, en la variable `buffer`. descomprime el contenido y muestra las primeras\n",
    "3 líneas de texto. Puedes usar `decompress`.\n",
    "\n",
    "Recuerda que después de descomprimirlo siguen siendo *bytes*, asi que hay que\n",
    "decodificarlos para obtener texto. Se codifico originalmente con `utf-8`, asi\n",
    "que hay que usar el mismo esquema para decodificar."
   ]
  },
  {
   "cell_type": "code",
   "execution_count": 59,
   "metadata": {
    "slideshow": {
     "slide_type": "slide"
    }
   },
   "outputs": [
    {
     "name": "stdout",
     "output_type": "stream",
     "text": [
      "linea 0: \"1. Una reunión muy esperada\"\n",
      "linea 1: \"Cuando el señor Bilbo Bolsón de Bolsón Cerrado anunció que muy pronto celebraría su cumpleaños centésimo decimoprimero con una fiesta de especial magnificencia, hubo muchos comentarios y excitación en Hobbiton. Bilbo era muy rico y muy peculiar y había sido el asombro de la Comarca durante sesenta años, desde su memorable desaparición e inesperado regreso. Las riquezas que había traído de aquellos viajes se habían convertido en leyenda local y era creencia común, contra todo lo que pudieran decir los viejos, que en la colina de Bolsón Cerrado había muchos túneles atiborrados de tesoros. Como si esto no fuera suficiente para darle fama, el prolongado vigor del señor Bolsón era la maravilla de la Comarca. El tiempo pasaba, pero parecía afectarlo muy poco. A los noventa años tenía el mismo aspecto que a los cincuenta. A los noventa y nueve comenzaron a considerarlo «bien conservado», pero «sin cambios» hubiese estado más cerca de la verdad. Había muchos que movían la cabeza pensando que eran demasiadas cosas buenas; parecía injusto que alguien tuviese (en apariencia) una juventud eterna y a la vez (se suponía) bienes inagotables.\"\n",
      "linea 2: \"—Tendrá que pagar —decían—. ¡No es natural, y traerá problemas!\"\n"
     ]
    }
   ],
   "source": [
    "import zlib\n",
    "\n",
    "text = zlib.decompress(buffer).decode('utf-8')\n",
    "\n",
    "for i, line in enumerate(text.split(\"\\n\\n\")):\n",
    "    print(f\"linea {i}: \\\"{line}\\\"\")\n",
    "    if i == 2: \n",
    "        break"
   ]
  },
  {
   "cell_type": "code",
   "execution_count": 18,
   "metadata": {
    "slideshow": {
     "slide_type": "slide"
    }
   },
   "outputs": [
    {
     "name": "stdout",
     "output_type": "stream",
     "text": [
      "0 h\n",
      "1 o\n",
      "2 l\n",
      "3 a\n"
     ]
    },
    {
     "data": {
      "text/plain": [
       "[(0, 'p'), (1, 'e'), (2, 'p'), (3, 'e'), (4, 'p')]"
      ]
     },
     "execution_count": 18,
     "metadata": {},
     "output_type": "execute_result"
    }
   ],
   "source": [
    "l = ['h', 'o', 'l', 'a']\n",
    "\n",
    "for i, c in enumerate(l, start=0):\n",
    "    print(i, c)\n",
    "    \n",
    "list(enumerate(\"pepep\"))"
   ]
  },
  {
   "cell_type": "markdown",
   "metadata": {
    "slideshow": {
     "slide_type": "slide"
    }
   },
   "source": [
    "### Checksums\n",
    "\n",
    "Además de las funciones de compresión y descompresión, se incluyen en `zlib` dos funciones\n",
    "para calcular *checksums* de los datos, `adler32` y `crc32`. Ambas funciones estan pensadas\n",
    "para ser usadas unicamente para propositos de verificacion de datos, ya que no se consideran\n",
    "seguras desde el punto de vista criptográfico."
   ]
  },
  {
   "cell_type": "code",
   "execution_count": 61,
   "metadata": {
    "slideshow": {
     "slide_type": "slide"
    }
   },
   "outputs": [
    {
     "data": {
      "text/plain": [
       "(3465102946, 136868278)"
      ]
     },
     "execution_count": 61,
     "metadata": {},
     "output_type": "execute_result"
    }
   ],
   "source": [
    "zlib.crc32(buffer), zlib.adler32(buffer)"
   ]
  },
  {
   "cell_type": "code",
   "execution_count": 22,
   "metadata": {
    "scrolled": true
   },
   "outputs": [
    {
     "data": {
      "text/plain": [
       "(29987, 29988)"
      ]
     },
     "execution_count": 22,
     "metadata": {},
     "output_type": "execute_result"
    }
   ],
   "source": [
    "\n",
    "buffer2 = buffer + b'a'\n",
    "len(buffer), len(buffer2)"
   ]
  },
  {
   "cell_type": "code",
   "execution_count": 24,
   "metadata": {},
   "outputs": [
    {
     "data": {
      "text/plain": [
       "(1271215985, 3465102946)"
      ]
     },
     "execution_count": 24,
     "metadata": {},
     "output_type": "execute_result"
    }
   ],
   "source": [
    "zlib.crc32(buffer2), zlib.crc32(buffer)"
   ]
  }
 ],
 "metadata": {
  "celltoolbar": "Slideshow",
  "kernelspec": {
   "display_name": "Python 3",
   "language": "python",
   "name": "python3"
  },
  "language_info": {
   "codemirror_mode": {
    "name": "ipython",
    "version": 3
   },
   "file_extension": ".py",
   "mimetype": "text/x-python",
   "name": "python",
   "nbconvert_exporter": "python",
   "pygments_lexer": "ipython3",
   "version": "3.6.9"
  }
 },
 "nbformat": 4,
 "nbformat_minor": 4
}
