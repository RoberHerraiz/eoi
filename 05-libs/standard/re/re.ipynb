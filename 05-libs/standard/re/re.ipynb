{
 "cells": [
  {
   "cell_type": "markdown",
   "metadata": {
    "slideshow": {
     "slide_type": "slide"
    }
   },
   "source": [
    "### La librería re - Expresiones regulares\n",
    "\n",
    "La librería **`re`** permite trabajar con expresiones regulares."
   ]
  },
  {
   "cell_type": "markdown",
   "metadata": {
    "slideshow": {
     "slide_type": "slide"
    }
   },
   "source": [
    "Existen múltiples implementaciones de expresiones regulares, cada una compartiendo\n",
    "un nucleo comun pero con extensiones o modificaciones para añadir capacidades más\n",
    "avanzadas.\n",
    "\n",
    "La sintaxis usada en el módulo `re` de python se basa en la usada por\n",
    "el lenguaje Perl, con unas pocas mejoras especificas de Python."
   ]
  },
  {
   "cell_type": "markdown",
   "metadata": {
    "slideshow": {
     "slide_type": "slide"
    }
   },
   "source": [
    "Una expresión regular viene a definir un conjunto de cadenas de texto que\n",
    "cumplen un determinado patrón. Si una cadena de texto pertenece al conjunto de\n",
    "posibles cadenas definidas por la expresión, se dice que *casan* o que ha habido\n",
    "una coincidencia o *match*."
   ]
  },
  {
   "cell_type": "markdown",
   "metadata": {
    "slideshow": {
     "slide_type": "slide"
    }
   },
   "source": [
    "Las expresiones regulares se crean combinando expresiones regulares más\n",
    "pequeñas (o primitivas), y se especifican mediante una cadena de texto."
   ]
  },
  {
   "cell_type": "markdown",
   "metadata": {
    "slideshow": {
     "slide_type": "slide"
    }
   },
   "source": [
    "La cadena que define una expresión regular puede incluir caractereres\n",
    "__normales__ o __especiales__. "
   ]
  },
  {
   "cell_type": "markdown",
   "metadata": {
    "slideshow": {
     "slide_type": "slide"
    }
   },
   "source": [
    "Los caracteres normales solo casan consigo mismo. Por ejemplo, la expresión\n",
    "regular `a` solo casaría con una a."
   ]
  },
  {
   "cell_type": "markdown",
   "metadata": {
    "slideshow": {
     "slide_type": "slide"
    }
   },
   "source": [
    "Los especiales, como `|` o `.` tienen otros significados; o bien definen\n",
    "conjuntos de caracteres o modifican a las expresiones regulares adyacentes."
   ]
  },
  {
   "cell_type": "markdown",
   "metadata": {
    "slideshow": {
     "slide_type": "slide"
    }
   },
   "source": [
    "Antes de ver los caracteres especiales, veamos como usar las expresiones regulares. "
   ]
  },
  {
   "cell_type": "markdown",
   "metadata": {
    "slideshow": {
     "slide_type": "slide"
    }
   },
   "source": [
    "### Buscar patrones en un texto"
   ]
  },
  {
   "cell_type": "markdown",
   "metadata": {
    "slideshow": {
     "slide_type": "slide"
    }
   },
   "source": [
    "El uso más común de `re` es buscar un determinado patrón en un texto. Podemos usar la\n",
    "funcion `search` definida en `re`, que acepta dos parámetros: El primero es una cadena\n",
    "de texto que defina el patron a buscar, el segundo, el texto donde buscarlo."
   ]
  },
  {
   "cell_type": "markdown",
   "metadata": {
    "slideshow": {
     "slide_type": "slide"
    }
   },
   "source": [
    "El resultado de la función varía según si ha encontrado, o no, alguna ocurrencia del patrón\n",
    "en el texto. Si la encontró, se devuelve un objeto de tipo `Match` (que es un objeto\n",
    "que almacena la información de donde se ha encotrado). Si no lo encuentra, devuelve `None`."
   ]
  },
  {
   "cell_type": "markdown",
   "metadata": {
    "slideshow": {
     "slide_type": "slide"
    }
   },
   "source": [
    "Entra la información que podemos encontrar en este objeto `Match`, se incluye el texto\n",
    "que ha encontrado, la expresion regular usada y la localización, dentro del texto buscado, de\n",
    "esa coincidencia."
   ]
  },
  {
   "cell_type": "markdown",
   "metadata": {
    "slideshow": {
     "slide_type": "slide"
    }
   },
   "source": [
    "Veamos un ejemplo, usando como expresion regular `este`. Como en esta expresion solo hay caracteres\n",
    "normales, se interpreta como: \"Una 'e', seguida de una 's', seguida de una 't', seguida de una `e`\":"
   ]
  },
  {
   "cell_type": "code",
   "execution_count": 12,
   "metadata": {
    "slideshow": {
     "slide_type": "slide"
    }
   },
   "outputs": [
    {
     "name": "stdout",
     "output_type": "stream",
     "text": [
      "Encontrado.\n",
      "  - Entre las posiciones 20 y 22\n",
      "\n"
     ]
    }
   ],
   "source": [
    "import re\n",
    "\n",
    "pattern = r'el'\n",
    "text = 'Contiene este texto el patrón?'\n",
    "\n",
    "match = re.search(pattern, text)\n",
    "if match:\n",
    "    print(\"Encontrado.\")\n",
    "    print(\"  - Entre las posiciones\", match.start(), \"y\", match.end())\n",
    "    print()"
   ]
  },
  {
   "cell_type": "markdown",
   "metadata": {
    "slideshow": {
     "slide_type": "slide"
    }
   },
   "source": [
    "**Miniejercicio**: Modificar el código previo para que encuentr la palabra \"el\""
   ]
  },
  {
   "cell_type": "markdown",
   "metadata": {
    "slideshow": {
     "slide_type": "slide"
    }
   },
   "source": [
    "En principio, nada que no pudieramos hacer usando el método index` de las cadenas de texto. La potencia de las expresiones regulares viene de los caracteres especiales."
   ]
  },
  {
   "cell_type": "markdown",
   "metadata": {
    "slideshow": {
     "slide_type": "slide"
    }
   },
   "source": [
    "Algunos caracteres con significados especiales son:\n",
    "\n",
    "| Caracter | Casa con                                                        |\n",
    "|---------:|-----------------------------------------------------------------|\n",
    "| `.`      | Cualquier caracter                                              |\n",
    "| `^`      | El principio de una string                                      | \n",
    "| `$`      | El final de una string                                          |\n",
    "| `*`      | La expresión regular anterior, repetida 0 o más veces           |\n",
    "| `+`      | La expresión regular anterior, repetida 1 o más veces           |\n",
    "| `?`      | La expresión regular anterior, 0 o 1 vez                        |\n",
    "| `{n}`    | La expresión regular anterior, repetida n veces                 |\n",
    "| `{m,n}`  | La expresión regular anterior, repetida entre m y n veces       |\n",
    "| `\\`      | \"Escapa\" el significado del caracter a continuación             |\n",
    "| `|`      | Alernancia entre patrones: `A|B` casa con A o con B             |\n",
    "| `[...]`  | El conjunto de caracteres definido entre los corchetes          |"
   ]
  },
  {
   "cell_type": "markdown",
   "metadata": {
    "slideshow": {
     "slide_type": "slide"
    }
   },
   "source": [
    "### El caracter especial `.` \n",
    "\n",
    "El punto es un caracter especial, por lo que tiene un significado diferente de \"debe ser un punto\". \n",
    "En una expresion regular, el carcater `.` significa \"cualquier caracter\"/. Es un comodín, para caracteres.\n",
    "Ojo que solo _casa_ con un unico caracter. \n",
    "\n",
    "Por ejemplo, el patrón regular \"est.\" casaria con \"este\", \"esta\", \"estx\", \"est8\", \"est@\", pero __no__ con \"est\", porque espera un cuarto caracter, el que esa, pero no encuentra ninguno."
   ]
  },
  {
   "cell_type": "code",
   "execution_count": 14,
   "metadata": {
    "slideshow": {
     "slide_type": "slide"
    }
   },
   "outputs": [
    {
     "name": "stdout",
     "output_type": "stream",
     "text": [
      "Encontrado.\n",
      "  - Entre las posiciones 14 y 19\n",
      "  - 'teZto'\n"
     ]
    }
   ],
   "source": [
    "import re\n",
    "\n",
    "pattern = r'te.to'\n",
    "text = 'Contiene este teZto el patrón?'\n",
    "\n",
    "match = re.search(pattern, text)\n",
    "if match:\n",
    "    print(\"Encontrado.\")\n",
    "    print(f\"  - Entre las posiciones {match.start()} y {match.end()}\")\n",
    "    print(f\"  - '{match.group(0)}'\")"
   ]
  },
  {
   "cell_type": "markdown",
   "metadata": {
    "slideshow": {
     "slide_type": "slide"
    }
   },
   "source": [
    "**Miniejercicio**\n",
    "\n",
    "1) Cambiar el __texto__ del ejericio anterior por \"`Contiene este teZto el patrón?`\". Verificar que sigue encontradon el patrón.\n",
    "\n",
    "2) Cambiar el __texto__ por \"`Contiene este teZXto el patrón?`\". ¿Encuentra ahora el patrón? ¿POr qué?\n"
   ]
  },
  {
   "cell_type": "markdown",
   "metadata": {
    "slideshow": {
     "slide_type": "slide"
    }
   },
   "source": [
    "### El caracter especial `^`\n",
    "¶\n",
    "El caracter especial `^` se interpreta como \"Al principio del texto\". Sirve para buscar textos que empiezan por la expresion regular que venga despues. \n",
    "\n",
    "Por ejemplo, el patrón regular \"`^Carthago`\" solo casaría con un texto que *empiece* con la palabra `Carthago`."
   ]
  },
  {
   "cell_type": "markdown",
   "metadata": {
    "slideshow": {
     "slide_type": "slide"
    }
   },
   "source": [
    "**Pregunta**: Tiene sentido que el caracter especial `^` se use en una expresión regular en otro sitio que no sea al principio? ¿Por qué>"
   ]
  },
  {
   "cell_type": "markdown",
   "metadata": {
    "slideshow": {
     "slide_type": "slide"
    }
   },
   "source": [
    "### El caracter especial `$`\n",
    "\n",
    "Similar al anterior, este caracter especial se interpreta como \"Al final del texto\". Sirve para buscar textos que termina por la expresion regular que viene justo antes. \n",
    "\n",
    "Por ejemplo, el patrón regular \"`Delenda est$`\" solo casaría con un texto que __termine__ con las palabras `Delenda est`."
   ]
  },
  {
   "cell_type": "markdown",
   "metadata": {
    "slideshow": {
     "slide_type": "slide"
    }
   },
   "source": [
    "**Pregunta**: Tiene sentido que el caracter especial `$` se use en una expresión regular en otro sitio que no sea al final? ¿Por qué>"
   ]
  },
  {
   "cell_type": "markdown",
   "metadata": {
    "slideshow": {
     "slide_type": "slide"
    }
   },
   "source": [
    "### El caracter especial `*`\n",
    "\n",
    "El caracter especial `*` debe interpretarse como \"El patron anterior, repetido 0 o más veces\". Por ejemplo, el\n",
    "patron \"e*\" casaria con la cadena vacia (O apariciones del caracter `e`), con `e` (Una repetición del caracter 'e'), con `ee` (Dos repeticiones), `eee` (Tres repeticiones), etc."
   ]
  },
  {
   "cell_type": "markdown",
   "metadata": {
    "slideshow": {
     "slide_type": "slide"
    }
   },
   "source": [
    "Una combinacion muy habitual es el patrón `.*`. Esto se leeria como \"Cero o mas repeticiones de la expresion regular que esta justo antes, que en este caso es _cualquier caracter_\", o lo que el lo mismo, \"cualquier caracter, repetido 0 o mas veces\", o mas resumido aun: \"Todo\"."
   ]
  },
  {
   "cell_type": "markdown",
   "metadata": {
    "slideshow": {
     "slide_type": "slide"
    }
   },
   "source": [
    "Por ejemplo, la expresion regular \"`BEGIN .* END`\" sería: \"Todo lo que haya entre la palabra `BEGIN ` (en mayúsculas y con un espacio, ojo a eso) y \"` END`\". "
   ]
  },
  {
   "cell_type": "code",
   "execution_count": 17,
   "metadata": {
    "scrolled": true,
    "slideshow": {
     "slide_type": "slide"
    }
   },
   "outputs": [
    {
     "name": "stdout",
     "output_type": "stream",
     "text": [
      "Encontrado.\n",
      "  - Entre las posiciones 0 y 77\n",
      "  - 'BEGIN Cualquier xA589740  F&&*&*()70 cosa f mk f kdque pongamos aqui vale END'\n"
     ]
    }
   ],
   "source": [
    "import re\n",
    "\n",
    "pattern = r'BEGIN .* END'\n",
    "text = 'BEGIN Cualquier xA589740  F&&*&*()70 cosa f mk f kdque pongamos aqui vale END'\n",
    "\n",
    "match = re.search(pattern, text)\n",
    "if match:\n",
    "    print(\"Encontrado.\")\n",
    "    print(f\"  - Entre las posiciones {match.start()} y {match.end()}\")\n",
    "    print(f\"  - '{match.group(0)}'\")"
   ]
  },
  {
   "cell_type": "markdown",
   "metadata": {
    "slideshow": {
     "slide_type": "slide"
    }
   },
   "source": [
    "**Miniejercicio** Cambiar el texto entre BEGIN y END. Ver que cualquier cosa que ponemos vale"
   ]
  },
  {
   "cell_type": "markdown",
   "metadata": {
    "slideshow": {
     "slide_type": "slide"
    }
   },
   "source": [
    "### El caracter especial `+`\n",
    "\n",
    "Similar a `*`, el caracter especial `*` debe interpretarse como \"El patron anterior, repetido __1__ o más veces\". Por ejemplo, el\n",
    "patron \"e+\" __no__ casaria con la cadena vacia (O apariciones del caracter `e`, y requerimos al menos una), pero si casaria con `e` (Una repetición del caracter 'e'), con `ee` (Dos repeticiones), `eee` (Tres repeticiones), etc.\n",
    "\n",
    "Una combinacion muy habitual es el patrón `.+`. Esto se leeria como \"Una o mas repeticiones de la expresion regular que esta justo antes, que en este caso es _cualquier caracter_\", o lo que el lo mismo, \"cualquier caracter, repetido 1 o mas veces\", o mas resumido aun: \"Todo, menos la cadena vacia\".\n"
   ]
  },
  {
   "cell_type": "markdown",
   "metadata": {
    "slideshow": {
     "slide_type": "slide"
    }
   },
   "source": [
    "### El caracter especial `?`\n",
    "\n",
    "El caracter especial `?` debe interpretarse como \"El patron anterior, __0__ o __1__ vez\". Por ejemplo, el\n",
    "patron \"este?\" casaria con la cadena `est` y con `este`. Otra forma de leerlo es \"opcionalmente, puede venir el patron anterior\"."
   ]
  },
  {
   "cell_type": "markdown",
   "metadata": {
    "slideshow": {
     "slide_type": "slide"
    }
   },
   "source": [
    "### Los caracteres especiales `[` y `]`\n",
    "\n",
    "Estos caracteres se usan para definir un conjunto de caracteres, de forma que cualquiera de ellos\n",
    "se acepta como una ocurrencia. "
   ]
  },
  {
   "cell_type": "markdown",
   "metadata": {
    "slideshow": {
     "slide_type": "slide"
    }
   },
   "source": [
    "En un conjunto Los caracteres se pueden listar individualmente, como por\n",
    "ejemplo, `[abc]`, que casa con cualquiera de los caracteres `a`, `b` o `c`.\n",
    "\n",
    "Por ejemplo `[aeiuo]` es un patron que se interpretaria como\n",
    "\"cualquier vocal\". Otro uso muy frecuente sería `[0123456789]`, que se interpretarian como\n",
    "\"cualquier digito\"."
   ]
  },
  {
   "cell_type": "markdown",
   "metadata": {
    "slideshow": {
     "slide_type": "slide"
    }
   },
   "source": [
    "Se acepta tambien una forma abreviada que nos permite incluir un rango, usando el caracter `-`. Por ejemplo, el patrón anterior `[0123456789]` puede abreviarse como `[0-9]`. El patron `[0-9A-F]` casaria con\n",
    "cualquier digito y con las letras `A`, `B`, `C`, `D`, `E` y `F`. \n",
    "\n",
    "Los caracteres especiales pierden su significado\n",
    "dentro de los corchetes, por lo que no hace falta escaparlos."
   ]
  },
  {
   "cell_type": "markdown",
   "metadata": {
    "slideshow": {
     "slide_type": "slide"
    }
   },
   "source": [
    "Se puede definir el __complemento del conjunto__ incluyendo como primer\n",
    "caracter `^`. De esta forma, la expresión regular `[^59]` casa con\n",
    "cualquier caracter, excepto con los dígitos `5` y `9`."
   ]
  },
  {
   "cell_type": "markdown",
   "metadata": {
    "slideshow": {
     "slide_type": "slide"
    }
   },
   "source": [
    "### El caracter especial `|`\n",
    "\n",
    "Se usa en la forma `A|B`, donde A y B representan expresiones regulares, y se interpretan\n",
    "como una expresion regular que acepta cualquiera de las dos, es decir, que casara cun cualquier\n",
    "texto que case con A o con B. Es muy habitual su uso con los grupos, que vreremos más adelante.\n",
    "\n",
    "Se pueden encadenar, por ejemplo, el siguiente patron:\n",
    "\n",
    "    r\"este|ese|aquel\"\n",
    "    \n",
    "casaria con cualquier de estas palabras."
   ]
  },
  {
   "cell_type": "markdown",
   "metadata": {
    "slideshow": {
     "slide_type": "slide"
    }
   },
   "source": [
    "### Los caracteres especiales `{` y `}`\n",
    "\n",
    "Estos caracteres nos permite definir exactamnte el número de veces que se debe repetir la epxresion regular precedente, o definir un rango de repeticiones."
   ]
  },
  {
   "cell_type": "markdown",
   "metadata": {
    "slideshow": {
     "slide_type": "slide"
    }
   },
   "source": [
    "Por ejemplo, `[0-9]{4}` se leeria \"Cualquier dígito, repetido 4 veces\", o esa que \"3622\" casa, pero \"231\" no, porque le falta un digito.\n",
    "\n",
    "Si cambiaramos el patron a `[0-9]{3,4}` se leeria \"Cualquier dígito, repetido 3 o 4 veces\", o esa que \"3622\" casa, y \"231\" también (pero `75` no, le falta un digito)."
   ]
  },
  {
   "cell_type": "markdown",
   "metadata": {
    "slideshow": {
     "slide_type": "slide"
    }
   },
   "source": [
    "**Miniejercicio**: Modificar el patrón para que acepte 2, 3, o 4 dígitos. "
   ]
  },
  {
   "cell_type": "markdown",
   "metadata": {},
   "source": [
    "**Ejercicio**: Escribir el patron para encontrar posibles NIF: de 7 a 8 digitos seguidos de una letra muyuscula\n",
    "\n",
    "\n",
    "- \"43478329W\" Correcto\n",
    "- \"434783294W\"  Demasiados digitos\n",
    "- \"434783W\" Pocos digitos\n",
    "- \"43783294\"  Falta la letra\n",
    "- \"W33783294\"  Letra en lugar incorrecto"
   ]
  },
  {
   "cell_type": "markdown",
   "metadata": {
    "slideshow": {
     "slide_type": "slide"
    }
   },
   "source": [
    "### El caracter especial `\\`\n",
    "\n",
    "El propósito de este caracter especial es doble: Si precede a otro caracter\n",
    "especial, entonces reconvierte a dicho caracter de especial a normal (Se dice que\n",
    "*escapa* el significado del caracter). Esto permite buscar caracteres como `*` o\n",
    "`?` de forma literal."
   ]
  },
  {
   "cell_type": "markdown",
   "metadata": {
    "slideshow": {
     "slide_type": "slide"
    }
   },
   "source": [
    "Por ejemplo, la expresión r\"`Doctor Who\\?`\" busca exactamente el texto \"Doctor Who?\". Si no escapáramos la interrogación (Es decir, si se usara r\"`Doctor Who?`\"), se interpretaria como que la última `o` es opcional, y casaria, por ejemplo, con `Doctor Wh`, que no es lo que queremos."
   ]
  },
  {
   "cell_type": "markdown",
   "metadata": {
    "slideshow": {
     "slide_type": "slide"
    }
   },
   "source": [
    "El segundo uso es introducir una secuencia especial, que definiremos a continuación.\n",
    "\n",
    "**Importante**: Recordemos que Python también usa el caracter '\\' como su propia forma\n",
    "de escapar significados (por ejemplo `\\n` es la forma de representar un salto de línea). Asi\n",
    "que para incluir la barra invertida tendriamos que escribirla dos veces. Es por eso que\n",
    "siempre se recomiendo usar cadenas de texto \"_raw_\" (con una `r` antes de la primera comilla).\n",
    "\n",
    "**A recordar**: definir __siempre__ loas expresiones regulares usando cadenas crudas (*raw*)"
   ]
  },
  {
   "cell_type": "markdown",
   "metadata": {
    "slideshow": {
     "slide_type": "slide"
    }
   },
   "source": [
    "### Secuencias especiales\n",
    "\n",
    "Algunas de estas secuencias especiales accesible con `\\` son:\n",
    "\n",
    "- `\\b` coincide con una cadena vacia, pero solo al principio de una palabra\n",
    "\n",
    "- `\\B` coincide con una cadena vacia, pero solo si __no__ esta al principio de una palabra. Esto\n",
    "  significa qur r\"py\\B\" casará con \"python\", \"py3\", \"py2\", pero no con \"py\", \"py.\" o \"py!\". \n",
    "  `\\B` es el opuesto de `\\b`. Veremos esta pauta repetida en otras secuencias especiales.\n",
    "  "
   ]
  },
  {
   "cell_type": "markdown",
   "metadata": {
    "slideshow": {
     "slide_type": "slide"
    }
   },
   "source": [
    "  \n",
    "- `\\d`: casa con cualquier dígito. Equivalente a r\"[0-9]\"\n",
    "\n",
    "- `\\D`: casa con cualquier caracter que no sea un dígito. Equivale a r\"[^0-9]\""
   ]
  },
  {
   "cell_type": "markdown",
   "metadata": {
    "slideshow": {
     "slide_type": "slide"
    }
   },
   "source": [
    "  \n",
    "- `\\s`: Casa con espacios y equivalentes, como tabuladores, saltos de linea, etc.\n",
    "\n",
    "- `\\S`: Casa con cualquier cosa que no sean espacios. El opuesto de `\\s`"
   ]
  },
  {
   "cell_type": "markdown",
   "metadata": {
    "slideshow": {
     "slide_type": "slide"
    }
   },
   "source": [
    "- `\\w`: Caracteres que pueden ser partes de una palabra en cualquier lenguaje, asi\n",
    "  como los digitos del 0 al 9 y el caracter `_`. Equivale a r\"[a-zA-Z0-9_]\""
   ]
  },
  {
   "cell_type": "markdown",
   "metadata": {
    "slideshow": {
     "slide_type": "slide"
    }
   },
   "source": [
    "### Los caracteres especial `(` y `)` (Grupos)\n",
    "\n",
    "Sirven para indicar el principio y el fin de un grupo. No modifican la exptresion regular,\n",
    "en el sentido que esta sigue casadno exactamente con parentesis o sin ellos, pero sirven para que podamos\n",
    "recuperar, despues de una coincidencia o *match*, los contenidos de estos grupos."
   ]
  },
  {
   "cell_type": "markdown",
   "metadata": {
    "slideshow": {
     "slide_type": "slide"
    }
   },
   "source": [
    "Por ejemplo, supongamos que queremos buscar por indicadores de tareas al estilo de Jira, que se forman\n",
    "con la estructura: Código de proyecto seguido de guión y seguido del numero de tarea. Algunos indicadores validos podrian ser \"ALPH-1244\" o \"BE-123\". Supongamos para simplificar que los codigos de proyecto son siempre\n",
    "letras mayúsculas, el patrón que detecta estos códigos podría ser:\n",
    "\n",
    "    r\"[A-Z]+-\\d+\"\n",
    "    "
   ]
  },
  {
   "cell_type": "markdown",
   "metadata": {
    "slideshow": {
     "slide_type": "slide"
    }
   },
   "source": [
    "Comprobemos si funciona:"
   ]
  },
  {
   "cell_type": "code",
   "execution_count": 19,
   "metadata": {
    "slideshow": {
     "slide_type": "fragment"
    }
   },
   "outputs": [
    {
     "name": "stdout",
     "output_type": "stream",
     "text": [
      "Codigo ALPH-1244 es correcto\n",
      "Codigo BEMAC-123 es correcto\n",
      "Codigo MZGZ-1 es correcto\n",
      "Codigo COVID-12 es correcto\n"
     ]
    }
   ],
   "source": [
    "patron = r\"[A-Z]+-\\d+\"\n",
    "for codigo in [\"ALPH-1244\", \"BEMAC-123\", \"MZGZ-1\", \"COVID-12\"]:\n",
    "    if re.match(patron, codigo):\n",
    "        print(f\"Codigo {codigo} es correcto\")"
   ]
  },
  {
   "cell_type": "markdown",
   "metadata": {
    "slideshow": {
     "slide_type": "slide"
    }
   },
   "source": [
    "Ahora, si quisieramos acceder al numero de tarea, la forma mas fácil\n",
    "es usar losparentesis para crear los grupos que nos interesan. \n",
    "\n",
    "Para ello, cambiamos el patron de:\n",
    "\n",
    "    r\"[A-Z]+-\\d+\"\n",
    "    \n",
    "a:\n",
    "\n",
    "    r\"[A-Z]+-(\\d+)\"\n"
   ]
  },
  {
   "cell_type": "markdown",
   "metadata": {
    "slideshow": {
     "slide_type": "slide"
    }
   },
   "source": [
    "Ahora, el patron se comporta exactamente igual que antes, pero los objetos *match* \n",
    "resultantes de una coincidencia permiten acceder a los grupos definidos con el método \n",
    "`group`, indicando el numero de orden de definición del grupo, siendo elg grupo 1 el primer\n",
    "grupo definido.\n",
    "\n",
    "Tambien se puede usar el grupo 0, que esta definido siempre y consiste en la totalidad ddel\n",
    "texto que haya casado con el patrón. "
   ]
  },
  {
   "cell_type": "code",
   "execution_count": 27,
   "metadata": {
    "slideshow": {
     "slide_type": "slide"
    }
   },
   "outputs": [
    {
     "name": "stdout",
     "output_type": "stream",
     "text": [
      "ALPH-1244: Tarea número 1244 del proyecto ALPH\n",
      "BEMAC-123: Tarea número 123 del proyecto BEMAC\n",
      "MZGZ-1: Tarea número 1 del proyecto MZGZ\n",
      "COVID-12: Tarea número 12 del proyecto COVID\n"
     ]
    }
   ],
   "source": [
    "import re\n",
    "\n",
    "patron = r\"([A-Z]+)-(\\d+)\"\n",
    "for codigo in [\"ALPH-1244\", \"BEMAC-123\", \"MZGZ-1\", \"COVID-12\"]:\n",
    "    m = re.match(patron, codigo)\n",
    "    if m:\n",
    "        project = m.group(1)\n",
    "        task_number = int(m.group(2))\n",
    "        print(f\"{m.group(0)}: Tarea número {task_number} del proyecto {project}\")"
   ]
  },
  {
   "cell_type": "markdown",
   "metadata": {
    "slideshow": {
     "slide_type": "slide"
    }
   },
   "source": [
    "**Miniejercicio**: modifica el código anterior para añadir otro grupo, esta\n",
    "vez para capturar el código del proyecto. Incluirlo en el listado."
   ]
  },
  {
   "cell_type": "markdown",
   "metadata": {
    "slideshow": {
     "slide_type": "slide"
    }
   },
   "source": [
    "### Compilar las expresiones regulares\n",
    "\n",
    "Todas las funciones que hemos usado dentro del modulo `re`: `search`, `match` y `findall`, y que\n",
    "requieren como primer paramentro el texto de la expresion regular, pueden ser usadas de forma más \n",
    "eficiente si compilamos la expresion regular (especial,ente si se va a usar a menudo). El objeto resultante \n",
    "tiene metodos equivalentes, `search`, `match` y `findall`, pero ya no es necesario que le\n",
    "pasemos el texto de la expresion regular."
   ]
  },
  {
   "cell_type": "markdown",
   "metadata": {
    "slideshow": {
     "slide_type": "slide"
    }
   },
   "source": [
    "Para compilar una expresion regular, se usa la funcion `compile`.\n",
    "\n",
    "Vamos en el siguiente ejemplo como usar expresiones compiladas. Compararalo con el ejercicio anterior."
   ]
  },
  {
   "cell_type": "code",
   "execution_count": 29,
   "metadata": {
    "slideshow": {
     "slide_type": "slide"
    }
   },
   "outputs": [
    {
     "name": "stdout",
     "output_type": "stream",
     "text": [
      "ALPH-1244: Tarea número 1244 del proyecto ALPH\n",
      "BEMAC-123: Tarea número 123 del proyecto BEMAC\n",
      "MZGZ-1: Tarea número 1 del proyecto MZGZ\n"
     ]
    }
   ],
   "source": [
    "pat_jira = re.compile(r\"([A-Z]+)-([0-9]+)\")\n",
    "for codigo in [\"ALPH-1244\", \"BEMAC-123\", \"MZGZ-1\"]:\n",
    "    m = pat_jira.match(codigo)\n",
    "    if m:\n",
    "        project = m.group(1)\n",
    "        task_number = int(m.group(2))\n",
    "        print(f\"{m.group(0)}: Tarea número {task_number} del proyecto {project}\")"
   ]
  },
  {
   "cell_type": "markdown",
   "metadata": {
    "slideshow": {
     "slide_type": "slide"
    }
   },
   "source": [
    "![El uso de expresiones regulares es tremendamente potente y complejo, y\n",
    "hay varios libros dedicados al tema](../img/re_01.jpg)"
   ]
  },
  {
   "cell_type": "markdown",
   "metadata": {
    "slideshow": {
     "slide_type": "slide"
    }
   },
   "source": [
    "**Ejercicio**: Expresiones regulares para encontrar matrículas de coche.\n",
    "\n",
    "Escribir una expresión regular para detectar matrículas de coches\n",
    "españolas.\n",
    "\n",
    "Según el siguiente texto, que describen en el sistema de matriculación\n",
    "vigente actualmente en España:\n",
    "\n",
    "> El 18 de septiembre del año 2000 entró en vigor el nuevo sistema de\n",
    "> matriculación en españa, introduciendo matrículas que constan de cuatro\n",
    "> dígitos y tres letras consonantes, suprimiéndose las cinco vocales y las\n",
    "> letras Ñ, Q, CH y LL. \\[...\\] Si el vehículo es histórico, y se ha\n",
    "> matriculado con una placa de nuevo formato, aparece primero una letra H\n",
    "> en la placa.\n",
    "\n",
    "El siguiente código lista las matrículas encontradas en el texto:"
   ]
  },
  {
   "cell_type": "code",
   "execution_count": 30,
   "metadata": {
    "slideshow": {
     "slide_type": "slide"
    }
   },
   "outputs": [
    {
     "name": "stdout",
     "output_type": "stream",
     "text": [
      "0765-BBC\n",
      "9866-LPX\n"
     ]
    }
   ],
   "source": [
    "import re\n",
    "\n",
    "Texto = '''INSTRUIDO por accidente de circulación ocurrido a las 09:43\n",
    "entre la motocicleta HONDA 500, matrícula 0765-BBC  y la\n",
    "motocicleta HARLEY-DAVIDSON , matrícula 9866-LPX, en el punto\n",
    "kilométrico 3.5 de la carretera general del sur, término municipal de\n",
    "Arona, Tenerife, y bla, bla, bla...'''\n",
    "\n",
    "\n",
    "patron = r'H?[0-9]{4}-?[BCDFGHJKLMNPRSTVWXYZ]{3}'\n",
    "for matricula in re.findall(patron, Texto):\n",
    "    print(matricula)\n"
   ]
  },
  {
   "cell_type": "markdown",
   "metadata": {
    "slideshow": {
     "slide_type": "slide"
    }
   },
   "source": [
    "**Solución** \n",
    "\n",
    "El patrón usado es el siguiente:\n",
    "\n",
    "    H?\\[0-9\\]{4}-?\\[BCDFGHJKLMNPRSTVWXYZ\\]{3}\n",
    "    \n",
    "Es verdad qye Visto así puede asustar un poco, pero solo es cosa de verlo por\n",
    "por partes:\n",
    "\n",
    "- `H?` : Una `H`. Pero como la sigue una interrogación, es opcional.\n",
    "    Recuerdese que `?` se interpreta como la expresión regular anterior\n",
    "    (en este caso la H), 0 o 1 vez.\n",
    "\n",
    "- `[0-9]{4}` : El conjunto de los caracteres del `0` al `9` (`[0-9]`), o\n",
    "    lo que es lo mismo, cualquier dígito, repetido 4 veces (`{4}`), es\n",
    "    decir, un número de cuatro dígitos.\n",
    "\n",
    "-  `-?` : Un guión, opcional, igual que la H para vehículos históricos\n",
    "    del principio\n",
    "\n",
    "-   `[BCDFGHJKLMNPRSTVWXYZ]`{3} : Cualquiera de los caracteres del\n",
    "    conjunto indicado (letras consonantes excepto la Ñ, Q, CH y LL)\n",
    "    repetido 3 veces."
   ]
  },
  {
   "cell_type": "markdown",
   "metadata": {},
   "source": [
    "¿Qué hace el siguiente programa?"
   ]
  },
  {
   "cell_type": "code",
   "execution_count": 31,
   "metadata": {},
   "outputs": [
    {
     "name": "stdout",
     "output_type": "stream",
     "text": [
      "collections.ipynb\n",
      "compression.ipynb\n",
      "argparse.ipynb\n",
      "csv.ipynb\n"
     ]
    }
   ],
   "source": [
    "import os\n",
    "import re\n",
    "\n",
    "pat_notebook = re.compile(\"^[ac].*\\.ipynb$\")\n",
    "for fn in os.listdir():\n",
    "    if pat_notebook.search(fn):\n",
    "        print(fn)\n",
    "    "
   ]
  },
  {
   "cell_type": "code",
   "execution_count": null,
   "metadata": {},
   "outputs": [],
   "source": []
  }
 ],
 "metadata": {
  "celltoolbar": "Slideshow",
  "kernelspec": {
   "display_name": "Python 3",
   "language": "python",
   "name": "python3"
  },
  "language_info": {
   "codemirror_mode": {
    "name": "ipython",
    "version": 3
   },
   "file_extension": ".py",
   "mimetype": "text/x-python",
   "name": "python",
   "nbconvert_exporter": "python",
   "pygments_lexer": "ipython3",
   "version": "3.6.9"
  }
 },
 "nbformat": 4,
 "nbformat_minor": 4
}
