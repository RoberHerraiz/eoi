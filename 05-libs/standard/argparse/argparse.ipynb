{
 "cells": [
  {
   "cell_type": "markdown",
   "metadata": {
    "slideshow": {
     "slide_type": "slide"
    }
   },
   "source": [
    "## La librería argparse"
   ]
  },
  {
   "cell_type": "markdown",
   "metadata": {
    "slideshow": {
     "slide_type": "slide"
    }
   },
   "source": [
    "El módulo **argparse** es la librería oficialmente recomendada para\n",
    "interpretar los parámetros pasados por linea de comandos.\n",
    "\n",
    "Existen otros dos módulos en la librería estándar que tienen el mismo\n",
    "objetivo, una es __getopt__, una versión equivalente a la\n",
    "función `getopt()` del lenguaje C, y otra la librería ya\n",
    "discontinuada __optparse__."
   ]
  },
  {
   "cell_type": "markdown",
   "metadata": {
    "slideshow": {
     "slide_type": "slide"
    }
   },
   "source": [
    "### Conceptos\n",
    "\n",
    "Unos cuantos conceptos sobre el uso de opciones en entornos de línea de\n",
    "comandos."
   ]
  },
  {
   "cell_type": "markdown",
   "metadata": {
    "slideshow": {
     "slide_type": "slide"
    }
   },
   "source": [
    "-   normalmente nos interesa que las opciones tengan unos **valores por\n",
    "    defecto** razonables y que hagan el programa útil incluso sin ningún\n",
    "    parámetro. Por ejemplo la orden [ls]{.title-ref} sin ningún\n",
    "    parametro muestra un listado de los ficheros en el directorio\n",
    "    actual.\n",
    "  "
   ]
  },
  {
   "cell_type": "markdown",
   "metadata": {
    "slideshow": {
     "slide_type": "slide"
    }
   },
   "source": [
    "  \n",
    "-   Algunas opciones son **argumentos posicionales**. Se llaman así\n",
    "    porque el programa espera identificarlos solo por su posición en la\n",
    "    línea de comandos. Por ejemplo, la orden [cp]{.title-ref} espera dos\n",
    "    parámetros posicionales, el primero sera el fichero origen y el\n",
    "    segundo el fichero de destino\n",
    "    "
   ]
  },
  {
   "cell_type": "markdown",
   "metadata": {
    "slideshow": {
     "slide_type": "slide"
    }
   },
   "source": [
    "-   Hay también **argumentos opcionales**, que modifican o condicionan\n",
    "    la forma en que el programa hace su trabajo. Estos parámetros\n",
    "    opcionales suelen usar el caracter [-]{.title-ref} como prefijo. Por\n",
    "    ejemplo, la orden [ls -l]{.title-ref} muestra un listado más\n",
    "    completo del que mostraria la orden [ls]{.title-ref} sola.\n",
    "  "
   ]
  },
  {
   "cell_type": "markdown",
   "metadata": {
    "slideshow": {
     "slide_type": "slide"
    }
   },
   "source": [
    "  \n",
    "-   Los argumentos opcionales a veces se pueden especificar de dos\n",
    "    maneras, la forma abreviada, que vimos antes, usa un solo guion con\n",
    "    prefijo y una o dos letras a lo sumo, y la forma extendida, que usa\n",
    "    dos guiones y normalmente una o dos palabras. \n",
    " "
   ]
  },
  {
   "cell_type": "markdown",
   "metadata": {
    "slideshow": {
     "slide_type": "slide"
    }
   },
   "source": [
    "En muchos casos\n",
    "tenemos la opcion abreviada `-h` y la opcion extendida\n",
    "`--help`, ambas usadas para obtener una descripción de\n",
    "que hace un programa y que opciones tiene."
   ]
  },
  {
   "cell_type": "markdown",
   "metadata": {
    "slideshow": {
     "slide_type": "slide"
    }
   },
   "source": [
    "### Uso básico\n",
    "\n",
    "Empezaremos con un breve ejemplo, que practicamente no hace nada:"
   ]
  },
  {
   "cell_type": "code",
   "execution_count": 1,
   "metadata": {
    "slideshow": {
     "slide_type": "slide"
    }
   },
   "outputs": [
    {
     "name": "stdout",
     "output_type": "stream",
     "text": [
      "#!/usr/bin/env python\r\n",
      "\r\n",
      "import argparse\r\n",
      "\r\n",
      "parser = argparse.ArgumentParser()\r\n",
      "parser.parse_args()\r\n",
      "\r\n"
     ]
    }
   ],
   "source": [
    "%cat \"lab-argparse-01.py\""
   ]
  },
  {
   "cell_type": "markdown",
   "metadata": {
    "slideshow": {
     "slide_type": "slide"
    }
   },
   "source": [
    "Nota: No podemos ejecutar este programa dentro de Jupyter, porque ya\n",
    "estamos dentro de un programa. Hay que ejecutar este código desde una\n",
    "consola."
   ]
  },
  {
   "cell_type": "markdown",
   "metadata": {
    "slideshow": {
     "slide_type": "slide"
    }
   },
   "source": [
    "Si lo ejecutamos, deberíamos obtener algo parecido a esto:\n",
    "\n",
    "    $ python prog.py\n",
    "    $ python prog.py --help\n",
    "    usage: prog.py [-h]\n",
    "\n",
    "    optional arguments:\n",
    "      -h, --help  show this help message and exit"
   ]
  },
  {
   "cell_type": "markdown",
   "metadata": {
    "slideshow": {
     "slide_type": "slide"
    }
   },
   "source": [
    "Vemos que `argparse` ha definido por nosotros la opcion `-h/--help`. Pero si\n",
    "intentamos usar otros argumentos, no\n",
    "definidos, `argparse` nos indicará el error:"
   ]
  },
  {
   "cell_type": "markdown",
   "metadata": {
    "slideshow": {
     "slide_type": "slide"
    }
   },
   "source": [
    "    $ python prog.py --verbose\n",
    "    usage: prog.py [-h]\n",
    "        prog.py: error: unrecognized arguments: --verbose\n",
    "    $ python prog.py foo\n",
    "    usage: prog.py [-h]\n",
    "    prog.py: error: unrecognized arguments: foo"
   ]
  },
  {
   "cell_type": "markdown",
   "metadata": {
    "slideshow": {
     "slide_type": "slide"
    }
   },
   "source": [
    "Vemos aquí una de las ventajas de `argparse`; tenemos una\n",
    "pantalla de ayuda sin necesidad de hacer nada. Veremos mas adelante que\n",
    "a medida que añadimos más opciones, estas apareceran automáticamente en\n",
    "la página de ayuda."
   ]
  },
  {
   "cell_type": "markdown",
   "metadata": {
    "slideshow": {
     "slide_type": "slide"
    }
   },
   "source": [
    "La opción de ayuda `-h\\--help` es la única que se incluye\n",
    "automáticamente. Si se especifican opciones\n",
    "que no hemos incluido, obtendremos un mensaje de error bastante claro,\n",
    "también \"gratis\"."
   ]
  },
  {
   "cell_type": "markdown",
   "metadata": {
    "slideshow": {
     "slide_type": "slide"
    }
   },
   "source": [
    "Añadir parámetros posicionales\n",
    "-----------------------------\n",
    "\n",
    "Vamos a añadir un parametro posicional, que llamaremos `target`"
   ]
  },
  {
   "cell_type": "code",
   "execution_count": 2,
   "metadata": {
    "slideshow": {
     "slide_type": "slide"
    }
   },
   "outputs": [
    {
     "name": "stdout",
     "output_type": "stream",
     "text": [
      "#!/usr/bin/env python\r\n",
      "\r\n",
      "import argparse\r\n",
      "\r\n",
      "parser = argparse.ArgumentParser()\r\n",
      "parser.add_argument(\"target\")\r\n",
      "options = parser.parse_args()\r\n",
      "print(options.target)\r\n",
      "\r\n"
     ]
    }
   ],
   "source": [
    "%cat lab-argparse-02.py"
   ]
  },
  {
   "cell_type": "markdown",
   "metadata": {
    "slideshow": {
     "slide_type": "slide"
    }
   },
   "source": [
    "Si ejecutamos este código, obtenemos algo como:"
   ]
  },
  {
   "cell_type": "markdown",
   "metadata": {
    "slideshow": {
     "slide_type": "slide"
    }
   },
   "source": [
    "    $ python lab-argparse-02.py\n",
    "    usage: lab-argparse-02.py [-h] target\n",
    "    lab-argparse-02.py: error: the following arguments are required: target\n",
    "    $\n",
    "    $ python lab-argparse-02.py --help\n",
    "    usage: lab-argparse-02.py [-h] target\n",
    "\n",
    "    positional arguments:\n",
    "      target\n",
    "\n",
    "    optional arguments:\n",
    "      -h, --help  show this help message and exit\n",
    "    $ python lab-argparse-02.py foo\n",
    "    foo"
   ]
  },
  {
   "cell_type": "markdown",
   "metadata": {
    "slideshow": {
     "slide_type": "slide"
    }
   },
   "source": [
    "Usando el método `add_argument()` hemos especificado que\n",
    "nuestro programa acepta un parámetro posicional, que en esta ocasion\n",
    "hemos llamado `target`. Como este nuevo parámetro no tiene\n",
    "un valor por defecto, es obligatorio, por lo que ejecutar el programa\n",
    "sin él, este fallará y nos informara de que necesita ese parámetro."
   ]
  },
  {
   "cell_type": "markdown",
   "metadata": {
    "slideshow": {
     "slide_type": "slide"
    }
   },
   "source": [
    "Vamos también que `parse_args()` nos devuelve los datos\n",
    "sobre las opciones que hemos especificado, es este caso,\n",
    "`target`. EL nombre es el mismo que hemos usado para definir\n",
    "el parámetro."
   ]
  },
  {
   "cell_type": "markdown",
   "metadata": {
    "slideshow": {
     "slide_type": "slide"
    }
   },
   "source": [
    "Fijate que el mensaje de ayuda hace referencia al nuevo parámetro, pero\n",
    "la verdad es que se limita a decir que ese valor es necesarioo; no dice\n",
    "para que sirve ni lo que hace. Podemos mejorar esto usando el parámetro\n",
    "`help` de `add_argument`:"
   ]
  },
  {
   "cell_type": "code",
   "execution_count": null,
   "metadata": {
    "slideshow": {
     "slide_type": "slide"
    }
   },
   "outputs": [],
   "source": [
    "%cat lab-argparse-03.py"
   ]
  },
  {
   "cell_type": "markdown",
   "metadata": {
    "slideshow": {
     "slide_type": "slide"
    }
   },
   "source": [
    "    import argparse\n",
    "\n",
    "    parser = argparse.ArgumentParser()\n",
    "    parser.add_argument(\"target\", help=\"texto a mostrar en la pantalla\")\n",
    "    options = parser.parse_args()\n",
    "    print(options.target)"
   ]
  },
  {
   "cell_type": "markdown",
   "metadata": {
    "slideshow": {
     "slide_type": "slide"
    }
   },
   "source": [
    "Ahora mejor:"
   ]
  },
  {
   "cell_type": "markdown",
   "metadata": {
    "slideshow": {
     "slide_type": "slide"
    }
   },
   "source": [
    "    $ python lab-argparse-03.py\n",
    "    usage: lab-argparse-03.py [-h] target\n",
    "    lab-argparse-03.py: error: the following arguments are required: target\n",
    "    $\n",
    "    $ python lab-argparse-03.py --help\n",
    "    usage: lab-argparse-03.py [-h] target\n",
    "\n",
    "    positional arguments:\n",
    "      target      texto a mostrar en la pantalla\n",
    "\n",
    "    optional arguments:\n",
    "      -h, --help  show this help message and exit\n",
    "    $\n",
    "    $ python lab-argparse-03.py funciona\n",
    "    funciona"
   ]
  },
  {
   "cell_type": "markdown",
   "metadata": {
    "slideshow": {
     "slide_type": "slide"
    }
   },
   "source": [
    "**Ejercicio**: Modificar el programa para que haga algo con el texto que\n",
    "le pasamos; por ejemplo, que lo imprima pero en mayúsculas\n",
    "\n"
   ]
  },
  {
   "cell_type": "code",
   "execution_count": null,
   "metadata": {
    "slideshow": {
     "slide_type": "notes"
    }
   },
   "outputs": [],
   "source": [
    "!cat lab-argparse-04.py"
   ]
  },
  {
   "cell_type": "markdown",
   "metadata": {
    "slideshow": {
     "slide_type": "slide"
    }
   },
   "source": [
    "Vamos con algo un poco más útil. ¿Qué tal un programa que nos devuelva\n",
    "el cuadrado del número que la pasamos? Vamos a intentarlo:"
   ]
  },
  {
   "cell_type": "code",
   "execution_count": 6,
   "metadata": {},
   "outputs": [
    {
     "name": "stdout",
     "output_type": "stream",
     "text": [
      "#!/usr/bin/env python\r\n",
      "\r\n",
      "import argparse\r\n",
      "\r\n",
      "parser = argparse.ArgumentParser()\r\n",
      "parser.add_argument(\"num\", type=int, help=\"valor a elevar al cuadrado\")\r\n",
      "options = parser.parse_args()\r\n",
      "print(options.num**2)\r\n",
      "\r\n"
     ]
    }
   ],
   "source": [
    "%cat lab-argparse-05.py"
   ]
  },
  {
   "cell_type": "markdown",
   "metadata": {
    "slideshow": {
     "slide_type": "slide"
    }
   },
   "source": [
    "Desgraciadamente, no funciona:\n",
    "\n",
    "    Traceback (most recent call last):\n",
    "    File \"lab-argparse-05.py\", line 8, in <module>\n",
    "        print(options.num**2)\n",
    "    TypeError: unsupported operand type(s) for ** or pow(): 'str' and 'int'"
   ]
  },
  {
   "cell_type": "markdown",
   "metadata": {
    "slideshow": {
     "slide_type": "slide"
    }
   },
   "source": [
    "**Pregunta**: ¿Por qué?"
   ]
  },
  {
   "cell_type": "markdown",
   "metadata": {
    "slideshow": {
     "slide_type": "slide"
    }
   },
   "source": [
    "Esto es porque `argparse` nos pasa todos los valores como\n",
    "cadenas de texto.\n",
    "\n",
    "Podemos arreglarlo convirtiendo ese texto\n",
    "a entero..."
   ]
  },
  {
   "cell_type": "markdown",
   "metadata": {
    "slideshow": {
     "slide_type": "slide"
    }
   },
   "source": [
    "...pero hay una forma mejor; usar el parámetro\n",
    "`type` para indicarle una función transformadora que nos\n",
    "pase del valor en string del argumento al tipo de variable que nosotros\n",
    "queremos. Para esta caso, la función `int()` es perfecta:"
   ]
  },
  {
   "cell_type": "code",
   "execution_count": 7,
   "metadata": {
    "slideshow": {
     "slide_type": "slide"
    }
   },
   "outputs": [
    {
     "name": "stdout",
     "output_type": "stream",
     "text": [
      "#!/usr/bin/env python\r\n",
      "\r\n",
      "import argparse\r\n",
      "\r\n",
      "parser = argparse.ArgumentParser()\r\n",
      "parser.add_argument(\"num\", type=int, help=\"valor a elevar al cuadrado\")\r\n",
      "options = parser.parse_args()\r\n",
      "print(options.num**2)\r\n",
      "\r\n"
     ]
    }
   ],
   "source": [
    "%cat lab-argparse-06.py"
   ]
  },
  {
   "cell_type": "markdown",
   "metadata": {
    "slideshow": {
     "slide_type": "slide"
    }
   },
   "source": [
    "Ahora funciona, e incluso si intentamos pasar un argumento incorrecto, el mensaje\n",
    "de error será más claro:"
   ]
  },
  {
   "cell_type": "markdown",
   "metadata": {
    "slideshow": {
     "slide_type": "slide"
    }
   },
   "source": [
    "```\n",
    "$ python lab-argparse-06.py 22\n",
    "484  \n",
    "$\n",
    "$ python lab-argparse-06.py hola\n",
    "usage: lab-argparse-06.py [-h] num\n",
    "  lab-argparse-06.py: error: argument num: invalid int value: 'hola'\n",
    "```"
   ]
  },
  {
   "cell_type": "markdown",
   "metadata": {
    "slideshow": {
     "slide_type": "slide"
    }
   },
   "source": [
    "### Argumentos opcionales\n",
    "\n",
    "Vamos a definir un parámetro pocional para que nos muestre, si asi lo\n",
    "pedimos, los cálculos previos realizado. Es tan sencillo como definirlos\n",
    "con uno o dos guiones en el nombre."
   ]
  },
  {
   "cell_type": "markdown",
   "metadata": {
    "slideshow": {
     "slide_type": "slide"
    }
   },
   "source": [
    "Como es opcional, no es necesario especificarlo. si no lo hacemos,\n",
    "cuando intentemos leer su valor, este será `None`.\n",
    "\n",
    "Cono en nuestro caso el valor lo queremos comparar con un entero, nos\n",
    "viene mejor definir el valor por defecto como, digamos, \\$0\\$. Para eso\n",
    "usamos el parametro `default`:"
   ]
  },
  {
   "cell_type": "code",
   "execution_count": 8,
   "metadata": {
    "slideshow": {
     "slide_type": "slide"
    }
   },
   "outputs": [
    {
     "name": "stdout",
     "output_type": "stream",
     "text": [
      "#!/usr/bin/env python\r\n",
      "\r\n",
      "import argparse\r\n",
      "\r\n",
      "parser = argparse.ArgumentParser()\r\n",
      "parser.add_argument(\"num\", type=int, help=\"valor a elevar al cuadrado\")\r\n",
      "parser.add_argument(\r\n",
      "        \"--explicacion\",\r\n",
      "        help=\"Muestra los pasos previos\",\r\n",
      "        type=int,\r\n",
      "        default=0,\r\n",
      "        )\r\n",
      "\r\n",
      "options = parser.parse_args()\r\n",
      "if options.explicacion > 0:\r\n",
      "    print(f\"{options.num}^2 = {options.num**2}\")\r\n",
      "else:\r\n",
      "    print(options.num**2)\r\n"
     ]
    }
   ],
   "source": [
    "%cat lab-argparse-07.py"
   ]
  },
  {
   "cell_type": "markdown",
   "metadata": {
    "slideshow": {
     "slide_type": "slide"
    }
   },
   "source": [
    "Veamos si funciona:"
   ]
  },
  {
   "cell_type": "markdown",
   "metadata": {
    "slideshow": {
     "slide_type": "slide"
    }
   },
   "source": [
    "```\n",
    "$ python lab-argparse-07.py 1024 --explicacion 1\n",
    "1024^2 = 1048576\n",
    "$\n",
    "$ python lab-argparse-07.py 1024\n",
    "1048576\n",
    "```"
   ]
  },
  {
   "cell_type": "markdown",
   "metadata": {
    "slideshow": {
     "slide_type": "slide"
    }
   },
   "source": [
    "- Una cosa que podemos mejorar es que, en este caso, realmente no es necesario especificar ningun valor, es más bien una opción de tipo lógico, booleano\n",
    "\n",
    "- Podemos modificar esto para que el argumento\n",
    "`explicacion` no requiera ningún valor\n",
    "\n",
    "- Para ello usaremos un parámetro del método `add_argument` llamado `action`:"
   ]
  },
  {
   "cell_type": "code",
   "execution_count": 9,
   "metadata": {
    "slideshow": {
     "slide_type": "slide"
    }
   },
   "outputs": [
    {
     "name": "stdout",
     "output_type": "stream",
     "text": [
      "\r\n",
      "#!/usr/bin/env python\r\n",
      "\r\n",
      "import argparse\r\n",
      "\r\n",
      "parser = argparse.ArgumentParser()\r\n",
      "parser.add_argument(\"num\", type=int, help=\"valor a elevar al cuadrado\")\r\n",
      "parser.add_argument(\r\n",
      "        \"--explicacion\",\r\n",
      "        help=\"Muestra los pasos previos\",\r\n",
      "        action='store_true',\r\n",
      "        )\r\n",
      "\r\n",
      "options = parser.parse_args()\r\n",
      "if options.explicacion:\r\n",
      "    print(f\"{options.num}^2 = {options.num**2}\")\r\n",
      "else:\r\n",
      "    print(options.num**2)\r\n"
     ]
    }
   ],
   "source": [
    "%cat lab-argparse-08.py"
   ]
  },
  {
   "cell_type": "markdown",
   "metadata": {
    "slideshow": {
     "slide_type": "slide"
    }
   },
   "source": [
    "Veamos si funciona:\n",
    "```\n",
    "$ python lab-argparse-08.py 782\n",
    "611524\n",
    "$ python lab-argparse-08.py 782 --explicacion\n",
    "782^2 = 611524\n",
    "```"
   ]
  },
  {
   "cell_type": "markdown",
   "metadata": {
    "slideshow": {
     "slide_type": "slide"
    }
   },
   "source": [
    "Vemos que no es necesario especificar ni `type` ni\n",
    "`default`, al usar `action='store_true'` la\n",
    "librería puede concluir cuales serían estos valores (Si se especificara `store_false` seguiría siendo un valor booleano, pero por\n",
    "defecto sería `True`).\n",
    "\n",
    "La opción `explicacion` es ahora lo que se suele llamar un *flag*, que puede estar activo o no."
   ]
  },
  {
   "cell_type": "markdown",
   "metadata": {
    "slideshow": {
     "slide_type": "slide"
    }
   },
   "source": [
    "### Opciones abreviadas\n",
    "\n",
    "Ahora tenemos un valor opcional especificado con un argumento extendido\n",
    "`--explicacion`. ¿Cómo definimos la opción abreviada, por ejemplo `-e`.\n",
    "Muy fácil, solo hay que indicar las dos opciones como primeros\n",
    "parámetros de `add_argument`."
   ]
  },
  {
   "cell_type": "markdown",
   "metadata": {
    "slideshow": {
     "slide_type": "slide"
    }
   },
   "source": [
    "Para nuestro ejemplo, cambiar la definición a:\n",
    "\n",
    "    parser.add_argument(\n",
    "        \"-e\", \"--explicacion\",\n",
    "        help=\"Muestra los pasos previos\",\n",
    "        action='store_true',\n",
    "        )"
   ]
  },
  {
   "cell_type": "markdown",
   "metadata": {
    "slideshow": {
     "slide_type": "slide"
    }
   },
   "source": [
    "**Ejercicio**: Añadir la opción abreviada. Probar que funciona."
   ]
  },
  {
   "cell_type": "markdown",
   "metadata": {
    "slideshow": {
     "slide_type": "slide"
    }
   },
   "source": [
    "El módulo `argparse` ofrece muchas más opciones para\n",
    "controlar los argumentos que acepta nuestro programa. Con el parámetro\n",
    "`choices`, por ejemplo, podemos limitar los valores posibles\n",
    "de un argumento, podemos hacer opciones que sean mutualmente\n",
    "excluyentes, etc."
   ]
  },
  {
   "cell_type": "markdown",
   "metadata": {
    "slideshow": {
     "slide_type": "slide"
    }
   },
   "source": [
    "Para aprender más, podemos consultar la [documentación ofical de\n",
    "argparse](<https://docs.python.org/2/howto/argparse.html>)."
   ]
  },
  {
   "cell_type": "markdown",
   "metadata": {
    "slideshow": {
     "slide_type": "slide"
    }
   },
   "source": [
    "**Miniproyecto**: Hacer un script que imprima una tabla de multiplicar, con\n",
    "un parametro obligatorio para indicar que tabla queremos. Si indicamos\n",
    "el parametro opcional `--examen`, en vez de imprimir los\n",
    "resultados, que deje un espacio vacio."
   ]
  },
  {
   "cell_type": "markdown",
   "metadata": {
    "slideshow": {
     "slide_type": "slide"
    }
   },
   "source": [
    "Es decir, si hacemos `python tabla.py 7`, la salida debería\n",
    "ser algo como:"
   ]
  },
  {
   "cell_type": "markdown",
   "metadata": {
    "slideshow": {
     "slide_type": "slide"
    }
   },
   "source": [
    "    7 x  1 = 7\n",
    "    7 x  2 = 14\n",
    "    7 x  3 = 21\n",
    "    7 x  4 = 28\n",
    "    7 x  5 = 35\n",
    "    7 x  6 = 42\n",
    "    7 x  7 = 49\n",
    "    7 x  8 = 56\n",
    "    7 x  9 = 63\n",
    "    7 x 10 = 70"
   ]
  },
  {
   "cell_type": "markdown",
   "metadata": {
    "slideshow": {
     "slide_type": "slide"
    }
   },
   "source": [
    "Pero si usamos la opción `--examen` o `-e` la salida debería parecerse a:"
   ]
  },
  {
   "cell_type": "markdown",
   "metadata": {
    "slideshow": {
     "slide_type": "slide"
    }
   },
   "source": [
    "    7 x  1 = [   ]  \n",
    "    7 x  2 = [   ]\n",
    "    7 x  3 = [   ]\n",
    "    7 x  4 = [   ]\n",
    "    7 x  5 = [   ]\n",
    "    7 x  6 = [   ]\n",
    "    7 x  7 = [   ]\n",
    "    7 x  8 = [   ]\n",
    "    7 x  9 = [   ]\n",
    "    7 x 10 = [   ]"
   ]
  },
  {
   "cell_type": "markdown",
   "metadata": {
    "slideshow": {
     "slide_type": "slide"
    }
   },
   "source": [
    "![Extra poins](./img/premium.svg)\n",
    "Punto extra si se usa la opcion `choices` para evitar que\n",
    "se puedan imprimir tablas que no sean las del \\$1\\$ al \\$9\\$."
   ]
  }
 ],
 "metadata": {
  "celltoolbar": "Slideshow",
  "kernelspec": {
   "display_name": "Python 3",
   "language": "python",
   "name": "python3"
  },
  "language_info": {
   "codemirror_mode": {
    "name": "ipython",
    "version": 3
   },
   "file_extension": ".py",
   "mimetype": "text/x-python",
   "name": "python",
   "nbconvert_exporter": "python",
   "pygments_lexer": "ipython3",
   "version": "3.6.9"
  }
 },
 "nbformat": 4,
 "nbformat_minor": 4
}
