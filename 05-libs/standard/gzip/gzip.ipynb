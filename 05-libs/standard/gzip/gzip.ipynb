{
 "cells": [
  {
   "cell_type": "markdown",
   "metadata": {
    "slideshow": {
     "slide_type": "slide"
    }
   },
   "source": [
    "# gzip - Soporte de ficheros gzip\n",
    "\n",
    "Este módulo proporciona una interfaz simple para comprimir y descomprimir\n",
    "ficheros, de la misma forma que los programas GNU `gzip` o `gunzip`. El algoritmo de\n",
    "compresión es el mismo que usa la librería `zlib`."
   ]
  },
  {
   "cell_type": "markdown",
   "metadata": {
    "slideshow": {
     "slide_type": "slide"
    }
   },
   "source": [
    "EL módulo proporciona una clase, `GzipFile`, y varias funciones convenientes,\n",
    "como  `open()`, `compress()` y `decompress()`.\n",
    "\n",
    "La clase `GzipFile` puede leer\n",
    "y escribir ficheros comprimidos en formato gzip, realizando las tareas de\n",
    "compresión y descompresión de forma automática, por lo que para nosotros es\n",
    "como si fuera un fichero normal y corriente."
   ]
  },
  {
   "cell_type": "markdown",
   "metadata": {
    "slideshow": {
     "slide_type": "slide"
    }
   },
   "source": [
    "Al contrario que con el formato ZIP, el formato gzip solo\n",
    "permite comprimir y descomprimir un fichero, porque no tiene capacidad\n",
    "de archivado (Es decir, la posibilidad de añadir varios ficheros\n",
    "dentro del archivo)."
   ]
  },
  {
   "cell_type": "markdown",
   "metadata": {
    "slideshow": {
     "slide_type": "slide"
    }
   },
   "source": [
    "Para crear un fichero comprimido con gzip, simplemente\n",
    "lo abrimos con el modo `wb` (`w` para escritura, *write*, `b`\n",
    "para binario, *binary*):"
   ]
  },
  {
   "cell_type": "code",
   "execution_count": 12,
   "metadata": {
    "slideshow": {
     "slide_type": "slide"
    }
   },
   "outputs": [],
   "source": [
    "import gzip\n",
    "   \n",
    "content = \"Hay mucho contenido aquí.\\n\".encode('utf-8') * 888\n",
    "with gzip.open('file.txt.gz', 'wb') as f:\n",
    "    f.write(content)"
   ]
  },
  {
   "cell_type": "code",
   "execution_count": 11,
   "metadata": {},
   "outputs": [
    {
     "name": "stdout",
     "output_type": "stream",
     "text": [
      "�0\u0010\u0000�\u001d",
      "\u0015�\u0000\u001d",
      "��\u0014\u0012\u0018臄\u000e�B\u0005��A��+��c�-�e�־/\u0019�\u001c",
      "�3OE)��RJ)��RJ)��RJ)��RJ)��RJ)��RJ)��RJ)��RJ)��RJ)��RJ)��RJ)��X\u001f��.i�]\u0000\u0000"
     ]
    }
   ],
   "source": [
    "!cat file.txt.gz"
   ]
  },
  {
   "cell_type": "markdown",
   "metadata": {
    "slideshow": {
     "slide_type": "slide"
    }
   },
   "source": [
    "Un ejemplo  de como leer un fichero comprimido::"
   ]
  },
  {
   "cell_type": "code",
   "execution_count": 13,
   "metadata": {
    "slideshow": {
     "slide_type": "slide"
    }
   },
   "outputs": [
    {
     "name": "stdout",
     "output_type": "stream",
     "text": [
      "Hay mucho contenido aquí.\n",
      "Hay mucho contenido aquí.\n",
      "Hay mucho contenido aquí.\n",
      "Hay mucho contenido aq\n"
     ]
    }
   ],
   "source": [
    "import gzip\n",
    "    \n",
    "with gzip.open('file.txt.gz', 'rb') as f:\n",
    "    file_content = f.read().decode('utf-8')\n",
    "print(file_content[0:100])"
   ]
  },
  {
   "cell_type": "markdown",
   "metadata": {
    "slideshow": {
     "slide_type": "slide"
    }
   },
   "source": [
    "#### Ejercicio: Comprimir un archivo existente\n",
    "\n",
    "Comprimir el contenido del fichero `lorem.txt` en un nuevo\n",
    "archivo `lorem.txt.gz`.\n",
    "\n",
    "Nota: Los objetos de tipo `GzipFile` incluyen un método `writelines()` que se puede\n",
    "usar para escribir una lista o secuencia de líneas de texto."
   ]
  },
  {
   "cell_type": "code",
   "execution_count": 17,
   "metadata": {
    "slideshow": {
     "slide_type": "slide"
    }
   },
   "outputs": [
    {
     "name": "stdout",
     "output_type": "stream",
     "text": [
      "56 -rw-rw-r-- 1 jileon jileon 57060 abr 12 11:36 lorem.txt\n",
      "24 -rw-rw-r-- 1 jileon jileon 22316 abr 14 19:42 lorem.txt.gz\n"
     ]
    }
   ],
   "source": [
    "import gzip\n",
    "\n",
    "with open(\"lorem.txt\", \"r\") as entrada:\n",
    "    with gzip.open(\"lorem.txt.gz\", \"wb\") as salida:\n",
    "        datos = entrada.read().encode('utf-8')\n",
    "        salida.write(datos)\n",
    "!dir -ls lorem.txt lorem.txt.gz"
   ]
  },
  {
   "cell_type": "markdown",
   "metadata": {
    "slideshow": {
     "slide_type": "slide"
    }
   },
   "source": [
    "Usa el siguiente script para comprobar la diferencia de tamaño entre los dos\n",
    "ficheros."
   ]
  },
  {
   "cell_type": "code",
   "execution_count": 20,
   "metadata": {
    "slideshow": {
     "slide_type": "slide"
    }
   },
   "outputs": [
    {
     "name": "stdout",
     "output_type": "stream",
     "text": [
      "- El fichero lorem.txt pesa 57060 bytes\n",
      "- El fichero lorem.txt.gz pesa 22316 bytes\n"
     ]
    }
   ],
   "source": [
    "import glob\n",
    "import os\n",
    "\n",
    "for filename in glob.glob(\"lorem*\"):\n",
    "    size = os.path.getsize(filename)\n",
    "    print(f\"- El fichero {filename} pesa {size} bytes\")\n"
   ]
  },
  {
   "cell_type": "code",
   "execution_count": 29,
   "metadata": {
    "slideshow": {
     "slide_type": "notes"
    }
   },
   "outputs": [],
   "source": [
    "# Solución\n",
    "\n",
    "import gzip\n",
    "\n",
    "with open('lorem.txt', 'rb') as f_in:\n",
    "    with gzip.open('lorem.txt.gz', 'wb') as f_out: \n",
    "        f_out.writelines(f_in.readlines())"
   ]
  },
  {
   "cell_type": "code",
   "execution_count": 21,
   "metadata": {},
   "outputs": [
    {
     "name": "stdout",
     "output_type": "stream",
     "text": [
      "1. Una reunión muy esperada\n",
      "Cuando el señor Bilbo Bolsón de Bolsón Cerrado anunció que muy p\n",
      "—Tendrá que pagar —decían—. ¡No es natural, y traerá problemas!\n",
      "Pero tales problemas no habían llegado y como el señor Bolsón er\n",
      "El primo mayor y el favorito de Bilbo, era el joven Frodo Bolsón\n",
      "Pasaron doce años más. Los Bolsón habían dado siempre bulliciosa\n"
     ]
    }
   ],
   "source": [
    "with gzip.open('lorem.txt.gz', 'r') as f_in:\n",
    "    for i, line in enumerate(f_in.readlines()):\n",
    "        line = line.strip()\n",
    "        if not line:\n",
    "            continue\n",
    "        print(line.decode('utf-8')[0:64])\n",
    "        if i == 10:\n",
    "            break"
   ]
  },
  {
   "cell_type": "code",
   "execution_count": null,
   "metadata": {},
   "outputs": [],
   "source": []
  }
 ],
 "metadata": {
  "celltoolbar": "Slideshow",
  "kernelspec": {
   "display_name": "Python 3",
   "language": "python",
   "name": "python3"
  },
  "language_info": {
   "codemirror_mode": {
    "name": "ipython",
    "version": 3
   },
   "file_extension": ".py",
   "mimetype": "text/x-python",
   "name": "python",
   "nbconvert_exporter": "python",
   "pygments_lexer": "ipython3",
   "version": "3.8.2"
  }
 },
 "nbformat": 4,
 "nbformat_minor": 4
}
