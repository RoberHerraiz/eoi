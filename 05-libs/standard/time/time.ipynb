{
 "cells": [
  {
   "cell_type": "markdown",
   "metadata": {
    "slideshow": {
     "slide_type": "slide"
    }
   },
   "source": [
    "## La Librería time\n",
    "\n",
    "Esté modulo proporciona funciones para trabajar con tiempos y fechas. "
   ]
  },
  {
   "cell_type": "markdown",
   "metadata": {
    "slideshow": {
     "slide_type": "slide"
    }
   },
   "source": [
    "### Definiciones\n",
    "\n",
    "- **UTC** es el tiempo coordinado Universal, anteriormente conocido como\n",
    "  GMT o Hora de Greenwich (El acrónimo UTC es un compromiso entre el\n",
    "  inglés y el francés)\n",
    "  \n",
    " \n",
    "- **DST** es el ajuste de horario de verano (*Daylight Saving Time*) una\n",
    "  modificacion de la zona horaria, normalmente de una hora, que se\n",
    "  realiza durante parte del año. las reglas de los DST son, en la\n",
    "  práctica, pura magia (dependen de las leyes locales) y pueden\n",
    "  cambiar de año a año,"
   ]
  },
  {
   "cell_type": "markdown",
   "metadata": {
    "slideshow": {
     "slide_type": "slide"
    }
   },
   "source": [
    "### Contenidos del módulo\n",
    "\n",
    "Los valores de tiempo devueltos por `gmtime()`, `localtime()` y\n",
    "`strptime()`, y aceptados por `asctime()`, `mktime()` y `strftime()` son\n",
    "tuplas (En realidad, `namedtuple`) de 9 enteros: año, mes, dia, horas,\n",
    "minutos, segundos, día de la semana, día dentro del año y un indicador\n",
    "de si se aplica o no el horario de verano."
   ]
  },
  {
   "cell_type": "code",
   "execution_count": 30,
   "metadata": {
    "scrolled": false,
    "slideshow": {
     "slide_type": "slide"
    }
   },
   "outputs": [
    {
     "name": "stdout",
     "output_type": "stream",
     "text": [
      "1586969821.923435\n",
      "Wed Apr 15 17:57:01 2020\n",
      "time.struct_time(tm_year=2020, tm_mon=4, tm_mday=15, tm_hour=16, tm_min=57, tm_sec=1, tm_wday=2, tm_yday=106, tm_isdst=0)\n"
     ]
    }
   ],
   "source": [
    "import time\n",
    "\n",
    "print(time.time())\n",
    "print(time.asctime())\n",
    "print(time.gmtime())"
   ]
  },
  {
   "cell_type": "code",
   "execution_count": 42,
   "metadata": {
    "slideshow": {
     "slide_type": "slide"
    }
   },
   "outputs": [
    {
     "name": "stdout",
     "output_type": "stream",
     "text": [
      "16 57 32\n",
      "2 106 0\n"
     ]
    }
   ],
   "source": [
    "year, mes, dia, hh, mm, ss, wday, yday, dst = time.gmtime()\n",
    "print(h, m, s)\n",
    "print(wday, yday, dst)"
   ]
  },
  {
   "cell_type": "code",
   "execution_count": 44,
   "metadata": {
    "slideshow": {
     "slide_type": "slide"
    }
   },
   "outputs": [
    {
     "name": "stdout",
     "output_type": "stream",
     "text": [
      "time.struct_time(tm_year=2020, tm_mon=4, tm_mday=15, tm_hour=17, tm_min=1, tm_sec=38, tm_wday=2, tm_yday=106, tm_isdst=0)\n",
      "2020\n"
     ]
    }
   ],
   "source": [
    "dt = time.gmtime()\n",
    "print(dt)\n",
    "print(dt.tm_year)"
   ]
  },
  {
   "cell_type": "markdown",
   "metadata": {
    "slideshow": {
     "slide_type": "slide"
    }
   },
   "source": [
    "Algunas funciones definidas en este módulo:\n",
    "\n",
    "- `time.time()`\n",
    "\n",
    "Devuelve el tiempo en segundos, en forma de número de coma flotante."
   ]
  },
  {
   "cell_type": "markdown",
   "metadata": {
    "slideshow": {
     "slide_type": "slide"
    }
   },
   "source": [
    "- `time.gmtime([secs])`\n",
    "\n",
    "Convierte un tiempo en segundos en una tupla de nueve elementos, en\n",
    "los cuales el flag final es siempre 0. Si no se indica el tiempo ,\n",
    "se tomará el momento actual."
   ]
  },
  {
   "cell_type": "code",
   "execution_count": 49,
   "metadata": {
    "slideshow": {
     "slide_type": "slide"
    }
   },
   "outputs": [
    {
     "data": {
      "text/plain": [
       "time.struct_time(tm_year=1970, tm_mon=3, tm_mday=5, tm_hour=9, tm_min=55, tm_sec=55, tm_wday=3, tm_yday=64, tm_isdst=0)"
      ]
     },
     "execution_count": 49,
     "metadata": {},
     "output_type": "execute_result"
    }
   ],
   "source": [
    "import time\n",
    "\n",
    "time.time()\n",
    "time.gmtime(5478955)"
   ]
  },
  {
   "cell_type": "markdown",
   "metadata": {
    "slideshow": {
     "slide_type": "slide"
    }
   },
   "source": [
    "- `time.localtime([secs])`\n",
    "\n",
    "Como `gmtime()`, pero convertido a tiempo local. El indicador final\n",
    "se pone a uno si en ese momento estaba activo el horario de verano."
   ]
  },
  {
   "cell_type": "markdown",
   "metadata": {
    "slideshow": {
     "slide_type": "slide"
    }
   },
   "source": [
    "- `time.mktime(t)`\n",
    "\n",
    "Esta función es la inversa de `localtime()`. Su argumento es una tupla de 9\n",
    "elementos (Como el flag final es obligatorio, se puede poner -1 para\n",
    "indicar que no lo sabemos). Devuelve un número de segundos unix."
   ]
  },
  {
   "cell_type": "code",
   "execution_count": 63,
   "metadata": {
    "slideshow": {
     "slide_type": "slide"
    }
   },
   "outputs": [
    {
     "name": "stdout",
     "output_type": "stream",
     "text": [
      "domingo\n"
     ]
    }
   ],
   "source": [
    "weekdays = ['Lunes', 'Martes', 'Miercoles', \"jueves\", \"viernes\", \"sabado\", \"domingo\"]\n",
    "ts = time.mktime((1809, 2, 12, 15, 23, 12, 0, 0, 0))\n",
    "print(weekdays[time.localtime(ts).tm_wday])"
   ]
  },
  {
   "cell_type": "markdown",
   "metadata": {
    "slideshow": {
     "slide_type": "slide"
    }
   },
   "source": [
    "- `time.sleep(secs)`\n",
    "\n",
    "Suspender la ejecución del programa durante el tiempo en segundos\n",
    "indicado como parámetro."
   ]
  },
  {
   "cell_type": "code",
   "execution_count": 57,
   "metadata": {},
   "outputs": [],
   "source": [
    "time.sleep(5)"
   ]
  },
  {
   "cell_type": "markdown",
   "metadata": {
    "slideshow": {
     "slide_type": "slide"
    }
   },
   "source": [
    "Ejercicio: Averiguar el día de la semana en que nacio Abrahan Lincolm."
   ]
  },
  {
   "cell_type": "code",
   "execution_count": null,
   "metadata": {},
   "outputs": [],
   "source": []
  }
 ],
 "metadata": {
  "celltoolbar": "Slideshow",
  "kernelspec": {
   "display_name": "Python 3",
   "language": "python",
   "name": "python3"
  },
  "language_info": {
   "codemirror_mode": {
    "name": "ipython",
    "version": 3
   },
   "file_extension": ".py",
   "mimetype": "text/x-python",
   "name": "python",
   "nbconvert_exporter": "python",
   "pygments_lexer": "ipython3",
   "version": "3.6.9"
  }
 },
 "nbformat": 4,
 "nbformat_minor": 2
}
