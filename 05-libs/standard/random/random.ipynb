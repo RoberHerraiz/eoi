{
 "cells": [
  {
   "cell_type": "markdown",
   "metadata": {
    "slideshow": {
     "slide_type": "slide"
    }
   },
   "source": [
    "### La Librería random\n",
    "\n",
    "Generador de números aleatorias"
   ]
  },
  {
   "cell_type": "markdown",
   "metadata": {
    "slideshow": {
     "slide_type": "slide"
    }
   },
   "source": [
    "Este módulo implementa generadores de números pseudo-aleatorios\n",
    "para distintas distribucines. "
   ]
  },
  {
   "cell_type": "markdown",
   "metadata": {
    "slideshow": {
     "slide_type": "slide"
    }
   },
   "source": [
    "Para enteros, podemos hacer\n",
    "una selección uniforme dentro de un rango; para secuencias, una\n",
    "selección uniforme de un elemento. Podemos reordenar al azar -barajar- \n",
    "una secuencia y obtener muestras al azar."
   ]
  },
  {
   "cell_type": "markdown",
   "metadata": {
    "slideshow": {
     "slide_type": "slide"
    }
   },
   "source": [
    "También podemos trabajar con distintas distribucions: En este tema\n",
    "veremos distribuciones uniformes, normales (Gauss) y de pareto, pero el\n",
    "módulo incluye también las distribuciones logarítmica normal, exponencial\n",
    "negativa, y distribuciones gamma y beta."
   ]
  },
  {
   "cell_type": "markdown",
   "metadata": {
    "slideshow": {
     "slide_type": "slide"
    }
   },
   "source": [
    "### La funcion `random`\n",
    "\n",
    "Casi todas las funciones dependen de la función básica ``random()``, que\n",
    "genera un numero al azar en el intervalo semiabierto [0.0, 1.0)."
   ]
  },
  {
   "cell_type": "code",
<<<<<<< HEAD
   "execution_count": 4,
   "metadata": {},
=======
   "execution_count": 5,
   "metadata": {
    "slideshow": {
     "slide_type": "slide"
    }
   },
>>>>>>> 5f6a951a07f3000fa6b289b6e781b99f0e4979bf
   "outputs": [
    {
     "name": "stdout",
     "output_type": "stream",
     "text": [
<<<<<<< HEAD
      "0.658062624881135\n",
      "0.8928105749614882\n",
      "0.8030386230270398\n"
=======
      "0.8345203822171855\n",
      "0.11779763673887567\n",
      "0.5589776920663782\n"
>>>>>>> 5f6a951a07f3000fa6b289b6e781b99f0e4979bf
     ]
    }
   ],
   "source": [
    "import random\n",
    "\n",
    "for _ in range(3):\n",
    "    print(random.random())"
   ]
  },
  {
   "cell_type": "markdown",
   "metadata": {
    "slideshow": {
     "slide_type": "slide"
    }
   },
   "source": [
    "Normalmente no usaremos directamente esta función -aunque podemos- porque\n",
    "hay otras funciones auxiliares, que eventualmente acabarán llamando a\n",
    "esta, pero a nosotros nos resultan más convenientes."
   ]
  },
  {
   "cell_type": "markdown",
   "metadata": {
    "slideshow": {
     "slide_type": "slide"
    }
   },
   "source": [
    "### la funcion `seed`\n",
    "\n",
    "- `random.seed([x])`"
   ]
  },
  {
   "cell_type": "markdown",
   "metadata": {
    "slideshow": {
     "slide_type": "slide"
    }
   },
   "source": [
    "Inicializa el generador de números con un determinado valor.\n",
    "Si se omite, se usa un valor obtenido a partir de la fecha y\n",
    "hora actual, pero si se especifica una semilla, la secuencia\n",
    "de numeros generada a partir de ahi siempre sera la misma, lo que nos\n",
    "permite producir secuencias predecibles."
   ]
  },
  {
   "cell_type": "code",
<<<<<<< HEAD
   "execution_count": 5,
   "metadata": {},
=======
   "execution_count": 6,
   "metadata": {
    "slideshow": {
     "slide_type": "slide"
    }
   },
>>>>>>> 5f6a951a07f3000fa6b289b6e781b99f0e4979bf
   "outputs": [
    {
     "name": "stdout",
     "output_type": "stream",
     "text": [
      "0.5496842526267491 0.7956055672331934 0.6592334632256923\n",
      "0.5496842526267491 0.7956055672331934 0.6592334632256923\n"
     ]
    }
   ],
   "source": [
    "import random\n",
    "\n",
    "random.seed(1024920)\n",
    "print(random.random(), random.random(), random.random())\n",
    "\n",
    "random.seed(1024920)\n",
    "print(random.random(), random.random(), random.random())\n"
   ]
  },
  {
   "cell_type": "markdown",
   "metadata": {
    "slideshow": {
     "slide_type": "slide"
    }
   },
   "source": [
    "### La función choice\n",
    "\n",
    "- `random.choice(seq)`\n",
    "\n",
    "Dada una sequencia de elementos que se la pasa como parámetro, devuelve una de ellas\n",
    "al azar. Si `seq` está vacio, eleva una excepción.\n",
    "\n"
   ]
  },
  {
   "cell_type": "code",
   "execution_count": 11,
<<<<<<< HEAD
   "metadata": {},
=======
   "metadata": {
    "slideshow": {
     "slide_type": "slide"
    }
   },
>>>>>>> 5f6a951a07f3000fa6b289b6e781b99f0e4979bf
   "outputs": [
    {
     "name": "stdout",
     "output_type": "stream",
     "text": [
<<<<<<< HEAD
      "I\n",
      "A\n",
      "A\n"
=======
      "F\n",
      "Q\n",
      "T\n"
>>>>>>> 5f6a951a07f3000fa6b289b6e781b99f0e4979bf
     ]
    }
   ],
   "source": [
    "random.seed()\n",
    "for _ in range(3):\n",
    "    print(random.choice('ABCDEFGHIJKLMNOPQRSTUVWXYZ'))"
   ]
  },
  {
   "cell_type": "markdown",
   "metadata": {
    "slideshow": {
     "slide_type": "slide"
    }
   },
   "source": [
    "**Ejercicio**: Escribir una función para jugar con al Piedra, papel, tijera, que muestre uno\n",
    "    de estos elementos al azar cada vez que se le llama."
   ]
  },
  {
   "cell_type": "code",
<<<<<<< HEAD
   "execution_count": 21,
   "metadata": {},
=======
   "execution_count": 19,
   "metadata": {
    "slideshow": {
     "slide_type": "slide"
    }
   },
>>>>>>> 5f6a951a07f3000fa6b289b6e781b99f0e4979bf
   "outputs": [
    {
     "name": "stdout",
     "output_type": "stream",
     "text": [
<<<<<<< HEAD
      "papel\n"
=======
      "piedra\n"
>>>>>>> 5f6a951a07f3000fa6b289b6e781b99f0e4979bf
     ]
    }
   ],
   "source": [
<<<<<<< HEAD
    "import random\n",
    "\n",
    "def randompick():\n",
    "    juego = [\"piedra\", \"papel\", \"tijera\"]\n",
    "    return print(random.choice(juego))\n",
    "\n",
    "randompick()"
=======
    "def juego():\n",
    "    item = ['piedra','papel','tijera']\n",
    "    print(random.choice(item))\n",
    "    \n",
    "juego()"
>>>>>>> 5f6a951a07f3000fa6b289b6e781b99f0e4979bf
   ]
  },
  {
   "cell_type": "markdown",
   "metadata": {
    "slideshow": {
     "slide_type": "slide"
    }
   },
   "source": [
    "### La función choices\n",
    "\n",
    "- `random.choices(population, weights=None, *, cum_weights=None, k=1)`\n",
    "\n",
    "Devuelve una lista de `k` elementos, seleccionados al azar de los que le pasemos\n",
    "en la variable `population`. Esta seleccion se realiza con reemplazo, asi que podemos\n",
    "en principio obtener el mismo valor varias veces."
   ]
  },
  {
   "cell_type": "markdown",
   "metadata": {
    "slideshow": {
     "slide_type": "slide"
    }
   },
   "source": [
    "Si se especifica los pesos con el parámetro `weights`, la seleccion se realizará\n",
    "teniendo en cuenta dichos pesos. Es decir, que `random.choices('ABC', weights=[4, 2, 1], k=2)`\n",
    "nos devolveria dos letras del conjunto [`A`, `B`, `C`], pero la `A` aparecera con una\n",
    "frecuencia doble que la de `B`, y la `B` a su vez aparecerá con una frecuencia doble que la\n",
    "de `C` (Y, por tanto, la frecuencia de `A` sera 4 veces la de `C`, o lo que es lo mismo, aparecera una `C` aproximandamente cada 4 `A`."
   ]
  },
  {
   "cell_type": "code",
<<<<<<< HEAD
   "execution_count": 23,
   "metadata": {},
=======
   "execution_count": 37,
   "metadata": {
    "slideshow": {
     "slide_type": "slide"
    }
   },
>>>>>>> 5f6a951a07f3000fa6b289b6e781b99f0e4979bf
   "outputs": [
    {
     "name": "stdout",
     "output_type": "stream",
     "text": [
<<<<<<< HEAD
      "B B\n",
      "C B\n",
      "A A\n",
      "A A\n",
      "A C\n",
      "A B\n",
      "A C\n",
      "B A\n",
      "A A\n",
      "A B\n"
=======
      "A A\n",
      "A A\n",
      "A A\n",
      "A A\n",
      "A A\n",
      "B A\n",
      "B A\n",
      "B A\n",
      "C A\n",
      "C B\n"
>>>>>>> 5f6a951a07f3000fa6b289b6e781b99f0e4979bf
     ]
    }
   ],
   "source": [
    "for _ in range(10):\n",
<<<<<<< HEAD
    "    l1, l2 = random.choices('ABC', weights=[4, 2, 1], k=2) #si hacemos que los pesos sumen 100, estaremos haciendo un %\n",
=======
    "    l1, l2 = random.choices('ABC', cum_weights=[4, 6, 7], k=2)\n",
>>>>>>> 5f6a951a07f3000fa6b289b6e781b99f0e4979bf
    "    print(l1, l2)\n"
   ]
  },
  {
   "cell_type": "markdown",
   "metadata": {
    "slideshow": {
     "slide_type": "slide"
    }
   },
   "source": [
    "**Ejercicio**: Cambia el parametro `weights` y vuelve a ejecutar el código\n",
    "para ver el efecto en el resultado. Usa `None` (El valor por defecto)\n",
    "para indicar que no quieres usar pesos."
   ]
  },
  {
   "cell_type": "code",
   "execution_count": 24,
   "metadata": {},
   "outputs": [
    {
     "name": "stdout",
     "output_type": "stream",
     "text": [
      "A A\n",
      "A C\n",
      "A A\n",
      "A A\n",
      "B A\n",
      "B A\n",
      "B A\n",
      "B C\n",
      "B B\n",
      "A B\n"
     ]
    }
   ],
   "source": [
    "import random\n",
    "\n",
    "for _ in range(10):\n",
    "    l1, l2 = random.choices('ABC', weights=[50, 25, 25], k=2) #si hacemos que los pesos sumen 100, estaremos haciendo un %\n",
    "    print(l1, l2)"
   ]
  },
  {
   "cell_type": "markdown",
   "metadata": {
    "slideshow": {
     "slide_type": "slide"
    }
   },
   "source": [
    "Si usamos el parametro `cum_weights`, se entiende que son pesos acumulados. En nuestro\n",
    "ejemplo anterior, los pesos 4, 2, 1 son equivalentes a usar los pesos acumulados 4, 6, 7:\n",
    "\n",
    "$$  6 = 4 + 2 $$\n",
    "$$  7 = 4 + 2 + 1 $$"
   ]
  },
  {
   "cell_type": "markdown",
   "metadata": {
    "slideshow": {
     "slide_type": "slide"
    }
   },
   "source": [
    "Internamente, siempre se usan los valores acumulados, es decir, que si\n",
    "usamod `weight`, la función calculará por su cuenta los valores\n",
    "acumulados. Por tanto, de ser posible, es mejor pasar pesos acumulados si los \n",
    "hemos calculado previamente o si los podemos conseguir\n",
    "ya en esa forma, ya que nos evitamos hacer el trabajo dos veces.\n",
    "\n",
    "Si no se indica ningún tipo de pesos, se usara la misma probabilidad para\n",
    "todos los elementos."
   ]
  },
  {
   "cell_type": "markdown",
   "metadata": {
    "slideshow": {
     "slide_type": "slide"
    }
   },
   "source": [
    "### La función sample\n",
    "\n",
    "- `random.sample(population, k)`\n",
    "\n",
    "Devuelve una lista de `k` elementos, elegidos al azar dentro de los elementos\n",
    "contenidos en `population` (normalmente una lista o un conjunto), pero no se\n",
    "realiza reemplazo, asi que no se repiten elementos (a no ser que el elemento\n",
    "en si esté duplicado en `population`."
   ]
  },
  {
   "cell_type": "markdown",
   "metadata": {
    "slideshow": {
     "slide_type": "slide"
    }
   },
   "source": [
    "Si se usa un tamaño de la muestra, `K`, mayor que el numero de elementos en\n",
    "la población, se producirá un error."
   ]
  },
  {
   "cell_type": "markdown",
   "metadata": {
    "slideshow": {
     "slide_type": "slide"
    }
   },
   "source": [
    "**Ejercicio**: Hacer una funcion que acepte una lista de 5 cartas y devuelva\n",
    "tres, al azar. Como estamos simulando un juego de cartas, no hay reemplazo.\n",
    "Las cartas se simulan con cadenas de texto, el primer caracter representa el\n",
    "palo: (`D` para diamantes, `P` para picas, `T` para tréboles y `C` para corazones), el resto\n",
    "representa al valor (`A`, `2`, `3`,...`10`, `J`, `Q`, `K`)."
   ]
  },
  {
   "cell_type": "markdown",
   "metadata": {
    "slideshow": {
     "slide_type": "slide"
    }
   },
   "source": [
    "Es decir, la cadena `'TA'` sería el As de tréboles, `'C5'` el Cinco de\n",
    "corazones, `'DQ'` la Reina de diamantes."
   ]
  },
  {
   "cell_type": "code",
<<<<<<< HEAD
   "execution_count": 31,
   "metadata": {},
=======
   "execution_count": 40,
   "metadata": {
    "slideshow": {
     "slide_type": "slide"
    }
   },
>>>>>>> 5f6a951a07f3000fa6b289b6e781b99f0e4979bf
   "outputs": [
    {
     "name": "stdout",
     "output_type": "stream",
     "text": [
<<<<<<< HEAD
      "['P10', 'DQ', 'C5']\n"
=======
      "['TA', 'P10', 'D3']\n"
>>>>>>> 5f6a951a07f3000fa6b289b6e781b99f0e4979bf
     ]
    }
   ],
   "source": [
    "import random\n",
    "\n",
    "\n",
    "def elige_tres(cartas):\n",
    "    return random.sample(cartas, k=3)\n",
<<<<<<< HEAD
=======
    "\n",
>>>>>>> 5f6a951a07f3000fa6b289b6e781b99f0e4979bf
    "\n",
    "mano = ['TA', 'C5', 'DQ', 'P10', 'D3']    \n",
    "print(elige_tres(mano))"
   ]
  },
  {
   "cell_type": "markdown",
   "metadata": {
    "slideshow": {
     "slide_type": "slide"
    }
   },
   "source": [
    "### La función randrange\n",
    "\n",
    "- `random.randrange(start, stop[, step])`\n",
    "\n",
    "Devuelve un valor seleccionado dentro del rango definido por los parámetros\n",
    "`start`, `stop` y `step`. Como su inspiración es la función `range` normal, el último\n",
    "valor, definido por `stop`, esta fuera del conjunto de valores posibles."
   ]
  },
  {
   "cell_type": "markdown",
   "metadata": {
    "slideshow": {
     "slide_type": "slide"
    }
   },
   "source": [
    "Es equivalente a hacer `choice(range(start, stop, step))`, pero mucho más eficiente\n",
    "porque no genera realmente todos los valores del rango."
   ]
  },
  {
   "cell_type": "markdown",
   "metadata": {
    "slideshow": {
     "slide_type": "slide"
    }
   },
   "source": [
    "**Ejercicio**: Usar `randrange` para devolver un numero entre -20 y 20, ambos extremos incluido."
   ]
  },
  {
   "cell_type": "code",
<<<<<<< HEAD
   "execution_count": 35,
   "metadata": {},
=======
   "execution_count": 67,
   "metadata": {
    "slideshow": {
     "slide_type": "fragment"
    }
   },
>>>>>>> 5f6a951a07f3000fa6b289b6e781b99f0e4979bf
   "outputs": [
    {
     "data": {
      "text/plain": [
<<<<<<< HEAD
       "15"
      ]
     },
     "execution_count": 35,
=======
       "13"
      ]
     },
     "execution_count": 67,
>>>>>>> 5f6a951a07f3000fa6b289b6e781b99f0e4979bf
     "metadata": {},
     "output_type": "execute_result"
    }
   ],
   "source": [
<<<<<<< HEAD
    "import random\n",
    "\n",
=======
>>>>>>> 5f6a951a07f3000fa6b289b6e781b99f0e4979bf
    "random.randrange(-20, 21)"
   ]
  },
  {
   "cell_type": "code",
   "execution_count": null,
   "metadata": {
    "slideshow": {
     "slide_type": "slide"
    }
   },
   "outputs": [],
   "source": [
    "# %load usar-randrange.py\n",
    "import random\n",
    "\n",
    "print(random.randrange(-20, 21))\n"
   ]
  },
  {
   "cell_type": "markdown",
   "metadata": {
    "slideshow": {
     "slide_type": "slide"
    }
   },
   "source": [
    "### La funcion randint\n",
    "\n",
    "- `random.randint(a, b)`\n",
    "\n",
    "Si preferimos indicar el rango _incluyendo_ el valor final, podemos usar `randit`. `randint(a, b)`\n",
    "es equivalente a `randrange(a, b+1)`.\n",
    "\n",
    "Usando randit, el ejmplo anterior seria `randint(-20, 20)`"
   ]
  },
  {
   "cell_type": "markdown",
   "metadata": {
    "slideshow": {
     "slide_type": "slide"
    }
   },
   "source": [
    "### La función shuffle\n",
    "\n",
    "- `random.shuffle(x[, random])`\n",
    "\n",
    "Baraja la secuencia (internamente, es decir, no genera una\n",
    "nueva secuencia).\n",
    "\n",
    "Nota: El argumento opcional `random` es una\n",
    "función sin argumentos que devuelve un número en coma flotante\n",
    "en el intervalo `[0.0, 1.0)` y por defecto se usará `random()`."
   ]
  },
  {
   "cell_type": "markdown",
   "metadata": {
    "slideshow": {
     "slide_type": "slide"
    }
   },
   "source": [
    "**Ejercicio**: Dada la secuencia de cartas que podemos encontrar en la variable `baraja`, desordenarla y mostrar\n",
    "las 5 primeras"
   ]
  },
  {
   "cell_type": "code",
<<<<<<< HEAD
   "execution_count": 37,
   "metadata": {},
=======
   "execution_count": 12,
   "metadata": {
    "slideshow": {
     "slide_type": "slide"
    }
   },
>>>>>>> 5f6a951a07f3000fa6b289b6e781b99f0e4979bf
   "outputs": [],
   "source": [
    "baraja = [\n",
    "    'CA', 'C2', 'C3', 'C4', 'C5', 'C6', 'C7', 'C8', 'C9', 'C10', 'CJ', 'CQ', 'CK',\n",
    "    'RA', 'R2', 'R3', 'R4', 'R5', 'R6', 'R7', 'R8', 'R9', 'R10', 'RJ', 'RQ', 'RK',\n",
    "    'TA', 'T2', 'T3', 'T4', 'T5', 'T6', 'T7', 'T8', 'T9', 'T10', 'TJ', 'TQ', 'TK',\n",
    "    'PA', 'P2', 'P3', 'P4', 'P5', 'P6', 'P7', 'P8', 'P9', 'P10', 'PJ', 'PQ', 'PK'\n",
    "]"
   ]
  },
  {
   "cell_type": "code",
<<<<<<< HEAD
   "execution_count": 44,
   "metadata": {},
=======
   "execution_count": 80,
   "metadata": {
    "slideshow": {
     "slide_type": "slide"
    }
   },
>>>>>>> 5f6a951a07f3000fa6b289b6e781b99f0e4979bf
   "outputs": [
    {
     "name": "stdout",
     "output_type": "stream",
     "text": [
<<<<<<< HEAD
      "['C6', 'C7', 'PJ', 'PK', 'C4']\n"
     ]
    }
   ],
   "source": [
    "random.shuffle(baraja)\n",
    "print(baraja[0:5])"
   ]
  },
  {
   "cell_type": "code",
   "execution_count": 11,
   "metadata": {},
   "outputs": [],
=======
      "['C5', 'P8', 'RQ', 'T3', 'C2']\n"
     ]
    }
   ],
>>>>>>> 5f6a951a07f3000fa6b289b6e781b99f0e4979bf
   "source": [
    "# %load baraja.py\n",
    "import random\n",
    "\n",
    "baraja = [\n",
    "    'CA', 'C2', 'C3', 'C4', 'C5', 'C6', 'C7', 'C8', 'C9', 'C10', 'CJ', 'CQ', 'CK',\n",
    "    'RA', 'R2', 'R3', 'R4', 'R5', 'R6', 'R7', 'R8', 'R9', 'R10', 'RJ', 'RQ', 'RK',\n",
    "    'TA', 'T2', 'T3', 'T4', 'T5', 'T6', 'T7', 'T8', 'T9', 'T10', 'TJ', 'TQ', 'TK',\n",
    "    'PA', 'P2', 'P3', 'P4', 'P5', 'P6', 'P7', 'P8', 'P9', 'P10', 'PJ', 'PQ', 'PK'\n",
    "]\n",
    "\n",
    "random.shuffle(baraja)\n",
    "print(baraja[0:5])\n"
   ]
  },
  {
   "cell_type": "markdown",
   "metadata": {
    "slideshow": {
     "slide_type": "slide"
    }
   },
   "source": [
    "## Distribucions"
   ]
  },
  {
   "cell_type": "markdown",
   "metadata": {
    "slideshow": {
     "slide_type": "slide"
    }
   },
   "source": [
    "### La función uniform\n",
    "\n",
    "- `random.uniform(a, b)`\n",
    "\n",
    "Devuelve un valor $n$ en coma flotante al azar, de forma que:\n",
    "\n",
    "   $$ a <= n <= b $$\n",
    "   \n",
    "En esta distribución, el valor final `b` puede estar incluido en el resultado."
   ]
  },
  {
   "cell_type": "code",
   "execution_count": 55,
   "metadata": {},
   "outputs": [
    {
     "data": {
      "text/plain": [
       "5.852427343476971"
      ]
     },
     "execution_count": 55,
     "metadata": {},
     "output_type": "execute_result"
    }
   ],
   "source": [
    "random.uniform(1,6)"
   ]
  },
  {
   "cell_type": "markdown",
   "metadata": {
    "slideshow": {
     "slide_type": "slide"
    }
   },
   "source": [
    "La función paretovariate\n",
    "\n",
    "- `random.paretovariate(alpha)`\n",
    "\n",
    "La distribución de Pareto distribution. Esta distribución se conoce generalmente \n",
    "como principio de Pareto, o \"regla de 80-20\". Esta regla dice, por ejemplo, que el 80%\n",
    "de la riqueza de una sociedad es propiedad del 20% de la población. Sin embargo, no debe\n",
    "confundirse esta regla con la distribución general, ya que la segunda solo produce este\n",
    "resultado para un valor muy concreto del parámetro `alpha`:\n",
    "\n",
    "$$ \\alpha = \\log_4(5) = 1.16 $$\n",
    "\n",
    "Aunque $\\alpha$ es variable, observaciones empiricas hen encontrado que la distribución \n",
    "80-20 se corresponde con un amplio número de casos, incluyendo fenómenos naturales y actividades\n",
    "humanas. A pesar de esto, es solo una observación y no una ley de la naturaleza."
   ]
  },
  {
   "cell_type": "markdown",
   "metadata": {
    "slideshow": {
     "slide_type": "slide"
    }
   },
   "source": [
    "### La funcion gauss\n",
    "\n",
    "- `random.gauss(mu, sigma)`\n",
    "\n",
    "Produce resultados al azar siguiente la [Distribución normal o de Gauss](https://es.wikipedia.org/wiki/Distribuci%C3%B3n_normal). ``mu`` es la media, ``sigma``\n",
    " es la desviación estandar. Llamando a esta función nos devuelve\n",
    " valores que siguen la distribución en campana o de gauss. \n",
    " "
   ]
  },
  {
   "cell_type": "markdown",
   "metadata": {
    "slideshow": {
     "slide_type": "slide"
    }
   },
   "source": [
    "La distribución normal es muy útil porque aparece constantemente en la naturaleza, en\n",
    "procesos industriales, en la sociedad, etc. puesto que representa el comportamiento de\n",
    "los valores de ciertas variables, cuyas variaciones son influenciadas por fenómenos\n",
<<<<<<< HEAD
    "aleatorios. Sirve para simular\n"
=======
    "aleatorios.Sirve para simular"
>>>>>>> 5f6a951a07f3000fa6b289b6e781b99f0e4979bf
   ]
  },
  {
   "cell_type": "markdown",
   "metadata": {
    "slideshow": {
     "slide_type": "slide"
    }
   },
   "source": [
    "**Miniproyecto** En __Tornillos Я Us__, la fábrica de tornillos en la que trabajamos, el departament0 de calidad\n",
    "ha descubierto que para los tornillos de 10mm, la desviación estandar en nuestra producción\n",
    "actual es de 0.0245. Escribe un simulador para producir 10 muestras ficticias con estos\n",
    "parámetros (media=$10$, sigma=$0.0245$)"
   ]
  },
  {
   "cell_type": "code",
<<<<<<< HEAD
   "execution_count": 66,
   "metadata": {},
=======
   "execution_count": 93,
   "metadata": {
    "slideshow": {
     "slide_type": "slide"
    }
   },
>>>>>>> 5f6a951a07f3000fa6b289b6e781b99f0e4979bf
   "outputs": [
    {
     "name": "stdout",
     "output_type": "stream",
     "text": [
<<<<<<< HEAD
      "9.97551598408189\n",
      "9.95349244636702\n",
      "9.997209679329142\n",
      "10.00174618640738\n",
      "10.032477946470197\n",
      "9.993975371263279\n",
      "10.00371090051902\n",
      "9.975248496059084\n",
      "10.000289355810503\n",
      "9.990324095250354\n"
     ]
    }
   ],
   "source": [
    "import random\n",
    "\n",
    "for _ in range(10):\n",
    "    print(random.gauss(10, 0.0245))"
   ]
  },
  {
   "cell_type": "code",
   "execution_count": 56,
   "metadata": {},
   "outputs": [],
=======
      "10.054001632910511\n",
      "10.014513580894718\n",
      "10.029953358051818\n",
      "10.022702732293087\n",
      "9.987283158460919\n",
      "9.99967900163967\n",
      "9.976905815567324\n",
      "10.011451483499265\n",
      "9.990224322821511\n",
      "10.017752627306566\n"
     ]
    }
   ],
>>>>>>> 5f6a951a07f3000fa6b289b6e781b99f0e4979bf
   "source": [
    "# %load tornillos.py\n",
    "import random\n",
    "\n",
    "def simula_tornillo():\n",
    "    MEDIA = 10.0\n",
    "    SIGMA = 0.0245\n",
    "    # return random.uniform(9.5, 10.5)\n",
    "    return random.gauss(MEDIA, SIGMA)\n",
    "\n",
    "for i in range(10):\n",
    "    print(simula_tornillo())\n"
   ]
  },
  {
   "cell_type": "code",
<<<<<<< HEAD
   "execution_count": 68,
   "metadata": {},
=======
   "execution_count": 94,
   "metadata": {
    "slideshow": {
     "slide_type": "slide"
    }
   },
>>>>>>> 5f6a951a07f3000fa6b289b6e781b99f0e4979bf
   "outputs": [
    {
     "name": "stdout",
     "output_type": "stream",
     "text": [
<<<<<<< HEAD
      "Collecting matplotlib\n",
      "  Downloading https://files.pythonhosted.org/packages/93/4b/52da6b1523d5139d04e02d9e26ceda6146b48f2a4e5d2abfdf1c7bac8c40/matplotlib-3.2.1-cp36-cp36m-manylinux1_x86_64.whl (12.4MB)\n",
      "\u001b[K    100% |████████████████████████████████| 12.4MB 150kB/s eta 0:00:01\n",
      "\u001b[?25hCollecting kiwisolver>=1.0.1 (from matplotlib)\n",
      "  Downloading https://files.pythonhosted.org/packages/ae/23/147de658aabbf968324551ea22c0c13a00284c4ef49a77002e91f79657b7/kiwisolver-1.2.0-cp36-cp36m-manylinux1_x86_64.whl (88kB)\n",
      "\u001b[K    100% |████████████████████████████████| 92kB 10.5MB/s ta 0:00:01\n",
      "\u001b[?25hCollecting numpy>=1.11 (from matplotlib)\n",
      "  Downloading https://files.pythonhosted.org/packages/3d/fc/4763e5f17ac6e7e7d55f377cde859ca1c5d5ac624441ab45315bc578aa9e/numpy-1.18.3-cp36-cp36m-manylinux1_x86_64.whl (20.2MB)\n",
      "\u001b[K    100% |████████████████████████████████| 20.2MB 91kB/s  eta 0:00:011\n",
      "\u001b[?25hCollecting python-dateutil>=2.1 (from matplotlib)\n",
      "  Using cached https://files.pythonhosted.org/packages/d4/70/d60450c3dd48ef87586924207ae8907090de0b306af2bce5d134d78615cb/python_dateutil-2.8.1-py2.py3-none-any.whl\n",
      "Collecting cycler>=0.10 (from matplotlib)\n",
      "  Downloading https://files.pythonhosted.org/packages/f7/d2/e07d3ebb2bd7af696440ce7e754c59dd546ffe1bbe732c8ab68b9c834e61/cycler-0.10.0-py2.py3-none-any.whl\n",
      "Collecting pyparsing!=2.0.4,!=2.1.2,!=2.1.6,>=2.0.1 (from matplotlib)\n",
      "  Downloading https://files.pythonhosted.org/packages/8a/bb/488841f56197b13700afd5658fc279a2025a39e22449b7cf29864669b15d/pyparsing-2.4.7-py2.py3-none-any.whl (67kB)\n",
      "\u001b[K    100% |████████████████████████████████| 71kB 3.7MB/s eta 0:00:01\n",
      "\u001b[?25hCollecting six>=1.5 (from python-dateutil>=2.1->matplotlib)\n",
      "  Using cached https://files.pythonhosted.org/packages/65/eb/1f97cb97bfc2390a276969c6fae16075da282f5058082d4cb10c6c5c1dba/six-1.14.0-py2.py3-none-any.whl\n",
      "Installing collected packages: kiwisolver, numpy, six, python-dateutil, cycler, pyparsing, matplotlib\n",
      "Successfully installed cycler-0.10.0 kiwisolver-1.2.0 matplotlib-3.2.1 numpy-1.18.3 pyparsing-2.4.7 python-dateutil-2.8.1 six-1.14.0\n"
=======
      "Requirement already satisfied: matplotlib in /home/jileon/.virtualenvs/eoi/lib/python3.6/site-packages (3.2.1)\r\n",
      "Requirement already satisfied: pyparsing!=2.0.4,!=2.1.2,!=2.1.6,>=2.0.1 in /home/jileon/.virtualenvs/eoi/lib/python3.6/site-packages (from matplotlib) (2.4.6)\r\n",
      "Requirement already satisfied: cycler>=0.10 in /home/jileon/.virtualenvs/eoi/lib/python3.6/site-packages (from matplotlib) (0.10.0)\r\n",
      "Requirement already satisfied: python-dateutil>=2.1 in /home/jileon/.virtualenvs/eoi/lib/python3.6/site-packages (from matplotlib) (2.8.1)\r\n",
      "Requirement already satisfied: numpy>=1.11 in /home/jileon/.virtualenvs/eoi/lib/python3.6/site-packages (from matplotlib) (1.18.2)\r\n",
      "Requirement already satisfied: kiwisolver>=1.0.1 in /home/jileon/.virtualenvs/eoi/lib/python3.6/site-packages (from matplotlib) (1.2.0)\r\n",
      "Requirement already satisfied: six in /home/jileon/.virtualenvs/eoi/lib/python3.6/site-packages (from cycler>=0.10->matplotlib) (1.14.0)\r\n"
>>>>>>> 5f6a951a07f3000fa6b289b6e781b99f0e4979bf
     ]
    }
   ],
   "source": [
<<<<<<< HEAD
    "!pip3 install matplotlib"
=======
    "!pip install matplotlib"
>>>>>>> 5f6a951a07f3000fa6b289b6e781b99f0e4979bf
   ]
  },
  {
   "cell_type": "code",
<<<<<<< HEAD
   "execution_count": 72,
   "metadata": {},
   "outputs": [
    {
     "data": {
      "image/png": "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\n",
=======
   "execution_count": 115,
   "metadata": {
    "slideshow": {
     "slide_type": "slide"
    }
   },
   "outputs": [
    {
     "data": {
      "image/png": "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\n",
>>>>>>> 5f6a951a07f3000fa6b289b6e781b99f0e4979bf
      "text/plain": [
       "<Figure size 432x288 with 1 Axes>"
      ]
     },
     "metadata": {
      "needs_background": "light"
     },
     "output_type": "display_data"
    }
   ],
   "source": [
    "import matplotlib.pyplot as plt\n",
    "import random\n",
    "\n",
    "simulation = [random.gauss(10, 0.0245) for _ in range(10000)]\n",
<<<<<<< HEAD
    "#simulation = [random.uniform(9.5, 0.0245) for _ in range(10000)]\n",
    "plt.hist(simulation, bins=25)\n",
=======
    "# simulation = [random.uniform(9.9, 10.1) for _ in range(10000)]\n",
    "min(simulation), max(simulation)\n",
    "plt.hist(simulation, bins=80, color=\"#888888\")\n",
>>>>>>> 5f6a951a07f3000fa6b289b6e781b99f0e4979bf
    "plt.show()"
   ]
  },
  {
   "cell_type": "code",
   "execution_count": 73,
   "metadata": {},
   "outputs": [],
   "source": [
    "#!pip3 uninstall matplotlib"
   ]
  }
 ],
 "metadata": {
  "celltoolbar": "Slideshow",
  "kernelspec": {
   "display_name": "Python 3",
   "language": "python",
   "name": "python3"
  },
  "language_info": {
   "codemirror_mode": {
    "name": "ipython",
    "version": 3
   },
   "file_extension": ".py",
   "mimetype": "text/x-python",
   "name": "python",
   "nbconvert_exporter": "python",
   "pygments_lexer": "ipython3",
   "version": "3.8.0"
  }
 },
 "nbformat": 4,
 "nbformat_minor": 4
}
