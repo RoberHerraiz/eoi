{
 "cells": [
  {
   "cell_type": "markdown",
   "metadata": {
    "slideshow": {
     "slide_type": "slide"
    }
   },
   "source": [
    "### La Librería random\n",
    "\n",
    "Generador de números aleatorias"
   ]
  },
  {
   "cell_type": "markdown",
   "metadata": {
    "slideshow": {
     "slide_type": "slide"
    }
   },
   "source": [
    "Este módulo implementa generadores de números pseudo-aleatorios\n",
    "para distintas distribucines. "
   ]
  },
  {
   "cell_type": "markdown",
   "metadata": {
    "slideshow": {
     "slide_type": "slide"
    }
   },
   "source": [
    "Para enteros, podemos hacer\n",
    "una selección uniforme dentro de un rango; para secuencias, una\n",
    "selección uniforme de un elemento. Podemos reordenar al azar -barajar- \n",
    "una secuencia y obtener muestras al azar."
   ]
  },
  {
   "cell_type": "markdown",
   "metadata": {
    "slideshow": {
     "slide_type": "slide"
    }
   },
   "source": [
    "También podemos trabajar con distintas distribucions: En este tema\n",
    "veremos distribuciones uniformes, normales (Gauss) y de pareto, pero el\n",
    "módulo incluye también las distribuciones logarítmica normal, exponencial\n",
    "negativa, y distribuciones gamma y beta."
   ]
  },
  {
   "cell_type": "markdown",
   "metadata": {
    "slideshow": {
     "slide_type": "slide"
    }
   },
   "source": [
    "### La funcion `random`\n",
    "\n",
    "Casi todas las funciones dependen de la función básica ``random()``, que\n",
    "genera un numero al azar en el intervalo semiabierto [0.0, 1.0)."
   ]
  },
  {
   "cell_type": "code",
   "execution_count": 5,
   "metadata": {
    "slideshow": {
     "slide_type": "slide"
    }
   },
   "outputs": [
    {
     "name": "stdout",
     "output_type": "stream",
     "text": [
      "0.8345203822171855\n",
      "0.11779763673887567\n",
      "0.5589776920663782\n"
     ]
    }
   ],
   "source": [
    "import random\n",
    "\n",
    "for _ in range(3):\n",
    "    print(random.random())"
   ]
  },
  {
   "cell_type": "markdown",
   "metadata": {
    "slideshow": {
     "slide_type": "slide"
    }
   },
   "source": [
    "Normalmente no usaremos directamente esta función -aunque podemos- porque\n",
    "hay otras funciones auxiliares, que eventualmente acabarán llamando a\n",
    "esta, pero a nosotros nos resultan más convenientes."
   ]
  },
  {
   "cell_type": "markdown",
   "metadata": {
    "slideshow": {
     "slide_type": "slide"
    }
   },
   "source": [
    "### la funcion `seed`\n",
    "\n",
    "- `random.seed([x])`"
   ]
  },
  {
   "cell_type": "markdown",
   "metadata": {
    "slideshow": {
     "slide_type": "slide"
    }
   },
   "source": [
    "Inicializa el generador de números con un determinado valor.\n",
    "Si se omite, se usa un valor obtenido a partir de la fecha y\n",
    "hora actual, pero si se especifica una semilla, la secuencia\n",
    "de numeros generada a partir de ahi siempre sera la misma, lo que nos\n",
    "permite producir secuencias predecibles."
   ]
  },
  {
   "cell_type": "code",
   "execution_count": 6,
   "metadata": {
    "slideshow": {
     "slide_type": "slide"
    }
   },
   "outputs": [
    {
     "name": "stdout",
     "output_type": "stream",
     "text": [
      "0.5496842526267491 0.7956055672331934 0.6592334632256923\n",
      "0.5496842526267491 0.7956055672331934 0.6592334632256923\n"
     ]
    }
   ],
   "source": [
    "import random\n",
    "\n",
    "random.seed(1024920)\n",
    "print(random.random(), random.random(), random.random())\n",
    "\n",
    "random.seed(1024920)\n",
    "print(random.random(), random.random(), random.random())\n"
   ]
  },
  {
   "cell_type": "markdown",
   "metadata": {
    "slideshow": {
     "slide_type": "slide"
    }
   },
   "source": [
    "### La función choice\n",
    "\n",
    "- `random.choice(seq)`\n",
    "\n",
    "Dada una sequencia de elementos que se la pasa como parámetro, devuelve una de ellas\n",
    "al azar. Si `seq` está vacio, eleva una excepción.\n",
    "\n"
   ]
  },
  {
   "cell_type": "code",
   "execution_count": 11,
   "metadata": {
    "slideshow": {
     "slide_type": "slide"
    }
   },
   "outputs": [
    {
     "name": "stdout",
     "output_type": "stream",
     "text": [
      "F\n",
      "Q\n",
      "T\n"
     ]
    }
   ],
   "source": [
    "random.seed()\n",
    "for _ in range(3):\n",
    "    print(random.choice('ABCDEFGHIJKLMNOPQRSTUVWXYZ'))"
   ]
  },
  {
   "cell_type": "markdown",
   "metadata": {
    "slideshow": {
     "slide_type": "slide"
    }
   },
   "source": [
    "**Ejercicio**: Escribir una función para jugar con al Piedra, papel, tijera, que muestre uno\n",
    "    de estos elementos al azar cada vez que se le llama."
   ]
  },
  {
   "cell_type": "code",
   "execution_count": 19,
   "metadata": {
    "slideshow": {
     "slide_type": "slide"
    }
   },
   "outputs": [
    {
     "name": "stdout",
     "output_type": "stream",
     "text": [
      "piedra\n"
     ]
    }
   ],
   "source": [
    "def juego():\n",
    "    item = ['piedra','papel','tijera']\n",
    "    print(random.choice(item))\n",
    "    \n",
    "juego()"
   ]
  },
  {
   "cell_type": "markdown",
   "metadata": {
    "slideshow": {
     "slide_type": "slide"
    }
   },
   "source": [
    "### La función choices\n",
    "\n",
    "- `random.choices(population, weights=None, *, cum_weights=None, k=1)`\n",
    "\n",
    "Devuelve una lista de `k` elementos, seleccionados al azar de los que le pasemos\n",
    "en la variable `population`. Esta seleccion se realiza con reemplazo, asi que podemos\n",
    "en principio obtener el mismo valor varias veces."
   ]
  },
  {
   "cell_type": "markdown",
   "metadata": {
    "slideshow": {
     "slide_type": "slide"
    }
   },
   "source": [
    "Si se especifica los pesos con el parámetro `weights`, la seleccion se realizará\n",
    "teniendo en cuenta dichos pesos. Es decir, que `random.choices('ABC', weights=[4, 2, 1], k=2)`\n",
    "nos devolveria dos letras del conjunto [`A`, `B`, `C`], pero la `A` aparecera con una\n",
    "frecuencia doble que la de `B`, y la `B` a su vez aparecerá con una frecuencia doble que la\n",
    "de `C` (Y, por tanto, la frecuencia de `A` sera 4 veces la de `C`, o lo que es lo mismo, aparecera una `C` aproximandamente cada 4 `A`."
   ]
  },
  {
   "cell_type": "code",
   "execution_count": 37,
   "metadata": {
    "slideshow": {
     "slide_type": "slide"
    }
   },
   "outputs": [
    {
     "name": "stdout",
     "output_type": "stream",
     "text": [
      "A A\n",
      "A A\n",
      "A A\n",
      "A A\n",
      "A A\n",
      "B A\n",
      "B A\n",
      "B A\n",
      "C A\n",
      "C B\n"
     ]
    }
   ],
   "source": [
    "for _ in range(10):\n",
    "    l1, l2 = random.choices('ABC', cum_weights=[4, 6, 7], k=2)\n",
    "    print(l1, l2)\n"
   ]
  },
  {
   "cell_type": "markdown",
   "metadata": {
    "slideshow": {
     "slide_type": "slide"
    }
   },
   "source": [
    "**Ejercicio**: Cambia el parametro `weights` y vuelve a ejecutar el código\n",
    "para ver el efecto en el resultado. Usa `None` (El valor por defecto)\n",
    "para indicar que no quieres usar pesos."
   ]
  },
  {
   "cell_type": "markdown",
   "metadata": {
    "slideshow": {
     "slide_type": "slide"
    }
   },
   "source": [
    "Si usamos el parametro `cum_weights`, se entiende que son pesos acumulados. En nuestro\n",
    "ejemplo anterior, los pesos 4, 2, 1 son equivalentes a usar los pesos acumulados 4, 6, 7:\n",
    "\n",
    "$$  6 = 4 + 2 $$\n",
    "$$  7 = 4 + 2 + 1 $$"
   ]
  },
  {
   "cell_type": "markdown",
   "metadata": {
    "slideshow": {
     "slide_type": "slide"
    }
   },
   "source": [
    "Internamente, siempre se usan los valores acumulados, es decir, que si\n",
    "usamod `weight`, la función calculará por su cuenta los valores\n",
    "acumulados. Por tanto, de ser posible, es mejor pasar pesos acumulados si los \n",
    "hemos calculado previamente o si los podemos conseguir\n",
    "ya en esa forma, ya que nos evitamos hacer el trabajo dos veces.\n",
    "\n",
    "Si no se indica ningún tipo de pesos, se usara la misma probabilidad para\n",
    "todos los elementos."
   ]
  },
  {
   "cell_type": "markdown",
   "metadata": {
    "slideshow": {
     "slide_type": "slide"
    }
   },
   "source": [
    "### La función sample\n",
    "\n",
    "- `random.sample(population, k)`\n",
    "\n",
    "Devuelve una lista de `k` elementos, elegidos al azar dentro de los elementos\n",
    "contenidos en `population` (normalmente una lista o un conjunto), pero no se\n",
    "realiza reemplazo, asi que no se repiten elementos (a no ser que el elemento\n",
    "en si esté duplicado en `population`."
   ]
  },
  {
   "cell_type": "markdown",
   "metadata": {
    "slideshow": {
     "slide_type": "slide"
    }
   },
   "source": [
    "Si se usa un tamaño de la muestra, `K`, mayor que el numero de elementos en\n",
    "la población, se producirá un error."
   ]
  },
  {
   "cell_type": "markdown",
   "metadata": {
    "slideshow": {
     "slide_type": "slide"
    }
   },
   "source": [
    "**Ejercicio**: Hacer una funcion que acepte una lista de 5 cartas y devuelva\n",
    "tres, al azar. Como estamos simulando un juego de cartas, no hay reemplazo.\n",
    "Las cartas se simulan con cadenas de texto, el primer caracter representa el\n",
    "palo: (`D` para diamantes, `P` para picas, `T` para tréboles y `C` para corazones), el resto\n",
    "representa al valor (`A`, `2`, `3`,...`10`, `J`, `Q`, `K`)."
   ]
  },
  {
   "cell_type": "markdown",
   "metadata": {
    "slideshow": {
     "slide_type": "slide"
    }
   },
   "source": [
    "Es decir, la cadena `'TA'` sería el As de tréboles, `'C5'` el Cinco de\n",
    "corazones, `'DQ'` la Reina de diamantes."
   ]
  },
  {
   "cell_type": "code",
   "execution_count": 40,
   "metadata": {
    "slideshow": {
     "slide_type": "slide"
    }
   },
   "outputs": [
    {
     "name": "stdout",
     "output_type": "stream",
     "text": [
      "['TA', 'P10', 'D3']\n"
     ]
    }
   ],
   "source": [
    "import random\n",
    "\n",
    "\n",
    "def elige_tres(cartas):\n",
    "    return random.sample(cartas, k=3)\n",
    "\n",
    "\n",
    "mano = ['TA', 'C5', 'DQ', 'P10', 'D3']    \n",
    "print(elige_tres(mano))"
   ]
  },
  {
   "cell_type": "markdown",
   "metadata": {
    "slideshow": {
     "slide_type": "slide"
    }
   },
   "source": [
    "### La función randrange\n",
    "\n",
    "- `random.randrange(start, stop[, step])`\n",
    "\n",
    "Devuelve un valor seleccionado dentro del rango definido por los parámetros\n",
    "`start`, `stop` y `step`. Como su inspiración es la función `range` normal, el último\n",
    "valor, definido por `stop`, esta fuera del conjunto de valores posibles."
   ]
  },
  {
   "cell_type": "markdown",
   "metadata": {
    "slideshow": {
     "slide_type": "slide"
    }
   },
   "source": [
    "Es equivalente a hacer `choice(range(start, stop, step))`, pero mucho más eficiente\n",
    "porque no genera realmente todos los valores del rango."
   ]
  },
  {
   "cell_type": "markdown",
   "metadata": {
    "slideshow": {
     "slide_type": "slide"
    }
   },
   "source": [
    "**Ejercicio**: Usar `randrange` para devolver un numero entre -20 y 20, ambos extremos incluido."
   ]
  },
  {
   "cell_type": "code",
   "execution_count": 67,
   "metadata": {
    "slideshow": {
     "slide_type": "fragment"
    }
   },
   "outputs": [
    {
     "data": {
      "text/plain": [
       "13"
      ]
     },
     "execution_count": 67,
     "metadata": {},
     "output_type": "execute_result"
    }
   ],
   "source": [
    "random.randrange(-20, 21)"
   ]
  },
  {
   "cell_type": "code",
   "execution_count": null,
   "metadata": {
    "slideshow": {
     "slide_type": "slide"
    }
   },
   "outputs": [],
   "source": [
    "# %load usar-randrange.py\n",
    "import random\n",
    "\n",
    "print(random.randrange(-20, 21))\n"
   ]
  },
  {
   "cell_type": "markdown",
   "metadata": {
    "slideshow": {
     "slide_type": "slide"
    }
   },
   "source": [
    "### La funcion randint\n",
    "\n",
    "- `random.randint(a, b)`\n",
    "\n",
    "Si preferimos indicar el rango _incluyendo_ el valor final, podemos usar `randit`. `randint(a, b)`\n",
    "es equivalente a `randrange(a, b+1)`.\n",
    "\n",
    "Usando randit, el ejmplo anterior seria `randint(-20, 20)`"
   ]
  },
  {
   "cell_type": "markdown",
   "metadata": {
    "slideshow": {
     "slide_type": "slide"
    }
   },
   "source": [
    "### La función shuffle\n",
    "\n",
    "- `random.shuffle(x[, random])`\n",
    "\n",
    "Baraja la secuencia (internamente, es decir, no genera una\n",
    "nueva secuencia).\n",
    "\n",
    "Nota: El argumento opcional `random` es una\n",
    "función sin argumentos que devuelve un número en coma flotante\n",
    "en el intervalo `[0.0, 1.0)` y por defecto se usará `random()`."
   ]
  },
  {
   "cell_type": "markdown",
   "metadata": {
    "slideshow": {
     "slide_type": "slide"
    }
   },
   "source": [
    "**Ejercicio**: Dada la secuencia de cartas que podemos encontrar en la variable `baraja`, desordenarla y mostrar\n",
    "las 5 primeras"
   ]
  },
  {
   "cell_type": "code",
   "execution_count": 12,
   "metadata": {
    "slideshow": {
     "slide_type": "slide"
    }
   },
   "outputs": [],
   "source": [
    "baraja = [\n",
    "    'CA', 'C2', 'C3', 'C4', 'C5', 'C6', 'C7', 'C8', 'C9', 'C10', 'CJ', 'CQ', 'CK',\n",
    "    'RA', 'R2', 'R3', 'R4', 'R5', 'R6', 'R7', 'R8', 'R9', 'R10', 'RJ', 'RQ', 'RK',\n",
    "    'TA', 'T2', 'T3', 'T4', 'T5', 'T6', 'T7', 'T8', 'T9', 'T10', 'TJ', 'TQ', 'TK',\n",
    "    'PA', 'P2', 'P3', 'P4', 'P5', 'P6', 'P7', 'P8', 'P9', 'P10', 'PJ', 'PQ', 'PK'\n",
    "]"
   ]
  },
  {
   "cell_type": "code",
   "execution_count": 80,
   "metadata": {
    "slideshow": {
     "slide_type": "slide"
    }
   },
   "outputs": [
    {
     "name": "stdout",
     "output_type": "stream",
     "text": [
      "['C5', 'P8', 'RQ', 'T3', 'C2']\n"
     ]
    }
   ],
   "source": [
    "# %load baraja.py\n",
    "import random\n",
    "\n",
    "baraja = [\n",
    "    'CA', 'C2', 'C3', 'C4', 'C5', 'C6', 'C7', 'C8', 'C9', 'C10', 'CJ', 'CQ', 'CK',\n",
    "    'RA', 'R2', 'R3', 'R4', 'R5', 'R6', 'R7', 'R8', 'R9', 'R10', 'RJ', 'RQ', 'RK',\n",
    "    'TA', 'T2', 'T3', 'T4', 'T5', 'T6', 'T7', 'T8', 'T9', 'T10', 'TJ', 'TQ', 'TK',\n",
    "    'PA', 'P2', 'P3', 'P4', 'P5', 'P6', 'P7', 'P8', 'P9', 'P10', 'PJ', 'PQ', 'PK'\n",
    "]\n",
    "\n",
    "random.shuffle(baraja)\n",
    "print(baraja[0:5])\n"
   ]
  },
  {
   "cell_type": "markdown",
   "metadata": {
    "slideshow": {
     "slide_type": "slide"
    }
   },
   "source": [
    "## Distribucions"
   ]
  },
  {
   "cell_type": "markdown",
   "metadata": {
    "slideshow": {
     "slide_type": "slide"
    }
   },
   "source": [
    "### La función uniform\n",
    "\n",
    "- `random.uniform(a, b)`\n",
    "\n",
    "Devuelve un valor $n$ en coma flotante al azar, de forma que:\n",
    "\n",
    "   $$ a <= n <= b $$\n",
    "   \n",
    "En esta distribución, el valor final `b` puede estar incluido en el resultado."
   ]
  },
  {
   "cell_type": "markdown",
   "metadata": {
    "slideshow": {
     "slide_type": "slide"
    }
   },
   "source": [
    "La función paretovariate\n",
    "\n",
    "- `random.paretovariate(alpha)`\n",
    "\n",
    "La distribución de Pareto Pareto distribution. Esta distribución se conoce generalmente \n",
    "como principio de Pareto, o \"regla de 80-20\". Esta regla dice, por ejemplo, que el 80%\n",
    "de la riqueza de una sociedad es propiedad del 20% de la población. Sin embargo, no debe\n",
    "confundirse esta regla con la distribución general, ya que la segunda solo produce este\n",
    "resultado para un valor muy concreto del paraametro `alpha`:\n",
    "\n",
    "$$ \\alpha = \\log_4(5) = 1.16 $$\n",
    "\n",
    "Aunque $\\alpha$ es variable, observaciones empiricas hen encontrado que la distribución \n",
    "80-20 se corresponde con un amplio número de casos, incluyendo fenómenos naturales y actividades\n",
    "humanas. A pesar de esto, es solo una observación y no una ley de la naturaleza."
   ]
  },
  {
   "cell_type": "markdown",
   "metadata": {
    "slideshow": {
     "slide_type": "slide"
    }
   },
   "source": [
    "### La funcion gauss\n",
    "\n",
    "- `random.gauss(mu, sigma)`\n",
    "\n",
    "Produce resultados al azar siguiente la [Distribución normal o de Gauss](https://es.wikipedia.org/wiki/Distribuci%C3%B3n_normal). ``mu`` es la media, ``sigma``\n",
    " es la desviación estandar. Llamando a esta función nos devuelve\n",
    " valores que siguen la distribución en campana o de gauss. \n",
    " "
   ]
  },
  {
   "cell_type": "markdown",
   "metadata": {
    "slideshow": {
     "slide_type": "slide"
    }
   },
   "source": [
    "La distribución normal es muy útil porque aparece constantemente en la naturaleza, en\n",
    "procesos industriales, en la sociedad, etc. puesto que representa el comportamiento de\n",
    "los valores de ciertas variables, cuyas variaciones son influenciadas por fenómenos\n",
    "aleatorios.Sirve para simular"
   ]
  },
  {
   "cell_type": "markdown",
   "metadata": {
    "slideshow": {
     "slide_type": "slide"
    }
   },
   "source": [
    "**Miniproyecto** En __Tornillos Я Us__, la fábrica de tornillos en la que trabajamos, el departamente de calidad\n",
    "ha descubierto que para los tornillos de 10mm, la desviación estandar en nuestra producción\n",
    "actual es de 0.0245. Escribe un simulador para producir 10 muestras ficticias con estos\n",
    "parámetros (media=$10$, sigma=$0.0245$)"
   ]
  },
  {
   "cell_type": "code",
   "execution_count": 93,
   "metadata": {
    "slideshow": {
     "slide_type": "slide"
    }
   },
   "outputs": [
    {
     "name": "stdout",
     "output_type": "stream",
     "text": [
      "10.054001632910511\n",
      "10.014513580894718\n",
      "10.029953358051818\n",
      "10.022702732293087\n",
      "9.987283158460919\n",
      "9.99967900163967\n",
      "9.976905815567324\n",
      "10.011451483499265\n",
      "9.990224322821511\n",
      "10.017752627306566\n"
     ]
    }
   ],
   "source": [
    "# %load tornillos.py\n",
    "import random\n",
    "\n",
    "def simula_tornillo():\n",
    "    MEDIA = 10.0\n",
    "    SIGMA = 0.0245\n",
    "    # return random.uniform(9.5, 10.5)\n",
    "    return random.gauss(MEDIA, SIGMA)\n",
    "\n",
    "for i in range(10):\n",
    "    print(simula_tornillo())\n"
   ]
  },
  {
   "cell_type": "code",
   "execution_count": 94,
   "metadata": {
    "slideshow": {
     "slide_type": "slide"
    }
   },
   "outputs": [
    {
     "name": "stdout",
     "output_type": "stream",
     "text": [
      "Requirement already satisfied: matplotlib in /home/jileon/.virtualenvs/eoi/lib/python3.6/site-packages (3.2.1)\n",
      "Requirement already satisfied: pyparsing!=2.0.4,!=2.1.2,!=2.1.6,>=2.0.1 in /home/jileon/.virtualenvs/eoi/lib/python3.6/site-packages (from matplotlib) (2.4.6)\n",
      "Requirement already satisfied: cycler>=0.10 in /home/jileon/.virtualenvs/eoi/lib/python3.6/site-packages (from matplotlib) (0.10.0)\n",
      "Requirement already satisfied: python-dateutil>=2.1 in /home/jileon/.virtualenvs/eoi/lib/python3.6/site-packages (from matplotlib) (2.8.1)\n",
      "Requirement already satisfied: numpy>=1.11 in /home/jileon/.virtualenvs/eoi/lib/python3.6/site-packages (from matplotlib) (1.18.2)\n",
      "Requirement already satisfied: kiwisolver>=1.0.1 in /home/jileon/.virtualenvs/eoi/lib/python3.6/site-packages (from matplotlib) (1.2.0)\n",
      "Requirement already satisfied: six in /home/jileon/.virtualenvs/eoi/lib/python3.6/site-packages (from cycler>=0.10->matplotlib) (1.14.0)\n"
     ]
    }
   ],
   "source": [
    "!pip install matplotlib"
   ]
  },
  {
   "cell_type": "code",
   "execution_count": 115,
   "metadata": {
    "slideshow": {
     "slide_type": "slide"
    }
   },
   "outputs": [
    {
     "data": {
      "image/png": "[encoded data removed]",
      "text/plain": [
       "<Figure size 432x288 with 1 Axes>"
      ]
     },
     "metadata": {
      "needs_background": "light"
     },
     "output_type": "display_data"
    }
   ],
   "source": [
    "import matplotlib.pyplot as plt\n",
    "\n",
    "simulation = [random.gauss(10, 0.0245) for _ in range(10000)]\n",
    "# simulation = [random.uniform(9.9, 10.1) for _ in range(10000)]\n",
    "min(simulation), max(simulation)\n",
    "plt.hist(simulation, bins=80, color=\"#888888\")\n",
    "plt.show()"
   ]
  },
  {
   "cell_type": "code",
   "execution_count": null,
   "metadata": {},
   "outputs": [],
   "source": []
  }
 ],
 "metadata": {
  "celltoolbar": "Slideshow",
  "kernelspec": {
   "display_name": "Python 3",
   "language": "python",
   "name": "python3"
  },
  "language_info": {
   "codemirror_mode": {
    "name": "ipython",
    "version": 3
   },
   "file_extension": ".py",
   "mimetype": "text/x-python",
   "name": "python",
   "nbconvert_exporter": "python",
   "pygments_lexer": "ipython3",
   "version": "3.8.2"
  }
 },
 "nbformat": 4,
 "nbformat_minor": 4
}
