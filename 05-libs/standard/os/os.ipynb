{
 "cells": [
  {
   "cell_type": "markdown",
   "metadata": {
    "slideshow": {
     "slide_type": "slide"
    }
   },
   "source": [
    "## La librería os: Llamadas al sistema operativo\n",
    "\n",
    "\n",
    "El módulo __`os`__ da acceso a llamadas del sistema operativo sobre el que se\n",
    "está ejecutando el intérprete de Python."
   ]
  },
  {
   "cell_type": "markdown",
   "metadata": {
    "slideshow": {
     "slide_type": "slide"
    }
   },
   "source": [
    "A nivel de diseño, las llamadas\n",
    "que funcionana en todos los sistemas usan y devuelven la misma interfaz,\n",
    "independiente del S.O. Por ejemplo, la función stat siempre devuelve\n",
    "información sobre un fichero con el mismo formato, independientemente de\n",
    "la plataforma aunque, obviamente, las llamadas realizadas al sistema\n",
    "operativo sean diferentes."
   ]
  },
  {
   "cell_type": "markdown",
   "metadata": {
    "slideshow": {
     "slide_type": "slide"
    }
   },
   "source": [
    "Las funciones que solo están disponibles para un determinado sistema\n",
    "operativo estan en submódulos aparte."
   ]
  },
  {
   "cell_type": "markdown",
   "metadata": {
    "slideshow": {
     "slide_type": "slide"
    }
   },
   "source": [
    "El submodulo `os.path` (cargado automáticamente) incluye funciones de\n",
    "ayuda para trabajar con rutas de archivos."
   ]
  },
  {
   "cell_type": "markdown",
   "metadata": {
    "slideshow": {
     "slide_type": "slide"
    }
   },
   "source": [
    "Algunas de las funciones y atributos de este módulo son:"
   ]
  },
  {
   "cell_type": "markdown",
   "metadata": {
    "slideshow": {
     "slide_type": "slide"
    }
   },
   "source": [
    "-   `os.name` : El nombre del sistema operativo sobre el que se está\n",
    "    ejecutando Python. Algunos valores posibles son posix, nt y java. Si\n",
    "    se desea más información de este tipo, véase también `sys.platform`\n",
    "    y `os.uname`"
   ]
  },
  {
   "cell_type": "markdown",
   "metadata": {
    "slideshow": {
     "slide_type": "slide"
    }
   },
   "source": [
    "Ejercicio: Importar `os` y imprimimos `os.name`"
   ]
  },
  {
   "cell_type": "code",
   "execution_count": 1,
   "metadata": {
    "slideshow": {
     "slide_type": "slide"
    }
   },
   "outputs": [
    {
     "name": "stdout",
     "output_type": "stream",
     "text": [
      "posix\n"
     ]
    }
   ],
   "source": [
    "import os\n",
    "print(os.name)"
   ]
  },
  {
   "cell_type": "markdown",
   "metadata": {
    "slideshow": {
     "slide_type": "slide"
    }
   },
   "source": [
    "-   `os.environ` : Un diccionario que contiene las variables de entorno\n",
    "    definidas en el sistema operativo. Los valores se obtiene la primera\n",
    "    vez que se importa el módulo, por lo que no reflejaran los cambios\n",
    "    hechos después."
   ]
  },
  {
   "cell_type": "code",
   "execution_count": 3,
   "metadata": {
    "slideshow": {
     "slide_type": "slide"
    }
   },
   "outputs": [
    {
     "name": "stdout",
     "output_type": "stream",
     "text": [
      "/home/jileon/.virtualenvs/eoi/bin:/home/jileon/Descargas/google-cloud-sdk/bin:/home/jileon/bin:/home/jileon/.local/bin:/usr/local/sbin:/usr/local/bin:/usr/sbin:/usr/bin:/sbin:/bin:/usr/games:/usr/local/games\n"
     ]
    }
   ],
   "source": [
    "import os\n",
    "\n",
    "print(os.environ['PATH'])"
   ]
  },
  {
   "cell_type": "markdown",
   "metadata": {
    "slideshow": {
     "slide_type": "slide"
    }
   },
   "source": [
    "-   `os.path.getsize(path)` : Devuelve el tamaño, en bytes, del fichero\n",
    "    cuya ruta se la pasa como parámetro."
   ]
  },
  {
   "cell_type": "code",
   "execution_count": 1,
   "metadata": {
    "slideshow": {
     "slide_type": "slide"
    }
   },
   "outputs": [
    {
     "name": "stdout",
     "output_type": "stream",
     "text": [
      "15184\n"
     ]
    }
   ],
   "source": [
    "import os\n",
    "\n",
    "print(os.path.getsize(\"os.ipynb\"))"
   ]
  },
  {
   "cell_type": "markdown",
   "metadata": {
    "slideshow": {
     "slide_type": "slide"
    }
   },
   "source": [
    "-   `os.path.getmtime(path)` : Devuelve el tiempo de la ultima\n",
    " modificación del archivo. El valor es en tiempo unix: el número de\n",
    " segundos desde la medianoche UTC del 1 de enero de 1970. Vease el\n",
    " módulo [`time`](time.ipynb)."
   ]
  },
  {
   "cell_type": "code",
   "execution_count": 2,
   "metadata": {
    "slideshow": {
     "slide_type": "slide"
    }
   },
   "outputs": [
    {
     "name": "stdout",
     "output_type": "stream",
     "text": [
      "1588085451.5371134\n"
     ]
    }
   ],
   "source": [
    "import os\n",
    "\n",
    "print(os.path.getmtime(\"os.ipynb\"))"
   ]
  },
  {
   "cell_type": "markdown",
   "metadata": {},
   "source": [
    "-  `os.path.listdir(path)` : Devuelve una lista con los nombres de las\n",
    "entradas en el directorio indicado por el parámetro `path`. Si no se\n",
    "especifica el parámetro se listará el directorio actual. La lista no\n",
    "viene en ningún orden determinado, y no incluye las entradas especiales\n",
    "`.` (Directorio actual) ni `..` (Padre del directorio actual)."
   ]
  },
  {
   "cell_type": "code",
   "execution_count": 3,
   "metadata": {
    "scrolled": true,
    "slideshow": {
     "slide_type": "slide"
    }
   },
   "outputs": [
    {
     "data": {
      "text/plain": [
       "['os.rst', 'os.md', 'os.ipynb', '.ipynb_checkpoints']"
      ]
     },
     "execution_count": 3,
     "metadata": {},
     "output_type": "execute_result"
    }
   ],
   "source": [
    "os.listdir()"
   ]
  },
  {
   "cell_type": "code",
   "execution_count": 8,
   "metadata": {
    "scrolled": true,
    "slideshow": {
     "slide_type": "slide"
    }
   },
   "outputs": [
    {
     "name": "stdout",
     "output_type": "stream",
     "text": [
      "time.rst 1586806837.0959044\n",
      "hashlib.rst 1586807932.02431\n",
      "argparse.ipynb 1586803719.5171173\n",
      "traceback.ipynb 1586802915.274425\n",
      "lorem.txt.gz 1586733063.4949968\n",
      "curses 1583745150.370969\n",
      "timeit.ipynb 1586801625.1886237\n",
      ".DS_Store 1584451638.9042914\n",
      "datetime.rst 1586813693.5210686\n",
      "smtplib.rst 1586807747.020284\n",
      "sys.rst 1586863021.0782957\n",
      "urllib.rst 1586807570.760519\n",
      "sys.ipynb 1586900256.8099008\n",
      "file.txt.gz 1586730612.0464232\n",
      "xml.rst 1586806955.8499613\n",
      "pdb.ipynb 1586806220.3642125\n",
      "compression.ipynb 1586734180.1917906\n",
      "heapq.rst 1583176433.088301\n",
      "curses.rst 1583745946.1560829\n",
      "re.rst 1583176325.3345604\n",
      "traceback.rst 1586802118.9939473\n",
      "os.ipynb 1586901211.1460376\n",
      "base64.ipynb 1586728118.4503722\n",
      "sqlite3.rst 1583431666.7162724\n",
      "img 1586804999.1669888\n",
      "zipfile.ipynb 1586738307.0160286\n",
      "itertools.rst 1586787417.5973184\n",
      "argparse.rst 1586779990.9821239\n",
      "zlib_sol_01.py 1586537193.4545062\n",
      "zlib.ipynb 1586558220.1601608\n",
      "http_server.rst 1586807866.1988044\n",
      "timeit.rst 1586901232.285203\n",
      "random.rst 1586806851.3102744\n",
      "lorem.txt 1586551738.0938718\n",
      "files.backup 1586731814.1699924\n",
      ".ipynb_checkpoints 1586900610.7107418\n",
      "difflib.rst 1586863058.5639656\n",
      "csv.rst 1586807008.1102073\n",
      "logging.rst 1586794797.0051491\n",
      "base64.rst 1585560535.2532449\n",
      "pdb.rst 1586803516.442853\n",
      "logging.ipynb 1586797109.578923\n",
      "os.rst 1583172967.7267907\n",
      "itertools.ipynb 1586793258.9420826\n",
      "gzip.ipynb 1586733318.2564354\n",
      "collections.rst 1586806733.9419165\n"
     ]
    }
   ],
   "source": [
    "!touch timeit.rst\n",
    "for filename in os.listdir(): \n",
    "    tiempo_mod = os.path.getmtime(filename) \n",
    "    print(filename, tiempo_mod)"
   ]
  },
  {
   "cell_type": "markdown",
   "metadata": {
    "slideshow": {
     "slide_type": "slide"
    }
   },
   "source": [
    "-   `os.path.splitext(path)`: Devuelve una tupla de dos elementos (root,\n",
    "  ext). En la primera posición va la ruta completa del fichero, sin\n",
    "  extensión, y en la segunda va la extension, de forma que `path` ==\n",
    "  `root + ext`."
   ]
  },
  {
   "cell_type": "code",
   "execution_count": 11,
   "metadata": {},
   "outputs": [
    {
     "name": "stdout",
     "output_type": "stream",
     "text": [
      "README\n",
      ".txt\n"
     ]
    }
   ],
   "source": [
    "name, ext = os.path.splitext(\"README.txt\")\n",
    "print(name)\n",
    "print(ext)"
   ]
  },
  {
   "cell_type": "markdown",
   "metadata": {
    "slideshow": {
     "slide_type": "slide"
    }
   },
   "source": [
    "-   `os.walk(top, topdown=True, onerror=None, followlinks=False)` :\n",
    "    Devuelve un iterador que nos permite examinar todo un sistema de\n",
    "    archivos.\n",
    "    "
   ]
  },
  {
   "cell_type": "markdown",
   "metadata": {
    "slideshow": {
     "slide_type": "slide"
    }
   },
   "source": [
    "Para cada directorio y subdirectorio en la raíz (indicada\n",
    "    por `top`), incluyendo la propia raíz, el iterador devuelte una\n",
    "    tupla de tres elementos (normalmente llamados `dirpath`, `dirnames`\n",
    "    y `filenames`)\n",
    "    "
   ]
  },
  {
   "cell_type": "markdown",
   "metadata": {
    "slideshow": {
     "slide_type": "slide"
    }
   },
   "source": [
    "- `dirpath` es una cadena de texto, la ruta del directorio\n",
    "\n",
    "- `dirnames` es una lista con los nombres de los\n",
    "    subdirectorios dentro de `dirpath` (excluyendo los nombres\n",
    "    especiales . y ..)\n",
    "    \n",
    "- `filenames` es una lista de nombres de los ficheros que **no** son un directorio en `dirpath`.\n",
    "\n",
    "En cualquier momento podemos tener una ruta absoluta a un archivo `f` en\n",
    "    `filenames` haciendo `os.path.join(top, dirpath, f)`."
   ]
  },
  {
   "cell_type": "code",
   "execution_count": 33,
   "metadata": {
    "scrolled": true,
    "slideshow": {
     "slide_type": "slide"
    }
   },
   "outputs": [
    {
     "name": "stdout",
     "output_type": "stream",
     "text": [
      ".     ['img', '.ipynb_checkpoints', 'a', 'curses']     42\n",
      "./img     []     5\n",
      "./.ipynb_checkpoints     []     2\n",
      "./a     ['b']     0\n",
      "./a/b     ['c']     0\n",
      "./a/b/c     ['d']     1\n",
      "./a/b/c/d     []     0\n",
      "./curses     []     6\n"
     ]
    }
   ],
   "source": [
    "!mkdir -p a/b/c/d\n",
    "for t in os.walk(\".\"):\n",
    "    dirpath, dirs, files = t\n",
    "    print(dirpath, dirs, len(files), sep=\"     \")"
   ]
  },
  {
   "cell_type": "code",
   "execution_count": 36,
   "metadata": {
    "scrolled": true,
    "slideshow": {
     "slide_type": "slide"
    }
   },
   "outputs": [
    {
     "name": "stdout",
     "output_type": "stream",
     "text": [
      "./timeit.rst\n",
      "./pdb.ipynb\n",
      "./urllib.rst\n",
      "./smtplib.rst\n",
      "./files.backup\n",
      "./xml.rst\n",
      "./re.rst\n",
      "./hashlib.rst\n",
      "./sys.md\n",
      "./zlib.ipynb\n",
      "./zlib_sol_01.py\n",
      "./lorem.txt\n",
      "./difflib.rst\n",
      "./heapq.rst\n",
      "./traceback.rst\n",
      "./os.ipynb\n",
      "./traceback.ipynb\n",
      "./sqlite3.rst\n",
      "./logging.ipynb\n",
      "./base64.ipynb\n",
      "./os.rst\n",
      "./sys.rst\n",
      "./timeit.ipynb\n",
      "./logging.rst\n",
      "./itertools.ipynb\n",
      "./random.rst\n",
      "./zipfile.ipynb\n",
      "./curses.rst\n",
      "./itertools.rst\n",
      "./compression.ipynb\n",
      "./sys.ipynb\n",
      "./argparse.rst\n",
      "./pdb.rst\n",
      "./argparse.ipynb\n",
      "./datetime.rst\n",
      "./http_server.rst\n",
      "./gzip.ipynb\n",
      "./time.rst\n",
      "./csv.rst\n",
      "./base64.rst\n",
      "./os.md\n",
      "./collections.rst\n",
      "./img/bulb.png\n",
      "./img/pdb.jpg\n",
      "./img/premium.svg\n",
      "./img/emosido.jpg\n",
      "./img/imagen.b64.txt\n",
      "./.ipynb_checkpoints/sys-checkpoint.ipynb\n",
      "./.ipynb_checkpoints/os-checkpoint.ipynb\n",
      "./a/b/c/hola.txt\n",
      "./curses/use_of_pads.py\n",
      "./curses/initialization.py\n",
      "./curses/add_ch.py\n",
      "./curses/full_demo.py\n",
      "./curses/colors.py\n",
      "./curses/text_input.py\n"
     ]
    }
   ],
   "source": [
    "for t in os.walk(\".\"):\n",
    "    dirpath, _, files = t\n",
    "    for filename in files:\n",
    "        full_path = os.path.join(dirpath, filename)\n",
    "        print(full_path)"
   ]
  },
  {
   "cell_type": "code",
   "execution_count": 37,
   "metadata": {},
   "outputs": [
    {
     "name": "stdout",
     "output_type": "stream",
     "text": [
      "d  hola.txt\n"
     ]
    }
   ],
   "source": [
    "!touch a/b/c/hola.txt\n",
    "!ls a/b/c"
   ]
  },
  {
   "cell_type": "markdown",
   "metadata": {
    "slideshow": {
     "slide_type": "slide"
    }
   },
   "source": [
    "**Ejercicio**: Hacer un script que calcule cuanto ocupan todos los ficheros en un \n",
    "determinado directorio, incluyendo sus subdirectorios, si los hubiera. Listar\n",
    "los nombres absolutos, es decir, incluyendo la ruta desde la raíz, y al final\n",
    "imprimir el espacio total que ocupan en disco."
   ]
  },
  {
   "cell_type": "code",
   "execution_count": 12,
   "metadata": {
    "slideshow": {
     "slide_type": "slide"
    }
   },
   "outputs": [
    {
     "name": "stdout",
     "output_type": "stream",
     "text": [
      "./time.rst ocupa 2150 bytes\n",
      "./hashlib.rst ocupa 1688 bytes\n",
      "./argparse.ipynb ocupa 24388 bytes\n",
      "./traceback.ipynb ocupa 7916 bytes\n",
      "./lorem.txt.gz ocupa 22316 bytes\n",
      "./timeit.ipynb ocupa 9818 bytes\n",
      "./.DS_Store ocupa 6148 bytes\n",
      "./datetime.rst ocupa 2565 bytes\n",
      "./smtplib.rst ocupa 1838 bytes\n",
      "./sys.rst ocupa 1298 bytes\n",
      "./urllib.rst ocupa 2060 bytes\n",
      "./sys.ipynb ocupa 2695 bytes\n",
      "./file.txt.gz ocupa 137 bytes\n",
      "./xml.rst ocupa 3554 bytes\n",
      "./pdb.ipynb ocupa 6837 bytes\n",
      "./markdown ocupa 3196 bytes\n",
      "./compression.ipynb ocupa 1911 bytes\n",
      "./heapq.rst ocupa 2594 bytes\n",
      "./curses.rst ocupa 20809 bytes\n",
      "./re.rst ocupa 4602 bytes\n",
      "./traceback.rst ocupa 1336 bytes\n",
      "./os.ipynb ocupa 16073 bytes\n",
      "./base64.ipynb ocupa 169259 bytes\n",
      "./sqlite3.rst ocupa 6991 bytes\n",
      "./time.ipynb ocupa 2859 bytes\n",
      "./zipfile.ipynb ocupa 14131 bytes\n",
      "./itertools.rst ocupa 5896 bytes\n",
      "./argparse.rst ocupa 11637 bytes\n",
      "./zlib_sol_01.py ocupa 0 bytes\n",
      "./zlib.ipynb ocupa 14731 bytes\n",
      "./http_server.rst ocupa 1310 bytes\n",
      "./timeit.rst ocupa 3496 bytes\n",
      "./random.rst ocupa 1725 bytes\n",
      "./lorem.txt ocupa 57060 bytes\n",
      "./files.backup ocupa 551 bytes\n",
      "./difflib.rst ocupa 924 bytes\n",
      "./csv.rst ocupa 1956 bytes\n",
      "./logging.rst ocupa 4208 bytes\n",
      "./base64.rst ocupa 4915 bytes\n",
      "./pdb.rst ocupa 2143 bytes\n",
      "./logging.ipynb ocupa 10929 bytes\n",
      "./os.rst ocupa 3738 bytes\n",
      "./itertools.ipynb ocupa 14764 bytes\n",
      "./gzip.ipynb ocupa 5995 bytes\n",
      "./collections.rst ocupa 1059 bytes\n",
      "./curses/add_ch.py ocupa 428 bytes\n",
      "./curses/text_input.py ocupa 488 bytes\n",
      "./curses/.DS_Store ocupa 6148 bytes\n",
      "./curses/full_demo.py ocupa 1431 bytes\n",
      "./curses/use_of_pads.py ocupa 427 bytes\n",
      "./curses/initialization.py ocupa 307 bytes\n",
      "./curses/colors.py ocupa 683 bytes\n",
      "./img/imagen.b64.txt ocupa 127679 bytes\n",
      "./img/emosido.jpg ocupa 86646 bytes\n",
      "./img/bulb.png ocupa 11438 bytes\n",
      "./img/premium.svg ocupa 6822 bytes\n",
      "./img/pdb.jpg ocupa 125473 bytes\n",
      "./.ipynb_checkpoints/os-checkpoint.ipynb ocupa 15184 bytes\n",
      "./.ipynb_checkpoints/itertools-checkpoint.ipynb ocupa 14764 bytes\n",
      "./.ipynb_checkpoints/time-checkpoint.ipynb ocupa 2859 bytes\n",
      "./.ipynb_checkpoints/compression-checkpoint.ipynb ocupa 72 bytes\n",
      "./.ipynb_checkpoints/base64-checkpoint.ipynb ocupa 169259 bytes\n",
      "./.ipynb_checkpoints/logging-checkpoint.ipynb ocupa 10929 bytes\n",
      "./.ipynb_checkpoints/argparse-checkpoint.ipynb ocupa 24375 bytes\n",
      "./.ipynb_checkpoints/traceback-checkpoint.ipynb ocupa 7916 bytes\n",
      "./.ipynb_checkpoints/timeit-checkpoint.ipynb ocupa 72 bytes\n",
      "./.ipynb_checkpoints/pdb-checkpoint.ipynb ocupa 6837 bytes\n",
      "./.ipynb_checkpoints/zipfile-checkpoint.ipynb ocupa 14131 bytes\n",
      "./.ipynb_checkpoints/gzip-checkpoint.ipynb ocupa 5995 bytes\n",
      "En total, 1126569 bytes\n"
     ]
    }
   ],
   "source": [
    "acc = 0\n",
    "for t in os.walk(\".\"):\n",
    "    dirpath, _, files = t\n",
    "    for filename in files:\n",
    "        full_path = os.path.join(dirpath, filename)\n",
    "        size = os.path.getsize(full_path)\n",
    "        print(full_path, \"ocupa\", size, \"bytes\")\n",
    "        acc = acc + size\n",
    "print(f\"En total, {acc} bytes\")"
   ]
  },
  {
   "cell_type": "code",
   "execution_count": null,
   "metadata": {},
   "outputs": [],
   "source": []
  }
 ],
 "metadata": {
  "celltoolbar": "Slideshow",
  "kernelspec": {
   "display_name": "Python 3",
   "language": "python",
   "name": "python3"
  },
  "language_info": {
   "codemirror_mode": {
    "name": "ipython",
    "version": 3
   },
   "file_extension": ".py",
   "mimetype": "text/x-python",
   "name": "python",
   "nbconvert_exporter": "python",
   "pygments_lexer": "ipython3",
   "version": "3.8.2"
  }
 },
 "nbformat": 4,
 "nbformat_minor": 4
}
