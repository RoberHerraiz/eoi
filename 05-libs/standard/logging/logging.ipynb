{
 "cells": [
  {
   "cell_type": "markdown",
   "metadata": {
    "slideshow": {
     "slide_type": "slide"
    }
   },
   "source": [
    "## El módulo logging"
   ]
  },
  {
   "cell_type": "markdown",
   "metadata": {
    "slideshow": {
     "slide_type": "slide"
    }
   },
   "source": [
    "El módulo `logging` define un sistema flexible y homogeneo para añadir\n",
    "un sistema de registro de eventos o `log` a nuestras aplicaciones o\n",
    "librerías."
   ]
  },
  {
   "cell_type": "markdown",
   "metadata": {
    "slideshow": {
     "slide_type": "slide"
    }
   },
   "source": [
    "Crear un log es relativamente fácil, pero la ventaja de usar\n",
    "el API definido en las librerías estándar es que todos los módulos\n",
    "pueden participar en un log común, de forma que podamos integrar\n",
    "nuestros mensajes con los de otros módulos de terceros."
   ]
  },
  {
   "cell_type": "markdown",
   "metadata": {
    "slideshow": {
     "slide_type": "slide"
    }
   },
   "source": [
    "### Funciones definidas en logging\n",
    "\n",
    "El módulo define una serie de funciones habituales es sistemas de\n",
    "*logging*: `debug()`, `info()`, `warning()`, `error()` y `critical()`.\n",
    "\n",
    "Cada función tiene un uso dependiendo de la gravedad del mensaje a\n",
    "emitir; estos niveles, de menor a mayor severidad, se describen en la\n",
    "siguiente tabla:"
   ]
  },
  {
   "cell_type": "markdown",
   "metadata": {
    "slideshow": {
     "slide_type": "slide"
    }
   },
   "source": [
    "| Nivel   | A usar para |\n",
    "|--------:|-------------|\n",
    "|  DEBUG  | Información muy detallada, normalmente de interes sólo para diagnosticar problemas y encontrar errores |\n",
    "| INFO    | Confirmación de que las cosas están funcionando como deben |\n",
    "| WARNING | Una indicación de que ha pasado algo extraño, o en previsión de algún problema futuro (Por ejemplo, \\\"No queda mucho espacio libre en disco\\\"). El programa sigue funcionando con normalidad |\n",
    "| ERROR   | Debido a un problema más grave, el programa no has sido capaz de realizar una parte de su trabajo |\n",
    "| CRITICAL | Un error muy grave, indica que el programa es incapaz de continuar ejecutándose |"
   ]
  },
  {
   "cell_type": "markdown",
   "metadata": {
    "slideshow": {
     "slide_type": "slide"
    }
   },
   "source": [
    "Un ejemplo muy sencillo:"
   ]
  },
  {
   "cell_type": "code",
   "execution_count": 4,
   "metadata": {
    "slideshow": {
     "slide_type": "slide"
    }
   },
   "outputs": [
    {
     "name": "stderr",
     "output_type": "stream",
     "text": [
      "WARNING:root:¡Cuidado!\n",
      "ERROR:root:esti se\n",
      "CRITICAL:root:esti si\n"
     ]
    }
   ],
   "source": [
    "import logging\n",
    "logging.warning('¡Cuidado!') # el mensaje sale por pantall\n",
    "logging.info('Mira que te lo dije...') # este no aparecerá\n",
    "logging.error(\"esti se\")\n",
    "logging.critical(\"esti si\")"
   ]
  },
  {
   "cell_type": "markdown",
   "metadata": {
    "slideshow": {
     "slide_type": "slide"
    }
   },
   "source": [
    "Si ejecutamos este código, veremos que solo se imprime el primer\n",
    "mensaje:"
   ]
  },
  {
   "cell_type": "markdown",
   "metadata": {
    "slideshow": {
     "slide_type": "slide"
    }
   },
   "source": [
    "    WARNING:root:¡Cuidado!"
   ]
  },
  {
   "cell_type": "markdown",
   "metadata": {
    "slideshow": {
     "slide_type": "slide"
    }
   },
   "source": [
    "Esto es porque el nivel por defecto es `WARNING`, es decir, que solo se\n",
    "emiten los mensajes de ese nivel o superior. La idea de usar niveles es\n",
    "precisamente para poder centrarnos en los mensajes que nos afectan en un\n",
    "determinado momento."
   ]
  },
  {
   "cell_type": "markdown",
   "metadata": {
    "slideshow": {
     "slide_type": "slide"
    }
   },
   "source": [
    "El mensaje impreso incluye el nivel y la descripción que incluimos en la\n",
    "llamada. También incluye una referencia a `root`, que se explicará más\n",
    "tarde. El formato del mensaje también es modificable, si queremos."
   ]
  },
  {
   "cell_type": "markdown",
   "metadata": {
    "slideshow": {
     "slide_type": "slide"
    }
   },
   "source": [
    "## Logging en Jupyter\n",
    "\n",
    "Un problema de usar Jupyter para explicar las librerias de logging\n",
    "es que el propio Jupyter las usa, y las configura segun sus preferencias. \n",
    "Para poder resetear el sistema de logging es necesario recargar el\n",
    "codigo del módulo, para que se pueda configurar de nuevo."
   ]
  },
  {
   "cell_type": "markdown",
   "metadata": {
    "slideshow": {
     "slide_type": "slide"
    }
   },
   "source": [
    "Para esto puede usarse el siguiente código:"
   ]
  },
  {
   "cell_type": "code",
   "execution_count": 15,
   "metadata": {
    "slideshow": {
     "slide_type": "slide"
    }
   },
   "outputs": [],
   "source": [
    "from importlib import reload\n",
    "\n",
    "import logging\n",
    "reload(logging)\n",
    "\n",
    "logging.basicConfig(format='%(asctime)s %(levelname)s : %(message)s', level=logging.DEBUG, datefmt='%I:%M:%S')"
   ]
  },
  {
   "cell_type": "code",
   "execution_count": 21,
   "metadata": {},
   "outputs": [
    {
     "name": "stderr",
     "output_type": "stream",
     "text": [
      "06:05:42 INFO : Hola\n",
      "06:05:42 DEBUG : H v vale 123\n"
     ]
    }
   ],
   "source": [
    "logging.info(\"Hola\")\n",
    "v = 123\n",
    "logging.debug(\"H v vale %s\", v)"
   ]
  },
  {
   "cell_type": "markdown",
   "metadata": {
    "slideshow": {
     "slide_type": "slide"
    }
   },
   "source": [
    "## Crear un fichero de log"
   ]
  },
  {
   "cell_type": "markdown",
   "metadata": {
    "slideshow": {
     "slide_type": "slide"
    }
   },
   "source": [
    "Despues de la consola, lo más habitual es usar un ficharo de texto \n",
    "para almacenar los mensajes de log:"
   ]
  },
  {
   "cell_type": "code",
   "execution_count": 35,
   "metadata": {
    "slideshow": {
     "slide_type": "slide"
    }
   },
   "outputs": [],
   "source": [
    "from importlib import reload\n",
    "\n",
    "import logging\n",
    "reload(logging)\n",
    "\n",
    "logging.basicConfig(filename='ejemplo.log', level=logging.DEBUG)\n",
    "\n",
    "logging.debug('Este mensaje debería ir al log')\n",
    "logging.info('Y este')\n",
    "logging.warning('Y este también')\n",
    "logging.error(\"Error\")"
   ]
  },
  {
   "cell_type": "code",
   "execution_count": 36,
   "metadata": {},
   "outputs": [
    {
     "name": "stdout",
     "output_type": "stream",
     "text": [
      "DEBUG:root:Este mensaje debería ir al log\r\n",
      "INFO:root:Y este\r\n",
      "WARNING:root:Y este también\r\n",
      "INFO:root:Y este\r\n",
      "WARNING:root:Y este también\r\n",
      "ERROR:root:Error\r\n",
      "DEBUG:root:Este mensaje debería ir al log\r\n",
      "INFO:root:Y este\r\n",
      "WARNING:root:Y este también\r\n",
      "ERROR:root:Error\r\n"
     ]
    }
   ],
   "source": [
    "!cat ejemplo.log"
   ]
  },
  {
   "cell_type": "markdown",
   "metadata": {
    "slideshow": {
     "slide_type": "slide"
    }
   },
   "source": [
    "Si abrimos el fichero deberíamos ver:"
   ]
  },
  {
   "cell_type": "markdown",
   "metadata": {
    "slideshow": {
     "slide_type": "slide"
    }
   },
   "source": [
    "    DEBUG:root:Este mensaje debería ir al log\n",
    "    INFO:root:Y este\n",
    "    WARNING:root:Y este también"
   ]
  },
  {
   "cell_type": "code",
   "execution_count": 9,
   "metadata": {},
   "outputs": [
    {
     "name": "stdout",
     "output_type": "stream",
     "text": [
      "DEBUG:root:Este mensaje debería ir al log\n",
      "INFO:root:Y este\n",
      "WARNING:root:Y este también\n"
     ]
    }
   ],
   "source": [
    "!cat ejemplo.log"
   ]
  },
  {
   "cell_type": "markdown",
   "metadata": {
    "slideshow": {
     "slide_type": "slide"
    }
   },
   "source": [
    "Al configurar el nivel como `DEBUG` vemos que se han grabado todos los\n",
    "mensajes. Si subieramos a `ERROR`, no aparecería ninguno."
   ]
  },
  {
   "cell_type": "markdown",
   "metadata": {
    "slideshow": {
     "slide_type": "slide"
    }
   },
   "source": [
    "El formato por defecto es:\n",
    "\n",
    "    severity:logger name:message\n",
    "    \n",
    "Podemos cambiar también el formato de los mensajes, usando el parámetro `format`\n",
    "en la llamada a `basicConfig`:"
   ]
  },
  {
   "cell_type": "code",
   "execution_count": 37,
   "metadata": {
    "slideshow": {
     "slide_type": "slide"
    }
   },
   "outputs": [],
   "source": [
    "from importlib import reload\n",
    "\n",
    "import logging\n",
    "reload(logging)\n",
    "\n",
    "\n",
    "logging.basicConfig(\n",
    "    filename='ejemplo.log',\n",
    "    level=logging.DEBUG,\n",
    "    format='%(asctime)s - %(name)s - %(levelname)s - %(message)s'\n",
    ")\n",
    "logging.debug('Este mensaje es de tipo debug')\n",
    "logging.info('Este mensjae es de tipo info')\n",
    "logging.warning('ESte mensaje en de tipo warning')\n",
    "logging.error('ESte mensaje en de tipo error')"
   ]
  },
  {
   "cell_type": "code",
   "execution_count": 38,
   "metadata": {},
   "outputs": [
    {
     "name": "stdout",
     "output_type": "stream",
     "text": [
      "DEBUG:root:Este mensaje debería ir al log\r\n",
      "INFO:root:Y este\r\n",
      "WARNING:root:Y este también\r\n",
      "INFO:root:Y este\r\n",
      "WARNING:root:Y este también\r\n",
      "ERROR:root:Error\r\n",
      "DEBUG:root:Este mensaje debería ir al log\r\n",
      "INFO:root:Y este\r\n",
      "WARNING:root:Y este también\r\n",
      "ERROR:root:Error\r\n",
      "2020-04-17 18:09:46,166 - root - DEBUG - Este mensaje es de tipo debug\r\n",
      "2020-04-17 18:09:46,167 - root - INFO - Este mensjae es de tipo info\r\n",
      "2020-04-17 18:09:46,167 - root - WARNING - ESte mensaje en de tipo warning\r\n",
      "2020-04-17 18:09:46,167 - root - ERROR - ESte mensaje en de tipo error\r\n"
     ]
    }
   ],
   "source": [
    "%cat ejemplo.log "
   ]
  },
  {
   "cell_type": "markdown",
   "metadata": {
    "slideshow": {
     "slide_type": "slide"
    }
   },
   "source": [
    "Podemos definir distintas instancias de loggers (las funciones que hemos\n",
    "visto hasta ahora usan el logger por defecto, de nombre `root`)\n",
    "\n",
    "Además, podemos organizar los nombres en un sistema de jerarquías\n",
    "usando puntos (`.`) como separadores, de forma similar a como organizamos los paquetes."
   ]
  },
  {
   "cell_type": "markdown",
   "metadata": {
    "slideshow": {
     "slide_type": "slide"
    }
   },
   "source": [
    "El nombre de cada logger pueden ser el que queramos, pero es una práctica habitual usar\n",
    "como nombre el del módulo:\n",
    "\n",
    "    import logging\n",
    "    logger = logging.getLogger(__name__)"
   ]
  },
  {
   "cell_type": "markdown",
   "metadata": {
    "slideshow": {
     "slide_type": "slide"
    }
   },
   "source": [
    "De esta forma el nombre del logger refleja la estructura de paquetes y\n",
    "módulos que estemos usando, y es muy sencillo de usar."
   ]
  },
  {
   "cell_type": "markdown",
   "metadata": {
    "slideshow": {
     "slide_type": "slide"
    }
   },
   "source": [
    "Tambien podemos usar diferentes gestionadores para notificarnos, aparte\n",
    "de la consola y el fichero de textos, tenemos notificacines vía sockets,\n",
    "datagramas UDP, por correo, envios a un demonio syslog, a un buffer en\n",
    "memoria y, por supuesto, la posibilidad de crear nuestros propios\n",
    "manejadores."
   ]
  }
 ],
 "metadata": {
  "celltoolbar": "Slideshow",
  "kernelspec": {
   "display_name": "Python 3",
   "language": "python",
   "name": "python3"
  },
  "language_info": {
   "codemirror_mode": {
    "name": "ipython",
    "version": 3
   },
   "file_extension": ".py",
   "mimetype": "text/x-python",
   "name": "python",
   "nbconvert_exporter": "python",
   "pygments_lexer": "ipython3",
   "version": "3.6.9"
  }
 },
 "nbformat": 4,
 "nbformat_minor": 4
}
