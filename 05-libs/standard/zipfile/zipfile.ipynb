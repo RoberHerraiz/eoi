{
 "cells": [
  {
   "cell_type": "markdown",
   "metadata": {
    "slideshow": {
     "slide_type": "slide"
    }
   },
   "source": [
    "# zipfile — Soporte para archivos ZIP"
   ]
  },
  {
   "cell_type": "markdown",
   "metadata": {
    "slideshow": {
     "slide_type": "slide"
    }
   },
   "source": [
    "El archivo ZIP es un formato estándar de archivado y compresión de\n",
    "archivos. El módulo `zipfile` proporciona mecanismos para crear, leer,\n",
    "modificar y listar archivos ZIP. "
   ]
  },
  {
   "cell_type": "markdown",
   "metadata": {
    "slideshow": {
     "slide_type": "slide"
    }
   },
   "source": [
    "## La función is_zipfile\n",
    "\n",
    "La función ``is_zipfile()`` devuelve un booleno indicando si el\n",
    "fichero que se le pasa como parámetro es un archivo ZIP o no."
   ]
  },
  {
   "cell_type": "markdown",
   "metadata": {
    "slideshow": {
     "slide_type": "slide"
    }
   },
   "source": [
    "### Ejercicio: Usar zipfile.is_zipfile\n",
    "\n",
    "Hacer un pequeño script para listar los ficheros del directorio\n",
    "actual. Usar alguna indicación visual para destacar aquellos que\n",
    "sean archivos `zip`. Usa `zipfile.is_zipfile` para descubrir si\n",
    "un fichero es o no un archivo `zip`."
   ]
  },
  {
   "cell_type": "code",
   "execution_count": 1,
   "metadata": {
    "scrolled": true,
    "slideshow": {
     "slide_type": "slide"
    }
   },
   "outputs": [
    {
     "name": "stdout",
     "output_type": "stream",
     "text": [
      "- Untitled.ipynb \n",
      "- timeit.rst \n",
      "- pdb.ipynb \n",
      "- urllib.rst \n",
      "- smtplib.rst \n",
      "- files.backup <-- Este es un ZIP\n",
      "- xml.rst \n",
      "- re.rst \n",
      "- hashlib.rst \n",
      "- sys.md \n",
      "- zlib.ipynb \n",
      "- zlib_sol_01.py \n",
      "- img \n",
      "- .ipynb_checkpoints \n",
      "- lorem.txt \n",
      "- difflib.rst \n",
      "- .swp \n",
      "- heapq.rst \n",
      "- traceback.rst \n",
      "- os.ipynb \n",
      "- traceback.ipynb \n",
      "- sqlite3.rst \n",
      "- statistics.rst \n",
      "- logging.ipynb \n",
      "- base64.ipynb \n",
      "- a \n",
      "- os.rst \n",
      "- file.txt.gz \n",
      "- sys.rst \n",
      "- timeit.ipynb \n",
      "- logging.rst \n",
      "- itertools.ipynb \n",
      "- random.rst \n",
      "- zipfile.ipynb \n",
      "- curses.rst \n",
      "- itertools.rst \n",
      "- compression.ipynb \n",
      "- curses \n",
      "- sys.ipynb \n",
      "- lorem.txt.gz \n",
      "- argparse.rst \n",
      "- pdb.rst \n",
      "- argparse.ipynb \n",
      "- datetime.rst \n",
      "- http_server.rst \n",
      "- notebooks.zip <-- Este es un ZIP\n",
      "- gzip.ipynb \n",
      "- time.rst \n",
      "- csv.rst \n",
      "- time.ipynb \n",
      "- base64.rst \n",
      "- os.md \n",
      "- collections.rst \n"
     ]
    }
   ],
   "source": [
    "import os\n",
    "import zipfile\n",
    "\n",
    "for filename in os.listdir(\".\"):\n",
    "    flag = zipfile.is_zipfile(filename)\n",
    "    print(f\"- {filename} {'<-- Este es un ZIP' if flag else ''}\")"
   ]
  },
  {
   "cell_type": "markdown",
   "metadata": {
    "slideshow": {
     "slide_type": "slide"
    }
   },
   "source": [
    "Si todo ha ido bien, veras que hay un fichero `zip` entre\n",
    "los listados, a pesar de que no tiene la extensión `.zip`. El fichero\n",
    "se llama `files.backup`. Vamos a seguir usando el módulo\n",
    "`zipfile` para leer su contenido."
   ]
  },
  {
   "cell_type": "markdown",
   "metadata": {
    "slideshow": {
     "slide_type": "slide"
    }
   },
   "source": [
    "### La clase ZipFile\n",
    "\n",
    "La clase ``ZipFile`` nos permite trabajar directamente con un archivo\n",
    "ZIP. Tiene métodos para obtener información sobre los ficheros\n",
    "contenidos en el archivo, así como para añadir nuevos ficheros a un\n",
    "archivo."
   ]
  },
  {
   "cell_type": "markdown",
   "metadata": {
    "slideshow": {
     "slide_type": "slide"
    }
   },
   "source": [
    "Para crear una instancia de `ZipFile`, especificamos un modo igual que hacemos\n",
    "con los ficheros normales. Así, para abrir un fichero `zip` para leer\n",
    "sus contenidos, usaremos el mode `r`. Usaremos `w` para crear el archivo\n",
    "nuevo (O truncar uno ya existente), `a` para añadir o `x` para crear y añadir\n",
    "contenidos de forma exclusivo."
   ]
  },
  {
   "cell_type": "markdown",
   "metadata": {
    "slideshow": {
     "slide_type": "slide"
    }
   },
   "source": [
    "Otro parametro que podemos usar al crear un archivo .zip es `compression`, con \n",
    "el cual indicaremos el algoritmo de compresión que queremos. Puede tomar los \n",
    "valores `ZIP_STORED`, `ZIP_DEFLATED`, `ZIP_BZIP2` o `ZIP_LZMA`. El valor\n",
    "por defecto es `ZIP_STORED`"
   ]
  },
  {
   "cell_type": "markdown",
   "metadata": {
    "slideshow": {
     "slide_type": "slide"
    }
   },
   "source": [
    "El parámetro `compresslevel` determina el nivel de compresión y sus\n",
    "posibles valores son, por tanto, función del algoritmo de compresión\n",
    "seleccionado. Para `ZIP_STORED` o `ZIP_LZMA` no tiene efecto ninguno.\n",
    "Si se usa `ZIP_DEFLATED`, los valores posibles son enteros en el rango\n",
    "de $0$  a $9$ (Son los mismos valores que usa `zlib`). Cuando se usa\n",
    "`ZIP_BZIP2` se aceptan enteros en el rango $1$ a $9$."
   ]
  },
  {
   "cell_type": "markdown",
   "metadata": {
    "slideshow": {
     "slide_type": "slide"
    }
   },
   "source": [
    "La clase `ZipFile` también actua como un gestor de contexto (*context manager*), por\n",
    "lo que sus instancias pueden ser usadas con la sentencia `with`."
   ]
  },
  {
   "cell_type": "markdown",
   "metadata": {
    "slideshow": {
     "slide_type": "slide"
    }
   },
   "source": [
    "Para leer los nombres de los ficheros contenidos\n",
    "dentro del archivo ZIP, podemos usar el método `namelist`, que nos\n",
    "dará un listado de los ficheros incluidos en el archivo. Ejecuta la\n",
    "siguiente celda para ver el contenido"
   ]
  },
  {
   "cell_type": "code",
   "execution_count": 2,
   "metadata": {},
   "outputs": [
    {
     "name": "stdout",
     "output_type": "stream",
     "text": [
      "file_04.txt\n",
      "file_01.txt\n"
     ]
    }
   ],
   "source": [
    "import zipfile\n",
    "\n",
    "with zipfile.ZipFile('files.backup', 'r') as zf:\n",
    "    for filename in zf.namelist():\n",
    "        print(filename)"
   ]
  },
  {
   "cell_type": "markdown",
   "metadata": {
    "slideshow": {
     "slide_type": "slide"
    }
   },
   "source": [
    "Vamos a obtener un poco más de información de estos ficheros. Para ello\n",
    "podemos usar el método `getinfo(name)`. Este nos devuelve un objeto \n",
    "de tipo `ZipInfo` que contiene información sobre el fichero:"
   ]
  },
  {
   "cell_type": "code",
   "execution_count": 7,
   "metadata": {},
   "outputs": [
    {
     "name": "stdout",
     "output_type": "stream",
     "text": [
      "file_01.txt pesa 26 bytes\n",
      "file_02.txt pesa 27 bytes\n",
      "file_03.txt pesa 26 bytes\n"
     ]
    }
   ],
   "source": [
    "import zipfile\n",
    "\n",
    "with zipfile.ZipFile('files.backup', 'r') as zf:\n",
    "    for filename in zf.namelist():\n",
    "        info = zf.getinfo(filename)\n",
    "        print(filename, 'pesa', info.file_size, 'bytes')"
   ]
  },
  {
   "cell_type": "markdown",
   "metadata": {
    "slideshow": {
     "slide_type": "slide"
    }
   },
   "source": [
    "Otra forma sería usando el método `infolist` que nos devuelve directamente\n",
    "una lista de objetos `ZipInfo`. Como el nombre del fichero está incluido\n",
    "en la información que almacena esta clase, es una forma un poco más\n",
    "directa de conseguir la información:\n",
    "    "
   ]
  },
  {
   "cell_type": "code",
   "execution_count": 8,
   "metadata": {
    "slideshow": {
     "slide_type": "slide"
    }
   },
   "outputs": [
    {
     "name": "stdout",
     "output_type": "stream",
     "text": [
      "file_01.txt pesa 26 bytes\n",
      "file_02.txt pesa 27 bytes\n",
      "file_03.txt pesa 26 bytes\n"
     ]
    }
   ],
   "source": [
    "import zipfile\n",
    "\n",
    "with zipfile.ZipFile('files.backup', 'r') as zf:\n",
    "    for info in zf.infolist():\n",
    "        print(info.filename, 'pesa', info.file_size, 'bytes')"
   ]
  },
  {
   "cell_type": "markdown",
   "metadata": {
    "slideshow": {
     "slide_type": "slide"
    }
   },
   "source": [
    "Ya solo nos faltaria poder leer el contenido de cada fichero. Es\n",
    "fácil e intuitivo, porque la clase nos proporciona un metodo `open`\n",
    "para abrir el archivo y leer su contenido:"
   ]
  },
  {
   "cell_type": "code",
   "execution_count": 10,
   "metadata": {
    "slideshow": {
     "slide_type": "slide"
    }
   },
   "outputs": [
    {
     "name": "stdout",
     "output_type": "stream",
     "text": [
      "b'Este es el segundo archivo\\n'\n"
     ]
    }
   ],
   "source": [
    "import zipfile\n",
    "\n",
    "with zipfile.ZipFile('files.backup', 'r') as zf:\n",
    "    with zf.open('file_02.txt', 'r') as f:\n",
    "        print(f.read())"
   ]
  },
  {
   "cell_type": "markdown",
   "metadata": {
    "slideshow": {
     "slide_type": "slide"
    }
   },
   "source": [
    "Ejercicio: Modifica la celda anterior para leer el sorprendente\n",
    "contenido del fichero `file_01.txt` o `file_03.txt`."
   ]
  },
  {
   "cell_type": "markdown",
   "metadata": {
    "slideshow": {
     "slide_type": "slide"
    }
   },
   "source": [
    "### Crear un archivo zip\n",
    "\n",
    "Como dijimos antes,"
   ]
  },
  {
   "cell_type": "code",
   "execution_count": 9,
   "metadata": {
    "slideshow": {
     "slide_type": "slide"
    }
   },
   "outputs": [
    {
     "name": "stdout",
     "output_type": "stream",
     "text": [
      "17\n"
     ]
    }
   ],
   "source": [
    "import zipfile\n",
    "\n",
    "with zipfile.ZipFile('files.backup', 'a') as zf:\n",
    "    with zf.open('file_05.txt', 'w') as f:\n",
    "        print(f.write(b\"Este el el cuarto\"))"
   ]
  },
  {
   "cell_type": "markdown",
   "metadata": {
    "slideshow": {
     "slide_type": "slide"
    }
   },
   "source": [
    "### Otros metodos interesantes en ZipFile\n",
    "\n",
    "- `extract(member, path=None, pwd=None)`\n",
    "\n",
    "Extrae un fichero del archivo zip a un directorio externo (el directorio\n",
    "actual, so no se especifica). El atributo `member` puede ser el nombre del\n",
    "fichero o un objeto del tipo `ZipInfo`. `path` especifica el directorio\n",
    "destino. `pwd` es la contraseña a usar si el fichero estaba cifrado."
   ]
  },
  {
   "cell_type": "markdown",
   "metadata": {
    "slideshow": {
     "slide_type": "slide"
    }
   },
   "source": [
    "- `extractall(path=None, members=None, pwd=None)`\n",
    "\n",
    "Extrae todos los contenidos del archivo zip a un directorio externo.\n",
    "El parámetro `path`, igual que en el método `extract` indica el \n",
    "directorio destino, y si no se especifica, por defecto tomará el\n",
    "directorio actual. El parametro `members` es opcional, y permite\n",
    "especificar, mediante una lista de nombres u objetos ZipInfo, un subconjunto\n",
    "de los contenidos a extraer. `pwd` es, de nuevo, la contraseña a usar\n",
    "si los ficheros estubieran cifrados."
   ]
  },
  {
   "cell_type": "markdown",
   "metadata": {
    "slideshow": {
     "slide_type": "slide"
    }
   },
   "source": [
    "- `printdir()`\n",
    "\n",
    "Imprime una tabla de  los contenidos del archivo en la salida\n",
    "estándar (En el notebook probablemente no funcionará)."
   ]
  },
  {
   "cell_type": "markdown",
   "metadata": {
    "slideshow": {
     "slide_type": "slide"
    }
   },
   "source": [
    "- `setpassword(pwd)`\n",
    "\n",
    "Define el valor de `pwd` como el nuevo valor por defecto de la contraseña\n",
    "a usar para extraer contenidos cifrados."
   ]
  },
  {
   "cell_type": "markdown",
   "metadata": {
    "slideshow": {
     "slide_type": "slide"
    }
   },
   "source": [
    "- `read(name, pwd=None)`\n",
    "\n",
    "Devuelve el contenido en *bytes* del archivo que se indica como\n",
    "parámetro. El parámetro `name` puede ser el nombre del fichero, o bien\n",
    "un objeto de tipo `ZipInfo`. El archivo zip debe estar abierto en\n",
    "modo `r` (*read*) o `a` (*append*). `pwd` es la contraseña usada para encriptar el\n",
    "fichero, y si se especifica, su valor sobreescribe el valor establecido de forma\n",
    "global con `setpassword`."
   ]
  },
  {
   "cell_type": "markdown",
   "metadata": {
    "slideshow": {
     "slide_type": "slide"
    }
   },
   "source": [
    "- `testzip()`\n",
    "\n",
    "Lee todos los ficheros del archivo zip, y comprueba sus valores de CRC y \n",
    "las cabeceras de los archivos. Devuelve el nombre del primer fichero\n",
    "incorrecto, o `None` si todos están bien."
   ]
  },
  {
   "cell_type": "markdown",
   "metadata": {
    "slideshow": {
     "slide_type": "slide"
    }
   },
   "source": [
    "- `write(filename, arcname=None, compress_type=None, compresslevel=None)`\n",
    "\n",
    "Escribe el fichero especificado por `filename`, con el nombre especifica en `arcname` (a veces\n",
    "nos puede interesar que el nombre no sea exactamente el mismo que la ruta original,\n",
    "por ejemplo en Windows no se puede incluir la letra del disco duro. Si no se \n",
    "especifica, se usara el valor de `filename`, pero sin la letra del disco duro \n",
    "ni los directorios intermedios usados para indicar el fichero. Si se\n",
    "indica un valor para `compress_type` se usara este en ves del nivel por \n",
    "defecto del archivo. De la misma manera, `compresslevel` sobreescribira,\n",
    "si se especifica, el valor por defecto. Para poder realizar esta operación el \n",
    "archivo tiene que abrirse en modo `w`, `x` o `a`."
   ]
  },
  {
   "cell_type": "markdown",
   "metadata": {
    "slideshow": {
     "slide_type": "slide"
    }
   },
   "source": [
    "- `ZipFile.writestr(zinfo_or_arcname, data, compress_type=None, compresslevel=None)`\n",
    "\n",
    "Sirve parqa escribir contenidos a partir de datos en memoria, especificados en el\n",
    "parámetro `data`, y no del sistema de archivos. Los parametros son equivalentes a los de `write`.\n",
    "`zinfo_or_arcname` es o un nombre de fichero o una instancia de `ZipInfo`. En este\n",
    "último caso, se ha de especificar obligatoriamente un nombre, fecha y hora. Si se\n",
    "usa un nombre, la fecha y hora se tomarán del momento actual. Para poder realizar\n",
    "esta operación el  archivo tiene que abrirse en modo `w`, `x` o `a`."
   ]
  },
  {
   "cell_type": "markdown",
   "metadata": {
    "slideshow": {
     "slide_type": "slide"
    }
   },
   "source": [
    "## Atributos disponibles en un objeto ZipFile\n",
    "\n",
    "- `filename`\n",
    "\n",
    "El nombre del archivo zip\n",
    "\n",
    "- `debug`\n",
    "\n",
    "El nivel de *debug* a usar. Puede variar de $0$ (valor por defecto; sin salida) a\n",
    "$3$ (El valor de máxima información). La salida se escribe a `sys.stdout`.\n",
    "\n",
    "- `comment`\n",
    "\n",
    "Un comentario asociado con el archivo zip. Nopuede exceder de 65535 bytes. Se puede\n",
    "asignar si se abrio el zip en modo `w`, `x` o `a`."
   ]
  },
  {
   "cell_type": "markdown",
   "metadata": {
    "slideshow": {
     "slide_type": "slide"
    }
   },
   "source": [
    "Miniproyecto: Hacer un script para almacenar en un archivo `notebooks.zip` todos\n",
    "los ficheros del directorio actual que tengan la estensión `ipynb`."
   ]
  },
  {
   "cell_type": "code",
   "execution_count": null,
   "metadata": {
    "slideshow": {
     "slide_type": "slide"
    }
   },
   "outputs": [],
   "source": [
    "!dir *.zip"
   ]
  },
  {
   "cell_type": "code",
   "execution_count": null,
   "metadata": {
    "slideshow": {
     "slide_type": "slide"
    }
   },
   "outputs": [],
   "source": [
    "import zipfile\n",
    "import os\n",
    "\n",
    "\n",
    "with zipfile.ZipFile('notebooks.zip', 'w') as f:\n",
    "    for fn in os.listdir():\n",
    "        _, ext = os.path.splitext(fn)\n",
    "        if ext == \".ipynb\":\n",
    "            print(f\"Guardando {fn}\")\n",
    "            zf.write(fn)"
   ]
  }
 ],
 "metadata": {
  "celltoolbar": "Slideshow",
  "kernelspec": {
   "display_name": "Python 3",
   "language": "python",
   "name": "python3"
  },
  "language_info": {
   "codemirror_mode": {
    "name": "ipython",
    "version": 3
   },
   "file_extension": ".py",
   "mimetype": "text/x-python",
   "name": "python",
   "nbconvert_exporter": "python",
   "pygments_lexer": "ipython3",
   "version": "3.6.9"
  }
 },
 "nbformat": 4,
 "nbformat_minor": 4
}
