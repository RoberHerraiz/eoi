{
 "cells": [
  {
   "cell_type": "markdown",
   "metadata": {
    "slideshow": {
     "slide_type": "slide"
    }
   },
   "source": [
    "## El módulo itertools\n",
    "\n",
    "**`itertools`** implementa una serie de funciones para trabajar con\n",
    "iteradoresr, que se usan como elementos básicos. Muchas de estas\n",
    "fnciones están inspiradas por distintas construcciones que podemos\n",
    "encontrar en otros lenguajes como APL, Haskell o SML."
   ]
  },
  {
   "cell_type": "markdown",
   "metadata": {
    "slideshow": {
     "slide_type": "slide"
    }
   },
   "source": [
    "Estas utilidades cuentan con la ventaja de ser parte de la librería\n",
    "estándar, ademásm de ser eficientes y rápidas, al estar implementadas a\n",
    "bajo nivel. Con estas utilidades se puede formar una especie de *algebra\n",
    "de iteradores* que permite construir herramientas más especializadas de\n",
    "forma suscinta y eficiente."
   ]
  },
  {
   "cell_type": "markdown",
   "metadata": {
    "slideshow": {
     "slide_type": "slide"
    }
   },
   "source": [
    "Algunas de las funciones de este módulo son:\n",
    "\n",
    "- count\n",
    "- cycle\n",
    "- chain\n",
    "- groupby\n",
    "- product\n",
    "- combinations\n",
    "- tee"
   ]
  },
  {
   "cell_type": "markdown",
   "metadata": {
    "slideshow": {
     "slide_type": "slide"
    }
   },
   "source": [
    "- `count(start, [step])`\n",
    "\n",
    "Iterador infinito. Devuelve una cuenta, empezando por `start` en la\n",
    "primera llamada y cada siguiente invocación con el valor\n",
    "incrementado por el parámetro opcional `step` (por omisión, 1):"
   ]
  },
  {
   "cell_type": "code",
   "execution_count": null,
   "metadata": {
    "slideshow": {
     "slide_type": "slide"
    }
   },
   "outputs": [],
   "source": [
    "import itertools\n",
    "\n",
    "for i in itertools.count(10, -1):\n",
    "    print(i)\n",
    "    if i == 0:\n",
    "        break"
   ]
  },
  {
   "cell_type": "markdown",
   "metadata": {
    "slideshow": {
     "slide_type": "slide"
    }
   },
   "source": [
    "- `cycle(s)`\n",
    "\n",
    "Iterador infinito. Empieza devolviendo los elementos de la secuencia\n",
    "`s`, y cuando termina, vuelve a empezar:"
   ]
  },
  {
   "cell_type": "code",
   "execution_count": null,
   "metadata": {
    "slideshow": {
     "slide_type": "slide"
    }
   },
   "outputs": [],
   "source": [
    "import itertools\n",
    "\n",
    "colors = itertools.cycle(['red', 'green', 'blue'])\n",
    "for i in range(7):\n",
    "    print(next(colors))"
   ]
  },
  {
   "cell_type": "markdown",
   "metadata": {
    "slideshow": {
     "slide_type": "slide"
    }
   },
   "source": [
    "- `chain(s1, s2, ... ,sn)`\n",
    "\n",
    "Encadena una secuencia detrás de otra:"
   ]
  },
  {
   "cell_type": "code",
   "execution_count": null,
   "metadata": {
    "slideshow": {
     "slide_type": "slide"
    }
   },
   "outputs": [],
   "source": [
    "import itertools\n",
    "\n",
    "letras = itertools.chain('ABC', 'DEF')\n",
    "for letra in letras:\n",
    "    print(letra)"
   ]
  },
  {
   "cell_type": "markdown",
   "metadata": {
    "slideshow": {
     "slide_type": "slide"
    }
   },
   "source": [
    "- `groupby(s, f)`\n",
    "\n",
    "Agrupa los elementos de una secuencia `s`, por el procedimiento de\n",
    "aplicar la función `f` a cada elemento, asignado al mismo grupo a\n",
    "aquellos elementos que devuelven el mismo resultado.\n",
    "    "
   ]
  },
  {
   "cell_type": "markdown",
   "metadata": {
    "slideshow": {
     "slide_type": "slide"
    }
   },
   "source": [
    "El resultado es otro iterador, que retorna **duplas** (tuplas de dos elementos). El primer\n",
    "elemento es el resultado de la función, el segundo, un iterador de elementos\n",
    "correspondientes a ese resultado / grupo."
   ]
  },
  {
   "cell_type": "markdown",
   "metadata": {
    "slideshow": {
     "slide_type": "slide"
    }
   },
   "source": [
    "Si la secuencia no viene ordenada segun el criterio de agrupación, es posible que se \n",
    "devuelvan varias duplas para un mismo valor del resultado de la función. En el siguiente ejemplo\n",
    "se puede ver más claro:"
   ]
  },
  {
   "cell_type": "markdown",
   "metadata": {
    "slideshow": {
     "slide_type": "slide"
    }
   },
   "source": [
    "El siguiente código agrupa una lista de enteros entre pares\n",
    "e impares:"
   ]
  },
  {
   "cell_type": "code",
   "execution_count": null,
   "metadata": {
    "slideshow": {
     "slide_type": "slide"
    }
   },
   "outputs": [],
   "source": [
    "import itertools\n",
    "\n",
    "numeros = [12, 34, 2, 44, 83, 94, 64, 21, 7, 33]\n",
    "\n",
    "def is_even(num):\n",
    "    return num % 2\n",
    "\n",
    "# numeros.sort(key=is_even)\n",
    "for is_even, sublist in itertools.groupby(numeros, is_even):\n",
    "    print(f\"{'Par' if is_even else 'Impar'}:\", end=' ')\n",
    "    print(*sublist, sep=', ')\n",
    "    "
   ]
  },
  {
   "cell_type": "markdown",
   "metadata": {
    "slideshow": {
     "slide_type": "slide"
    }
   },
   "source": [
    "**Ejercicio**: Dada la lista, `nombres`, con los nombres de las tortugas ninja,\n",
    "el siguiente programa las muestra agrupados por la primera letra de su nombre.\n",
    "Cambia el programa para que los agrupe por la **última** letra de su nombre."
   ]
  },
  {
   "cell_type": "code",
   "execution_count": null,
   "metadata": {
    "slideshow": {
     "slide_type": "notes"
    }
   },
   "outputs": [],
   "source": [
    "import itertools\n",
    "\n",
    "nombres = ['Donatello', 'Leonardo', 'Michelangelo', 'Raphael']\n",
    "\n",
    "def ultima_letra(nombre):\n",
    "    # Pista: tendras que cambiar el código de esta función\n",
    "    return nombre[0].upper()\n",
    "\n",
    "nombres.sort(key=ultima_letra)\n",
    "for (letra, sublist) in itertools.groupby(nombres, ultima_letra):\n",
    "    print(letra, end=\": \")\n",
    "    print(*sublist, sep=\", \")"
   ]
  },
  {
   "cell_type": "markdown",
   "metadata": {
    "slideshow": {
     "slide_type": "slide"
    }
   },
   "source": [
    "- `product(p, q, ...)`\n",
    "  \n",
    "Devuelve el producto cartesiano de las secuencias que se la pasen\n",
    "como parámetros. Es equivalente a varios bucles for anidados.\n",
    "  "
   ]
  },
  {
   "cell_type": "markdown",
   "metadata": {
    "slideshow": {
     "slide_type": "slide"
    }
   },
   "source": [
    "Por ejemplo:\n",
    "\n",
    "    product(A, B)\n",
    "\n",
    "devuelve el mismo resultado que:\n",
    "\n",
    "    ((x,y) for x in A for y in B)"
   ]
  },
  {
   "cell_type": "markdown",
   "metadata": {
    "slideshow": {
     "slide_type": "slide"
    }
   },
   "source": [
    "Ejemplo de uso: Lstar las combinaciones de las letras `A` y `B` con los\n",
    "dígitos $1$ y $2$"
   ]
  },
  {
   "cell_type": "code",
   "execution_count": null,
   "metadata": {
    "slideshow": {
     "slide_type": "slide"
    }
   },
   "outputs": [],
   "source": [
    "import itertools\n",
    "\n",
    "for (letra, numero) in itertools.product('AB', [1,2]):\n",
    "    print(letra, numero, sep='')"
   ]
  },
  {
   "cell_type": "markdown",
   "metadata": {
    "slideshow": {
     "slide_type": "slide"
    }
   },
   "source": [
    "**Ejercicio**: Generar todos los valores posibles de una baraja francesa, usando\n",
    "dos listas, los rangos, de As a Rey, y los palos: corazones, rombos, tréboles y picas."
   ]
  },
  {
   "cell_type": "code",
   "execution_count": null,
   "metadata": {},
   "outputs": [],
   "source": [
    "import itertools\n",
    "\n",
    "rangos = ['A', '2', '3', '4', '5', '6', '7', '8', '9', 'J', 'Q', 'K']\n",
    "palos = ['♠', '♥', '♦', '♣']\n",
    "\n",
    "# Tu código va aquí"
   ]
  },
  {
   "cell_type": "markdown",
   "metadata": {
    "slideshow": {
     "slide_type": "slide"
    }
   },
   "source": [
    "- `combinations(s, n)`\n",
    "\n",
    " Devuelve todas las combinaciones de longitud `n` que se pueden\n",
    " obtener a partir de los elementos de `s`. Los elementos serán\n",
    " considerados únicos en base a su posición, no por su valor, así que\n",
    " si cada elemento es único, no habra repeticiones dentro de cada\n",
    " combinación. \n",
    " "
   ]
  },
  {
   "cell_type": "markdown",
   "metadata": {
    "slideshow": {
     "slide_type": "slide"
    }
   },
   "source": [
    " El número de combinaciones retornadas será de:\n",
    "\n",
    " $$\\frac{n!}{r!(n-r)!}$$\n",
    "\n",
    " Donde:\n",
    "\n",
    " $$r \\in [0, 1, ..., n]$$\n",
    "\n",
    " Si `r` es mayor que `n`, no se devuelve ningún valor."
   ]
  },
  {
   "cell_type": "markdown",
   "metadata": {},
   "source": [
    "Se entiende mejor con ejemplos:"
   ]
  },
  {
   "cell_type": "code",
   "execution_count": null,
   "metadata": {
    "slideshow": {
     "slide_type": "slide"
    }
   },
   "outputs": [],
   "source": [
    "import itertools\n",
    "\n",
    "for i in itertools.combinations('ABCD', 1):\n",
    "    print(''.join(i))"
   ]
  },
  {
   "cell_type": "code",
   "execution_count": null,
   "metadata": {
    "slideshow": {
     "slide_type": "slide"
    }
   },
   "outputs": [],
   "source": [
    "import itertools\n",
    "\n",
    "for i in itertools.combinations('ABCD', 2):\n",
    "    print(''.join(i))"
   ]
  },
  {
   "cell_type": "code",
   "execution_count": null,
   "metadata": {
    "slideshow": {
     "slide_type": "slide"
    }
   },
   "outputs": [],
   "source": [
    "import itertools\n",
    "\n",
    "for i in itertools.combinations('ABCD', 3):\n",
    "    print(''.join(i))"
   ]
  },
  {
   "cell_type": "code",
   "execution_count": null,
   "metadata": {
    "slideshow": {
     "slide_type": "slide"
    }
   },
   "outputs": [],
   "source": [
    "import itertools\n",
    "\n",
    "for i in itertools.combinations('ABCD', 4):\n",
    "    print(''.join(i))"
   ]
  },
  {
   "cell_type": "markdown",
   "metadata": {
    "slideshow": {
     "slide_type": "slide"
    }
   },
   "source": [
    "- `tee(iterable[, n=2])`\n",
    "\n",
    "  Devuelve `n` iteradores independientes, a partir de un único\n",
    "  iterable."
   ]
  },
  {
   "cell_type": "code",
   "execution_count": null,
   "metadata": {},
   "outputs": [],
   "source": [
    "import itertools\n",
    "\n",
    "ia, ib = itertools.tee(range(10), 2)\n",
    "next(ib)\n",
    "for i in range(9):\n",
    "    print(next(ia), next(ib))"
   ]
  },
  {
   "cell_type": "markdown",
   "metadata": {
    "slideshow": {
     "slide_type": "notes"
    }
   },
   "source": [
    "Lo que hace internamente es similar a:\n",
    " \n",
    "    def tee(iterable, n=2):\n",
    "          it = iter(iterable)\n",
    "          deques = [collections.deque() for i in range(n)]\n",
    "          def gen(mydeque):\n",
    "              while True:\n",
    "                  if not mydeque:             # when the local deque is empty\n",
    "                      newval = next(it)       # fetch a new value and\n",
    "                      for d in deques:        # load it to all the deques\n",
    "                          d.append(newval)\n",
    "                  yield mydeque.popleft()\n",
    "          return tuple(gen(d) for d in deques)"
   ]
  },
  {
   "cell_type": "markdown",
   "metadata": {
    "slideshow": {
     "slide_type": "slide"
    }
   },
   "source": [
    "Una vez que `tee` ha empezado, el iterador original no deberia\n",
    "usarse más, porque se corre el riesgo de que el iterador avanze sin\n",
    "que los iteradores derivados sean informados."
   ]
  },
  {
   "cell_type": "markdown",
   "metadata": {
    "slideshow": {
     "slide_type": "slide"
    }
   },
   "source": [
    "Los iteradores devueltos por `tee` no son seguros para ser usados\n",
    "por diferentes *threads*, incluso aunque el iterador original si lo\n",
    "fuera. Si intentamos usarlos desde diferentes *threads*, es posible+\n",
    "que se eleve una excepción del tipo `RuntimeError`."
   ]
  },
  {
   "cell_type": "markdown",
   "metadata": {
    "slideshow": {
     "slide_type": "slide"
    }
   },
   "source": [
    "Este función puede que use una cantidad significativa de\n",
    "almacenamiento, dependiendo de la cantidad de datos temporales\n",
    "que necesite almacenar.\n",
    "  \n",
    "En general, si un iterador hijo va a leer la mayoría de los datos antes\n",
    "de que otro iterador hijo empiece, resultaria más eficaz usar una lista\n",
    "en vez de `tee`."
   ]
  },
  {
   "cell_type": "markdown",
   "metadata": {
    "slideshow": {
     "slide_type": "slide"
    }
   },
   "source": [
    "**Ejercicio**: calcular la suma de los tres números sucesivos, desde el cero\n",
    "hasta el 99, es decir, el primer termino es 0+1+2 = 3, el segundo es\n",
    "1\\*2\\*3 = 6, \\... hasta el ultimo 97+98+99 = 294\n",
    ":::"
   ]
  },
  {
   "cell_type": "code",
   "execution_count": null,
   "metadata": {},
   "outputs": [],
   "source": [
    "import itertools\n",
    "\n",
    "i0, i1, i2 = itertools.tee(range(100), 3)\n",
    "next(i1)\n",
    "next(i2)\n",
    "next(i2)\n",
    "for a,b,c in zip(i0, i1, i2):\n",
    "    print(f\"{a} + {b} + {c} = {a+b+c}\")"
   ]
  },
  {
   "cell_type": "markdown",
   "metadata": {},
   "source": [
    "- `itertools.zip_longest(*iterables, fillvalue=None)`\n",
    "\n",
    "Retorna un iterador que agrega los elementos de cada uno de los iterables. Funciona\n",
    "igual que `zip`, pero con la diferencia de que zip termina tan pronto como alguno de\n",
    "sus iteradores termina, mientras que `zip_longest` continua hasta que el último\n",
    "iterador acaba. Usa el valor definido en `fillvalue` como sustituto de los valores\n",
    "que ya no pueden suminitrar los iteradores agotados."
   ]
  },
  {
   "cell_type": "code",
   "execution_count": null,
   "metadata": {},
   "outputs": [],
   "source": [
    "import itertools\n",
    "\n",
    "i0, i1 = itertools.tee(range(10), 2)\n",
    "next(i1)\n",
    "for a,b in itertools.zip_longest(i0, i1, fillvalue=-1):\n",
    "    print(f\"{a} + {b} = {a+b}\")"
   ]
  }
 ],
 "metadata": {
  "celltoolbar": "Slideshow",
  "kernelspec": {
   "display_name": "Python 3",
   "language": "python",
   "name": "python3"
  },
  "language_info": {
   "codemirror_mode": {
    "name": "ipython",
    "version": 3
   },
   "file_extension": ".py",
   "mimetype": "text/x-python",
   "name": "python",
   "nbconvert_exporter": "python",
   "pygments_lexer": "ipython3",
   "version": "3.7.6"
  }
 },
 "nbformat": 4,
 "nbformat_minor": 4
}
