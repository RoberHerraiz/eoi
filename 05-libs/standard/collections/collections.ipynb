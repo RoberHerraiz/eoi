{
 "cells": [
  {
   "cell_type": "markdown",
   "metadata": {
    "slideshow": {
     "slide_type": "slide"
    }
   },
   "source": [
    "### El módulo collections: Otras estructuras de datos\n",
    "\n",
    "\n",
    "Este módulo implemente ciertos contendores\n",
    "especializados a partir de los básicos: dicionarios,\n",
    "listas, conjunto y tuplas."
   ]
  },
  {
   "cell_type": "code",
   "execution_count": 3,
   "metadata": {
    "slideshow": {
     "slide_type": "slide"
    }
   },
   "outputs": [],
   "source": [
    "import collections"
   ]
  },
  {
   "cell_type": "markdown",
   "metadata": {
    "slideshow": {
     "slide_type": "slide"
    }
   },
   "source": [
    "-  ``namedtuple``\n",
    "\n",
    "        Tuplas cuyo contenido puede ser accedido\n",
    "        tanto por posición como por nombre."
   ]
  },
  {
   "cell_type": "code",
   "execution_count": 14,
   "metadata": {},
   "outputs": [
    {
     "name": "stdout",
     "output_type": "stream",
     "text": [
      "(2, 4) Point(x=3, y=4) 3 3\n"
     ]
    },
    {
     "data": {
      "text/plain": [
       "5.0"
      ]
     },
     "execution_count": 14,
     "metadata": {},
     "output_type": "execute_result"
    }
   ],
   "source": [
    "import collections\n",
    "import math\n",
    "\n",
    "p1 = (2, 4)\n",
    "\n",
    "Point = collections.namedtuple('Point', \"x y\")\n",
    "p2 = Point(3, 4)\n",
    "\n",
    "print(p1, p2, p2[0], p2.x)\n",
    "\n",
    "math.sqrt(p1[0]**2+p1[1]**2)\n",
    "\n",
    "math.sqrt(p2.x**2+p2.y**2)"
   ]
  },
  {
   "cell_type": "markdown",
   "metadata": {
    "slideshow": {
     "slide_type": "slide"
    }
   },
   "source": [
    "-  ``deque``\n",
    "\n",
    "        Una doble lista encadenada especializada en realizar\n",
    "        operaciones de añadir o quitar de los extremos con\n",
    "        gran rapidez."
   ]
  },
  {
   "cell_type": "code",
   "execution_count": 23,
   "metadata": {},
   "outputs": [
    {
     "name": "stdout",
     "output_type": "stream",
     "text": [
      "deque([1, 2, 3])\n",
      "None\n",
      "deque([4, 1, 2, 3])\n",
      "1\n"
     ]
    }
   ],
   "source": [
    "q = collections.deque([1,2, 3])\n",
    "print(q)\n",
    "print(q.insert(0, 4))\n",
    "print(q)\n",
    "print(q[1000])"
   ]
  },
  {
   "cell_type": "markdown",
   "metadata": {
    "slideshow": {
     "slide_type": "slide"
    }
   },
   "source": [
    "-  ``Counter``\n",
    "\n",
    "        Un diccionarios especializado en llevar cuentas; asocia\n",
    "        a cada clave un contador y tienen métodos adicionales\n",
    "        para este tipo de estructura de datos. Es equivalente\n",
    "        en otros lengajes al concepto de ``multisets``."
   ]
  },
  {
   "cell_type": "code",
   "execution_count": 41,
   "metadata": {},
   "outputs": [
    {
     "data": {
      "text/plain": [
       "[('bbb', 5), ('cbb', 2), ('aaa', 1)]"
      ]
     },
     "execution_count": 41,
     "metadata": {},
     "output_type": "execute_result"
    }
   ],
   "source": [
    "s = [\"aaa\", \"bbb\", \"cbb\", \"bcb\", \"cbb\", \"aba\", \"bbb\", \"zzz\", \"bbb\", \"bbb\", \"bbb\"]\n",
    "d = collections.Counter(s)\n",
    "d.most_common(3)"
   ]
  },
  {
   "cell_type": "code",
   "execution_count": null,
   "metadata": {},
   "outputs": [],
   "source": [
    "Contar las 4 palabras del texto de los Hermanos Mark"
   ]
  },
  {
   "cell_type": "code",
   "execution_count": 42,
   "metadata": {},
   "outputs": [
    {
     "name": "stdout",
     "output_type": "stream",
     "text": [
      "[('la', 24), ('parte', 22), ('de', 13), ('primera', 10)]\n"
     ]
    }
   ],
   "source": [
    "import re\n",
    "\n",
    "def text_to_words(text):\n",
    "    pat_seps = re.compile(\"[-\\s!?¿+.,;:]+\")\n",
    "    words = (w.strip().lower() for w in pat_seps.split(text))\n",
    "    return [w for w in words if w]\n",
    "\n",
    "text = \"\"\"\\\n",
    "- Haga el favor de poner atención en la primera cláusula porque es muy importante. Dice que… la parte contratante de la primera parte será considerada como la parte contratante de la primera parte. ¿Qué tal, está muy bien, eh?\n",
    "- No, eso no está bien. Quisiera volver a oírlo.\n",
    "- Dice que… la parte contratante de la primera parte será considerada como la parte contratante de la primera parte.\n",
    "- Esta vez creo que suena mejor.\n",
    "- Si quiere se lo leo otra vez.\n",
    "- Tan solo la primera parte.\n",
    "- ¿Sobre la parte contratante de la primera parte?\n",
    "- No, solo la parte de la parte contratante de la primera parte.\n",
    "- Oiga, ¿por qué hemos de pelearnos por una tontería como ésta? La cortamos.\n",
    "- Sí, es demasiado largo. ¿Qué es lo que nos queda ahora?\n",
    "- Dice ahora… la parte contratante de la segunda parte será considerada como la parte contratante de la segunda parte.\n",
    "- Eso si que no me gusta nada. Nunca segundas partes fueron buenas.\n",
    "- Escuche: ¿por qué no hacemos que la primera parte de la segunda parte contratante sea la segunda parte de la primera parte?\n",
    "\"\"\"\n",
    "\n",
    "words = text_to_words(text)\n",
    "print(collections.Counter(words).most_common(4))"
   ]
  },
  {
   "cell_type": "markdown",
   "metadata": {
    "slideshow": {
     "slide_type": "slide"
    }
   },
   "source": [
    "- ``OrderedDict``\n",
    "\n",
    "        Una subclase del diccionario que recuerda el orden en\n",
    "        que se han añadido sus elementos."
   ]
  },
  {
   "cell_type": "code",
   "execution_count": 46,
   "metadata": {},
   "outputs": [
    {
     "name": "stdout",
     "output_type": "stream",
     "text": [
      "tres\n",
      "uno\n",
      "dos\n"
     ]
    }
   ],
   "source": [
    "d = collections.OrderedDict()\n",
    "d[\"tres\"] = 3\n",
    "d[\"uno\"] = 1\n",
    "d[\"dos\"] = 2\n",
    "for i in d:\n",
    "    print(i)"
   ]
  },
  {
   "cell_type": "markdown",
   "metadata": {
    "slideshow": {
     "slide_type": "slide"
    }
   },
   "source": [
    "-  ``defaultdict``\n",
    "\n",
    "        Una subclase del diccionario que llama a una función\n",
    "        definida por nosotros cuando no encuentra una clave."
   ]
  },
  {
   "cell_type": "code",
   "execution_count": 73,
   "metadata": {
    "slideshow": {
     "slide_type": "slide"
    }
   },
   "outputs": [],
   "source": [
    "d = collections.defaultdict(list)"
   ]
  },
  {
   "cell_type": "code",
   "execution_count": 74,
   "metadata": {},
   "outputs": [
    {
     "data": {
      "text/plain": [
       "defaultdict(list, {})"
      ]
     },
     "execution_count": 74,
     "metadata": {},
     "output_type": "execute_result"
    }
   ],
   "source": [
    "d"
   ]
  },
  {
   "cell_type": "code",
   "execution_count": 79,
   "metadata": {},
   "outputs": [],
   "source": [
    "d['b'].append(\"beta\")\n",
    "d['b'].append(\"bufalo\")\n",
    "d['z'].append('zulo')"
   ]
  },
  {
   "cell_type": "code",
   "execution_count": 90,
   "metadata": {},
   "outputs": [
    {
     "data": {
      "text/plain": [
       "{'eh', 'el', 'en', 'es', 'escuche', 'eso', 'esta', 'está'}"
      ]
     },
     "execution_count": 90,
     "metadata": {},
     "output_type": "execute_result"
    }
   ],
   "source": [
    "d = collections.defaultdict(set)\n",
    "for word in words:\n",
    "    inicial = word[0]\n",
    "    d[inicial].add(word)\n",
    "d[\"e\"]"
   ]
  }
 ],
 "metadata": {
  "celltoolbar": "Slideshow",
  "kernelspec": {
   "display_name": "Python 3",
   "language": "python",
   "name": "python3"
  },
  "language_info": {
   "codemirror_mode": {
    "name": "ipython",
    "version": 3
   },
   "file_extension": ".py",
   "mimetype": "text/x-python",
   "name": "python",
   "nbconvert_exporter": "python",
   "pygments_lexer": "ipython3",
   "version": "3.6.9"
  }
 },
 "nbformat": 4,
 "nbformat_minor": 4
}
