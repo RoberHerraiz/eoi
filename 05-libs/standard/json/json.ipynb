{
 "cells": [
  {
   "cell_type": "markdown",
   "metadata": {
    "slideshow": {
     "slide_type": "slide"
    }
   },
   "source": [
    "La libreria json\n",
    "\n",
    "Nos permite trabajar con ficheros en formato json\n",
    "\n",
    "JSON (JavaScript Object Notation), es un formato de texto ligero para el intercambio de datos. JSON es un subconjunto de la notación literal de objetos de JavaScript aunque hoy, debido a su amplia adopción como alternativa a XML, se considera un formato de lenguaje independiente.\n",
    "\n",
    "Es utilizado para proyectos de lenguajes de programación diferentes como C, C++, Java, Javascript, Perl, Python y muchos más. Estas propiedades hacen que JSON sea el lenguaje ideal para el intercambio de datos.\n",
    "\n",
    "Por lo tanto, JSON se puede considerar como un método simple de crear y almacenar estructuras de datos y, gracias a su sintaxis, se utiliza en muchas aplicaciones web. Una de sus principales virtudes es que, además de ser relativamente eficiente, es legible por un humano, con lo que actualemente es el formato usado por la mayoría de las API.\n",
    "\n",
    "Un ejemplo de datos con formato JSON es la siguiente:"
   ]
  },
  {
   "cell_type": "markdown",
   "metadata": {
    "slideshow": {
     "slide_type": "slide"
    }
   },
   "source": [
    "    { \"username\": \"fmiller\", \"dob\": \"1988-02-26\", \"active\": true }"
   ]
  },
  {
   "cell_type": "markdown",
   "metadata": {
    "slideshow": {
     "slide_type": "slide"
    }
   },
   "source": [
    "El módulo utilizado para este propósito es el módulo json. Al ser parte de la librera estándar, lo único que necesitas hacer para usar este módulo es importarlo:"
   ]
  },
  {
   "cell_type": "code",
   "execution_count": 4,
   "metadata": {
    "slideshow": {
     "slide_type": "slide"
    }
   },
   "outputs": [],
   "source": [
    "import json"
   ]
  },
  {
   "cell_type": "markdown",
   "metadata": {
    "slideshow": {
     "slide_type": "slide"
    }
   },
   "source": [
    "Usaremos esta librería para, o bien interpretar un texto y convertirlo en una estructira de datos nativa de Python, o a la inversa, convertir en texto o serializar unos valores de python."
   ]
  },
  {
   "cell_type": "markdown",
   "metadata": {
    "slideshow": {
     "slide_type": "slide"
    }
   },
   "source": [
    "La funcion loads\n",
    "\n",
    "Loads hace la primera de las operaciones. Le pasamos como argumento un texto en formato json, y nos devuelve una estructura de datos con valores nativos de Python."
   ]
  },
  {
   "cell_type": "code",
   "execution_count": 10,
   "metadata": {
    "slideshow": {
     "slide_type": "slide"
    }
   },
   "outputs": [
    {
     "name": "stdout",
     "output_type": "stream",
     "text": [
      "<class 'dict'> 523.23 <class 'float'>\n"
     ]
    }
   ],
   "source": [
    "import json\n",
    "\n",
    "user_json = '''{\"username\": \"fmiller\", \"dob\": 523.23, \"active\": true}'''\n",
    "user = json.loads(user_json)\n",
    "\n",
    "print(type(user), user['dob'], type(user['dob']))"
   ]
  },
  {
   "cell_type": "markdown",
   "metadata": {
    "slideshow": {
     "slide_type": "slide"
    }
   },
   "source": [
    "La funcion dumps\n",
    "\n",
    "La función dumps es la inversa de loads, acepta como parametro una variable python (Incluyendo listas o diccionarios que contengan otros valores), y devuelve una cadena de texto formateada en json."
   ]
  },
  {
   "cell_type": "markdown",
   "metadata": {
    "slideshow": {
     "slide_type": "slide"
    }
   },
   "source": [
    "Tenemos el siguiente diccionario en Python:"
   ]
  },
  {
   "cell_type": "code",
   "execution_count": 13,
   "metadata": {
    "slideshow": {
     "slide_type": "slide"
    }
   },
   "outputs": [
    {
     "name": "stdout",
     "output_type": "stream",
     "text": [
      "{\"name\": \"Bob\", \"age\": 44, \"isEmployed\": true} <class 'str'>\n"
     ]
    }
   ],
   "source": [
    "import json \n",
    "\n",
    "d = {'name':'Bob', 'age':44, 'isEmployed':True}\n",
    "s = json.dumps(d) \n",
    "print(s, type(s))"
   ]
  },
  {
   "cell_type": "markdown",
   "metadata": {
    "slideshow": {
     "slide_type": "slide"
    }
   },
   "source": [
    "Esta salida se considera la representación de los datos del objeto (diccionario). El método dumps() fue la clave para dicha operación."
   ]
  },
  {
   "cell_type": "markdown",
   "metadata": {
    "slideshow": {
     "slide_type": "slide"
    }
   },
   "source": [
    "Limitacines de json\n",
    "\n",
    "Hay determinados tipos de valores que no se pueden representar en json. POr ejemplo, los datos de tipo fecha o timestamp no tienen una representacion como tales en json. Un truco habitual es codificarlos como string usando el formato ISO 8601."
   ]
  },
  {
   "cell_type": "markdown",
   "metadata": {
    "slideshow": {
     "slide_type": "slide"
    }
   },
   "source": [
    "En general, json puede trabajar con:\n",
    "\n",
    "    Valores booleanos\n",
    "    El objeto None\n",
    "    Números enteros o en coma flotante\n",
    "    Cadenas de caracteres\n",
    "    Listas\n",
    "    Diccionarios\n",
    "\n",
    "Cualquier otro tipo, incluyendo por supuesto nuestras clases, debera ser adaptado a uno de estos tipos basicos para que se pueda convertir a json."
   ]
  },
  {
   "cell_type": "markdown",
   "metadata": {
    "slideshow": {
     "slide_type": "slide"
    }
   },
   "source": [
    "Ejercicio: Intentar serializar un objeto de tipo datetime.datetime. Comprobar que da error. Intentar ahora con un objeto tipo arrow.Arrow. Comprobar que tambien da error, pero asi podemos ver la utilida del metodo for_json."
   ]
  },
  {
   "cell_type": "code",
   "execution_count": 19,
   "metadata": {
    "slideshow": {
     "slide_type": "slide"
    }
   },
   "outputs": [
    {
     "data": {
      "text/plain": [
       "'\"2020-04-22T15:58:46.071963+00:00\"'"
      ]
     },
     "execution_count": 19,
     "metadata": {},
     "output_type": "execute_result"
    }
   ],
   "source": [
    "import json\n",
    "import datetime\n",
    "import arrow\n",
    "\n",
    "hoy = arrow.utcnow()\n",
    "json.dumps(hoy.for_json())\n"
   ]
  },
  {
   "cell_type": "markdown",
   "metadata": {
    "slideshow": {
     "slide_type": "slide"
    }
   },
   "source": [
    "La libreria json nos permite ampliar los metodos loads y dumps para que puedan interpretar determinados valores que no estan incluidos en la especificacion de json pero que nosotros podemos reconstruir o serializar:"
   ]
  },
  {
   "cell_type": "code",
   "execution_count": 31,
   "metadata": {
    "slideshow": {
     "slide_type": "slide"
    }
   },
   "outputs": [],
   "source": [
    "import json, arrow\n",
    "\n",
    "class SuperJSONEncoder(json.JSONEncoder):\n",
    "\n",
    "    def default(self, obj):\n",
    "        if isinstance(obj, arrow.Arrow):\n",
    "            return obj.for_json()\n",
    "        return super().default(obj)\n",
    "\n",
    "def as_json(obj):\n",
    "    return json.dumps(obj, cls=SuperJSONEncoder, indent=4)"
   ]
  },
  {
   "cell_type": "code",
   "execution_count": 32,
   "metadata": {
    "slideshow": {
     "slide_type": "fragment"
    }
   },
   "outputs": [
    {
     "name": "stdout",
     "output_type": "stream",
     "text": [
      "{\n",
      "    \"name\": \"John\",\n",
      "    \"birdtday\": \"1988-05-15T00:00:00+00:00\"\n",
      "}\n"
     ]
    }
   ],
   "source": [
    "data = {'name': \"John\", \"birdtday\": arrow.get(1988, 5, 15)}\n",
    "print(as_json(data))"
   ]
  },
  {
   "cell_type": "markdown",
   "metadata": {
    "slideshow": {
     "slide_type": "slide"
    }
   },
   "source": [
    "Ejercicio: Supongamos que tenmos una clase para representar las cartas de una baraja, como esta:"
   ]
  },
  {
   "cell_type": "code",
   "execution_count": 47,
   "metadata": {
    "slideshow": {
     "slide_type": "slide"
    }
   },
   "outputs": [],
   "source": [
    "class Card:\n",
    "\n",
    "    SUITS = {'T': 'trébol', 'D': 'diamantes', 'C': 'corazones', 'P': 'picas'}\n",
    "\n",
    "    VALUES = {\n",
    "        'A': 'as',\n",
    "        '2': 'dos',\n",
    "        '3': 'tres',\n",
    "        '4': 'cuatro',\n",
    "        '5': 'cinco',\n",
    "        '6': 'seis',\n",
    "        '7': 'siete',\n",
    "        '8': 'ocho',\n",
    "        '9': 'nueve',\n",
    "        '10': 'diez',\n",
    "        'J': 'jota',\n",
    "        'Q': 'reina',\n",
    "        'K': 'rey',\n",
    "    }\n",
    "\n",
    "    def __init__(self, code):\n",
    "        self.suit = code[0]\n",
    "        self.value = code[1:]\n",
    "\n",
    "    def suit_name(self):\n",
    "        return self.SUITS[self.suit]\n",
    "\n",
    "    def value_name(self):\n",
    "        return self.VALUES[self.value]\n",
    "\n",
    "    def __str__(self):\n",
    "        return f\"{self.value_name()} de {self.suit_name()}\"\n",
    "    \n",
    "    def to_dict(self):\n",
    "        return {\n",
    "            'class': \"Card\",\n",
    "            'suit': self.suit,\n",
    "            'value': self.value\n",
    "        }"
   ]
  },
  {
   "cell_type": "code",
   "execution_count": 48,
   "metadata": {
    "slideshow": {
     "slide_type": "slide"
    }
   },
   "outputs": [
    {
     "name": "stdout",
     "output_type": "stream",
     "text": [
      "{'suit': 'D', 'value': '2'}\n"
     ]
    },
    {
     "data": {
      "text/plain": [
       "'D2'"
      ]
     },
     "execution_count": 48,
     "metadata": {},
     "output_type": "execute_result"
    }
   ],
   "source": [
    "carta =  Card(\"D2\")\n",
    "print(carta.to_dict())\n",
    "\"D2\""
   ]
  },
  {
   "cell_type": "markdown",
   "metadata": {
    "slideshow": {
     "slide_type": "slide"
    }
   },
   "source": [
    "Como podriamos guardar la informacion de una carta en JSON. Que es lo minima informacion necesaria para poder almacenar y luego poder reconstruir una carta?"
   ]
  },
  {
   "cell_type": "markdown",
   "metadata": {
    "slideshow": {
     "slide_type": "slide"
    }
   },
   "source": [
    "Nota: No hay realmente una forma \"correcta\" de resolver esto. Depende mucho del contexto. Pero es interesante queplanteemos diferentes formas de hacerlo."
   ]
  },
  {
   "cell_type": "code",
   "execution_count": null,
   "metadata": {},
   "outputs": [],
   "source": [
    "https://api.tfl.gov.uk/Line/bakerloo%2Cvictoria%2Ccentral%2Cjubilee%2Cdlr"
   ]
  },
  {
   "cell_type": "code",
   "execution_count": 52,
   "metadata": {},
   "outputs": [
    {
     "name": "stdout",
     "output_type": "stream",
     "text": [
      "Bakerloo [tube] 0 disruptions\n",
      "Central [tube] 0 disruptions\n",
      "DLR [dlr] 0 disruptions\n",
      "Jubilee [tube] 0 disruptions\n",
      "Victoria [tube] 0 disruptions\n"
     ]
    }
   ],
   "source": [
    "# %load tlf-line-status.py\n",
    "import requests\n",
    "\n",
    "url = \"https://api.tfl.gov.uk/Line/bakerloo,victoria,central,jubilee,dlr\"\n",
    "r = requests.get(url)\n",
    "assert r.status_code == 200\n",
    "for line in r.json():\n",
    "    name = line['name']\n",
    "    mode_name = line[\"modeName\"]\n",
    "    disruptions = line[\"disruptions\"]\n",
    "    print(f\"{name} [{mode_name}] {len(disruptions)} disruptions\")\n"
   ]
  },
  {
   "cell_type": "code",
   "execution_count": null,
   "metadata": {},
   "outputs": [],
   "source": []
  }
 ],
 "metadata": {
  "celltoolbar": "Slideshow",
  "kernelspec": {
   "display_name": "Python 3",
   "language": "python",
   "name": "python3"
  },
  "language_info": {
   "codemirror_mode": {
    "name": "ipython",
    "version": 3
   },
   "file_extension": ".py",
   "mimetype": "text/x-python",
   "name": "python",
   "nbconvert_exporter": "python",
   "pygments_lexer": "ipython3",
   "version": "3.6.9"
  }
 },
 "nbformat": 4,
 "nbformat_minor": 4
}
