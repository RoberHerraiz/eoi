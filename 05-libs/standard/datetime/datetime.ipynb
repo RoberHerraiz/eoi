{
 "cells": [
  {
   "cell_type": "code",
   "execution_count": 82,
   "metadata": {
    "slideshow": {
     "slide_type": "skip"
    }
   },
   "outputs": [
    {
     "data": {
      "text/html": [
       "<style>img {\n",
       "    float: right;\n",
       "}\n",
       "</style>"
      ],
      "text/plain": [
       "<IPython.core.display.HTML object>"
      ]
     },
     "execution_count": 82,
     "metadata": {},
     "output_type": "execute_result"
    }
   ],
   "source": [
    "from IPython.display import HTML\n",
    "from pathlib import Path\n",
    "\n",
    "css_rules = Path('../../css/custom.css').read_text()\n",
    "HTML('<style>' + css_rules + '</style>')"
   ]
  },
  {
   "cell_type": "markdown",
   "metadata": {
    "slideshow": {
     "slide_type": "slide"
    }
   },
   "source": [
    "### La librería datetime\n",
    "\n",
    "El módulo `datetime` continua donde lo deja `time`. Proporciona clases\n",
    "para trabajar con fechas y tiempos, soportando por ejemplo aritmética de\n",
    "fechas."
   ]
  },
  {
   "cell_type": "code",
   "execution_count": 83,
   "metadata": {
    "slideshow": {
     "slide_type": "slide"
    }
   },
   "outputs": [
    {
     "name": "stdout",
     "output_type": "stream",
     "text": [
      "01-environment\t05-libs     build    games\tlogo-eoi.png  README.md\n",
      "02-core\t\t06-web\t    conf.py  index.rst\tMakefile      requirements.txt\n",
      "04-patterns\tAA-annexes  css      intro.rst\tmisc\t      Tolete.ipynb\n"
     ]
    }
   ],
   "source": [
    "!ls ../.."
   ]
  },
  {
   "cell_type": "markdown",
   "metadata": {
    "slideshow": {
     "slide_type": "slide"
    }
   },
   "source": [
    "La clase *datetime* sirva para trabajar con fechas y horas. Para\n",
    "trabajar con estos objetos hay que saber que existen dos tipos distintos\n",
    "de fechas/horas que podemos obtener a partir de esta clase: fechas\n",
    "absolutas y fechas ingenuas o *naive*."
   ]
  },
  {
   "cell_type": "markdown",
   "metadata": {
    "slideshow": {
     "slide_type": "slide"
    }
   },
   "source": [
    "Una fecha absoluta dispone de toda la información necesaria para poder\n",
    "determinar, sin ninguna ambigüedad, su valor. Sabe por tanto en que zona\n",
    "horaría está y, lo que es más complicado, si está activo o no el horario\n",
    "de verano."
   ]
  },
  {
   "cell_type": "markdown",
   "metadata": {
    "slideshow": {
     "slide_type": "slide"
    }
   },
   "source": [
    "El horario de verano es un acuerdo político, administrado por cada país,\n",
    "por lo que no puede sorprender que sea cambiante, difícil de entender y\n",
    "caótico."
   ]
  },
  {
   "cell_type": "markdown",
   "metadata": {
    "slideshow": {
     "slide_type": "slide"
    }
   },
   "source": [
    "La ventaja de una fecha/hora absoluta es que no está sujeta a\n",
    "interpretación. Con una fecha *naive*, por el contrario, no se puede\n",
    "saber con seguridad a no ser que dispongamos de algun sistema que nos\n",
    "indique la ubicación geográfica para completar la información."
   ]
  },
  {
   "cell_type": "markdown",
   "metadata": {
    "slideshow": {
     "slide_type": "slide"
    }
   },
   "source": [
    "Una fecha ingenua está, por lo tanto, incompleta. Le falta información\n",
    "necesaria para que su valor sea indiscutible, lo que dificulta, por\n",
    "ejemplo, hacer comparaciones.\n",
    "\n",
    "Determinar si una fecha *naive* está referida al Tiempo Coordinado\n",
    "Universal (UTC), la fecha y hora local o la fecha y hora en alguna otra\n",
    "zona horaria depende por entero del programa, de la misma forma que es\n",
    "responsabilidad del programa determinar si un número representa metros,\n",
    "micras o litros."
   ]
  },
  {
   "cell_type": "markdown",
   "metadata": {
    "slideshow": {
     "slide_type": "slide"
    }
   },
   "source": [
    "Las fechas/tiempo locales son fáciles de entender y de usar, pero esa\n",
    "falta de información nos puede dar problemas."
   ]
  },
  {
   "cell_type": "markdown",
   "metadata": {
    "slideshow": {
     "slide_type": "slide"
    }
   },
   "source": [
    "Los tipos disponibles en este módulo son:\n",
    "\n",
    "-   `datetime.date`\n",
    "\n",
    "Una fecha local, que asume que el Calendario Gregoriano siempre ha\n",
    "estado y siempre estará vigente. Tiene los atributos: `year`, `month`\n",
    "y `day`."
   ]
  },
  {
   "cell_type": "code",
   "execution_count": 84,
   "metadata": {
    "slideshow": {
     "slide_type": "slide"
    }
   },
   "outputs": [
    {
     "name": "stdout",
     "output_type": "stream",
     "text": [
      "2020-04-15\n"
     ]
    }
   ],
   "source": [
    "import datetime\n",
    "\n",
    "hoy = datetime.date.today()\n",
    "print(hoy)"
   ]
  },
  {
   "cell_type": "code",
   "execution_count": 85,
   "metadata": {},
   "outputs": [
    {
     "name": "stdout",
     "output_type": "stream",
     "text": [
      "2020-04-15 2020 4 15\n"
     ]
    }
   ],
   "source": [
    "import datetime\n",
    "\n",
    "dt = datetime.date(2020, 4, 15)\n",
    "print(hoy, hoy.year, hoy.month, hoy.day)"
   ]
  },
  {
   "cell_type": "markdown",
   "metadata": {
    "slideshow": {
     "slide_type": "slide"
    }
   },
   "source": [
    "Note: Los objetos `date`, asi como todos los demas definidos en este modulo, son **inmutables**."
   ]
  },
  {
   "cell_type": "code",
   "execution_count": 92,
   "metadata": {
    "slideshow": {
     "slide_type": "slide"
    }
   },
   "outputs": [
    {
     "ename": "AttributeError",
     "evalue": "attribute 'year' of 'datetime.date' objects is not writable",
     "output_type": "error",
     "traceback": [
      "\u001b[0;31m---------------------------------------------------------------------------\u001b[0m",
      "\u001b[0;31mAttributeError\u001b[0m                            Traceback (most recent call last)",
      "\u001b[0;32m<ipython-input-92-1562094884c3>\u001b[0m in \u001b[0;36m<module>\u001b[0;34m\u001b[0m\n\u001b[1;32m      1\u001b[0m \u001b[0md\u001b[0m \u001b[0;34m=\u001b[0m \u001b[0mdatetime\u001b[0m\u001b[0;34m.\u001b[0m\u001b[0mdate\u001b[0m\u001b[0;34m.\u001b[0m\u001b[0mtoday\u001b[0m\u001b[0;34m(\u001b[0m\u001b[0;34m)\u001b[0m\u001b[0;34m\u001b[0m\u001b[0;34m\u001b[0m\u001b[0m\n\u001b[0;32m----> 2\u001b[0;31m \u001b[0md\u001b[0m\u001b[0;34m.\u001b[0m\u001b[0myear\u001b[0m \u001b[0;34m=\u001b[0m \u001b[0;36m2040\u001b[0m\u001b[0;34m\u001b[0m\u001b[0;34m\u001b[0m\u001b[0m\n\u001b[0m",
      "\u001b[0;31mAttributeError\u001b[0m: attribute 'year' of 'datetime.date' objects is not writable"
     ]
    }
   ],
   "source": [
    "d = datetime.date.today()\n",
    "d.year = 2040"
   ]
  },
  {
   "cell_type": "markdown",
   "metadata": {
    "slideshow": {
     "slide_type": "slide"
    }
   },
   "source": [
    "Tambien podemos crear una fecha a partir de una marca temporal tipo Unix (Segundos desde 1970), usando el metodo de clase `fromtimestamp`."
   ]
  },
  {
   "cell_type": "code",
   "execution_count": 86,
   "metadata": {},
   "outputs": [
    {
     "name": "stdout",
     "output_type": "stream",
     "text": [
      "2020-04-15\n"
     ]
    }
   ],
   "source": [
    "import time\n",
    "\n",
    "dt = datetime.date.fromtimestamp(time.time())\n",
    "print(dt)"
   ]
  },
  {
   "cell_type": "markdown",
   "metadata": {},
   "source": [
    "- `datetime.time`\n",
    "\n",
    "Una marca de tiempo ideal, no sujeta a ninguna fecha en particular, y\n",
    "que asume que cada día tiene exactamente 24\\*60\\*60 segundos. Tiene\n",
    "los atributos: `hour`, `minute`, `second`, `microsecond` y `tzinfo`."
   ]
  },
  {
   "cell_type": "code",
   "execution_count": 87,
   "metadata": {},
   "outputs": [
    {
     "name": "stdout",
     "output_type": "stream",
     "text": [
      "12:00:00 12 0 0\n"
     ]
    }
   ],
   "source": [
    "import datetime\n",
    "\n",
    "t = datetime.time(12, 0, 0)\n",
    "print(t, t.hour, t.minute, t.second)"
   ]
  },
  {
   "cell_type": "markdown",
   "metadata": {},
   "source": [
    "- `class datetime.datetime`\n",
    "\n",
    "Combinación de fecha y hora, con los atributos: `year`, `month`,\n",
    "`day`, `hour`, `minute`, `second`, `microsecond` y `tzinfo`"
   ]
  },
  {
   "cell_type": "code",
   "execution_count": 88,
   "metadata": {},
   "outputs": [
    {
     "name": "stdout",
     "output_type": "stream",
     "text": [
      "2020-04-15 20:58:39.653047\n",
      "2020\n",
      "58\n"
     ]
    }
   ],
   "source": [
    "ahora = datetime.datetime.now()\n",
    "print(ahora, ahora.year, ahora.minute, sep=\"\\n\")"
   ]
  },
  {
   "cell_type": "code",
   "execution_count": 89,
   "metadata": {
    "slideshow": {
     "slide_type": "slide"
    }
   },
   "outputs": [
    {
     "name": "stdout",
     "output_type": "stream",
     "text": [
      "2020-01-01 23:12:44\n"
     ]
    }
   ],
   "source": [
    "dt = datetime.datetime(2020, 1, 1, 23, 12, 44)\n",
    "print(dt)"
   ]
  },
  {
   "cell_type": "markdown",
   "metadata": {},
   "source": [
    "- `datetime.timedelta`\n",
    "\n",
    "Representa una duración: La diferencia entre dos objetos de tipo `date` o `datetime`.\n"
   ]
  },
  {
   "cell_type": "code",
   "execution_count": 90,
   "metadata": {
    "slideshow": {
     "slide_type": "slide"
    }
   },
   "outputs": [
    {
     "data": {
      "text/plain": [
       "datetime.timedelta(366)"
      ]
     },
     "execution_count": 90,
     "metadata": {},
     "output_type": "execute_result"
    }
   ],
   "source": [
    "datetime.date(2020, 4, 15) - datetime.date(2019, 4, 15)\n"
   ]
  },
  {
   "cell_type": "markdown",
   "metadata": {},
   "source": [
    "**Ejercicio**: Dada la fecha de hoy, calcular la fecha para una cita dentro de 91 dias:"
   ]
  },
  {
   "cell_type": "code",
   "execution_count": 70,
   "metadata": {
    "slideshow": {
     "slide_type": "slide"
    }
   },
   "outputs": [
    {
     "name": "stdout",
     "output_type": "stream",
     "text": [
      "Su proxima cita sera el 2020-07-15\n"
     ]
    }
   ],
   "source": [
    "hoy = datetime.date.today()\n",
    "cita = hoy + datetime.timedelta(days=91)\n",
    "print(f\"Su proxima cita sera el {cita}\")"
   ]
  },
  {
   "cell_type": "markdown",
   "metadata": {},
   "source": [
    "Ejercicio: Cuantos dias vivio Elvis Presley?"
   ]
  },
  {
   "cell_type": "markdown",
   "metadata": {
    "slideshow": {
     "slide_type": "slide"
    }
   },
   "source": [
    "\n",
    "![Elvis presley](./img/elvis.jpg)\n",
    "\n",
    "### Elvis Aaron Presley\n",
    "\n",
    "(Tupelo, Misisipi; **8 de enero de 1935**, Memphis, Tennessee; **16 de agosto de 1977**) fue uno de los cantantes estadounidenses más populares del siglo XX considerado como un ícono cultural y conocido ampliamente bajo su nombre de pila, Elvis. Se hace referencia a él frecuentemente como «El Rey del Rock and Roll» o simplemente «El Rey». "
   ]
  },
  {
   "cell_type": "code",
   "execution_count": 35,
   "metadata": {
    "slideshow": {
     "slide_type": "slide"
    }
   },
   "outputs": [
    {
     "name": "stdout",
     "output_type": "stream",
     "text": [
      "15561 days, 0:00:00\n"
     ]
    }
   ],
   "source": [
    "born_day = datetime.date(1935, 1, 8)\n",
    "dead_in =  datetime.date(1977, 8, 16)\n",
    "print(dead_in - born_day)"
   ]
  },
  {
   "cell_type": "code",
   "execution_count": 52,
   "metadata": {
    "slideshow": {
     "slide_type": "slide"
    }
   },
   "outputs": [
    {
     "name": "stdout",
     "output_type": "stream",
     "text": [
      "Untitled.ipynb modificado por ultima vez el 2020-04-15T16:01:24.857377\n",
      "timeit.rst modificado por ultima vez el 2020-04-14T16:41:38.917434\n",
      "pdb.ipynb modificado por ultima vez el 2020-04-14T15:38:09.180365\n",
      "urllib.rst modificado por ultima vez el 2020-04-14T15:38:09.184365\n",
      "smtplib.rst modificado por ultima vez el 2020-04-14T15:38:09.180365\n",
      "files.backup modificado por ultima vez el 2020-04-15T17:28:46.028033\n",
      "xml.rst modificado por ultima vez el 2020-04-14T15:38:09.184365\n",
      "re.rst modificado por ultima vez el 2020-03-04T22:23:13.635833\n",
      "hashlib.rst modificado por ultima vez el 2020-04-14T15:38:09.176365\n",
      "sys.md modificado por ultima vez el 2020-04-14T15:51:28.696070\n",
      "zlib.ipynb modificado por ultima vez el 2020-04-15T15:38:36.752046\n",
      "zlib_sol_01.py modificado por ultima vez el 2020-04-12T11:36:59.041454\n",
      "img modificado por ultima vez el 2020-04-14T15:38:09.180365\n",
      ".ipynb_checkpoints modificado por ultima vez el 2020-04-15T18:25:34.666192\n",
      "lorem.txt modificado por ultima vez el 2020-04-12T11:36:59.041454\n",
      "difflib.rst modificado por ultima vez el 2020-04-14T15:38:09.176365\n",
      ".swp modificado por ultima vez el 2020-04-14T19:30:51.415606\n",
      "heapq.rst modificado por ultima vez el 2020-03-04T22:23:13.635833\n",
      "traceback.rst modificado por ultima vez el 2020-04-14T15:38:09.184365\n",
      "os.ipynb modificado por ultima vez el 2020-04-15T15:38:36.748046\n",
      "traceback.ipynb modificado por ultima vez el 2020-04-14T15:38:09.184365\n",
      "sqlite3.rst modificado por ultima vez el 2020-03-22T21:35:36.545922\n",
      "statistics.rst modificado por ultima vez el 2020-04-15T15:38:36.748046\n",
      "logging.ipynb modificado por ultima vez el 2020-04-14T15:38:09.180365\n",
      "base64.ipynb modificado por ultima vez el 2020-04-14T15:38:09.176365\n",
      "a modificado por ultima vez el 2020-04-14T16:50:14.328601\n",
      "os.rst modificado por ultima vez el 2020-03-04T22:23:13.635833\n",
      "file.txt.gz modificado por ultima vez el 2020-04-14T19:21:33.417206\n",
      "sys.rst modificado por ultima vez el 2020-04-14T15:38:09.180365\n",
      "timeit.ipynb modificado por ultima vez el 2020-04-14T15:38:09.184365\n",
      "logging.rst modificado por ultima vez el 2020-04-14T15:38:09.180365\n",
      "itertools.ipynb modificado por ultima vez el 2020-04-14T15:38:09.180365\n",
      "random.rst modificado por ultima vez el 2020-04-14T15:38:09.180365\n",
      "zipfile.ipynb modificado por ultima vez el 2020-04-15T17:30:14.467117\n",
      "curses.rst modificado por ultima vez el 2020-03-22T21:35:36.545922\n",
      "itertools.rst modificado por ultima vez el 2020-04-14T15:38:09.180365\n",
      "compression.ipynb modificado por ultima vez el 2020-04-14T15:38:09.176365\n",
      "curses modificado por ultima vez el 2020-03-22T21:35:36.545922\n",
      "sys.ipynb modificado por ultima vez el 2020-04-14T17:54:27.557778\n",
      "lorem.txt.gz modificado por ultima vez el 2020-04-14T19:44:37.495183\n",
      "argparse.rst modificado por ultima vez el 2020-04-14T15:38:09.172365\n",
      "pdb.rst modificado por ultima vez el 2020-04-14T15:38:09.180365\n",
      "argparse.ipynb modificado por ultima vez el 2020-04-14T15:38:09.172365\n",
      "datetime.rst modificado por ultima vez el 2020-04-14T15:38:09.176365\n",
      "http_server.rst modificado por ultima vez el 2020-04-14T15:38:09.176365\n",
      "notebooks.zip modificado por ultima vez el 2020-04-15T17:11:24.882584\n",
      "gzip.ipynb modificado por ultima vez el 2020-04-14T19:48:20.116919\n",
      "time.rst modificado por ultima vez el 2020-04-14T15:38:09.180365\n",
      "csv.rst modificado por ultima vez el 2020-04-14T15:38:09.176365\n",
      "Untitled1.ipynb modificado por ultima vez el 2020-04-15T18:59:36.037591\n",
      "time.ipynb modificado por ultima vez el 2020-04-15T18:21:53.528342\n",
      "base64.rst modificado por ultima vez el 2020-04-01T22:32:30.828802\n",
      "os.md modificado por ultima vez el 2020-04-14T15:41:20.198430\n",
      "collections.rst modificado por ultima vez el 2020-04-14T15:38:09.176365\n"
     ]
    }
   ],
   "source": [
    "import os\n",
    "import datetime\n",
    "\n",
    "for fn in os.listdir():\n",
    "    modificado = os.path.getmtime(fn)\n",
    "    modificado = datetime.datetime.fromtimestamp(modificado)\n",
    "    print (f\"{fn} modificado por ultima vez el {modificado.isoformat()}\")"
   ]
  }
 ],
 "metadata": {
  "celltoolbar": "Slideshow",
  "kernelspec": {
   "display_name": "Python 3",
   "language": "python",
   "name": "python3"
  },
  "language_info": {
   "codemirror_mode": {
    "name": "ipython",
    "version": 3
   },
   "file_extension": ".py",
   "mimetype": "text/x-python",
   "name": "python",
   "nbconvert_exporter": "python",
   "pygments_lexer": "ipython3",
   "version": "3.7.7"
  }
 },
 "nbformat": 4,
 "nbformat_minor": 4
}
