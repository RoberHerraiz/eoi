{
 "cells": [
  {
   "cell_type": "markdown",
   "metadata": {},
   "source": [
    "# Compresion"
   ]
  },
  {
   "cell_type": "markdown",
   "metadata": {},
   "source": [
    "Python tiene numerosas librerias para trabajar con compresión de datos.\n",
    "Nosotros vamos a ver un poco por encima 4 de ellas:\n",
    "    \n",
    "- [zlib](zlib.ipynb) para usar la libreria zlib\n",
    "- [gzip](gzip.ipynb) para usar la libreria gzip (archivos `.gz`)\n",
    "- [zipfile](zipfile.ipynb) para trabajar con ficheros `.zip`\n"
   ]
  },
  {
   "cell_type": "markdown",
   "metadata": {},
   "source": [
    "## Ver también\n",
    "\n",
    "- [gzip](http://docs.python.org/library/gzip.html) La documentación oficial para el módulo gzip.\n",
    "\n",
    "- [bz2](https://docs.python.org/3/library/bz2.html) Librería de compresión para bzip2.\n",
    " \n",
    "- [lzma](https://docs.python.org/3/library/lzma.html) Librería de compresión para lzma.\n",
    "\n",
    "- [zipfile](https://docs.python.org/3/library/zipfile.html) Documentación oficial para el módulo zipfile.\n",
    "\n",
    "- [zlib](https://docs.python.org/3/library/zlib.html) Documentación oficial para el módulo zlib.\n",
    "\n",
    "- [tarfile](https://docs.python.org/3/library/tarfile.html)  Documentación oficial para el módulo tarfile\n",
    "\n",
    "\n"
   ]
  },
  {
   "cell_type": "code",
   "execution_count": null,
   "metadata": {},
   "outputs": [],
   "source": []
  }
 ],
 "metadata": {
  "kernelspec": {
   "display_name": "Python 3",
   "language": "python",
   "name": "python3"
  },
  "language_info": {
   "codemirror_mode": {
    "name": "ipython",
    "version": 3
   },
   "file_extension": ".py",
   "mimetype": "text/x-python",
   "name": "python",
   "nbconvert_exporter": "python",
   "pygments_lexer": "ipython3",
   "version": "3.6.9"
  }
 },
 "nbformat": 4,
 "nbformat_minor": 4
}
