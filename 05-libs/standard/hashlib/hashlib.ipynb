{
 "cells": [
  {
   "cell_type": "markdown",
   "metadata": {
    "slideshow": {
     "slide_type": "slide"
    }
   },
   "source": [
    "### La librería hashlib\n",
    "\n",
    "La librería **hashlib** nos permite generar *hashes* y códigos\n",
    "de verificación e integridad"
   ]
  },
  {
   "cell_type": "markdown",
   "metadata": {
    "slideshow": {
     "slide_type": "slide"
    }
   },
   "source": [
    "El módulo define una interfaz común a una serie de algoritmos\n",
    "conocidos como *funciones de hash criptográficos* o *funciones resumen*:\n",
    "SHA1, SHA224, SHA256, SHA384 y SHA512, así como el algoritmo MD5 de RSA\n",
    "(Definido como estándar en el RFC 1321)."
   ]
  },
  {
   "cell_type": "markdown",
   "metadata": {
    "slideshow": {
     "slide_type": "slide"
    }
   },
   "source": [
    "Su uso en muy sencillo: Por ejemplo, usamos `md5()` para crear un\n",
    "objeto. A partir de ahi, podemos ir actualizando los datos sobre los que\n",
    "se tienen que hacer el *hash* con sucesivas llamadas a su método\n",
    "`update()`. Con el metodo `digest` podemos obtener el resultado del *hash*."
   ]
  },
  {
   "cell_type": "code",
   "execution_count": 1,
   "metadata": {},
   "outputs": [
    {
     "name": "stdout",
     "output_type": "stream",
     "text": [
      "b\"\\x94\\xa0-#\\x85\\x7f\\xce\\x11\\x04\\x14\\xa2\\xd9'\\x10\\xf2\\xd0\"\n"
     ]
    }
   ],
   "source": [
    "import hashlib\n",
    "\n",
    "print(hashlib.md5(b\"Hola, mundo\").digest())"
   ]
  },
  {
   "cell_type": "markdown",
   "metadata": {},
   "source": [
    "Vemos que el resultado de `digest` es una serie de *bytes*. Podemos obtener una representacion en hexadecimal de este valor en forma de cadena de caracteres."
   ]
  },
  {
   "cell_type": "code",
   "execution_count": 2,
   "metadata": {},
   "outputs": [
    {
     "name": "stdout",
     "output_type": "stream",
     "text": [
      "94a02d23857fce110414a2d92710f2d0\n"
     ]
    }
   ],
   "source": [
    "import hashlib\n",
    "\n",
    "print(hashlib.md5(b\"Hola, mundo\").hexdigest())"
   ]
  },
  {
   "cell_type": "markdown",
   "metadata": {
    "slideshow": {
     "slide_type": "slide"
    }
   },
   "source": [
    "Hacer una serie de llamadas sucesivas con partes del texto\n",
    "es equivalente a hacer un solo `update()` con todo el texto concatenado\n",
    "en un único valor; en otras palabras:\n",
    "\n",
    "    m.update(a); m.update(b)\n",
    "\n",
    "es equivalente a:\n",
    "\n",
    "    m.update(a+b)"
   ]
  },
  {
   "cell_type": "code",
   "execution_count": 3,
   "metadata": {},
   "outputs": [],
   "source": [
    "import hashlib\n",
    "\n",
    "md5_1 = hashlib.md5(b\"Hola, mundo\")\n",
    "\n",
    "md5_2 = hashlib.md5()\n",
    "md5_2.update(b\"Hola, \")\n",
    "md5_2.update(b\"mundo\")\n",
    "\n",
    "assert md5_1.digest() == md5_2.digest()"
   ]
  },
  {
   "cell_type": "markdown",
   "metadata": {
    "slideshow": {
     "slide_type": "slide"
    }
   },
   "source": [
    "**Ejercicio**: Obtener el hash MD5 de la frase:\n",
    "\n",
    "    Su teoría es descabellada, pero no lo suficente para ser correcta.\n",
    "\n",
    "Partiendo de la codificacion utf-8 del mismo."
   ]
  },
  {
   "cell_type": "code",
   "execution_count": 4,
   "metadata": {
    "slideshow": {
     "slide_type": "slide"
    }
   },
   "outputs": [
    {
     "name": "stdout",
     "output_type": "stream",
     "text": [
      "46c8a761de36c7306532ae6f1013164c\n"
     ]
    }
   ],
   "source": [
    "import hashlib\n",
    "\n",
    "texto = \"Su teoría es descabellada, pero no lo suficente para ser correcta.\"\n",
    "md5_code = hashlib.md5(texto.encode('utf-8'))\n",
    "print(md5_code.hexdigest())"
   ]
  },
  {
   "cell_type": "markdown",
   "metadata": {
    "slideshow": {
     "slide_type": "slide"
    }
   },
   "source": [
    "El código obtenido depende de los datos suministrados, de forma que\n",
    "cualquier alteración, por mínima que sea, en el texto original,\n",
    "provocará una alteración enorme en el código de salida. Por ejemplo,\n",
    "veamos como cambia el resultado simplemente cambiando una coma de lugar:"
   ]
  },
  {
   "cell_type": "code",
   "execution_count": 5,
   "metadata": {
    "slideshow": {
     "slide_type": "slide"
    }
   },
   "outputs": [
    {
     "name": "stdout",
     "output_type": "stream",
     "text": [
      "b3abdf7b0451922afaead83cc206ca36\n",
      "95736cef62aea4d88d7f1c556f46b07f\n"
     ]
    }
   ],
   "source": [
    "import hashlib\n",
    "\n",
    "print(hashlib.md5(b'Perdon imposible, ejecutar prisionero').hexdigest())\n",
    "print(hashlib.md5(b'Perdon, imposible ejecutar prisionero').hexdigest())"
   ]
  },
  {
   "cell_type": "markdown",
   "metadata": {
    "slideshow": {
     "slide_type": "slide"
    }
   },
   "source": [
    "**Ejercicio**: Calcula el md5 de tu nombre. Cambiar minimamente el texto y calcular el md5 del nuevo texto. Verifica que el valor MD5 cambian radicalmente."
   ]
  }
 ],
 "metadata": {
  "celltoolbar": "Slideshow",
  "kernelspec": {
   "display_name": "Python (myenv)",
   "language": "python",
   "name": "myenv"
  },
  "language_info": {
   "codemirror_mode": {
    "name": "ipython",
    "version": 3
   },
   "file_extension": ".py",
   "mimetype": "text/x-python",
   "name": "python",
   "nbconvert_exporter": "python",
   "pygments_lexer": "ipython3",
   "version": "3.8.0"
  }
 },
 "nbformat": 4,
 "nbformat_minor": 4
}
