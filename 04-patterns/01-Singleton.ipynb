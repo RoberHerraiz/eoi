{
 "cells": [
  {
   "cell_type": "markdown",
   "metadata": {},
   "source": [
    "## El patrón Singleton"
   ]
  },
  {
   "cell_type": "markdown",
   "metadata": {
    "slideshow": {
     "slide_type": "slide"
    }
   },
   "source": [
    "El patron **Singleton** garantiza que una clase sólo tenga una instancia, y proporciona un punto de acceso global a ella."
   ]
  },
  {
   "cell_type": "markdown",
   "metadata": {
    "slideshow": {
     "slide_type": "slide"
    }
   },
   "source": [
    "### Motivación\n",
    "\n",
    "Muchas veces es importante asegurarse que un determinado recurso se representa o\n",
    "gestiona con un único objeto. Ejemplos típicos son una conexión a una base de\n",
    "datos, el acceso a una cola de impresión que gesiona multiples impresoras, el gestor de ventanas, etc.\n",
    "\n",
    "Una forma sencilla y rapida de tener un unico objeto o variable de un determinado\n",
    "tipo. y que su acceso sea sencillo, es hacer dicha variable global a toda la\n",
    "aplicacion, e inicializarla, si fuera necesario, al principio de la ejecución\n",
    "del programa. Pero hay varios problemas con este enfoque:\n",
    "\n",
    "1.- Sabemos ya por experiencia que las variables globales son peligrosas y deberian\n",
    "  evitarse en lo posible.\n",
    "  \n",
    "2.- Tener esa variable global no garantiza que no se puedan crear *otra* variable\n",
    "  del mismo tipo. En algunos sistemas eso seria un problema.\n",
    "  \n",
    "3.- Estamos obligados a realizar la inicializacion y configuracion del objeto, pero\n",
    "  quiza este no vaya a ser usado. Por ejemplo, la cola de impresion puede que no sea\n",
    "  necesaria, porque no es necesario mandar nada a imprimir durante la ejecución del \n",
    "  programa. Usando una variable global, debemos inicializarla siempre, por si acaso.\n",
    "  \n",
    "Una solucion mejor es hacer que la clase sea responsable de esta única\n",
    "instancia. La clase puede garantizar que no se crea ninguna otra\n",
    "instancia (interceptando las peticiones para crear nuevos objetos, o\n",
    "prohibiendolas), y a la vez puede proporcionar un medio sencillo de acceder a\n",
    "la instancia. En eso consiste el patrón Singleton."
   ]
  },
  {
   "cell_type": "markdown",
   "metadata": {
    "slideshow": {
     "slide_type": "slide"
    }
   },
   "source": [
    "### Participantes\n",
    "\n",
    "En la implementacion con clases, una clase `Singleton` que permite a los\n",
    "clientes acceder a una unica instancia, usando un método de clase. Su responsabilidad\n",
    "es crear una única instancia cuando sea necesario, y asegurarse de que\n",
    "solo se puede acceder a esa instancia."
   ]
  },
  {
   "cell_type": "markdown",
   "metadata": {
    "slideshow": {
     "slide_type": "slide"
    }
   },
   "source": [
    "### Colaboraciones\n",
    "\n",
    "Los clientes acceden al Singleton exclusivamente a traves del metodo estatico de la instancia"
   ]
  },
  {
   "cell_type": "markdown",
   "metadata": {
    "slideshow": {
     "slide_type": "slide"
    }
   },
   "source": [
    "### Consecuencias\n",
    "\n",
    "Los beneficions m'as destacados son:\n",
    "\n",
    "-  Acceso controlado a la única instancia. La clase `Singleton` encapsula su única \n",
    "   instancia y tiene un control absoluto sobre su acceso.\n",
    "  \n",
    "- Espacio de nombres reducido. El patrón Singleton evita contaminar el espacio\n",
    "  de nombres global.\n",
    "\n",
    "- Se puede crear subclases de la clase `Singleton`.\n",
    "\n",
    "- Permite un número variable de instancias. El patrón hace que sea fácil cambiar\n",
    "  de opinión y permitir más de una instancia de la clase `Singleton`. \n",
    "  \n",
    " \n",
    "### Implementación\n",
    "\n",
    "En otros lenguajes se pueden definir funciones privadas, lo que hace más facil\n",
    "el proceso de evitar que se puedan crear mas objetos a partir de la clase.\n",
    "\n",
    "Python\n",
    "tiene una filosofia diferente, más abierta. No implementa atributos ni propiedades privadas. Unicamente existe la convención (totalmente voluntario, por tanto) de usar\n",
    "como primer caracter del nombre de un atributo o método que queremos\n",
    "designar como privado el caracter subrayado (`_`). \n",
    "\n",
    "Ahora, esto es, como se ha dicho, una mera convencion, y no hay mecanismos en el \n",
    "lenguaje para impedir el acceso a estas variables con el subrayado delante:"
   ]
  },
  {
   "cell_type": "markdown",
   "metadata": {},
   "source": [
    "**Ejercicio**: Usa la clase `A` definida en la celda siguiente para verificar\n",
    "que la convencion de usar el caracter `_` como primer caracter del nombre es eso, una \n",
    "convención y, por tanta, podemos modificar el atributo `_name` sin ningún problema."
   ]
  },
  {
   "cell_type": "code",
   "execution_count": 3,
   "metadata": {
    "slideshow": {
     "slide_type": "slide"
    }
   },
   "outputs": [
    {
     "name": "stdout",
     "output_type": "stream",
     "text": [
      "Álfa\n"
     ]
    }
   ],
   "source": [
    "class A:\n",
    "    \n",
    "    def __init__(self, name):\n",
    "        self._name = name\n",
    "        \n",
    "    def __str__(self):\n",
    "        return self._name\n",
    "\n",
    "        \n",
    "a = A('Álfa')\n",
    "print(a)"
   ]
  },
  {
   "cell_type": "markdown",
   "metadata": {
    "slideshow": {
     "slide_type": "slide"
    }
   },
   "source": [
    "Veamos varias formas de implementar este patrón en Python.\n",
    "\n",
    "Vamos a implementar\n",
    "unsimple contador, pero queremos que sea un Singleton, asi que cada vez que se obtenga una\n",
    "instancia del mismo, se obtiene siempre la misma instancia. Para ver que\n",
    "esto es asi, asignaremos el valor inicial del contador a un numero random entre 0 y\n",
    "1000000.\n",
    "\n",
    "Sopungamos que esta operacion en muy costosa y solo nos interesa que se haga una unica vez, pero tambien queremos accder e incrementar ese valor desde cualquier parte del codigo."
   ]
  },
  {
   "cell_type": "code",
   "execution_count": 14,
   "metadata": {},
   "outputs": [
    {
     "name": "stdout",
     "output_type": "stream",
     "text": [
      "Se llama al constructor de la clase Accumulator\n",
      "Acumulator(value=253954) 140432747676896\n",
      "Se llama al constructor de la clase Accumulator\n",
      "Acumulator(value=99579) 140432747678128\n"
     ]
    }
   ],
   "source": [
    "import random \n",
    "\n",
    "class Accumulator:\n",
    "    \n",
    "    def __init__(self):\n",
    "        print(\"Se llama al constructor de la clase Accumulator\")\n",
    "        self.value = random.randrange(1000000)\n",
    "        \n",
    "    def __repr__(self):\n",
    "        return f\"Acumulator(value={self.value})\"\n",
    "        \n",
    "    def inc(self):\n",
    "        self.value += 1\n",
    "        \n",
    "        \n",
    "        \n",
    "acc = Accumulator()\n",
    "print(acc, id(acc))\n",
    "acc = Accumulator()\n",
    "print(acc, id(acc))"
   ]
  },
  {
   "cell_type": "markdown",
   "metadata": {
    "slideshow": {
     "slide_type": "slide"
    }
   },
   "source": [
    "Vemos que la clase anterior permite crear varias instancias. Veremos ahora varias maneras de\n",
    "convertir la clase `Accumulator` en un *Singleton*."
   ]
  },
  {
   "cell_type": "markdown",
   "metadata": {
    "slideshow": {
     "slide_type": "slide"
    }
   },
   "source": [
    "### Primer método: usar un decorador"
   ]
  },
  {
   "cell_type": "code",
   "execution_count": 16,
   "metadata": {
    "slideshow": {
     "slide_type": "slide"
    }
   },
   "outputs": [
    {
     "name": "stdout",
     "output_type": "stream",
     "text": [
      "Se llama al constructor de la clase Accumulator\n",
      "Acumulator(value=220882) 140432747685648\n",
      "Acumulator(value=220882) 140432747685648\n"
     ]
    }
   ],
   "source": [
    "import random\n",
    "\n",
    "def singleton(Cls):\n",
    "\n",
    "    instances = {}\n",
    "    \n",
    "    def getinstance(*args, **kwargs):\n",
    "        if Cls not in instances:\n",
    "            instances[Cls] = Cls(*args, **kwargs)\n",
    "        return instances[Cls]\n",
    "    \n",
    "    return getinstance\n",
    "\n",
    "@singleton\n",
    "class Accumulator:\n",
    "    \n",
    "    def __init__(self):\n",
    "        print(\"Se llama al constructor de la clase Accumulator\")\n",
    "        self.value = random.randrange(1000000)\n",
    "        \n",
    "    def __repr__(self):\n",
    "        return f\"Acumulator(value={self.value})\"\n",
    "        \n",
    "    def inc(self):\n",
    "        self.value += 1\n",
    "        \n",
    "        \n",
    "        \n",
    "acc1 = Accumulator()\n",
    "print(acc1, id(acc1))\n",
    "acc2 = Accumulator()\n",
    "print(acc2, id(acc2))\n",
    "acc2.inc()\n",
    "assert acc1.value == acc2.value"
   ]
  },
  {
   "cell_type": "markdown",
   "metadata": {
    "slideshow": {
     "slide_type": "slide"
    }
   },
   "source": [
    "- **Ventajas**\n",
    "\n",
    "  - El decorador es sencillo de usar y mas intuitivo que usar herencia multiple\n",
    "  \n",
    "- **Inconvenientes**\n",
    "\n",
    "  - Aunque el objeto creado llamanda a `Accumulator` es un auntentico\n",
    "  objeto *Singleton*, hemos convertido `Accumulator` de una clase a \n",
    "  una función, que puede que no sea lo que desea,os, por ejemplo, si quisieramos llamar\n",
    "  a metodos estaticos de `Accumulator`,\n",
    "  \n",
    "  - Haciendo \"trampa\" seguimos siendo capaces crear un nuevo objeto a partir\n",
    "  del primero, porque este mantiene una referencia a la clase a la que pertenece\n",
    "  en el atributo `__class__`"
   ]
  },
  {
   "cell_type": "code",
   "execution_count": 18,
   "metadata": {},
   "outputs": [
    {
     "name": "stdout",
     "output_type": "stream",
     "text": [
      "Se llama al constructor de la clase Accumulator\n",
      "140432747685648 140432747617024\n"
     ]
    }
   ],
   "source": [
    "acc3_tricky = acc1.__class__()\n",
    "print(id(acc1), id(acc3_tricky))"
   ]
  },
  {
   "cell_type": "markdown",
   "metadata": {
    "slideshow": {
     "slide_type": "slide"
    }
   },
   "source": [
    "### Segundo método: Una clase base"
   ]
  },
  {
   "cell_type": "code",
   "execution_count": 20,
   "metadata": {
    "slideshow": {
     "slide_type": "slide"
    }
   },
   "outputs": [
    {
     "name": "stdout",
     "output_type": "stream",
     "text": [
      "Se llama al constructor de la clase Accumulator\n",
      "Acumulator(value=602629) 140432747687328\n",
      "Se llama al constructor de la clase Accumulator\n",
      "Acumulator(value=97808) 140432747687328\n"
     ]
    }
   ],
   "source": [
    "import random\n",
    "\n",
    "class Singleton:\n",
    "    \n",
    "    _instance = None\n",
    "    \n",
    "    def __new__(class_, *args, **kwargs):\n",
    "        if not isinstance(class_._instance, class_):\n",
    "            class_._instance = object.__new__(class_, *args, **kwargs)\n",
    "            \n",
    "        return class_._instance\n",
    "\n",
    "    \n",
    "class Accumulator(Singleton):\n",
    "    \n",
    "    def __init__(self):\n",
    "        print(\"Se llama al constructor de la clase Accumulator\")\n",
    "        self.value = random.randrange(1000000)\n",
    "        \n",
    "    def __repr__(self):\n",
    "        return f\"Acumulator(value={self.value})\"\n",
    "        \n",
    "    def inc(self):\n",
    "        self.value += 1\n",
    "        \n",
    "acc1 = Accumulator()\n",
    "print(acc1, id(acc1))\n",
    "acc2 = Accumulator()\n",
    "print(acc2, id(acc2))\n",
    "acc2.inc()\n",
    "assert acc1.value == acc2.value\n",
    "assert acc1 is acc2"
   ]
  },
  {
   "cell_type": "markdown",
   "metadata": {
    "slideshow": {
     "slide_type": "slide"
    }
   },
   "source": [
    "- **Ventajas**\n",
    "\n",
    "  - Es una clase de verdad\n",
    "\n",
    "- **Inconvenientes**\n",
    "\n",
    "  - Puede que necesites usar herencia múltiple. En ese caso, \n",
    "    el método __new__ podria haber sido reescrito e interferir\n",
    "    con el __new__ de la clase `Singleton`. Hay que estar pendiente\n",
    "    de este detalle."
   ]
  },
  {
   "cell_type": "markdown",
   "metadata": {
    "slideshow": {
     "slide_type": "slide"
    }
   },
   "source": [
    "### Tercer método: Usar metaclases"
   ]
  },
  {
   "cell_type": "code",
   "execution_count": 21,
   "metadata": {
    "slideshow": {
     "slide_type": "slide"
    }
   },
   "outputs": [
    {
     "name": "stdout",
     "output_type": "stream",
     "text": [
      "Se llama al constructor de la clase Accumulator\n",
      "Acumulator(value=869052) 140432747193288\n",
      "Acumulator(value=869052) 140432747193288\n"
     ]
    }
   ],
   "source": [
    "import random\n",
    "\n",
    "class Singleton(type):\n",
    "    \n",
    "    _instances = {}\n",
    "    \n",
    "    def __call__(cls, *args, **kwargs):\n",
    "        if cls not in cls._instances:\n",
    "            cls._instances[cls] = super(Singleton, cls).__call__(*args, **kwargs)\n",
    "        return cls._instances[cls]\n",
    "\n",
    "    \n",
    "class Accumulator(metaclass=Singleton):\n",
    "    \n",
    "    def __init__(self):\n",
    "        print(\"Se llama al constructor de la clase Accumulator\")\n",
    "        self.value = random.randrange(1000000)\n",
    "        \n",
    "    def __repr__(self):\n",
    "        return f\"Acumulator(value={self.value})\"\n",
    "        \n",
    "    def inc(self):\n",
    "        self.value += 1\n",
    "        \n",
    "acc1 = Accumulator()\n",
    "print(acc1, id(acc1))\n",
    "acc2 = Accumulator()\n",
    "print(acc2, id(acc2))\n",
    "acc2.inc()\n",
    "assert acc1.value == acc2.value\n",
    "assert acc1 is acc2"
   ]
  },
  {
   "cell_type": "markdown",
   "metadata": {
    "slideshow": {
     "slide_type": "slide"
    }
   },
   "source": [
    "- **Ventajas**\n",
    "\n",
    "  - Es una clase real\n",
    "    \n",
    "  - La herencia multiple no interfiere\n",
    "\n",
    "  - Es un uso legitimo de las metaclases\n",
    "    \n",
    "- **Inconvenientes**\n",
    "\n",
    "  - Quiza ninguno. Pero si se usa sin entender las metaclases\n",
    "    podria ser peligroso."
   ]
  },
  {
   "cell_type": "markdown",
   "metadata": {},
   "source": [
    "### Cuarto metodo: Usar un módulo"
   ]
  },
  {
   "cell_type": "code",
   "execution_count": 26,
   "metadata": {},
   "outputs": [
    {
     "name": "stdout",
     "output_type": "stream",
     "text": [
      "Acumulator(value=419870) 140432747685816\n",
      "Acumulator(value=419870) 140432747685816\n"
     ]
    }
   ],
   "source": [
    "import acc\n",
    "      \n",
    "acc1 = acc.accumulator()\n",
    "print(acc1, id(acc1))\n",
    "acc2 = acc.accumulator()\n",
    "print(acc2, id(acc2))\n",
    "acc2.inc()\n",
    "assert acc1.value == acc2.value\n",
    "assert acc1 is acc2"
   ]
  },
  {
   "cell_type": "markdown",
   "metadata": {},
   "source": [
    "- **Ventajas**\n",
    "\n",
    "  - Es la solucion mas *Pythónica*\n",
    "    \n",
    "  - Simple es mejor que completo\n",
    "\n",
    "- **Inconvenientes**:\n",
    "    \n",
    "    - Ninguno"
   ]
  },
  {
   "cell_type": "markdown",
   "metadata": {},
   "source": [
    "### Usos conocidos\n",
    "\n",
    "- La librería `logging` crea el logger raiz o *root* solo cuando\n",
    "se necesita. Todas las llamadas a `getLogger`, si no se le pasa\n",
    "un parametro de nombre, devuelven el logger raiz. Si es la primera\n",
    "llamada, se creará en ese  preciso momento. Luego, todas las\n",
    "subsiguientes llamadas devuelven ese mismo objeto.\n",
    "\n",
    "- Los modulos de por si son una implementacion de *Singleton*, \n",
    "porque `import` solo crea una unica copia de cada módulo, las siguientes\n",
    "veces que se realiza la importación simplemente se devuelve\n",
    "el mismo objeto. Por eso muchos consideran que usar un modulo para\n",
    "implementar un *Singleton* esla solución más *pythónica*.\n"
   ]
  },
  {
   "cell_type": "code",
   "execution_count": null,
   "metadata": {},
   "outputs": [],
   "source": []
  }
 ],
 "metadata": {
  "celltoolbar": "Slideshow",
  "kernelspec": {
   "display_name": "Python 3",
   "language": "python",
   "name": "python3"
  },
  "language_info": {
   "codemirror_mode": {
    "name": "ipython",
    "version": 3
   },
   "file_extension": ".py",
   "mimetype": "text/x-python",
   "name": "python",
   "nbconvert_exporter": "python",
   "pygments_lexer": "ipython3",
   "version": "3.6.9"
  }
 },
 "nbformat": 4,
 "nbformat_minor": 4
}
