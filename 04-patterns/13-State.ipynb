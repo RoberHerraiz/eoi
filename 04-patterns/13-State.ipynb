{
 "cells": [
  {
   "cell_type": "markdown",
   "metadata": {
    "slideshow": {
     "slide_type": "slide"
    }
   },
   "source": [
    "## El patrón State (Estado)\n",
    "\n",
    "### Propósito\n",
    "\n",
    "Permite que un objeto modifique su comportamiento cada vez que cambie su estado interno. Parecerá que cambia la clase del objeto."
   ]
  },
  {
   "cell_type": "markdown",
   "metadata": {
    "slideshow": {
     "slide_type": "slide"
    }
   },
   "source": [
    "### TAMBIÉN CONOCIDO COMO\n",
    "\n",
    "Objects for States (Estados como Objetos)"
   ]
  },
  {
   "cell_type": "code",
   "execution_count": null,
   "metadata": {
    "slideshow": {
     "slide_type": "slide"
    }
   },
   "outputs": [],
   "source": [
    "### Motivación\n",
    "\n",
    "Pensemos en una clase `Conexion` que representa una conexión entre dos\n",
    "ordenadores. Un objeto `Conexion` puede encontrarse en uno de los \n",
    "siguientes tres estados: \n",
    "\n",
    "- Establecida\n",
    "- Escuchando\n",
    "- Cerrada\n",
    "\n",
    "Cuando un objeto `Conexion` recibe peticiones de otros\n",
    "objetos, les responde de distinta forma dependiendo de su estado actual. Por\n",
    "ejemplo, el efecto de una petición `open` depende de si la conexión se encuentra\n",
    "en su estado `Cerrada` o en su estado `Establecida`.\n",
    "\n",
    "El patrón State describe cómo puede `Conexion` exhibir un comportamiento\n",
    "diferente en cada estado.\n",
    "\n",
    "La idea clave de este patrón es introducir una clase abstracta llamada `EstadoConn` \n",
    "que representa los estados de la conexión de red.\n",
    "\n",
    "La clase `EstadoConn` declara una interfaz común para todas las clases que \n",
    "representarán cada uno de los diferentes estados. Las subclases implementan\n",
    "el comportamiento específico de cada estado.\n",
    "\n",
    "Por ejemplo, las clases `EstadoEstablecida` y `EstadoCerrada` implementan\n",
    "el comportamiento concreto de los estados `Establecida` y `Cerrada`\n",
    "respectivamente.\n",
    "\n",
    "La clase `Conexion` mantiene un atributo de estado, que es una instancia de \n",
    "una subclase de `EstadoConn`. Esto  representa el estado actual de la conexión.\n",
    "La clase `Conexion` delega todas las peticiones relativas al estado a este\n",
    "componente. "
   ]
  },
  {
   "cell_type": "code",
   "execution_count": null,
   "metadata": {
    "slideshow": {
     "slide_type": "slide"
    }
   },
   "outputs": [],
   "source": [
    "El siguiente fragmento de codigo implementa el controlador de un\n",
    "personaje de un juego de plataformas. Queremos que al pulsar\n",
    "la tecla `B`, el personaje salta:\n",
    "\n",
    "class Hero:\n",
    "\n",
    "    def handle_input(self, key_press):\n",
    "        if key_press == 'B':\n",
    "            self.velocity.y += JUMP_VELOCITY\n",
    "            self.graphic = Image(HERO_JUMP)\n",
    "\n",
    "Funciona, pero tiene un fallo. ¿Puedes descubrir cual es?\n",
    "\n",
    "Efectivamente, el heroe puede volar! Si pulsa el boton de volar otra vez\n",
    "cuando el personaje esta en el aire, vuelve a impulsarse para arriba.\n",
    "Podemos resolverlo facilmente con un flag booleano:\n",
    "\n",
    "    def handle_input(self, key_press):\n",
    "        if key_press == 'B' and not self.is_jumping:\n",
    "            self.velocity.y += JUMP_VELOCITY\n",
    "            self.graphic = Image(HERO_JUMP)\n",
    "            self.is_jumping = True\n",
    "\n",
    "Ahora queremos que se pueda agachar con la tecla `C`, para esquivar\n",
    "un ataque, facilisimo:\n",
    "\n",
    "    def handle_input(self, key_press):\n",
    "        if key_press == 'B' and not self.is_jumping:\n",
    "            self.velocity.y += JUMP_VELOCITY\n",
    "            self.graphic = Image(HERO_JUMP)\n",
    "            self.is_jumping = True\n",
    "        if key_press == 'C':\n",
    "            self.graphic = Image(HERO_DIVE)\n",
    "\n",
    "Ves el fallo ahora?\n",
    "\n",
    "Si pulsamos C durante un salto, la imagen cambia a la de agachado.\n",
    "\n",
    "Hay que arreglarlo con otro if:\n",
    "\n",
    "    def handle_input(self, key_press):\n",
    "        if key_press == 'B' and not self.is_jumping:\n",
    "            self.velocity.y += JUMP_VELOCITY\n",
    "            self.graphic = Image(HERO_JUMP)\n",
    "            self.is_jumping = True\n",
    "        if key_press == 'C':\n",
    "            if not self.is_jumping:\n",
    "                self.graphic = Image(HERO_DIVE)\n",
    "\n",
    "Sopun ahora que queremos hacer que el personaje no pueda saltar si esta\n",
    "aagachado. ¿Qué necesitas y como lo implementarias?\n",
    "\n",
    "    def handle_input(self, key_press):\n",
    "        if key_press == 'B' and not self.is_jumping and not self.is_diving:\n",
    "            self.velocity.y += JUMP_VELOCITY\n",
    "            self.set_graphic(HERO_JUMP)\n",
    "            self.is_jumping = True\n",
    "        if key_press == 'C':\n",
    "            if not self.is_jumping:\n",
    "                self.set_graphic(HERO_DIVE)\n",
    "                self.is_diving = True\n",
    "\n",
    "\n",
    "YA tenemos un codigo feo, con un monton de if y ni siquiera hemos empezado con cosas como\n",
    "atacar o simplemente moverse. \n",
    "\n",
    "El problema es que tenemos muchos estados diferentes, y controlarlos a base de \n",
    "variables booleanas se vuelve muy pronto muy complicado.\n",
    "\n",
    "Vamos a solucionarlo usando el patron estado. Vamos a crear tres estados (los que\n",
    "tenemos por ahora): Haciendo nada (*idle*), saltando (*jumping*) y agachado\n",
    "(*diving*):\n",
    "\n",
    "En otros lenguajes hariamos una clase base `StateBase` o algo asi, aqui no\n",
    "tenemos necesidad por el Dock-Typing.\n",
    "\n",
    "    class StateIdle:\n",
    "\n",
    "        def __init__(self, hero):\n",
    "            self.hero = hero\n",
    "\n",
    "        def jump(self):\n",
    "            self.hero.velocity.y += JUMP_VELOCITY\n",
    "            self.hero.set_graphic(HERO_JUMP)\n",
    "\n",
    "        def dive(self):\n",
    "            pass"
   ]
  },
  {
   "cell_type": "markdown",
   "metadata": {
    "slideshow": {
     "slide_type": "slide"
    }
   },
   "source": [
    "![Superman!](./img/superman.gif)"
   ]
  },
  {
   "cell_type": "code",
   "execution_count": null,
   "metadata": {},
   "outputs": [],
   "source": []
  }
 ],
 "metadata": {
  "celltoolbar": "Slideshow",
  "kernelspec": {
   "display_name": "Python 3",
   "language": "python",
   "name": "python3"
  },
  "language_info": {
   "codemirror_mode": {
    "name": "ipython",
    "version": 3
   },
   "file_extension": ".py",
   "mimetype": "text/x-python",
   "name": "python",
   "nbconvert_exporter": "python",
   "pygments_lexer": "ipython3",
   "version": "3.7.6"
  }
 },
 "nbformat": 4,
 "nbformat_minor": 4
}
