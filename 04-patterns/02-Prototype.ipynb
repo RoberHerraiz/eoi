{
 "cells": [
  {
   "cell_type": "markdown",
   "metadata": {
    "slideshow": {
     "slide_type": "slide"
    }
   },
   "source": [
    "## El patrón prototipo\n",
    "\n",
    "### Proposito\n",
    "\n",
    "Especifica los tipos de objetos a crear por medio de una instancia prototípica,\n",
    "y crea nuevos objetos copiando dicho prototipo."
   ]
  },
  {
   "cell_type": "markdown",
   "metadata": {
    "slideshow": {
     "slide_type": "slide"
    }
   },
   "source": [
    "### Motivación\n",
    "\n",
    "A veces, necesitamos una copia exacta de un objeto. Por ejemplo, supongamos\n",
    "que estamos escribiendo una aplicacion para gestionar recetas. Un usuario\n",
    "puede encontrar una receta de bizcocho y, después de hacerle algunos cambios, \n",
    "quiere compartirla con otro usuario."
   ]
  },
  {
   "cell_type": "markdown",
   "metadata": {
    "slideshow": {
     "slide_type": "slide"
    }
   },
   "source": [
    "Pero ¿Qué es lo que se deberia\n",
    "compartir. ¿Queremos que si el primer usuario sigue experimentado esta\n",
    "receta, el segundo usuario vea tambien estos cambios? ¿No deberia la receta\n",
    "compartida mantenerse intacta, sin verse alterado por posteriores experimentos\n",
    "sobre la original? "
   ]
  },
  {
   "cell_type": "markdown",
   "metadata": {
    "slideshow": {
     "slide_type": "slide"
    }
   },
   "source": [
    "En otros casos, la creación de un objeto puede ser muy costosa\n",
    "en terminos de tiempo de CPU, memoria o cualquier otro recurso."
   ]
  },
  {
   "cell_type": "markdown",
   "metadata": {
    "slideshow": {
     "slide_type": "slide"
    }
   },
   "source": [
    "Ambos problemas pueden solucionarse usando el patrón **Prototipo**\n",
    "(**_Prototype_**). La idea es permitir crear nuevos objetos en base\n",
    "a un objeto previamente existente. Cada copia se denomina un __clon__,\n",
    "porque empieza como una copia exacta del prototipo, aunque\n",
    "posteriormente su estado puede cambiar, obviamente. El momento\n",
    "en que se haga el clonado es importante, determina el contenido\n",
    "del clon."
   ]
  },
  {
   "cell_type": "markdown",
   "metadata": {
    "slideshow": {
     "slide_type": "slide"
    }
   },
   "source": [
    "Hay que hacer notar la diferencia entre una copia y una referencia.\n",
    "Con una referencia el comportamiento es distinto; una alteración hecha\n",
    "por el poseedor de una referencia es visible para el poseedor de otra\n",
    "referencia. Con este patron, cada clon es un nuevo objeto con vida independiente\n",
    "de la del prototipo."
   ]
  },
  {
   "cell_type": "markdown",
   "metadata": {
    "slideshow": {
     "slide_type": "slide"
    }
   },
   "source": [
    "### Implementacion\n",
    "\n",
    "En python, es muy facil crear una copia completa de un objeto, solo\n",
    "tenemos que usar la funcion `deepcopy` definida en el módulo `copy`\n",
    "de la librería estándar."
   ]
  },
  {
   "cell_type": "markdown",
   "metadata": {
    "slideshow": {
     "slide_type": "slide"
    }
   },
   "source": [
    "### Ejemplos de uso\n",
    "\n",
    "Hay muchas aplicaciones y librerías de Python que usan este prototipo, pero\n",
    "generalmente ni se menciona por estar incuida la capacidad de copia\n",
    "total en la propia librería."
   ]
  },
  {
   "cell_type": "markdown",
   "metadata": {
    "slideshow": {
     "slide_type": "slide"
    }
   },
   "source": [
    "Una aplicación que usa prototipos es la [Python Visualization Toolkit\n",
    "(VTK)](https://vtk.org/). VTK es sistema de precesamiento y representacion de\n",
    "gráficos en 3D. Usan el patrón Prototipo para crear clones de elementos\n",
    "geométricos como puntos, líneas, etc."
   ]
  },
  {
   "cell_type": "markdown",
   "metadata": {
    "slideshow": {
     "slide_type": "slide"
    }
   },
   "source": [
    "Otro proyecto es [music21](https://web.mit.edu/music21/), un conjunto de\n",
    "utilidades para ayudar a estudiantes e interesados a responder preguntas\n",
    "sobre música de forma rápida y sencilla. Internamente usa prototipos para\n",
    "copiar notas musicales y partituras."
   ]
  },
  {
   "cell_type": "markdown",
   "metadata": {
    "slideshow": {
     "slide_type": "slide"
    }
   },
   "source": [
    "**Ejercicio**\n",
    "\n",
    "El siguiente fragmento de codigo funciona, pero es muy lento. Cada vez\n",
    "que creamos un nuevo enemigo, el proceso de creacion de la IA es demasiado\n",
    "complejo y largo, y toma unos tres segundos (simulado en el codigo con\n",
    "la llamada a `time.sleep(3)`. Soluciona el problema usando el patron \n",
    "prototipo."
   ]
  },
  {
   "cell_type": "markdown",
   "metadata": {
    "slideshow": {
     "slide_type": "fragment"
    }
   },
   "source": [
    "**Pista 1**: Para copiar un objeto, usa la funcion `deepcopy` del módulo `copy`"
   ]
  },
  {
   "cell_type": "markdown",
   "metadata": {
    "slideshow": {
     "slide_type": "fragment"
    }
   },
   "source": [
    "**Pista 2**: Añade un metodo `clone` a la clase `Enemy`, que devuelva una copia (aprovecha y cambiale\n",
    "el nombre al clon)"
   ]
  },
  {
   "cell_type": "code",
   "execution_count": 2,
   "metadata": {
    "slideshow": {
     "slide_type": "slide"
    }
   },
   "outputs": [
    {
     "name": "stdout",
     "output_type": "stream",
     "text": [
      "Creating enemy_0...[ok]\n",
      "Enemy('enemy_0')\n",
      "Creating enemy_1...[ok]\n",
      "Enemy('enemy_1')\n",
      "Creating enemy_2...[ok]\n",
      "Enemy('enemy_2')\n"
     ]
    }
   ],
   "source": [
    "import copy\n",
    "import time\n",
    "\n",
    "class IA:\n",
    "    def __init__(self):\n",
    "        time.sleep(3)  # Simula ona operacion costosa en tiempo\n",
    "\n",
    "class Enemy:\n",
    "    \n",
    "    def __init__(self, name=\"prototype\"):\n",
    "        print(f\"Creating {name}\", end=\"...\")\n",
    "        self.name = name\n",
    "        self.ia = IA()\n",
    "        print(\"[ok]\")\n",
    "\n",
    "    def __repr__(self):\n",
    "        return f'Enemy({repr(self.name)})'\n",
    "\n",
    "\n",
    "for i in range(3):\n",
    "    e = Enemy(f\"enemy_{i}\")\n",
    "    print(e)\n",
    "\n"
   ]
  },
  {
   "cell_type": "code",
   "execution_count": 5,
   "metadata": {},
   "outputs": [
    {
     "name": "stdout",
     "output_type": "stream",
     "text": [
      "Creating prototype...[ok]\n",
      "Cloning enemy_0 from prototype...[ok]\n",
      "Enemy('enemy_0')\n",
      "Cloning enemy_1 from prototype...[ok]\n",
      "Enemy('enemy_1')\n",
      "Cloning enemy_2 from prototype...[ok]\n",
      "Enemy('enemy_2')\n"
     ]
    }
   ],
   "source": [
    "# %load prototype.py\n",
    "import time\n",
    "import copy\n",
    "\n",
    "class IA:\n",
    "    def __init__(self):\n",
    "        time.sleep(3)  # Simula ona operacion costosa en tiempo\n",
    "\n",
    "class Enemy:\n",
    "    def __init__(self, name=\"prototype\"):\n",
    "        print(f\"Creating {name}\", end=\"...\")\n",
    "        self.name = name\n",
    "        self.ia = IA()\n",
    "        print(\"[ok]\")\n",
    "\n",
    "    def __repr__(self):\n",
    "        return f'Enemy({repr(self.name)})'\n",
    "\n",
    "    def clone(self, name):\n",
    "        print(f\"Cloning {name} from {self.name}\", end=\"...\")\n",
    "        result = copy.deepcopy(self)\n",
    "        result.name = name\n",
    "        print(\"[ok]\")\n",
    "        return result\n",
    "\n",
    "enemy_prototype = Enemy()\n",
    "for i in range(3):\n",
    "    e = enemy_prototype.clone(f\"enemy_{i}\")\n",
    "    print(e)\n",
    "\n",
    "\n"
   ]
  },
  {
   "cell_type": "code",
   "execution_count": null,
   "metadata": {},
   "outputs": [],
   "source": []
  }
 ],
 "metadata": {
  "celltoolbar": "Slideshow",
  "kernelspec": {
   "display_name": "Python 3",
   "language": "python",
   "name": "python3"
  },
  "language_info": {
   "codemirror_mode": {
    "name": "ipython",
    "version": 3
   },
   "file_extension": ".py",
   "mimetype": "text/x-python",
   "name": "python",
   "nbconvert_exporter": "python",
   "pygments_lexer": "ipython3",
   "version": "3.7.6"
  }
 },
 "nbformat": 4,
 "nbformat_minor": 2
}
