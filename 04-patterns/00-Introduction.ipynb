{
 "cells": [
  {
   "cell_type": "code",
   "execution_count": 1,
   "metadata": {
    "slideshow": {
     "slide_type": "skip"
    }
   },
   "outputs": [
    {
     "data": {
      "text/html": [
       "<style>/* title of columns */\n",
       "table thead th {\n",
       "    font-size: 1.2em !important;\n",
       "    padding-top: 0.2em !important;\n",
       "    padding-bottom: 0.2em !important;\n",
       "    text-align: left !important;\n",
       "}\n",
       "\n",
       "/* title of rows */\n",
       "table tbody th {\n",
       "    font-size: 1.2em !important;\n",
       "    background: rgba(199, 199, 199, 0.356) !important;\n",
       "    border: 1px solid black !important;\n",
       "    text-align: left !important;\n",
       "}\n",
       "\n",
       "/* style for each cell */\n",
       "table td {\n",
       "    font-size: 1.15em !important;\n",
       "    border: 1px solid black !important;\n",
       "    text-align: left !important;\n",
       "}\n",
       "\n",
       "/* disable zebra-style */\n",
       "table tbody tr {\n",
       "    background: white !important;\n",
       "}\n",
       "\n",
       "/* row color on hover */\n",
       "table tbody tr:hover {\n",
       "    background: rgba(43, 137, 226, 0.144) !important;\n",
       "}\n",
       "\n",
       "/* SLIDES */\n",
       ".slides table td {\n",
       "    font-size: 15pt !important;\n",
       "}\n",
       "\n",
       ".slides table th {\n",
       "    font-size: 15pt !important;\n",
       "}\n",
       "\n",
       ".slides img {\n",
       "    float: right;\n",
       "    /*margin-left: auto !important;*/\n",
       "    /*margin-right: auto !important;*/\n",
       "}\n",
       "\n",
       ".slides blockquote {\n",
       "    margin: 0 !important;\n",
       "    box-shadow: none !important;\n",
       "    width: 100% !important;\n",
       "    border-left: 5px solid lightgray !important;\n",
       "    color: #284d71 !important;\n",
       "    padding: 0 0 0 10px !important;\n",
       "    background-color: #f9f9f9 !important;\n",
       "    font-size: 20px !important;\n",
       "}\n",
       "\n",
       ".slides blockquote p {\n",
       "    margin: 10px 0 10px 0 !important;\n",
       "}\n",
       "</style>"
      ],
      "text/plain": [
       "<IPython.core.display.HTML object>"
      ]
     },
     "execution_count": 1,
     "metadata": {},
     "output_type": "execute_result"
    }
   ],
   "source": [
    "from IPython.display import HTML\n",
    "from pathlib import Path\n",
    "\n",
    "css_rules = Path('./custom.css').read_text()\n",
    "HTML('<style>' + css_rules + '</style>')"
   ]
  },
  {
   "cell_type": "markdown",
   "metadata": {
    "slideshow": {
     "slide_type": "slide"
    }
   },
   "source": [
    "# Patrones de diseño (Design patterns)"
   ]
  },
  {
   "cell_type": "markdown",
   "metadata": {
    "slideshow": {
     "slide_type": "slide"
    }
   },
   "source": [
    "## Qué son los patrones de diseño\n",
    "\n",
    "Una definición sencilla podria ser la siguiente:\n",
    "\n",
    "> Un patrón de diseño es un modelo de solución para un determinado\n",
    "> problema de diseño recurrente o habitual. El patron describe el problema\n",
    "> y una aproximación general a como resolverlo."
   ]
  },
  {
   "cell_type": "markdown",
   "metadata": {
    "slideshow": {
     "slide_type": "slide"
    }
   },
   "source": [
    "## Historia\n",
    "\n",
    "Si nos fijamos, el concepto no está limitado al desarrollo de software; se puede aplicar\n",
    "a cualquie campo donde se puedan encontrar problemas recurrentes. De hecho\n",
    "los primeros patrones de diseño surgen en la arquitectura, producto del arquitecto\n",
    "Christopher Alexander, en el libro __The Timeless Way of Building__ y desarrollados \n",
    "posteriormente, junto con otros autores, en __A Pattern Language__."
   ]
  },
  {
   "cell_type": "markdown",
   "metadata": {
    "slideshow": {
     "slide_type": "slide"
    }
   },
   "source": [
    "En sus palabras, cada patron \"__describe un problema que ocurre infinidad de veces en\n",
    "nuestro entorno, así como la solución al mismo, de tal modo que podemos utilizar esta\n",
    "solución un millón de veces más adelante sin tener que volver a pensarla otra vez.__\""
   ]
  },
  {
   "cell_type": "markdown",
   "metadata": {
    "slideshow": {
     "slide_type": "slide"
    }
   },
   "source": [
    "## Design Patterns: Elements of Reusable Object-oriented Software\n",
    "\n",
    "![Desing Patterns, by GoF](./img/design-patterns-book-cover.png)\n",
    "\n",
    "A principios de la década de 1990 los patrones de diseño entraron en el mundo del desarrollo\n",
    "software con el libro **Design Patterns**, escrito por el llamado _Grupo de los cuatro_ (_Gang \n",
    "of Four_ o _GoF_), compuesto por Erich Gamma, Richard Helm, Ralph Johnson y John Vlissides.\n",
    "\n",
    "En este libro seminal se recogen 23 patrones de diseño comunes.\n",
    "\n"
   ]
  },
  {
   "cell_type": "markdown",
   "metadata": {
    "slideshow": {
     "slide_type": "slide"
    }
   },
   "source": [
    "Los patrones no son ni principios abstractos, ni soluciones especificas a un problema\n",
    "particular; son algo intermedio. Un patrón define una _posible_ solución correcta para\n",
    "un problema de diseño, dentro de un contexto dado, describiendo las cualidades \n",
    "invariantes de todas las soluciones."
   ]
  },
  {
   "cell_type": "markdown",
   "metadata": {
    "slideshow": {
     "slide_type": "slide"
    }
   },
   "source": [
    "## Características de los patrones\n",
    "\n",
    "Para describir bien un patrón, un simple esquema gráfico, aunque es sin duda\n",
    "útil e importante, no es suficiente. Necesitamos más información para poder\n",
    "reutilizar el patrón.\n",
    "\n",
    "Tenemos que reflejar también las decisiones tomadas, las\n",
    "alternativas y sus posibles costos o inconvenientes. Los ejemplos también son\n",
    "de mucha ayuda."
   ]
  },
  {
   "cell_type": "markdown",
   "metadata": {
    "slideshow": {
     "slide_type": "slide"
    }
   },
   "source": [
    "En el libro Paterns Design, la Banda de los Cuatro describía y utilizaba\n",
    "la siguiente plantilla para todos sus patrones:\n",
    "\n",
    "|   |   |   |\n",
    "|------------------------|-----------|------------------------|\n",
    "| Nombre y clasificación | Intención | También conocido como  |\n",
    "| Motivación | Aplicación | Estructura |\n",
    "| Participantes | Colaboraciones | Consecuencias |\n",
    "| Implementación | Código de ejemplo | Usos conocidos |\n",
    "| Patrones relacionados ||"
   ]
  },
  {
   "cell_type": "markdown",
   "metadata": {
    "slideshow": {
     "slide_type": "slide"
    }
   },
   "source": [
    "### Nombre y clasificación\n",
    "\n",
    "El __nombre del patrón es muy importante__. La idea es que contega la esencia del patrón\n",
    "en una o dos palabras, para que se convierta en parte del vocabulario\n",
    "de diseño. La clsificación se explica en la sigiente sección."
   ]
  },
  {
   "cell_type": "markdown",
   "metadata": {
    "slideshow": {
     "slide_type": "slide"
    }
   },
   "source": [
    "### Intención\n",
    "\n",
    "Unos párrafos que respondan a las siguientes preguntas: ¿Qué hace este patrón? ¿Cuáles\n",
    "serían las razones para usarlo? ¿Qué problema intenta resolver?"
   ]
  },
  {
   "cell_type": "markdown",
   "metadata": {
    "slideshow": {
     "slide_type": "slide"
    }
   },
   "source": [
    "### También conocido como\n",
    "\n",
    "Algunos patrones se conocen con varios nombres; si fuera el caso se\n",
    "incluirían en esta sección."
   ]
  },
  {
   "cell_type": "markdown",
   "metadata": {
    "slideshow": {
     "slide_type": "slide"
    }
   },
   "source": [
    "### Motivación\n",
    "\n",
    "Un escenario que muestra un problema de diseño y la manera  en que el\n",
    "patrón lo resuelve. Esto ayuda a entender las descripciones más\n",
    "abstractas del patrón."
   ]
  },
  {
   "cell_type": "markdown",
   "metadata": {
    "slideshow": {
     "slide_type": "slide"
    }
   },
   "source": [
    "### Aplicación\n",
    "\n",
    "¿En qué situaciones se puede aplicar este patrón? ¿Hay algún \n",
    "ejemplo de un diseño imperfecto que este patrón podría mejorar?\n",
    "¿Como podemos identificar estas situaciones?"
   ]
  },
  {
   "cell_type": "markdown",
   "metadata": {
    "slideshow": {
     "slide_type": "slide"
    }
   },
   "source": [
    "### Estructura\n",
    "\n",
    "Una representación gráfica de las clases e interactuaciones del patrón.\n",
    "Existen muchas notaciones gráficas para esto, pero las más usadas\n",
    "actualente son OMT object-modeling technique (OMT) y UML (que deriva\n",
    "en gran parte de OMT)"
   ]
  },
  {
   "cell_type": "markdown",
   "metadata": {
    "slideshow": {
     "slide_type": "slide"
    }
   },
   "source": [
    "### Participantes\n",
    "\n",
    "Las clases y objetos que participan en el diseño, así como sus responsabiidades."
   ]
  },
  {
   "cell_type": "markdown",
   "metadata": {
    "slideshow": {
     "slide_type": "slide"
    }
   },
   "source": [
    "### Collaboraciones\n",
    "\n",
    "Describe la manera en que los participantes colaboran para llevar a cabo\n",
    "sus responsabilidades."
   ]
  },
  {
   "cell_type": "markdown",
   "metadata": {
    "slideshow": {
     "slide_type": "slide"
    }
   },
   "source": [
    "### Consecuencias\n",
    "\n",
    "¿Cómo consigue sus objetivos el patrón? ¿Cuáles son los compromisos\n",
    "y consecuencias de usarlo? ¿Qué aspectos del sistema se pueden\n",
    "modificar independientemente?"
   ]
  },
  {
   "cell_type": "markdown",
   "metadata": {
    "slideshow": {
     "slide_type": "slide"
    }
   },
   "source": [
    "### Implementacion\n",
    "\n",
    "¿Qué técnicas, _idioms_ y precauciones hay que considerar cuando\n",
    "implementamos el patrón en un determinado lenguaje de programación.\n",
    "¿Permite (o dificulta) el lenguaje algun aspecto del patrón?"
   ]
  },
  {
   "cell_type": "markdown",
   "metadata": {
    "slideshow": {
     "slide_type": "slide"
    }
   },
   "source": [
    "### Código de ejempo\n",
    "\n",
    "Fragmentos de código que ilustren como se puede implementar\n",
    "el patrón. En el libro original se usaban ejemplos en C++\n",
    "y en Smalltalk. Obviamente, nosotros usaremos Python."
   ]
  },
  {
   "cell_type": "markdown",
   "metadata": {
    "slideshow": {
     "slide_type": "slide"
    }
   },
   "source": [
    "### Usos conocidos\n",
    "\n",
    "Ejemplo de uso de estos patrones en sistemas reales."
   ]
  },
  {
   "cell_type": "markdown",
   "metadata": {
    "slideshow": {
     "slide_type": "slide"
    }
   },
   "source": [
    "### Patrones relacionados\n",
    "\n",
    "¿Qué otros patrones de diseño están relacionados con este? ¿Cuáles\n",
    "son las diferencias más importantes? ¿Se puede usar este patrón junto\n",
    "con otros? Si es así, ¿Con cuáles?"
   ]
  },
  {
   "cell_type": "markdown",
   "metadata": {
    "slideshow": {
     "slide_type": "slide"
    }
   },
   "source": [
    "## Tipos de patrones de diseño\n",
    "\n",
    "- De creación\n",
    "- Estructurales\n",
    "- De comportamiento"
   ]
  },
  {
   "cell_type": "markdown",
   "metadata": {
    "slideshow": {
     "slide_type": "slide"
    }
   },
   "source": [
    "### De creación\n",
    "\n",
    "Se utilizan cuando queremos crear objetos, pero el proceso de creación depende de \n",
    "desiciones y circunstancias que puede que no se conozcan a priori. Estos patrones normalmente resuelven el problema retrasando el proceso de creación de los objetos hasta el tiempo de ejecución.\n",
    "\n",
    "Algunos Patrones de creación son: *`Singleton`*, *`Builder`*, *`Factory Method`*, *`Object Pool`* y *`Prototype`*."
   ]
  },
  {
   "cell_type": "markdown",
   "metadata": {
    "slideshow": {
     "slide_type": "slide"
    }
   },
   "source": [
    "### Estructurales\n",
    "\n",
    "Sirven para organizar y conectar nuestras estructuras de datos, funciones y objetos. Normalmente\n",
    "su busca que estas conexiones permitan interactuar pero reduciendo e incluso eliminanado el\n",
    "acoplamiento, de forma que podamos cambiar las partes de un programa con un impacto mínimo.\n",
    "\n",
    "Algunos patrones de este estilo son: *`Decorator`*, *`Adapter`*, *`Bridge`*, *`Facade`*, *`Flyweight`* y *`Proxy`*."
   ]
  },
  {
   "cell_type": "markdown",
   "metadata": {
    "slideshow": {
     "slide_type": "slide"
    }
   },
   "source": [
    "### De comportamiento. \n",
    "\n",
    "Fundamentalmente establecen unos comportamientos especificos, en los que nuestros\n",
    "objetos juegan un papel predeterminado por el patrón para resolver un determinado\n",
    "problema.\n",
    "\n",
    "Algunos de ellos son: *`Strategy`*, *`Chain of Responsability`*, *`Command`*, *`Interpreter`*,\n",
    "*`Iterator`*, *`Memoize`*, *`Observer`*, *`Pub/Sub`* y *`Visitor`*."
   ]
  },
  {
   "cell_type": "markdown",
   "metadata": {
    "slideshow": {
     "slide_type": "slide"
    }
   },
   "source": [
    "### Cómo resuelven los patrones los problemas de diseño\n",
    "\n",
    "Los patrones de diseño resuelven muchos problemas del diseño OOP, y lo hacen de muchas formas diferentes. A continuación se muestran algunos de estos problemas y cómo los solucionan los patrones."
   ]
  },
  {
   "cell_type": "markdown",
   "metadata": {
    "slideshow": {
     "slide_type": "slide"
    }
   },
   "source": [
    "#### Encontrar los objetos adecuados\n",
    "\n",
    "Lo más complicado del diseño orientado a objetos es descomponer un sistema en objetos. La tarea es difícil porque entran en juego muchos factores: encapsulación, granularidad, dependencia, flexibilidad, rendimiento, evolución, reutilización, etcétera, etcétera. Todos ellos influyen en la descomposición, muchas veces de formas opuestas."
   ]
  },
  {
   "cell_type": "markdown",
   "metadata": {
    "slideshow": {
     "slide_type": "slide"
    }
   },
   "source": [
    "Las metodologías orientadas a objetos permiten muchos enfoques diferentes."
   ]
  },
  {
   "cell_type": "markdown",
   "metadata": {
    "slideshow": {
     "slide_type": "slide"
    }
   },
   "source": [
    "1) Podemos escribir la descripción de un problema, extraer los nombres y verbos, y crear las correspondientes clases y operaciones. "
   ]
  },
  {
   "cell_type": "markdown",
   "metadata": {
    "slideshow": {
     "slide_type": "fragment"
    }
   },
   "source": [
    "2) O podemos centrarnos en las colaboraciones y responsabilidades de nuestro sistema."
   ]
  },
  {
   "cell_type": "markdown",
   "metadata": {
    "slideshow": {
     "slide_type": "fragment"
    }
   },
   "source": [
    "3) O modelar el mundo real y traducir al diseño los objetos encontrados durante el análisis."
   ]
  },
  {
   "cell_type": "markdown",
   "metadata": {
    "slideshow": {
     "slide_type": "slide"
    }
   },
   "source": [
    "Siempre habrá discrepancias sobre qué enfoque es mejor. Por ejemplo, el modelado estricto del mundo real conduce a un sistema que refleja la necesidad actual, pero no necesariamente las futuras."
   ]
  },
  {
   "cell_type": "markdown",
   "metadata": {
    "slideshow": {
     "slide_type": "slide"
    }
   },
   "source": [
    "Los patrones de diseño ayudan a identificar abstracciones menos obvias y los objetos que las expresan. Por ejemplo, los objetos que representan un proceso o algoritmo no tienen lugar en la naturaleza, y sin embargo son una parte crucial de los diseños flexibles."
   ]
  },
  {
   "cell_type": "markdown",
   "metadata": {
    "slideshow": {
     "slide_type": "slide"
    }
   },
   "source": [
    "El patrón *Strategy* describe cómo implementar familias intercambiables de algoritmos. El patrón *State* representa cada estado de una entidad como un objeto. Estos objetos rara vez se encuentran durante el análisis o incluso en las primeras etapas del diseño; son descubiertos más tarde, mientras se trata de hacer al diseño más flexible y reutilizable."
   ]
  },
  {
   "cell_type": "markdown",
   "metadata": {
    "slideshow": {
     "slide_type": "slide"
    }
   },
   "source": [
    "#### Determinar la granularidad\n",
    "\n",
    "Los objetos pueden variar enormemente en tamaño y número. Pueden representar cualquier cosa, desde el hardware hasta aplicaciones completas. ¿Cómo decidir entonces qué debería ser un objeto?"
   ]
  },
  {
   "cell_type": "markdown",
   "metadata": {
    "slideshow": {
     "slide_type": "slide"
    }
   },
   "source": [
    "Los patrones de diseño también se encargan de esta cuestión. El patrón *Facade* describe cómo representar subsistemas completos como objetos, y el patrón *Flyweight* cómo permitir un gran número de objetos de granularidad muy fina."
   ]
  },
  {
   "cell_type": "markdown",
   "metadata": {
    "slideshow": {
     "slide_type": "slide"
    }
   },
   "source": [
    "Otros patrones de diseño describen formas concretas de descomponer un objeto en otros más pequeños. Los patrones *Abstract Factory* y *Builder* producen objetos cuya única responsabilidad es crear otros objetos. El patrón *Visitor* y el *Command* dan lugar a objetos cuya única responsabilidad es implementar una petición en otro objeto o grupo de objetos."
   ]
  },
  {
   "cell_type": "markdown",
   "metadata": {
    "slideshow": {
     "slide_type": "slide"
    }
   },
   "source": [
    "#### Especificar las interfaces\n",
    "\n",
    "Cada operación declarada por un objeto especifica el nombre de la operación, los objetos que toma como parámetros y el valor de retomo de la operación. Esto es lo que se conoce como la **signatura** de la operación. Al conjunto de todas las signaturas definidas por las operaciones de un objeto se le denomina la **interfaz** del objeto."
   ]
  },
  {
   "cell_type": "markdown",
   "metadata": {
    "slideshow": {
     "slide_type": "slide"
    }
   },
   "source": [
    "Dicha interfaz caracteriza al conjunto completo de peticiones que se pueden enviar al objeto. Cualquier petición que concuerde con una signatura de la interfaz puede ser enviada al objeto."
   ]
  },
  {
   "cell_type": "markdown",
   "metadata": {
    "slideshow": {
     "slide_type": "slide"
    }
   },
   "source": [
    "Las interfaces son fundamentales en los sistemas orientados a objetos. Los objetos sólo se conocen a través de su interfaz. No hay modo de saber nada de un objeto o pedirle que haga nada si no es a través de su interfaz. La interfaz de un objeto no dice nada acerca de su implementación —distintos objetos son libres de implementar las peticiones de forma diferente—. Eso significa que dos objetos con implementaciones completamente diferentes pueden tener interfaces idénticas."
   ]
  },
  {
   "cell_type": "markdown",
   "metadata": {
    "slideshow": {
     "slide_type": "slide"
    }
   },
   "source": [
    "Cuando se envía una petición a un objeto, la operación concreta que se ejecuta depende tanto de la petición como del objeto que la recibe. Objetos diferentes que soportan peticiones idénticas pueden tener distintas implementaciones de las operaciones que satisfacen esas peticiones. La asociación en tiempo de ejecución entre una petición a un objeto y una de sus operaciones es lo que se conoce como **enlace dinámico**."
   ]
  },
  {
   "cell_type": "markdown",
   "metadata": {
    "slideshow": {
     "slide_type": "slide"
    }
   },
   "source": [
    "El enlace dinámico significa que enviar una petición no nos liga a una implementación particular hasta el tiempo de ejecución. Por tanto, podemos escribir programas que esperen un objeto con una determinada interfaz, sabiendo que cualquier objeto que tenga la interfaz correcta aceptará la petición."
   ]
  },
  {
   "cell_type": "markdown",
   "metadata": {
    "slideshow": {
     "slide_type": "slide"
    }
   },
   "source": [
    "Más aún, el enlace dinámico nos permite sustituir objetos __en tiempo de ejecución__ por otros que tengan la misma interfaz. Esta capacidad de sustitución es lo que se conoce como **polimorfismo**, y es un concepto clave en los sistemas orientados a objetos. Permite que un cliente haga pocas suposiciones sobre otros objetos aparte de que permitan una interfaz determinada. El polimorfismo simplifica las definiciones de los clientes, desacopla unos objetos de otros y permite que varíen las relaciones entre ellos en tiempo de ejecución."
   ]
  },
  {
   "cell_type": "markdown",
   "metadata": {
    "slideshow": {
     "slide_type": "slide"
    }
   },
   "source": [
    "Los patrones de diseño ayudan a definir interfaces identificando sus elementos clave y los tipos de datos que se envían a la interfaz. Un patrón de diseño también puede decir lo\n",
    "que __no debemos poner__ en la interfaz."
   ]
  },
  {
   "cell_type": "markdown",
   "metadata": {
    "slideshow": {
     "slide_type": "slide"
    }
   },
   "source": [
    "El patrón *Memento* es un buen ejemplo de esto. Dicho patrón describe cómo encapsular y guardar el estado interno de un objeto para que éste pueda volver a ese estado posteriormente.\n",
    "\n",
    "El patrón estipula que los objetos deben definir dos interfaces: una restringida, que permita a los clientes albergar y copiar el estado a recordar, y otra protegida que sólo pueda usar el objeto original para almacenar y recuperar dicho estado."
   ]
  },
  {
   "cell_type": "markdown",
   "metadata": {
    "slideshow": {
     "slide_type": "slide"
    }
   },
   "source": [
    "Los patrones de diseño también especifican relaciones entre interfaces. En\n",
    "concreto, muchas veces requieren que algunas clases tengan interfaces\n",
    "parecidas, o imponen restricciones a las interfaces de algunas clases. Por\n",
    "ejemplo, tanto el patrón *Decorator* como *Proxy* requieren que ciertas interfaces\n",
    "sean idénticas en determinados objetos. En el patrón *Visitor*, la interfaz\n",
    "Visitante debe reflejar todas las clases de objetos que pueden ser visitados."
   ]
  },
  {
   "cell_type": "markdown",
   "metadata": {
    "slideshow": {
     "slide_type": "slide"
    }
   },
   "source": [
    "#### Diseñar para el cambio\n",
    "\n",
    "La clave para maximizar la reutilización reside diseñar los sistemas de manera que puedan evolucionar."
   ]
  },
  {
   "cell_type": "markdown",
   "metadata": {
    "slideshow": {
     "slide_type": "slide"
    }
   },
   "source": [
    "Los patrones de diseño ayudan al asegurar que un sistema pueda cambiar de\n",
    "formas concretas. Cada patrón deja que algún aspecto de la \n",
    "estructura del sistema varíe independientemente de los otros, haciendo así al sistema más robusto ."
   ]
  },
  {
   "cell_type": "markdown",
   "metadata": {
    "slideshow": {
     "slide_type": "slide"
    }
   },
   "source": [
    "Algunas de las causas comunes de rediseño (junto con los patrones de diseño que lo resuelven) son:"
   ]
  },
  {
   "cell_type": "markdown",
   "metadata": {
    "slideshow": {
     "slide_type": "slide"
    }
   },
   "source": [
    "- **Crear un objeto especificando su clase**. Especificar un nombre de clase al crear un objeto nos liga a una implementación concreta en vez de a una interfaz. Esto puede complicar los cambios futuros. Para evitarlo, debemos crear los objetos de forma\n",
    "indirecta: Ver *Abstract Factory*, *Factory Method* y *Prototype*."
   ]
  },
  {
   "cell_type": "markdown",
   "metadata": {
    "slideshow": {
     "slide_type": "slide"
    }
   },
   "source": [
    "- **Dependencia de operaciones concretas**. Cuando especificamos una determinada operación, estamos ligándonos a una forma de satisfacer una petición. Evitando ligar las peticiones al código, hacemos más fácil cambiar el modo de satisfacer una petición, tanto en tiempo de compilación como en tiempo de ejecución. Ver *Chain of Responsibility*, *Command*."
   ]
  },
  {
   "cell_type": "markdown",
   "metadata": {
    "slideshow": {
     "slide_type": "slide"
    }
   },
   "source": [
    "- **Dependencia de plataforma**. Las interfaces externas de los sistemas operativos y las interfaces de programación de aplicaciones (API) varían para las diferentes plataformas hardware y software. El software que depende de una plataforma concreta será más difícil de portar a otras plataformas. Incluso puede resultar difícil mantenerlo actualizado en su plataforma nativa. Por tanto, es importante diseñar nuestros sistemas de manera que se limiten sus dependencias de plataforma. Ver: *Abstract Factory*, *Bridge*."
   ]
  },
  {
   "cell_type": "markdown",
   "metadata": {
    "slideshow": {
     "slide_type": "slide"
    }
   },
   "source": [
    "- **Dependencia de las representaciones o implementaciones**. Los clientes de un objeto que saben cómo se representa, se almacena, se localiza o se implementa, quizá deban ser modificados cuando cambie dicho objeto. Ocultar esta información a los clientes previene los cambios en cascada. Ver *Abstract Factory*, *Bridge*, *Memento* o *Proxy*."
   ]
  },
  {
   "cell_type": "markdown",
   "metadata": {
    "slideshow": {
     "slide_type": "slide"
    }
   },
   "source": [
    "- **Dependencias algorítmicas**. Muchas veces los algoritmos se amplían, optimizan o sustituyen por otros durante el desarrollo y posterior reutilización. Los objetos que dependen de un algoritmo tendrán que cambiar cuando éste cambie. Por tanto, aquellos algoritmos que es probable que cambien deberían estar aislados. Ver: *Builder*, *Iterator*, *Strategy*, *Template Method* y *Visitor*."
   ]
  },
  {
   "cell_type": "markdown",
   "metadata": {
    "slideshow": {
     "slide_type": "slide"
    }
   },
   "source": [
    "- **Fuerte acoplamiento**. Las clases que están fuertemente acopladas son difíciles de reutilizar por separado, puesto que dependen unas de otras. El fuerte acoplamiento lleva a sistemas monolíticos, en los que no se puede cambiar o quitar una clase sin entender y cambiar muchas otras. El sistema se convierte así en algo muy denso que resulta difícil de aprender, portar y mantener."
   ]
  },
  {
   "cell_type": "markdown",
   "metadata": {
    "slideshow": {
     "slide_type": "slide"
    }
   },
   "source": [
    "  El bajo acoplamiento aumenta la probabilidad de que una clase pueda ser reutilizada y de que un sistema pueda aprenderse, portarse, modificarse y extenderse más fácilmente. Los patrones de diseño hacen uso de técnicas como al acoplamiento abstracto y la estructuración en capas para promover sistemas escasamente acoplados. Ver: *Abstract Factory*, *Bridge*, *Chain of Responsibility*, *Command*, *Facade*, *Mediator* y *Observer*."
   ]
  },
  {
   "cell_type": "markdown",
   "metadata": {
    "slideshow": {
     "slide_type": "slide"
    }
   },
   "source": [
    "- **Incapacidad para modificar clases**. Quizá necesitemos el código fuente y no lo tengamos. O tal vez cualquier cambio requeriría modificar muchas de las subclases existentes. Los patrones de diseño ofrecen formas de modificar las clases en tales circunstancias. Ver *Adapter*, *Decorator* y *Visitor*."
   ]
  },
  {
   "cell_type": "markdown",
   "metadata": {
    "slideshow": {
     "slide_type": "slide"
    }
   },
   "source": [
    "### Princípios de diseño OO"
   ]
  },
  {
   "cell_type": "markdown",
   "metadata": {
    "slideshow": {
     "slide_type": "slide"
    }
   },
   "source": [
    "#### Favorecer el bajo acoplamiento\n",
    "\n",
    "Nuestro primer principio básico de diseño es favorecer siempre un bajo acoplamiento entre objetos que interactuan."
   ]
  },
  {
   "cell_type": "markdown",
   "metadata": {
    "slideshow": {
     "slide_type": "slide"
    }
   },
   "source": [
    "Se dice que dos objetos/módulos tiene un acoplamiento __bajo__ o __débil__ cuando pueden\n",
    "interactuar, pero el conocimiento que tienen cada uno del otro es pequeño.\n",
    "\n",
    "El acoplamiento se relaciona de forma inversa con la __cohesión__. Un bajo acoplamiento normalmente se correlaciona con una alta cohesión, y viceversa. Baja cohesión implica que un módulo o clase ejecuta tareas que no están muy relacionadas unas con otras, y por tanto pueden crear problemas como que el módulo se vuelva muy grande (Vease la S de SOLID)."
   ]
  },
  {
   "cell_type": "markdown",
   "metadata": {
    "slideshow": {
     "slide_type": "slide"
    }
   },
   "source": [
    "Un bajo acoplamiento permite:\n",
    "\n",
    "- Mejorar la facilidad de mantenimiento."
   ]
  },
  {
   "cell_type": "markdown",
   "metadata": {
    "slideshow": {
     "slide_type": "fragment"
    }
   },
   "source": [
    "- Aumentar las posibilidades de reuso."
   ]
  },
  {
   "cell_type": "markdown",
   "metadata": {
    "slideshow": {
     "slide_type": "fragment"
    }
   },
   "source": [
    "- Evitar el efecto onda, en el cual un cambio un una parte de software afecta a otras.\n",
    "\n",
    "Más información en la [entrada de la Wikipedia sobre acoplamiento](https://es.wikipedia.org/wiki/Acoplamiento_(inform%C3%A1tica))"
   ]
  },
  {
   "cell_type": "markdown",
   "metadata": {
    "slideshow": {
     "slide_type": "slide"
    }
   },
   "source": [
    "#### Herencia frente a Composición\n",
    "\n",
    "Las dos técnicas más comunes para reutilizar funcionalidad en sistemas orientados a objetos son la herencia de clases y la composición de objetos. "
   ]
  },
  {
   "cell_type": "markdown",
   "metadata": {
    "slideshow": {
     "slide_type": "slide"
    }
   },
   "source": [
    "La herencia de clases permite __definir una implementación en términos de otra__. A esta forma de reutilización se la denomina reutilización de caja blanca: con la herencia, las interioridades de las clases padres suelen hacerse visibles a las subclases."
   ]
  },
  {
   "cell_type": "markdown",
   "metadata": {
    "slideshow": {
     "slide_type": "slide"
    }
   },
   "source": [
    "La composición de objetos es una alternativa a la herencia de clases. Ahora, la nueva funcionalidad se obtiene __ensamblando o componiendo objetos__. La composición de objetos requiere que los objetos a componer tengan interfaces bien definidas. Este estilo de reutilización se denomina reutilización de caja negr: los detalles internos no son visibles. Los objetos aparecen como \"cajas negras\"."
   ]
  },
  {
   "cell_type": "markdown",
   "metadata": {
    "slideshow": {
     "slide_type": "slide"
    }
   },
   "source": [
    "Tanto la herencia como la composición tienen sus ventajas e inconvenientes.\n",
    "\n",
    "La herencia se define en tiempo de compilación y es sencilla de usar. También hace que sea más fácil modificar una implementación que está siendo reutilizada. "
   ]
  },
  {
   "cell_type": "markdown",
   "metadata": {
    "slideshow": {
     "slide_type": "slide"
    }
   },
   "source": [
    "Pero la herencia de clases también tiene inconvenientes. En primer lugar, no se pueden cambiar las implementaciones heredadas en tiempo de ejecución. En segundo lugar, y lo que generalmente es peor, las clases padre suelen definir al menos parte de la representación física de sus subclases."
   ]
  },
  {
   "cell_type": "markdown",
   "metadata": {
    "slideshow": {
     "slide_type": "slide"
    }
   },
   "source": [
    "Como la herencia expone a una subclase los detalles de la implementación de su padre, suele decirse que \"la herencia rompe la encapsulación\". La implementación de una subclase esta tan vinculada a la de su padre que cualquier cambio en la implementación del padre obliga a cambiar la subclase."
   ]
  },
  {
   "cell_type": "markdown",
   "metadata": {
    "slideshow": {
     "slide_type": "slide"
    }
   },
   "source": [
    "La herencia tambien puede dificultar la reusabilidad. Si algún aspecto de la\n",
    "implementación no resulta apropiada para un nuevo problema, debemos reescribir\n",
    "o reemplazar la clase padre. Eso limita la flexibilidad y la reutilización.\n",
    "\n",
    "Una solución a esto es heredar sólo de clases abstractas, ya que éstas\n",
    "normalmente tienen poca o ninguna implementación."
   ]
  },
  {
   "cell_type": "markdown",
   "metadata": {
    "slideshow": {
     "slide_type": "slide"
    }
   },
   "source": [
    "La composición de objetos se puede definir dinámicamente, en tiempo de ejecución, a través de objetos que tienen referencias a otros objetos. La composición requiere que los objetos tengan en cuenta las interfaces de los otros, lo que a su vez requiere interfaces cuidadosamente diseñadas que no impidan que un objeto sea utilizado por otros."
   ]
  },
  {
   "cell_type": "markdown",
   "metadata": {
    "slideshow": {
     "slide_type": "slide"
    }
   },
   "source": [
    "Pero hay una ventaja en esto: puesto que a los objetos se accede sólo a través de sus interfaces, no se rompe su encapsulación. Cualquier objeto puede ser reemplazado en tiempo de ejecución por otro del mismo tipo."
   ]
  },
  {
   "cell_type": "markdown",
   "metadata": {
    "slideshow": {
     "slide_type": "slide"
    }
   },
   "source": [
    "Además, como la implementación de un objeto se escribirá en términos de interfaces de objetos, las dependencias de implementación son notablemente menores."
   ]
  },
  {
   "cell_type": "markdown",
   "metadata": {
    "slideshow": {
     "slide_type": "slide"
    }
   },
   "source": [
    "La composición de objetos produce otro efecto en el diseño del sistema. Optar por la composición de objetos frente a la herencia de clases ayuda a mantener cada clase encapsulada y centrada en una sola tarea."
   ]
  },
  {
   "cell_type": "markdown",
   "metadata": {
    "slideshow": {
     "slide_type": "slide"
    }
   },
   "source": [
    "De esta manera, nuestras clases y jerarquías de clases permanecerán pequeñas y será menos probable que se conviertan en monstruos inmanejables.\n",
    "\n",
    "Por otro lado, un diseño basado en la composición de objetos tendrá más objetos (al tener menos clases), y el comportamiento del sistema dependerá de sus relaciones en vez de estar definido en una clase."
   ]
  },
  {
   "cell_type": "markdown",
   "metadata": {
    "slideshow": {
     "slide_type": "slide"
    }
   },
   "source": [
    "Esto nos lleva a nuestro segundo principio del diseño orientado a objetos:\n",
    "\n",
    "**Favorecer la composición de objetos frente a la herencia de clases.**"
   ]
  },
  {
   "cell_type": "markdown",
   "metadata": {
    "slideshow": {
     "slide_type": "slide"
    }
   },
   "source": [
    "Aunque ambos sistemas tiene virtudes y defectos, la experiencia nos dice\n",
    "que se suele abusar de la herencia como técnica de reutilización, y que \n",
    "los diseños suelen ser más reutilizables (y más simples) si dependen \n",
    "más de la composición de objetos.\n",
    "\n",
    "En los patrones de diseño se verá la composición de objetos aplicada una y otra vez."
   ]
  },
  {
   "cell_type": "markdown",
   "metadata": {
    "slideshow": {
     "slide_type": "slide"
    }
   },
   "source": [
    "### Principios SOLID\n",
    "\n",
    "Los principios SOLID son un grupo de 5 principios, cuyas letras iniciales forman la palabra SOLID. Al traducir \n",
    "los principios, por supuesto, se pierde el juego de palabras, asi que los veremos por sus nombres en ingles."
   ]
  },
  {
   "cell_type": "markdown",
   "metadata": {
    "slideshow": {
     "slide_type": "slide"
    }
   },
   "source": [
    "- __S__ingle Responsabiliy\n",
    "- __O__pen / Close\n",
    "- __L__iskov Sustitution\n",
    "- __I__nterface Segregation\n",
    "- __D__ependency Inversion"
   ]
  },
  {
   "cell_type": "markdown",
   "metadata": {
    "slideshow": {
     "slide_type": "slide"
    }
   },
   "source": [
    "### SINGLE RESPONSABILIY (S)\n",
    "\n",
    "Principio de responsabilidad única: Cada clase debe tener una responsabilidad única\n",
    "y exclusiva. Si hace la comida, no saca la basura.\n",
    "  "
   ]
  },
  {
   "cell_type": "markdown",
   "metadata": {
    "slideshow": {
     "slide_type": "slide"
    }
   },
   "source": [
    "### OPEN / CLOSE (O)\n",
    "\n",
    "Principio de abierto para extensión, pero cerrado para modificación: Las clases deben estar\n",
    "abiertas para ampliación o extensión (Normalmente mediante herencia), pero cerradas para modificación. Esto \n",
    "nos permite usar las clases sin correr el riesgo de que cambien, a la vez que nos permite ampliarlas\n",
    "o modificarlas sin perjudicar a otros usuarios\n",
    "  "
   ]
  },
  {
   "cell_type": "markdown",
   "metadata": {
    "slideshow": {
     "slide_type": "slide"
    }
   },
   "source": [
    "### LISKOV SUSTITUTION (L)\n",
    "\n",
    "Principio de sustitución de Liskov: Creado por Barbara Liskov, tiene una bonita\n",
    "  formulación matemática: Sea $Φ(x)$ una propiedad comprobable de todos los objetos $x$ de tipo $T$.\n",
    "  Entonces, $Φ(y)$ debería ser verdadera para todo objeto $y$ de tipo $S$ si $S$ es un subtipo o derivado\n",
    "  de $T$. La verdad es que visto asi, asusta un poco, pero en realidad es una idea sencilla; biene a decir\n",
    "  que cualquier objeto que pertenezca a una clase, tiene que poder ser sustuido por cualquier objeto que\n",
    "  pertenezca a una subclase.\n",
    "  "
   ]
  },
  {
   "cell_type": "markdown",
   "metadata": {
    "slideshow": {
     "slide_type": "slide"
    }
   },
   "source": [
    "  Quiza un ejemplo sea la mejor forma de verlo: Si tenemos una clase ``Mamiferos``, de la cual derivamos\n",
    "  dos clases, ``Perros`` y ``Gatos``, entonces, en cualquier sitio donde estemos usando una variable de\n",
    "  tipo ``Mamífero``, _deberíamos ser capaces de sustituir_ esa variable por una de tipo ``Gatos``, o una\n",
    "  de tipo ``Perros`` (o cualquier otro subtipo o subtipos posibles, ``Delfines``, ``Dalmatas``,...) sin que\n",
    "  se produzca ningun error. Es decir, que en las relaciones de herencia, si la clase `B` deriva de `A`, entonces \n",
    "  `B` es un tipo de `A`.\n",
    "  "
   ]
  },
  {
   "cell_type": "markdown",
   "metadata": {
    "slideshow": {
     "slide_type": "slide"
    }
   },
   "source": [
    "### INTERFACE SEGREGATION\n",
    "\n",
    "Principio de separación de interfaces: Es preferible tener muchas interfaces, especificas\n",
    "para cada cliente, antes que una unica interfaz de uso general."
   ]
  },
  {
   "cell_type": "markdown",
   "metadata": {
    "slideshow": {
     "slide_type": "slide"
    }
   },
   "source": [
    "### DEPENDENCY INVERSION\n",
    "\n",
    "Principio de inversión de dependencias, siempre se debe preferir depender\n",
    "de una abstrabción, antes que de una implementacion."
   ]
  },
  {
   "cell_type": "markdown",
   "metadata": {
    "slideshow": {
     "slide_type": "slide"
    }
   },
   "source": [
    "### El principip de Mínima Sorpresa\n",
    "\n",
    "El __Principio de la Mínima Sorpresa__ (*Principle of least astonishment*) se\n",
    "aplica al diseño de interfaces, diseño de *software* y la ergonomía. Establece que\n",
    "cuando haya un conflicto o ambigüedad entre dos elementos, el comportamiento ha de ser el\n",
    "que genere la mínima sorpresa por parte del usuario.\n",
    "\n",
    "Más informalmente, el principio establece que los componentes de un sistema\n",
    "deben comportarwse de la forma en que la mayoría de los usuarios esperarían que\n",
    "se comportase; el comportamiento nunca debería asombrar o sorprender al usuario."
   ]
  },
  {
   "cell_type": "markdown",
   "metadata": {
    "slideshow": {
     "slide_type": "slide"
    }
   },
   "source": [
    "### El principio No Te Repitas\n",
    "\n",
    "El principio __No te repitas__ (en inglés *Don't Repeat Yourself* o DRY, también\n",
    "conocido como Una vez y sólo una) promueve la reducción de la duplicación,\n",
    "especialmente en computación. Según este principio toda \"pieza de información\"\n",
    "nunca debería ser duplicada, debido a que esto incrementa la dificultad\n",
    "en los cambios y evolución posterior, perjudica la claridad y crea un\n",
    "espacio para posibles inconsistencias. Los términos \"pieza de información\" son\n",
    "usados en un sentido amplio, abarcando:\n",
    "\n",
    "- Datos almacenados en una base de datos\n",
    "\n",
    "- Código fuente de un programa de software\n",
    "\n",
    "- Información textual o documentación\n",
    "\n",
    "Cuando el principio DRY se aplica de forma eficiente, los cambios en cualquier parte\n",
    "del proceso requieren cambios en un único lugar."
   ]
  },
  {
   "cell_type": "markdown",
   "metadata": {
    "slideshow": {
     "slide_type": "slide"
    }
   },
   "source": [
    "### Fuente Única de Verdad\n",
    "\n",
    "El principio de __Fuente única de verdad__, (*Single source of truth* o SSOT) o __fuente \n",
    "única fiable__ nos dice que debemos estructurar los modelos de información, y los\n",
    "esquemas de detos asociados de forma que:\n",
    "\n",
    "**para todo dato, este es gestionado (o editado) en un únido lugar**"
   ]
  },
  {
   "cell_type": "markdown",
   "metadata": {
    "slideshow": {
     "slide_type": "slide"
    }
   },
   "source": [
    "Cualquier posible enlace o acceso al mismo (posiblemente\n",
    "en otras tablas de una base de datos relacional) son unicamente por referencia. Como\n",
    "todas estas referencias se refieren a la \"fuente de verdad\", cuando se actualize ese\n",
    "elemento el cambio se propagara a traves de todo el sistema, sin que exista posibilidad\n",
    "de que quede copias obsoletas en algún lugar."
   ]
  },
  {
   "cell_type": "markdown",
   "metadata": {
    "slideshow": {
     "slide_type": "slide"
    }
   },
   "source": [
    "## Cómo no usar los patrones de Diseño\n",
    "\n",
    "Los patrones de diseño __no deberían ser aplicados indiscriminadamente__.\n",
    "\n",
    "Muchas veces éstos consiguen la flexibilidad y la variabilidad a costa de introducir niveles adicionales de indirección, y eso puede complicar un diseño o disminuir el rendimiento.\n",
    "\n",
    "Un patrón de diseño sólo debería ser aplicado __cuando la flexibilidad que proporcione sea realmente necesaria__. Las secciones de Consecuencias son las más valiosas a la hora de evaluar los beneficios y los costes de un patrón."
   ]
  }
 ],
 "metadata": {
  "celltoolbar": "Slideshow",
  "kernelspec": {
   "display_name": "Python 3",
   "language": "python",
   "name": "python3"
  },
  "language_info": {
   "codemirror_mode": {
    "name": "ipython",
    "version": 3
   },
   "file_extension": ".py",
   "mimetype": "text/x-python",
   "name": "python",
   "nbconvert_exporter": "python",
   "pygments_lexer": "ipython3",
   "version": "3.6.9"
  }
 },
 "nbformat": 4,
 "nbformat_minor": 2
}
